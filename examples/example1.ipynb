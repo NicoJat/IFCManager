{
 "cells": [
  {
   "cell_type": "code",
   "execution_count": 3,
   "id": "3de9ccb3",
   "metadata": {},
   "outputs": [
    {
     "name": "stdout",
     "output_type": "stream",
     "text": [
      "Extracted elements: 89\n",
      "{'1YMpECnoXAAgd3TsblgkRb': {'id': '1YMpECnoXAAgd3TsblgkRb', 'name': 'M_Concrete-Rectangular Beam:250 x 500mm:416913', 'type': 'IfcBeam', 'geometry': {'type': 'mesh', 'vertices': [[-1.7213125009910568, 3.8713542939384933, 2.600000000000265], [3.478687499008946, 3.8713542939384933, 2.600000000000265], [3.478687499008946, 3.8713542939384684, 2.299999999999748], [-1.7213125009910568, 3.8713542939384684, 2.299999999999748], [3.478687499008946, 4.121354293938473, 2.2999999999997347], [-1.7213125009910568, 4.121354293938473, 2.2999999999997347], [3.478687499008946, 4.121354293938497, 2.600000000000252], [-1.7213125009910568, 4.121354293938497, 2.600000000000252]], 'triangles': [[1, 0, 3], [2, 1, 3], [2, 3, 5], [4, 2, 5], [4, 5, 7], [6, 4, 7], [6, 7, 0], [1, 6, 0], [3, 0, 5], [0, 7, 5], [4, 1, 2], [4, 6, 1]]}, 'material': {'Concrete, Cast-in-Place gray': {'name': 'Concrete, Cast-in-Place gray', 'type': 'material', 'properties': {}}}, 'profile': None, 'properties': {'Pset_BeamCommon.IsExternal': False, 'Pset_BeamCommon.LoadBearing': True, 'Pset_BeamCommon.id': 313, 'Pset_BeamCommon.Slope': 0.0, 'Pset_BeamCommon.Reference': '250 x 500mm', 'Pset_BeamCommon.Span': 5570.000000000003, 'Pset_BeamCommon.Roll': 0.0, 'Pset_EnvironmentalImpactIndicators.Reference': '250 x 500mm', 'Pset_EnvironmentalImpactIndicators.id': 314, 'Pset_ReinforcementBarPitchOfBeam.Reference': '250 x 500mm', 'Pset_ReinforcementBarPitchOfBeam.id': 316, 'Qto_BeamBaseQuantities.Length': 5570.000000000003, 'Qto_BeamBaseQuantities.CrossSectionArea': 0.07500000000012796, 'Qto_BeamBaseQuantities.OuterSurfaceArea': 5.720000000005508, 'Qto_BeamBaseQuantities.GrossSurfaceArea': 5.870000000005764, 'Qto_BeamBaseQuantities.NetSurfaceArea': 5.87000000000568, 'Qto_BeamBaseQuantities.GrossVolume': 0.39000000000066565, 'Qto_BeamBaseQuantities.NetVolume': 0.3900000000006783, 'Qto_BeamBaseQuantities.id': 327}}, '1YMpECnoXAAgd3TsblgkRl': {'id': '1YMpECnoXAAgd3TsblgkRl', 'name': 'M_Concrete-Rectangular Beam:250 x 500mm:416923', 'type': 'IfcBeam', 'geometry': {'type': 'mesh', 'vertices': [[-1.7213125009910677, -3.6836457060615, 2.600000000000266], [3.4786874990089327, -3.6836457060615, 2.600000000000266], [3.4786874990089327, -3.683645706061526, 2.299999999999749], [-1.7213125009910677, -3.683645706061526, 2.299999999999749], [3.4786874990089327, -3.433645706061522, 2.299999999999734], [-1.7213125009910677, -3.433645706061522, 2.299999999999734], [3.4786874990089327, -3.433645706061493, 2.600000000000251], [-1.7213125009910677, -3.433645706061493, 2.600000000000251]], 'triangles': [[1, 0, 3], [2, 1, 3], [2, 3, 5], [4, 2, 5], [4, 5, 7], [6, 4, 7], [6, 7, 0], [1, 6, 0], [3, 0, 5], [0, 7, 5], [4, 1, 2], [4, 6, 1]]}, 'material': {'Concrete, Cast-in-Place gray': {'name': 'Concrete, Cast-in-Place gray', 'type': 'material', 'properties': {}}}, 'profile': None, 'properties': {'Pset_BeamCommon.IsExternal': False, 'Pset_BeamCommon.LoadBearing': True, 'Pset_BeamCommon.id': 359, 'Pset_BeamCommon.Slope': 0.0, 'Pset_BeamCommon.Reference': '250 x 500mm', 'Pset_BeamCommon.Roll': 0.0, 'Pset_BeamCommon.Span': 5570.000000000001, 'Pset_EnvironmentalImpactIndicators.Reference': '250 x 500mm', 'Pset_EnvironmentalImpactIndicators.id': 360, 'Pset_ReinforcementBarPitchOfBeam.Reference': '250 x 500mm', 'Pset_ReinforcementBarPitchOfBeam.id': 362, 'Qto_BeamBaseQuantities.Length': 5570.000000000001, 'Qto_BeamBaseQuantities.CrossSectionArea': 0.07500000000012813, 'Qto_BeamBaseQuantities.OuterSurfaceArea': 5.720000000005532, 'Qto_BeamBaseQuantities.GrossSurfaceArea': 5.870000000005788, 'Qto_BeamBaseQuantities.NetSurfaceArea': 5.870000000005677, 'Qto_BeamBaseQuantities.GrossVolume': 0.39000000000066637, 'Qto_BeamBaseQuantities.NetVolume': 0.3900000000006782, 'Qto_BeamBaseQuantities.id': 373}}, '2e3KIcTBT93wdBtSLDrMFt': {'id': '2e3KIcTBT93wdBtSLDrMFt', 'name': 'M_Concrete-Rectangular Beam:250 x 500mm:418561', 'type': 'IfcBeam', 'geometry': {'type': 'mesh', 'vertices': [[-1.6713125009910568, -1.0786457231978288, 2.6000000000000076], [3.4536874990089386, -1.0786457231978288, 2.6000000000000076], [3.4536874990089386, -1.0786457231978532, 2.300000000000006], [-1.6713125009910568, -1.0786457231978532, 2.300000000000006], [3.4536874990089386, -0.8286457231978498, 2.2999999999999923], [-1.6713125009910568, -0.8286457231978498, 2.2999999999999923], [3.4536874990089386, -0.8286457231978239, 2.599999999999994], [-1.6713125009910568, -0.8286457231978239, 2.599999999999994]], 'triangles': [[1, 0, 3], [2, 1, 3], [2, 3, 5], [4, 2, 5], [4, 5, 7], [6, 4, 7], [6, 7, 0], [1, 6, 0], [3, 0, 5], [0, 7, 5], [4, 1, 2], [4, 6, 1]]}, 'material': {'Concrete, Cast-in-Place gray': {'name': 'Concrete, Cast-in-Place gray', 'type': 'material', 'properties': {}}}, 'profile': None, 'properties': {'Pset_BeamCommon.IsExternal': False, 'Pset_BeamCommon.LoadBearing': True, 'Pset_BeamCommon.id': 476, 'Pset_BeamCommon.Slope': 0.0, 'Pset_BeamCommon.Reference': '250 x 500mm', 'Pset_BeamCommon.Roll': 0.0, 'Pset_BeamCommon.Span': 5570.000000000001, 'Pset_EnvironmentalImpactIndicators.Reference': '250 x 500mm', 'Pset_EnvironmentalImpactIndicators.id': 477, 'Pset_ReinforcementBarPitchOfBeam.Reference': '250 x 500mm', 'Pset_ReinforcementBarPitchOfBeam.id': 479, 'Qto_BeamBaseQuantities.Length': 5570.000000000001, 'Qto_BeamBaseQuantities.CrossSectionArea': 0.07499999999999916, 'Qto_BeamBaseQuantities.OuterSurfaceArea': 5.63750000000014, 'Qto_BeamBaseQuantities.GrossSurfaceArea': 5.787500000000138, 'Qto_BeamBaseQuantities.NetSurfaceArea': 5.787500000000044, 'Qto_BeamBaseQuantities.GrossVolume': 0.3843749999999954, 'Qto_BeamBaseQuantities.NetVolume': 0.3843750000000067, 'Qto_BeamBaseQuantities.id': 490}}, '2e3KIcTBT93wdBtSLDrMFR': {'id': '2e3KIcTBT93wdBtSLDrMFR', 'name': 'M_Concrete-Rectangular Beam:250 x 500mm:418605', 'type': 'IfcBeam', 'geometry': {'type': 'mesh', 'vertices': [[-1.7213125009910588, 3.771354293938501, 2.6000000000000005], [-1.7213125009910588, -0.7536457231978235, 2.6000000000000005], [-1.9713125009910617, -0.7536457231978235, 2.6000000000000005], [-1.9713125009910617, 3.771354293938501, 2.6000000000000005], [-1.9713125009910621, -0.7536457231978235, 2.299999999999999], [-1.9713125009910621, 3.771354293938501, 2.299999999999999], [-1.7213125009910586, -0.7536457231978235, 2.299999999999999], [-1.7213125009910586, 3.771354293938501, 2.299999999999999]], 'triangles': [[1, 0, 3], [2, 1, 3], [2, 3, 5], [4, 2, 5], [4, 5, 7], [6, 4, 7], [6, 7, 0], [1, 6, 0], [3, 0, 5], [0, 7, 5], [4, 1, 2], [4, 6, 1]]}, 'material': {'Concrete, Cast-in-Place gray': {'name': 'Concrete, Cast-in-Place gray', 'type': 'material', 'properties': {}}}, 'profile': None, 'properties': {'Pset_BeamCommon.IsExternal': False, 'Pset_BeamCommon.LoadBearing': True, 'Pset_BeamCommon.id': 522, 'Pset_BeamCommon.Slope': 0.0, 'Pset_BeamCommon.Reference': '250 x 500mm', 'Pset_BeamCommon.Roll': 0.0, 'Pset_BeamCommon.Span': 4950.000017136324, 'Pset_EnvironmentalImpactIndicators.Reference': '250 x 500mm', 'Pset_EnvironmentalImpactIndicators.id': 523, 'Pset_ReinforcementBarPitchOfBeam.Reference': '250 x 500mm', 'Pset_ReinforcementBarPitchOfBeam.id': 525, 'Qto_BeamBaseQuantities.Length': 4950.000017136324, 'Qto_BeamBaseQuantities.CrossSectionArea': 0.07500000000000143, 'Qto_BeamBaseQuantities.OuterSurfaceArea': 4.9775000188500025, 'Qto_BeamBaseQuantities.GrossSurfaceArea': 5.1275000188500055, 'Qto_BeamBaseQuantities.NetSurfaceArea': 5.127500018850002, 'Qto_BeamBaseQuantities.GrossVolume': 0.33937500128523085, 'Qto_BeamBaseQuantities.NetVolume': 0.33937500128523057, 'Qto_BeamBaseQuantities.id': 536}}, '2e3KIcTBT93wdBtSLDrMEd': {'id': '2e3KIcTBT93wdBtSLDrMEd', 'name': 'M_Concrete-Rectangular Beam:250 x 500mm:418641', 'type': 'IfcBeam', 'geometry': {'type': 'mesh', 'vertices': [[-1.7213125009910648, -1.1536457231978223, 2.6000000000000005], [-1.7213125009910648, -3.3336457060614935, 2.6000000000000005], [-1.9713125009910677, -3.3336457060614935, 2.6000000000000005], [-1.9713125009910677, -1.1536457231978223, 2.6000000000000005], [-1.9713125009910681, -3.3336457060614935, 2.299999999999999], [-1.9713125009910681, -1.1536457231978223, 2.299999999999999], [-1.7213125009910646, -3.3336457060614935, 2.299999999999999], [-1.7213125009910646, -1.1536457231978223, 2.299999999999999]], 'triangles': [[1, 0, 3], [2, 1, 3], [2, 3, 5], [4, 2, 5], [4, 5, 7], [6, 4, 7], [6, 7, 0], [1, 6, 0], [3, 0, 5], [0, 7, 5], [4, 1, 2], [4, 6, 1]]}, 'material': {'Concrete, Cast-in-Place gray': {'name': 'Concrete, Cast-in-Place gray', 'type': 'material', 'properties': {}}}, 'profile': None, 'properties': {'Pset_BeamCommon.IsExternal': False, 'Pset_BeamCommon.LoadBearing': True, 'Pset_BeamCommon.id': 568, 'Pset_BeamCommon.Slope': 0.0, 'Pset_BeamCommon.Reference': '250 x 500mm', 'Pset_BeamCommon.Roll': 0.0, 'Pset_BeamCommon.Span': 2604.99998286367, 'Pset_EnvironmentalImpactIndicators.Reference': '250 x 500mm', 'Pset_EnvironmentalImpactIndicators.id': 569, 'Pset_ReinforcementBarPitchOfBeam.Reference': '250 x 500mm', 'Pset_ReinforcementBarPitchOfBeam.id': 571, 'Qto_BeamBaseQuantities.Length': 2604.99998286367, 'Qto_BeamBaseQuantities.CrossSectionArea': 0.07500000000000163, 'Qto_BeamBaseQuantities.OuterSurfaceArea': 2.3979999811500625, 'Qto_BeamBaseQuantities.GrossSurfaceArea': 2.547999981150066, 'Qto_BeamBaseQuantities.NetSurfaceArea': 2.5479999811500638, 'Qto_BeamBaseQuantities.GrossVolume': 0.1634999987147789, 'Qto_BeamBaseQuantities.NetVolume': 0.16349999871477836, 'Qto_BeamBaseQuantities.id': 582}}, '2e3KIcTBT93wdBtSLDrMHi': {'id': '2e3KIcTBT93wdBtSLDrMHi', 'name': 'M_Concrete-Rectangular Beam:250 x 500mm:418970', 'type': 'IfcBeam', 'geometry': {'type': 'mesh', 'vertices': [[3.7286874990089443, 3.7713542939384825, 2.6000000000000005], [3.7286874990089443, -0.7536457231978404, 2.6000000000000005], [3.47868749900894, -0.7536457231978404, 2.6000000000000005], [3.47868749900894, 3.7713542939384825, 2.6000000000000005], [3.47868749900894, -0.7536457231978404, 2.299999999999999], [3.47868749900894, 3.7713542939384825, 2.299999999999999], [3.7286874990089434, -0.7536457231978404, 2.299999999999999], [3.7286874990089434, 3.7713542939384825, 2.299999999999999]], 'triangles': [[1, 0, 3], [2, 1, 3], [2, 3, 5], [4, 2, 5], [4, 5, 7], [6, 4, 7], [6, 7, 0], [1, 6, 0], [3, 0, 5], [0, 7, 5], [4, 1, 2], [4, 6, 1]]}, 'material': {'Concrete, Cast-in-Place gray': {'name': 'Concrete, Cast-in-Place gray', 'type': 'material', 'properties': {}}}, 'profile': None, 'properties': {'Pset_BeamCommon.IsExternal': False, 'Pset_BeamCommon.LoadBearing': True, 'Pset_BeamCommon.id': 614, 'Pset_BeamCommon.Slope': 0.0, 'Pset_BeamCommon.Reference': '250 x 500mm', 'Pset_BeamCommon.Roll': 0.0, 'Pset_BeamCommon.Span': 4950.000017136321, 'Pset_EnvironmentalImpactIndicators.Reference': '250 x 500mm', 'Pset_EnvironmentalImpactIndicators.id': 615, 'Pset_ReinforcementBarPitchOfBeam.Reference': '250 x 500mm', 'Pset_ReinforcementBarPitchOfBeam.id': 617, 'Qto_BeamBaseQuantities.Length': 4950.000017136321, 'Qto_BeamBaseQuantities.CrossSectionArea': 0.07500000000000147, 'Qto_BeamBaseQuantities.OuterSurfaceArea': 4.977500018850006, 'Qto_BeamBaseQuantities.GrossSurfaceArea': 5.127500018850009, 'Qto_BeamBaseQuantities.NetSurfaceArea': 5.127500018850008, 'Qto_BeamBaseQuantities.GrossVolume': 0.33937500128523085, 'Qto_BeamBaseQuantities.NetVolume': 0.3393750012852311, 'Qto_BeamBaseQuantities.id': 628}}, '2e3KIcTBT93wdBtSLDrMH9': {'id': '2e3KIcTBT93wdBtSLDrMH9', 'name': 'M_Concrete-Rectangular Beam:250 x 500mm:419007', 'type': 'IfcBeam', 'geometry': {'type': 'mesh', 'vertices': [[3.7286874990089363, -1.1536457231978399, 2.6000000000000005], [3.7286874990089363, -3.3586457060615102, 2.6000000000000005], [3.478687499008932, -3.3586457060615102, 2.6000000000000005], [3.478687499008932, -1.1536457231978399, 2.6000000000000005], [3.478687499008932, -3.3586457060615102, 2.299999999999999], [3.478687499008932, -1.1536457231978399, 2.299999999999999], [3.728687499008936, -3.3586457060615102, 2.299999999999999], [3.728687499008936, -1.1536457231978399, 2.299999999999999]], 'triangles': [[1, 0, 3], [2, 1, 3], [2, 3, 5], [4, 2, 5], [4, 5, 7], [6, 4, 7], [6, 7, 0], [1, 6, 0], [3, 0, 5], [0, 7, 5], [4, 1, 2], [4, 6, 1]]}, 'material': {'Concrete, Cast-in-Place gray': {'name': 'Concrete, Cast-in-Place gray', 'type': 'material', 'properties': {}}}, 'profile': None, 'properties': {'Pset_BeamCommon.IsExternal': False, 'Pset_BeamCommon.LoadBearing': True, 'Pset_BeamCommon.id': 660, 'Pset_BeamCommon.Slope': 0.0, 'Pset_BeamCommon.Reference': '250 x 500mm', 'Pset_BeamCommon.Roll': 0.0, 'Pset_BeamCommon.Span': 2604.99998286367, 'Pset_EnvironmentalImpactIndicators.Reference': '250 x 500mm', 'Pset_EnvironmentalImpactIndicators.id': 661, 'Pset_ReinforcementBarPitchOfBeam.Reference': '250 x 500mm', 'Pset_ReinforcementBarPitchOfBeam.id': 663, 'Qto_BeamBaseQuantities.Length': 2604.99998286367, 'Qto_BeamBaseQuantities.CrossSectionArea': 0.07500000000000155, 'Qto_BeamBaseQuantities.OuterSurfaceArea': 2.425499981150064, 'Qto_BeamBaseQuantities.GrossSurfaceArea': 2.575499981150067, 'Qto_BeamBaseQuantities.NetSurfaceArea': 2.5754999811500636, 'Qto_BeamBaseQuantities.GrossVolume': 0.1653749987147787, 'Qto_BeamBaseQuantities.NetVolume': 0.1653749987147787, 'Qto_BeamBaseQuantities.id': 674}}, '2e3KIcTBT93wdBtSLDrMNR': {'id': '2e3KIcTBT93wdBtSLDrMNR', 'name': 'M_Concrete-Rectangular Beam:250 x 500mm:419117', 'type': 'IfcBeam', 'geometry': {'type': 'mesh', 'vertices': [[3.7286874990089443, 3.8713542939384755, 2.600000000000265], [8.928687499008948, 3.8713542939384755, 2.600000000000265], [8.928687499008948, 3.871354293938451, 2.299999999999748], [3.7286874990089443, 3.871354293938451, 2.299999999999748], [8.928687499008948, 4.121354293938455, 2.2999999999997347], [3.7286874990089443, 4.121354293938455, 2.2999999999997347], [8.928687499008948, 4.121354293938479, 2.600000000000252], [3.7286874990089443, 4.121354293938479, 2.600000000000252]], 'triangles': [[1, 0, 3], [2, 1, 3], [2, 3, 5], [4, 2, 5], [4, 5, 7], [6, 4, 7], [6, 7, 0], [1, 6, 0], [3, 0, 5], [0, 7, 5], [4, 1, 2], [4, 6, 1]]}, 'material': {'Concrete, Cast-in-Place gray': {'name': 'Concrete, Cast-in-Place gray', 'type': 'material', 'properties': {}}}, 'profile': None, 'properties': {'Pset_BeamCommon.IsExternal': False, 'Pset_BeamCommon.LoadBearing': True, 'Pset_BeamCommon.id': 776, 'Pset_BeamCommon.Slope': 0.0, 'Pset_BeamCommon.Reference': '250 x 500mm', 'Pset_BeamCommon.Roll': 0.0, 'Pset_BeamCommon.Span': 5570.000000000003, 'Pset_EnvironmentalImpactIndicators.Reference': '250 x 500mm', 'Pset_EnvironmentalImpactIndicators.id': 777, 'Pset_ReinforcementBarPitchOfBeam.Reference': '250 x 500mm', 'Pset_ReinforcementBarPitchOfBeam.id': 779, 'Qto_BeamBaseQuantities.Length': 5570.000000000003, 'Qto_BeamBaseQuantities.CrossSectionArea': 0.07500000000012796, 'Qto_BeamBaseQuantities.OuterSurfaceArea': 5.720000000005506, 'Qto_BeamBaseQuantities.GrossSurfaceArea': 5.870000000005762, 'Qto_BeamBaseQuantities.NetSurfaceArea': 5.870000000005681, 'Qto_BeamBaseQuantities.GrossVolume': 0.3900000000006657, 'Qto_BeamBaseQuantities.NetVolume': 0.39000000000067836, 'Qto_BeamBaseQuantities.id': 790}}, '2e3KIcTBT93wdBtSLDrMNP': {'id': '2e3KIcTBT93wdBtSLDrMNP', 'name': 'M_Concrete-Rectangular Beam:250 x 500mm:419119', 'type': 'IfcBeam', 'geometry': {'type': 'mesh', 'vertices': [[3.7286874990089323, -3.6836457060615175, 2.600000000000266], [8.928687499008936, -3.6836457060615175, 2.600000000000266], [8.928687499008936, -3.6836457060615437, 2.299999999999749], [3.7286874990089323, -3.6836457060615437, 2.299999999999749], [8.928687499008936, -3.4336457060615397, 2.299999999999734], [3.7286874990089323, -3.4336457060615397, 2.299999999999734], [8.928687499008936, -3.4336457060615104, 2.600000000000251], [3.7286874990089323, -3.4336457060615104, 2.600000000000251]], 'triangles': [[1, 0, 3], [2, 1, 3], [2, 3, 5], [4, 2, 5], [4, 5, 7], [6, 4, 7], [6, 7, 0], [1, 6, 0], [3, 0, 5], [0, 7, 5], [4, 1, 2], [4, 6, 1]]}, 'material': {'Concrete, Cast-in-Place gray': {'name': 'Concrete, Cast-in-Place gray', 'type': 'material', 'properties': {}}}, 'profile': None, 'properties': {'Pset_BeamCommon.IsExternal': False, 'Pset_BeamCommon.LoadBearing': True, 'Pset_BeamCommon.id': 822, 'Pset_BeamCommon.Slope': 0.0, 'Pset_BeamCommon.Reference': '250 x 500mm', 'Pset_BeamCommon.Roll': 0.0, 'Pset_BeamCommon.Span': 5570.000000000001, 'Pset_EnvironmentalImpactIndicators.Reference': '250 x 500mm', 'Pset_EnvironmentalImpactIndicators.id': 823, 'Pset_ReinforcementBarPitchOfBeam.Reference': '250 x 500mm', 'Pset_ReinforcementBarPitchOfBeam.id': 825, 'Qto_BeamBaseQuantities.Length': 5570.000000000001, 'Qto_BeamBaseQuantities.CrossSectionArea': 0.07500000000012813, 'Qto_BeamBaseQuantities.OuterSurfaceArea': 5.720000000005535, 'Qto_BeamBaseQuantities.GrossSurfaceArea': 5.870000000005791, 'Qto_BeamBaseQuantities.NetSurfaceArea': 5.870000000005682, 'Qto_BeamBaseQuantities.GrossVolume': 0.3900000000006665, 'Qto_BeamBaseQuantities.NetVolume': 0.3900000000006783, 'Qto_BeamBaseQuantities.id': 836}}, '2e3KIcTBT93wdBtSLDrMNE': {'id': '2e3KIcTBT93wdBtSLDrMNE', 'name': 'M_Concrete-Rectangular Beam:250 x 500mm:419128', 'type': 'IfcBeam', 'geometry': {'type': 'mesh', 'vertices': [[3.7536874990089375, -1.0786457231978472, 2.6000000000000076], [8.903687499008939, -1.0786457231978472, 2.6000000000000076], [8.903687499008939, -1.0786457231978712, 2.300000000000006], [3.7536874990089375, -1.0786457231978712, 2.300000000000006], [8.903687499008939, -0.8286457231978678, 2.2999999999999923], [3.7536874990089375, -0.8286457231978678, 2.2999999999999923], [8.903687499008939, -0.8286457231978424, 2.599999999999994], [3.7536874990089375, -0.8286457231978424, 2.599999999999994]], 'triangles': [[1, 0, 3], [2, 1, 3], [2, 3, 5], [4, 2, 5], [4, 5, 7], [6, 4, 7], [6, 7, 0], [1, 6, 0], [3, 0, 5], [0, 7, 5], [4, 1, 2], [4, 6, 1]]}, 'material': {'Concrete, Cast-in-Place gray': {'name': 'Concrete, Cast-in-Place gray', 'type': 'material', 'properties': {}}}, 'profile': None, 'properties': {'Pset_BeamCommon.IsExternal': False, 'Pset_BeamCommon.LoadBearing': True, 'Pset_BeamCommon.id': 903, 'Pset_BeamCommon.Slope': 0.0, 'Pset_BeamCommon.Reference': '250 x 500mm', 'Pset_BeamCommon.Roll': 0.0, 'Pset_BeamCommon.Span': 5570.000000000001, 'Pset_EnvironmentalImpactIndicators.Reference': '250 x 500mm', 'Pset_EnvironmentalImpactIndicators.id': 904, 'Pset_ReinforcementBarPitchOfBeam.Reference': '250 x 500mm', 'Pset_ReinforcementBarPitchOfBeam.id': 906, 'Qto_BeamBaseQuantities.Length': 5570.000000000001, 'Qto_BeamBaseQuantities.CrossSectionArea': 0.07499999999999914, 'Qto_BeamBaseQuantities.OuterSurfaceArea': 5.665000000000147, 'Qto_BeamBaseQuantities.GrossSurfaceArea': 5.815000000000145, 'Qto_BeamBaseQuantities.NetSurfaceArea': 5.815000000000055, 'Qto_BeamBaseQuantities.GrossVolume': 0.38624999999999565, 'Qto_BeamBaseQuantities.NetVolume': 0.38625000000000714, 'Qto_BeamBaseQuantities.id': 917}}, '2e3KIcTBT93wdBtSLDrMMs': {'id': '2e3KIcTBT93wdBtSLDrMMs', 'name': 'M_Concrete-Rectangular Beam:250 x 500mm:419136', 'type': 'IfcBeam', 'geometry': {'type': 'mesh', 'vertices': [[9.178687499008946, 3.771354293938465, 2.6000000000000005], [9.178687499008946, -0.7536457231978586, 2.6000000000000005], [8.928687499008944, -0.7536457231978586, 2.6000000000000005], [8.928687499008944, 3.771354293938465, 2.6000000000000005], [8.928687499008944, -0.7536457231978586, 2.299999999999999], [8.928687499008944, 3.771354293938465, 2.299999999999999], [9.178687499008946, -0.7536457231978586, 2.299999999999999], [9.178687499008946, 3.771354293938465, 2.299999999999999]], 'triangles': [[1, 0, 3], [2, 1, 3], [2, 3, 5], [4, 2, 5], [4, 5, 7], [6, 4, 7], [6, 7, 0], [1, 6, 0], [3, 0, 5], [0, 7, 5], [4, 1, 2], [4, 6, 1]]}, 'material': {'Concrete, Cast-in-Place gray': {'name': 'Concrete, Cast-in-Place gray', 'type': 'material', 'properties': {}}}, 'profile': None, 'properties': {'Pset_BeamCommon.IsExternal': False, 'Pset_BeamCommon.LoadBearing': True, 'Pset_BeamCommon.id': 949, 'Pset_BeamCommon.Slope': 0.0, 'Pset_BeamCommon.Reference': '250 x 500mm', 'Pset_BeamCommon.Roll': 0.0, 'Pset_BeamCommon.Span': 4950.000017136321, 'Pset_EnvironmentalImpactIndicators.Reference': '250 x 500mm', 'Pset_EnvironmentalImpactIndicators.id': 950, 'Pset_ReinforcementBarPitchOfBeam.Reference': '250 x 500mm', 'Pset_ReinforcementBarPitchOfBeam.id': 952, 'Qto_BeamBaseQuantities.Length': 4950.000017136321, 'Qto_BeamBaseQuantities.CrossSectionArea': 0.07500000000000122, 'Qto_BeamBaseQuantities.OuterSurfaceArea': 4.977500018849995, 'Qto_BeamBaseQuantities.GrossSurfaceArea': 5.1275000188499975, 'Qto_BeamBaseQuantities.NetSurfaceArea': 5.127500018849992, 'Qto_BeamBaseQuantities.GrossVolume': 0.33937500128522985, 'Qto_BeamBaseQuantities.NetVolume': 0.33937500128522946, 'Qto_BeamBaseQuantities.id': 963}}, '2e3KIcTBT93wdBtSLDrMMq': {'id': '2e3KIcTBT93wdBtSLDrMMq', 'name': 'M_Concrete-Rectangular Beam:250 x 500mm:419138', 'type': 'IfcBeam', 'geometry': {'type': 'mesh', 'vertices': [[9.178687499008936, -1.1536457231978576, 2.6000000000000005], [9.178687499008936, -3.358645706061528, 2.6000000000000005], [8.928687499008936, -3.358645706061528, 2.6000000000000005], [8.928687499008936, -1.1536457231978576, 2.6000000000000005], [8.928687499008934, -3.358645706061528, 2.299999999999999], [8.928687499008934, -1.1536457231978576, 2.299999999999999], [9.178687499008937, -3.358645706061528, 2.299999999999999], [9.178687499008937, -1.1536457231978576, 2.299999999999999]], 'triangles': [[1, 0, 3], [2, 1, 3], [2, 3, 5], [4, 2, 5], [4, 5, 7], [6, 4, 7], [6, 7, 0], [1, 6, 0], [3, 0, 5], [0, 7, 5], [4, 1, 2], [4, 6, 1]]}, 'material': {'Concrete, Cast-in-Place gray': {'name': 'Concrete, Cast-in-Place gray', 'type': 'material', 'properties': {}}}, 'profile': None, 'properties': {'Pset_BeamCommon.IsExternal': False, 'Pset_BeamCommon.LoadBearing': True, 'Pset_BeamCommon.id': 995, 'Pset_BeamCommon.Slope': 0.0, 'Pset_BeamCommon.Reference': '250 x 500mm', 'Pset_BeamCommon.Roll': 0.0, 'Pset_BeamCommon.Span': 2604.99998286367, 'Pset_EnvironmentalImpactIndicators.Reference': '250 x 500mm', 'Pset_EnvironmentalImpactIndicators.id': 996, 'Pset_ReinforcementBarPitchOfBeam.Reference': '250 x 500mm', 'Pset_ReinforcementBarPitchOfBeam.id': 998, 'Qto_BeamBaseQuantities.Length': 2604.99998286367, 'Qto_BeamBaseQuantities.CrossSectionArea': 0.07500000000000122, 'Qto_BeamBaseQuantities.OuterSurfaceArea': 2.4254999811500566, 'Qto_BeamBaseQuantities.GrossSurfaceArea': 2.575499981150059, 'Qto_BeamBaseQuantities.NetSurfaceArea': 2.5754999811500583, 'Qto_BeamBaseQuantities.GrossVolume': 0.16537499871477798, 'Qto_BeamBaseQuantities.NetVolume': 0.16537499871477793, 'Qto_BeamBaseQuantities.id': 1009}}, '2e3KIcTBT93wdBtSLDrMMR': {'id': '2e3KIcTBT93wdBtSLDrMMR', 'name': 'M_Concrete-Rectangular Beam:250 x 500mm:419181', 'type': 'IfcBeam', 'geometry': {'type': 'mesh', 'vertices': [[11.48868749937645, 4.096931165842064, 2.800000000000172], [11.48868749937645, 4.121354293938454, 2.8], [9.209677696650244, 4.121354293938462, 2.8], [9.209677696650244, 4.096931165842071, 2.800000000000172], [9.178687499008948, 3.8713542939384578, 2.600000000000517], [9.178687499008948, 3.8713542939384578, 2.3], [14.37868749900895, 3.871354293938441, 2.3], [14.37868749900895, 3.871354293938441, 2.600000000000517], [10.350887499008943, 3.871354293938454, 2.600000000000517], [9.178687499008948, 4.121354293938462, 2.3], [14.37868749900895, 4.121354293938444, 2.3], [14.37868749900895, 4.121354293938444, 2.600000000000517], [9.178687499008948, 4.121354293938462, 2.600000000000517], [9.209677696650244, 4.121354293938462, 2.600000000000517], [11.48868749937645, 4.121354293938454, 2.600000000000517], [11.48868749937645, 4.096931165842064, 2.600000000000517], [9.209677696650244, 4.096931165842071, 2.600000000000517]], 'triangles': [[2, 0, 1], [2, 3, 0], [8, 6, 7], [5, 8, 4], [5, 6, 8], [5, 10, 6], [9, 10, 5], [9, 12, 13], [14, 13, 2], [14, 2, 1], [14, 9, 13], [10, 14, 11], [10, 9, 14], [7, 6, 10], [7, 10, 11], [5, 12, 9], [5, 4, 12], [16, 12, 4], [13, 12, 16], [8, 16, 4], [7, 15, 8], [11, 14, 15], [11, 15, 7], [15, 16, 8], [2, 13, 16], [3, 2, 16], [16, 15, 0], [16, 0, 3], [1, 0, 15], [1, 15, 14]]}, 'material': {'Concrete, Cast-in-Place gray': {'name': 'Concrete, Cast-in-Place gray', 'type': 'material', 'properties': {}}}, 'profile': None, 'properties': {'Pset_BeamCommon.IsExternal': False, 'Pset_BeamCommon.LoadBearing': True, 'Pset_BeamCommon.id': 1125, 'Pset_BeamCommon.Slope': 0.0, 'Pset_BeamCommon.Reference': '250 x 500mm', 'Pset_BeamCommon.Roll': 0.0, 'Pset_BeamCommon.Span': 5570.000000000003, 'Pset_EnvironmentalImpactIndicators.Reference': '250 x 500mm', 'Pset_EnvironmentalImpactIndicators.id': 1126, 'Pset_ReinforcementBarPitchOfBeam.Reference': '250 x 500mm', 'Pset_ReinforcementBarPitchOfBeam.id': 1128, 'Qto_BeamBaseQuantities.Length': 5570.000000000003, 'Qto_BeamBaseQuantities.CrossSectionArea': 3.3956865861665952, 'Qto_BeamBaseQuantities.NetSurfaceArea': 6.7913731723331905, 'Qto_BeamBaseQuantities.NetVolume': 0.40113210966983825, 'Qto_BeamBaseQuantities.id': 1136}}, '2e3KIcTBT93wdBtSLDrMMP': {'id': '2e3KIcTBT93wdBtSLDrMMP', 'name': 'M_Concrete-Rectangular Beam:250 x 500mm:419183', 'type': 'IfcBeam', 'geometry': {'type': 'mesh', 'vertices': [[9.178687499008936, -3.683645706061535, 2.600000000000266], [14.378687499008938, -3.683645706061535, 2.600000000000266], [14.378687499008938, -3.683645706061562, 2.299999999999749], [9.178687499008936, -3.683645706061562, 2.299999999999749], [14.378687499008938, -3.4336457060615575, 2.299999999999734], [9.178687499008936, -3.4336457060615575, 2.299999999999734], [14.378687499008938, -3.433645706061529, 2.600000000000251], [9.178687499008936, -3.433645706061529, 2.600000000000251]], 'triangles': [[1, 0, 3], [2, 1, 3], [2, 3, 5], [4, 2, 5], [4, 5, 7], [6, 4, 7], [6, 7, 0], [1, 6, 0], [3, 0, 5], [0, 7, 5], [4, 1, 2], [4, 6, 1]]}, 'material': {'Concrete, Cast-in-Place gray': {'name': 'Concrete, Cast-in-Place gray', 'type': 'material', 'properties': {}}}, 'profile': None, 'properties': {'Pset_BeamCommon.IsExternal': False, 'Pset_BeamCommon.LoadBearing': True, 'Pset_BeamCommon.id': 1168, 'Pset_BeamCommon.Slope': 0.0, 'Pset_BeamCommon.Reference': '250 x 500mm', 'Pset_BeamCommon.Roll': 0.0, 'Pset_BeamCommon.Span': 5570.000000000001, 'Pset_EnvironmentalImpactIndicators.Reference': '250 x 500mm', 'Pset_EnvironmentalImpactIndicators.id': 1169, 'Pset_ReinforcementBarPitchOfBeam.Reference': '250 x 500mm', 'Pset_ReinforcementBarPitchOfBeam.id': 1171, 'Qto_BeamBaseQuantities.Length': 5570.000000000001, 'Qto_BeamBaseQuantities.CrossSectionArea': 0.07500000000012796, 'Qto_BeamBaseQuantities.OuterSurfaceArea': 5.7200000000055296, 'Qto_BeamBaseQuantities.GrossSurfaceArea': 5.870000000005786, 'Qto_BeamBaseQuantities.NetSurfaceArea': 5.870000000005682, 'Qto_BeamBaseQuantities.GrossVolume': 0.39000000000066565, 'Qto_BeamBaseQuantities.NetVolume': 0.3900000000006783, 'Qto_BeamBaseQuantities.id': 1182}}, '2e3KIcTBT93wdBtSLDrMM0': {'id': '2e3KIcTBT93wdBtSLDrMM0', 'name': 'M_Concrete-Rectangular Beam:250 x 500mm:419190', 'type': 'IfcBeam', 'geometry': {'type': 'mesh', 'vertices': [[14.623687499008945, -1.0786457231978988, 2.8000000000000003], [14.628687499008942, -1.0786457231978988, 2.8000000000000003], [14.628687499008942, -1.078645723197899, 2.3000000000000003], [14.623687499008945, -1.078645723197899, 2.3000000000000003], [14.628687499008942, -0.8286457231978958, 2.3000000000000003], [14.623687499008945, -0.8286457231978958, 2.3000000000000003], [14.628687499008942, -0.8286457231978956, 2.8000000000000003], [14.623687499008945, -0.8286457231978956, 2.8000000000000003], [9.203687499008936, -1.0786457231978646, 2.6000000000000076], [14.32368749900894, -1.0786457231978646, 2.6000000000000076], [14.32368749900894, -1.0786457231978888, 2.300000000000006], [9.203687499008936, -1.0786457231978888, 2.300000000000006], [14.32368749900894, -0.8286457231978853, 2.2999999999999923], [9.203687499008936, -0.8286457231978853, 2.2999999999999923], [14.32368749900894, -0.8286457231978597, 2.599999999999994], [9.203687499008936, -0.8286457231978597, 2.599999999999994]], 'triangles': [[1, 0, 3], [2, 1, 3], [2, 3, 5], [4, 2, 5], [4, 5, 7], [6, 4, 7], [6, 7, 0], [1, 6, 0], [3, 0, 5], [0, 7, 5], [4, 1, 2], [4, 6, 1], [9, 8, 11], [10, 9, 11], [10, 11, 13], [12, 10, 13], [12, 13, 15], [14, 12, 15], [14, 15, 8], [9, 14, 8], [11, 8, 13], [8, 15, 13], [12, 9, 10], [12, 14, 9]]}, 'material': {'Concrete, Cast-in-Place gray': {'name': 'Concrete, Cast-in-Place gray', 'type': 'material', 'properties': {}}}, 'profile': None, 'properties': {'Pset_BeamCommon.IsExternal': False, 'Pset_BeamCommon.LoadBearing': True, 'Pset_BeamCommon.id': 1256, 'Pset_BeamCommon.Slope': 0.0, 'Pset_BeamCommon.Reference': '250 x 500mm', 'Pset_BeamCommon.Roll': 0.0, 'Pset_BeamCommon.Span': 5570.000000000001, 'Pset_EnvironmentalImpactIndicators.Reference': '250 x 500mm', 'Pset_EnvironmentalImpactIndicators.id': 1257, 'Pset_ReinforcementBarPitchOfBeam.Reference': '250 x 500mm', 'Pset_ReinforcementBarPitchOfBeam.id': 1259, 'Qto_BeamBaseQuantities.Length': 5570.000000000001, 'Qto_BeamBaseQuantities.CrossSectionArea': 0.07499999999999916, 'Qto_BeamBaseQuantities.OuterSurfaceArea': 5.632000000000151, 'Qto_BeamBaseQuantities.GrossSurfaceArea': 5.782000000000149, 'Qto_BeamBaseQuantities.NetSurfaceArea': 6.0395000000000545, 'Qto_BeamBaseQuantities.GrossVolume': 0.3839999999999961, 'Qto_BeamBaseQuantities.NetVolume': 0.3846250000000071, 'Qto_BeamBaseQuantities.id': 1270}}, '2e3KIcTBT93wdBtSLDrMM8': {'id': '2e3KIcTBT93wdBtSLDrMM8', 'name': 'M_Concrete-Rectangular Beam:250 x 500mm:419198', 'type': 'IfcBeam', 'geometry': {'type': 'mesh', 'vertices': [[14.623687499008943, -0.8286457231978775, 2.8000000000000003], [14.62868749900894, -0.8286457231978778, 2.8000000000000003], [14.628687499008947, 3.771354293938446, 2.8000000000000003], [14.623687499478148, 3.771354293938446, 2.8000000000000003], [14.378687499008944, 3.771354293938446, 2.6000000000000014], [14.378687499008944, 3.771354293938446, 2.3], [14.378687499008937, -0.7536457231978758, 2.3], [14.378687499008937, -0.7536457231978758, 2.6000000000000014], [14.628687499008947, 3.771354293938446, 2.3], [14.62868749900894, -0.8286457231978775, 2.3], [14.623687499008943, -0.8286457231978775, 2.3], [14.623687499008943, -0.7536457231978757, 2.3], [14.623687499478148, 3.771354293938446, 2.6000000000000014], [14.623687499008943, -0.7536457231978757, 2.6000000000000014]], 'triangles': [[3, 0, 1], [2, 3, 1], [7, 4, 5], [7, 5, 6], [11, 9, 10], [5, 11, 6], [5, 8, 11], [8, 9, 11], [2, 9, 8], [2, 1, 9], [12, 8, 5], [12, 5, 4], [2, 12, 3], [2, 8, 12], [10, 9, 1], [10, 1, 0], [6, 11, 13], [6, 13, 7], [13, 3, 12], [13, 11, 10], [0, 13, 10], [0, 3, 13], [4, 7, 13], [12, 4, 13]]}, 'material': {'Concrete, Cast-in-Place gray': {'name': 'Concrete, Cast-in-Place gray', 'type': 'material', 'properties': {}}}, 'profile': None, 'properties': {'Pset_BeamCommon.IsExternal': False, 'Pset_BeamCommon.LoadBearing': True, 'Pset_BeamCommon.id': 1327, 'Pset_BeamCommon.Slope': 0.0, 'Pset_BeamCommon.Reference': '250 x 500mm', 'Pset_BeamCommon.Roll': 0.0, 'Pset_BeamCommon.Span': 4950.000017136321, 'Pset_EnvironmentalImpactIndicators.Reference': '250 x 500mm', 'Pset_EnvironmentalImpactIndicators.id': 1328, 'Pset_ReinforcementBarPitchOfBeam.Reference': '250 x 500mm', 'Pset_ReinforcementBarPitchOfBeam.id': 1330, 'Qto_BeamBaseQuantities.Length': 4950.000017136321, 'Qto_BeamBaseQuantities.CrossSectionArea': 3.507625012796542, 'Qto_BeamBaseQuantities.NetSurfaceArea': 7.015250025593084, 'Qto_BeamBaseQuantities.NetVolume': 0.34408750115965125, 'Qto_BeamBaseQuantities.id': 1338}}, '2e3KIcTBT93wdBtSLDrMLs': {'id': '2e3KIcTBT93wdBtSLDrMLs', 'name': 'M_Concrete-Rectangular Beam:250 x 500mm:419200', 'type': 'IfcBeam', 'geometry': {'type': 'mesh', 'vertices': [[14.623687499478136, -3.3586457060615453, 2.8000000000000003], [14.628687499008937, -3.3586457060615453, 2.8000000000000003], [14.62868749900894, -1.078645723197881, 2.8000000000000003], [14.623687499008943, -1.078645723197881, 2.8000000000000003], [14.378687499008937, -1.1536457231978758, 2.6000000000000014], [14.378687499008937, -1.1536457231978758, 2.3], [14.378687499008933, -3.3586457060615453, 2.3], [14.378687499008933, -3.3586457060615453, 2.6000000000000014], [14.62868749900894, -1.078645723197881, 2.3], [14.628687499008937, -3.3586457060615453, 2.3], [14.623687499008943, -1.1536457231978758, 2.3], [14.623687499008943, -1.078645723197881, 2.3], [14.623687499478136, -3.3586457060615453, 2.6000000000000014], [14.623687499008943, -1.1536457231978758, 2.6000000000000014]], 'triangles': [[2, 0, 1], [2, 3, 0], [7, 4, 5], [7, 5, 6], [10, 9, 6], [11, 8, 10], [5, 10, 6], [8, 9, 10], [2, 1, 9], [2, 9, 8], [12, 1, 0], [6, 12, 7], [9, 12, 6], [9, 1, 12], [2, 8, 11], [2, 11, 3], [13, 10, 5], [13, 5, 4], [13, 11, 10], [3, 11, 13], [0, 13, 12], [0, 3, 13], [13, 7, 12], [13, 4, 7]]}, 'material': {'Concrete, Cast-in-Place gray': {'name': 'Concrete, Cast-in-Place gray', 'type': 'material', 'properties': {}}}, 'profile': None, 'properties': {'Pset_BeamCommon.IsExternal': False, 'Pset_BeamCommon.LoadBearing': True, 'Pset_BeamCommon.id': 1395, 'Pset_BeamCommon.Slope': 0.0, 'Pset_BeamCommon.Reference': '250 x 500mm', 'Pset_BeamCommon.Roll': 0.0, 'Pset_BeamCommon.Span': 2604.99998286367, 'Pset_EnvironmentalImpactIndicators.Reference': '250 x 500mm', 'Pset_EnvironmentalImpactIndicators.id': 1396, 'Pset_ReinforcementBarPitchOfBeam.Reference': '250 x 500mm', 'Pset_ReinforcementBarPitchOfBeam.id': 1398, 'Qto_BeamBaseQuantities.Length': 2604.99998286367, 'Qto_BeamBaseQuantities.CrossSectionArea': 1.7676249870920406, 'Qto_BeamBaseQuantities.NetSurfaceArea': 3.5352499741840813, 'Qto_BeamBaseQuantities.NetVolume': 0.16776749862749551, 'Qto_BeamBaseQuantities.id': 1406}}, '0Bl0khqE5CRu4G24Ko5Z4Q': {'id': '0Bl0khqE5CRu4G24Ko5Z4Q', 'name': 'M_Concrete-Rectangular Beam:200x200:419918', 'type': 'IfcBeam', 'geometry': {'type': 'mesh', 'vertices': [[-1.7213125009910568, 3.8963542939385007, 8.104628079763643e-15], [3.478687499008946, 3.8963542939385007, 8.104628079763643e-15], [3.478687499008946, 3.8963542939384683, -0.19999999999999185], [-1.7213125009910568, 3.8963542939384683, -0.19999999999999185], [3.478687499008946, 4.0963542939384725, -0.20000000000000812], [-1.7213125009910568, 4.0963542939384725, -0.20000000000000812], [3.478687499008946, 4.0963542939384885, -8.132383655379272e-15], [-1.7213125009910568, 4.0963542939384885, -8.132383655379272e-15]], 'triangles': [[1, 0, 3], [2, 1, 3], [2, 3, 5], [4, 2, 5], [4, 5, 7], [6, 4, 7], [6, 7, 0], [1, 6, 0], [3, 0, 5], [0, 7, 5], [4, 1, 2], [4, 6, 1]]}, 'material': {'Concrete, Cast-in-Place gray': {'name': 'Concrete, Cast-in-Place gray', 'type': 'material', 'properties': {}}}, 'profile': None, 'properties': {'Pset_BeamCommon.IsExternal': False, 'Pset_BeamCommon.LoadBearing': True, 'Pset_BeamCommon.id': 1776, 'Pset_BeamCommon.Slope': 0.0, 'Pset_BeamCommon.Roll': 0.0, 'Pset_BeamCommon.Reference': '200x200', 'Pset_BeamCommon.Span': 5570.000000000003, 'Pset_EnvironmentalImpactIndicators.Reference': '200x200', 'Pset_EnvironmentalImpactIndicators.id': 1777, 'Pset_ReinforcementBarPitchOfBeam.Reference': '200x200', 'Pset_ReinforcementBarPitchOfBeam.id': 1779, 'Qto_BeamBaseQuantities.Length': 5570.000000000003, 'Qto_BeamBaseQuantities.CrossSectionArea': 0.04000000000000395, 'Qto_BeamBaseQuantities.OuterSurfaceArea': 4.160000000000041, 'Qto_BeamBaseQuantities.GrossSurfaceArea': 4.240000000000049, 'Qto_BeamBaseQuantities.NetSurfaceArea': 4.240000000000036, 'Qto_BeamBaseQuantities.GrossVolume': 0.20800000000002064, 'Qto_BeamBaseQuantities.NetVolume': 0.20800000000000346, 'Qto_BeamBaseQuantities.id': 1790}}, '0Bl0khqE5CRu4G24Ko5Z44': {'id': '0Bl0khqE5CRu4G24Ko5Z44', 'name': 'M_Concrete-Rectangular Beam:200x200:419920', 'type': 'IfcBeam', 'geometry': {'type': 'mesh', 'vertices': [[-1.7213125009910677, -3.6586457060614888, 9.18709552877317e-15], [3.4786874990089327, -3.6586457060614888, 9.18709552877317e-15], [3.4786874990089327, -3.6586457060615256, -0.19999999999999077], [-1.7213125009910677, -3.6586457060615256, -0.19999999999999077], [3.4786874990089327, -3.458645706061522, -0.20000000000000917], [-1.7213125009910677, -3.458645706061522, -0.20000000000000917], [3.4786874990089327, -3.4586457060615037, -9.2148511043888e-15], [-1.7213125009910677, -3.4586457060615037, -9.2148511043888e-15]], 'triangles': [[1, 0, 3], [2, 1, 3], [2, 3, 5], [4, 2, 5], [4, 5, 7], [6, 4, 7], [6, 7, 0], [1, 6, 0], [3, 0, 5], [0, 7, 5], [4, 1, 2], [4, 6, 1]]}, 'material': {'Concrete, Cast-in-Place gray': {'name': 'Concrete, Cast-in-Place gray', 'type': 'material', 'properties': {}}}, 'profile': None, 'properties': {'Pset_BeamCommon.IsExternal': False, 'Pset_BeamCommon.LoadBearing': True, 'Pset_BeamCommon.id': 1821, 'Pset_BeamCommon.Slope': 0.0, 'Pset_BeamCommon.Roll': 0.0, 'Pset_BeamCommon.Reference': '200x200', 'Pset_BeamCommon.Span': 5570.000000000001, 'Pset_EnvironmentalImpactIndicators.Reference': '200x200', 'Pset_EnvironmentalImpactIndicators.id': 1822, 'Pset_ReinforcementBarPitchOfBeam.Reference': '200x200', 'Pset_ReinforcementBarPitchOfBeam.id': 1824, 'Qto_BeamBaseQuantities.Length': 5570.000000000001, 'Qto_BeamBaseQuantities.CrossSectionArea': 0.04000000000000438, 'Qto_BeamBaseQuantities.OuterSurfaceArea': 4.160000000000039, 'Qto_BeamBaseQuantities.GrossSurfaceArea': 4.240000000000048, 'Qto_BeamBaseQuantities.NetSurfaceArea': 4.240000000000035, 'Qto_BeamBaseQuantities.GrossVolume': 0.2080000000000228, 'Qto_BeamBaseQuantities.NetVolume': 0.2080000000000034, 'Qto_BeamBaseQuantities.id': 1835}}, '0Bl0khqE5CRu4G24Ko5Z43': {'id': '0Bl0khqE5CRu4G24Ko5Z43', 'name': 'M_Concrete-Rectangular Beam:200x200:419927', 'type': 'IfcBeam', 'geometry': {'type': 'mesh', 'vertices': [[-1.6713125009910568, -1.05364572319782, 8.243405957841787e-15], [3.453687499008937, -1.05364572319782, 8.243405957841787e-15], [3.453687499008937, -1.053645723197853, -0.19999999999999174], [-1.6713125009910568, -1.053645723197853, -0.19999999999999174], [3.453687499008937, -0.8536457231978497, -0.20000000000000823], [-1.6713125009910568, -0.8536457231978497, -0.20000000000000823], [3.453687499008937, -0.8536457231978332, -8.271161533457416e-15], [-1.6713125009910568, -0.8536457231978332, -8.271161533457416e-15]], 'triangles': [[1, 0, 3], [2, 1, 3], [2, 3, 5], [4, 2, 5], [4, 5, 7], [6, 4, 7], [6, 7, 0], [1, 6, 0], [3, 0, 5], [0, 7, 5], [4, 1, 2], [4, 6, 1]]}, 'material': {'Concrete, Cast-in-Place gray': {'name': 'Concrete, Cast-in-Place gray', 'type': 'material', 'properties': {}}}, 'profile': None, 'properties': {'Pset_BeamCommon.IsExternal': False, 'Pset_BeamCommon.LoadBearing': True, 'Pset_BeamCommon.id': 1866, 'Pset_BeamCommon.Slope': 0.0, 'Pset_BeamCommon.Roll': 0.0, 'Pset_BeamCommon.Reference': '200x200', 'Pset_BeamCommon.Span': 5570.000000000001, 'Pset_EnvironmentalImpactIndicators.Reference': '200x200', 'Pset_EnvironmentalImpactIndicators.id': 1867, 'Pset_ReinforcementBarPitchOfBeam.Reference': '200x200', 'Pset_ReinforcementBarPitchOfBeam.id': 1869, 'Qto_BeamBaseQuantities.Length': 5570.000000000001, 'Qto_BeamBaseQuantities.CrossSectionArea': 0.040000000000003956, 'Qto_BeamBaseQuantities.OuterSurfaceArea': 4.100000000000029, 'Qto_BeamBaseQuantities.GrossSurfaceArea': 4.180000000000037, 'Qto_BeamBaseQuantities.NetSurfaceArea': 4.180000000000028, 'Qto_BeamBaseQuantities.GrossVolume': 0.20500000000002003, 'Qto_BeamBaseQuantities.NetVolume': 0.20500000000000307, 'Qto_BeamBaseQuantities.id': 1880}}, '0Bl0khqE5CRu4G24Ko5Z4D': {'id': '0Bl0khqE5CRu4G24Ko5Z4D', 'name': 'M_Concrete-Rectangular Beam:200x200:419929', 'type': 'IfcBeam', 'geometry': {'type': 'mesh', 'vertices': [[-1.7463125009910587, 3.771354293938501, 0.0], [-1.7463125009910587, -0.7536457231978235, 0.0], [-1.9463125009910618, -0.7536457231978235, -1.3877787807814457e-17], [-1.9463125009910618, 3.771354293938501, -1.3877787807814457e-17], [-1.946312500991062, -0.7536457231978235, -0.19999999999999998], [-1.946312500991062, 3.771354293938501, -0.19999999999999998], [-1.7463125009910585, -0.7536457231978235, -0.19999999999999998], [-1.7463125009910585, 3.771354293938501, -0.19999999999999998]], 'triangles': [[1, 0, 3], [2, 1, 3], [2, 3, 5], [4, 2, 5], [4, 5, 7], [6, 4, 7], [6, 7, 0], [1, 6, 0], [3, 0, 5], [0, 7, 5], [4, 1, 2], [4, 6, 1]]}, 'material': {'Concrete, Cast-in-Place gray': {'name': 'Concrete, Cast-in-Place gray', 'type': 'material', 'properties': {}}}, 'profile': None, 'properties': {'Pset_BeamCommon.IsExternal': False, 'Pset_BeamCommon.LoadBearing': True, 'Pset_BeamCommon.id': 1911, 'Pset_BeamCommon.Slope': 0.0, 'Pset_BeamCommon.Roll': 0.0, 'Pset_BeamCommon.Reference': '200x200', 'Pset_BeamCommon.Span': 4950.000017136324, 'Pset_EnvironmentalImpactIndicators.Reference': '200x200', 'Pset_EnvironmentalImpactIndicators.id': 1912, 'Pset_ReinforcementBarPitchOfBeam.Reference': '200x200', 'Pset_ReinforcementBarPitchOfBeam.id': 1914, 'Qto_BeamBaseQuantities.Length': 4950.000017136324, 'Qto_BeamBaseQuantities.CrossSectionArea': 0.04000000000000064, 'Qto_BeamBaseQuantities.OuterSurfaceArea': 3.6200000137090913, 'Qto_BeamBaseQuantities.GrossSurfaceArea': 3.7000000137090927, 'Qto_BeamBaseQuantities.NetSurfaceArea': 3.7000000137090887, 'Qto_BeamBaseQuantities.GrossVolume': 0.18100000068545588, 'Qto_BeamBaseQuantities.NetVolume': 0.18100000068545585, 'Qto_BeamBaseQuantities.id': 1925}}, '0Bl0khqE5CRu4G24Ko5Z4F': {'id': '0Bl0khqE5CRu4G24Ko5Z4F', 'name': 'M_Concrete-Rectangular Beam:200x200:419931', 'type': 'IfcBeam', 'geometry': {'type': 'mesh', 'vertices': [[-1.7463125009910647, -1.1536457231978228, 0.0], [-1.7463125009910647, -3.3336457060614926, 0.0], [-1.9463125009910678, -3.3336457060614926, -1.3877787807814457e-17], [-1.9463125009910678, -1.1536457231978228, -1.3877787807814457e-17], [-1.946312500991068, -3.3336457060614926, -0.19999999999999998], [-1.946312500991068, -1.1536457231978228, -0.19999999999999998], [-1.7463125009910645, -3.3336457060614926, -0.19999999999999998], [-1.7463125009910645, -1.1536457231978228, -0.19999999999999998]], 'triangles': [[1, 0, 3], [2, 1, 3], [2, 3, 5], [4, 2, 5], [4, 5, 7], [6, 4, 7], [6, 7, 0], [1, 6, 0], [3, 0, 5], [0, 7, 5], [4, 1, 2], [4, 6, 1]]}, 'material': {'Concrete, Cast-in-Place gray': {'name': 'Concrete, Cast-in-Place gray', 'type': 'material', 'properties': {}}}, 'profile': None, 'properties': {'Pset_BeamCommon.IsExternal': False, 'Pset_BeamCommon.LoadBearing': True, 'Pset_BeamCommon.id': 1956, 'Pset_BeamCommon.Slope': 0.0, 'Pset_BeamCommon.Roll': 0.0, 'Pset_BeamCommon.Reference': '200x200', 'Pset_BeamCommon.Span': 2604.99998286367, 'Pset_EnvironmentalImpactIndicators.Reference': '200x200', 'Pset_EnvironmentalImpactIndicators.id': 1957, 'Pset_ReinforcementBarPitchOfBeam.Reference': '200x200', 'Pset_ReinforcementBarPitchOfBeam.id': 1959, 'Qto_BeamBaseQuantities.Length': 2604.99998286367, 'Qto_BeamBaseQuantities.CrossSectionArea': 0.04000000000000064, 'Qto_BeamBaseQuantities.OuterSurfaceArea': 1.743999986290951, 'Qto_BeamBaseQuantities.GrossSurfaceArea': 1.8239999862909522, 'Qto_BeamBaseQuantities.NetSurfaceArea': 1.8239999862909513, 'Qto_BeamBaseQuantities.GrossVolume': 0.0871999993145482, 'Qto_BeamBaseQuantities.NetVolume': 0.08719999931454823, 'Qto_BeamBaseQuantities.id': 1970}}, '0Bl0khqE5CRu4G24Ko5Z49': {'id': '0Bl0khqE5CRu4G24Ko5Z49', 'name': 'M_Concrete-Rectangular Beam:200x200:419933', 'type': 'IfcBeam', 'geometry': {'type': 'mesh', 'vertices': [[3.703687499008944, 3.7713542939384825, 0.0], [3.703687499008944, -0.7536457231978404, 0.0], [3.50368749900894, -0.7536457231978404, -1.3877787807814457e-17], [3.50368749900894, 3.7713542939384825, -1.3877787807814457e-17], [3.50368749900894, -0.7536457231978404, -0.19999999999999998], [3.50368749900894, 3.7713542939384825, -0.19999999999999998], [3.7036874990089435, -0.7536457231978404, -0.19999999999999998], [3.7036874990089435, 3.7713542939384825, -0.19999999999999998]], 'triangles': [[1, 0, 3], [2, 1, 3], [2, 3, 5], [4, 2, 5], [4, 5, 7], [6, 4, 7], [6, 7, 0], [1, 6, 0], [3, 0, 5], [0, 7, 5], [4, 1, 2], [4, 6, 1]]}, 'material': {'Concrete, Cast-in-Place gray': {'name': 'Concrete, Cast-in-Place gray', 'type': 'material', 'properties': {}}}, 'profile': None, 'properties': {'Pset_BeamCommon.IsExternal': False, 'Pset_BeamCommon.LoadBearing': True, 'Pset_BeamCommon.id': 2001, 'Pset_BeamCommon.Slope': 0.0, 'Pset_BeamCommon.Roll': 0.0, 'Pset_BeamCommon.Reference': '200x200', 'Pset_BeamCommon.Span': 4950.000017136321, 'Pset_EnvironmentalImpactIndicators.Reference': '200x200', 'Pset_EnvironmentalImpactIndicators.id': 2002, 'Pset_ReinforcementBarPitchOfBeam.Reference': '200x200', 'Pset_ReinforcementBarPitchOfBeam.id': 2004, 'Qto_BeamBaseQuantities.Length': 4950.000017136321, 'Qto_BeamBaseQuantities.CrossSectionArea': 0.04000000000000075, 'Qto_BeamBaseQuantities.OuterSurfaceArea': 3.620000013709092, 'Qto_BeamBaseQuantities.GrossSurfaceArea': 3.7000000137090936, 'Qto_BeamBaseQuantities.NetSurfaceArea': 3.7000000137090887, 'Qto_BeamBaseQuantities.GrossVolume': 0.18100000068545632, 'Qto_BeamBaseQuantities.NetVolume': 0.1810000006854558, 'Qto_BeamBaseQuantities.id': 2015}}, '0Bl0khqE5CRu4G24Ko5Z4B': {'id': '0Bl0khqE5CRu4G24Ko5Z4B', 'name': 'M_Concrete-Rectangular Beam:200x200:419935', 'type': 'IfcBeam', 'geometry': {'type': 'mesh', 'vertices': [[3.703687499008936, -1.15364572319784, 0.0], [3.703687499008936, -3.35864570606151, 0.0], [3.503687499008932, -3.35864570606151, -1.3877787807814457e-17], [3.503687499008932, -1.15364572319784, -1.3877787807814457e-17], [3.503687499008932, -3.35864570606151, -0.19999999999999998], [3.503687499008932, -1.15364572319784, -0.19999999999999998], [3.7036874990089355, -3.35864570606151, -0.19999999999999998], [3.7036874990089355, -1.15364572319784, -0.19999999999999998]], 'triangles': [[1, 0, 3], [2, 1, 3], [2, 3, 5], [4, 2, 5], [4, 5, 7], [6, 4, 7], [6, 7, 0], [1, 6, 0], [3, 0, 5], [0, 7, 5], [4, 1, 2], [4, 6, 1]]}, 'material': {'Concrete, Cast-in-Place gray': {'name': 'Concrete, Cast-in-Place gray', 'type': 'material', 'properties': {}}}, 'profile': None, 'properties': {'Pset_BeamCommon.IsExternal': False, 'Pset_BeamCommon.LoadBearing': True, 'Pset_BeamCommon.id': 2046, 'Pset_BeamCommon.Slope': 0.0, 'Pset_BeamCommon.Roll': 0.0, 'Pset_BeamCommon.Reference': '200x200', 'Pset_BeamCommon.Span': 2604.99998286367, 'Pset_EnvironmentalImpactIndicators.Reference': '200x200', 'Pset_EnvironmentalImpactIndicators.id': 2047, 'Pset_ReinforcementBarPitchOfBeam.Reference': '200x200', 'Pset_ReinforcementBarPitchOfBeam.id': 2049, 'Qto_BeamBaseQuantities.Length': 2604.99998286367, 'Qto_BeamBaseQuantities.CrossSectionArea': 0.04000000000000075, 'Qto_BeamBaseQuantities.OuterSurfaceArea': 1.7639999862909526, 'Qto_BeamBaseQuantities.GrossSurfaceArea': 1.843999986290954, 'Qto_BeamBaseQuantities.NetSurfaceArea': 1.843999986290951, 'Qto_BeamBaseQuantities.GrossVolume': 0.08819999931454846, 'Qto_BeamBaseQuantities.NetVolume': 0.08819999931454821, 'Qto_BeamBaseQuantities.id': 2060}}, '0Bl0khqE5CRu4G24Ko5Z4n': {'id': '0Bl0khqE5CRu4G24Ko5Z4n', 'name': 'M_Concrete-Rectangular Beam:200x200:419941', 'type': 'IfcBeam', 'geometry': {'type': 'mesh', 'vertices': [[3.728687499008945, 3.896354293938483, 8.104628079763643e-15], [8.928687499008948, 3.896354293938483, 8.104628079763643e-15], [8.928687499008948, 3.8963542939384506, -0.19999999999999185], [3.728687499008945, 3.8963542939384506, -0.19999999999999185], [8.928687499008948, 4.096354293938455, -0.20000000000000812], [3.728687499008945, 4.096354293938455, -0.20000000000000812], [8.928687499008948, 4.096354293938471, -8.132383655379272e-15], [3.728687499008945, 4.096354293938471, -8.132383655379272e-15]], 'triangles': [[1, 0, 3], [2, 1, 3], [2, 3, 5], [4, 2, 5], [4, 5, 7], [6, 4, 7], [6, 7, 0], [1, 6, 0], [3, 0, 5], [0, 7, 5], [4, 1, 2], [4, 6, 1]]}, 'material': {'Concrete, Cast-in-Place gray': {'name': 'Concrete, Cast-in-Place gray', 'type': 'material', 'properties': {}}}, 'profile': None, 'properties': {'Pset_BeamCommon.IsExternal': False, 'Pset_BeamCommon.LoadBearing': True, 'Pset_BeamCommon.id': 2091, 'Pset_BeamCommon.Slope': 0.0, 'Pset_BeamCommon.Roll': 0.0, 'Pset_BeamCommon.Reference': '200x200', 'Pset_BeamCommon.Span': 5570.000000000003, 'Pset_EnvironmentalImpactIndicators.Reference': '200x200', 'Pset_EnvironmentalImpactIndicators.id': 2092, 'Pset_ReinforcementBarPitchOfBeam.Reference': '200x200', 'Pset_ReinforcementBarPitchOfBeam.id': 2094, 'Qto_BeamBaseQuantities.Length': 5570.000000000003, 'Qto_BeamBaseQuantities.CrossSectionArea': 0.04000000000000395, 'Qto_BeamBaseQuantities.OuterSurfaceArea': 4.160000000000041, 'Qto_BeamBaseQuantities.GrossSurfaceArea': 4.240000000000049, 'Qto_BeamBaseQuantities.NetSurfaceArea': 4.240000000000038, 'Qto_BeamBaseQuantities.GrossVolume': 0.20800000000002064, 'Qto_BeamBaseQuantities.NetVolume': 0.20800000000000346, 'Qto_BeamBaseQuantities.id': 2105}}, '0Bl0khqE5CRu4G24Ko5Z4p': {'id': '0Bl0khqE5CRu4G24Ko5Z4p', 'name': 'M_Concrete-Rectangular Beam:200x200:419943', 'type': 'IfcBeam', 'geometry': {'type': 'mesh', 'vertices': [[3.7286874990089327, -3.658645706061507, 9.18709552877317e-15], [8.928687499008936, -3.658645706061507, 9.18709552877317e-15], [8.928687499008936, -3.6586457060615434, -0.19999999999999077], [3.7286874990089327, -3.6586457060615434, -0.19999999999999077], [8.928687499008936, -3.4586457060615396, -0.20000000000000917], [3.7286874990089327, -3.4586457060615396, -0.20000000000000917], [8.928687499008936, -3.4586457060615214, -9.2148511043888e-15], [3.7286874990089327, -3.4586457060615214, -9.2148511043888e-15]], 'triangles': [[1, 0, 3], [2, 1, 3], [2, 3, 5], [4, 2, 5], [4, 5, 7], [6, 4, 7], [6, 7, 0], [1, 6, 0], [3, 0, 5], [0, 7, 5], [4, 1, 2], [4, 6, 1]]}, 'material': {'Concrete, Cast-in-Place gray': {'name': 'Concrete, Cast-in-Place gray', 'type': 'material', 'properties': {}}}, 'profile': None, 'properties': {'Pset_BeamCommon.IsExternal': False, 'Pset_BeamCommon.LoadBearing': True, 'Pset_BeamCommon.id': 2136, 'Pset_BeamCommon.Slope': 0.0, 'Pset_BeamCommon.Roll': 0.0, 'Pset_BeamCommon.Reference': '200x200', 'Pset_BeamCommon.Span': 5570.000000000001, 'Pset_EnvironmentalImpactIndicators.Reference': '200x200', 'Pset_EnvironmentalImpactIndicators.id': 2137, 'Pset_ReinforcementBarPitchOfBeam.Reference': '200x200', 'Pset_ReinforcementBarPitchOfBeam.id': 2139, 'Qto_BeamBaseQuantities.Length': 5570.000000000001, 'Qto_BeamBaseQuantities.CrossSectionArea': 0.04000000000000438, 'Qto_BeamBaseQuantities.OuterSurfaceArea': 4.160000000000041, 'Qto_BeamBaseQuantities.GrossSurfaceArea': 4.24000000000005, 'Qto_BeamBaseQuantities.NetSurfaceArea': 4.240000000000037, 'Qto_BeamBaseQuantities.GrossVolume': 0.2080000000000229, 'Qto_BeamBaseQuantities.NetVolume': 0.2080000000000034, 'Qto_BeamBaseQuantities.id': 2150}}, '0Bl0khqE5CRu4G24Ko5Z4$': {'id': '0Bl0khqE5CRu4G24Ko5Z4$', 'name': 'M_Concrete-Rectangular Beam:200x200:419947', 'type': 'IfcBeam', 'geometry': {'type': 'mesh', 'vertices': [[3.7536874990089375, -1.0536457231978378, 8.31279489688086e-15], [8.903687499008939, -1.0536457231978378, 8.31279489688086e-15], [8.903687499008939, -1.053645723197871, -0.19999999999999166], [3.7536874990089375, -1.053645723197871, -0.19999999999999166], [8.903687499008939, -0.8536457231978677, -0.2000000000000083], [3.7536874990089375, -0.8536457231978677, -0.2000000000000083], [8.903687499008939, -0.8536457231978511, -8.340550472496489e-15], [3.7536874990089375, -0.8536457231978511, -8.340550472496489e-15]], 'triangles': [[1, 0, 3], [2, 1, 3], [2, 3, 5], [4, 2, 5], [4, 5, 7], [6, 4, 7], [6, 7, 0], [1, 6, 0], [3, 0, 5], [0, 7, 5], [4, 1, 2], [4, 6, 1]]}, 'material': {'Concrete, Cast-in-Place gray': {'name': 'Concrete, Cast-in-Place gray', 'type': 'material', 'properties': {}}}, 'profile': None, 'properties': {'Pset_BeamCommon.IsExternal': False, 'Pset_BeamCommon.LoadBearing': True, 'Pset_BeamCommon.id': 2181, 'Pset_BeamCommon.Slope': 0.0, 'Pset_BeamCommon.Roll': 0.0, 'Pset_BeamCommon.Reference': '200x200', 'Pset_BeamCommon.Span': 5570.000000000001, 'Pset_EnvironmentalImpactIndicators.Reference': '200x200', 'Pset_EnvironmentalImpactIndicators.id': 2182, 'Pset_ReinforcementBarPitchOfBeam.Reference': '200x200', 'Pset_ReinforcementBarPitchOfBeam.id': 2184, 'Qto_BeamBaseQuantities.Length': 5570.000000000001, 'Qto_BeamBaseQuantities.CrossSectionArea': 0.040000000000003984, 'Qto_BeamBaseQuantities.OuterSurfaceArea': 4.120000000000034, 'Qto_BeamBaseQuantities.GrossSurfaceArea': 4.200000000000042, 'Qto_BeamBaseQuantities.NetSurfaceArea': 4.200000000000035, 'Qto_BeamBaseQuantities.GrossVolume': 0.20600000000002056, 'Qto_BeamBaseQuantities.NetVolume': 0.20600000000000337, 'Qto_BeamBaseQuantities.id': 2195}}, '0Bl0khqE5CRu4G24Ko5Z4v': {'id': '0Bl0khqE5CRu4G24Ko5Z4v', 'name': 'M_Concrete-Rectangular Beam:200x200:419949', 'type': 'IfcBeam', 'geometry': {'type': 'mesh', 'vertices': [[9.153687499008948, 3.7713542939384643, 0.0], [9.153687499008948, -0.7536457231978586, 0.0], [8.953687499008945, -0.7536457231978586, -1.3877787807814457e-17], [8.953687499008945, 3.7713542939384643, -1.3877787807814457e-17], [8.953687499008945, -0.7536457231978586, -0.19999999999999998], [8.953687499008945, 3.7713542939384643, -0.19999999999999998], [9.153687499008948, -0.7536457231978586, -0.19999999999999998], [9.153687499008948, 3.7713542939384643, -0.19999999999999998]], 'triangles': [[1, 0, 3], [2, 1, 3], [2, 3, 5], [4, 2, 5], [4, 5, 7], [6, 4, 7], [6, 7, 0], [1, 6, 0], [3, 0, 5], [0, 7, 5], [4, 1, 2], [4, 6, 1]]}, 'material': {'Concrete, Cast-in-Place gray': {'name': 'Concrete, Cast-in-Place gray', 'type': 'material', 'properties': {}}}, 'profile': None, 'properties': {'Pset_BeamCommon.IsExternal': False, 'Pset_BeamCommon.LoadBearing': True, 'Pset_BeamCommon.id': 2226, 'Pset_BeamCommon.Slope': 0.0, 'Pset_BeamCommon.Roll': 0.0, 'Pset_BeamCommon.Reference': '200x200', 'Pset_BeamCommon.Span': 4950.000017136321, 'Pset_EnvironmentalImpactIndicators.Reference': '200x200', 'Pset_EnvironmentalImpactIndicators.id': 2227, 'Pset_ReinforcementBarPitchOfBeam.Reference': '200x200', 'Pset_ReinforcementBarPitchOfBeam.id': 2229, 'Qto_BeamBaseQuantities.Length': 4950.000017136321, 'Qto_BeamBaseQuantities.CrossSectionArea': 0.040000000000000646, 'Qto_BeamBaseQuantities.OuterSurfaceArea': 3.620000013709087, 'Qto_BeamBaseQuantities.GrossSurfaceArea': 3.7000000137090883, 'Qto_BeamBaseQuantities.NetSurfaceArea': 3.700000013709088, 'Qto_BeamBaseQuantities.GrossVolume': 0.18100000068545583, 'Qto_BeamBaseQuantities.NetVolume': 0.1810000006854558, 'Qto_BeamBaseQuantities.id': 2240}}, '0Bl0khqE5CRu4G24Ko5Z4x': {'id': '0Bl0khqE5CRu4G24Ko5Z4x', 'name': 'M_Concrete-Rectangular Beam:200x200:419951', 'type': 'IfcBeam', 'geometry': {'type': 'mesh', 'vertices': [[9.153687499008937, -1.1536457231978576, 0.0], [9.153687499008937, -3.3586457060615276, 0.0], [8.953687499008936, -3.3586457060615276, -1.3877787807814457e-17], [8.953687499008936, -1.1536457231978576, -1.3877787807814457e-17], [8.953687499008934, -3.3586457060615276, -0.19999999999999998], [8.953687499008934, -1.1536457231978576, -0.19999999999999998], [9.153687499008939, -3.3586457060615276, -0.19999999999999998], [9.153687499008939, -1.1536457231978576, -0.19999999999999998]], 'triangles': [[1, 0, 3], [2, 1, 3], [2, 3, 5], [4, 2, 5], [4, 5, 7], [6, 4, 7], [6, 7, 0], [1, 6, 0], [3, 0, 5], [0, 7, 5], [4, 1, 2], [4, 6, 1]]}, 'material': {'Concrete, Cast-in-Place gray': {'name': 'Concrete, Cast-in-Place gray', 'type': 'material', 'properties': {}}}, 'profile': None, 'properties': {'Pset_BeamCommon.IsExternal': False, 'Pset_BeamCommon.LoadBearing': True, 'Pset_BeamCommon.id': 2271, 'Pset_BeamCommon.Slope': 0.0, 'Pset_BeamCommon.Roll': 0.0, 'Pset_BeamCommon.Reference': '200x200', 'Pset_BeamCommon.Span': 2604.99998286367, 'Pset_EnvironmentalImpactIndicators.Reference': '200x200', 'Pset_EnvironmentalImpactIndicators.id': 2272, 'Pset_ReinforcementBarPitchOfBeam.Reference': '200x200', 'Pset_ReinforcementBarPitchOfBeam.id': 2274, 'Qto_BeamBaseQuantities.Length': 2604.99998286367, 'Qto_BeamBaseQuantities.CrossSectionArea': 0.04000000000000064, 'Qto_BeamBaseQuantities.OuterSurfaceArea': 1.763999986290955, 'Qto_BeamBaseQuantities.GrossSurfaceArea': 1.8439999862909562, 'Qto_BeamBaseQuantities.NetSurfaceArea': 1.8439999862909515, 'Qto_BeamBaseQuantities.GrossVolume': 0.08819999931454821, 'Qto_BeamBaseQuantities.NetVolume': 0.08819999931454821, 'Qto_BeamBaseQuantities.id': 2285}}, '0Bl0khqE5CRu4G24Ko5Z4X': {'id': '0Bl0khqE5CRu4G24Ko5Z4X', 'name': 'M_Concrete-Rectangular Beam:200x200:419957', 'type': 'IfcBeam', 'geometry': {'type': 'mesh', 'vertices': [[9.178687499008948, 3.8963542939384657, 8.104628079763643e-15], [14.37868749900895, 3.8963542939384657, 8.104628079763643e-15], [14.37868749900895, 3.896354293938433, -0.19999999999999185], [9.178687499008948, 3.896354293938433, -0.19999999999999185], [14.37868749900895, 4.096354293938436, -0.20000000000000812], [9.178687499008948, 4.096354293938436, -0.20000000000000812], [14.37868749900895, 4.096354293938452, -8.132383655379272e-15], [9.178687499008948, 4.096354293938452, -8.132383655379272e-15]], 'triangles': [[1, 0, 3], [2, 1, 3], [2, 3, 5], [4, 2, 5], [4, 5, 7], [6, 4, 7], [6, 7, 0], [1, 6, 0], [3, 0, 5], [0, 7, 5], [4, 1, 2], [4, 6, 1]]}, 'material': {'Concrete, Cast-in-Place gray': {'name': 'Concrete, Cast-in-Place gray', 'type': 'material', 'properties': {}}}, 'profile': None, 'properties': {'Pset_BeamCommon.IsExternal': False, 'Pset_BeamCommon.LoadBearing': True, 'Pset_BeamCommon.id': 2316, 'Pset_BeamCommon.Slope': 0.0, 'Pset_BeamCommon.Roll': 0.0, 'Pset_BeamCommon.Reference': '200x200', 'Pset_BeamCommon.Span': 5570.000000000003, 'Pset_EnvironmentalImpactIndicators.Reference': '200x200', 'Pset_EnvironmentalImpactIndicators.id': 2317, 'Pset_ReinforcementBarPitchOfBeam.Reference': '200x200', 'Pset_ReinforcementBarPitchOfBeam.id': 2319, 'Qto_BeamBaseQuantities.Length': 5570.000000000003, 'Qto_BeamBaseQuantities.CrossSectionArea': 0.040000000000003894, 'Qto_BeamBaseQuantities.OuterSurfaceArea': 4.160000000000036, 'Qto_BeamBaseQuantities.GrossSurfaceArea': 4.240000000000044, 'Qto_BeamBaseQuantities.NetSurfaceArea': 4.2400000000000375, 'Qto_BeamBaseQuantities.GrossVolume': 0.20800000000002036, 'Qto_BeamBaseQuantities.NetVolume': 0.20800000000000346, 'Qto_BeamBaseQuantities.id': 2330}}, '0Bl0khqE5CRu4G24Ko5Z4Z': {'id': '0Bl0khqE5CRu4G24Ko5Z4Z', 'name': 'M_Concrete-Rectangular Beam:200x200:419959', 'type': 'IfcBeam', 'geometry': {'type': 'mesh', 'vertices': [[9.178687499008936, -3.658645706061525, 9.18709552877317e-15], [14.378687499008938, -3.658645706061525, 9.18709552877317e-15], [14.378687499008938, -3.6586457060615616, -0.19999999999999077], [9.178687499008936, -3.6586457060615616, -0.19999999999999077], [14.378687499008938, -3.458645706061558, -0.20000000000000917], [9.178687499008936, -3.458645706061558, -0.20000000000000917], [14.378687499008938, -3.4586457060615396, -9.2148511043888e-15], [9.178687499008936, -3.4586457060615396, -9.2148511043888e-15]], 'triangles': [[1, 0, 3], [2, 1, 3], [2, 3, 5], [4, 2, 5], [4, 5, 7], [6, 4, 7], [6, 7, 0], [1, 6, 0], [3, 0, 5], [0, 7, 5], [4, 1, 2], [4, 6, 1]]}, 'material': {'Concrete, Cast-in-Place gray': {'name': 'Concrete, Cast-in-Place gray', 'type': 'material', 'properties': {}}}, 'profile': None, 'properties': {'Pset_BeamCommon.IsExternal': False, 'Pset_BeamCommon.LoadBearing': True, 'Pset_BeamCommon.id': 2361, 'Pset_BeamCommon.Slope': 0.0, 'Pset_BeamCommon.Roll': 0.0, 'Pset_BeamCommon.Reference': '200x200', 'Pset_BeamCommon.Span': 5570.000000000001, 'Pset_EnvironmentalImpactIndicators.Reference': '200x200', 'Pset_EnvironmentalImpactIndicators.id': 2362, 'Pset_ReinforcementBarPitchOfBeam.Reference': '200x200', 'Pset_ReinforcementBarPitchOfBeam.id': 2364, 'Qto_BeamBaseQuantities.Length': 5570.000000000001, 'Qto_BeamBaseQuantities.CrossSectionArea': 0.04000000000000438, 'Qto_BeamBaseQuantities.OuterSurfaceArea': 4.160000000000041, 'Qto_BeamBaseQuantities.GrossSurfaceArea': 4.24000000000005, 'Qto_BeamBaseQuantities.NetSurfaceArea': 4.2400000000000375, 'Qto_BeamBaseQuantities.GrossVolume': 0.2080000000000229, 'Qto_BeamBaseQuantities.NetVolume': 0.2080000000000035, 'Qto_BeamBaseQuantities.id': 2375}}, '0Bl0khqE5CRu4G24Ko5Z4l': {'id': '0Bl0khqE5CRu4G24Ko5Z4l', 'name': 'M_Concrete-Rectangular Beam:200x200:419963', 'type': 'IfcBeam', 'geometry': {'type': 'mesh', 'vertices': [[9.203687499008938, -1.0536457231978555, 8.243405957841787e-15], [14.323687499008942, -1.0536457231978555, 8.243405957841787e-15], [14.323687499008942, -1.0536457231978886, -0.19999999999999174], [9.203687499008938, -1.0536457231978886, -0.19999999999999174], [14.323687499008942, -0.8536457231978853, -0.20000000000000823], [9.203687499008938, -0.8536457231978853, -0.20000000000000823], [14.323687499008942, -0.8536457231978689, -8.271161533457416e-15], [9.203687499008938, -0.8536457231978689, -8.271161533457416e-15]], 'triangles': [[1, 0, 3], [2, 1, 3], [2, 3, 5], [4, 2, 5], [4, 5, 7], [6, 4, 7], [6, 7, 0], [1, 6, 0], [3, 0, 5], [0, 7, 5], [4, 1, 2], [4, 6, 1]]}, 'material': {'Concrete, Cast-in-Place gray': {'name': 'Concrete, Cast-in-Place gray', 'type': 'material', 'properties': {}}}, 'profile': None, 'properties': {'Pset_BeamCommon.IsExternal': False, 'Pset_BeamCommon.LoadBearing': True, 'Pset_BeamCommon.id': 2406, 'Pset_BeamCommon.Slope': 0.0, 'Pset_BeamCommon.Roll': 0.0, 'Pset_BeamCommon.Reference': '200x200', 'Pset_BeamCommon.Span': 5570.000000000001, 'Pset_EnvironmentalImpactIndicators.Reference': '200x200', 'Pset_EnvironmentalImpactIndicators.id': 2407, 'Pset_ReinforcementBarPitchOfBeam.Reference': '200x200', 'Pset_ReinforcementBarPitchOfBeam.id': 2409, 'Qto_BeamBaseQuantities.Length': 5570.000000000001, 'Qto_BeamBaseQuantities.CrossSectionArea': 0.04000000000000395, 'Qto_BeamBaseQuantities.OuterSurfaceArea': 4.0960000000000365, 'Qto_BeamBaseQuantities.GrossSurfaceArea': 4.176000000000045, 'Qto_BeamBaseQuantities.NetSurfaceArea': 4.176000000000037, 'Qto_BeamBaseQuantities.GrossVolume': 0.2048000000000204, 'Qto_BeamBaseQuantities.NetVolume': 0.20480000000000348, 'Qto_BeamBaseQuantities.id': 2420}}, '0Bl0khqE5CRu4G24Ko5Z4f': {'id': '0Bl0khqE5CRu4G24Ko5Z4f', 'name': 'M_Concrete-Rectangular Beam:200x200:419965', 'type': 'IfcBeam', 'geometry': {'type': 'mesh', 'vertices': [[14.603687499008947, 3.771354293938446, 0.0], [14.603687499008947, -0.7536457231978759, 0.0], [14.403687499008944, -0.7536457231978759, -1.3877787807814457e-17], [14.403687499008944, 3.771354293938446, -1.3877787807814457e-17], [14.403687499008942, -0.7536457231978759, -0.19999999999999998], [14.403687499008942, 3.771354293938446, -0.19999999999999998], [14.603687499008949, -0.7536457231978759, -0.19999999999999998], [14.603687499008949, 3.771354293938446, -0.19999999999999998]], 'triangles': [[1, 0, 3], [2, 1, 3], [2, 3, 5], [4, 2, 5], [4, 5, 7], [6, 4, 7], [6, 7, 0], [1, 6, 0], [3, 0, 5], [0, 7, 5], [4, 1, 2], [4, 6, 1]]}, 'material': {'Concrete, Cast-in-Place gray': {'name': 'Concrete, Cast-in-Place gray', 'type': 'material', 'properties': {}}}, 'profile': None, 'properties': {'Pset_BeamCommon.IsExternal': False, 'Pset_BeamCommon.LoadBearing': True, 'Pset_BeamCommon.id': 2451, 'Pset_BeamCommon.Slope': 0.0, 'Pset_BeamCommon.Roll': 0.0, 'Pset_BeamCommon.Reference': '200x200', 'Pset_BeamCommon.Span': 4950.000017136321, 'Pset_EnvironmentalImpactIndicators.Reference': '200x200', 'Pset_EnvironmentalImpactIndicators.id': 2452, 'Pset_ReinforcementBarPitchOfBeam.Reference': '200x200', 'Pset_ReinforcementBarPitchOfBeam.id': 2454, 'Qto_BeamBaseQuantities.Length': 4950.000017136321, 'Qto_BeamBaseQuantities.CrossSectionArea': 0.040000000000000854, 'Qto_BeamBaseQuantities.OuterSurfaceArea': 3.6200000137091157, 'Qto_BeamBaseQuantities.GrossSurfaceArea': 3.7000000137091176, 'Qto_BeamBaseQuantities.NetSurfaceArea': 3.700000013709098, 'Qto_BeamBaseQuantities.GrossVolume': 0.18100000068545677, 'Qto_BeamBaseQuantities.NetVolume': 0.1810000006854568, 'Qto_BeamBaseQuantities.id': 2465}}, '0Bl0khqE5CRu4G24Ko5Z4h': {'id': '0Bl0khqE5CRu4G24Ko5Z4h', 'name': 'M_Concrete-Rectangular Beam:200x200:419967', 'type': 'IfcBeam', 'geometry': {'type': 'mesh', 'vertices': [[14.60368749900894, -1.1536457231978754, 0.0], [14.60368749900894, -3.3586457060615458, 0.0], [14.403687499008935, -3.3586457060615458, -1.3877787807814457e-17], [14.403687499008935, -1.1536457231978754, -1.3877787807814457e-17], [14.403687499008935, -3.3586457060615458, -0.19999999999999998], [14.403687499008935, -1.1536457231978754, -0.19999999999999998], [14.60368749900894, -3.3586457060615458, -0.19999999999999998], [14.60368749900894, -1.1536457231978754, -0.19999999999999998]], 'triangles': [[1, 0, 3], [2, 1, 3], [2, 3, 5], [4, 2, 5], [4, 5, 7], [6, 4, 7], [6, 7, 0], [1, 6, 0], [3, 0, 5], [0, 7, 5], [4, 1, 2], [4, 6, 1]]}, 'material': {'Concrete, Cast-in-Place gray': {'name': 'Concrete, Cast-in-Place gray', 'type': 'material', 'properties': {}}}, 'profile': None, 'properties': {'Pset_BeamCommon.IsExternal': False, 'Pset_BeamCommon.LoadBearing': True, 'Pset_BeamCommon.id': 2496, 'Pset_BeamCommon.Slope': 0.0, 'Pset_BeamCommon.Roll': 0.0, 'Pset_BeamCommon.Reference': '200x200', 'Pset_BeamCommon.Span': 2604.99998286367, 'Pset_EnvironmentalImpactIndicators.Reference': '200x200', 'Pset_EnvironmentalImpactIndicators.id': 2497, 'Pset_ReinforcementBarPitchOfBeam.Reference': '200x200', 'Pset_ReinforcementBarPitchOfBeam.id': 2499, 'Qto_BeamBaseQuantities.Length': 2604.99998286367, 'Qto_BeamBaseQuantities.CrossSectionArea': 0.04000000000000086, 'Qto_BeamBaseQuantities.OuterSurfaceArea': 1.7639999862909552, 'Qto_BeamBaseQuantities.GrossSurfaceArea': 1.8439999862909568, 'Qto_BeamBaseQuantities.NetSurfaceArea': 1.843999986290957, 'Qto_BeamBaseQuantities.GrossVolume': 0.08819999931454872, 'Qto_BeamBaseQuantities.NetVolume': 0.08819999931454871, 'Qto_BeamBaseQuantities.id': 2510}}, '0Bl0khqE5CRu4G24Ko5Z1D': {'id': '0Bl0khqE5CRu4G24Ko5Z1D', 'name': 'M_Concrete-Rectangular Beam:250 x 500mm:420121', 'type': 'IfcBeam', 'geometry': {'type': 'mesh', 'vertices': [[-1.721312500991058, 3.8713542939384933, 5.400000000000265], [3.478687499008946, 3.8713542939384933, 5.400000000000265], [3.478687499008946, 3.8713542939384684, 5.099999999999747], [-1.721312500991058, 3.8713542939384684, 5.099999999999747], [3.478687499008946, 4.121354293938473, 5.099999999999734], [-1.721312500991058, 4.121354293938473, 5.099999999999734], [3.478687499008946, 4.121354293938497, 5.400000000000252], [-1.721312500991058, 4.121354293938497, 5.400000000000252]], 'triangles': [[1, 0, 3], [2, 1, 3], [2, 3, 5], [4, 2, 5], [4, 5, 7], [6, 4, 7], [6, 7, 0], [1, 6, 0], [3, 0, 5], [0, 7, 5], [4, 1, 2], [4, 6, 1]]}, 'material': {'Concrete, Cast-in-Place gray': {'name': 'Concrete, Cast-in-Place gray', 'type': 'material', 'properties': {}}}, 'profile': None, 'properties': {'Pset_BeamCommon.IsExternal': False, 'Pset_BeamCommon.LoadBearing': True, 'Pset_BeamCommon.id': 2682, 'Pset_BeamCommon.Slope': 0.0, 'Pset_BeamCommon.Reference': '250 x 500mm', 'Pset_BeamCommon.Roll': 0.0, 'Pset_BeamCommon.Span': 5570.000000000003, 'Pset_EnvironmentalImpactIndicators.Reference': '250 x 500mm', 'Pset_EnvironmentalImpactIndicators.id': 2683, 'Pset_ReinforcementBarPitchOfBeam.Reference': '250 x 500mm', 'Pset_ReinforcementBarPitchOfBeam.id': 2685, 'Qto_BeamBaseQuantities.Length': 5570.000000000003, 'Qto_BeamBaseQuantities.CrossSectionArea': 0.07500000000012812, 'Qto_BeamBaseQuantities.OuterSurfaceArea': 5.720000000005514, 'Qto_BeamBaseQuantities.GrossSurfaceArea': 5.87000000000577, 'Qto_BeamBaseQuantities.NetSurfaceArea': 5.870000000005687, 'Qto_BeamBaseQuantities.GrossVolume': 0.3900000000006665, 'Qto_BeamBaseQuantities.NetVolume': 0.39000000000067897, 'Qto_BeamBaseQuantities.id': 2696}}, '0Bl0khqE5CRu4G24Ko5Z1F': {'id': '0Bl0khqE5CRu4G24Ko5Z1F', 'name': 'M_Concrete-Rectangular Beam:250 x 500mm:420123', 'type': 'IfcBeam', 'geometry': {'type': 'mesh', 'vertices': [[-1.7213125009910677, -3.6836457060615, 5.400000000000266], [3.4786874990089327, -3.6836457060615, 5.400000000000266], [3.4786874990089327, -3.683645706061526, 5.099999999999748], [-1.7213125009910677, -3.683645706061526, 5.099999999999748], [3.4786874990089327, -3.433645706061522, 5.099999999999733], [-1.7213125009910677, -3.433645706061522, 5.099999999999733], [3.4786874990089327, -3.433645706061493, 5.400000000000251], [-1.7213125009910677, -3.433645706061493, 5.400000000000251]], 'triangles': [[1, 0, 3], [2, 1, 3], [2, 3, 5], [4, 2, 5], [4, 5, 7], [6, 4, 7], [6, 7, 0], [1, 6, 0], [3, 0, 5], [0, 7, 5], [4, 1, 2], [4, 6, 1]]}, 'material': {'Concrete, Cast-in-Place gray': {'name': 'Concrete, Cast-in-Place gray', 'type': 'material', 'properties': {}}}, 'profile': None, 'properties': {'Pset_BeamCommon.IsExternal': False, 'Pset_BeamCommon.LoadBearing': True, 'Pset_BeamCommon.id': 2728, 'Pset_BeamCommon.Slope': 0.0, 'Pset_BeamCommon.Reference': '250 x 500mm', 'Pset_BeamCommon.Roll': 0.0, 'Pset_BeamCommon.Span': 5570.000000000001, 'Pset_EnvironmentalImpactIndicators.Reference': '250 x 500mm', 'Pset_EnvironmentalImpactIndicators.id': 2729, 'Pset_ReinforcementBarPitchOfBeam.Reference': '250 x 500mm', 'Pset_ReinforcementBarPitchOfBeam.id': 2731, 'Qto_BeamBaseQuantities.Length': 5570.000000000001, 'Qto_BeamBaseQuantities.CrossSectionArea': 0.07500000000012827, 'Qto_BeamBaseQuantities.OuterSurfaceArea': 5.720000000005538, 'Qto_BeamBaseQuantities.GrossSurfaceArea': 5.870000000005795, 'Qto_BeamBaseQuantities.NetSurfaceArea': 5.8700000000056844, 'Qto_BeamBaseQuantities.GrossVolume': 0.390000000000667, 'Qto_BeamBaseQuantities.NetVolume': 0.3900000000006789, 'Qto_BeamBaseQuantities.id': 2742}}, '0Bl0khqE5CRu4G24Ko5Z1s': {'id': '0Bl0khqE5CRu4G24Ko5Z1s', 'name': 'M_Concrete-Rectangular Beam:250 x 500mm:420130', 'type': 'IfcBeam', 'geometry': {'type': 'mesh', 'vertices': [[-1.6713125009910568, -1.0786457231978288, 5.4000000000000075], [3.4536874990089386, -1.0786457231978288, 5.4000000000000075], [3.4536874990089386, -1.0786457231978532, 5.100000000000005], [-1.6713125009910568, -1.0786457231978532, 5.100000000000005], [3.4536874990089386, -0.8286457231978498, 5.099999999999992], [-1.6713125009910568, -0.8286457231978498, 5.099999999999992], [3.4536874990089386, -0.8286457231978239, 5.399999999999993], [-1.6713125009910568, -0.8286457231978239, 5.399999999999993]], 'triangles': [[1, 0, 3], [2, 1, 3], [2, 3, 5], [4, 2, 5], [4, 5, 7], [6, 4, 7], [6, 7, 0], [1, 6, 0], [3, 0, 5], [0, 7, 5], [4, 1, 2], [4, 6, 1]]}, 'material': {'Concrete, Cast-in-Place gray': {'name': 'Concrete, Cast-in-Place gray', 'type': 'material', 'properties': {}}}, 'profile': None, 'properties': {'Pset_BeamCommon.IsExternal': False, 'Pset_BeamCommon.LoadBearing': True, 'Pset_BeamCommon.id': 2844, 'Pset_BeamCommon.Slope': 0.0, 'Pset_BeamCommon.Reference': '250 x 500mm', 'Pset_BeamCommon.Roll': 0.0, 'Pset_BeamCommon.Span': 5570.000000000001, 'Pset_EnvironmentalImpactIndicators.Reference': '250 x 500mm', 'Pset_EnvironmentalImpactIndicators.id': 2845, 'Pset_ReinforcementBarPitchOfBeam.Reference': '250 x 500mm', 'Pset_ReinforcementBarPitchOfBeam.id': 2847, 'Qto_BeamBaseQuantities.Length': 5570.000000000001, 'Qto_BeamBaseQuantities.CrossSectionArea': 0.07499999999999929, 'Qto_BeamBaseQuantities.OuterSurfaceArea': 5.637500000000144, 'Qto_BeamBaseQuantities.GrossSurfaceArea': 5.787500000000143, 'Qto_BeamBaseQuantities.NetSurfaceArea': 5.787500000000051, 'Qto_BeamBaseQuantities.GrossVolume': 0.384374999999996, 'Qto_BeamBaseQuantities.NetVolume': 0.38437500000000735, 'Qto_BeamBaseQuantities.id': 2858}}, '0Bl0khqE5CRu4G24Ko5Z1m': {'id': '0Bl0khqE5CRu4G24Ko5Z1m', 'name': 'M_Concrete-Rectangular Beam:250 x 500mm:420132', 'type': 'IfcBeam', 'geometry': {'type': 'mesh', 'vertices': [[-1.7213125009910588, 3.771354293938501, 5.400000000000001], [-1.7213125009910588, -0.7536457231978235, 5.400000000000001], [-1.9713125009910617, -0.7536457231978235, 5.400000000000001], [-1.9713125009910617, 3.771354293938501, 5.400000000000001], [-1.9713125009910621, -0.7536457231978235, 5.1], [-1.9713125009910621, 3.771354293938501, 5.1], [-1.7213125009910586, -0.7536457231978235, 5.1], [-1.7213125009910586, 3.771354293938501, 5.1]], 'triangles': [[1, 0, 3], [2, 1, 3], [2, 3, 5], [4, 2, 5], [4, 5, 7], [6, 4, 7], [6, 7, 0], [1, 6, 0], [3, 0, 5], [0, 7, 5], [4, 1, 2], [4, 6, 1]]}, 'material': {'Concrete, Cast-in-Place gray': {'name': 'Concrete, Cast-in-Place gray', 'type': 'material', 'properties': {}}}, 'profile': None, 'properties': {'Pset_BeamCommon.IsExternal': False, 'Pset_BeamCommon.LoadBearing': True, 'Pset_BeamCommon.id': 2890, 'Pset_BeamCommon.Slope': 0.0, 'Pset_BeamCommon.Reference': '250 x 500mm', 'Pset_BeamCommon.Roll': 0.0, 'Pset_BeamCommon.Span': 4950.000017136324, 'Pset_EnvironmentalImpactIndicators.Reference': '250 x 500mm', 'Pset_EnvironmentalImpactIndicators.id': 2891, 'Pset_ReinforcementBarPitchOfBeam.Reference': '250 x 500mm', 'Pset_ReinforcementBarPitchOfBeam.id': 2893, 'Qto_BeamBaseQuantities.Length': 4950.000017136324, 'Qto_BeamBaseQuantities.CrossSectionArea': 0.07500000000000155, 'Qto_BeamBaseQuantities.OuterSurfaceArea': 4.977500018850008, 'Qto_BeamBaseQuantities.GrossSurfaceArea': 5.127500018850011, 'Qto_BeamBaseQuantities.NetSurfaceArea': 5.127500018850007, 'Qto_BeamBaseQuantities.GrossVolume': 0.3393750012852314, 'Qto_BeamBaseQuantities.NetVolume': 0.3393750012852312, 'Qto_BeamBaseQuantities.id': 2904}}, '0Bl0khqE5CRu4G24Ko5Z1o': {'id': '0Bl0khqE5CRu4G24Ko5Z1o', 'name': 'M_Concrete-Rectangular Beam:250 x 500mm:420134', 'type': 'IfcBeam', 'geometry': {'type': 'mesh', 'vertices': [[-1.7213125009910648, -1.1536457231978223, 5.4], [-1.7213125009910648, -3.3336457060614935, 5.4], [-1.9713125009910677, -3.3336457060614935, 5.4], [-1.9713125009910677, -1.1536457231978223, 5.4], [-1.9713125009910681, -3.3336457060614935, 5.099999999999999], [-1.9713125009910681, -1.1536457231978223, 5.099999999999999], [-1.7213125009910646, -3.3336457060614935, 5.1], [-1.7213125009910646, -1.1536457231978223, 5.1]], 'triangles': [[1, 0, 3], [2, 1, 3], [2, 3, 5], [4, 2, 5], [4, 5, 7], [6, 4, 7], [6, 7, 0], [1, 6, 0], [3, 0, 7], [3, 7, 5], [6, 1, 2], [4, 6, 2]]}, 'material': {'Concrete, Cast-in-Place gray': {'name': 'Concrete, Cast-in-Place gray', 'type': 'material', 'properties': {}}}, 'profile': None, 'properties': {'Pset_BeamCommon.IsExternal': False, 'Pset_BeamCommon.LoadBearing': True, 'Pset_BeamCommon.id': 2936, 'Pset_BeamCommon.Slope': 0.0, 'Pset_BeamCommon.Reference': '250 x 500mm', 'Pset_BeamCommon.Roll': 0.0, 'Pset_BeamCommon.Span': 2604.99998286367, 'Pset_EnvironmentalImpactIndicators.Reference': '250 x 500mm', 'Pset_EnvironmentalImpactIndicators.id': 2937, 'Pset_ReinforcementBarPitchOfBeam.Reference': '250 x 500mm', 'Pset_ReinforcementBarPitchOfBeam.id': 2939, 'Qto_BeamBaseQuantities.Length': 2604.99998286367, 'Qto_BeamBaseQuantities.CrossSectionArea': 0.07500000000000162, 'Qto_BeamBaseQuantities.OuterSurfaceArea': 2.3979999811500625, 'Qto_BeamBaseQuantities.GrossSurfaceArea': 2.547999981150066, 'Qto_BeamBaseQuantities.NetSurfaceArea': 2.5479999811500638, 'Qto_BeamBaseQuantities.GrossVolume': 0.16349999871477888, 'Qto_BeamBaseQuantities.NetVolume': 0.16349999871477838, 'Qto_BeamBaseQuantities.id': 2950}}, '0Bl0khqE5CRu4G24Ko5Z1y': {'id': '0Bl0khqE5CRu4G24Ko5Z1y', 'name': 'M_Concrete-Rectangular Beam:250 x 500mm:420136', 'type': 'IfcBeam', 'geometry': {'type': 'mesh', 'vertices': [[3.7286874990089443, 3.7713542939384825, 5.400000000000001], [3.7286874990089443, -0.7536457231978404, 5.400000000000001], [3.47868749900894, -0.7536457231978404, 5.400000000000001], [3.47868749900894, 3.7713542939384825, 5.400000000000001], [3.47868749900894, -0.7536457231978404, 5.1], [3.47868749900894, 3.7713542939384825, 5.1], [3.7286874990089434, -0.7536457231978404, 5.1], [3.7286874990089434, 3.7713542939384825, 5.1]], 'triangles': [[1, 0, 3], [2, 1, 3], [2, 3, 5], [4, 2, 5], [4, 5, 7], [6, 4, 7], [6, 7, 0], [1, 6, 0], [3, 0, 5], [0, 7, 5], [4, 1, 2], [4, 6, 1]]}, 'material': {'Concrete, Cast-in-Place gray': {'name': 'Concrete, Cast-in-Place gray', 'type': 'material', 'properties': {}}}, 'profile': None, 'properties': {'Pset_BeamCommon.IsExternal': False, 'Pset_BeamCommon.LoadBearing': True, 'Pset_BeamCommon.id': 2982, 'Pset_BeamCommon.Slope': 0.0, 'Pset_BeamCommon.Reference': '250 x 500mm', 'Pset_BeamCommon.Roll': 0.0, 'Pset_BeamCommon.Span': 4950.000017136321, 'Pset_EnvironmentalImpactIndicators.Reference': '250 x 500mm', 'Pset_EnvironmentalImpactIndicators.id': 2983, 'Pset_ReinforcementBarPitchOfBeam.Reference': '250 x 500mm', 'Pset_ReinforcementBarPitchOfBeam.id': 2985, 'Qto_BeamBaseQuantities.Length': 4950.000017136321, 'Qto_BeamBaseQuantities.CrossSectionArea': 0.0750000000000016, 'Qto_BeamBaseQuantities.OuterSurfaceArea': 4.977500018850011, 'Qto_BeamBaseQuantities.GrossSurfaceArea': 5.127500018850014, 'Qto_BeamBaseQuantities.NetSurfaceArea': 5.127500018850013, 'Qto_BeamBaseQuantities.GrossVolume': 0.3393750012852314, 'Qto_BeamBaseQuantities.NetVolume': 0.3393750012852317, 'Qto_BeamBaseQuantities.id': 2996}}, '0Bl0khqE5CRu4G24Ko5Z1_': {'id': '0Bl0khqE5CRu4G24Ko5Z1_', 'name': 'M_Concrete-Rectangular Beam:250 x 500mm:420138', 'type': 'IfcBeam', 'geometry': {'type': 'mesh', 'vertices': [[3.7286874990089363, -1.1536457231978399, 5.400000000000001], [3.7286874990089363, -3.3586457060615102, 5.400000000000001], [3.478687499008932, -3.3586457060615102, 5.400000000000001], [3.478687499008932, -1.1536457231978399, 5.400000000000001], [3.478687499008932, -3.3586457060615102, 5.1], [3.478687499008932, -1.1536457231978399, 5.1], [3.728687499008936, -3.3586457060615102, 5.1], [3.728687499008936, -1.1536457231978399, 5.1]], 'triangles': [[1, 0, 3], [2, 1, 3], [2, 3, 5], [4, 2, 5], [4, 5, 7], [6, 4, 7], [6, 7, 0], [1, 6, 0], [3, 0, 5], [0, 7, 5], [4, 1, 2], [4, 6, 1]]}, 'material': {'Concrete, Cast-in-Place gray': {'name': 'Concrete, Cast-in-Place gray', 'type': 'material', 'properties': {}}}, 'profile': None, 'properties': {'Pset_BeamCommon.IsExternal': False, 'Pset_BeamCommon.LoadBearing': True, 'Pset_BeamCommon.id': 3028, 'Pset_BeamCommon.Slope': 0.0, 'Pset_BeamCommon.Reference': '250 x 500mm', 'Pset_BeamCommon.Roll': 0.0, 'Pset_BeamCommon.Span': 2604.99998286367, 'Pset_EnvironmentalImpactIndicators.Reference': '250 x 500mm', 'Pset_EnvironmentalImpactIndicators.id': 3029, 'Pset_ReinforcementBarPitchOfBeam.Reference': '250 x 500mm', 'Pset_ReinforcementBarPitchOfBeam.id': 3031, 'Qto_BeamBaseQuantities.Length': 2604.99998286367, 'Qto_BeamBaseQuantities.CrossSectionArea': 0.07500000000000168, 'Qto_BeamBaseQuantities.OuterSurfaceArea': 2.425499981150066, 'Qto_BeamBaseQuantities.GrossSurfaceArea': 2.5754999811500694, 'Qto_BeamBaseQuantities.NetSurfaceArea': 2.575499981150067, 'Qto_BeamBaseQuantities.GrossVolume': 0.16537499871477898, 'Qto_BeamBaseQuantities.NetVolume': 0.165374998714779, 'Qto_BeamBaseQuantities.id': 3042}}, '0Bl0khqE5CRu4G24Ko5Z1a': {'id': '0Bl0khqE5CRu4G24Ko5Z1a', 'name': 'M_Concrete-Rectangular Beam:250 x 500mm:420144', 'type': 'IfcBeam', 'geometry': {'type': 'mesh', 'vertices': [[3.7286874990089443, 3.8713542939384755, 5.400000000000265], [8.928687499008948, 3.8713542939384755, 5.400000000000265], [8.928687499008948, 3.871354293938451, 5.099999999999747], [3.7286874990089443, 3.871354293938451, 5.099999999999747], [8.928687499008948, 4.121354293938455, 5.099999999999734], [3.7286874990089443, 4.121354293938455, 5.099999999999734], [8.928687499008948, 4.121354293938479, 5.400000000000252], [3.7286874990089443, 4.121354293938479, 5.400000000000252]], 'triangles': [[1, 0, 3], [2, 1, 3], [2, 3, 5], [4, 2, 5], [4, 5, 7], [6, 4, 7], [6, 7, 0], [1, 6, 0], [3, 0, 5], [0, 7, 5], [4, 1, 2], [4, 6, 1]]}, 'material': {'Concrete, Cast-in-Place gray': {'name': 'Concrete, Cast-in-Place gray', 'type': 'material', 'properties': {}}}, 'profile': None, 'properties': {'Pset_BeamCommon.IsExternal': False, 'Pset_BeamCommon.LoadBearing': True, 'Pset_BeamCommon.id': 3144, 'Pset_BeamCommon.Slope': 0.0, 'Pset_BeamCommon.Reference': '250 x 500mm', 'Pset_BeamCommon.Roll': 0.0, 'Pset_BeamCommon.Span': 5570.000000000003, 'Pset_EnvironmentalImpactIndicators.Reference': '250 x 500mm', 'Pset_EnvironmentalImpactIndicators.id': 3145, 'Pset_ReinforcementBarPitchOfBeam.Reference': '250 x 500mm', 'Pset_ReinforcementBarPitchOfBeam.id': 3147, 'Qto_BeamBaseQuantities.Length': 5570.000000000003, 'Qto_BeamBaseQuantities.CrossSectionArea': 0.07500000000012812, 'Qto_BeamBaseQuantities.OuterSurfaceArea': 5.720000000005511, 'Qto_BeamBaseQuantities.GrossSurfaceArea': 5.870000000005767, 'Qto_BeamBaseQuantities.NetSurfaceArea': 5.870000000005688, 'Qto_BeamBaseQuantities.GrossVolume': 0.3900000000006665, 'Qto_BeamBaseQuantities.NetVolume': 0.39000000000067914, 'Qto_BeamBaseQuantities.id': 3158}}, '0Bl0khqE5CRu4G24Ko5Z1c': {'id': '0Bl0khqE5CRu4G24Ko5Z1c', 'name': 'M_Concrete-Rectangular Beam:250 x 500mm:420146', 'type': 'IfcBeam', 'geometry': {'type': 'mesh', 'vertices': [[3.7286874990089323, -3.6836457060615175, 5.400000000000266], [8.928687499008936, -3.6836457060615175, 5.400000000000266], [8.928687499008936, -3.6836457060615437, 5.099999999999748], [3.7286874990089323, -3.6836457060615437, 5.099999999999748], [8.928687499008936, -3.4336457060615397, 5.099999999999733], [3.7286874990089323, -3.4336457060615397, 5.099999999999733], [8.928687499008936, -3.4336457060615104, 5.400000000000251], [3.7286874990089323, -3.4336457060615104, 5.400000000000251]], 'triangles': [[1, 0, 3], [2, 1, 3], [2, 3, 5], [4, 2, 5], [4, 5, 7], [6, 4, 7], [6, 7, 0], [1, 6, 0], [3, 0, 5], [0, 7, 5], [4, 1, 2], [4, 6, 1]]}, 'material': {'Concrete, Cast-in-Place gray': {'name': 'Concrete, Cast-in-Place gray', 'type': 'material', 'properties': {}}}, 'profile': None, 'properties': {'Pset_BeamCommon.IsExternal': False, 'Pset_BeamCommon.LoadBearing': True, 'Pset_BeamCommon.id': 3190, 'Pset_BeamCommon.Slope': 0.0, 'Pset_BeamCommon.Reference': '250 x 500mm', 'Pset_BeamCommon.Roll': 0.0, 'Pset_BeamCommon.Span': 5570.000000000001, 'Pset_EnvironmentalImpactIndicators.Reference': '250 x 500mm', 'Pset_EnvironmentalImpactIndicators.id': 3191, 'Pset_ReinforcementBarPitchOfBeam.Reference': '250 x 500mm', 'Pset_ReinforcementBarPitchOfBeam.id': 3193, 'Qto_BeamBaseQuantities.Length': 5570.000000000001, 'Qto_BeamBaseQuantities.CrossSectionArea': 0.07500000000012827, 'Qto_BeamBaseQuantities.OuterSurfaceArea': 5.720000000005541, 'Qto_BeamBaseQuantities.GrossSurfaceArea': 5.870000000005797, 'Qto_BeamBaseQuantities.NetSurfaceArea': 5.87000000000569, 'Qto_BeamBaseQuantities.GrossVolume': 0.3900000000006672, 'Qto_BeamBaseQuantities.NetVolume': 0.390000000000679, 'Qto_BeamBaseQuantities.id': 3204}}, '0Bl0khqE5CRu4G24Ko5Z1Y': {'id': '0Bl0khqE5CRu4G24Ko5Z1Y', 'name': 'M_Concrete-Rectangular Beam:250 x 500mm:420150', 'type': 'IfcBeam', 'geometry': {'type': 'mesh', 'vertices': [[3.7536874990089375, -1.0786457231978472, 5.4000000000000075], [8.903687499008939, -1.0786457231978472, 5.4000000000000075], [8.903687499008939, -1.0786457231978712, 5.100000000000005], [3.7536874990089375, -1.0786457231978712, 5.100000000000005], [8.903687499008939, -0.8286457231978678, 5.099999999999992], [3.7536874990089375, -0.8286457231978678, 5.099999999999992], [8.903687499008939, -0.8286457231978424, 5.399999999999993], [3.7536874990089375, -0.8286457231978424, 5.399999999999993]], 'triangles': [[1, 0, 3], [2, 1, 3], [2, 3, 5], [4, 2, 5], [4, 5, 7], [6, 4, 7], [6, 7, 0], [1, 6, 0], [3, 0, 5], [0, 7, 5], [4, 1, 2], [4, 6, 1]]}, 'material': {'Concrete, Cast-in-Place gray': {'name': 'Concrete, Cast-in-Place gray', 'type': 'material', 'properties': {}}}, 'profile': None, 'properties': {'Pset_BeamCommon.IsExternal': False, 'Pset_BeamCommon.LoadBearing': True, 'Pset_BeamCommon.id': 3271, 'Pset_BeamCommon.Slope': 0.0, 'Pset_BeamCommon.Reference': '250 x 500mm', 'Pset_BeamCommon.Roll': 0.0, 'Pset_BeamCommon.Span': 5570.000000000001, 'Pset_EnvironmentalImpactIndicators.Reference': '250 x 500mm', 'Pset_EnvironmentalImpactIndicators.id': 3272, 'Pset_ReinforcementBarPitchOfBeam.Reference': '250 x 500mm', 'Pset_ReinforcementBarPitchOfBeam.id': 3274, 'Qto_BeamBaseQuantities.Length': 5570.000000000001, 'Qto_BeamBaseQuantities.CrossSectionArea': 0.07499999999999928, 'Qto_BeamBaseQuantities.OuterSurfaceArea': 5.665000000000152, 'Qto_BeamBaseQuantities.GrossSurfaceArea': 5.8150000000001505, 'Qto_BeamBaseQuantities.NetSurfaceArea': 5.81500000000006, 'Qto_BeamBaseQuantities.GrossVolume': 0.3862499999999963, 'Qto_BeamBaseQuantities.NetVolume': 0.3862500000000079, 'Qto_BeamBaseQuantities.id': 3285}}, '0Bl0khqE5CRu4G24Ko5Z1i': {'id': '0Bl0khqE5CRu4G24Ko5Z1i', 'name': 'M_Concrete-Rectangular Beam:250 x 500mm:420152', 'type': 'IfcBeam', 'geometry': {'type': 'mesh', 'vertices': [[9.178687499008946, 3.771354293938465, 5.400000000000001], [9.178687499008946, -0.7536457231978586, 5.400000000000001], [8.928687499008944, -0.7536457231978586, 5.400000000000001], [8.928687499008944, 3.771354293938465, 5.400000000000001], [8.928687499008944, -0.7536457231978586, 5.1], [8.928687499008944, 3.771354293938465, 5.1], [9.178687499008946, -0.7536457231978586, 5.1], [9.178687499008946, 3.771354293938465, 5.1]], 'triangles': [[1, 0, 3], [2, 1, 3], [2, 3, 5], [4, 2, 5], [4, 5, 7], [6, 4, 7], [6, 7, 0], [1, 6, 0], [3, 0, 5], [0, 7, 5], [4, 1, 2], [4, 6, 1]]}, 'material': {'Concrete, Cast-in-Place gray': {'name': 'Concrete, Cast-in-Place gray', 'type': 'material', 'properties': {}}}, 'profile': None, 'properties': {'Pset_BeamCommon.IsExternal': False, 'Pset_BeamCommon.LoadBearing': True, 'Pset_BeamCommon.id': 3317, 'Pset_BeamCommon.Slope': 0.0, 'Pset_BeamCommon.Reference': '250 x 500mm', 'Pset_BeamCommon.Roll': 0.0, 'Pset_BeamCommon.Span': 4950.000017136321, 'Pset_EnvironmentalImpactIndicators.Reference': '250 x 500mm', 'Pset_EnvironmentalImpactIndicators.id': 3318, 'Pset_ReinforcementBarPitchOfBeam.Reference': '250 x 500mm', 'Pset_ReinforcementBarPitchOfBeam.id': 3320, 'Qto_BeamBaseQuantities.Length': 4950.000017136321, 'Qto_BeamBaseQuantities.CrossSectionArea': 0.07500000000000139, 'Qto_BeamBaseQuantities.OuterSurfaceArea': 4.977500018850001, 'Qto_BeamBaseQuantities.GrossSurfaceArea': 5.127500018850004, 'Qto_BeamBaseQuantities.NetSurfaceArea': 5.12750001885, 'Qto_BeamBaseQuantities.GrossVolume': 0.33937500128523057, 'Qto_BeamBaseQuantities.NetVolume': 0.3393750012852295, 'Qto_BeamBaseQuantities.id': 3331}}, '0Bl0khqE5CRu4G24Ko5Z1k': {'id': '0Bl0khqE5CRu4G24Ko5Z1k', 'name': 'M_Concrete-Rectangular Beam:250 x 500mm:420154', 'type': 'IfcBeam', 'geometry': {'type': 'mesh', 'vertices': [[9.178687499008936, -1.1536457231978576, 5.400000000000001], [9.178687499008936, -3.358645706061528, 5.400000000000001], [8.928687499008936, -3.358645706061528, 5.400000000000001], [8.928687499008936, -1.1536457231978576, 5.400000000000001], [8.928687499008934, -3.358645706061528, 5.1], [8.928687499008934, -1.1536457231978576, 5.1], [9.178687499008937, -3.358645706061528, 5.1], [9.178687499008937, -1.1536457231978576, 5.1]], 'triangles': [[1, 0, 3], [2, 1, 3], [2, 3, 5], [4, 2, 5], [4, 5, 7], [6, 4, 7], [6, 7, 0], [1, 6, 0], [3, 0, 5], [0, 7, 5], [4, 1, 2], [4, 6, 1]]}, 'material': {'Concrete, Cast-in-Place gray': {'name': 'Concrete, Cast-in-Place gray', 'type': 'material', 'properties': {}}}, 'profile': None, 'properties': {'Pset_BeamCommon.IsExternal': False, 'Pset_BeamCommon.LoadBearing': True, 'Pset_BeamCommon.id': 3363, 'Pset_BeamCommon.Slope': 0.0, 'Pset_BeamCommon.Reference': '250 x 500mm', 'Pset_BeamCommon.Roll': 0.0, 'Pset_BeamCommon.Span': 2604.99998286367, 'Pset_EnvironmentalImpactIndicators.Reference': '250 x 500mm', 'Pset_EnvironmentalImpactIndicators.id': 3364, 'Pset_ReinforcementBarPitchOfBeam.Reference': '250 x 500mm', 'Pset_ReinforcementBarPitchOfBeam.id': 3366, 'Qto_BeamBaseQuantities.Length': 2604.99998286367, 'Qto_BeamBaseQuantities.CrossSectionArea': 0.07500000000000137, 'Qto_BeamBaseQuantities.OuterSurfaceArea': 2.4254999811500593, 'Qto_BeamBaseQuantities.GrossSurfaceArea': 2.575499981150062, 'Qto_BeamBaseQuantities.NetSurfaceArea': 2.5754999811500614, 'Qto_BeamBaseQuantities.GrossVolume': 0.16537499871477832, 'Qto_BeamBaseQuantities.NetVolume': 0.16537499871477826, 'Qto_BeamBaseQuantities.id': 3377}}, '0Bl0khqE5CRu4G24Ko5Z0K': {'id': '0Bl0khqE5CRu4G24Ko5Z0K', 'name': 'M_Concrete-Rectangular Beam:250 x 500mm:420160', 'type': 'IfcBeam', 'geometry': {'type': 'mesh', 'vertices': [[11.48868749937645, 4.096931165842064, 5.600000000000175], [11.48868749937645, 4.121354293938454, 5.600000000000001], [9.209677696650244, 4.121354293938462, 5.600000000000001], [9.209677696650244, 4.096931165842071, 5.600000000000175], [9.178687499008948, 3.8713542939384578, 5.400000000000519], [9.178687499008948, 3.8713542939384578, 5.100000000000001], [14.37868749900895, 3.871354293938441, 5.100000000000001], [14.37868749900895, 3.871354293938441, 5.400000000000519], [9.178687499008948, 4.121354293938462, 5.100000000000001], [14.37868749900895, 4.121354293938444, 5.100000000000001], [14.37868749900895, 4.121354293938444, 5.400000000000519], [9.178687499008948, 4.121354293938462, 5.400000000000519], [9.209677696650244, 4.121354293938462, 5.400000000000519], [11.48868749937645, 4.121354293938454, 5.400000000000519], [11.48868749937645, 4.096931165842064, 5.400000000000519], [9.209677696650244, 4.096931165842071, 5.400000000000519]], 'triangles': [[2, 0, 1], [2, 3, 0], [5, 6, 7], [5, 7, 4], [5, 9, 6], [8, 9, 5], [8, 11, 12], [13, 12, 2], [13, 2, 1], [13, 8, 12], [9, 13, 10], [9, 8, 13], [7, 6, 9], [7, 9, 10], [5, 11, 8], [5, 4, 11], [15, 11, 4], [12, 11, 15], [14, 15, 4], [7, 14, 4], [10, 13, 14], [10, 14, 7], [15, 3, 2], [15, 2, 12], [15, 14, 0], [15, 0, 3], [1, 14, 13], [0, 14, 1]]}, 'material': {'Concrete, Cast-in-Place gray': {'name': 'Concrete, Cast-in-Place gray', 'type': 'material', 'properties': {}}}, 'profile': None, 'properties': {'Pset_BeamCommon.IsExternal': False, 'Pset_BeamCommon.LoadBearing': True, 'Pset_BeamCommon.id': 3493, 'Pset_BeamCommon.Slope': 0.0, 'Pset_BeamCommon.Reference': '250 x 500mm', 'Pset_BeamCommon.Roll': 0.0, 'Pset_BeamCommon.Span': 5570.000000000003, 'Pset_EnvironmentalImpactIndicators.Reference': '250 x 500mm', 'Pset_EnvironmentalImpactIndicators.id': 3494, 'Pset_ReinforcementBarPitchOfBeam.Reference': '250 x 500mm', 'Pset_ReinforcementBarPitchOfBeam.id': 3496, 'Qto_BeamBaseQuantities.Length': 5570.000000000003, 'Qto_BeamBaseQuantities.CrossSectionArea': 3.3956865861665992, 'Qto_BeamBaseQuantities.NetSurfaceArea': 6.7913731723331985, 'Qto_BeamBaseQuantities.NetVolume': 0.40113210966983925, 'Qto_BeamBaseQuantities.id': 3504}}, '0Bl0khqE5CRu4G24Ko5Z0M': {'id': '0Bl0khqE5CRu4G24Ko5Z0M', 'name': 'M_Concrete-Rectangular Beam:250 x 500mm:420162', 'type': 'IfcBeam', 'geometry': {'type': 'mesh', 'vertices': [[9.178687499008936, -3.683645706061535, 5.400000000000266], [14.378687499008938, -3.683645706061535, 5.400000000000266], [14.378687499008938, -3.683645706061562, 5.099999999999748], [9.178687499008936, -3.683645706061562, 5.099999999999748], [14.378687499008938, -3.4336457060615575, 5.099999999999733], [9.178687499008936, -3.4336457060615575, 5.099999999999733], [14.378687499008938, -3.433645706061529, 5.400000000000251], [9.178687499008936, -3.433645706061529, 5.400000000000251]], 'triangles': [[1, 0, 3], [2, 1, 3], [2, 3, 5], [4, 2, 5], [4, 5, 7], [6, 4, 7], [6, 7, 0], [1, 6, 0], [3, 0, 5], [0, 7, 5], [4, 1, 2], [4, 6, 1]]}, 'material': {'Concrete, Cast-in-Place gray': {'name': 'Concrete, Cast-in-Place gray', 'type': 'material', 'properties': {}}}, 'profile': None, 'properties': {'Pset_BeamCommon.IsExternal': False, 'Pset_BeamCommon.LoadBearing': True, 'Pset_BeamCommon.id': 3536, 'Pset_BeamCommon.Slope': 0.0, 'Pset_BeamCommon.Reference': '250 x 500mm', 'Pset_BeamCommon.Roll': 0.0, 'Pset_BeamCommon.Span': 5570.000000000001, 'Pset_EnvironmentalImpactIndicators.Reference': '250 x 500mm', 'Pset_EnvironmentalImpactIndicators.id': 3537, 'Pset_ReinforcementBarPitchOfBeam.Reference': '250 x 500mm', 'Pset_ReinforcementBarPitchOfBeam.id': 3539, 'Qto_BeamBaseQuantities.Length': 5570.000000000001, 'Qto_BeamBaseQuantities.CrossSectionArea': 0.07500000000012812, 'Qto_BeamBaseQuantities.OuterSurfaceArea': 5.720000000005535, 'Qto_BeamBaseQuantities.GrossSurfaceArea': 5.870000000005791, 'Qto_BeamBaseQuantities.NetSurfaceArea': 5.870000000005688, 'Qto_BeamBaseQuantities.GrossVolume': 0.3900000000006664, 'Qto_BeamBaseQuantities.NetVolume': 0.390000000000679, 'Qto_BeamBaseQuantities.id': 3550}}, '0Bl0khqE5CRu4G24Ko5Z0I': {'id': '0Bl0khqE5CRu4G24Ko5Z0I', 'name': 'M_Concrete-Rectangular Beam:250 x 500mm:420166', 'type': 'IfcBeam', 'geometry': {'type': 'mesh', 'vertices': [[14.623687499008945, -1.0786457231978988, 5.6], [14.628687499008942, -1.0786457231978988, 5.6], [14.628687499008942, -1.078645723197899, 5.1], [14.623687499008945, -1.078645723197899, 5.1], [14.628687499008942, -0.8286457231978958, 5.1], [14.623687499008945, -0.8286457231978958, 5.1], [14.628687499008942, -0.8286457231978956, 5.6], [14.623687499008945, -0.8286457231978956, 5.6], [9.203687499008936, -1.0786457231978646, 5.4000000000000075], [14.32368749900894, -1.0786457231978646, 5.4000000000000075], [14.32368749900894, -1.0786457231978888, 5.100000000000005], [9.203687499008936, -1.0786457231978888, 5.100000000000005], [14.32368749900894, -0.8286457231978853, 5.099999999999992], [9.203687499008936, -0.8286457231978853, 5.099999999999992], [14.32368749900894, -0.8286457231978597, 5.399999999999993], [9.203687499008936, -0.8286457231978597, 5.399999999999993]], 'triangles': [[1, 0, 3], [2, 1, 3], [2, 3, 5], [4, 2, 5], [4, 5, 7], [6, 4, 7], [6, 7, 0], [1, 6, 0], [3, 0, 5], [0, 7, 5], [4, 1, 2], [4, 6, 1], [9, 8, 11], [10, 9, 11], [10, 11, 13], [12, 10, 13], [12, 13, 15], [14, 12, 15], [14, 15, 8], [9, 14, 8], [11, 8, 13], [8, 15, 13], [12, 9, 10], [12, 14, 9]]}, 'material': {'Concrete, Cast-in-Place gray': {'name': 'Concrete, Cast-in-Place gray', 'type': 'material', 'properties': {}}}, 'profile': None, 'properties': {'Pset_BeamCommon.IsExternal': False, 'Pset_BeamCommon.LoadBearing': True, 'Pset_BeamCommon.id': 3624, 'Pset_BeamCommon.Slope': 0.0, 'Pset_BeamCommon.Reference': '250 x 500mm', 'Pset_BeamCommon.Roll': 0.0, 'Pset_BeamCommon.Span': 5570.000000000001, 'Pset_EnvironmentalImpactIndicators.Reference': '250 x 500mm', 'Pset_EnvironmentalImpactIndicators.id': 3625, 'Pset_ReinforcementBarPitchOfBeam.Reference': '250 x 500mm', 'Pset_ReinforcementBarPitchOfBeam.id': 3627, 'Qto_BeamBaseQuantities.Length': 5570.000000000001, 'Qto_BeamBaseQuantities.CrossSectionArea': 0.07499999999999929, 'Qto_BeamBaseQuantities.OuterSurfaceArea': 5.632000000000155, 'Qto_BeamBaseQuantities.GrossSurfaceArea': 5.782000000000154, 'Qto_BeamBaseQuantities.NetSurfaceArea': 6.039500000000061, 'Qto_BeamBaseQuantities.GrossVolume': 0.3839999999999968, 'Qto_BeamBaseQuantities.NetVolume': 0.38462500000000777, 'Qto_BeamBaseQuantities.id': 3638}}, '0Bl0khqE5CRu4G24Ko5Z0S': {'id': '0Bl0khqE5CRu4G24Ko5Z0S', 'name': 'M_Concrete-Rectangular Beam:250 x 500mm:420168', 'type': 'IfcBeam', 'geometry': {'type': 'mesh', 'vertices': [[14.623687499008943, -0.8286457231978775, 5.6], [14.62868749900894, -0.8286457231978778, 5.6], [14.628687499008947, 3.771354293938446, 5.6], [14.623687499478148, 3.771354293938446, 5.6], [14.378687499008944, 3.771354293938446, 5.400000000000001], [14.378687499008944, 3.771354293938446, 5.1], [14.378687499008937, -0.7536457231978758, 5.1], [14.378687499008937, -0.7536457231978758, 5.400000000000001], [14.628687499008947, 3.771354293938446, 5.1], [14.62868749900894, -0.8286457231978775, 5.1], [14.623687499008943, -0.8286457231978775, 5.1], [14.623687499008943, -0.7536457231978757, 5.1], [14.623687499478148, 3.771354293938446, 5.400000000000001], [14.623687499008943, -0.7536457231978757, 5.400000000000001]], 'triangles': [[3, 0, 1], [2, 3, 1], [7, 4, 5], [7, 5, 6], [11, 9, 10], [5, 11, 6], [5, 8, 11], [8, 9, 11], [2, 9, 8], [2, 1, 9], [12, 8, 5], [12, 5, 4], [2, 12, 3], [2, 8, 12], [10, 9, 1], [10, 1, 0], [6, 11, 13], [6, 13, 7], [13, 3, 12], [13, 11, 10], [0, 13, 10], [0, 3, 13], [4, 7, 13], [12, 4, 13]]}, 'material': {'Concrete, Cast-in-Place gray': {'name': 'Concrete, Cast-in-Place gray', 'type': 'material', 'properties': {}}}, 'profile': None, 'properties': {'Pset_BeamCommon.IsExternal': False, 'Pset_BeamCommon.LoadBearing': True, 'Pset_BeamCommon.id': 3695, 'Pset_BeamCommon.Slope': 0.0, 'Pset_BeamCommon.Reference': '250 x 500mm', 'Pset_BeamCommon.Roll': 0.0, 'Pset_BeamCommon.Span': 4950.000017136321, 'Pset_EnvironmentalImpactIndicators.Reference': '250 x 500mm', 'Pset_EnvironmentalImpactIndicators.id': 3696, 'Pset_ReinforcementBarPitchOfBeam.Reference': '250 x 500mm', 'Pset_ReinforcementBarPitchOfBeam.id': 3698, 'Qto_BeamBaseQuantities.Length': 4950.000017136321, 'Qto_BeamBaseQuantities.CrossSectionArea': 3.507625012796543, 'Qto_BeamBaseQuantities.NetSurfaceArea': 7.015250025593086, 'Qto_BeamBaseQuantities.NetVolume': 0.3440875011596517, 'Qto_BeamBaseQuantities.id': 3706}}, '0Bl0khqE5CRu4G24Ko5Z0U': {'id': '0Bl0khqE5CRu4G24Ko5Z0U', 'name': 'M_Concrete-Rectangular Beam:250 x 500mm:420170', 'type': 'IfcBeam', 'geometry': {'type': 'mesh', 'vertices': [[14.623687499478136, -3.3586457060615453, 5.6], [14.628687499008937, -3.3586457060615453, 5.6], [14.62868749900894, -1.078645723197881, 5.6], [14.623687499008943, -1.078645723197881, 5.6], [14.378687499008937, -1.1536457231978758, 5.400000000000001], [14.378687499008937, -1.1536457231978758, 5.1], [14.378687499008933, -3.3586457060615453, 5.1], [14.378687499008933, -3.3586457060615453, 5.400000000000001], [14.62868749900894, -1.078645723197881, 5.1], [14.628687499008937, -3.3586457060615453, 5.1], [14.623687499008943, -1.1536457231978758, 5.1], [14.623687499008943, -1.078645723197881, 5.1], [14.623687499478136, -3.3586457060615453, 5.400000000000001], [14.623687499008943, -1.1536457231978758, 5.400000000000001]], 'triangles': [[2, 0, 1], [2, 3, 0], [7, 4, 5], [7, 5, 6], [10, 9, 6], [11, 8, 10], [5, 10, 6], [8, 9, 10], [2, 1, 9], [2, 9, 8], [12, 1, 0], [6, 12, 7], [9, 12, 6], [9, 1, 12], [2, 8, 11], [2, 11, 3], [13, 10, 5], [13, 5, 4], [13, 11, 10], [3, 11, 13], [0, 13, 12], [0, 3, 13], [13, 7, 12], [13, 4, 7]]}, 'material': {'Concrete, Cast-in-Place gray': {'name': 'Concrete, Cast-in-Place gray', 'type': 'material', 'properties': {}}}, 'profile': None, 'properties': {'Pset_BeamCommon.IsExternal': False, 'Pset_BeamCommon.LoadBearing': True, 'Pset_BeamCommon.id': 3763, 'Pset_BeamCommon.Slope': 0.0, 'Pset_BeamCommon.Reference': '250 x 500mm', 'Pset_BeamCommon.Roll': 0.0, 'Pset_BeamCommon.Span': 2604.99998286367, 'Pset_EnvironmentalImpactIndicators.Reference': '250 x 500mm', 'Pset_EnvironmentalImpactIndicators.id': 3764, 'Pset_ReinforcementBarPitchOfBeam.Reference': '250 x 500mm', 'Pset_ReinforcementBarPitchOfBeam.id': 3766, 'Qto_BeamBaseQuantities.Length': 2604.99998286367, 'Qto_BeamBaseQuantities.CrossSectionArea': 1.7676249870920409, 'Qto_BeamBaseQuantities.NetSurfaceArea': 3.5352499741840817, 'Qto_BeamBaseQuantities.NetVolume': 0.1677674986274957, 'Qto_BeamBaseQuantities.id': 3774}}, '1YMpECnoXAAgd3TsblgkPk': {'id': '1YMpECnoXAAgd3TsblgkPk', 'name': 'M_Concrete-Rectangular-Column:250 x 450 mm2:416794', 'type': 'IfcColumn', 'geometry': {'type': 'mesh', 'vertices': [[-1.9713125009910566, 4.221354293938501, -1.6], [-1.7213125009910568, 4.221354293938501, -1.6], [-1.7213125009910568, 4.221354293938501, 2.6], [-1.9713125009910566, 4.221354293938501, 2.6], [-1.7213125009910568, 3.771354293938501, 2.6], [-1.9713125009910566, 3.771354293938501, 2.6], [-1.7213125009910568, 3.7713542939385007, -1.6], [-1.9713125009910566, 3.7713542939385007, -1.6]], 'triangles': [[1, 0, 3], [2, 1, 3], [2, 3, 5], [4, 2, 5], [4, 5, 7], [6, 4, 7], [6, 7, 0], [1, 6, 0], [3, 0, 5], [0, 7, 5], [4, 1, 2], [4, 6, 1]]}, 'material': {'Concrete, Cast-in-Place gray': {'name': 'Concrete, Cast-in-Place gray', 'type': 'material', 'properties': {}}}, 'profile': None, 'properties': {'Pset_ColumnCommon.IsExternal': False, 'Pset_ColumnCommon.LoadBearing': True, 'Pset_ColumnCommon.id': 168, 'Pset_ColumnCommon.Reference': '250 x 450 mm2', 'Pset_ColumnCommon.Slope': 0.0, 'Qto_ColumnBaseQuantities.Length': 249.99999999999974, 'Qto_ColumnBaseQuantities.CrossSectionArea': 1.8899999999999988, 'Qto_ColumnBaseQuantities.OuterSurfaceArea': 2.3249999999999975, 'Qto_ColumnBaseQuantities.GrossVolume': 0.47249999999999925, 'Qto_ColumnBaseQuantities.NetVolume': 0.47249999999999914, 'Qto_ColumnBaseQuantities.id': 162, 'Pset_EnvironmentalImpactIndicators.Reference': '250 x 450 mm2', 'Pset_EnvironmentalImpactIndicators.id': 169, 'Pset_ReinforcementBarPitchOfColumn.Reference': '250 x 450 mm2', 'Pset_ReinforcementBarPitchOfColumn.id': 171}}, '1YMpECnoXAAgd3TsblgkPe': {'id': '1YMpECnoXAAgd3TsblgkPe', 'name': 'M_Concrete-Rectangular-Column:250 x 450 mm2:416796', 'type': 'IfcColumn', 'geometry': {'type': 'mesh', 'vertices': [[3.4786874990089456, 4.221354293938482, -1.6], [3.7286874990089456, 4.221354293938482, -1.6], [3.7286874990089456, 4.221354293938482, 2.6], [3.4786874990089456, 4.221354293938482, 2.6], [3.7286874990089456, 3.8713542939384773, 2.6], [3.4786874990089456, 3.8713542939384773, 2.6], [3.7286874990089456, 3.771354293938483, 2.6], [3.4786874990089456, 3.771354293938483, 2.6], [3.7286874990089456, 3.7713542939384825, -1.6], [3.4786874990089456, 3.7713542939384825, -1.6]], 'triangles': [[1, 0, 3], [2, 1, 3], [2, 3, 5], [4, 2, 5], [4, 5, 7], [6, 4, 7], [6, 7, 9], [8, 6, 9], [8, 9, 0], [1, 8, 0], [3, 0, 5], [0, 9, 5], [5, 9, 7], [4, 1, 2], [4, 8, 1], [6, 8, 4]]}, 'material': {'Concrete, Cast-in-Place gray': {'name': 'Concrete, Cast-in-Place gray', 'type': 'material', 'properties': {}}}, 'profile': None, 'properties': {'Pset_ColumnCommon.IsExternal': False, 'Pset_ColumnCommon.LoadBearing': True, 'Pset_ColumnCommon.id': 203, 'Pset_ColumnCommon.Reference': '250 x 450 mm2', 'Pset_ColumnCommon.Slope': 0.0, 'Qto_ColumnBaseQuantities.Length': 250.00000000000003, 'Qto_ColumnBaseQuantities.CrossSectionArea': 1.8899999999999988, 'Qto_ColumnBaseQuantities.OuterSurfaceArea': 2.325, 'Qto_ColumnBaseQuantities.GrossVolume': 0.47249999999999975, 'Qto_ColumnBaseQuantities.NetVolume': 0.47250000000000003, 'Qto_ColumnBaseQuantities.id': 201, 'Pset_EnvironmentalImpactIndicators.Reference': '250 x 450 mm2', 'Pset_EnvironmentalImpactIndicators.id': 204, 'Pset_ReinforcementBarPitchOfColumn.Reference': '250 x 450 mm2', 'Pset_ReinforcementBarPitchOfColumn.id': 206}}, '1YMpECnoXAAgd3TsblgkPM': {'id': '1YMpECnoXAAgd3TsblgkPM', 'name': 'M_Concrete-Rectangular-Column:250 x 400 mm:416802', 'type': 'IfcColumn', 'geometry': {'type': 'mesh', 'vertices': [[3.4786874990089327, -3.3586457060615102, -1.6], [3.7286874990089327, -3.3586457060615102, -1.6], [3.7286874990089327, -3.3586457060615102, 2.6], [3.4786874990089327, -3.3586457060615102, 2.6], [3.7286874990089327, -3.7586457060615106, 2.6], [3.4786874990089327, -3.7586457060615106, 2.6], [3.7286874990089327, -3.7586457060615106, -1.6], [3.4786874990089327, -3.7586457060615106, -1.6]], 'triangles': [[1, 0, 3], [2, 1, 3], [2, 3, 5], [4, 2, 5], [4, 5, 7], [6, 4, 7], [6, 7, 0], [1, 6, 0], [3, 0, 5], [0, 7, 5], [4, 1, 2], [4, 6, 1]]}, 'material': {'Concrete, Cast-in-Place gray': {'name': 'Concrete, Cast-in-Place gray', 'type': 'material', 'properties': {}}}, 'profile': None, 'properties': {'Pset_ColumnCommon.IsExternal': False, 'Pset_ColumnCommon.LoadBearing': True, 'Pset_ColumnCommon.id': 239, 'Pset_ColumnCommon.Slope': 0.0, 'Pset_ColumnCommon.Reference': '250 x 400 mm', 'Qto_ColumnBaseQuantities.Length': 250.00000000000003, 'Qto_ColumnBaseQuantities.CrossSectionArea': 1.6800000000000002, 'Qto_ColumnBaseQuantities.OuterSurfaceArea': 2.3000000000000003, 'Qto_ColumnBaseQuantities.GrossVolume': 0.4200000000000001, 'Qto_ColumnBaseQuantities.NetVolume': 0.4200000000000006, 'Qto_ColumnBaseQuantities.id': 236, 'Pset_EnvironmentalImpactIndicators.Reference': '250 x 400 mm', 'Pset_EnvironmentalImpactIndicators.id': 240, 'Pset_ReinforcementBarPitchOfColumn.Reference': '250 x 400 mm', 'Pset_ReinforcementBarPitchOfColumn.id': 242}}, '1YMpECnoXAAgd3TsblgkPG': {'id': '1YMpECnoXAAgd3TsblgkPG', 'name': 'M_Concrete-Rectangular-Column:250 x 450 mm2:416804', 'type': 'IfcColumn', 'geometry': {'type': 'mesh', 'vertices': [[-1.9713125009910673, -3.333645706061493, -1.6], [-1.7213125009910675, -3.333645706061493, -1.6], [-1.7213125009910675, -3.333645706061493, 2.6], [-1.9713125009910673, -3.333645706061493, 2.6], [-1.7213125009910675, -3.7836457060614923, 2.6], [-1.9713125009910673, -3.7836457060614923, 2.6], [-1.7213125009910675, -3.7836457060614928, -1.6], [-1.9713125009910673, -3.7836457060614928, -1.6]], 'triangles': [[1, 0, 3], [2, 1, 3], [2, 3, 5], [4, 2, 5], [4, 5, 7], [6, 4, 7], [6, 7, 0], [1, 6, 0], [3, 0, 5], [0, 7, 5], [4, 1, 2], [4, 6, 1]]}, 'material': {'Concrete, Cast-in-Place gray': {'name': 'Concrete, Cast-in-Place gray', 'type': 'material', 'properties': {}}}, 'profile': None, 'properties': {'Pset_ColumnCommon.IsExternal': False, 'Pset_ColumnCommon.LoadBearing': True, 'Pset_ColumnCommon.id': 274, 'Pset_ColumnCommon.Reference': '250 x 450 mm2', 'Pset_ColumnCommon.Slope': 0.0, 'Qto_ColumnBaseQuantities.Length': 249.99999999999974, 'Qto_ColumnBaseQuantities.CrossSectionArea': 1.8899999999999988, 'Qto_ColumnBaseQuantities.OuterSurfaceArea': 2.3249999999999975, 'Qto_ColumnBaseQuantities.GrossVolume': 0.47249999999999925, 'Qto_ColumnBaseQuantities.NetVolume': 0.47249999999999914, 'Qto_ColumnBaseQuantities.id': 272, 'Pset_EnvironmentalImpactIndicators.Reference': '250 x 450 mm2', 'Pset_EnvironmentalImpactIndicators.id': 275, 'Pset_ReinforcementBarPitchOfColumn.Reference': '250 x 450 mm2', 'Pset_ReinforcementBarPitchOfColumn.id': 277}}, '2e3KIcTBT93wdBtSLDrM6B': {'id': '2e3KIcTBT93wdBtSLDrM6B', 'name': 'M_Concrete-Rectangular-Column:300 x 400 mm2:418173', 'type': 'IfcColumn', 'geometry': {'type': 'mesh', 'vertices': [[-1.9713125009910564, -0.7536457231978229, -1.6], [-1.6713125009910563, -0.7536457231978229, -1.6], [-1.6713125009910563, -0.7536457231978229, 2.6], [-1.9713125009910564, -0.7536457231978229, 2.6], [-1.6713125009910563, -1.1536457231978228, 2.6], [-1.9713125009910564, -1.1536457231978228, 2.6], [-1.6713125009910563, -1.1536457231978228, -1.6], [-1.9713125009910564, -1.1536457231978228, -1.6]], 'triangles': [[1, 0, 3], [2, 1, 3], [2, 3, 5], [4, 2, 5], [4, 5, 7], [6, 4, 7], [6, 7, 0], [1, 6, 0], [3, 0, 5], [0, 7, 5], [4, 1, 2], [4, 6, 1]]}, 'material': {'Concrete, Cast-in-Place gray': {'name': 'Concrete, Cast-in-Place gray', 'type': 'material', 'properties': {}}}, 'profile': None, 'properties': {'Pset_ColumnCommon.IsExternal': False, 'Pset_ColumnCommon.LoadBearing': True, 'Pset_ColumnCommon.id': 404, 'Pset_ColumnCommon.Slope': 0.0, 'Pset_ColumnCommon.Reference': '300 x 400 mm2', 'Qto_ColumnBaseQuantities.Length': 300.0, 'Qto_ColumnBaseQuantities.CrossSectionArea': 1.6799999999999997, 'Qto_ColumnBaseQuantities.OuterSurfaceArea': 2.76, 'Qto_ColumnBaseQuantities.GrossVolume': 0.504, 'Qto_ColumnBaseQuantities.NetVolume': 0.5039999999999999, 'Qto_ColumnBaseQuantities.id': 401, 'Pset_EnvironmentalImpactIndicators.Reference': '300 x 400 mm2', 'Pset_EnvironmentalImpactIndicators.id': 405, 'Pset_ReinforcementBarPitchOfColumn.Reference': '300 x 400 mm2', 'Pset_ReinforcementBarPitchOfColumn.id': 407}}, '2e3KIcTBT93wdBtSLDrM4N': {'id': '2e3KIcTBT93wdBtSLDrM4N', 'name': 'M_Concrete-Rectangular-Column:300 x 400 mm2:418273', 'type': 'IfcColumn', 'geometry': {'type': 'mesh', 'vertices': [[3.4536874990089372, -0.7536457231978402, -1.6], [3.753687499008937, -0.7536457231978402, -1.6], [3.753687499008937, -0.7536457231978402, 2.6], [3.4536874990089372, -0.7536457231978402, 2.6], [3.753687499008937, -1.15364572319784, 2.6], [3.4536874990089372, -1.15364572319784, 2.6], [3.753687499008937, -1.15364572319784, -1.6], [3.4536874990089372, -1.15364572319784, -1.6]], 'triangles': [[1, 0, 3], [2, 1, 3], [2, 3, 5], [4, 2, 5], [4, 5, 7], [6, 4, 7], [6, 7, 0], [1, 6, 0], [3, 0, 5], [0, 7, 5], [4, 1, 2], [4, 6, 1]]}, 'material': {'Concrete, Cast-in-Place gray': {'name': 'Concrete, Cast-in-Place gray', 'type': 'material', 'properties': {}}}, 'profile': None, 'properties': {'Pset_ColumnCommon.IsExternal': False, 'Pset_ColumnCommon.LoadBearing': True, 'Pset_ColumnCommon.id': 439, 'Pset_ColumnCommon.Slope': 0.0, 'Pset_ColumnCommon.Reference': '300 x 400 mm2', 'Qto_ColumnBaseQuantities.Length': 300.0, 'Qto_ColumnBaseQuantities.CrossSectionArea': 1.6800000000000002, 'Qto_ColumnBaseQuantities.OuterSurfaceArea': 2.76, 'Qto_ColumnBaseQuantities.GrossVolume': 0.5040000000000001, 'Qto_ColumnBaseQuantities.NetVolume': 0.5040000000000001, 'Qto_ColumnBaseQuantities.id': 437, 'Pset_EnvironmentalImpactIndicators.Reference': '300 x 400 mm2', 'Pset_EnvironmentalImpactIndicators.id': 440, 'Pset_ReinforcementBarPitchOfColumn.Reference': '300 x 400 mm2', 'Pset_ReinforcementBarPitchOfColumn.id': 442}}, '2e3KIcTBT93wdBtSLDrMNH': {'id': '2e3KIcTBT93wdBtSLDrMNH', 'name': 'M_Concrete-Rectangular-Column:250 x 450 mm2:419111', 'type': 'IfcColumn', 'geometry': {'type': 'mesh', 'vertices': [[8.928687499008948, 4.2213542939384645, -1.6], [9.178687499008948, 4.2213542939384645, -1.6], [9.178687499008948, 4.2213542939384645, 2.6], [8.928687499008948, 4.2213542939384645, 2.6], [9.178687499008948, 3.7713542939384648, 2.6], [8.928687499008948, 3.7713542939384648, 2.6], [9.178687499008948, 3.7713542939384648, -1.6], [8.928687499008948, 3.7713542939384648, -1.6]], 'triangles': [[1, 0, 3], [2, 1, 3], [2, 3, 5], [4, 2, 5], [4, 5, 7], [6, 4, 7], [6, 7, 0], [1, 6, 0], [3, 0, 5], [0, 7, 5], [4, 1, 2], [4, 6, 1]]}, 'material': {'Concrete, Cast-in-Place gray': {'name': 'Concrete, Cast-in-Place gray', 'type': 'material', 'properties': {}}}, 'profile': None, 'properties': {'Pset_ColumnCommon.IsExternal': False, 'Pset_ColumnCommon.LoadBearing': True, 'Pset_ColumnCommon.id': 704, 'Pset_ColumnCommon.Reference': '250 x 450 mm2', 'Pset_ColumnCommon.Slope': 0.0, 'Qto_ColumnBaseQuantities.Length': 249.9999999999995, 'Qto_ColumnBaseQuantities.CrossSectionArea': 1.8900000000000001, 'Qto_ColumnBaseQuantities.OuterSurfaceArea': 2.324999999999995, 'Qto_ColumnBaseQuantities.GrossVolume': 0.47249999999999903, 'Qto_ColumnBaseQuantities.NetVolume': 0.4725000000000004, 'Qto_ColumnBaseQuantities.id': 702, 'Pset_EnvironmentalImpactIndicators.Reference': '250 x 450 mm2', 'Pset_EnvironmentalImpactIndicators.id': 705, 'Pset_ReinforcementBarPitchOfColumn.Reference': '250 x 450 mm2', 'Pset_ReinforcementBarPitchOfColumn.id': 707}}, '2e3KIcTBT93wdBtSLDrMNV': {'id': '2e3KIcTBT93wdBtSLDrMNV', 'name': 'M_Concrete-Rectangular-Column:250 x 400 mm:419113', 'type': 'IfcColumn', 'geometry': {'type': 'mesh', 'vertices': [[8.928687499008936, -3.358645706061528, -1.6], [9.178687499008936, -3.358645706061528, -1.6], [9.178687499008936, -3.358645706061528, 2.6], [8.928687499008936, -3.358645706061528, 2.6], [9.178687499008936, -3.7586457060615284, 2.6], [8.928687499008936, -3.7586457060615284, 2.6], [9.178687499008936, -3.7586457060615284, -1.6], [8.928687499008936, -3.7586457060615284, -1.6]], 'triangles': [[1, 0, 3], [2, 1, 3], [2, 3, 5], [4, 2, 5], [4, 5, 7], [6, 4, 7], [6, 7, 0], [1, 6, 0], [3, 0, 5], [0, 7, 5], [4, 1, 2], [4, 6, 1]]}, 'material': {'Concrete, Cast-in-Place gray': {'name': 'Concrete, Cast-in-Place gray', 'type': 'material', 'properties': {}}}, 'profile': None, 'properties': {'Pset_ColumnCommon.IsExternal': False, 'Pset_ColumnCommon.LoadBearing': True, 'Pset_ColumnCommon.id': 739, 'Pset_ColumnCommon.Slope': 0.0, 'Pset_ColumnCommon.Reference': '250 x 400 mm', 'Qto_ColumnBaseQuantities.Length': 249.9999999999995, 'Qto_ColumnBaseQuantities.CrossSectionArea': 1.6800000000000002, 'Qto_ColumnBaseQuantities.OuterSurfaceArea': 2.299999999999995, 'Qto_ColumnBaseQuantities.GrossVolume': 0.41999999999999915, 'Qto_ColumnBaseQuantities.NetVolume': 0.4199999999999993, 'Qto_ColumnBaseQuantities.id': 737, 'Pset_EnvironmentalImpactIndicators.Reference': '250 x 400 mm', 'Pset_EnvironmentalImpactIndicators.id': 740, 'Pset_ReinforcementBarPitchOfColumn.Reference': '250 x 400 mm', 'Pset_ReinforcementBarPitchOfColumn.id': 742}}, '2e3KIcTBT93wdBtSLDrMN3': {'id': '2e3KIcTBT93wdBtSLDrMN3', 'name': 'M_Concrete-Rectangular-Column:300 x 400 mm2:419125', 'type': 'IfcColumn', 'geometry': {'type': 'mesh', 'vertices': [[8.903687499008939, -0.7536457231978579, -1.6], [9.20368749900894, -0.7536457231978579, -1.6], [9.20368749900894, -0.7536457231978579, 2.6], [8.903687499008939, -0.7536457231978579, 2.6], [9.20368749900894, -1.1536457231978579, 2.6], [8.903687499008939, -1.1536457231978579, 2.6], [9.20368749900894, -1.1536457231978579, -1.6], [8.903687499008939, -1.1536457231978579, -1.6]], 'triangles': [[1, 0, 3], [2, 1, 3], [2, 3, 5], [4, 2, 5], [4, 5, 7], [6, 4, 7], [6, 7, 0], [1, 6, 0], [3, 0, 5], [0, 7, 5], [4, 1, 2], [4, 6, 1]]}, 'material': {'Concrete, Cast-in-Place gray': {'name': 'Concrete, Cast-in-Place gray', 'type': 'material', 'properties': {}}}, 'profile': None, 'properties': {'Pset_ColumnCommon.IsExternal': False, 'Pset_ColumnCommon.LoadBearing': True, 'Pset_ColumnCommon.id': 866, 'Pset_ColumnCommon.Slope': 0.0, 'Pset_ColumnCommon.Reference': '300 x 400 mm2', 'Qto_ColumnBaseQuantities.Length': 300.0, 'Qto_ColumnBaseQuantities.CrossSectionArea': 1.6800000000000002, 'Qto_ColumnBaseQuantities.OuterSurfaceArea': 2.76, 'Qto_ColumnBaseQuantities.GrossVolume': 0.5040000000000001, 'Qto_ColumnBaseQuantities.NetVolume': 0.5040000000000009, 'Qto_ColumnBaseQuantities.id': 864, 'Pset_EnvironmentalImpactIndicators.Reference': '300 x 400 mm2', 'Pset_EnvironmentalImpactIndicators.id': 867, 'Pset_ReinforcementBarPitchOfColumn.Reference': '300 x 400 mm2', 'Pset_ReinforcementBarPitchOfColumn.id': 869}}, '2e3KIcTBT93wdBtSLDrMMH': {'id': '2e3KIcTBT93wdBtSLDrMMH', 'name': 'M_Concrete-Rectangular-Column:250 x 450 mm2:419175', 'type': 'IfcColumn', 'geometry': {'type': 'mesh', 'vertices': [[14.378687499008949, 3.771354293938446, -1.6000000000000003], [14.378687499008949, 4.221354293938446, -1.6000000000000003], [14.378687499008949, 4.221354293938446, 2.6000000000000005], [14.378687499008949, 3.771354293938446, 2.6000000000000005], [14.623687499478148, 4.221354293938446, 2.6000000000000005], [14.623687499478148, 3.771354293938446, 2.6000000000000005], [14.623687499478148, 4.221354293938446, 2.8000000000000003], [14.623687499478148, 3.771354293938446, 2.8000000000000003], [14.628687499008949, 4.221354293938446, 2.8000000000000003], [14.628687499008949, 3.771354293938446, 2.8000000000000003], [14.628687499008949, 4.221354293938446, -1.6000000000000003], [14.628687499008949, 3.771354293938446, -1.6000000000000003]], 'triangles': [[1, 0, 3], [2, 1, 3], [2, 3, 5], [4, 2, 5], [4, 5, 7], [6, 4, 7], [6, 7, 9], [8, 6, 9], [8, 9, 11], [10, 8, 11], [10, 11, 0], [1, 10, 0], [3, 0, 5], [0, 11, 5], [7, 5, 9], [5, 11, 9], [4, 1, 2], [4, 10, 1], [8, 4, 6], [8, 10, 4]]}, 'material': {'Concrete, Cast-in-Place gray': {'name': 'Concrete, Cast-in-Place gray', 'type': 'material', 'properties': {}}}, 'profile': None, 'properties': {'Pset_ColumnCommon.IsExternal': False, 'Pset_ColumnCommon.LoadBearing': True, 'Pset_ColumnCommon.id': 1039, 'Pset_ColumnCommon.Reference': '250 x 450 mm2', 'Pset_ColumnCommon.Slope': 0.0, 'Qto_ColumnBaseQuantities.Length': 449.9999999999995, 'Qto_ColumnBaseQuantities.CrossSectionArea': 1.050999999906158, 'Qto_ColumnBaseQuantities.OuterSurfaceArea': 4.184999999999995, 'Qto_ColumnBaseQuantities.GrossVolume': 0.4729499999577705, 'Qto_ColumnBaseQuantities.NetVolume': 0.4729499999577592, 'Qto_ColumnBaseQuantities.id': 1037, 'Pset_EnvironmentalImpactIndicators.Reference': '250 x 450 mm2', 'Pset_EnvironmentalImpactIndicators.id': 1040, 'Pset_ReinforcementBarPitchOfColumn.Reference': '250 x 450 mm2', 'Pset_ReinforcementBarPitchOfColumn.id': 1042}}, '2e3KIcTBT93wdBtSLDrMMV': {'id': '2e3KIcTBT93wdBtSLDrMMV', 'name': 'M_Concrete-Rectangular-Column:250 x 400 mm:419177', 'type': 'IfcColumn', 'geometry': {'type': 'mesh', 'vertices': [[14.378687499008937, -3.7586457060615457, -1.6000000000000003], [14.378687499008937, -3.3586457060615458, -1.6000000000000003], [14.378687499008937, -3.3586457060615458, 2.6000000000000005], [14.378687499008937, -3.7586457060615457, 2.6000000000000005], [14.623687499478136, -3.3586457060615458, 2.6000000000000005], [14.623687499478136, -3.7586457060615457, 2.6000000000000005], [14.623687499478136, -3.3586457060615458, 2.8000000000000003], [14.623687499478136, -3.7586457060615457, 2.8000000000000003], [14.628687499008937, -3.3586457060615458, 2.8000000000000003], [14.628687499008937, -3.7586457060615457, 2.8000000000000003], [14.628687499008937, -3.3586457060615458, -1.6000000000000003], [14.628687499008937, -3.7586457060615457, -1.6000000000000003]], 'triangles': [[1, 0, 3], [2, 1, 3], [2, 3, 5], [4, 2, 5], [4, 5, 7], [6, 4, 7], [6, 7, 9], [8, 6, 9], [8, 9, 11], [10, 8, 11], [10, 11, 0], [1, 10, 0], [3, 0, 5], [0, 11, 5], [7, 5, 9], [5, 11, 9], [4, 1, 2], [4, 10, 1], [8, 4, 6], [8, 10, 4]]}, 'material': {'Concrete, Cast-in-Place gray': {'name': 'Concrete, Cast-in-Place gray', 'type': 'material', 'properties': {}}}, 'profile': None, 'properties': {'Pset_ColumnCommon.IsExternal': False, 'Pset_ColumnCommon.LoadBearing': True, 'Pset_ColumnCommon.id': 1074, 'Pset_ColumnCommon.Slope': 0.0, 'Pset_ColumnCommon.Reference': '250 x 400 mm', 'Qto_ColumnBaseQuantities.Length': 400.0, 'Qto_ColumnBaseQuantities.CrossSectionArea': 1.0509999999061594, 'Qto_ColumnBaseQuantities.OuterSurfaceArea': 3.7200000000000006, 'Qto_ColumnBaseQuantities.GrossVolume': 0.42039999996246374, 'Qto_ColumnBaseQuantities.NetVolume': 0.4203999999624619, 'Qto_ColumnBaseQuantities.id': 1072, 'Pset_EnvironmentalImpactIndicators.Reference': '250 x 400 mm', 'Pset_EnvironmentalImpactIndicators.id': 1075, 'Pset_ReinforcementBarPitchOfColumn.Reference': '250 x 400 mm', 'Pset_ReinforcementBarPitchOfColumn.id': 1077}}, '2e3KIcTBT93wdBtSLDrMM5': {'id': '2e3KIcTBT93wdBtSLDrMM5', 'name': 'M_Concrete-Rectangular-Column:300 x 400 mm2:419187', 'type': 'IfcColumn', 'geometry': {'type': 'mesh', 'vertices': [[14.323687499008942, -0.7536457231978757, -1.6], [14.623687499008943, -0.7536457231978757, -1.6], [14.623687499008943, -0.7536457231978757, 2.6], [14.323687499008942, -0.7536457231978757, 2.6], [14.623687499008943, -1.1536457231978756, 2.6], [14.323687499008942, -1.1536457231978756, 2.6], [14.623687499008943, -1.1536457231978756, -1.6], [14.323687499008942, -1.1536457231978756, -1.6]], 'triangles': [[1, 0, 3], [2, 1, 3], [2, 3, 5], [4, 2, 5], [4, 5, 7], [6, 4, 7], [6, 7, 0], [1, 6, 0], [3, 0, 5], [0, 7, 5], [4, 1, 2], [4, 6, 1]]}, 'material': {'Concrete, Cast-in-Place gray': {'name': 'Concrete, Cast-in-Place gray', 'type': 'material', 'properties': {}}}, 'profile': None, 'properties': {'Pset_ColumnCommon.IsExternal': False, 'Pset_ColumnCommon.LoadBearing': True, 'Pset_ColumnCommon.id': 1212, 'Pset_ColumnCommon.Slope': 0.0, 'Pset_ColumnCommon.Reference': '300 x 400 mm2', 'Qto_ColumnBaseQuantities.Length': 300.0000000000011, 'Qto_ColumnBaseQuantities.CrossSectionArea': 1.6799999999999997, 'Qto_ColumnBaseQuantities.OuterSurfaceArea': 2.7600000000000096, 'Qto_ColumnBaseQuantities.GrossVolume': 0.5040000000000018, 'Qto_ColumnBaseQuantities.NetVolume': 0.5040000000000012, 'Qto_ColumnBaseQuantities.id': 1210, 'Pset_EnvironmentalImpactIndicators.Reference': '300 x 400 mm2', 'Pset_EnvironmentalImpactIndicators.id': 1213, 'Pset_ReinforcementBarPitchOfColumn.Reference': '300 x 400 mm2', 'Pset_ReinforcementBarPitchOfColumn.id': 1215}}, '0Bl0khqE5CRu4G24Ko5Z15': {'id': '0Bl0khqE5CRu4G24Ko5Z15', 'name': 'M_Concrete-Rectangular-Column:250 x 450 mm2:420113', 'type': 'IfcColumn', 'geometry': {'type': 'mesh', 'vertices': [[-1.9713125009910566, 4.221354293938501, 2.8], [-1.7213125009910568, 4.221354293938501, 2.8], [-1.7213125009910568, 4.221354293938501, 5.3999999999999995], [-1.9713125009910566, 4.221354293938501, 5.3999999999999995], [-1.7213125009910568, 3.771354293938501, 5.3999999999999995], [-1.9713125009910566, 3.771354293938501, 5.3999999999999995], [-1.7213125009910568, 3.7713542939385007, 2.8], [-1.9713125009910566, 3.7713542939385007, 2.8]], 'triangles': [[1, 0, 3], [2, 1, 3], [2, 3, 5], [4, 2, 5], [4, 5, 7], [6, 4, 7], [6, 7, 0], [1, 6, 0], [3, 0, 5], [0, 7, 5], [4, 1, 2], [4, 6, 1]]}, 'material': {'Concrete, Cast-in-Place gray': {'name': 'Concrete, Cast-in-Place gray', 'type': 'material', 'properties': {}}}, 'profile': None, 'properties': {'Pset_ColumnCommon.IsExternal': False, 'Pset_ColumnCommon.LoadBearing': True, 'Pset_ColumnCommon.id': 2540, 'Pset_ColumnCommon.Reference': '250 x 450 mm2', 'Pset_ColumnCommon.Slope': 0.0, 'Qto_ColumnBaseQuantities.Length': 249.99999999999974, 'Qto_ColumnBaseQuantities.CrossSectionArea': 1.1699999999999993, 'Qto_ColumnBaseQuantities.OuterSurfaceArea': 1.5249999999999981, 'Qto_ColumnBaseQuantities.GrossVolume': 0.29249999999999954, 'Qto_ColumnBaseQuantities.NetVolume': 0.2924999999999995, 'Qto_ColumnBaseQuantities.id': 2538, 'Pset_EnvironmentalImpactIndicators.Reference': '250 x 450 mm2', 'Pset_EnvironmentalImpactIndicators.id': 2541, 'Pset_ReinforcementBarPitchOfColumn.Reference': '250 x 450 mm2', 'Pset_ReinforcementBarPitchOfColumn.id': 2543}}, '0Bl0khqE5CRu4G24Ko5Z17': {'id': '0Bl0khqE5CRu4G24Ko5Z17', 'name': 'M_Concrete-Rectangular-Column:250 x 450 mm2:420115', 'type': 'IfcColumn', 'geometry': {'type': 'mesh', 'vertices': [[3.4786874990089456, 4.221354293938482, 2.8], [3.7286874990089456, 4.221354293938482, 2.8], [3.7286874990089456, 4.221354293938482, 5.4], [3.4786874990089456, 4.221354293938482, 5.4], [3.7286874990089456, 3.771354293938483, 5.4], [3.4786874990089456, 3.771354293938483, 5.4], [3.7286874990089456, 3.7713542939384825, 2.8], [3.4786874990089456, 3.7713542939384825, 2.8], [3.7286874990089456, 3.8713542939384773, 2.8], [3.4786874990089456, 3.8713542939384773, 2.8]], 'triangles': [[1, 0, 3], [2, 1, 3], [2, 3, 5], [4, 2, 5], [4, 5, 7], [6, 4, 7], [6, 7, 9], [8, 6, 9], [8, 9, 0], [1, 8, 0], [0, 9, 3], [9, 7, 5], [3, 9, 5], [2, 8, 1], [4, 6, 8], [4, 8, 2]]}, 'material': {'Concrete, Cast-in-Place gray': {'name': 'Concrete, Cast-in-Place gray', 'type': 'material', 'properties': {}}}, 'profile': None, 'properties': {'Pset_ColumnCommon.IsExternal': False, 'Pset_ColumnCommon.LoadBearing': True, 'Pset_ColumnCommon.id': 2575, 'Pset_ColumnCommon.Reference': '250 x 450 mm2', 'Pset_ColumnCommon.Slope': 0.0, 'Qto_ColumnBaseQuantities.Length': 250.00000000000003, 'Qto_ColumnBaseQuantities.CrossSectionArea': 1.1699999999999995, 'Qto_ColumnBaseQuantities.OuterSurfaceArea': 1.525, 'Qto_ColumnBaseQuantities.GrossVolume': 0.29249999999999987, 'Qto_ColumnBaseQuantities.NetVolume': 0.2924999999999999, 'Qto_ColumnBaseQuantities.id': 2573, 'Pset_EnvironmentalImpactIndicators.Reference': '250 x 450 mm2', 'Pset_EnvironmentalImpactIndicators.id': 2576, 'Pset_ReinforcementBarPitchOfColumn.Reference': '250 x 450 mm2', 'Pset_ReinforcementBarPitchOfColumn.id': 2578}}, '0Bl0khqE5CRu4G24Ko5Z11': {'id': '0Bl0khqE5CRu4G24Ko5Z11', 'name': 'M_Concrete-Rectangular-Column:250 x 400 mm:420117', 'type': 'IfcColumn', 'geometry': {'type': 'mesh', 'vertices': [[3.4786874990089327, -3.3586457060615102, 2.8], [3.7286874990089327, -3.3586457060615102, 2.8], [3.7286874990089327, -3.3586457060615102, 5.3999999999999995], [3.4786874990089327, -3.3586457060615102, 5.3999999999999995], [3.7286874990089327, -3.7586457060615106, 5.3999999999999995], [3.4786874990089327, -3.7586457060615106, 5.3999999999999995], [3.7286874990089327, -3.7586457060615106, 2.8], [3.4786874990089327, -3.7586457060615106, 2.8]], 'triangles': [[1, 0, 3], [2, 1, 3], [2, 3, 5], [4, 2, 5], [4, 5, 7], [6, 4, 7], [6, 7, 0], [1, 6, 0], [3, 0, 5], [0, 7, 5], [4, 1, 2], [4, 6, 1]]}, 'material': {'Concrete, Cast-in-Place gray': {'name': 'Concrete, Cast-in-Place gray', 'type': 'material', 'properties': {}}}, 'profile': None, 'properties': {'Pset_ColumnCommon.IsExternal': False, 'Pset_ColumnCommon.LoadBearing': True, 'Pset_ColumnCommon.id': 2610, 'Pset_ColumnCommon.Slope': 0.0, 'Pset_ColumnCommon.Reference': '250 x 400 mm', 'Qto_ColumnBaseQuantities.Length': 250.00000000000003, 'Qto_ColumnBaseQuantities.CrossSectionArea': 1.04, 'Qto_ColumnBaseQuantities.OuterSurfaceArea': 1.5000000000000002, 'Qto_ColumnBaseQuantities.GrossVolume': 0.26000000000000006, 'Qto_ColumnBaseQuantities.NetVolume': 0.2600000000000002, 'Qto_ColumnBaseQuantities.id': 2608, 'Pset_EnvironmentalImpactIndicators.Reference': '250 x 400 mm', 'Pset_EnvironmentalImpactIndicators.id': 2611, 'Pset_ReinforcementBarPitchOfColumn.Reference': '250 x 400 mm', 'Pset_ReinforcementBarPitchOfColumn.id': 2613}}, '0Bl0khqE5CRu4G24Ko5Z13': {'id': '0Bl0khqE5CRu4G24Ko5Z13', 'name': 'M_Concrete-Rectangular-Column:250 x 450 mm2:420119', 'type': 'IfcColumn', 'geometry': {'type': 'mesh', 'vertices': [[-1.9713125009910673, -3.333645706061493, 2.8], [-1.7213125009910675, -3.333645706061493, 2.8], [-1.7213125009910675, -3.333645706061493, 5.3999999999999995], [-1.9713125009910673, -3.333645706061493, 5.3999999999999995], [-1.7213125009910675, -3.7836457060614923, 5.3999999999999995], [-1.9713125009910673, -3.7836457060614923, 5.3999999999999995], [-1.7213125009910675, -3.7836457060614928, 2.8], [-1.9713125009910673, -3.7836457060614928, 2.8]], 'triangles': [[1, 0, 3], [2, 1, 3], [2, 3, 5], [4, 2, 5], [4, 5, 7], [6, 4, 7], [6, 7, 0], [1, 6, 0], [3, 0, 5], [0, 7, 5], [4, 1, 2], [4, 6, 1]]}, 'material': {'Concrete, Cast-in-Place gray': {'name': 'Concrete, Cast-in-Place gray', 'type': 'material', 'properties': {}}}, 'profile': None, 'properties': {'Pset_ColumnCommon.IsExternal': False, 'Pset_ColumnCommon.LoadBearing': True, 'Pset_ColumnCommon.id': 2645, 'Pset_ColumnCommon.Reference': '250 x 450 mm2', 'Pset_ColumnCommon.Slope': 0.0, 'Qto_ColumnBaseQuantities.Length': 249.99999999999974, 'Qto_ColumnBaseQuantities.CrossSectionArea': 1.1699999999999993, 'Qto_ColumnBaseQuantities.OuterSurfaceArea': 1.5249999999999981, 'Qto_ColumnBaseQuantities.GrossVolume': 0.29249999999999954, 'Qto_ColumnBaseQuantities.NetVolume': 0.2924999999999997, 'Qto_ColumnBaseQuantities.id': 2643, 'Pset_EnvironmentalImpactIndicators.Reference': '250 x 450 mm2', 'Pset_EnvironmentalImpactIndicators.id': 2646, 'Pset_ReinforcementBarPitchOfColumn.Reference': '250 x 450 mm2', 'Pset_ReinforcementBarPitchOfColumn.id': 2648}}, '0Bl0khqE5CRu4G24Ko5Z1A': {'id': '0Bl0khqE5CRu4G24Ko5Z1A', 'name': 'M_Concrete-Rectangular-Column:300 x 400 mm2:420126', 'type': 'IfcColumn', 'geometry': {'type': 'mesh', 'vertices': [[-1.9713125009910564, -0.7536457231978229, 2.8], [-1.6713125009910563, -0.7536457231978229, 2.8], [-1.6713125009910563, -0.7536457231978229, 5.3999999999999995], [-1.9713125009910564, -0.7536457231978229, 5.3999999999999995], [-1.6713125009910563, -1.1536457231978228, 5.3999999999999995], [-1.9713125009910564, -1.1536457231978228, 5.3999999999999995], [-1.6713125009910563, -1.1536457231978228, 2.8], [-1.9713125009910564, -1.1536457231978228, 2.8]], 'triangles': [[1, 0, 3], [2, 1, 3], [2, 3, 5], [4, 2, 5], [4, 5, 7], [6, 4, 7], [6, 7, 0], [1, 6, 0], [3, 0, 5], [0, 7, 5], [4, 1, 2], [4, 6, 1]]}, 'material': {'Concrete, Cast-in-Place gray': {'name': 'Concrete, Cast-in-Place gray', 'type': 'material', 'properties': {}}}, 'profile': None, 'properties': {'Pset_ColumnCommon.IsExternal': False, 'Pset_ColumnCommon.LoadBearing': True, 'Pset_ColumnCommon.id': 2772, 'Pset_ColumnCommon.Slope': 0.0, 'Pset_ColumnCommon.Reference': '300 x 400 mm2', 'Qto_ColumnBaseQuantities.Length': 300.0, 'Qto_ColumnBaseQuantities.CrossSectionArea': 1.0399999999999998, 'Qto_ColumnBaseQuantities.OuterSurfaceArea': 1.8, 'Qto_ColumnBaseQuantities.GrossVolume': 0.31199999999999994, 'Qto_ColumnBaseQuantities.NetVolume': 0.31199999999999994, 'Qto_ColumnBaseQuantities.id': 2770, 'Pset_EnvironmentalImpactIndicators.Reference': '300 x 400 mm2', 'Pset_EnvironmentalImpactIndicators.id': 2773, 'Pset_ReinforcementBarPitchOfColumn.Reference': '300 x 400 mm2', 'Pset_ReinforcementBarPitchOfColumn.id': 2775}}, '0Bl0khqE5CRu4G24Ko5Z1q': {'id': '0Bl0khqE5CRu4G24Ko5Z1q', 'name': 'M_Concrete-Rectangular-Column:300 x 400 mm2:420128', 'type': 'IfcColumn', 'geometry': {'type': 'mesh', 'vertices': [[3.4536874990089372, -0.7536457231978402, 2.8], [3.753687499008937, -0.7536457231978402, 2.8], [3.753687499008937, -0.7536457231978402, 5.3999999999999995], [3.4536874990089372, -0.7536457231978402, 5.3999999999999995], [3.753687499008937, -1.15364572319784, 5.3999999999999995], [3.4536874990089372, -1.15364572319784, 5.3999999999999995], [3.753687499008937, -1.15364572319784, 2.8], [3.4536874990089372, -1.15364572319784, 2.8]], 'triangles': [[1, 0, 3], [2, 1, 3], [2, 3, 5], [4, 2, 5], [4, 5, 7], [6, 4, 7], [6, 7, 0], [1, 6, 0], [3, 0, 5], [0, 7, 5], [4, 1, 2], [4, 6, 1]]}, 'material': {'Concrete, Cast-in-Place gray': {'name': 'Concrete, Cast-in-Place gray', 'type': 'material', 'properties': {}}}, 'profile': None, 'properties': {'Pset_ColumnCommon.IsExternal': False, 'Pset_ColumnCommon.LoadBearing': True, 'Pset_ColumnCommon.id': 2807, 'Pset_ColumnCommon.Slope': 0.0, 'Pset_ColumnCommon.Reference': '300 x 400 mm2', 'Qto_ColumnBaseQuantities.Length': 300.0, 'Qto_ColumnBaseQuantities.CrossSectionArea': 1.04, 'Qto_ColumnBaseQuantities.OuterSurfaceArea': 1.8, 'Qto_ColumnBaseQuantities.GrossVolume': 0.312, 'Qto_ColumnBaseQuantities.NetVolume': 0.3119999999999999, 'Qto_ColumnBaseQuantities.id': 2805, 'Pset_EnvironmentalImpactIndicators.Reference': '300 x 400 mm2', 'Pset_EnvironmentalImpactIndicators.id': 2808, 'Pset_ReinforcementBarPitchOfColumn.Reference': '300 x 400 mm2', 'Pset_ReinforcementBarPitchOfColumn.id': 2810}}, '0Bl0khqE5CRu4G24Ko5Z1u': {'id': '0Bl0khqE5CRu4G24Ko5Z1u', 'name': 'M_Concrete-Rectangular-Column:250 x 450 mm2:420140', 'type': 'IfcColumn', 'geometry': {'type': 'mesh', 'vertices': [[8.928687499008948, 4.2213542939384645, 2.8], [9.178687499008948, 4.2213542939384645, 2.8], [9.178687499008948, 4.2213542939384645, 5.3999999999999995], [8.928687499008948, 4.2213542939384645, 5.3999999999999995], [9.178687499008948, 3.7713542939384648, 5.3999999999999995], [8.928687499008948, 3.7713542939384648, 5.3999999999999995], [9.178687499008948, 3.7713542939384648, 2.8], [8.928687499008948, 3.7713542939384648, 2.8]], 'triangles': [[1, 0, 3], [2, 1, 3], [2, 3, 5], [4, 2, 5], [4, 5, 7], [6, 4, 7], [6, 7, 0], [1, 6, 0], [3, 0, 5], [0, 7, 5], [4, 1, 2], [4, 6, 1]]}, 'material': {'Concrete, Cast-in-Place gray': {'name': 'Concrete, Cast-in-Place gray', 'type': 'material', 'properties': {}}}, 'profile': None, 'properties': {'Pset_ColumnCommon.IsExternal': False, 'Pset_ColumnCommon.LoadBearing': True, 'Pset_ColumnCommon.id': 3072, 'Pset_ColumnCommon.Reference': '250 x 450 mm2', 'Pset_ColumnCommon.Slope': 0.0, 'Qto_ColumnBaseQuantities.Length': 249.9999999999995, 'Qto_ColumnBaseQuantities.CrossSectionArea': 1.1700000000000002, 'Qto_ColumnBaseQuantities.OuterSurfaceArea': 1.5249999999999966, 'Qto_ColumnBaseQuantities.GrossVolume': 0.2924999999999994, 'Qto_ColumnBaseQuantities.NetVolume': 0.2925000000000003, 'Qto_ColumnBaseQuantities.id': 3070, 'Pset_EnvironmentalImpactIndicators.Reference': '250 x 450 mm2', 'Pset_EnvironmentalImpactIndicators.id': 3073, 'Pset_ReinforcementBarPitchOfColumn.Reference': '250 x 450 mm2', 'Pset_ReinforcementBarPitchOfColumn.id': 3075}}, '0Bl0khqE5CRu4G24Ko5Z1w': {'id': '0Bl0khqE5CRu4G24Ko5Z1w', 'name': 'M_Concrete-Rectangular-Column:250 x 400 mm:420142', 'type': 'IfcColumn', 'geometry': {'type': 'mesh', 'vertices': [[8.928687499008936, -3.358645706061528, 2.8], [9.178687499008936, -3.358645706061528, 2.8], [9.178687499008936, -3.358645706061528, 5.3999999999999995], [8.928687499008936, -3.358645706061528, 5.3999999999999995], [9.178687499008936, -3.7586457060615284, 5.3999999999999995], [8.928687499008936, -3.7586457060615284, 5.3999999999999995], [9.178687499008936, -3.7586457060615284, 2.8], [8.928687499008936, -3.7586457060615284, 2.8]], 'triangles': [[1, 0, 3], [2, 1, 3], [2, 3, 5], [4, 2, 5], [4, 5, 7], [6, 4, 7], [6, 7, 0], [1, 6, 0], [3, 0, 5], [0, 7, 5], [4, 1, 2], [4, 6, 1]]}, 'material': {'Concrete, Cast-in-Place gray': {'name': 'Concrete, Cast-in-Place gray', 'type': 'material', 'properties': {}}}, 'profile': None, 'properties': {'Pset_ColumnCommon.IsExternal': False, 'Pset_ColumnCommon.LoadBearing': True, 'Pset_ColumnCommon.id': 3107, 'Pset_ColumnCommon.Slope': 0.0, 'Pset_ColumnCommon.Reference': '250 x 400 mm', 'Qto_ColumnBaseQuantities.Length': 249.9999999999995, 'Qto_ColumnBaseQuantities.CrossSectionArea': 1.04, 'Qto_ColumnBaseQuantities.OuterSurfaceArea': 1.499999999999997, 'Qto_ColumnBaseQuantities.GrossVolume': 0.25999999999999945, 'Qto_ColumnBaseQuantities.NetVolume': 0.25999999999999934, 'Qto_ColumnBaseQuantities.id': 3105, 'Pset_EnvironmentalImpactIndicators.Reference': '250 x 400 mm', 'Pset_EnvironmentalImpactIndicators.id': 3108, 'Pset_ReinforcementBarPitchOfColumn.Reference': '250 x 400 mm', 'Pset_ReinforcementBarPitchOfColumn.id': 3110}}, '0Bl0khqE5CRu4G24Ko5Z1W': {'id': '0Bl0khqE5CRu4G24Ko5Z1W', 'name': 'M_Concrete-Rectangular-Column:300 x 400 mm2:420148', 'type': 'IfcColumn', 'geometry': {'type': 'mesh', 'vertices': [[8.903687499008939, -0.7536457231978579, 2.8], [9.20368749900894, -0.7536457231978579, 2.8], [9.20368749900894, -0.7536457231978579, 5.3999999999999995], [8.903687499008939, -0.7536457231978579, 5.3999999999999995], [9.20368749900894, -1.1536457231978579, 5.3999999999999995], [8.903687499008939, -1.1536457231978579, 5.3999999999999995], [9.20368749900894, -1.1536457231978579, 2.8], [8.903687499008939, -1.1536457231978579, 2.8]], 'triangles': [[1, 0, 3], [2, 1, 3], [2, 3, 5], [4, 2, 5], [4, 5, 7], [6, 4, 7], [6, 7, 0], [1, 6, 0], [3, 0, 5], [0, 7, 5], [4, 1, 2], [4, 6, 1]]}, 'material': {'Concrete, Cast-in-Place gray': {'name': 'Concrete, Cast-in-Place gray', 'type': 'material', 'properties': {}}}, 'profile': None, 'properties': {'Pset_ColumnCommon.IsExternal': False, 'Pset_ColumnCommon.LoadBearing': True, 'Pset_ColumnCommon.id': 3234, 'Pset_ColumnCommon.Slope': 0.0, 'Pset_ColumnCommon.Reference': '300 x 400 mm2', 'Qto_ColumnBaseQuantities.Length': 300.0, 'Qto_ColumnBaseQuantities.CrossSectionArea': 1.04, 'Qto_ColumnBaseQuantities.OuterSurfaceArea': 1.8, 'Qto_ColumnBaseQuantities.GrossVolume': 0.312, 'Qto_ColumnBaseQuantities.NetVolume': 0.3119999999999994, 'Qto_ColumnBaseQuantities.id': 3232, 'Pset_EnvironmentalImpactIndicators.Reference': '300 x 400 mm2', 'Pset_EnvironmentalImpactIndicators.id': 3235, 'Pset_ReinforcementBarPitchOfColumn.Reference': '300 x 400 mm2', 'Pset_ReinforcementBarPitchOfColumn.id': 3237}}, '0Bl0khqE5CRu4G24Ko5Z1e': {'id': '0Bl0khqE5CRu4G24Ko5Z1e', 'name': 'M_Concrete-Rectangular-Column:250 x 450 mm2:420156', 'type': 'IfcColumn', 'geometry': {'type': 'mesh', 'vertices': [[14.378687499008949, 3.771354293938446, 2.8000000000000003], [14.378687499008949, 4.221354293938446, 2.8000000000000003], [14.378687499008949, 4.221354293938446, 5.4], [14.378687499008949, 3.771354293938446, 5.4], [14.623687499478148, 4.221354293938446, 5.4], [14.623687499478148, 3.771354293938446, 5.4], [14.623687499478148, 4.221354293938446, 5.6000000000000005], [14.623687499478148, 3.771354293938446, 5.6000000000000005], [14.628687499008949, 4.221354293938446, 5.6000000000000005], [14.628687499008949, 3.771354293938446, 5.6000000000000005], [14.628687499008949, 4.221354293938446, 2.8000000000000003], [14.628687499008949, 3.771354293938446, 2.8000000000000003]], 'triangles': [[1, 0, 3], [2, 1, 3], [2, 3, 5], [4, 2, 5], [4, 5, 7], [6, 4, 7], [6, 7, 9], [8, 6, 9], [8, 9, 11], [10, 8, 11], [10, 11, 0], [1, 10, 0], [3, 0, 5], [0, 11, 5], [7, 5, 9], [5, 11, 9], [4, 1, 2], [4, 10, 1], [8, 4, 6], [8, 10, 4]]}, 'material': {'Concrete, Cast-in-Place gray': {'name': 'Concrete, Cast-in-Place gray', 'type': 'material', 'properties': {}}}, 'profile': None, 'properties': {'Pset_ColumnCommon.IsExternal': False, 'Pset_ColumnCommon.LoadBearing': True, 'Pset_ColumnCommon.id': 3407, 'Pset_ColumnCommon.Reference': '250 x 450 mm2', 'Pset_ColumnCommon.Slope': 0.0, 'Qto_ColumnBaseQuantities.Length': 449.9999999999995, 'Qto_ColumnBaseQuantities.CrossSectionArea': 0.650999999906159, 'Qto_ColumnBaseQuantities.OuterSurfaceArea': 2.7449999999999966, 'Qto_ColumnBaseQuantities.GrossVolume': 0.2929499999577712, 'Qto_ColumnBaseQuantities.NetVolume': 0.29294999995776483, 'Qto_ColumnBaseQuantities.id': 3405, 'Pset_EnvironmentalImpactIndicators.Reference': '250 x 450 mm2', 'Pset_EnvironmentalImpactIndicators.id': 3408, 'Pset_ReinforcementBarPitchOfColumn.Reference': '250 x 450 mm2', 'Pset_ReinforcementBarPitchOfColumn.id': 3410}}, '0Bl0khqE5CRu4G24Ko5Z1g': {'id': '0Bl0khqE5CRu4G24Ko5Z1g', 'name': 'M_Concrete-Rectangular-Column:250 x 400 mm:420158', 'type': 'IfcColumn', 'geometry': {'type': 'mesh', 'vertices': [[14.378687499008937, -3.7586457060615457, 2.8000000000000003], [14.378687499008937, -3.3586457060615458, 2.8000000000000003], [14.378687499008937, -3.3586457060615458, 5.4], [14.378687499008937, -3.7586457060615457, 5.4], [14.623687499478136, -3.3586457060615458, 5.4], [14.623687499478136, -3.7586457060615457, 5.4], [14.623687499478136, -3.3586457060615458, 5.6000000000000005], [14.623687499478136, -3.7586457060615457, 5.6000000000000005], [14.628687499008937, -3.3586457060615458, 5.6000000000000005], [14.628687499008937, -3.7586457060615457, 5.6000000000000005], [14.628687499008937, -3.3586457060615458, 2.8000000000000003], [14.628687499008937, -3.7586457060615457, 2.8000000000000003]], 'triangles': [[1, 0, 3], [2, 1, 3], [2, 3, 5], [4, 2, 5], [4, 5, 7], [6, 4, 7], [6, 7, 9], [8, 6, 9], [8, 9, 11], [10, 8, 11], [10, 11, 0], [1, 10, 0], [3, 0, 5], [0, 11, 5], [7, 5, 9], [5, 11, 9], [4, 1, 2], [4, 10, 1], [8, 4, 6], [8, 10, 4]]}, 'material': {'Concrete, Cast-in-Place gray': {'name': 'Concrete, Cast-in-Place gray', 'type': 'material', 'properties': {}}}, 'profile': None, 'properties': {'Pset_ColumnCommon.IsExternal': False, 'Pset_ColumnCommon.LoadBearing': True, 'Pset_ColumnCommon.id': 3442, 'Pset_ColumnCommon.Slope': 0.0, 'Pset_ColumnCommon.Reference': '250 x 400 mm', 'Qto_ColumnBaseQuantities.Length': 400.0, 'Qto_ColumnBaseQuantities.CrossSectionArea': 0.6509999999061598, 'Qto_ColumnBaseQuantities.OuterSurfaceArea': 2.440000000000001, 'Qto_ColumnBaseQuantities.GrossVolume': 0.26039999996246393, 'Qto_ColumnBaseQuantities.NetVolume': 0.26039999996246443, 'Qto_ColumnBaseQuantities.id': 3440, 'Pset_EnvironmentalImpactIndicators.Reference': '250 x 400 mm', 'Pset_EnvironmentalImpactIndicators.id': 3443, 'Pset_ReinforcementBarPitchOfColumn.Reference': '250 x 400 mm', 'Pset_ReinforcementBarPitchOfColumn.id': 3445}}, '0Bl0khqE5CRu4G24Ko5Z0G': {'id': '0Bl0khqE5CRu4G24Ko5Z0G', 'name': 'M_Concrete-Rectangular-Column:300 x 400 mm2:420164', 'type': 'IfcColumn', 'geometry': {'type': 'mesh', 'vertices': [[14.323687499008942, -0.7536457231978757, 2.8], [14.623687499008943, -0.7536457231978757, 2.8], [14.623687499008943, -0.7536457231978757, 5.3999999999999995], [14.323687499008942, -0.7536457231978757, 5.3999999999999995], [14.623687499008943, -1.1536457231978756, 5.3999999999999995], [14.323687499008942, -1.1536457231978756, 5.3999999999999995], [14.623687499008943, -1.1536457231978756, 2.8], [14.323687499008942, -1.1536457231978756, 2.8]], 'triangles': [[1, 0, 3], [2, 1, 3], [2, 3, 5], [4, 2, 5], [4, 5, 7], [6, 4, 7], [6, 7, 0], [1, 6, 0], [3, 0, 5], [0, 7, 5], [4, 1, 2], [4, 6, 1]]}, 'material': {'Concrete, Cast-in-Place gray': {'name': 'Concrete, Cast-in-Place gray', 'type': 'material', 'properties': {}}}, 'profile': None, 'properties': {'Pset_ColumnCommon.IsExternal': False, 'Pset_ColumnCommon.LoadBearing': True, 'Pset_ColumnCommon.id': 3580, 'Pset_ColumnCommon.Slope': 0.0, 'Pset_ColumnCommon.Reference': '300 x 400 mm2', 'Qto_ColumnBaseQuantities.Length': 300.0000000000011, 'Qto_ColumnBaseQuantities.CrossSectionArea': 1.0399999999999998, 'Qto_ColumnBaseQuantities.OuterSurfaceArea': 1.8000000000000065, 'Qto_ColumnBaseQuantities.GrossVolume': 0.31200000000000105, 'Qto_ColumnBaseQuantities.NetVolume': 0.31199999999999994, 'Qto_ColumnBaseQuantities.id': 3578, 'Pset_EnvironmentalImpactIndicators.Reference': '300 x 400 mm2', 'Pset_EnvironmentalImpactIndicators.id': 3581, 'Pset_ReinforcementBarPitchOfColumn.Reference': '300 x 400 mm2', 'Pset_ReinforcementBarPitchOfColumn.id': 3583}}, '3aTnDTRUf3aPpeHNVYb1bz': {'id': '3aTnDTRUf3aPpeHNVYb1bz', 'name': 'Floor:Generic 200mm:422017', 'type': 'IfcSlab', 'geometry': {'type': 'mesh', 'vertices': [[1.0486875502784416, 5.096931339249837, 2.6], [1.0486875502784416, 5.096931339249837, 2.8000000000000003], [-1.9713125009910684, 5.096931339249837, 2.8000000000000003], [-1.9713125009910684, 5.096931339249837, 2.6], [-1.9713125009910542, -3.903068682860498, 2.8000000000000003], [-1.9713125009910542, -3.903068682860498, 2.6], [0.9486875478123284, -3.903068682860498, 2.8000000000000003], [0.9486875478123284, -3.903068682860498, 2.6], [0.9486875478123293, -4.603068662085298, 2.8000000000000003], [0.9486875478123293, -4.603068662085298, 2.6], [6.013687526845639, -4.603068662085298, 2.8000000000000003], [6.013687526845639, -4.603068662085298, 2.6], [6.013687526845638, -3.899014799218514, 2.8000000000000003], [6.013687526845638, -3.899014799218514, 2.6], [8.953687526845638, -3.899014799218514, 2.8000000000000003], [8.953687526845638, -3.899014799218514, 2.6], [8.95368752684564, -4.583068816845734, 2.8000000000000003], [8.95368752684564, -4.583068816845734, 2.6], [11.583687499478149, -4.583068816845734, 2.8000000000000003], [11.583687499478149, -4.583068816845734, 2.6], [11.583687499478149, -3.9030688168457353, 2.8000000000000003], [11.583687499478149, -3.9030688168457353, 2.6], [14.623687499478148, -3.9030688168457344, 2.8000000000000003], [14.623687499478148, -3.9030688168457344, 2.6], [14.623687499478134, 5.096931185961635, 2.8000000000000003], [14.623687499478134, 5.096931185961635, 2.6], [11.488687499376436, 5.096931185961634, 2.8000000000000003], [11.488687499376436, 5.096931185961634, 2.6], [11.488687499376438, 4.096931165842079, 2.8000000000000003], [11.488687499376438, 4.096931165842079, 2.6], [9.209677696650234, 4.096931165842079, 2.8000000000000003], [9.209677696650234, 4.096931165842079, 2.6], [9.209677696650232, 5.121354293938472, 2.8000000000000003], [9.209677696650232, 5.121354293938472, 2.6], [5.928687499008932, 5.121354293938473, 2.8000000000000003], [5.928687499008932, 5.121354293938473, 2.6], [5.928687499008934, 4.2213542939384725, 2.8000000000000003], [5.928687499008934, 4.2213542939384725, 2.6], [1.0486875502784434, 4.2213542939384725, 2.8000000000000003], [1.0486875502784434, 4.2213542939384725, 2.6], [2.3064874990089375, 3.8713542939384724, 2.6], [3.4786874990089323, 3.8713542939384724, 2.6], [3.478687499008938, -0.2486457060615278, 2.6], [2.306487499008939, -0.24864570606152758, 2.6], [3.7286874990089367, 3.87135429393847, 2.6], [4.900887499008931, 3.8713542939384715, 2.6], [4.900887499008937, -0.24864570606152983, 2.6], [3.728687499008938, -0.2486457060615296, 2.6], [9.178687499008939, 3.8713542939384618, 2.6], [10.350887499008936, 3.8713542939384618, 2.6], [10.350887499008941, -0.2486457060615389, 2.6], [9.178687499008939, -0.24864570606153868, 2.6], [2.3064874990089375, 3.8713542939384724, 2.8000000000000003], [3.4786874990089323, 3.8713542939384724, 2.8000000000000003], [3.478687499008938, -0.2486457060615278, 2.8000000000000003], [2.306487499008939, -0.24864570606152758, 2.8000000000000003], [3.7286874990089367, 3.87135429393847, 2.8000000000000003], [4.900887499008931, 3.8713542939384715, 2.8000000000000003], [4.900887499008937, -0.24864570606152983, 2.8000000000000003], [3.728687499008938, -0.2486457060615296, 2.8000000000000003], [9.178687499008939, 3.8713542939384618, 2.8000000000000003], [10.350887499008936, 3.8713542939384618, 2.8000000000000003], [10.350887499008941, -0.2486457060615389, 2.8000000000000003], [9.178687499008939, -0.24864570606153868, 2.8000000000000003]], 'triangles': [[1, 0, 3], [2, 1, 3], [2, 3, 5], [4, 2, 5], [4, 5, 7], [6, 4, 7], [6, 7, 9], [8, 6, 9], [8, 9, 11], [10, 8, 11], [10, 11, 13], [12, 10, 13], [12, 13, 15], [14, 12, 15], [14, 15, 17], [16, 14, 17], [16, 17, 19], [18, 16, 19], [18, 19, 21], [20, 18, 21], [20, 21, 23], [22, 20, 23], [22, 23, 25], [24, 22, 25], [24, 25, 27], [26, 24, 27], [26, 27, 29], [28, 26, 29], [28, 29, 31], [30, 28, 31], [30, 31, 33], [32, 30, 33], [32, 33, 35], [34, 32, 35], [34, 35, 37], [36, 34, 37], [36, 37, 39], [38, 36, 39], [38, 39, 0], [1, 38, 0], [27, 25, 29], [31, 49, 48], [33, 31, 37], [35, 33, 37], [31, 48, 37], [25, 23, 50], [29, 25, 50], [49, 29, 50], [37, 48, 51], [50, 23, 21], [51, 50, 15], [50, 21, 15], [45, 37, 46], [37, 51, 46], [21, 19, 17], [15, 21, 17], [44, 47, 42], [41, 44, 42], [0, 39, 3], [47, 46, 13], [51, 15, 13], [46, 51, 13], [42, 47, 13], [39, 40, 43], [3, 39, 43], [13, 11, 7], [43, 42, 7], [42, 13, 7], [7, 11, 9], [3, 43, 5], [43, 7, 5], [49, 31, 29], [45, 39, 37], [44, 39, 45], [41, 39, 44], [40, 39, 41], [52, 40, 41], [53, 52, 41], [53, 41, 42], [54, 53, 42], [54, 42, 43], [55, 54, 43], [55, 43, 40], [52, 55, 40], [56, 44, 45], [57, 56, 45], [57, 45, 46], [58, 57, 46], [58, 46, 47], [59, 58, 47], [59, 47, 44], [56, 59, 44], [60, 48, 49], [61, 60, 49], [61, 49, 50], [62, 61, 50], [62, 50, 51], [63, 62, 51], [63, 51, 48], [60, 63, 48], [28, 24, 26], [60, 61, 30], [36, 30, 32], [36, 32, 34], [36, 60, 30], [62, 22, 24], [62, 24, 28], [62, 28, 61], [63, 60, 36], [20, 22, 62], [14, 62, 63], [14, 20, 62], [58, 36, 57], [58, 63, 36], [16, 18, 20], [16, 20, 14], [54, 59, 56], [54, 56, 53], [2, 38, 1], [12, 58, 59], [12, 14, 63], [12, 63, 58], [12, 59, 54], [55, 52, 38], [55, 38, 2], [6, 10, 12], [6, 54, 55], [6, 12, 54], [8, 10, 6], [4, 6, 55], [4, 55, 2], [28, 30, 61], [36, 38, 53], [53, 38, 52], [36, 53, 56], [36, 56, 57]]}, 'material': {'Default Floor': {'name': 'Default Floor', 'type': 'material', 'properties': {}}}, 'profile': None, 'properties': {'Pset_SlabCommon.IsExternal': False, 'Pset_SlabCommon.id': 3859, 'Pset_SlabCommon.LoadBearing': True, 'Pset_SlabCommon.Reference': 'Generic 200mm', 'Pset_SlabCommon.PitchAngle': 0.0, 'Pset_EnvironmentalImpactIndicators.Reference': 'Generic 200mm', 'Pset_EnvironmentalImpactIndicators.id': 3855, 'Pset_ReinforcementBarPitchOfSlab.Reference': 'Generic 200mm', 'Pset_ReinforcementBarPitchOfSlab.id': 3857, 'Qto_SlabBaseQuantities.Depth': 200.0, 'Qto_SlabBaseQuantities.Perimeter': 89511.30807910221, 'Qto_SlabBaseQuantities.GrossArea': 148.20528743463882, 'Qto_SlabBaseQuantities.NetArea': 133.7168954346389, 'Qto_SlabBaseQuantities.GrossVolume': 29.641057486927767, 'Qto_SlabBaseQuantities.NetVolume': 26.743379086927778, 'Qto_SlabBaseQuantities.id': 3881}}, '3aTnDTRUf3aPpeHNVYb11x': {'id': '3aTnDTRUf3aPpeHNVYb11x', 'name': 'Floor:Generic 200mm:424327', 'type': 'IfcSlab', 'geometry': {'type': 'mesh', 'vertices': [[-1.971312500991071, 5.096931339249836, 5.6000000000000005], [-1.971312500991071, 5.096931339249836, 5.4], [1.0486875502784416, 5.096931339249836, 5.4], [1.0486875502784416, 5.096931339249836, 5.6000000000000005], [1.0486875502784425, 4.2213542939384725, 5.4], [1.0486875502784425, 4.2213542939384725, 5.6000000000000005], [5.928687499008933, 4.221354293938472, 5.4], [5.928687499008933, 4.221354293938472, 5.6000000000000005], [5.928687499008931, 5.121354293938472, 5.4], [5.928687499008931, 5.121354293938472, 5.6000000000000005], [9.209677696650232, 5.121354293938471, 5.4], [9.209677696650232, 5.121354293938471, 5.6000000000000005], [9.209677696650234, 4.096931165842078, 5.4], [9.209677696650234, 4.096931165842078, 5.6000000000000005], [11.488687499376438, 4.096931165842078, 5.4], [11.488687499376438, 4.096931165842078, 5.6000000000000005], [11.488687499376436, 5.096931185961634, 5.4], [11.488687499376436, 5.096931185961634, 5.6000000000000005], [14.623687499478136, 5.096931185961634, 5.4], [14.623687499478136, 5.096931185961634, 5.6000000000000005], [14.623687499478148, -3.903068816845735, 5.4], [14.623687499478148, -3.903068816845735, 5.6000000000000005], [11.583687499478149, -3.903068816845735, 5.4], [11.583687499478149, -3.903068816845735, 5.6000000000000005], [11.583687499478149, -4.583068816845735, 5.4], [11.583687499478149, -4.583068816845735, 5.6000000000000005], [8.953687526845638, -4.583068816845735, 5.4], [8.953687526845638, -4.583068816845735, 5.6000000000000005], [8.953687526845638, -3.8990147992185142, 5.4], [8.953687526845638, -3.8990147992185142, 5.6000000000000005], [6.013687526845637, -3.8990147992185142, 5.4], [6.013687526845637, -3.8990147992185142, 5.6000000000000005], [6.013687526845639, -4.603068662085299, 5.4], [6.013687526845639, -4.603068662085299, 5.6000000000000005], [0.9486875478123293, -4.603068662085299, 5.4], [0.9486875478123293, -4.603068662085299, 5.6000000000000005], [0.9486875478123267, -3.9030686828604986, 5.4], [0.9486875478123267, -3.9030686828604986, 5.6000000000000005], [-1.9713125009910568, -3.9030686828604977, 5.4], [-1.9713125009910568, -3.9030686828604977, 5.6000000000000005]], 'triangles': [[1, 0, 3], [2, 1, 3], [2, 3, 5], [4, 2, 5], [4, 5, 7], [6, 4, 7], [6, 7, 9], [8, 6, 9], [8, 9, 11], [10, 8, 11], [10, 11, 13], [12, 10, 13], [12, 13, 15], [14, 12, 15], [14, 15, 17], [16, 14, 17], [16, 17, 19], [18, 16, 19], [18, 19, 21], [20, 18, 21], [20, 21, 23], [22, 20, 23], [22, 23, 25], [24, 22, 25], [24, 25, 27], [26, 24, 27], [26, 27, 29], [28, 26, 29], [28, 29, 31], [30, 28, 31], [30, 31, 33], [32, 30, 33], [32, 33, 35], [34, 32, 35], [34, 35, 37], [36, 34, 37], [36, 37, 39], [38, 36, 39], [38, 39, 0], [1, 38, 0], [3, 0, 5], [5, 0, 39], [9, 7, 11], [5, 39, 37], [11, 7, 13], [17, 15, 19], [7, 5, 31], [5, 37, 31], [13, 7, 31], [37, 35, 33], [31, 37, 33], [13, 31, 29], [15, 13, 23], [29, 27, 23], [13, 29, 23], [23, 27, 25], [19, 15, 21], [15, 23, 21], [4, 1, 2], [38, 1, 4], [10, 6, 8], [36, 38, 4], [12, 6, 10], [18, 14, 16], [30, 4, 6], [30, 36, 4], [30, 6, 12], [32, 34, 36], [32, 36, 30], [28, 30, 12], [22, 12, 14], [22, 26, 28], [22, 28, 12], [24, 26, 22], [20, 14, 18], [20, 22, 14]]}, 'material': {'Default Floor': {'name': 'Default Floor', 'type': 'material', 'properties': {}}}, 'profile': None, 'properties': {'Pset_SlabCommon.IsExternal': False, 'Pset_SlabCommon.id': 3902, 'Pset_SlabCommon.LoadBearing': True, 'Pset_SlabCommon.Reference': 'Generic 200mm', 'Pset_SlabCommon.PitchAngle': 0.0, 'Pset_EnvironmentalImpactIndicators.Reference': 'Generic 200mm', 'Pset_EnvironmentalImpactIndicators.id': 3899, 'Pset_ReinforcementBarPitchOfSlab.Reference': 'Generic 200mm', 'Pset_ReinforcementBarPitchOfSlab.id': 3901, 'Qto_SlabBaseQuantities.Depth': 200.0, 'Qto_SlabBaseQuantities.Perimeter': 57758.10807910223, 'Qto_SlabBaseQuantities.GrossArea': 148.20528743463882, 'Qto_SlabBaseQuantities.NetArea': 148.20528743463888, 'Qto_SlabBaseQuantities.GrossVolume': 29.641057486927767, 'Qto_SlabBaseQuantities.NetVolume': 29.641057486927767, 'Qto_SlabBaseQuantities.id': 3912}}, '0Gix$5zP91PObkzryQgbec': {'id': '0Gix$5zP91PObkzryQgbec', 'name': 'M_Footing-Rectangular:1500x1500:419712', 'type': 'IfcFooting', 'geometry': {'type': 'mesh', 'vertices': [[-1.0963125009910546, 4.746354293938481, -2.0500000000000003], [-1.0963125009910546, 4.746354293938481, -1.6000000000000003], [-2.596312500991054, 4.746354293938481, -1.6000000000000003], [-2.596312500991054, 4.746354293938481, -2.0500000000000003], [-2.596312500991054, 3.2463542939384813, -1.6000000000000003], [-2.596312500991054, 3.2463542939384813, -2.0500000000000003], [-1.0963125009910546, 3.2463542939384813, -1.6000000000000003], [-1.0963125009910546, 3.2463542939384813, -2.0500000000000003]], 'triangles': [[1, 0, 3], [2, 1, 3], [2, 3, 5], [4, 2, 5], [4, 5, 7], [6, 4, 7], [6, 7, 0], [1, 6, 0], [3, 0, 5], [0, 7, 5], [4, 1, 2], [4, 6, 1]]}, 'material': {'Concrete, Cast-in-Place gray': {'name': 'Concrete, Cast-in-Place gray', 'type': 'material', 'properties': {}}}, 'profile': None, 'properties': {'Pset_EnvironmentalImpactIndicators.Reference': '1500x1500', 'Pset_EnvironmentalImpactIndicators.id': 1430, 'Pset_FootingCommon.Reference': '1500x1500', 'Pset_FootingCommon.id': 1431, 'Pset_ReinforcementBarCountOfIndependentFooting.Reference': '1500x1500', 'Pset_ReinforcementBarCountOfIndependentFooting.id': 1433, 'Pset_ReinforcementBarPitchOfContinuousFooting.Reference': '1500x1500', 'Pset_ReinforcementBarPitchOfContinuousFooting.id': 1435, 'Qto_FootingBaseQuantities.Length': 1500.0, 'Qto_FootingBaseQuantities.Width': 1500.0, 'Qto_FootingBaseQuantities.Height': 1499.9999999999998, 'Qto_FootingBaseQuantities.CrossSectionArea': 2.2499999999999996, 'Qto_FootingBaseQuantities.OuterSurfaceArea': 2.6999999999999997, 'Qto_FootingBaseQuantities.GrossSurfaceArea': 7.199999999999999, 'Qto_FootingBaseQuantities.GrossVolume': 1.0124999999999997, 'Qto_FootingBaseQuantities.NetVolume': 1.0124999999999997, 'Qto_FootingBaseQuantities.id': 1448}}, '0Gix$5zP91PObkzryQgbeZ': {'id': '0Gix$5zP91PObkzryQgbeZ', 'name': 'M_Footing-Rectangular:1500x1500:419717', 'type': 'IfcFooting', 'geometry': {'type': 'mesh', 'vertices': [[4.353687499008949, 4.746354293938481, -2.0500000000000003], [4.353687499008949, 4.746354293938481, -1.6000000000000003], [2.8536874990089487, 4.746354293938481, -1.6000000000000003], [2.8536874990089487, 4.746354293938481, -2.0500000000000003], [2.8536874990089487, 3.2463542939384813, -1.6000000000000003], [2.8536874990089487, 3.2463542939384813, -2.0500000000000003], [4.353687499008949, 3.2463542939384813, -1.6000000000000003], [4.353687499008949, 3.2463542939384813, -2.0500000000000003]], 'triangles': [[1, 0, 3], [2, 1, 3], [2, 3, 5], [4, 2, 5], [4, 5, 7], [6, 4, 7], [6, 7, 0], [1, 6, 0], [3, 0, 5], [0, 7, 5], [4, 1, 2], [4, 6, 1]]}, 'material': {'Concrete, Cast-in-Place gray': {'name': 'Concrete, Cast-in-Place gray', 'type': 'material', 'properties': {}}}, 'profile': None, 'properties': {'Pset_EnvironmentalImpactIndicators.Reference': '1500x1500', 'Pset_EnvironmentalImpactIndicators.id': 1457, 'Pset_FootingCommon.Reference': '1500x1500', 'Pset_FootingCommon.id': 1458, 'Pset_ReinforcementBarCountOfIndependentFooting.Reference': '1500x1500', 'Pset_ReinforcementBarCountOfIndependentFooting.id': 1460, 'Pset_ReinforcementBarPitchOfContinuousFooting.Reference': '1500x1500', 'Pset_ReinforcementBarPitchOfContinuousFooting.id': 1462, 'Qto_FootingBaseQuantities.Length': 1500.0, 'Qto_FootingBaseQuantities.Width': 1500.0, 'Qto_FootingBaseQuantities.Height': 1499.9999999999998, 'Qto_FootingBaseQuantities.CrossSectionArea': 2.2499999999999996, 'Qto_FootingBaseQuantities.OuterSurfaceArea': 2.6999999999999997, 'Qto_FootingBaseQuantities.GrossSurfaceArea': 7.199999999999999, 'Qto_FootingBaseQuantities.GrossVolume': 1.0124999999999997, 'Qto_FootingBaseQuantities.NetVolume': 1.0124999999999997, 'Qto_FootingBaseQuantities.id': 1475}}, '0Gix$5zP91PObkzryQgbei': {'id': '0Gix$5zP91PObkzryQgbei', 'name': 'M_Footing-Rectangular:1500x1500:419722', 'type': 'IfcFooting', 'geometry': {'type': 'mesh', 'vertices': [[9.80368749900895, 4.746354293938481, -2.0500000000000003], [9.80368749900895, 4.746354293938481, -1.6000000000000003], [8.30368749900895, 4.746354293938481, -1.6000000000000003], [8.30368749900895, 4.746354293938481, -2.0500000000000003], [8.30368749900895, 3.2463542939384813, -1.6000000000000003], [8.30368749900895, 3.2463542939384813, -2.0500000000000003], [9.80368749900895, 3.2463542939384813, -1.6000000000000003], [9.80368749900895, 3.2463542939384813, -2.0500000000000003]], 'triangles': [[1, 0, 3], [2, 1, 3], [2, 3, 5], [4, 2, 5], [4, 5, 7], [6, 4, 7], [6, 7, 0], [1, 6, 0], [3, 0, 5], [0, 7, 5], [4, 1, 2], [4, 6, 1]]}, 'material': {'Concrete, Cast-in-Place gray': {'name': 'Concrete, Cast-in-Place gray', 'type': 'material', 'properties': {}}}, 'profile': None, 'properties': {'Pset_EnvironmentalImpactIndicators.Reference': '1500x1500', 'Pset_EnvironmentalImpactIndicators.id': 1484, 'Pset_FootingCommon.Reference': '1500x1500', 'Pset_FootingCommon.id': 1485, 'Pset_ReinforcementBarCountOfIndependentFooting.Reference': '1500x1500', 'Pset_ReinforcementBarCountOfIndependentFooting.id': 1487, 'Pset_ReinforcementBarPitchOfContinuousFooting.Reference': '1500x1500', 'Pset_ReinforcementBarPitchOfContinuousFooting.id': 1489, 'Qto_FootingBaseQuantities.Length': 1500.0, 'Qto_FootingBaseQuantities.Width': 1500.0, 'Qto_FootingBaseQuantities.Height': 1499.9999999999998, 'Qto_FootingBaseQuantities.CrossSectionArea': 2.2499999999999996, 'Qto_FootingBaseQuantities.OuterSurfaceArea': 2.6999999999999997, 'Qto_FootingBaseQuantities.GrossSurfaceArea': 7.199999999999999, 'Qto_FootingBaseQuantities.GrossVolume': 1.0124999999999997, 'Qto_FootingBaseQuantities.NetVolume': 1.0124999999999997, 'Qto_FootingBaseQuantities.id': 1502}}, '0Gix$5zP91PObkzryQgbef': {'id': '0Gix$5zP91PObkzryQgbef', 'name': 'M_Footing-Rectangular:1500x1500:419727', 'type': 'IfcFooting', 'geometry': {'type': 'mesh', 'vertices': [[15.25368749900895, 4.746354293938481, -2.0500000000000003], [15.25368749900895, 4.746354293938481, -1.6000000000000003], [13.75368749900895, 4.746354293938481, -1.6000000000000003], [13.75368749900895, 4.746354293938481, -2.0500000000000003], [13.75368749900895, 3.2463542939384813, -1.6000000000000003], [13.75368749900895, 3.2463542939384813, -2.0500000000000003], [15.25368749900895, 3.2463542939384813, -1.6000000000000003], [15.25368749900895, 3.2463542939384813, -2.0500000000000003]], 'triangles': [[1, 0, 3], [2, 1, 3], [2, 3, 5], [4, 2, 5], [4, 5, 7], [6, 4, 7], [6, 7, 0], [1, 6, 0], [3, 0, 5], [0, 7, 5], [4, 1, 2], [4, 6, 1]]}, 'material': {'Concrete, Cast-in-Place gray': {'name': 'Concrete, Cast-in-Place gray', 'type': 'material', 'properties': {}}}, 'profile': None, 'properties': {'Pset_EnvironmentalImpactIndicators.Reference': '1500x1500', 'Pset_EnvironmentalImpactIndicators.id': 1511, 'Pset_FootingCommon.Reference': '1500x1500', 'Pset_FootingCommon.id': 1512, 'Pset_ReinforcementBarCountOfIndependentFooting.Reference': '1500x1500', 'Pset_ReinforcementBarCountOfIndependentFooting.id': 1514, 'Pset_ReinforcementBarPitchOfContinuousFooting.Reference': '1500x1500', 'Pset_ReinforcementBarPitchOfContinuousFooting.id': 1516, 'Qto_FootingBaseQuantities.Length': 1500.0, 'Qto_FootingBaseQuantities.Width': 1500.0, 'Qto_FootingBaseQuantities.Height': 1499.9999999999998, 'Qto_FootingBaseQuantities.CrossSectionArea': 2.2499999999999996, 'Qto_FootingBaseQuantities.OuterSurfaceArea': 2.6999999999999997, 'Qto_FootingBaseQuantities.GrossSurfaceArea': 7.199999999999999, 'Qto_FootingBaseQuantities.GrossVolume': 1.0124999999999997, 'Qto_FootingBaseQuantities.NetVolume': 1.0124999999999997, 'Qto_FootingBaseQuantities.id': 1529}}, '0Gix$5zP91PObkzryQgbeo': {'id': '0Gix$5zP91PObkzryQgbeo', 'name': 'M_Footing-Rectangular:1500x1500:419732', 'type': 'IfcFooting', 'geometry': {'type': 'mesh', 'vertices': [[-1.0713125009910538, -0.2036457231978427, -2.0500000000000003], [-1.0713125009910538, -0.2036457231978427, -1.6000000000000003], [-2.5713125009910534, -0.2036457231978427, -1.6000000000000003], [-2.5713125009910534, -0.2036457231978427, -2.0500000000000003], [-2.5713125009910534, -1.7036457231978424, -1.6000000000000003], [-2.5713125009910534, -1.7036457231978424, -2.0500000000000003], [-1.0713125009910538, -1.7036457231978424, -1.6000000000000003], [-1.0713125009910538, -1.7036457231978424, -2.0500000000000003]], 'triangles': [[1, 0, 3], [2, 1, 3], [2, 3, 5], [4, 2, 5], [4, 5, 7], [6, 4, 7], [6, 7, 0], [1, 6, 0], [3, 0, 5], [0, 7, 5], [4, 1, 2], [4, 6, 1]]}, 'material': {'Concrete, Cast-in-Place gray': {'name': 'Concrete, Cast-in-Place gray', 'type': 'material', 'properties': {}}}, 'profile': None, 'properties': {'Pset_EnvironmentalImpactIndicators.Reference': '1500x1500', 'Pset_EnvironmentalImpactIndicators.id': 1538, 'Pset_FootingCommon.Reference': '1500x1500', 'Pset_FootingCommon.id': 1539, 'Pset_ReinforcementBarCountOfIndependentFooting.Reference': '1500x1500', 'Pset_ReinforcementBarCountOfIndependentFooting.id': 1541, 'Pset_ReinforcementBarPitchOfContinuousFooting.Reference': '1500x1500', 'Pset_ReinforcementBarPitchOfContinuousFooting.id': 1543, 'Qto_FootingBaseQuantities.Length': 1500.0, 'Qto_FootingBaseQuantities.Width': 1500.0, 'Qto_FootingBaseQuantities.Height': 1499.9999999999998, 'Qto_FootingBaseQuantities.CrossSectionArea': 2.2499999999999996, 'Qto_FootingBaseQuantities.OuterSurfaceArea': 2.6999999999999997, 'Qto_FootingBaseQuantities.GrossSurfaceArea': 7.199999999999999, 'Qto_FootingBaseQuantities.GrossVolume': 1.0124999999999997, 'Qto_FootingBaseQuantities.NetVolume': 1.0124999999999997, 'Qto_FootingBaseQuantities.id': 1556}}, '0Gix$5zP91PObkzryQgbe$': {'id': '0Gix$5zP91PObkzryQgbe$', 'name': 'M_Footing-Rectangular:1500x1500:419737', 'type': 'IfcFooting', 'geometry': {'type': 'mesh', 'vertices': [[4.35368749900894, -0.2036457231978427, -2.0500000000000003], [4.35368749900894, -0.2036457231978427, -1.6000000000000003], [2.85368749900894, -0.2036457231978427, -1.6000000000000003], [2.85368749900894, -0.2036457231978427, -2.0500000000000003], [2.85368749900894, -1.7036457231978424, -1.6000000000000003], [2.85368749900894, -1.7036457231978424, -2.0500000000000003], [4.35368749900894, -1.7036457231978424, -1.6000000000000003], [4.35368749900894, -1.7036457231978424, -2.0500000000000003]], 'triangles': [[1, 0, 3], [2, 1, 3], [2, 3, 5], [4, 2, 5], [4, 5, 7], [6, 4, 7], [6, 7, 0], [1, 6, 0], [3, 0, 5], [0, 7, 5], [4, 1, 2], [4, 6, 1]]}, 'material': {'Concrete, Cast-in-Place gray': {'name': 'Concrete, Cast-in-Place gray', 'type': 'material', 'properties': {}}}, 'profile': None, 'properties': {'Pset_EnvironmentalImpactIndicators.Reference': '1500x1500', 'Pset_EnvironmentalImpactIndicators.id': 1565, 'Pset_FootingCommon.Reference': '1500x1500', 'Pset_FootingCommon.id': 1566, 'Pset_ReinforcementBarCountOfIndependentFooting.Reference': '1500x1500', 'Pset_ReinforcementBarCountOfIndependentFooting.id': 1568, 'Pset_ReinforcementBarPitchOfContinuousFooting.Reference': '1500x1500', 'Pset_ReinforcementBarPitchOfContinuousFooting.id': 1570, 'Qto_FootingBaseQuantities.Length': 1500.0, 'Qto_FootingBaseQuantities.Width': 1500.0, 'Qto_FootingBaseQuantities.Height': 1499.9999999999998, 'Qto_FootingBaseQuantities.CrossSectionArea': 2.2499999999999996, 'Qto_FootingBaseQuantities.OuterSurfaceArea': 2.6999999999999997, 'Qto_FootingBaseQuantities.GrossSurfaceArea': 7.199999999999999, 'Qto_FootingBaseQuantities.GrossVolume': 1.0124999999999997, 'Qto_FootingBaseQuantities.NetVolume': 1.0124999999999997, 'Qto_FootingBaseQuantities.id': 1583}}, '0Gix$5zP91PObkzryQgbeu': {'id': '0Gix$5zP91PObkzryQgbeu', 'name': 'M_Footing-Rectangular:1500x1500:419742', 'type': 'IfcFooting', 'geometry': {'type': 'mesh', 'vertices': [[9.80368749900894, -0.2036457231978427, -2.0500000000000003], [9.80368749900894, -0.2036457231978427, -1.6000000000000003], [8.30368749900894, -0.2036457231978427, -1.6000000000000003], [8.30368749900894, -0.2036457231978427, -2.0500000000000003], [8.30368749900894, -1.7036457231978424, -1.6000000000000003], [8.30368749900894, -1.7036457231978424, -2.0500000000000003], [9.80368749900894, -1.7036457231978424, -1.6000000000000003], [9.80368749900894, -1.7036457231978424, -2.0500000000000003]], 'triangles': [[1, 0, 3], [2, 1, 3], [2, 3, 5], [4, 2, 5], [4, 5, 7], [6, 4, 7], [6, 7, 0], [1, 6, 0], [3, 0, 5], [0, 7, 5], [4, 1, 2], [4, 6, 1]]}, 'material': {'Concrete, Cast-in-Place gray': {'name': 'Concrete, Cast-in-Place gray', 'type': 'material', 'properties': {}}}, 'profile': None, 'properties': {'Pset_EnvironmentalImpactIndicators.Reference': '1500x1500', 'Pset_EnvironmentalImpactIndicators.id': 1592, 'Pset_FootingCommon.Reference': '1500x1500', 'Pset_FootingCommon.id': 1593, 'Pset_ReinforcementBarCountOfIndependentFooting.Reference': '1500x1500', 'Pset_ReinforcementBarCountOfIndependentFooting.id': 1595, 'Pset_ReinforcementBarPitchOfContinuousFooting.Reference': '1500x1500', 'Pset_ReinforcementBarPitchOfContinuousFooting.id': 1597, 'Qto_FootingBaseQuantities.Length': 1500.0, 'Qto_FootingBaseQuantities.Width': 1500.0, 'Qto_FootingBaseQuantities.Height': 1499.9999999999998, 'Qto_FootingBaseQuantities.CrossSectionArea': 2.2499999999999996, 'Qto_FootingBaseQuantities.OuterSurfaceArea': 2.6999999999999997, 'Qto_FootingBaseQuantities.GrossSurfaceArea': 7.199999999999999, 'Qto_FootingBaseQuantities.GrossVolume': 1.0124999999999997, 'Qto_FootingBaseQuantities.NetVolume': 1.0124999999999995, 'Qto_FootingBaseQuantities.id': 1610}}, '0Gix$5zP91PObkzryQgbe5': {'id': '0Gix$5zP91PObkzryQgbe5', 'name': 'M_Footing-Rectangular:1500x1500:419747', 'type': 'IfcFooting', 'geometry': {'type': 'mesh', 'vertices': [[15.223687499008946, -0.2036457231978427, -2.0500000000000003], [15.223687499008946, -0.2036457231978427, -1.6000000000000003], [13.723687499008946, -0.2036457231978427, -1.6000000000000003], [13.723687499008946, -0.2036457231978427, -2.0500000000000003], [13.723687499008946, -1.7036457231978424, -1.6000000000000003], [13.723687499008946, -1.7036457231978424, -2.0500000000000003], [15.223687499008946, -1.7036457231978424, -1.6000000000000003], [15.223687499008946, -1.7036457231978424, -2.0500000000000003]], 'triangles': [[1, 0, 3], [2, 1, 3], [2, 3, 5], [4, 2, 5], [4, 5, 7], [6, 4, 7], [6, 7, 0], [1, 6, 0], [3, 0, 5], [0, 7, 5], [4, 1, 2], [4, 6, 1]]}, 'material': {'Concrete, Cast-in-Place gray': {'name': 'Concrete, Cast-in-Place gray', 'type': 'material', 'properties': {}}}, 'profile': None, 'properties': {'Pset_EnvironmentalImpactIndicators.Reference': '1500x1500', 'Pset_EnvironmentalImpactIndicators.id': 1619, 'Pset_FootingCommon.Reference': '1500x1500', 'Pset_FootingCommon.id': 1620, 'Pset_ReinforcementBarCountOfIndependentFooting.Reference': '1500x1500', 'Pset_ReinforcementBarCountOfIndependentFooting.id': 1622, 'Pset_ReinforcementBarPitchOfContinuousFooting.Reference': '1500x1500', 'Pset_ReinforcementBarPitchOfContinuousFooting.id': 1624, 'Qto_FootingBaseQuantities.Length': 1500.0, 'Qto_FootingBaseQuantities.Width': 1500.0, 'Qto_FootingBaseQuantities.Height': 1499.9999999999998, 'Qto_FootingBaseQuantities.CrossSectionArea': 2.2499999999999996, 'Qto_FootingBaseQuantities.OuterSurfaceArea': 2.6999999999999997, 'Qto_FootingBaseQuantities.GrossSurfaceArea': 7.199999999999999, 'Qto_FootingBaseQuantities.GrossVolume': 1.0124999999999997, 'Qto_FootingBaseQuantities.NetVolume': 1.0124999999999995, 'Qto_FootingBaseQuantities.id': 1637}}, '0Gix$5zP91PObkzryQgbeE': {'id': '0Gix$5zP91PObkzryQgbeE', 'name': 'M_Footing-Rectangular:1500x1500:419752', 'type': 'IfcFooting', 'geometry': {'type': 'mesh', 'vertices': [[-1.0963125009910648, -2.808645706061512, -2.0500000000000003], [-1.0963125009910648, -2.808645706061512, -1.6000000000000003], [-2.596312500991065, -2.808645706061512, -1.6000000000000003], [-2.596312500991065, -2.808645706061512, -2.0500000000000003], [-2.596312500991065, -4.308645706061512, -1.6000000000000003], [-2.596312500991065, -4.308645706061512, -2.0500000000000003], [-1.0963125009910648, -4.308645706061512, -1.6000000000000003], [-1.0963125009910648, -4.308645706061512, -2.0500000000000003]], 'triangles': [[1, 0, 3], [2, 1, 3], [2, 3, 5], [4, 2, 5], [4, 5, 7], [6, 4, 7], [6, 7, 0], [1, 6, 0], [3, 0, 5], [0, 7, 5], [4, 1, 2], [4, 6, 1]]}, 'material': {'Concrete, Cast-in-Place gray': {'name': 'Concrete, Cast-in-Place gray', 'type': 'material', 'properties': {}}}, 'profile': None, 'properties': {'Pset_EnvironmentalImpactIndicators.Reference': '1500x1500', 'Pset_EnvironmentalImpactIndicators.id': 1646, 'Pset_FootingCommon.Reference': '1500x1500', 'Pset_FootingCommon.id': 1647, 'Pset_ReinforcementBarCountOfIndependentFooting.Reference': '1500x1500', 'Pset_ReinforcementBarCountOfIndependentFooting.id': 1649, 'Pset_ReinforcementBarPitchOfContinuousFooting.Reference': '1500x1500', 'Pset_ReinforcementBarPitchOfContinuousFooting.id': 1651, 'Qto_FootingBaseQuantities.Length': 1500.0, 'Qto_FootingBaseQuantities.Width': 1500.0, 'Qto_FootingBaseQuantities.Height': 1499.9999999999998, 'Qto_FootingBaseQuantities.CrossSectionArea': 2.2499999999999996, 'Qto_FootingBaseQuantities.OuterSurfaceArea': 2.6999999999999997, 'Qto_FootingBaseQuantities.GrossSurfaceArea': 7.199999999999999, 'Qto_FootingBaseQuantities.GrossVolume': 1.0124999999999997, 'Qto_FootingBaseQuantities.NetVolume': 1.0124999999999997, 'Qto_FootingBaseQuantities.id': 1664}}, '0Gix$5zP91PObkzryQgbeB': {'id': '0Gix$5zP91PObkzryQgbeB', 'name': 'M_Footing-Rectangular:1500x1500:419757', 'type': 'IfcFooting', 'geometry': {'type': 'mesh', 'vertices': [[4.353687499008935, -2.8086457060615295, -2.0500000000000003], [4.353687499008935, -2.8086457060615295, -1.6000000000000003], [2.8536874990089354, -2.8086457060615295, -1.6000000000000003], [2.8536874990089354, -2.8086457060615295, -2.0500000000000003], [2.8536874990089354, -4.3086457060615295, -1.6000000000000003], [2.8536874990089354, -4.3086457060615295, -2.0500000000000003], [4.353687499008935, -4.3086457060615295, -1.6000000000000003], [4.353687499008935, -4.3086457060615295, -2.0500000000000003]], 'triangles': [[1, 0, 3], [2, 1, 3], [2, 3, 5], [4, 2, 5], [4, 5, 7], [6, 4, 7], [6, 7, 0], [1, 6, 0], [3, 0, 5], [0, 7, 5], [4, 1, 2], [4, 6, 1]]}, 'material': {'Concrete, Cast-in-Place gray': {'name': 'Concrete, Cast-in-Place gray', 'type': 'material', 'properties': {}}}, 'profile': None, 'properties': {'Pset_EnvironmentalImpactIndicators.Reference': '1500x1500', 'Pset_EnvironmentalImpactIndicators.id': 1673, 'Pset_FootingCommon.Reference': '1500x1500', 'Pset_FootingCommon.id': 1674, 'Pset_ReinforcementBarCountOfIndependentFooting.Reference': '1500x1500', 'Pset_ReinforcementBarCountOfIndependentFooting.id': 1676, 'Pset_ReinforcementBarPitchOfContinuousFooting.Reference': '1500x1500', 'Pset_ReinforcementBarPitchOfContinuousFooting.id': 1678, 'Qto_FootingBaseQuantities.Length': 1500.0, 'Qto_FootingBaseQuantities.Width': 1500.0, 'Qto_FootingBaseQuantities.Height': 1499.9999999999998, 'Qto_FootingBaseQuantities.CrossSectionArea': 2.2499999999999996, 'Qto_FootingBaseQuantities.OuterSurfaceArea': 2.6999999999999997, 'Qto_FootingBaseQuantities.GrossSurfaceArea': 7.199999999999999, 'Qto_FootingBaseQuantities.GrossVolume': 1.0124999999999997, 'Qto_FootingBaseQuantities.NetVolume': 1.0124999999999997, 'Qto_FootingBaseQuantities.id': 1691}}, '0Gix$5zP91PObkzryQgbeK': {'id': '0Gix$5zP91PObkzryQgbeK', 'name': 'M_Footing-Rectangular:1500x1500:419762', 'type': 'IfcFooting', 'geometry': {'type': 'mesh', 'vertices': [[9.80368749900894, -2.8086457060615295, -2.0500000000000003], [9.80368749900894, -2.8086457060615295, -1.6000000000000003], [8.30368749900894, -2.8086457060615295, -1.6000000000000003], [8.30368749900894, -2.8086457060615295, -2.0500000000000003], [8.30368749900894, -4.3086457060615295, -1.6000000000000003], [8.30368749900894, -4.3086457060615295, -2.0500000000000003], [9.80368749900894, -4.3086457060615295, -1.6000000000000003], [9.80368749900894, -4.3086457060615295, -2.0500000000000003]], 'triangles': [[1, 0, 3], [2, 1, 3], [2, 3, 5], [4, 2, 5], [4, 5, 7], [6, 4, 7], [6, 7, 0], [1, 6, 0], [3, 0, 5], [0, 7, 5], [4, 1, 2], [4, 6, 1]]}, 'material': {'Concrete, Cast-in-Place gray': {'name': 'Concrete, Cast-in-Place gray', 'type': 'material', 'properties': {}}}, 'profile': None, 'properties': {'Pset_EnvironmentalImpactIndicators.Reference': '1500x1500', 'Pset_EnvironmentalImpactIndicators.id': 1700, 'Pset_FootingCommon.Reference': '1500x1500', 'Pset_FootingCommon.id': 1701, 'Pset_ReinforcementBarCountOfIndependentFooting.Reference': '1500x1500', 'Pset_ReinforcementBarCountOfIndependentFooting.id': 1703, 'Pset_ReinforcementBarPitchOfContinuousFooting.Reference': '1500x1500', 'Pset_ReinforcementBarPitchOfContinuousFooting.id': 1705, 'Qto_FootingBaseQuantities.Length': 1500.0, 'Qto_FootingBaseQuantities.Width': 1500.0, 'Qto_FootingBaseQuantities.Height': 1499.9999999999998, 'Qto_FootingBaseQuantities.CrossSectionArea': 2.2499999999999996, 'Qto_FootingBaseQuantities.OuterSurfaceArea': 2.6999999999999997, 'Qto_FootingBaseQuantities.GrossSurfaceArea': 7.199999999999999, 'Qto_FootingBaseQuantities.GrossVolume': 1.0124999999999997, 'Qto_FootingBaseQuantities.NetVolume': 1.0124999999999997, 'Qto_FootingBaseQuantities.id': 1718}}, '0Gix$5zP91PObkzryQgbeH': {'id': '0Gix$5zP91PObkzryQgbeH', 'name': 'M_Footing-Rectangular:1500x1500:419767', 'type': 'IfcFooting', 'geometry': {'type': 'mesh', 'vertices': [[15.253687499008938, -2.8086457060615655, -2.0500000000000003], [15.253687499008938, -2.8086457060615655, -1.6000000000000003], [13.753687499008938, -2.8086457060615655, -1.6000000000000003], [13.753687499008938, -2.8086457060615655, -2.0500000000000003], [13.753687499008938, -4.308645706061565, -1.6000000000000003], [13.753687499008938, -4.308645706061565, -2.0500000000000003], [15.253687499008938, -4.308645706061565, -1.6000000000000003], [15.253687499008938, -4.308645706061565, -2.0500000000000003]], 'triangles': [[1, 0, 3], [2, 1, 3], [2, 3, 5], [4, 2, 5], [4, 5, 7], [6, 4, 7], [6, 7, 0], [1, 6, 0], [3, 0, 5], [0, 7, 5], [4, 1, 2], [4, 6, 1]]}, 'material': {'Concrete, Cast-in-Place gray': {'name': 'Concrete, Cast-in-Place gray', 'type': 'material', 'properties': {}}}, 'profile': None, 'properties': {'Pset_EnvironmentalImpactIndicators.Reference': '1500x1500', 'Pset_EnvironmentalImpactIndicators.id': 1727, 'Pset_FootingCommon.Reference': '1500x1500', 'Pset_FootingCommon.id': 1728, 'Pset_ReinforcementBarCountOfIndependentFooting.Reference': '1500x1500', 'Pset_ReinforcementBarCountOfIndependentFooting.id': 1730, 'Pset_ReinforcementBarPitchOfContinuousFooting.Reference': '1500x1500', 'Pset_ReinforcementBarPitchOfContinuousFooting.id': 1732, 'Qto_FootingBaseQuantities.Length': 1500.0, 'Qto_FootingBaseQuantities.Width': 1500.0, 'Qto_FootingBaseQuantities.Height': 1499.9999999999998, 'Qto_FootingBaseQuantities.CrossSectionArea': 2.2499999999999996, 'Qto_FootingBaseQuantities.OuterSurfaceArea': 2.6999999999999997, 'Qto_FootingBaseQuantities.GrossSurfaceArea': 7.199999999999999, 'Qto_FootingBaseQuantities.GrossVolume': 1.0124999999999997, 'Qto_FootingBaseQuantities.NetVolume': 1.0124999999999997, 'Qto_FootingBaseQuantities.id': 1745}}}\n",
      "Element types: {'IfcColumn', 'IfcFooting', 'IfcBeam', 'IfcSlab'}\n"
     ]
    },
    {
     "data": {
      "application/vnd.plotly.v1+json": {
       "config": {
        "plotlyServerURL": "https://plot.ly"
       },
       "data": [
        {
         "color": "blue",
         "i": {
          "bdata": "AQICBAQGBgEDAAQE",
          "dtype": "i1"
         },
         "j": {
          "bdata": "AAEDAgUEBwYABwEG",
          "dtype": "i1"
         },
         "k": {
          "bdata": "AwMFBQcHAAAFBQIB",
          "dtype": "i1"
         },
         "name": "IfcBeam",
         "opacity": 0.6,
         "type": "mesh3d",
         "x": {
          "bdata": "rD0f+n6K+7/K+okcWtQLQMr6iRxa1AtArD0f+n6K+7/K+okcWtQLQKw9H/p+ivu/yvqJHFrUC0CsPR/6for7vw==",
          "dtype": "f8"
         },
         "y": {
          "bdata": "XI+dmYj4DkBcj52ZiPgOQCSPnZmI+A5AJI+dmYj4DkCXx85MRHwQQJfHzkxEfBBAssfOTER8EECyx85MRHwQQA==",
          "dtype": "f8"
         },
         "z": {
          "bdata": "Is/MzMzMBEAiz8zMzMwEQC9kZmZmZgJAL2RmZmZmAkARZGZmZmYCQBFkZmZmZgJABM/MzMzMBEAEz8zMzMwEQA==",
          "dtype": "f8"
         }
        },
        {
         "color": "blue",
         "i": {
          "bdata": "AQICBAQGBgEDAAQE",
          "dtype": "i1"
         },
         "j": {
          "bdata": "AAEDAgUEBwYABwEG",
          "dtype": "i1"
         },
         "k": {
          "bdata": "AwMFBQcHAAAFBQIB",
          "dtype": "i1"
         },
         "name": "IfcBeam",
         "opacity": 0.6,
         "type": "mesh3d",
         "x": {
          "bdata": "3T0f+n6K+7+s+okcWtQLQKz6iRxa1AtA3T0f+n6K+7+s+okcWtQLQN09H/p+ivu/rPqJHFrUC0DdPR/6for7vw==",
          "dtype": "f8"
         },
         "y": {
          "bdata": "Bq5sPRt4DcAGrmw9G3gNwECubD0beA3AQK5sPRt4DcA3rmw9G3gLwDeubD0beAvA9q1sPRt4C8D2rWw9G3gLwA==",
          "dtype": "f8"
         },
         "z": {
          "bdata": "JM/MzMzMBEAkz8zMzMwEQDFkZmZmZgJAMWRmZmZmAkAPZGZmZmYCQA9kZmZmZgJAAs/MzMzMBEACz8zMzMwEQA==",
          "dtype": "f8"
         }
        },
        {
         "color": "blue",
         "i": {
          "bdata": "AQICBAQGBgEDAAQE",
          "dtype": "i1"
         },
         "j": {
          "bdata": "AAEDAgUEBwYABwEG",
          "dtype": "i1"
         },
         "k": {
          "bdata": "AwMFBQcHAAAFBQIB",
          "dtype": "i1"
         },
         "name": "IfcBeam",
         "opacity": 0.6,
         "type": "mesh3d",
         "x": {
          "bdata": "33BSLbK9+r+Gx1bpJqELQIbHVukmoQtA33BSLbK9+r+Gx1bpJqELQN9wUi2yvfq/hsdW6SahC0DfcFItsr36vw==",
          "dtype": "f8"
         },
         "y": {
          "bdata": "2a2RBCJC8b/ZrZEEIkLxv0eukQQiQvG/R66RBCJC8b9vXCMJRITqv29cIwlEhOq/hlsjCUSE6r+GWyMJRITqvw==",
          "dtype": "f8"
         },
         "z": {
          "bdata": "3szMzMzMBEDezMzMzMwEQHRmZmZmZgJAdGZmZmZmAkBVZmZmZmYCQFVmZmZmZgJAv8zMzMzMBEC/zMzMzMwEQA==",
          "dtype": "f8"
         }
        },
        {
         "color": "blue",
         "i": {
          "bdata": "AQICBAQGBgEDAAQE",
          "dtype": "i1"
         },
         "j": {
          "bdata": "AAEDAgUEBwYABwEG",
          "dtype": "i1"
         },
         "k": {
          "bdata": "AwMFBQcHAAAFBQIB",
          "dtype": "i1"
         },
         "name": "IfcBeam",
         "opacity": 0.6,
         "type": "mesh3d",
         "x": {
          "bdata": "tT0f+n6K+7+1PR/6for7v8I9H/p+iv+/wj0f+n6K/7/EPR/6for/v8Q9H/p+iv+/tD0f+n6K+7+0PR/6for7vw==",
          "dtype": "f8"
         },
         "y": {
          "bdata": "ocLQzLsrDkAc9byi3R3ovxz1vKLdHei/ocLQzLsrDkAc9byi3R3ov6HC0My7Kw5AHPW8ot0d6L+hwtDMuysOQA==",
          "dtype": "f8"
         },
         "z": {
          "bdata": "zszMzMzMBEDOzMzMzMwEQM7MzMzMzARAzszMzMzMBEBkZmZmZmYCQGRmZmZmZgJAZGZmZmZmAkBkZmZmZmYCQA==",
          "dtype": "f8"
         }
        },
        {
         "color": "blue",
         "i": {
          "bdata": "AQICBAQGBgEDAAQE",
          "dtype": "i1"
         },
         "j": {
          "bdata": "AAEDAgUEBwYABwEG",
          "dtype": "i1"
         },
         "k": {
          "bdata": "AwMFBQcHAAAFBQIB",
          "dtype": "i1"
         },
         "name": "IfcBeam",
         "opacity": 0.6,
         "type": "mesh3d",
         "x": {
          "bdata": "0D0f+n6K+7/QPR/6for7v909H/p+iv+/3T0f+n6K/7/fPR/6for/v989H/p+iv+/zz0f+n6K+7/PPR/6for7vw==",
          "dtype": "f8"
         },
         "y": {
          "bdata": "7+DEN1V18r8q4Z9wTqsKwCrhn3BOqwrA7+DEN1V18r8q4Z9wTqsKwO/gxDdVdfK/KuGfcE6rCsDv4MQ3VXXyvw==",
          "dtype": "f8"
         },
         "z": {
          "bdata": "zszMzMzMBEDOzMzMzMwEQM7MzMzMzARAzszMzMzMBEBkZmZmZmYCQGRmZmZmZgJAZGZmZmZmAkBkZmZmZmYCQA==",
          "dtype": "f8"
         }
        },
        {
         "color": "blue",
         "i": {
          "bdata": "AQICBAQGBgEDAAQE",
          "dtype": "i1"
         },
         "j": {
          "bdata": "AAEDAgUEBwYABwEG",
          "dtype": "i1"
         },
         "k": {
          "bdata": "AwMFBQcHAAAFBQIB",
          "dtype": "i1"
         },
         "name": "IfcBeam",
         "opacity": 0.6,
         "type": "mesh3d",
         "x": {
          "bdata": "xvqJHFrUDUDG+okcWtQNQLz6iRxa1AtAvPqJHFrUC0C8+okcWtQLQLz6iRxa1AtAxPqJHFrUDUDE+okcWtQNQA==",
          "dtype": "f8"
         },
         "y": {
          "bdata": "d8LQzLsrDkC09byi3R3ov7T1vKLdHei/d8LQzLsrDkC09byi3R3ov3fC0My7Kw5AtPW8ot0d6L93wtDMuysOQA==",
          "dtype": "f8"
         },
         "z": {
          "bdata": "zszMzMzMBEDOzMzMzMwEQM7MzMzMzARAzszMzMzMBEBkZmZmZmYCQGRmZmZmZgJAZGZmZmZmAkBkZmZmZmYCQA==",
          "dtype": "f8"
         }
        },
        {
         "color": "blue",
         "i": {
          "bdata": "AQICBAQGBgEDAAQE",
          "dtype": "i1"
         },
         "j": {
          "bdata": "AAEDAgUEBwYABwEG",
          "dtype": "i1"
         },
         "k": {
          "bdata": "AwMFBQcHAAAFBQIB",
          "dtype": "i1"
         },
         "name": "IfcBeam",
         "opacity": 0.6,
         "type": "mesh3d",
         "x": {
          "bdata": "tPqJHFrUDUC0+okcWtQNQKr6iRxa1AtAqvqJHFrUC0Cq+okcWtQLQKr6iRxa1AtAs/qJHFrUDUCz+okcWtQNQA==",
          "dtype": "f8"
         },
         "y": {
          "bdata": "PuHEN1V18r+DFNOjgd4KwIMU06OB3grAPuHEN1V18r+DFNOjgd4KwD7hxDdVdfK/gxTTo4HeCsA+4cQ3VXXyvw==",
          "dtype": "f8"
         },
         "z": {
          "bdata": "zszMzMzMBEDOzMzMzMwEQM7MzMzMzARAzszMzMzMBEBkZmZmZmYCQGRmZmZmZgJAZGZmZmZmAkBkZmZmZmYCQA==",
          "dtype": "f8"
         }
        },
        {
         "color": "blue",
         "i": {
          "bdata": "AQICBAQGBgEDAAQE",
          "dtype": "i1"
         },
         "j": {
          "bdata": "AAEDAgUEBwYABwEG",
          "dtype": "i1"
         },
         "k": {
          "bdata": "AwMFBQcHAAAFBQIB",
          "dtype": "i1"
         },
         "name": "IfcBeam",
         "opacity": 0.6,
         "type": "mesh3d",
         "x": {
          "bdata": "xvqJHFrUDUAa5YjtfNshQBrliO182yFAxvqJHFrUDUAa5YjtfNshQMb6iRxa1A1AGuWI7XzbIUDG+okcWtQNQA==",
          "dtype": "f8"
         },
         "y": {
          "bdata": "NI+dmYj4DkA0j52ZiPgOQP2OnZmI+A5A/Y6dmYj4DkCDx85MRHwQQIPHzkxEfBBAnsfOTER8EECex85MRHwQQA==",
          "dtype": "f8"
         },
         "z": {
          "bdata": "Is/MzMzMBEAiz8zMzMwEQC9kZmZmZgJAL2RmZmZmAkARZGZmZmYCQBFkZmZmZgJABM/MzMzMBEAEz8zMzMwEQA==",
          "dtype": "f8"
         }
        },
        {
         "color": "blue",
         "i": {
          "bdata": "AQICBAQGBgEDAAQE",
          "dtype": "i1"
         },
         "j": {
          "bdata": "AAEDAgUEBwYABwEG",
          "dtype": "i1"
         },
         "k": {
          "bdata": "AwMFBQcHAAAFBQIB",
          "dtype": "i1"
         },
         "name": "IfcBeam",
         "opacity": 0.6,
         "type": "mesh3d",
         "x": {
          "bdata": "q/qJHFrUDUAT5YjtfNshQBPliO182yFAq/qJHFrUDUAT5YjtfNshQKv6iRxa1A1AE+WI7XzbIUCr+okcWtQNQA==",
          "dtype": "f8"
         },
         "y": {
          "bdata": "La5sPRt4DcAtrmw9G3gNwGiubD0beA3AaK5sPRt4DcBfrmw9G3gLwF+ubD0beAvAHa5sPRt4C8Adrmw9G3gLwA==",
          "dtype": "f8"
         },
         "z": {
          "bdata": "JM/MzMzMBEAkz8zMzMwEQDFkZmZmZgJAMWRmZmZmAkAPZGZmZmYCQA9kZmZmZgJAAs/MzMzMBEACz8zMzMwEQA==",
          "dtype": "f8"
         }
        },
        {
         "color": "blue",
         "i": {
          "bdata": "AQICBAQGBgEDAAQE",
          "dtype": "i1"
         },
         "j": {
          "bdata": "AAEDAgUEBwYABwEG",
          "dtype": "i1"
         },
         "k": {
          "bdata": "AwMFBQcHAAAFBQIB",
          "dtype": "i1"
         },
         "name": "IfcBeam",
         "opacity": 0.6,
         "type": "mesh3d",
         "x": {
          "bdata": "6i29T40HDkBIGLwgsM4hQEgYvCCwziFA6i29T40HDkBIGLwgsM4hQOotvU+NBw5ASBi8ILDOIUDqLb1PjQcOQA==",
          "dtype": "f8"
         },
         "y": {
          "bdata": "LK6RBCJC8b8srpEEIkLxv5iukQQiQvG/mK6RBCJC8b8RXSMJRITqvxFdIwlEhOq/LFwjCUSE6r8sXCMJRITqvw==",
          "dtype": "f8"
         },
         "z": {
          "bdata": "3szMzMzMBEDezMzMzMwEQHRmZmZmZgJAdGZmZmZmAkBVZmZmZmYCQFVmZmZmZgJAv8zMzMzMBEC/zMzMzMwEQA==",
          "dtype": "f8"
         }
        },
        {
         "color": "blue",
         "i": {
          "bdata": "AQICBAQGBgEDAAQE",
          "dtype": "i1"
         },
         "j": {
          "bdata": "AAEDAgUEBwYABwEG",
          "dtype": "i1"
         },
         "k": {
          "bdata": "AwMFBQcHAAAFBQIB",
          "dtype": "i1"
         },
         "name": "IfcBeam",
         "opacity": 0.6,
         "type": "mesh3d",
         "x": {
          "bdata": "GeWI7XxbIkAZ5YjtfFsiQBjliO182yFAGOWI7XzbIUAY5YjtfNshQBjliO182yFAGeWI7XxbIkAZ5YjtfFsiQA==",
          "dtype": "f8"
         },
         "y": {
          "bdata": "UMLQzLsrDkBY9ryi3R3ov1j2vKLdHei/UMLQzLsrDkBY9ryi3R3ov1DC0My7Kw5AWPa8ot0d6L9QwtDMuysOQA==",
          "dtype": "f8"
         },
         "z": {
          "bdata": "zszMzMzMBEDOzMzMzMwEQM7MzMzMzARAzszMzMzMBEBkZmZmZmYCQGRmZmZmZgJAZGZmZmZmAkBkZmZmZmYCQA==",
          "dtype": "f8"
         }
        },
        {
         "color": "blue",
         "i": {
          "bdata": "AQICBAQGBgEDAAQE",
          "dtype": "i1"
         },
         "j": {
          "bdata": "AAEDAgUEBwYABwEG",
          "dtype": "i1"
         },
         "k": {
          "bdata": "AwMFBQcHAAAFBQIB",
          "dtype": "i1"
         },
         "name": "IfcBeam",
         "opacity": 0.6,
         "type": "mesh3d",
         "x": {
          "bdata": "E+WI7XxbIkAT5YjtfFsiQBPliO182yFAE+WI7XzbIUAS5YjtfNshQBLliO182yFAFOWI7XxbIkAU5YjtfFsiQA==",
          "dtype": "f8"
         },
         "y": {
          "bdata": "juHEN1V18r+rFNOjgd4KwKsU06OB3grAjuHEN1V18r+rFNOjgd4KwI7hxDdVdfK/qxTTo4HeCsCO4cQ3VXXyvw==",
          "dtype": "f8"
         },
         "z": {
          "bdata": "zszMzMzMBEDOzMzMzMwEQM7MzMzMzARAzszMzMzMBEBkZmZmZmYCQGRmZmZmZgJAZGZmZmZmAkBkZmZmZmYCQA==",
          "dtype": "f8"
         }
        },
        {
         "color": "blue",
         "i": {
          "bdata": "AgIIBQUFCQkODg4KCgcHBQUQDQgHCwsPAgMQEAEB",
          "dtype": "i1"
         },
         "j": {
          "bdata": "AAMGCAYKCgwNAgkOCQYKDAQMDBAPDg8QDQIPAAAP",
          "dtype": "i1"
         },
         "k": {
          "bdata": "AQAHBAgGBQ0CAQ0LDgoLCQwEEAQIDwcIEBAAAw8O",
          "dtype": "i1"
         },
         "name": "IfcBeam",
         "opacity": 0.6,
         "type": "mesh3d",
         "x": {
          "bdata": "XpJ3PzX6JkBeknc/NfomQHegA+BaayJAd6AD4FprIkAa5YjtfFsiQBrliO18WyJAgkvvU+PBLECCS+9T48EsQCWjuYansyRAGuWI7XxbIkCCS+9T48EsQIJL71PjwSxAGuWI7XxbIkB3oAPgWmsiQF6Sdz81+iZAXpJ3PzX6JkB3oAPgWmsiQA==",
          "dtype": "f8"
         },
         "y": {
          "bdata": "7wRt7EFjEECCx85MRHwQQIvHzkxEfBBA9wRt7EFjEEAMj52ZiPgOQAyPnZmI+A5A5o6dmYj4DkDmjp2ZiPgOQASPnZmI+A5Ai8fOTER8EEB3x85MRHwQQHfHzkxEfBBAi8fOTER8EECLx85MRHwQQILHzkxEfBBA7wRt7EFjEED3BG3sQWMQQA==",
          "dtype": "f8"
         },
         "z": {
          "bdata": "6mdmZmZmBkBmZmZmZmYGQGZmZmZmZgZA6mdmZmZmBkBZ0czMzMwEQGZmZmZmZgJAZmZmZmZmAkBZ0czMzMwEQFnRzMzMzARAZmZmZmZmAkBmZmZmZmYCQFnRzMzMzARAWdHMzMzMBEBZ0czMzMwEQFnRzMzMzARAWdHMzMzMBEBZ0czMzMwEQA==",
          "dtype": "f8"
         }
        },
        {
         "color": "blue",
         "i": {
          "bdata": "AQICBAQGBgEDAAQE",
          "dtype": "i1"
         },
         "j": {
          "bdata": "AAEDAgUEBwYABwEG",
          "dtype": "i1"
         },
         "k": {
          "bdata": "AwMFBQcHAAAFBQIB",
          "dtype": "i1"
         },
         "name": "IfcBeam",
         "opacity": 0.6,
         "type": "mesh3d",
         "x": {
          "bdata": "E+WI7XxbIkB7S+9T48EsQHtL71PjwSxAE+WI7XxbIkB7S+9T48EsQBPliO18WyJAe0vvU+PBLEAT5YjtfFsiQA==",
          "dtype": "f8"
         },
         "y": {
          "bdata": "VK5sPRt4DcBUrmw9G3gNwJGubD0beA3Aka5sPRt4DcCHrmw9G3gLwIeubD0beAvAR65sPRt4C8BHrmw9G3gLwA==",
          "dtype": "f8"
         },
         "z": {
          "bdata": "JM/MzMzMBEAkz8zMzMwEQDFkZmZmZgJAMWRmZmZmAkAPZGZmZmYCQA9kZmZmZgJAAs/MzMzMBEACz8zMzMwEQA==",
          "dtype": "f8"
         }
        },
        {
         "color": "blue",
         "i": {
          "bdata": "AQICBAQGBgEDAAQECQoKDAwODgkLCAwM",
          "dtype": "i1"
         },
         "j": {
          "bdata": "AAEDAgUEBwYABwEGCAkLCg0MDw4IDwkO",
          "dtype": "i1"
         },
         "k": {
          "bdata": "AwMFBQcHAAAFBQIBCwsNDQ8PCAgNDQoJ",
          "dtype": "i1"
         },
         "name": "IfcBeam",
         "opacity": 0.6,
         "type": "mesh3d",
         "x": {
          "bdata": "vFXG91M/LUB9S+9T40EtQH1L71PjQS1AvFXG91M/LUB9S+9T40EtQLxVxvdTPy1AfUvvU+NBLUC8Vcb3Uz8tQOCxVbpJaCJAILwsXrqlLEAgvCxeuqUsQOCxVbpJaCJAILwsXrqlLEDgsVW6SWgiQCC8LF66pSxA4LFVukloIkA=",
          "dtype": "f8"
         },
         "y": {
          "bdata": "FK+RBCJC8b8Ur5EEIkLxvxWvkQQiQvG/Fa+RBCJC8b8NXiMJRITqvw1eIwlEhOq/DF4jCUSE6r8MXiMJRITqv3qukQQiQvG/eq6RBCJC8b/nrpEEIkLxv+eukQQiQvG/r10jCUSE6r+vXSMJRITqv8hcIwlEhOq/yFwjCUSE6r8=",
          "dtype": "f8"
         },
         "z": {
          "bdata": "Z2ZmZmZmBkBnZmZmZmYGQGdmZmZmZgJAZ2ZmZmZmAkBnZmZmZmYCQGdmZmZmZgJAZ2ZmZmZmBkBnZmZmZmYGQN7MzMzMzARA3szMzMzMBEB0ZmZmZmYCQHRmZmZmZgJAVWZmZmZmAkBVZmZmZmYCQL/MzMzMzARAv8zMzMzMBEA=",
          "dtype": "f8"
         }
        },
        {
         "color": "blue",
         "i": {
          "bdata": "AwIHBwsFBQgCAgwMAgIKCgYGDQ0AAAQM",
          "dtype": "i1"
         },
         "j": {
          "bdata": "AAMEBQkLCAkJAQgFDAgJAQsNAwsNAwcE",
          "dtype": "i1"
         },
         "k": {
          "bdata": "AQEFBgoGCwsICQUEAwwBAA0HDAoKDQ0N",
          "dtype": "i1"
         },
         "name": "IfcBeam",
         "opacity": 0.6,
         "type": "mesh3d",
         "x": {
          "bdata": "u1XG91M/LUB8S+9T40EtQIBL71PjQS1Ahl3K91M/LUB+S+9T48EsQH5L71PjwSxAekvvU+PBLEB6S+9T48EsQIBL71PjQS1AfEvvU+NBLUC7Vcb3Uz8tQLtVxvdTPy1Ahl3K91M/LUC7Vcb3Uz8tQA==",
          "dtype": "f8"
         },
         "y": {
          "bdata": "aV0jCUSE6r9rXSMJRITqvyXC0My7Kw5AJcLQzLsrDkAlwtDMuysOQCXC0My7Kw5A8/a8ot0d6L/z9ryi3R3ovyXC0My7Kw5AaV0jCUSE6r9pXSMJRITqv/L2vKLdHei/JcLQzLsrDkDy9ryi3R3ovw==",
          "dtype": "f8"
         },
         "z": {
          "bdata": "Z2ZmZmZmBkBnZmZmZmYGQGdmZmZmZgZAZ2ZmZmZmBkDQzMzMzMwEQGZmZmZmZgJAZmZmZmZmAkDQzMzMzMwEQGZmZmZmZgJAZmZmZmZmAkBmZmZmZmYCQGZmZmZmZgJA0MzMzMzMBEDQzMzMzMwEQA==",
          "dtype": "f8"
         }
        },
        {
         "color": "blue",
         "i": {
          "bdata": "AgIHBwoLBQgCAgwGCQkCAg0NDQMAAA0N",
          "dtype": "i1"
         },
         "j": {
          "bdata": "AAMEBQkICgkBCQEMDAEICwoFCwsNAwcE",
          "dtype": "i1"
         },
         "k": {
          "bdata": "AQAFBgYKBgoJCAAHBgwLAwUECg0MDQwH",
          "dtype": "i1"
         },
         "name": "IfcBeam",
         "opacity": 0.6,
         "type": "mesh3d",
         "x": {
          "bdata": "f13K91M/LUB6S+9T40EtQHxL71PjQS1Au1XG91M/LUB6S+9T48EsQHpL71PjwSxAeEvvU+PBLEB4S+9T48EsQHxL71PjQS1AekvvU+NBLUC7Vcb3Uz8tQLtVxvdTPy1Af13K91M/LUC7Vcb3Uz8tQA==",
          "dtype": "f8"
         },
         "y": {
          "bdata": "0hTTo4HeCsDSFNOjgd4KwMSukQQiQvG/xK6RBCJC8b/g4cQ3VXXyv+DhxDdVdfK/0hTTo4HeCsDSFNOjgd4KwMSukQQiQvG/0hTTo4HeCsDg4cQ3VXXyv8SukQQiQvG/0hTTo4HeCsDg4cQ3VXXyvw==",
          "dtype": "f8"
         },
         "z": {
          "bdata": "Z2ZmZmZmBkBnZmZmZmYGQGdmZmZmZgZAZ2ZmZmZmBkDQzMzMzMwEQGZmZmZmZgJAZmZmZmZmAkDQzMzMzMwEQGZmZmZmZgJAZmZmZmZmAkBmZmZmZmYCQGZmZmZmZgJA0MzMzMzMBEDQzMzMzMwEQA==",
          "dtype": "f8"
         }
        },
        {
         "color": "blue",
         "i": {
          "bdata": "AQICBAQGBgEDAAQE",
          "dtype": "i1"
         },
         "j": {
          "bdata": "AAEDAgUEBwYABwEG",
          "dtype": "i1"
         },
         "k": {
          "bdata": "AwMFBQcHAAAFBQIB",
          "dtype": "i1"
         },
         "name": "IfcBeam",
         "opacity": 0.6,
         "type": "mesh3d",
         "x": {
          "bdata": "rD0f+n6K+7/K+okcWtQLQMr6iRxa1AtArD0f+n6K+7/K+okcWtQLQKw9H/p+ivu/yvqJHFrUC0CsPR/6for7vw==",
          "dtype": "f8"
         },
         "y": {
          "bdata": "oMLQzLsrD0CgwtDMuysPQFfC0My7Kw9AV8LQzLsrD0D9LTWzqmIQQP0tNbOqYhBADy41s6piEEAPLjWzqmIQQA==",
          "dtype": "f8"
         },
         "z": {
          "bdata": "AAAAAABAAj0AAAAAAEACPXSYmZmZmcm/dJiZmZmZyb++mpmZmZnJv76amZmZmcm/AAAAAABQAr0AAAAAAFACvQ==",
          "dtype": "f8"
         }
        },
        {
         "color": "blue",
         "i": {
          "bdata": "AQICBAQGBgEDAAQE",
          "dtype": "i1"
         },
         "j": {
          "bdata": "AAEDAgUEBwYABwEG",
          "dtype": "i1"
         },
         "k": {
          "bdata": "AwMFBQcHAAAFBQIB",
          "dtype": "i1"
         },
         "name": "IfcBeam",
         "opacity": 0.6,
         "type": "mesh3d",
         "x": {
          "bdata": "3T0f+n6K+7+s+okcWtQLQKz6iRxa1AtA3T0f+n6K+7+s+okcWtQLQN09H/p+ivu/rPqJHFrUC0DdPR/6for7vw==",
          "dtype": "f8"
         },
         "y": {
          "bdata": "uXo5CuhEDcC5ejkK6EQNwAx7OQroRA3ADHs5CuhEDcBq4Z9wTqsLwGrhn3BOqwvAQeGfcE6rC8BB4Z9wTqsLwA==",
          "dtype": "f8"
         },
         "z": {
          "bdata": "AAAAAACwBD0AAAAAALAEPU2YmZmZmcm/TZiZmZmZyb/kmpmZmZnJv+SamZmZmcm/AAAAAADABL0AAAAAAMAEvQ==",
          "dtype": "f8"
         }
        },
        {
         "color": "blue",
         "i": {
          "bdata": "AQICBAQGBgEDAAQE",
          "dtype": "i1"
         },
         "j": {
          "bdata": "AAEDAgUEBwYABwEG",
          "dtype": "i1"
         },
         "k": {
          "bdata": "AwMFBQcHAAAFBQIB",
          "dtype": "i1"
         },
         "name": "IfcBeam",
         "opacity": 0.6,
         "type": "mesh3d",
         "x": {
          "bdata": "33BSLbK9+r+Cx1bpJqELQILHVukmoQtA33BSLbK9+r+Cx1bpJqELQN9wUi2yvfq/gsdW6SahC0DfcFItsr36vw==",
          "dtype": "f8"
         },
         "y": {
          "bdata": "S0crnrvb8L9LRyueu9vwv+BHK5672/C/4Ecrnrvb8L87KfDVEFHrvzsp8NUQUeu/pijw1RBR67+mKPDVEFHrvw==",
          "dtype": "f8"
         },
         "z": {
          "bdata": "AAAAAACQAj0AAAAAAJACPXCYmZmZmcm/cJiZmZmZyb/CmpmZmZnJv8KamZmZmcm/AAAAAACgAr0AAAAAAKACvQ==",
          "dtype": "f8"
         }
        },
        {
         "color": "blue",
         "i": {
          "bdata": "AQICBAQGBgEDAAQE",
          "dtype": "i1"
         },
         "j": {
          "bdata": "AAEDAgUEBwYABwEG",
          "dtype": "i1"
         },
         "k": {
          "bdata": "AwMFBQcHAAAFBQIB",
          "dtype": "i1"
         },
         "name": "IfcBeam",
         "opacity": 0.6,
         "type": "mesh3d",
         "x": {
          "bdata": "G6SFYOXw+78bpIVg5fD7v1zXuJMYJP+/XNe4kxgk/79d17iTGCT/v13XuJMYJP+/GqSFYOXw+78apIVg5fD7vw==",
          "dtype": "f8"
         },
         "y": {
          "bdata": "ocLQzLsrDkAc9byi3R3ovxz1vKLdHei/ocLQzLsrDkAc9byi3R3ov6HC0My7Kw5AHPW8ot0d6L+hwtDMuysOQA==",
          "dtype": "f8"
         },
         "z": {
          "bdata": "AAAAAAAAAAAAAAAAAAAAAAAAAAAAAHC8AAAAAAAAcLyZmZmZmZnJv5mZmZmZmcm/mZmZmZmZyb+ZmZmZmZnJvw==",
          "dtype": "f8"
         }
        },
        {
         "color": "blue",
         "i": {
          "bdata": "AQICBAQGBgEDAAQE",
          "dtype": "i1"
         },
         "j": {
          "bdata": "AAEDAgUEBwYABwEG",
          "dtype": "i1"
         },
         "k": {
          "bdata": "AwMFBQcHAAAFBQIB",
          "dtype": "i1"
         },
         "name": "IfcBeam",
         "opacity": 0.6,
         "type": "mesh3d",
         "x": {
          "bdata": "NqSFYOXw+782pIVg5fD7v3fXuJMYJP+/d9e4kxgk/79417iTGCT/v3jXuJMYJP+/NaSFYOXw+781pIVg5fD7vw==",
          "dtype": "f8"
         },
         "y": {
          "bdata": "8eDEN1V18r8o4Z9wTqsKwCjhn3BOqwrA8eDEN1V18r8o4Z9wTqsKwPHgxDdVdfK/KOGfcE6rCsDx4MQ3VXXyvw==",
          "dtype": "f8"
         },
         "z": {
          "bdata": "AAAAAAAAAAAAAAAAAAAAAAAAAAAAAHC8AAAAAAAAcLyZmZmZmZnJv5mZmZmZmcm/mZmZmZmZyb+ZmZmZmZnJvw==",
          "dtype": "f8"
         }
        },
        {
         "color": "blue",
         "i": {
          "bdata": "AQICBAQGBgEDAAQE",
          "dtype": "i1"
         },
         "j": {
          "bdata": "AAEDAgUEBwYABwEG",
          "dtype": "i1"
         },
         "k": {
          "bdata": "AwMFBQcHAAAFBQIB",
          "dtype": "i1"
         },
         "name": "IfcBeam",
         "opacity": 0.6,
         "type": "mesh3d",
         "x": {
          "bdata": "ksdW6SahDUCSx1bpJqENQPAtvU+NBwxA8C29T40HDEDwLb1PjQcMQPAtvU+NBwxAkcdW6SahDUCRx1bpJqENQA==",
          "dtype": "f8"
         },
         "y": {
          "bdata": "d8LQzLsrDkC09byi3R3ov7T1vKLdHei/d8LQzLsrDkC09byi3R3ov3fC0My7Kw5AtPW8ot0d6L93wtDMuysOQA==",
          "dtype": "f8"
         },
         "z": {
          "bdata": "AAAAAAAAAAAAAAAAAAAAAAAAAAAAAHC8AAAAAAAAcLyZmZmZmZnJv5mZmZmZmcm/mZmZmZmZyb+ZmZmZmZnJvw==",
          "dtype": "f8"
         }
        },
        {
         "color": "blue",
         "i": {
          "bdata": "AQICBAQGBgEDAAQE",
          "dtype": "i1"
         },
         "j": {
          "bdata": "AAEDAgUEBwYABwEG",
          "dtype": "i1"
         },
         "k": {
          "bdata": "AwMFBQcHAAAFBQIB",
          "dtype": "i1"
         },
         "name": "IfcBeam",
         "opacity": 0.6,
         "type": "mesh3d",
         "x": {
          "bdata": "gMdW6SahDUCAx1bpJqENQN4tvU+NBwxA3i29T40HDEDeLb1PjQcMQN4tvU+NBwxAf8dW6SahDUB/x1bpJqENQA==",
          "dtype": "f8"
         },
         "y": {
          "bdata": "P+HEN1V18r+CFNOjgd4KwIIU06OB3grAP+HEN1V18r+CFNOjgd4KwD/hxDdVdfK/ghTTo4HeCsA/4cQ3VXXyvw==",
          "dtype": "f8"
         },
         "z": {
          "bdata": "AAAAAAAAAAAAAAAAAAAAAAAAAAAAAHC8AAAAAAAAcLyZmZmZmZnJv5mZmZmZmcm/mZmZmZmZyb+ZmZmZmZnJvw==",
          "dtype": "f8"
         }
        },
        {
         "color": "blue",
         "i": {
          "bdata": "AQICBAQGBgEDAAQE",
          "dtype": "i1"
         },
         "j": {
          "bdata": "AAEDAgUEBwYABwEG",
          "dtype": "i1"
         },
         "k": {
          "bdata": "AwMFBQcHAAAFBQIB",
          "dtype": "i1"
         },
         "name": "IfcBeam",
         "opacity": 0.6,
         "type": "mesh3d",
         "x": {
          "bdata": "yPqJHFrUDUAa5YjtfNshQBrliO182yFAyPqJHFrUDUAa5YjtfNshQMj6iRxa1A1AGuWI7XzbIUDI+okcWtQNQA==",
          "dtype": "f8"
         },
         "y": {
          "bdata": "eMLQzLsrD0B4wtDMuysPQC/C0My7Kw9AL8LQzLsrD0DpLTWzqmIQQOktNbOqYhBA+y01s6piEED7LTWzqmIQQA==",
          "dtype": "f8"
         },
         "z": {
          "bdata": "AAAAAABAAj0AAAAAAEACPXSYmZmZmcm/dJiZmZmZyb++mpmZmZnJv76amZmZmcm/AAAAAABQAr0AAAAAAFACvQ==",
          "dtype": "f8"
         }
        },
        {
         "color": "blue",
         "i": {
          "bdata": "AQICBAQGBgEDAAQE",
          "dtype": "i1"
         },
         "j": {
          "bdata": "AAEDAgUEBwYABwEG",
          "dtype": "i1"
         },
         "k": {
          "bdata": "AwMFBQcHAAAFBQIB",
          "dtype": "i1"
         },
         "name": "IfcBeam",
         "opacity": 0.6,
         "type": "mesh3d",
         "x": {
          "bdata": "rPqJHFrUDUAT5YjtfNshQBPliO182yFArPqJHFrUDUAT5YjtfNshQKz6iRxa1A1AE+WI7XzbIUCs+okcWtQNQA==",
          "dtype": "f8"
         },
         "y": {
          "bdata": "4no5CuhEDcDiejkK6EQNwDR7OQroRA3ANHs5CuhEDcCS4Z9wTqsLwJLhn3BOqwvAaeGfcE6rC8Bp4Z9wTqsLwA==",
          "dtype": "f8"
         },
         "z": {
          "bdata": "AAAAAACwBD0AAAAAALAEPU2YmZmZmcm/TZiZmZmZyb/kmpmZmZnJv+SamZmZmcm/AAAAAADABL0AAAAAAMAEvQ==",
          "dtype": "f8"
         }
        },
        {
         "color": "blue",
         "i": {
          "bdata": "AQICBAQGBgEDAAQE",
          "dtype": "i1"
         },
         "j": {
          "bdata": "AAEDAgUEBwYABwEG",
          "dtype": "i1"
         },
         "k": {
          "bdata": "AwMFBQcHAAAFBQIB",
          "dtype": "i1"
         },
         "name": "IfcBeam",
         "opacity": 0.6,
         "type": "mesh3d",
         "x": {
          "bdata": "6i29T40HDkBIGLwgsM4hQEgYvCCwziFA6i29T40HDkBIGLwgsM4hQOotvU+NBw5ASBi8ILDOIUDqLb1PjQcOQA==",
          "dtype": "f8"
         },
         "y": {
          "bdata": "m0crnrvb8L+bRyueu9vwvzFIK5672/C/MUgrnrvb8L/dKfDVEFHrv90p8NUQUeu/SCnw1RBR679IKfDVEFHrvw==",
          "dtype": "f8"
         },
         "z": {
          "bdata": "AAAAAAC4Aj0AAAAAALgCPW2YmZmZmcm/bZiZmZmZyb/FmpmZmZnJv8WamZmZmcm/AAAAAADIAr0AAAAAAMgCvQ==",
          "dtype": "f8"
         }
        },
        {
         "color": "blue",
         "i": {
          "bdata": "AQICBAQGBgEDAAQE",
          "dtype": "i1"
         },
         "j": {
          "bdata": "AAEDAgUEBwYABwEG",
          "dtype": "i1"
         },
         "k": {
          "bdata": "AwMFBQcHAAAFBQIB",
          "dtype": "i1"
         },
         "name": "IfcBeam",
         "opacity": 0.6,
         "type": "mesh3d",
         "x": {
          "bdata": "TRi8ILBOIkBNGLwgsE4iQOWxVbpJ6CFA5bFVuknoIUDlsVW6SeghQOWxVbpJ6CFATRi8ILBOIkBNGLwgsE4iQA==",
          "dtype": "f8"
         },
         "y": {
          "bdata": "TsLQzLsrDkBY9ryi3R3ov1j2vKLdHei/TsLQzLsrDkBY9ryi3R3ov07C0My7Kw5AWPa8ot0d6L9OwtDMuysOQA==",
          "dtype": "f8"
         },
         "z": {
          "bdata": "AAAAAAAAAAAAAAAAAAAAAAAAAAAAAHC8AAAAAAAAcLyZmZmZmZnJv5mZmZmZmcm/mZmZmZmZyb+ZmZmZmZnJvw==",
          "dtype": "f8"
         }
        },
        {
         "color": "blue",
         "i": {
          "bdata": "AQICBAQGBgEDAAQE",
          "dtype": "i1"
         },
         "j": {
          "bdata": "AAEDAgUEBwYABwEG",
          "dtype": "i1"
         },
         "k": {
          "bdata": "AwMFBQcHAAAFBQIB",
          "dtype": "i1"
         },
         "name": "IfcBeam",
         "opacity": 0.6,
         "type": "mesh3d",
         "x": {
          "bdata": "Rxi8ILBOIkBHGLwgsE4iQOCxVbpJ6CFA4LFVuknoIUDfsVW6SeghQN+xVbpJ6CFASBi8ILBOIkBIGLwgsE4iQA==",
          "dtype": "f8"
         },
         "y": {
          "bdata": "juHEN1V18r+qFNOjgd4KwKoU06OB3grAjuHEN1V18r+qFNOjgd4KwI7hxDdVdfK/qhTTo4HeCsCO4cQ3VXXyvw==",
          "dtype": "f8"
         },
         "z": {
          "bdata": "AAAAAAAAAAAAAAAAAAAAAAAAAAAAAHC8AAAAAAAAcLyZmZmZmZnJv5mZmZmZmcm/mZmZmZmZyb+ZmZmZmZnJvw==",
          "dtype": "f8"
         }
        },
        {
         "color": "blue",
         "i": {
          "bdata": "AQICBAQGBgEDAAQE",
          "dtype": "i1"
         },
         "j": {
          "bdata": "AAEDAgUEBwYABwEG",
          "dtype": "i1"
         },
         "k": {
          "bdata": "AwMFBQcHAAAFBQIB",
          "dtype": "i1"
         },
         "name": "IfcBeam",
         "opacity": 0.6,
         "type": "mesh3d",
         "x": {
          "bdata": "GuWI7XxbIkCCS+9T48EsQIJL71PjwSxAGuWI7XxbIkCCS+9T48EsQBrliO18WyJAgkvvU+PBLEAa5YjtfFsiQA==",
          "dtype": "f8"
         },
         "y": {
          "bdata": "UcLQzLsrD0BRwtDMuysPQAfC0My7Kw9AB8LQzLsrD0DULTWzqmIQQNQtNbOqYhBA5i01s6piEEDmLTWzqmIQQA==",
          "dtype": "f8"
         },
         "z": {
          "bdata": "AAAAAABAAj0AAAAAAEACPXSYmZmZmcm/dJiZmZmZyb++mpmZmZnJv76amZmZmcm/AAAAAABQAr0AAAAAAFACvQ==",
          "dtype": "f8"
         }
        },
        {
         "color": "blue",
         "i": {
          "bdata": "AQICBAQGBgEDAAQE",
          "dtype": "i1"
         },
         "j": {
          "bdata": "AAEDAgUEBwYABwEG",
          "dtype": "i1"
         },
         "k": {
          "bdata": "AwMFBQcHAAAFBQIB",
          "dtype": "i1"
         },
         "name": "IfcBeam",
         "opacity": 0.6,
         "type": "mesh3d",
         "x": {
          "bdata": "E+WI7XxbIkB7S+9T48EsQHtL71PjwSxAE+WI7XxbIkB7S+9T48EsQBPliO18WyJAe0vvU+PBLEAT5YjtfFsiQA==",
          "dtype": "f8"
         },
         "y": {
          "bdata": "C3s5CuhEDcALezkK6EQNwF17OQroRA3AXXs5CuhEDcC74Z9wTqsLwLvhn3BOqwvAkuGfcE6rC8CS4Z9wTqsLwA==",
          "dtype": "f8"
         },
         "z": {
          "bdata": "AAAAAACwBD0AAAAAALAEPU2YmZmZmcm/TZiZmZmZyb/kmpmZmZnJv+SamZmZmcm/AAAAAADABL0AAAAAAMAEvQ==",
          "dtype": "f8"
         }
        },
        {
         "color": "blue",
         "i": {
          "bdata": "AQICBAQGBgEDAAQE",
          "dtype": "i1"
         },
         "j": {
          "bdata": "AAEDAgUEBwYABwEG",
          "dtype": "i1"
         },
         "k": {
          "bdata": "AwMFBQcHAAAFBQIB",
          "dtype": "i1"
         },
         "name": "IfcBeam",
         "opacity": 0.6,
         "type": "mesh3d",
         "x": {
          "bdata": "4bFVukloIkAhvCxeuqUsQCG8LF66pSxA4bFVukloIkAhvCxeuqUsQOGxVbpJaCJAIbwsXrqlLEDhsVW6SWgiQA==",
          "dtype": "f8"
         },
         "y": {
          "bdata": "60crnrvb8L/rRyueu9vwv4BIK5672/C/gEgrnrvb8L98KvDVEFHrv3wq8NUQUeu/6Cnw1RBR67/oKfDVEFHrvw==",
          "dtype": "f8"
         },
         "z": {
          "bdata": "AAAAAACQAj0AAAAAAJACPXCYmZmZmcm/cJiZmZmZyb/CmpmZmZnJv8KamZmZmcm/AAAAAACgAr0AAAAAAKACvQ==",
          "dtype": "f8"
         }
        },
        {
         "color": "blue",
         "i": {
          "bdata": "AQICBAQGBgEDAAQE",
          "dtype": "i1"
         },
         "j": {
          "bdata": "AAEDAgUEBwYABwEG",
          "dtype": "i1"
         },
         "k": {
          "bdata": "AwMFBQcHAAAFBQIB",
          "dtype": "i1"
         },
         "name": "IfcBeam",
         "opacity": 0.6,
         "type": "mesh3d",
         "x": {
          "bdata": "s34ihxY1LUCzfiKHFjUtQEsYvCCwzixASxi8ILDOLEBKGLwgsM4sQEoYvCCwzixAtH4ihxY1LUC0fiKHFjUtQA==",
          "dtype": "f8"
         },
         "y": {
          "bdata": "JcLQzLsrDkD09ryi3R3ov/T2vKLdHei/JcLQzLsrDkD09ryi3R3ovyXC0My7Kw5A9Pa8ot0d6L8lwtDMuysOQA==",
          "dtype": "f8"
         },
         "z": {
          "bdata": "AAAAAAAAAAAAAAAAAAAAAAAAAAAAAHC8AAAAAAAAcLyZmZmZmZnJv5mZmZmZmcm/mZmZmZmZyb+ZmZmZmZnJvw==",
          "dtype": "f8"
         }
        },
        {
         "color": "blue",
         "i": {
          "bdata": "AQICBAQGBgEDAAQE",
          "dtype": "i1"
         },
         "j": {
          "bdata": "AAEDAgUEBwYABwEG",
          "dtype": "i1"
         },
         "k": {
          "bdata": "AwMFBQcHAAAFBQIB",
          "dtype": "i1"
         },
         "name": "IfcBeam",
         "opacity": 0.6,
         "type": "mesh3d",
         "x": {
          "bdata": "r34ihxY1LUCvfiKHFjUtQEYYvCCwzixARhi8ILDOLEBGGLwgsM4sQEYYvCCwzixAr34ihxY1LUCvfiKHFjUtQA==",
          "dtype": "f8"
         },
         "y": {
          "bdata": "3uHEN1V18r/TFNOjgd4KwNMU06OB3grA3uHEN1V18r/TFNOjgd4KwN7hxDdVdfK/0xTTo4HeCsDe4cQ3VXXyvw==",
          "dtype": "f8"
         },
         "z": {
          "bdata": "AAAAAAAAAAAAAAAAAAAAAAAAAAAAAHC8AAAAAAAAcLyZmZmZmZnJv5mZmZmZmcm/mZmZmZmZyb+ZmZmZmZnJvw==",
          "dtype": "f8"
         }
        },
        {
         "color": "blue",
         "i": {
          "bdata": "AQICBAQGBgEDAAQE",
          "dtype": "i1"
         },
         "j": {
          "bdata": "AAEDAgUEBwYABwEG",
          "dtype": "i1"
         },
         "k": {
          "bdata": "AwMFBQcHAAAFBQIB",
          "dtype": "i1"
         },
         "name": "IfcBeam",
         "opacity": 0.6,
         "type": "mesh3d",
         "x": {
          "bdata": "sT0f+n6K+7/K+okcWtQLQMr6iRxa1AtAsT0f+n6K+7/K+okcWtQLQLE9H/p+ivu/yvqJHFrUC0CxPR/6for7vw==",
          "dtype": "f8"
         },
         "y": {
          "bdata": "XI+dmYj4DkBcj52ZiPgOQCSPnZmI+A5AJI+dmYj4DkCXx85MRHwQQJfHzkxEfBBAssfOTER8EECyx85MRHwQQA==",
          "dtype": "f8"
         },
         "z": {
          "bdata": "xJqZmZmZFUDEmpmZmZkVQEplZmZmZhRASmVmZmZmFEA7ZWZmZmYUQDtlZmZmZhRAtZqZmZmZFUC1mpmZmZkVQA==",
          "dtype": "f8"
         }
        },
        {
         "color": "blue",
         "i": {
          "bdata": "AQICBAQGBgEDAAQE",
          "dtype": "i1"
         },
         "j": {
          "bdata": "AAEDAgUEBwYABwEG",
          "dtype": "i1"
         },
         "k": {
          "bdata": "AwMFBQcHAAAFBQIB",
          "dtype": "i1"
         },
         "name": "IfcBeam",
         "opacity": 0.6,
         "type": "mesh3d",
         "x": {
          "bdata": "3T0f+n6K+7+s+okcWtQLQKz6iRxa1AtA3T0f+n6K+7+s+okcWtQLQN09H/p+ivu/rPqJHFrUC0DdPR/6for7vw==",
          "dtype": "f8"
         },
         "y": {
          "bdata": "Bq5sPRt4DcAGrmw9G3gNwECubD0beA3AQK5sPRt4DcA3rmw9G3gLwDeubD0beAvA9q1sPRt4C8D2rWw9G3gLwA==",
          "dtype": "f8"
         },
         "z": {
          "bdata": "xZqZmZmZFUDFmpmZmZkVQEtlZmZmZhRAS2VmZmZmFEA6ZWZmZmYUQDplZmZmZhRAtJqZmZmZFUC0mpmZmZkVQA==",
          "dtype": "f8"
         }
        },
        {
         "color": "blue",
         "i": {
          "bdata": "AQICBAQGBgEDAAQE",
          "dtype": "i1"
         },
         "j": {
          "bdata": "AAEDAgUEBwYABwEG",
          "dtype": "i1"
         },
         "k": {
          "bdata": "AwMFBQcHAAAFBQIB",
          "dtype": "i1"
         },
         "name": "IfcBeam",
         "opacity": 0.6,
         "type": "mesh3d",
         "x": {
          "bdata": "33BSLbK9+r+Gx1bpJqELQIbHVukmoQtA33BSLbK9+r+Gx1bpJqELQN9wUi2yvfq/hsdW6SahC0DfcFItsr36vw==",
          "dtype": "f8"
         },
         "y": {
          "bdata": "2a2RBCJC8b/ZrZEEIkLxv0eukQQiQvG/R66RBCJC8b9vXCMJRITqv29cIwlEhOq/hlsjCUSE6r+GWyMJRITqvw==",
          "dtype": "f8"
         },
         "z": {
          "bdata": "opmZmZmZFUCimZmZmZkVQGxmZmZmZhRAbGZmZmZmFEBdZmZmZmYUQF1mZmZmZhRAkpmZmZmZFUCSmZmZmZkVQA==",
          "dtype": "f8"
         }
        },
        {
         "color": "blue",
         "i": {
          "bdata": "AQICBAQGBgEDAAQE",
          "dtype": "i1"
         },
         "j": {
          "bdata": "AAEDAgUEBwYABwEG",
          "dtype": "i1"
         },
         "k": {
          "bdata": "AwMFBQcHAAAFBQIB",
          "dtype": "i1"
         },
         "name": "IfcBeam",
         "opacity": 0.6,
         "type": "mesh3d",
         "x": {
          "bdata": "tT0f+n6K+7+1PR/6for7v8I9H/p+iv+/wj0f+n6K/7/EPR/6for/v8Q9H/p+iv+/tD0f+n6K+7+0PR/6for7vw==",
          "dtype": "f8"
         },
         "y": {
          "bdata": "ocLQzLsrDkAc9byi3R3ovxz1vKLdHei/ocLQzLsrDkAc9byi3R3ov6HC0My7Kw5AHPW8ot0d6L+hwtDMuysOQA==",
          "dtype": "f8"
         },
         "z": {
          "bdata": "m5mZmZmZFUCbmZmZmZkVQJuZmZmZmRVAm5mZmZmZFUBmZmZmZmYUQGZmZmZmZhRAZmZmZmZmFEBmZmZmZmYUQA==",
          "dtype": "f8"
         }
        },
        {
         "color": "blue",
         "i": {
          "bdata": "AQICBAQGBgEDAwYE",
          "dtype": "i1"
         },
         "j": {
          "bdata": "AAEDAgUEBwYABwEG",
          "dtype": "i1"
         },
         "k": {
          "bdata": "AwMFBQcHAAAHBQIC",
          "dtype": "i1"
         },
         "name": "IfcBeam",
         "opacity": 0.6,
         "type": "mesh3d",
         "x": {
          "bdata": "0D0f+n6K+7/QPR/6for7v909H/p+iv+/3T0f+n6K/7/fPR/6for/v989H/p+iv+/zz0f+n6K+7/PPR/6for7vw==",
          "dtype": "f8"
         },
         "y": {
          "bdata": "7+DEN1V18r8q4Z9wTqsKwCrhn3BOqwrA7+DEN1V18r8q4Z9wTqsKwO/gxDdVdfK/KuGfcE6rCsDv4MQ3VXXyvw==",
          "dtype": "f8"
         },
         "z": {
          "bdata": "mpmZmZmZFUCamZmZmZkVQJqZmZmZmRVAmpmZmZmZFUBlZmZmZmYUQGVmZmZmZhRAZmZmZmZmFEBmZmZmZmYUQA==",
          "dtype": "f8"
         }
        },
        {
         "color": "blue",
         "i": {
          "bdata": "AQICBAQGBgEDAAQE",
          "dtype": "i1"
         },
         "j": {
          "bdata": "AAEDAgUEBwYABwEG",
          "dtype": "i1"
         },
         "k": {
          "bdata": "AwMFBQcHAAAFBQIB",
          "dtype": "i1"
         },
         "name": "IfcBeam",
         "opacity": 0.6,
         "type": "mesh3d",
         "x": {
          "bdata": "xvqJHFrUDUDG+okcWtQNQLz6iRxa1AtAvPqJHFrUC0C8+okcWtQLQLz6iRxa1AtAxPqJHFrUDUDE+okcWtQNQA==",
          "dtype": "f8"
         },
         "y": {
          "bdata": "d8LQzLsrDkC09byi3R3ov7T1vKLdHei/d8LQzLsrDkC09byi3R3ov3fC0My7Kw5AtPW8ot0d6L93wtDMuysOQA==",
          "dtype": "f8"
         },
         "z": {
          "bdata": "m5mZmZmZFUCbmZmZmZkVQJuZmZmZmRVAm5mZmZmZFUBmZmZmZmYUQGZmZmZmZhRAZmZmZmZmFEBmZmZmZmYUQA==",
          "dtype": "f8"
         }
        },
        {
         "color": "blue",
         "i": {
          "bdata": "AQICBAQGBgEDAAQE",
          "dtype": "i1"
         },
         "j": {
          "bdata": "AAEDAgUEBwYABwEG",
          "dtype": "i1"
         },
         "k": {
          "bdata": "AwMFBQcHAAAFBQIB",
          "dtype": "i1"
         },
         "name": "IfcBeam",
         "opacity": 0.6,
         "type": "mesh3d",
         "x": {
          "bdata": "tPqJHFrUDUC0+okcWtQNQKr6iRxa1AtAqvqJHFrUC0Cq+okcWtQLQKr6iRxa1AtAs/qJHFrUDUCz+okcWtQNQA==",
          "dtype": "f8"
         },
         "y": {
          "bdata": "PuHEN1V18r+DFNOjgd4KwIMU06OB3grAPuHEN1V18r+DFNOjgd4KwD7hxDdVdfK/gxTTo4HeCsA+4cQ3VXXyvw==",
          "dtype": "f8"
         },
         "z": {
          "bdata": "m5mZmZmZFUCbmZmZmZkVQJuZmZmZmRVAm5mZmZmZFUBmZmZmZmYUQGZmZmZmZhRAZmZmZmZmFEBmZmZmZmYUQA==",
          "dtype": "f8"
         }
        },
        {
         "color": "blue",
         "i": {
          "bdata": "AQICBAQGBgEDAAQE",
          "dtype": "i1"
         },
         "j": {
          "bdata": "AAEDAgUEBwYABwEG",
          "dtype": "i1"
         },
         "k": {
          "bdata": "AwMFBQcHAAAFBQIB",
          "dtype": "i1"
         },
         "name": "IfcBeam",
         "opacity": 0.6,
         "type": "mesh3d",
         "x": {
          "bdata": "xvqJHFrUDUAa5YjtfNshQBrliO182yFAxvqJHFrUDUAa5YjtfNshQMb6iRxa1A1AGuWI7XzbIUDG+okcWtQNQA==",
          "dtype": "f8"
         },
         "y": {
          "bdata": "NI+dmYj4DkA0j52ZiPgOQP2OnZmI+A5A/Y6dmYj4DkCDx85MRHwQQIPHzkxEfBBAnsfOTER8EECex85MRHwQQA==",
          "dtype": "f8"
         },
         "z": {
          "bdata": "xJqZmZmZFUDEmpmZmZkVQEplZmZmZhRASmVmZmZmFEA7ZWZmZmYUQDtlZmZmZhRAtZqZmZmZFUC1mpmZmZkVQA==",
          "dtype": "f8"
         }
        },
        {
         "color": "blue",
         "i": {
          "bdata": "AQICBAQGBgEDAAQE",
          "dtype": "i1"
         },
         "j": {
          "bdata": "AAEDAgUEBwYABwEG",
          "dtype": "i1"
         },
         "k": {
          "bdata": "AwMFBQcHAAAFBQIB",
          "dtype": "i1"
         },
         "name": "IfcBeam",
         "opacity": 0.6,
         "type": "mesh3d",
         "x": {
          "bdata": "q/qJHFrUDUAT5YjtfNshQBPliO182yFAq/qJHFrUDUAT5YjtfNshQKv6iRxa1A1AE+WI7XzbIUCr+okcWtQNQA==",
          "dtype": "f8"
         },
         "y": {
          "bdata": "La5sPRt4DcAtrmw9G3gNwGiubD0beA3AaK5sPRt4DcBfrmw9G3gLwF+ubD0beAvAHa5sPRt4C8Adrmw9G3gLwA==",
          "dtype": "f8"
         },
         "z": {
          "bdata": "xZqZmZmZFUDFmpmZmZkVQEtlZmZmZhRAS2VmZmZmFEA6ZWZmZmYUQDplZmZmZhRAtJqZmZmZFUC0mpmZmZkVQA==",
          "dtype": "f8"
         }
        },
        {
         "color": "blue",
         "i": {
          "bdata": "AQICBAQGBgEDAAQE",
          "dtype": "i1"
         },
         "j": {
          "bdata": "AAEDAgUEBwYABwEG",
          "dtype": "i1"
         },
         "k": {
          "bdata": "AwMFBQcHAAAFBQIB",
          "dtype": "i1"
         },
         "name": "IfcBeam",
         "opacity": 0.6,
         "type": "mesh3d",
         "x": {
          "bdata": "6i29T40HDkBIGLwgsM4hQEgYvCCwziFA6i29T40HDkBIGLwgsM4hQOotvU+NBw5ASBi8ILDOIUDqLb1PjQcOQA==",
          "dtype": "f8"
         },
         "y": {
          "bdata": "LK6RBCJC8b8srpEEIkLxv5iukQQiQvG/mK6RBCJC8b8RXSMJRITqvxFdIwlEhOq/LFwjCUSE6r8sXCMJRITqvw==",
          "dtype": "f8"
         },
         "z": {
          "bdata": "opmZmZmZFUCimZmZmZkVQGxmZmZmZhRAbGZmZmZmFEBdZmZmZmYUQF1mZmZmZhRAkpmZmZmZFUCSmZmZmZkVQA==",
          "dtype": "f8"
         }
        },
        {
         "color": "blue",
         "i": {
          "bdata": "AQICBAQGBgEDAAQE",
          "dtype": "i1"
         },
         "j": {
          "bdata": "AAEDAgUEBwYABwEG",
          "dtype": "i1"
         },
         "k": {
          "bdata": "AwMFBQcHAAAFBQIB",
          "dtype": "i1"
         },
         "name": "IfcBeam",
         "opacity": 0.6,
         "type": "mesh3d",
         "x": {
          "bdata": "GeWI7XxbIkAZ5YjtfFsiQBjliO182yFAGOWI7XzbIUAY5YjtfNshQBjliO182yFAGeWI7XxbIkAZ5YjtfFsiQA==",
          "dtype": "f8"
         },
         "y": {
          "bdata": "UMLQzLsrDkBY9ryi3R3ov1j2vKLdHei/UMLQzLsrDkBY9ryi3R3ov1DC0My7Kw5AWPa8ot0d6L9QwtDMuysOQA==",
          "dtype": "f8"
         },
         "z": {
          "bdata": "m5mZmZmZFUCbmZmZmZkVQJuZmZmZmRVAm5mZmZmZFUBmZmZmZmYUQGZmZmZmZhRAZmZmZmZmFEBmZmZmZmYUQA==",
          "dtype": "f8"
         }
        },
        {
         "color": "blue",
         "i": {
          "bdata": "AQICBAQGBgEDAAQE",
          "dtype": "i1"
         },
         "j": {
          "bdata": "AAEDAgUEBwYABwEG",
          "dtype": "i1"
         },
         "k": {
          "bdata": "AwMFBQcHAAAFBQIB",
          "dtype": "i1"
         },
         "name": "IfcBeam",
         "opacity": 0.6,
         "type": "mesh3d",
         "x": {
          "bdata": "E+WI7XxbIkAT5YjtfFsiQBPliO182yFAE+WI7XzbIUAS5YjtfNshQBLliO182yFAFOWI7XxbIkAU5YjtfFsiQA==",
          "dtype": "f8"
         },
         "y": {
          "bdata": "juHEN1V18r+rFNOjgd4KwKsU06OB3grAjuHEN1V18r+rFNOjgd4KwI7hxDdVdfK/qxTTo4HeCsCO4cQ3VXXyvw==",
          "dtype": "f8"
         },
         "z": {
          "bdata": "m5mZmZmZFUCbmZmZmZkVQJuZmZmZmRVAm5mZmZmZFUBmZmZmZmYUQGZmZmZmZhRAZmZmZmZmFEBmZmZmZmYUQA==",
          "dtype": "f8"
         }
        },
        {
         "color": "blue",
         "i": {
          "bdata": "AgIFBQUICA0NDQkJBwcFBQ8MDgcKCg8PDw8BAA==",
          "dtype": "i1"
         },
         "j": {
          "bdata": "AAMGBwkJCwwCCA0IBgkLBAsLDw4NDgMCDgAODg==",
          "dtype": "i1"
         },
         "k": {
          "bdata": "AQAHBAYFDAIBDAoNCQoICwQPBAQOBwIMAAMNAQ==",
          "dtype": "i1"
         },
         "name": "IfcBeam",
         "opacity": 0.6,
         "type": "mesh3d",
         "x": {
          "bdata": "XpJ3PzX6JkBeknc/NfomQHegA+BaayJAd6AD4FprIkAa5YjtfFsiQBrliO18WyJAgkvvU+PBLECCS+9T48EsQBrliO18WyJAgkvvU+PBLECCS+9T48EsQBrliO18WyJAd6AD4FprIkBeknc/NfomQF6Sdz81+iZAd6AD4FprIkA=",
          "dtype": "f8"
         },
         "y": {
          "bdata": "7wRt7EFjEECCx85MRHwQQIvHzkxEfBBA9wRt7EFjEEAMj52ZiPgOQAyPnZmI+A5A5o6dmYj4DkDmjp2ZiPgOQIvHzkxEfBBAd8fOTER8EEB3x85MRHwQQIvHzkxEfBBAi8fOTER8EECCx85MRHwQQO8EbexBYxBA9wRt7EFjEEA=",
          "dtype": "f8"
         },
         "z": {
          "bdata": "K2dmZmZmFkBoZmZmZmYWQGhmZmZmZhZAK2dmZmZmFkDim5mZmZkVQGhmZmZmZhRAaGZmZmZmFEDim5mZmZkVQGhmZmZmZhRAaGZmZmZmFEDim5mZmZkVQOKbmZmZmRVA4puZmZmZFUDim5mZmZkVQOKbmZmZmRVA4puZmZmZFUA=",
          "dtype": "f8"
         }
        },
        {
         "color": "blue",
         "i": {
          "bdata": "AQICBAQGBgEDAAQE",
          "dtype": "i1"
         },
         "j": {
          "bdata": "AAEDAgUEBwYABwEG",
          "dtype": "i1"
         },
         "k": {
          "bdata": "AwMFBQcHAAAFBQIB",
          "dtype": "i1"
         },
         "name": "IfcBeam",
         "opacity": 0.6,
         "type": "mesh3d",
         "x": {
          "bdata": "E+WI7XxbIkB7S+9T48EsQHtL71PjwSxAE+WI7XxbIkB7S+9T48EsQBPliO18WyJAe0vvU+PBLEAT5YjtfFsiQA==",
          "dtype": "f8"
         },
         "y": {
          "bdata": "VK5sPRt4DcBUrmw9G3gNwJGubD0beA3Aka5sPRt4DcCHrmw9G3gLwIeubD0beAvAR65sPRt4C8BHrmw9G3gLwA==",
          "dtype": "f8"
         },
         "z": {
          "bdata": "xZqZmZmZFUDFmpmZmZkVQEtlZmZmZhRAS2VmZmZmFEA6ZWZmZmYUQDplZmZmZhRAtJqZmZmZFUC0mpmZmZkVQA==",
          "dtype": "f8"
         }
        },
        {
         "color": "blue",
         "i": {
          "bdata": "AQICBAQGBgEDAAQECQoKDAwODgkLCAwM",
          "dtype": "i1"
         },
         "j": {
          "bdata": "AAEDAgUEBwYABwEGCAkLCg0MDw4IDwkO",
          "dtype": "i1"
         },
         "k": {
          "bdata": "AwMFBQcHAAAFBQIBCwsNDQ8PCAgNDQoJ",
          "dtype": "i1"
         },
         "name": "IfcBeam",
         "opacity": 0.6,
         "type": "mesh3d",
         "x": {
          "bdata": "vFXG91M/LUB9S+9T40EtQH1L71PjQS1AvFXG91M/LUB9S+9T40EtQLxVxvdTPy1AfUvvU+NBLUC8Vcb3Uz8tQOCxVbpJaCJAILwsXrqlLEAgvCxeuqUsQOCxVbpJaCJAILwsXrqlLEDgsVW6SWgiQCC8LF66pSxA4LFVukloIkA=",
          "dtype": "f8"
         },
         "y": {
          "bdata": "FK+RBCJC8b8Ur5EEIkLxvxWvkQQiQvG/Fa+RBCJC8b8NXiMJRITqvw1eIwlEhOq/DF4jCUSE6r8MXiMJRITqv3qukQQiQvG/eq6RBCJC8b/nrpEEIkLxv+eukQQiQvG/r10jCUSE6r+vXSMJRITqv8hcIwlEhOq/yFwjCUSE6r8=",
          "dtype": "f8"
         },
         "z": {
          "bdata": "ZmZmZmZmFkBmZmZmZmYWQGZmZmZmZhRAZmZmZmZmFEBmZmZmZmYUQGZmZmZmZhRAZmZmZmZmFkBmZmZmZmYWQKKZmZmZmRVAopmZmZmZFUBsZmZmZmYUQGxmZmZmZhRAXWZmZmZmFEBdZmZmZmYUQJKZmZmZmRVAkpmZmZmZFUA=",
          "dtype": "f8"
         }
        },
        {
         "color": "blue",
         "i": {
          "bdata": "AwIHBwsFBQgCAgwMAgIKCgYGDQ0AAAQM",
          "dtype": "i1"
         },
         "j": {
          "bdata": "AAMEBQkLCAkJAQgFDAgJAQsNAwsNAwcE",
          "dtype": "i1"
         },
         "k": {
          "bdata": "AQEFBgoGCwsICQUEAwwBAA0HDAoKDQ0N",
          "dtype": "i1"
         },
         "name": "IfcBeam",
         "opacity": 0.6,
         "type": "mesh3d",
         "x": {
          "bdata": "u1XG91M/LUB8S+9T40EtQIBL71PjQS1Ahl3K91M/LUB+S+9T48EsQH5L71PjwSxAekvvU+PBLEB6S+9T48EsQIBL71PjQS1AfEvvU+NBLUC7Vcb3Uz8tQLtVxvdTPy1Ahl3K91M/LUC7Vcb3Uz8tQA==",
          "dtype": "f8"
         },
         "y": {
          "bdata": "aV0jCUSE6r9rXSMJRITqvyXC0My7Kw5AJcLQzLsrDkAlwtDMuysOQCXC0My7Kw5A8/a8ot0d6L/z9ryi3R3ovyXC0My7Kw5AaV0jCUSE6r9pXSMJRITqv/L2vKLdHei/JcLQzLsrDkDy9ryi3R3ovw==",
          "dtype": "f8"
         },
         "z": {
          "bdata": "ZmZmZmZmFkBmZmZmZmYWQGZmZmZmZhZAZmZmZmZmFkCbmZmZmZkVQGZmZmZmZhRAZmZmZmZmFECbmZmZmZkVQGZmZmZmZhRAZmZmZmZmFEBmZmZmZmYUQGZmZmZmZhRAm5mZmZmZFUCbmZmZmZkVQA==",
          "dtype": "f8"
         }
        },
        {
         "color": "blue",
         "i": {
          "bdata": "AgIHBwoLBQgCAgwGCQkCAg0NDQMAAA0N",
          "dtype": "i1"
         },
         "j": {
          "bdata": "AAMEBQkICgkBCQEMDAEICwoFCwsNAwcE",
          "dtype": "i1"
         },
         "k": {
          "bdata": "AQAFBgYKBgoJCAAHBgwLAwUECg0MDQwH",
          "dtype": "i1"
         },
         "name": "IfcBeam",
         "opacity": 0.6,
         "type": "mesh3d",
         "x": {
          "bdata": "f13K91M/LUB6S+9T40EtQHxL71PjQS1Au1XG91M/LUB6S+9T48EsQHpL71PjwSxAeEvvU+PBLEB4S+9T48EsQHxL71PjQS1AekvvU+NBLUC7Vcb3Uz8tQLtVxvdTPy1Af13K91M/LUC7Vcb3Uz8tQA==",
          "dtype": "f8"
         },
         "y": {
          "bdata": "0hTTo4HeCsDSFNOjgd4KwMSukQQiQvG/xK6RBCJC8b/g4cQ3VXXyv+DhxDdVdfK/0hTTo4HeCsDSFNOjgd4KwMSukQQiQvG/0hTTo4HeCsDg4cQ3VXXyv8SukQQiQvG/0hTTo4HeCsDg4cQ3VXXyvw==",
          "dtype": "f8"
         },
         "z": {
          "bdata": "ZmZmZmZmFkBmZmZmZmYWQGZmZmZmZhZAZmZmZmZmFkCbmZmZmZkVQGZmZmZmZhRAZmZmZmZmFECbmZmZmZkVQGZmZmZmZhRAZmZmZmZmFEBmZmZmZmYUQGZmZmZmZhRAm5mZmZmZFUCbmZmZmZkVQA==",
          "dtype": "f8"
         }
        },
        {
         "color": "red",
         "i": {
          "bdata": "AQICBAQGBgEDAAQE",
          "dtype": "i1"
         },
         "j": {
          "bdata": "AAEDAgUEBwYABwEG",
          "dtype": "i1"
         },
         "k": {
          "bdata": "AwMFBQcHAAAFBQIB",
          "dtype": "i1"
         },
         "name": "IfcColumn",
         "opacity": 0.6,
         "type": "mesh3d",
         "x": {
          "bdata": "qz0f+n6K/7+sPR/6for7v6w9H/p+ivu/qz0f+n6K/7+sPR/6for7v6s9H/p+iv+/rD0f+n6K+7+rPR/6for/vw==",
          "dtype": "f8"
         },
         "y": {
          "bdata": "HS41s6riEEAdLjWzquIQQB0uNbOq4hBAHS41s6riEEChwtDMuysOQKHC0My7Kw5AoMLQzLsrDkCgwtDMuysOQA==",
          "dtype": "f8"
         },
         "z": {
          "bdata": "mpmZmZmZ+b+amZmZmZn5v83MzMzMzARAzczMzMzMBEDNzMzMzMwEQM3MzMzMzARAmpmZmZmZ+b+amZmZmZn5vw==",
          "dtype": "f8"
         }
        },
        {
         "color": "red",
         "i": {
          "bdata": "AQICBAQGBggIAQMABQQEBg==",
          "dtype": "i1"
         },
         "j": {
          "bdata": "AAEDAgUEBwYJCAAJCQEICA==",
          "dtype": "i1"
         },
         "k": {
          "bdata": "AwMFBQcHCQkAAAUFBwIBBA==",
          "dtype": "i1"
         },
         "name": "IfcColumn",
         "opacity": 0.6,
         "type": "mesh3d",
         "x": {
          "bdata": "yfqJHFrUC0DJ+okcWtQNQMn6iRxa1A1AyfqJHFrUC0DJ+okcWtQNQMn6iRxa1AtAyfqJHFrUDUDJ+okcWtQLQMn6iRxa1A1AyfqJHFrUC0A=",
          "dtype": "f8"
         },
         "y": {
          "bdata": "CC41s6riEEAILjWzquIQQAguNbOq4hBACC41s6riEEA4j52ZiPgOQDiPnZmI+A5AeMLQzLsrDkB4wtDMuysOQHfC0My7Kw5Ad8LQzLsrDkA=",
          "dtype": "f8"
         },
         "z": {
          "bdata": "mpmZmZmZ+b+amZmZmZn5v83MzMzMzARAzczMzMzMBEDNzMzMzMwEQM3MzMzMzARAzczMzMzMBEDNzMzMzMwEQJqZmZmZmfm/mpmZmZmZ+b8=",
          "dtype": "f8"
         }
        },
        {
         "color": "red",
         "i": {
          "bdata": "AQICBAQGBgEDAAQE",
          "dtype": "i1"
         },
         "j": {
          "bdata": "AAEDAgUEBwYABwEG",
          "dtype": "i1"
         },
         "k": {
          "bdata": "AwMFBQcHAAAFBQIB",
          "dtype": "i1"
         },
         "name": "IfcColumn",
         "opacity": 0.6,
         "type": "mesh3d",
         "x": {
          "bdata": "rPqJHFrUC0Cs+okcWtQNQKz6iRxa1A1ArPqJHFrUC0Cs+okcWtQNQKz6iRxa1AtArPqJHFrUDUCs+okcWtQLQA==",
          "dtype": "f8"
         },
         "y": {
          "bdata": "gxTTo4HeCsCDFNOjgd4KwIMU06OB3grAgxTTo4HeCsC3RwbXtBEOwLdHBte0EQ7At0cG17QRDsC3RwbXtBEOwA==",
          "dtype": "f8"
         },
         "z": {
          "bdata": "mpmZmZmZ+b+amZmZmZn5v83MzMzMzARAzczMzMzMBEDNzMzMzMwEQM3MzMzMzARAmpmZmZmZ+b+amZmZmZn5vw==",
          "dtype": "f8"
         }
        },
        {
         "color": "red",
         "i": {
          "bdata": "AQICBAQGBgEDAAQE",
          "dtype": "i1"
         },
         "j": {
          "bdata": "AAEDAgUEBwYABwEG",
          "dtype": "i1"
         },
         "k": {
          "bdata": "AwMFBQcHAAAFBQIB",
          "dtype": "i1"
         },
         "name": "IfcColumn",
         "opacity": 0.6,
         "type": "mesh3d",
         "x": {
          "bdata": "2z0f+n6K/7/cPR/6for7v9w9H/p+ivu/2z0f+n6K/7/cPR/6for7v9s9H/p+iv+/3D0f+n6K+7/bPR/6for/vw==",
          "dtype": "f8"
         },
         "y": {
          "bdata": "KeGfcE6rCsAp4Z9wTqsKwCnhn3BOqwrAKeGfcE6rCsDBejkK6EQOwMF6OQroRA7Awno5CuhEDsDCejkK6EQOwA==",
          "dtype": "f8"
         },
         "z": {
          "bdata": "mpmZmZmZ+b+amZmZmZn5v83MzMzMzARAzczMzMzMBEDNzMzMzMwEQM3MzMzMzARAmpmZmZmZ+b+amZmZmZn5vw==",
          "dtype": "f8"
         }
        },
        {
         "color": "red",
         "i": {
          "bdata": "AQICBAQGBgEDAAQE",
          "dtype": "i1"
         },
         "j": {
          "bdata": "AAEDAgUEBwYABwEG",
          "dtype": "i1"
         },
         "k": {
          "bdata": "AwMFBQcHAAAFBQIB",
          "dtype": "i1"
         },
         "name": "IfcColumn",
         "opacity": 0.6,
         "type": "mesh3d",
         "x": {
          "bdata": "qj0f+n6K/7/dcFItsr36v91wUi2yvfq/qj0f+n6K/7/dcFItsr36v6o9H/p+iv+/3XBSLbK9+r+qPR/6for/vw==",
          "dtype": "f8"
         },
         "y": {
          "bdata": "FvW8ot0d6L8W9byi3R3ovxb1vKLdHei/FvW8ot0d6L/x4MQ3VXXyv/HgxDdVdfK/8eDEN1V18r/x4MQ3VXXyvw==",
          "dtype": "f8"
         },
         "z": {
          "bdata": "mpmZmZmZ+b+amZmZmZn5v83MzMzMzARAzczMzMzMBEDNzMzMzMwEQM3MzMzMzARAmpmZmZmZ+b+amZmZmZn5vw==",
          "dtype": "f8"
         }
        },
        {
         "color": "red",
         "i": {
          "bdata": "AQICBAQGBgEDAAQE",
          "dtype": "i1"
         },
         "j": {
          "bdata": "AAEDAgUEBwYABwEG",
          "dtype": "i1"
         },
         "k": {
          "bdata": "AwMFBQcHAAAFBQIB",
          "dtype": "i1"
         },
         "name": "IfcColumn",
         "opacity": 0.6,
         "type": "mesh3d",
         "x": {
          "bdata": "g8dW6SahC0DpLb1PjQcOQOktvU+NBw5Ag8dW6SahC0DpLb1PjQcOQIPHVukmoQtA6S29T40HDkCDx1bpJqELQA==",
          "dtype": "f8"
         },
         "y": {
          "bdata": "svW8ot0d6L+y9byi3R3ov7L1vKLdHei/svW8ot0d6L8/4cQ3VXXyvz/hxDdVdfK/P+HEN1V18r8/4cQ3VXXyvw==",
          "dtype": "f8"
         },
         "z": {
          "bdata": "mpmZmZmZ+b+amZmZmZn5v83MzMzMzARAzczMzMzMBEDNzMzMzMwEQM3MzMzMzARAmpmZmZmZ+b+amZmZmZn5vw==",
          "dtype": "f8"
         }
        },
        {
         "color": "red",
         "i": {
          "bdata": "AQICBAQGBgEDAAQE",
          "dtype": "i1"
         },
         "j": {
          "bdata": "AAEDAgUEBwYABwEG",
          "dtype": "i1"
         },
         "k": {
          "bdata": "AwMFBQcHAAAFBQIB",
          "dtype": "i1"
         },
         "name": "IfcColumn",
         "opacity": 0.6,
         "type": "mesh3d",
         "x": {
          "bdata": "GuWI7XzbIUAa5YjtfFsiQBrliO18WyJAGuWI7XzbIUAa5YjtfFsiQBrliO182yFAGuWI7XxbIkAa5YjtfNshQA==",
          "dtype": "f8"
         },
         "y": {
          "bdata": "9C01s6riEED0LTWzquIQQPQtNbOq4hBA9C01s6riEEBPwtDMuysOQE/C0My7Kw5AT8LQzLsrDkBPwtDMuysOQA==",
          "dtype": "f8"
         },
         "z": {
          "bdata": "mpmZmZmZ+b+amZmZmZn5v83MzMzMzARAzczMzMzMBEDNzMzMzMwEQM3MzMzMzARAmpmZmZmZ+b+amZmZmZn5vw==",
          "dtype": "f8"
         }
        },
        {
         "color": "red",
         "i": {
          "bdata": "AQICBAQGBgEDAAQE",
          "dtype": "i1"
         },
         "j": {
          "bdata": "AAEDAgUEBwYABwEG",
          "dtype": "i1"
         },
         "k": {
          "bdata": "AwMFBQcHAAAFBQIB",
          "dtype": "i1"
         },
         "name": "IfcColumn",
         "opacity": 0.6,
         "type": "mesh3d",
         "x": {
          "bdata": "E+WI7XzbIUAT5YjtfFsiQBPliO18WyJAE+WI7XzbIUAT5YjtfFsiQBPliO182yFAE+WI7XxbIkAT5YjtfNshQA==",
          "dtype": "f8"
         },
         "y": {
          "bdata": "qxTTo4HeCsCrFNOjgd4KwKsU06OB3grAqxTTo4HeCsDfRwbXtBEOwN9HBte0EQ7A30cG17QRDsDfRwbXtBEOwA==",
          "dtype": "f8"
         },
         "z": {
          "bdata": "mpmZmZmZ+b+amZmZmZn5v83MzMzMzARAzczMzMzMBEDNzMzMzMwEQM3MzMzMzARAmpmZmZmZ+b+amZmZmZn5vw==",
          "dtype": "f8"
         }
        },
        {
         "color": "red",
         "i": {
          "bdata": "AQICBAQGBgEDAAQE",
          "dtype": "i1"
         },
         "j": {
          "bdata": "AAEDAgUEBwYABwEG",
          "dtype": "i1"
         },
         "k": {
          "bdata": "AwMFBQcHAAAFBQIB",
          "dtype": "i1"
         },
         "name": "IfcColumn",
         "opacity": 0.6,
         "type": "mesh3d",
         "x": {
          "bdata": "SBi8ILDOIUDisVW6SWgiQOKxVbpJaCJASBi8ILDOIUDisVW6SWgiQEgYvCCwziFA4rFVukloIkBIGLwgsM4hQA==",
          "dtype": "f8"
         },
         "y": {
          "bdata": "Uva8ot0d6L9S9ryi3R3ov1L2vKLdHei/Uva8ot0d6L+P4cQ3VXXyv4/hxDdVdfK/j+HEN1V18r+P4cQ3VXXyvw==",
          "dtype": "f8"
         },
         "z": {
          "bdata": "mpmZmZmZ+b+amZmZmZn5v83MzMzMzARAzczMzMzMBEDNzMzMzMwEQM3MzMzMzARAmpmZmZmZ+b+amZmZmZn5vw==",
          "dtype": "f8"
         }
        },
        {
         "color": "red",
         "i": {
          "bdata": "AQICBAQGBggICgoBAwAHBQQECAg=",
          "dtype": "i1"
         },
         "j": {
          "bdata": "AAEDAgUEBwYJCAsKAAsFCwEKBAo=",
          "dtype": "i1"
         },
         "k": {
          "bdata": "AwMFBQcHCQkLCwAABQUJCQIBBgQ=",
          "dtype": "i1"
         },
         "name": "IfcColumn",
         "opacity": 0.6,
         "type": "mesh3d",
         "x": {
          "bdata": "gUvvU+PBLECBS+9T48EsQIFL71PjwSxAgUvvU+PBLECGXcr3Uz8tQIZdyvdTPy1Ahl3K91M/LUCGXcr3Uz8tQIFL71PjQS1AgUvvU+NBLUCBS+9T40EtQIFL71PjQS1A",
          "dtype": "f8"
         },
         "y": {
          "bdata": "JcLQzLsrDkDfLTWzquIQQN8tNbOq4hBAJcLQzLsrDkDfLTWzquIQQCXC0My7Kw5A3y01s6riEEAlwtDMuysOQN8tNbOq4hBAJcLQzLsrDkDfLTWzquIQQCXC0My7Kw5A",
          "dtype": "f8"
         },
         "z": {
          "bdata": "m5mZmZmZ+b+bmZmZmZn5v87MzMzMzARAzszMzMzMBEDOzMzMzMwEQM7MzMzMzARAZ2ZmZmZmBkBnZmZmZmYGQGdmZmZmZgZAZ2ZmZmZmBkCbmZmZmZn5v5uZmZmZmfm/",
          "dtype": "f8"
         }
        },
        {
         "color": "red",
         "i": {
          "bdata": "AQICBAQGBggICgoBAwAHBQQECAg=",
          "dtype": "i1"
         },
         "j": {
          "bdata": "AAEDAgUEBwYJCAsKAAsFCwEKBAo=",
          "dtype": "i1"
         },
         "k": {
          "bdata": "AwMFBQcHCQkLCwAABQUJCQIBBgQ=",
          "dtype": "i1"
         },
         "name": "IfcColumn",
         "opacity": 0.6,
         "type": "mesh3d",
         "x": {
          "bdata": "ekvvU+PBLEB6S+9T48EsQHpL71PjwSxAekvvU+PBLEB/Xcr3Uz8tQH9dyvdTPy1Af13K91M/LUB/Xcr3Uz8tQHpL71PjQS1AekvvU+NBLUB6S+9T40EtQHpL71PjQS1A",
          "dtype": "f8"
         },
         "y": {
          "bdata": "BkgG17QRDsDTFNOjgd4KwNMU06OB3grABkgG17QRDsDTFNOjgd4KwAZIBte0EQ7A0xTTo4HeCsAGSAbXtBEOwNMU06OB3grABkgG17QRDsDTFNOjgd4KwAZIBte0EQ7A",
          "dtype": "f8"
         },
         "z": {
          "bdata": "m5mZmZmZ+b+bmZmZmZn5v87MzMzMzARAzszMzMzMBEDOzMzMzMwEQM7MzMzMzARAZ2ZmZmZmBkBnZmZmZmYGQGdmZmZmZgZAZ2ZmZmZmBkCbmZmZmZn5v5uZmZmZmfm/",
          "dtype": "f8"
         }
        },
        {
         "color": "red",
         "i": {
          "bdata": "AQICBAQGBgEDAAQE",
          "dtype": "i1"
         },
         "j": {
          "bdata": "AAEDAgUEBwYABwEG",
          "dtype": "i1"
         },
         "k": {
          "bdata": "AwMFBQcHAAAFBQIB",
          "dtype": "i1"
         },
         "name": "IfcColumn",
         "opacity": 0.6,
         "type": "mesh3d",
         "x": {
          "bdata": "IbwsXrqlLEC7Vcb3Uz8tQLtVxvdTPy1AIbwsXrqlLEC7Vcb3Uz8tQCG8LF66pSxAu1XG91M/LUAhvCxeuqUsQA==",
          "dtype": "f8"
         },
         "y": {
          "bdata": "8va8ot0d6L/y9ryi3R3ov/L2vKLdHei/8va8ot0d6L/f4cQ3VXXyv9/hxDdVdfK/3+HEN1V18r/f4cQ3VXXyvw==",
          "dtype": "f8"
         },
         "z": {
          "bdata": "mpmZmZmZ+b+amZmZmZn5v83MzMzMzARAzczMzMzMBEDNzMzMzMwEQM3MzMzMzARAmpmZmZmZ+b+amZmZmZn5vw==",
          "dtype": "f8"
         }
        },
        {
         "color": "red",
         "i": {
          "bdata": "AQICBAQGBgEDAAQE",
          "dtype": "i1"
         },
         "j": {
          "bdata": "AAEDAgUEBwYABwEG",
          "dtype": "i1"
         },
         "k": {
          "bdata": "AwMFBQcHAAAFBQIB",
          "dtype": "i1"
         },
         "name": "IfcColumn",
         "opacity": 0.6,
         "type": "mesh3d",
         "x": {
          "bdata": "qz0f+n6K/7+sPR/6for7v6w9H/p+ivu/qz0f+n6K/7+sPR/6for7v6s9H/p+iv+/rD0f+n6K+7+rPR/6for/vw==",
          "dtype": "f8"
         },
         "y": {
          "bdata": "HS41s6riEEAdLjWzquIQQB0uNbOq4hBAHS41s6riEEChwtDMuysOQKHC0My7Kw5AoMLQzLsrDkCgwtDMuysOQA==",
          "dtype": "f8"
         },
         "z": {
          "bdata": "ZmZmZmZmBkBmZmZmZmYGQJmZmZmZmRVAmZmZmZmZFUCZmZmZmZkVQJmZmZmZmRVAZmZmZmZmBkBmZmZmZmYGQA==",
          "dtype": "f8"
         }
        },
        {
         "color": "red",
         "i": {
          "bdata": "AQICBAQGBggIAQAJAwIEBA==",
          "dtype": "i1"
         },
         "j": {
          "bdata": "AAEDAgUEBwYJCAkHCQgGCA==",
          "dtype": "i1"
         },
         "k": {
          "bdata": "AwMFBQcHCQkAAAMFBQEIAg==",
          "dtype": "i1"
         },
         "name": "IfcColumn",
         "opacity": 0.6,
         "type": "mesh3d",
         "x": {
          "bdata": "yfqJHFrUC0DJ+okcWtQNQMn6iRxa1A1AyfqJHFrUC0DJ+okcWtQNQMn6iRxa1AtAyfqJHFrUDUDJ+okcWtQLQMn6iRxa1A1AyfqJHFrUC0A=",
          "dtype": "f8"
         },
         "y": {
          "bdata": "CC41s6riEEAILjWzquIQQAguNbOq4hBACC41s6riEEB4wtDMuysOQHjC0My7Kw5Ad8LQzLsrDkB3wtDMuysOQDiPnZmI+A5AOI+dmYj4DkA=",
          "dtype": "f8"
         },
         "z": {
          "bdata": "ZmZmZmZmBkBmZmZmZmYGQJqZmZmZmRVAmpmZmZmZFUCamZmZmZkVQJqZmZmZmRVAZmZmZmZmBkBmZmZmZmYGQGZmZmZmZgZAZmZmZmZmBkA=",
          "dtype": "f8"
         }
        },
        {
         "color": "red",
         "i": {
          "bdata": "AQICBAQGBgEDAAQE",
          "dtype": "i1"
         },
         "j": {
          "bdata": "AAEDAgUEBwYABwEG",
          "dtype": "i1"
         },
         "k": {
          "bdata": "AwMFBQcHAAAFBQIB",
          "dtype": "i1"
         },
         "name": "IfcColumn",
         "opacity": 0.6,
         "type": "mesh3d",
         "x": {
          "bdata": "rPqJHFrUC0Cs+okcWtQNQKz6iRxa1A1ArPqJHFrUC0Cs+okcWtQNQKz6iRxa1AtArPqJHFrUDUCs+okcWtQLQA==",
          "dtype": "f8"
         },
         "y": {
          "bdata": "gxTTo4HeCsCDFNOjgd4KwIMU06OB3grAgxTTo4HeCsC3RwbXtBEOwLdHBte0EQ7At0cG17QRDsC3RwbXtBEOwA==",
          "dtype": "f8"
         },
         "z": {
          "bdata": "ZmZmZmZmBkBmZmZmZmYGQJmZmZmZmRVAmZmZmZmZFUCZmZmZmZkVQJmZmZmZmRVAZmZmZmZmBkBmZmZmZmYGQA==",
          "dtype": "f8"
         }
        },
        {
         "color": "red",
         "i": {
          "bdata": "AQICBAQGBgEDAAQE",
          "dtype": "i1"
         },
         "j": {
          "bdata": "AAEDAgUEBwYABwEG",
          "dtype": "i1"
         },
         "k": {
          "bdata": "AwMFBQcHAAAFBQIB",
          "dtype": "i1"
         },
         "name": "IfcColumn",
         "opacity": 0.6,
         "type": "mesh3d",
         "x": {
          "bdata": "2z0f+n6K/7/cPR/6for7v9w9H/p+ivu/2z0f+n6K/7/cPR/6for7v9s9H/p+iv+/3D0f+n6K+7/bPR/6for/vw==",
          "dtype": "f8"
         },
         "y": {
          "bdata": "KeGfcE6rCsAp4Z9wTqsKwCnhn3BOqwrAKeGfcE6rCsDBejkK6EQOwMF6OQroRA7Awno5CuhEDsDCejkK6EQOwA==",
          "dtype": "f8"
         },
         "z": {
          "bdata": "ZmZmZmZmBkBmZmZmZmYGQJmZmZmZmRVAmZmZmZmZFUCZmZmZmZkVQJmZmZmZmRVAZmZmZmZmBkBmZmZmZmYGQA==",
          "dtype": "f8"
         }
        },
        {
         "color": "red",
         "i": {
          "bdata": "AQICBAQGBgEDAAQE",
          "dtype": "i1"
         },
         "j": {
          "bdata": "AAEDAgUEBwYABwEG",
          "dtype": "i1"
         },
         "k": {
          "bdata": "AwMFBQcHAAAFBQIB",
          "dtype": "i1"
         },
         "name": "IfcColumn",
         "opacity": 0.6,
         "type": "mesh3d",
         "x": {
          "bdata": "qj0f+n6K/7/dcFItsr36v91wUi2yvfq/qj0f+n6K/7/dcFItsr36v6o9H/p+iv+/3XBSLbK9+r+qPR/6for/vw==",
          "dtype": "f8"
         },
         "y": {
          "bdata": "FvW8ot0d6L8W9byi3R3ovxb1vKLdHei/FvW8ot0d6L/x4MQ3VXXyv/HgxDdVdfK/8eDEN1V18r/x4MQ3VXXyvw==",
          "dtype": "f8"
         },
         "z": {
          "bdata": "ZmZmZmZmBkBmZmZmZmYGQJmZmZmZmRVAmZmZmZmZFUCZmZmZmZkVQJmZmZmZmRVAZmZmZmZmBkBmZmZmZmYGQA==",
          "dtype": "f8"
         }
        },
        {
         "color": "red",
         "i": {
          "bdata": "AQICBAQGBgEDAAQE",
          "dtype": "i1"
         },
         "j": {
          "bdata": "AAEDAgUEBwYABwEG",
          "dtype": "i1"
         },
         "k": {
          "bdata": "AwMFBQcHAAAFBQIB",
          "dtype": "i1"
         },
         "name": "IfcColumn",
         "opacity": 0.6,
         "type": "mesh3d",
         "x": {
          "bdata": "g8dW6SahC0DpLb1PjQcOQOktvU+NBw5Ag8dW6SahC0DpLb1PjQcOQIPHVukmoQtA6S29T40HDkCDx1bpJqELQA==",
          "dtype": "f8"
         },
         "y": {
          "bdata": "svW8ot0d6L+y9byi3R3ov7L1vKLdHei/svW8ot0d6L8/4cQ3VXXyvz/hxDdVdfK/P+HEN1V18r8/4cQ3VXXyvw==",
          "dtype": "f8"
         },
         "z": {
          "bdata": "ZmZmZmZmBkBmZmZmZmYGQJmZmZmZmRVAmZmZmZmZFUCZmZmZmZkVQJmZmZmZmRVAZmZmZmZmBkBmZmZmZmYGQA==",
          "dtype": "f8"
         }
        },
        {
         "color": "red",
         "i": {
          "bdata": "AQICBAQGBgEDAAQE",
          "dtype": "i1"
         },
         "j": {
          "bdata": "AAEDAgUEBwYABwEG",
          "dtype": "i1"
         },
         "k": {
          "bdata": "AwMFBQcHAAAFBQIB",
          "dtype": "i1"
         },
         "name": "IfcColumn",
         "opacity": 0.6,
         "type": "mesh3d",
         "x": {
          "bdata": "GuWI7XzbIUAa5YjtfFsiQBrliO18WyJAGuWI7XzbIUAa5YjtfFsiQBrliO182yFAGuWI7XxbIkAa5YjtfNshQA==",
          "dtype": "f8"
         },
         "y": {
          "bdata": "9C01s6riEED0LTWzquIQQPQtNbOq4hBA9C01s6riEEBPwtDMuysOQE/C0My7Kw5AT8LQzLsrDkBPwtDMuysOQA==",
          "dtype": "f8"
         },
         "z": {
          "bdata": "ZmZmZmZmBkBmZmZmZmYGQJmZmZmZmRVAmZmZmZmZFUCZmZmZmZkVQJmZmZmZmRVAZmZmZmZmBkBmZmZmZmYGQA==",
          "dtype": "f8"
         }
        },
        {
         "color": "red",
         "i": {
          "bdata": "AQICBAQGBgEDAAQE",
          "dtype": "i1"
         },
         "j": {
          "bdata": "AAEDAgUEBwYABwEG",
          "dtype": "i1"
         },
         "k": {
          "bdata": "AwMFBQcHAAAFBQIB",
          "dtype": "i1"
         },
         "name": "IfcColumn",
         "opacity": 0.6,
         "type": "mesh3d",
         "x": {
          "bdata": "E+WI7XzbIUAT5YjtfFsiQBPliO18WyJAE+WI7XzbIUAT5YjtfFsiQBPliO182yFAE+WI7XxbIkAT5YjtfNshQA==",
          "dtype": "f8"
         },
         "y": {
          "bdata": "qxTTo4HeCsCrFNOjgd4KwKsU06OB3grAqxTTo4HeCsDfRwbXtBEOwN9HBte0EQ7A30cG17QRDsDfRwbXtBEOwA==",
          "dtype": "f8"
         },
         "z": {
          "bdata": "ZmZmZmZmBkBmZmZmZmYGQJmZmZmZmRVAmZmZmZmZFUCZmZmZmZkVQJmZmZmZmRVAZmZmZmZmBkBmZmZmZmYGQA==",
          "dtype": "f8"
         }
        },
        {
         "color": "red",
         "i": {
          "bdata": "AQICBAQGBgEDAAQE",
          "dtype": "i1"
         },
         "j": {
          "bdata": "AAEDAgUEBwYABwEG",
          "dtype": "i1"
         },
         "k": {
          "bdata": "AwMFBQcHAAAFBQIB",
          "dtype": "i1"
         },
         "name": "IfcColumn",
         "opacity": 0.6,
         "type": "mesh3d",
         "x": {
          "bdata": "SBi8ILDOIUDisVW6SWgiQOKxVbpJaCJASBi8ILDOIUDisVW6SWgiQEgYvCCwziFA4rFVukloIkBIGLwgsM4hQA==",
          "dtype": "f8"
         },
         "y": {
          "bdata": "Uva8ot0d6L9S9ryi3R3ov1L2vKLdHei/Uva8ot0d6L+P4cQ3VXXyv4/hxDdVdfK/j+HEN1V18r+P4cQ3VXXyvw==",
          "dtype": "f8"
         },
         "z": {
          "bdata": "ZmZmZmZmBkBmZmZmZmYGQJmZmZmZmRVAmZmZmZmZFUCZmZmZmZkVQJmZmZmZmRVAZmZmZmZmBkBmZmZmZmYGQA==",
          "dtype": "f8"
         }
        },
        {
         "color": "red",
         "i": {
          "bdata": "AQICBAQGBggICgoBAwAHBQQECAg=",
          "dtype": "i1"
         },
         "j": {
          "bdata": "AAEDAgUEBwYJCAsKAAsFCwEKBAo=",
          "dtype": "i1"
         },
         "k": {
          "bdata": "AwMFBQcHCQkLCwAABQUJCQIBBgQ=",
          "dtype": "i1"
         },
         "name": "IfcColumn",
         "opacity": 0.6,
         "type": "mesh3d",
         "x": {
          "bdata": "gUvvU+PBLECBS+9T48EsQIFL71PjwSxAgUvvU+PBLECGXcr3Uz8tQIZdyvdTPy1Ahl3K91M/LUCGXcr3Uz8tQIFL71PjQS1AgUvvU+NBLUCBS+9T40EtQIFL71PjQS1A",
          "dtype": "f8"
         },
         "y": {
          "bdata": "JcLQzLsrDkDfLTWzquIQQN8tNbOq4hBAJcLQzLsrDkDfLTWzquIQQCXC0My7Kw5A3y01s6riEEAlwtDMuysOQN8tNbOq4hBAJcLQzLsrDkDfLTWzquIQQCXC0My7Kw5A",
          "dtype": "f8"
         },
         "z": {
          "bdata": "Z2ZmZmZmBkBnZmZmZmYGQJqZmZmZmRVAmpmZmZmZFUCamZmZmZkVQJqZmZmZmRVAZ2ZmZmZmFkBnZmZmZmYWQGdmZmZmZhZAZ2ZmZmZmFkBnZmZmZmYGQGdmZmZmZgZA",
          "dtype": "f8"
         }
        },
        {
         "color": "red",
         "i": {
          "bdata": "AQICBAQGBggICgoBAwAHBQQECAg=",
          "dtype": "i1"
         },
         "j": {
          "bdata": "AAEDAgUEBwYJCAsKAAsFCwEKBAo=",
          "dtype": "i1"
         },
         "k": {
          "bdata": "AwMFBQcHCQkLCwAABQUJCQIBBgQ=",
          "dtype": "i1"
         },
         "name": "IfcColumn",
         "opacity": 0.6,
         "type": "mesh3d",
         "x": {
          "bdata": "ekvvU+PBLEB6S+9T48EsQHpL71PjwSxAekvvU+PBLEB/Xcr3Uz8tQH9dyvdTPy1Af13K91M/LUB/Xcr3Uz8tQHpL71PjQS1AekvvU+NBLUB6S+9T40EtQHpL71PjQS1A",
          "dtype": "f8"
         },
         "y": {
          "bdata": "BkgG17QRDsDTFNOjgd4KwNMU06OB3grABkgG17QRDsDTFNOjgd4KwAZIBte0EQ7A0xTTo4HeCsAGSAbXtBEOwNMU06OB3grABkgG17QRDsDTFNOjgd4KwAZIBte0EQ7A",
          "dtype": "f8"
         },
         "z": {
          "bdata": "Z2ZmZmZmBkBnZmZmZmYGQJqZmZmZmRVAmpmZmZmZFUCamZmZmZkVQJqZmZmZmRVAZ2ZmZmZmFkBnZmZmZmYWQGdmZmZmZhZAZ2ZmZmZmFkBnZmZmZmYGQGdmZmZmZgZA",
          "dtype": "f8"
         }
        },
        {
         "color": "red",
         "i": {
          "bdata": "AQICBAQGBgEDAAQE",
          "dtype": "i1"
         },
         "j": {
          "bdata": "AAEDAgUEBwYABwEG",
          "dtype": "i1"
         },
         "k": {
          "bdata": "AwMFBQcHAAAFBQIB",
          "dtype": "i1"
         },
         "name": "IfcColumn",
         "opacity": 0.6,
         "type": "mesh3d",
         "x": {
          "bdata": "IbwsXrqlLEC7Vcb3Uz8tQLtVxvdTPy1AIbwsXrqlLEC7Vcb3Uz8tQCG8LF66pSxAu1XG91M/LUAhvCxeuqUsQA==",
          "dtype": "f8"
         },
         "y": {
          "bdata": "8va8ot0d6L/y9ryi3R3ov/L2vKLdHei/8va8ot0d6L/f4cQ3VXXyv9/hxDdVdfK/3+HEN1V18r/f4cQ3VXXyvw==",
          "dtype": "f8"
         },
         "z": {
          "bdata": "ZmZmZmZmBkBmZmZmZmYGQJmZmZmZmRVAmZmZmZmZFUCZmZmZmZkVQJmZmZmZmRVAZmZmZmZmBkBmZmZmZmYGQA==",
          "dtype": "f8"
         }
        },
        {
         "color": "green",
         "i": {
          "bdata": "AQICBAQGBggICgoMDA4OEBASEhQUFhYYGBoaHBweHiAgIiIkJCYmARsfISMfGR0xJTIzMi0lFQ8sKQAvMy4qJwMNKyoHAysxLSwpKDQ1NTY2Nzc0ODk5Ojo7Ozg8PT0+Pj8/PBw8JCQkPj4+PxQODjo6EBA2NgIMDAwMNzcGBgYIBAQcJDUkJA==",
          "dtype": "i1"
         },
         "j": {
          "bdata": "AAEDAgUEBwYJCAsKDQwPDhEQExIVFBcWGRgbGh0cHx4hICMiJSQnJhkxHyEwFxkdMBcyFSUzExUvLCcuDzMvKCcLKg0LKwcfJycnJyg0KTUqNis3LDgtOS46LzswPDE9Mj4zPxg9HiA8FhgcPBY+FCQ/EhQ7OCY6Dj87NCYKNgwKBjceJiY1OA==",
          "dtype": "i1"
         },
         "k": {
          "bdata": "AwMFBQcHCQkLCw0NDw8RERMTFRUXFxkZGxsdHR8fISEjIyUlJycAAB0wJSUlMjIyMxUPDy4uEREqKgMNDQ0NKysHBwcJBQUdJS0sKSkpKiorKygoLS0uLi8vLCwxMTIyMzMwMBoeICIeGBw9JD4/PjkkFA44NQE7Pzo2JgIMNzYGNwI9NTQ4OQ==",
          "dtype": "i1"
         },
         "name": "IfcSlab",
         "opacity": 0.6,
         "type": "mesh3d",
         "x": {
          "bdata": "NLHCmGzH8D80scKYbMfwP+A9H/p+iv+/4D0f+n6K/7+gPR/6for/v6A9H/p+iv+/kD7//KVb7j+QPv/8pVvuP5g+//ylW+4/mD7//KVb7j8bqWAaBA4YQBupYBoEDhhAGqlgGgQOGEAaqWAaBA4YQG7PRLtJ6CFAbs9Eu0noIUBvz0S7SeghQG/PRLtJ6CFAcq+CFtkqJ0Byr4IW2SonQHKvghbZKidAcq+CFtkqJ0CGXcr3Uz8tQIZdyvdTPy1Afl3K91M/LUB+Xcr3Uz8tQFaSdz81+iZAVpJ3PzX6JkBXknc/NfomQFeSdz81+iZAcaAD4FprIkBxoAPgWmsiQHCgA+BaayJAcKAD4FprIkAiyhHb+bYXQCLKEdv5thdAJMoR2/m2F0AkyhHb+bYXQDyxwphsx/A/PLHCmGzH8D9/Ase3r3MCQKv6iRxa1AtAuPqJHFrUC0CCAse3r3MCQLX6iRxa1A1AcHmmQIKaE0B3eaZAgpoTQLj6iRxa1A1AFeWI7XxbIkAho7mGp7MkQCSjuYansyRAFeWI7XxbIkB/Ase3r3MCQKv6iRxa1AtAuPqJHFrUC0CCAse3r3MCQLX6iRxa1A1AcHmmQIKaE0B3eaZAgpoTQLj6iRxa1A1AFeWI7XxbIkAho7mGp7MkQCSjuYansyRAFeWI7XxbIkA=",
          "dtype": "f8"
         },
         "y": {
          "bdata": "YiQQ+EFjFEBiJBD4QWMUQGIkEPhBYxRAYiQQ+EFjFEDMa9cSfDkPwMxr1xJ8OQ/AzGvXEnw5D8DMa9cSfDkPwGeY09SKaRLAZ5jT1IppEsBnmNPUimkSwGeY09SKaRLAshvKqy4xD8CyG8qrLjEPwLIbyqsuMQ/AshvKqy4xD8Drre79D1USwOut7v0PVRLA663u/Q9VEsDrre79D1USwGge0yR8OQ/AaB7TJHw5D8BmHtMkfDkPwGYe0yR8OQ/AvqvG7UFjFEC+q8btQWMUQL2rxu1BYxRAvavG7UFjFEAABW3sQWMQQAAFbexBYxBAAAVt7EFjEEAABW3sQWMQQJbHzkxEfBRAlsfOTER8FECXx85MRHwUQJfHzkxEfBRA/S01s6riEED9LTWzquIQQP0tNbOq4hBA/S01s6riEEAtj52ZiPgOQC2PnZmI+A5AlJzpW5/Tz7+MnOlbn9PPvyiPnZmI+A5AK4+dmYj4DkDdnOlbn9PPv9Wc6Vuf08+/FY+dmYj4DkAVj52ZiPgOQCSe6Vuf08+/HJ7pW5/Tz78tj52ZiPgOQC2PnZmI+A5AlJzpW5/Tz7+MnOlbn9PPvyiPnZmI+A5AK4+dmYj4DkDdnOlbn9PPv9Wc6Vuf08+/FY+dmYj4DkAVj52ZiPgOQCSe6Vuf08+/HJ7pW5/Tz78=",
          "dtype": "f8"
         },
         "z": {
          "bdata": "zczMzMzMBEBnZmZmZmYGQGdmZmZmZgZAzczMzMzMBEBnZmZmZmYGQM3MzMzMzARAZ2ZmZmZmBkDNzMzMzMwEQGdmZmZmZgZAzczMzMzMBEBnZmZmZmYGQM3MzMzMzARAZ2ZmZmZmBkDNzMzMzMwEQGdmZmZmZgZAzczMzMzMBEBnZmZmZmYGQM3MzMzMzARAZ2ZmZmZmBkDNzMzMzMwEQGdmZmZmZgZAzczMzMzMBEBnZmZmZmYGQM3MzMzMzARAZ2ZmZmZmBkDNzMzMzMwEQGdmZmZmZgZAzczMzMzMBEBnZmZmZmYGQM3MzMzMzARAZ2ZmZmZmBkDNzMzMzMwEQGdmZmZmZgZAzczMzMzMBEBnZmZmZmYGQM3MzMzMzARAZ2ZmZmZmBkDNzMzMzMwEQGdmZmZmZgZAzczMzMzMBEDNzMzMzMwEQM3MzMzMzARAzczMzMzMBEDNzMzMzMwEQM3MzMzMzARAzczMzMzMBEDNzMzMzMwEQM3MzMzMzARAzczMzMzMBEDNzMzMzMwEQM3MzMzMzARAzczMzMzMBEBnZmZmZmYGQGdmZmZmZgZAZ2ZmZmZmBkBnZmZmZmYGQGdmZmZmZgZAZ2ZmZmZmBkBnZmZmZmYGQGdmZmZmZgZAZ2ZmZmZmBkBnZmZmZmYGQGdmZmZmZgZAZ2ZmZmZmBkA=",
          "dtype": "f8"
         }
        },
        {
         "color": "green",
         "i": {
          "bdata": "AQICBAQGBggICgoMDA4OEBASEhQUFhYYGBoaHBweHiAgIiIkJCYmAQMFCQULEQcFDSUfDQ8dDRcTDwQmCiQMEh4eHiAgHBYWFhgUFA==",
          "dtype": "i1"
         },
         "j": {
          "bdata": "AAEDAgUEBwYJCAsKDQwPDhEQExIVFBcWGRgbGh0cHx4hICMiJSQnJgAABycHDwUlByMlHw0bHRsPFwEBBiYGDgQkBiIkHgwaHBoOFg==",
          "dtype": "i1"
         },
         "k": {
          "bdata": "AwMFBQcHCQkLCw0NDw8RERMTFRUXFxkZGxsdHR8fISEjIyUlJycAAAUnCyUNEx8fHyEhHRcXFxkVFQIECAQKEAYEDCQeDA4cDBYSDg==",
          "dtype": "i1"
         },
         "name": "IfcSlab",
         "opacity": 0.6,
         "type": "mesh3d",
         "x": {
          "bdata": "7D0f+n6K/7/sPR/6for/vzSxwphsx/A/NLHCmGzH8D84scKYbMfwPzixwphsx/A/I8oR2/m2F0AjyhHb+bYXQCHKEdv5thdAIcoR2/m2F0BwoAPgWmsiQHCgA+BaayJAcaAD4FprIkBxoAPgWmsiQFeSdz81+iZAV5J3PzX6JkBWknc/NfomQFaSdz81+iZAf13K91M/LUB/Xcr3Uz8tQIZdyvdTPy1Ahl3K91M/LUByr4IW2SonQHKvghbZKidAcq+CFtkqJ0Byr4IW2SonQG7PRLtJ6CFAbs9Eu0noIUBuz0S7SeghQG7PRLtJ6CFAGalgGgQOGEAZqWAaBA4YQBupYBoEDhhAG6lgGgQOGECYPv/8pVvuP5g+//ylW+4/gD7//KVb7j+APv/8pVvuP6w9H/p+iv+/rD0f+n6K/78=",
          "dtype": "f8"
         },
         "y": {
          "bdata": "YSQQ+EFjFEBhJBD4QWMUQGEkEPhBYxRAYSQQ+EFjFED9LTWzquIQQP0tNbOq4hBA/C01s6riEED8LTWzquIQQJbHzkxEfBRAlsfOTER8FECVx85MRHwUQJXHzkxEfBRA/wRt7EFjEED/BG3sQWMQQP8EbexBYxBA/wRt7EFjEEC9q8btQWMUQL2rxu1BYxRAvavG7UFjFEC9q8btQWMUQGce0yR8OQ/AZx7TJHw5D8BnHtMkfDkPwGce0yR8OQ/A7K3u/Q9VEsDsre79D1USwOyt7v0PVRLA7K3u/Q9VEsCzG8qrLjEPwLMbyqsuMQ/AsxvKqy4xD8CzG8qrLjEPwGiY09SKaRLAaJjT1IppEsBomNPUimkSwGiY09SKaRLAzWvXEnw5D8DNa9cSfDkPwMtr1xJ8OQ/Ay2vXEnw5D8A=",
          "dtype": "f8"
         },
         "z": {
          "bdata": "Z2ZmZmZmFkCamZmZmZkVQJqZmZmZmRVAZ2ZmZmZmFkCamZmZmZkVQGdmZmZmZhZAmpmZmZmZFUBnZmZmZmYWQJqZmZmZmRVAZ2ZmZmZmFkCamZmZmZkVQGdmZmZmZhZAmpmZmZmZFUBnZmZmZmYWQJqZmZmZmRVAZ2ZmZmZmFkCamZmZmZkVQGdmZmZmZhZAmpmZmZmZFUBnZmZmZmYWQJqZmZmZmRVAZ2ZmZmZmFkCamZmZmZkVQGdmZmZmZhZAmpmZmZmZFUBnZmZmZmYWQJqZmZmZmRVAZ2ZmZmZmFkCamZmZmZkVQGdmZmZmZhZAmpmZmZmZFUBnZmZmZmYWQJqZmZmZmRVAZ2ZmZmZmFkCamZmZmZkVQGdmZmZmZhZAmpmZmZmZFUBnZmZmZmYWQJqZmZmZmRVAZ2ZmZmZmFkA=",
          "dtype": "f8"
         }
        },
        {
         "color": "gray",
         "i": {
          "bdata": "AQICBAQGBgEDAAQE",
          "dtype": "i1"
         },
         "j": {
          "bdata": "AAEDAgUEBwYABwEG",
          "dtype": "i1"
         },
         "k": {
          "bdata": "AwMFBQcHAAAFBQIB",
          "dtype": "i1"
         },
         "name": "IfcFooting",
         "opacity": 0.6,
         "type": "mesh3d",
         "x": {
          "bdata": "oj0f+n6K8b+iPR/6forxv9CeD30/xQTA0J4PfT/FBMDQng99P8UEwNCeD30/xQTAoj0f+n6K8b+iPR/6forxvw==",
          "dtype": "f8"
         },
         "y": {
          "bdata": "oMfOTET8EkCgx85MRPwSQKDHzkxE/BJAoMfOTET8EkBBj52ZiPgJQEGPnZmI+AlAQY+dmYj4CUBBj52ZiPgJQA==",
          "dtype": "f8"
         },
         "z": {
          "bdata": "Z2ZmZmZmAMCbmZmZmZn5v5uZmZmZmfm/Z2ZmZmZmAMCbmZmZmZn5v2dmZmZmZgDAm5mZmZmZ+b9nZmZmZmYAwA==",
          "dtype": "f8"
         }
        },
        {
         "color": "gray",
         "i": {
          "bdata": "AQICBAQGBgEDAAQE",
          "dtype": "i1"
         },
         "j": {
          "bdata": "AAEDAgUEBwYABwEG",
          "dtype": "i1"
         },
         "k": {
          "bdata": "AwMFBQcHAAAFBQIB",
          "dtype": "i1"
         },
         "name": "IfcFooting",
         "opacity": 0.6,
         "type": "mesh3d",
         "x": {
          "bdata": "aP1EDi1qEUBo/UQOLWoRQND6iRxa1AZA0PqJHFrUBkDQ+okcWtQGQND6iRxa1AZAaP1EDi1qEUBo/UQOLWoRQA==",
          "dtype": "f8"
         },
         "y": {
          "bdata": "oMfOTET8EkCgx85MRPwSQKDHzkxE/BJAoMfOTET8EkBBj52ZiPgJQEGPnZmI+AlAQY+dmYj4CUBBj52ZiPgJQA==",
          "dtype": "f8"
         },
         "z": {
          "bdata": "Z2ZmZmZmAMCbmZmZmZn5v5uZmZmZmfm/Z2ZmZmZmAMCbmZmZmZn5v2dmZmZmZgDAm5mZmZmZ+b9nZmZmZmYAwA==",
          "dtype": "f8"
         }
        },
        {
         "color": "gray",
         "i": {
          "bdata": "AQICBAQGBgEDAAQE",
          "dtype": "i1"
         },
         "j": {
          "bdata": "AAEDAgUEBwYABwEG",
          "dtype": "i1"
         },
         "k": {
          "bdata": "AwMFBQcHAAAFBQIB",
          "dtype": "i1"
         },
         "name": "IfcFooting",
         "opacity": 0.6,
         "type": "mesh3d",
         "x": {
          "bdata": "G+WI7XybI0Ab5YjtfJsjQBvliO18myBAG+WI7XybIEAb5YjtfJsgQBvliO18myBAG+WI7XybI0Ab5YjtfJsjQA==",
          "dtype": "f8"
         },
         "y": {
          "bdata": "oMfOTET8EkCgx85MRPwSQKDHzkxE/BJAoMfOTET8EkBBj52ZiPgJQEGPnZmI+AlAQY+dmYj4CUBBj52ZiPgJQA==",
          "dtype": "f8"
         },
         "z": {
          "bdata": "Z2ZmZmZmAMCbmZmZmZn5v5uZmZmZmfm/Z2ZmZmZmAMCbmZmZmZn5v2dmZmZmZgDAm5mZmZmZ+b9nZmZmZmYAwA==",
          "dtype": "f8"
         }
        },
        {
         "color": "gray",
         "i": {
          "bdata": "AQICBAQGBgEDAAQE",
          "dtype": "i1"
         },
         "j": {
          "bdata": "AAEDAgUEBwYABwEG",
          "dtype": "i1"
         },
         "k": {
          "bdata": "AwMFBQcHAAAFBQIB",
          "dtype": "i1"
         },
         "name": "IfcFooting",
         "opacity": 0.6,
         "type": "mesh3d",
         "x": {
          "bdata": "gkvvU+OBLkCCS+9T44EuQIJL71PjgStAgkvvU+OBK0CCS+9T44ErQIJL71PjgStAgkvvU+OBLkCCS+9T44EuQA==",
          "dtype": "f8"
         },
         "y": {
          "bdata": "oMfOTET8EkCgx85MRPwSQKDHzkxE/BJAoMfOTET8EkBBj52ZiPgJQEGPnZmI+AlAQY+dmYj4CUBBj52ZiPgJQA==",
          "dtype": "f8"
         },
         "z": {
          "bdata": "Z2ZmZmZmAMCbmZmZmZn5v5uZmZmZmfm/Z2ZmZmZmAMCbmZmZmZn5v2dmZmZmZgDAm5mZmZmZ+b9nZmZmZmYAwA==",
          "dtype": "f8"
         }
        },
        {
         "color": "gray",
         "i": {
          "bdata": "AQICBAQGBgEDAAQE",
          "dtype": "i1"
         },
         "j": {
          "bdata": "AAEDAgUEBwYABwEG",
          "dtype": "i1"
         },
         "k": {
          "bdata": "AwMFBQcHAAAFBQIB",
          "dtype": "i1"
         },
         "name": "IfcFooting",
         "opacity": 0.6,
         "type": "mesh3d",
         "x": {
          "bdata": "ONe4kxgk8b8417iTGCTxv5tr3EkMkgTAm2vcSQySBMCba9xJDJIEwJtr3EkMkgTAONe4kxgk8b8417iTGCTxvw==",
          "dtype": "f8"
         },
         "y": {
          "bdata": "vHCNJBARyr+8cI0kEBHKv7xwjSQQEcq/vHCNJBARyr8WrpEEIkL7vxaukQQiQvu/Fq6RBCJC+78WrpEEIkL7vw==",
          "dtype": "f8"
         },
         "z": {
          "bdata": "Z2ZmZmZmAMCbmZmZmZn5v5uZmZmZmfm/Z2ZmZmZmAMCbmZmZmZn5v2dmZmZmZgDAm5mZmZmZ+b9nZmZmZmYAwA==",
          "dtype": "f8"
         }
        },
        {
         "color": "gray",
         "i": {
          "bdata": "AQICBAQGBgEDAAQE",
          "dtype": "i1"
         },
         "j": {
          "bdata": "AAEDAgUEBwYABwEG",
          "dtype": "i1"
         },
         "k": {
          "bdata": "AwMFBQcHAAAFBQIB",
          "dtype": "i1"
         },
         "name": "IfcFooting",
         "opacity": 0.6,
         "type": "mesh3d",
         "x": {
          "bdata": "Xv1EDi1qEUBe/UQOLWoRQLz6iRxa1AZAvPqJHFrUBkC8+okcWtQGQLz6iRxa1AZAXv1EDi1qEUBe/UQOLWoRQA==",
          "dtype": "f8"
         },
         "y": {
          "bdata": "vHCNJBARyr+8cI0kEBHKv7xwjSQQEcq/vHCNJBARyr8WrpEEIkL7vxaukQQiQvu/Fq6RBCJC+78WrpEEIkL7vw==",
          "dtype": "f8"
         },
         "z": {
          "bdata": "Z2ZmZmZmAMCbmZmZmZn5v5uZmZmZmfm/Z2ZmZmZmAMCbmZmZmZn5v2dmZmZmZgDAm5mZmZmZ+b9nZmZmZmYAwA==",
          "dtype": "f8"
         }
        },
        {
         "color": "gray",
         "i": {
          "bdata": "AQICBAQGBgEDAAQE",
          "dtype": "i1"
         },
         "j": {
          "bdata": "AAEDAgUEBwYABwEG",
          "dtype": "i1"
         },
         "k": {
          "bdata": "AwMFBQcHAAAFBQIB",
          "dtype": "i1"
         },
         "name": "IfcFooting",
         "opacity": 0.6,
         "type": "mesh3d",
         "x": {
          "bdata": "FuWI7XybI0AW5YjtfJsjQBbliO18myBAFuWI7XybIEAW5YjtfJsgQBbliO18myBAFuWI7XybI0AW5YjtfJsjQA==",
          "dtype": "f8"
         },
         "y": {
          "bdata": "vHCNJBARyr+8cI0kEBHKv7xwjSQQEcq/vHCNJBARyr8WrpEEIkL7vxaukQQiQvu/Fq6RBCJC+78WrpEEIkL7vw==",
          "dtype": "f8"
         },
         "z": {
          "bdata": "Z2ZmZmZmAMCbmZmZmZn5v5uZmZmZmfm/Z2ZmZmZmAMCbmZmZmZn5v2dmZmZmZgDAm5mZmZmZ+b9nZmZmZmYAwA==",
          "dtype": "f8"
         }
        },
        {
         "color": "gray",
         "i": {
          "bdata": "AQICBAQGBgEDAAQE",
          "dtype": "i1"
         },
         "j": {
          "bdata": "AAEDAgUEBwYABwEG",
          "dtype": "i1"
         },
         "k": {
          "bdata": "AwMFBQcHAAAFBQIB",
          "dtype": "i1"
         },
         "name": "IfcFooting",
         "opacity": 0.6,
         "type": "mesh3d",
         "x": {
          "bdata": "8Ij5KodyLkDwiPkqh3IuQPCI+SqHcitA8Ij5KodyK0DwiPkqh3IrQPCI+SqHcitA8Ij5KodyLkDwiPkqh3IuQA==",
          "dtype": "f8"
         },
         "y": {
          "bdata": "vHCNJBARyr+8cI0kEBHKv7xwjSQQEcq/vHCNJBARyr8WrpEEIkL7vxaukQQiQvu/Fq6RBCJC+78WrpEEIkL7vw==",
          "dtype": "f8"
         },
         "z": {
          "bdata": "Z2ZmZmZmAMCbmZmZmZn5v5uZmZmZmfm/Z2ZmZmZmAMCbmZmZmZn5v2dmZmZmZgDAm5mZmZmZ+b9nZmZmZmYAwA==",
          "dtype": "f8"
         }
        },
        {
         "color": "gray",
         "i": {
          "bdata": "AQICBAQGBgEDAAQE",
          "dtype": "i1"
         },
         "j": {
          "bdata": "AAEDAgUEBwYABwEG",
          "dtype": "i1"
         },
         "k": {
          "bdata": "AwMFBQcHAAAFBQIB",
          "dtype": "i1"
         },
         "name": "IfcFooting",
         "opacity": 0.6,
         "type": "mesh3d",
         "x": {
          "bdata": "0D0f+n6K8b/QPR/6forxv+ieD30/xQTA6J4PfT/FBMDong99P8UEwOieD30/xQTA0D0f+n6K8b/QPR/6forxvw==",
          "dtype": "f8"
         },
         "y": {
          "bdata": "Ia5sPRt4BsAhrmw9G3gGwCGubD0beAbAIa5sPRt4BsAQV7aeDTwRwBBXtp4NPBHAEFe2ng08EcAQV7aeDTwRwA==",
          "dtype": "f8"
         },
         "z": {
          "bdata": "Z2ZmZmZmAMCbmZmZmZn5v5uZmZmZmfm/Z2ZmZmZmAMCbmZmZmZn5v2dmZmZmZgDAm5mZmZmZ+b9nZmZmZmYAwA==",
          "dtype": "f8"
         }
        },
        {
         "color": "gray",
         "i": {
          "bdata": "AQICBAQGBgEDAAQE",
          "dtype": "i1"
         },
         "j": {
          "bdata": "AAEDAgUEBwYABwEG",
          "dtype": "i1"
         },
         "k": {
          "bdata": "AwMFBQcHAAAFBQIB",
          "dtype": "i1"
         },
         "name": "IfcFooting",
         "opacity": 0.6,
         "type": "mesh3d",
         "x": {
          "bdata": "Wf1EDi1qEUBZ/UQOLWoRQLL6iRxa1AZAsvqJHFrUBkCy+okcWtQGQLL6iRxa1AZAWf1EDi1qEUBZ/UQOLWoRQA==",
          "dtype": "f8"
         },
         "y": {
          "bdata": "SK5sPRt4BsBIrmw9G3gGwEiubD0beAbASK5sPRt4BsAkV7aeDTwRwCRXtp4NPBHAJFe2ng08EcAkV7aeDTwRwA==",
          "dtype": "f8"
         },
         "z": {
          "bdata": "Z2ZmZmZmAMCbmZmZmZn5v5uZmZmZmfm/Z2ZmZmZmAMCbmZmZmZn5v2dmZmZmZgDAm5mZmZmZ+b9nZmZmZmYAwA==",
          "dtype": "f8"
         }
        },
        {
         "color": "gray",
         "i": {
          "bdata": "AQICBAQGBgEDAAQE",
          "dtype": "i1"
         },
         "j": {
          "bdata": "AAEDAgUEBwYABwEG",
          "dtype": "i1"
         },
         "k": {
          "bdata": "AwMFBQcHAAAFBQIB",
          "dtype": "i1"
         },
         "name": "IfcFooting",
         "opacity": 0.6,
         "type": "mesh3d",
         "x": {
          "bdata": "FuWI7XybI0AW5YjtfJsjQBbliO18myBAFuWI7XybIEAW5YjtfJsgQBbliO18myBAFuWI7XybI0AW5YjtfJsjQA==",
          "dtype": "f8"
         },
         "y": {
          "bdata": "SK5sPRt4BsBIrmw9G3gGwEiubD0beAbASK5sPRt4BsAkV7aeDTwRwCRXtp4NPBHAJFe2ng08EcAkV7aeDTwRwA==",
          "dtype": "f8"
         },
         "z": {
          "bdata": "Z2ZmZmZmAMCbmZmZmZn5v5uZmZmZmfm/Z2ZmZmZmAMCbmZmZmZn5v2dmZmZmZgDAm5mZmZmZ+b9nZmZmZmYAwA==",
          "dtype": "f8"
         }
        },
        {
         "color": "gray",
         "i": {
          "bdata": "AQICBAQGBgEDAAQE",
          "dtype": "i1"
         },
         "j": {
          "bdata": "AAEDAgUEBwYABwEG",
          "dtype": "i1"
         },
         "k": {
          "bdata": "AwMFBQcHAAAFBQIB",
          "dtype": "i1"
         },
         "name": "IfcFooting",
         "opacity": 0.6,
         "type": "mesh3d",
         "x": {
          "bdata": "e0vvU+OBLkB7S+9T44EuQHtL71PjgStAe0vvU+OBK0B7S+9T44ErQHtL71PjgStAe0vvU+OBLkB7S+9T44EuQA==",
          "dtype": "f8"
         },
         "y": {
          "bdata": "ma5sPRt4BsCZrmw9G3gGwJmubD0beAbAma5sPRt4BsBMV7aeDTwRwExXtp4NPBHATFe2ng08EcBMV7aeDTwRwA==",
          "dtype": "f8"
         },
         "z": {
          "bdata": "Z2ZmZmZmAMCbmZmZmZn5v5uZmZmZmfm/Z2ZmZmZmAMCbmZmZmZn5v2dmZmZmZgDAm5mZmZmZ+b9nZmZmZmYAwA==",
          "dtype": "f8"
         }
        }
       ],
       "layout": {
        "scene": {
         "xaxis": {
          "title": {
           "text": "X"
          }
         },
         "yaxis": {
          "title": {
           "text": "Y"
          }
         },
         "zaxis": {
          "title": {
           "text": "Z"
          }
         }
        },
        "template": {
         "data": {
          "bar": [
           {
            "error_x": {
             "color": "#2a3f5f"
            },
            "error_y": {
             "color": "#2a3f5f"
            },
            "marker": {
             "line": {
              "color": "#E5ECF6",
              "width": 0.5
             },
             "pattern": {
              "fillmode": "overlay",
              "size": 10,
              "solidity": 0.2
             }
            },
            "type": "bar"
           }
          ],
          "barpolar": [
           {
            "marker": {
             "line": {
              "color": "#E5ECF6",
              "width": 0.5
             },
             "pattern": {
              "fillmode": "overlay",
              "size": 10,
              "solidity": 0.2
             }
            },
            "type": "barpolar"
           }
          ],
          "carpet": [
           {
            "aaxis": {
             "endlinecolor": "#2a3f5f",
             "gridcolor": "white",
             "linecolor": "white",
             "minorgridcolor": "white",
             "startlinecolor": "#2a3f5f"
            },
            "baxis": {
             "endlinecolor": "#2a3f5f",
             "gridcolor": "white",
             "linecolor": "white",
             "minorgridcolor": "white",
             "startlinecolor": "#2a3f5f"
            },
            "type": "carpet"
           }
          ],
          "choropleth": [
           {
            "colorbar": {
             "outlinewidth": 0,
             "ticks": ""
            },
            "type": "choropleth"
           }
          ],
          "contour": [
           {
            "colorbar": {
             "outlinewidth": 0,
             "ticks": ""
            },
            "colorscale": [
             [
              0,
              "#0d0887"
             ],
             [
              0.1111111111111111,
              "#46039f"
             ],
             [
              0.2222222222222222,
              "#7201a8"
             ],
             [
              0.3333333333333333,
              "#9c179e"
             ],
             [
              0.4444444444444444,
              "#bd3786"
             ],
             [
              0.5555555555555556,
              "#d8576b"
             ],
             [
              0.6666666666666666,
              "#ed7953"
             ],
             [
              0.7777777777777778,
              "#fb9f3a"
             ],
             [
              0.8888888888888888,
              "#fdca26"
             ],
             [
              1,
              "#f0f921"
             ]
            ],
            "type": "contour"
           }
          ],
          "contourcarpet": [
           {
            "colorbar": {
             "outlinewidth": 0,
             "ticks": ""
            },
            "type": "contourcarpet"
           }
          ],
          "heatmap": [
           {
            "colorbar": {
             "outlinewidth": 0,
             "ticks": ""
            },
            "colorscale": [
             [
              0,
              "#0d0887"
             ],
             [
              0.1111111111111111,
              "#46039f"
             ],
             [
              0.2222222222222222,
              "#7201a8"
             ],
             [
              0.3333333333333333,
              "#9c179e"
             ],
             [
              0.4444444444444444,
              "#bd3786"
             ],
             [
              0.5555555555555556,
              "#d8576b"
             ],
             [
              0.6666666666666666,
              "#ed7953"
             ],
             [
              0.7777777777777778,
              "#fb9f3a"
             ],
             [
              0.8888888888888888,
              "#fdca26"
             ],
             [
              1,
              "#f0f921"
             ]
            ],
            "type": "heatmap"
           }
          ],
          "histogram": [
           {
            "marker": {
             "pattern": {
              "fillmode": "overlay",
              "size": 10,
              "solidity": 0.2
             }
            },
            "type": "histogram"
           }
          ],
          "histogram2d": [
           {
            "colorbar": {
             "outlinewidth": 0,
             "ticks": ""
            },
            "colorscale": [
             [
              0,
              "#0d0887"
             ],
             [
              0.1111111111111111,
              "#46039f"
             ],
             [
              0.2222222222222222,
              "#7201a8"
             ],
             [
              0.3333333333333333,
              "#9c179e"
             ],
             [
              0.4444444444444444,
              "#bd3786"
             ],
             [
              0.5555555555555556,
              "#d8576b"
             ],
             [
              0.6666666666666666,
              "#ed7953"
             ],
             [
              0.7777777777777778,
              "#fb9f3a"
             ],
             [
              0.8888888888888888,
              "#fdca26"
             ],
             [
              1,
              "#f0f921"
             ]
            ],
            "type": "histogram2d"
           }
          ],
          "histogram2dcontour": [
           {
            "colorbar": {
             "outlinewidth": 0,
             "ticks": ""
            },
            "colorscale": [
             [
              0,
              "#0d0887"
             ],
             [
              0.1111111111111111,
              "#46039f"
             ],
             [
              0.2222222222222222,
              "#7201a8"
             ],
             [
              0.3333333333333333,
              "#9c179e"
             ],
             [
              0.4444444444444444,
              "#bd3786"
             ],
             [
              0.5555555555555556,
              "#d8576b"
             ],
             [
              0.6666666666666666,
              "#ed7953"
             ],
             [
              0.7777777777777778,
              "#fb9f3a"
             ],
             [
              0.8888888888888888,
              "#fdca26"
             ],
             [
              1,
              "#f0f921"
             ]
            ],
            "type": "histogram2dcontour"
           }
          ],
          "mesh3d": [
           {
            "colorbar": {
             "outlinewidth": 0,
             "ticks": ""
            },
            "type": "mesh3d"
           }
          ],
          "parcoords": [
           {
            "line": {
             "colorbar": {
              "outlinewidth": 0,
              "ticks": ""
             }
            },
            "type": "parcoords"
           }
          ],
          "pie": [
           {
            "automargin": true,
            "type": "pie"
           }
          ],
          "scatter": [
           {
            "fillpattern": {
             "fillmode": "overlay",
             "size": 10,
             "solidity": 0.2
            },
            "type": "scatter"
           }
          ],
          "scatter3d": [
           {
            "line": {
             "colorbar": {
              "outlinewidth": 0,
              "ticks": ""
             }
            },
            "marker": {
             "colorbar": {
              "outlinewidth": 0,
              "ticks": ""
             }
            },
            "type": "scatter3d"
           }
          ],
          "scattercarpet": [
           {
            "marker": {
             "colorbar": {
              "outlinewidth": 0,
              "ticks": ""
             }
            },
            "type": "scattercarpet"
           }
          ],
          "scattergeo": [
           {
            "marker": {
             "colorbar": {
              "outlinewidth": 0,
              "ticks": ""
             }
            },
            "type": "scattergeo"
           }
          ],
          "scattergl": [
           {
            "marker": {
             "colorbar": {
              "outlinewidth": 0,
              "ticks": ""
             }
            },
            "type": "scattergl"
           }
          ],
          "scattermap": [
           {
            "marker": {
             "colorbar": {
              "outlinewidth": 0,
              "ticks": ""
             }
            },
            "type": "scattermap"
           }
          ],
          "scattermapbox": [
           {
            "marker": {
             "colorbar": {
              "outlinewidth": 0,
              "ticks": ""
             }
            },
            "type": "scattermapbox"
           }
          ],
          "scatterpolar": [
           {
            "marker": {
             "colorbar": {
              "outlinewidth": 0,
              "ticks": ""
             }
            },
            "type": "scatterpolar"
           }
          ],
          "scatterpolargl": [
           {
            "marker": {
             "colorbar": {
              "outlinewidth": 0,
              "ticks": ""
             }
            },
            "type": "scatterpolargl"
           }
          ],
          "scatterternary": [
           {
            "marker": {
             "colorbar": {
              "outlinewidth": 0,
              "ticks": ""
             }
            },
            "type": "scatterternary"
           }
          ],
          "surface": [
           {
            "colorbar": {
             "outlinewidth": 0,
             "ticks": ""
            },
            "colorscale": [
             [
              0,
              "#0d0887"
             ],
             [
              0.1111111111111111,
              "#46039f"
             ],
             [
              0.2222222222222222,
              "#7201a8"
             ],
             [
              0.3333333333333333,
              "#9c179e"
             ],
             [
              0.4444444444444444,
              "#bd3786"
             ],
             [
              0.5555555555555556,
              "#d8576b"
             ],
             [
              0.6666666666666666,
              "#ed7953"
             ],
             [
              0.7777777777777778,
              "#fb9f3a"
             ],
             [
              0.8888888888888888,
              "#fdca26"
             ],
             [
              1,
              "#f0f921"
             ]
            ],
            "type": "surface"
           }
          ],
          "table": [
           {
            "cells": {
             "fill": {
              "color": "#EBF0F8"
             },
             "line": {
              "color": "white"
             }
            },
            "header": {
             "fill": {
              "color": "#C8D4E3"
             },
             "line": {
              "color": "white"
             }
            },
            "type": "table"
           }
          ]
         },
         "layout": {
          "annotationdefaults": {
           "arrowcolor": "#2a3f5f",
           "arrowhead": 0,
           "arrowwidth": 1
          },
          "autotypenumbers": "strict",
          "coloraxis": {
           "colorbar": {
            "outlinewidth": 0,
            "ticks": ""
           }
          },
          "colorscale": {
           "diverging": [
            [
             0,
             "#8e0152"
            ],
            [
             0.1,
             "#c51b7d"
            ],
            [
             0.2,
             "#de77ae"
            ],
            [
             0.3,
             "#f1b6da"
            ],
            [
             0.4,
             "#fde0ef"
            ],
            [
             0.5,
             "#f7f7f7"
            ],
            [
             0.6,
             "#e6f5d0"
            ],
            [
             0.7,
             "#b8e186"
            ],
            [
             0.8,
             "#7fbc41"
            ],
            [
             0.9,
             "#4d9221"
            ],
            [
             1,
             "#276419"
            ]
           ],
           "sequential": [
            [
             0,
             "#0d0887"
            ],
            [
             0.1111111111111111,
             "#46039f"
            ],
            [
             0.2222222222222222,
             "#7201a8"
            ],
            [
             0.3333333333333333,
             "#9c179e"
            ],
            [
             0.4444444444444444,
             "#bd3786"
            ],
            [
             0.5555555555555556,
             "#d8576b"
            ],
            [
             0.6666666666666666,
             "#ed7953"
            ],
            [
             0.7777777777777778,
             "#fb9f3a"
            ],
            [
             0.8888888888888888,
             "#fdca26"
            ],
            [
             1,
             "#f0f921"
            ]
           ],
           "sequentialminus": [
            [
             0,
             "#0d0887"
            ],
            [
             0.1111111111111111,
             "#46039f"
            ],
            [
             0.2222222222222222,
             "#7201a8"
            ],
            [
             0.3333333333333333,
             "#9c179e"
            ],
            [
             0.4444444444444444,
             "#bd3786"
            ],
            [
             0.5555555555555556,
             "#d8576b"
            ],
            [
             0.6666666666666666,
             "#ed7953"
            ],
            [
             0.7777777777777778,
             "#fb9f3a"
            ],
            [
             0.8888888888888888,
             "#fdca26"
            ],
            [
             1,
             "#f0f921"
            ]
           ]
          },
          "colorway": [
           "#636efa",
           "#EF553B",
           "#00cc96",
           "#ab63fa",
           "#FFA15A",
           "#19d3f3",
           "#FF6692",
           "#B6E880",
           "#FF97FF",
           "#FECB52"
          ],
          "font": {
           "color": "#2a3f5f"
          },
          "geo": {
           "bgcolor": "white",
           "lakecolor": "white",
           "landcolor": "#E5ECF6",
           "showlakes": true,
           "showland": true,
           "subunitcolor": "white"
          },
          "hoverlabel": {
           "align": "left"
          },
          "hovermode": "closest",
          "mapbox": {
           "style": "light"
          },
          "paper_bgcolor": "white",
          "plot_bgcolor": "#E5ECF6",
          "polar": {
           "angularaxis": {
            "gridcolor": "white",
            "linecolor": "white",
            "ticks": ""
           },
           "bgcolor": "#E5ECF6",
           "radialaxis": {
            "gridcolor": "white",
            "linecolor": "white",
            "ticks": ""
           }
          },
          "scene": {
           "xaxis": {
            "backgroundcolor": "#E5ECF6",
            "gridcolor": "white",
            "gridwidth": 2,
            "linecolor": "white",
            "showbackground": true,
            "ticks": "",
            "zerolinecolor": "white"
           },
           "yaxis": {
            "backgroundcolor": "#E5ECF6",
            "gridcolor": "white",
            "gridwidth": 2,
            "linecolor": "white",
            "showbackground": true,
            "ticks": "",
            "zerolinecolor": "white"
           },
           "zaxis": {
            "backgroundcolor": "#E5ECF6",
            "gridcolor": "white",
            "gridwidth": 2,
            "linecolor": "white",
            "showbackground": true,
            "ticks": "",
            "zerolinecolor": "white"
           }
          },
          "shapedefaults": {
           "line": {
            "color": "#2a3f5f"
           }
          },
          "ternary": {
           "aaxis": {
            "gridcolor": "white",
            "linecolor": "white",
            "ticks": ""
           },
           "baxis": {
            "gridcolor": "white",
            "linecolor": "white",
            "ticks": ""
           },
           "bgcolor": "#E5ECF6",
           "caxis": {
            "gridcolor": "white",
            "linecolor": "white",
            "ticks": ""
           }
          },
          "title": {
           "x": 0.05
          },
          "xaxis": {
           "automargin": true,
           "gridcolor": "white",
           "linecolor": "white",
           "ticks": "",
           "title": {
            "standoff": 15
           },
           "zerolinecolor": "white",
           "zerolinewidth": 2
          },
          "yaxis": {
           "automargin": true,
           "gridcolor": "white",
           "linecolor": "white",
           "ticks": "",
           "title": {
            "standoff": 15
           },
           "zerolinecolor": "white",
           "zerolinewidth": 2
          }
         }
        },
        "title": {
         "text": "IFC Structural Model"
        }
       }
      }
     },
     "metadata": {},
     "output_type": "display_data"
    }
   ],
   "source": [
    "from ifc_openseespy_linker.core import IFCtoOpenSeesConverter\n",
    "\n",
    "converter = IFCtoOpenSeesConverter()\n",
    "converter.load_ifc('sample_models/CASA TIPO 11111.ifc')\n",
    "structural_elements = converter.extract_structural_elements()\n",
    "print(f\"Extracted elements: {len(structural_elements)}\")\n",
    "print(structural_elements)\n",
    "print(\"Element types:\", {elem['type'] for elem in structural_elements.values()})\n",
    "converter.visualize_model()"
   ]
  }
 ],
 "metadata": {
  "kernelspec": {
   "display_name": "Python 3",
   "language": "python",
   "name": "python3"
  },
  "language_info": {
   "codemirror_mode": {
    "name": "ipython",
    "version": 3
   },
   "file_extension": ".py",
   "mimetype": "text/x-python",
   "name": "python",
   "nbconvert_exporter": "python",
   "pygments_lexer": "ipython3",
   "version": "3.12.4"
  }
 },
 "nbformat": 4,
 "nbformat_minor": 5
}
