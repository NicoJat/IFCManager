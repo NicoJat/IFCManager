{
 "cells": [
  {
   "cell_type": "code",
   "execution_count": 1,
   "id": "77d29ab6",
   "metadata": {},
   "outputs": [],
   "source": [
    "import numpy as np\n",
    "import pandas as pd\n",
    "import matplotlib.pyplot as plt\n",
    "from ifc_manager.core import IFCManager"
   ]
  },
  {
   "cell_type": "code",
   "execution_count": 2,
   "id": "3de9ccb3",
   "metadata": {},
   "outputs": [
    {
     "name": "stdout",
     "output_type": "stream",
     "text": [
      "Extracted elements: 89\n",
      "Element types: {'IfcBeam', 'IfcSlab', 'IfcColumn', 'IfcFooting'}\n"
     ]
    },
    {
     "data": {
      "application/vnd.plotly.v1+json": {
       "config": {
        "plotlyServerURL": "https://plot.ly"
       },
       "data": [
        {
         "color": "blue",
         "i": {
          "bdata": "AQICBAQGBgEDAAQE",
          "dtype": "i1"
         },
         "j": {
          "bdata": "AAEDAgUEBwYABwEG",
          "dtype": "i1"
         },
         "k": {
          "bdata": "AwMFBQcHAAAFBQIB",
          "dtype": "i1"
         },
         "name": "IfcBeam",
         "opacity": 0.5,
         "showscale": false,
         "type": "mesh3d",
         "x": {
          "bdata": "rD0f+n6K+7/K+okcWtQLQMr6iRxa1AtArD0f+n6K+7/K+okcWtQLQKw9H/p+ivu/yvqJHFrUC0CsPR/6for7vw==",
          "dtype": "f8"
         },
         "y": {
          "bdata": "XI+dmYj4DkBcj52ZiPgOQCSPnZmI+A5AJI+dmYj4DkCXx85MRHwQQJfHzkxEfBBAssfOTER8EECyx85MRHwQQA==",
          "dtype": "f8"
         },
         "z": {
          "bdata": "Is/MzMzMBEAiz8zMzMwEQC9kZmZmZgJAL2RmZmZmAkARZGZmZmYCQBFkZmZmZgJABM/MzMzMBEAEz8zMzMwEQA==",
          "dtype": "f8"
         }
        },
        {
         "color": "blue",
         "i": {
          "bdata": "AQICBAQGBgEDAAQE",
          "dtype": "i1"
         },
         "j": {
          "bdata": "AAEDAgUEBwYABwEG",
          "dtype": "i1"
         },
         "k": {
          "bdata": "AwMFBQcHAAAFBQIB",
          "dtype": "i1"
         },
         "name": "IfcBeam",
         "opacity": 0.5,
         "showscale": false,
         "type": "mesh3d",
         "x": {
          "bdata": "3T0f+n6K+7+s+okcWtQLQKz6iRxa1AtA3T0f+n6K+7+s+okcWtQLQN09H/p+ivu/rPqJHFrUC0DdPR/6for7vw==",
          "dtype": "f8"
         },
         "y": {
          "bdata": "Bq5sPRt4DcAGrmw9G3gNwECubD0beA3AQK5sPRt4DcA3rmw9G3gLwDeubD0beAvA9q1sPRt4C8D2rWw9G3gLwA==",
          "dtype": "f8"
         },
         "z": {
          "bdata": "JM/MzMzMBEAkz8zMzMwEQDFkZmZmZgJAMWRmZmZmAkAPZGZmZmYCQA9kZmZmZgJAAs/MzMzMBEACz8zMzMwEQA==",
          "dtype": "f8"
         }
        },
        {
         "color": "blue",
         "i": {
          "bdata": "AQICBAQGBgEDAAQE",
          "dtype": "i1"
         },
         "j": {
          "bdata": "AAEDAgUEBwYABwEG",
          "dtype": "i1"
         },
         "k": {
          "bdata": "AwMFBQcHAAAFBQIB",
          "dtype": "i1"
         },
         "name": "IfcBeam",
         "opacity": 0.5,
         "showscale": false,
         "type": "mesh3d",
         "x": {
          "bdata": "33BSLbK9+r+Gx1bpJqELQIbHVukmoQtA33BSLbK9+r+Gx1bpJqELQN9wUi2yvfq/hsdW6SahC0DfcFItsr36vw==",
          "dtype": "f8"
         },
         "y": {
          "bdata": "2a2RBCJC8b/ZrZEEIkLxv0eukQQiQvG/R66RBCJC8b9vXCMJRITqv29cIwlEhOq/hlsjCUSE6r+GWyMJRITqvw==",
          "dtype": "f8"
         },
         "z": {
          "bdata": "3szMzMzMBEDezMzMzMwEQHRmZmZmZgJAdGZmZmZmAkBVZmZmZmYCQFVmZmZmZgJAv8zMzMzMBEC/zMzMzMwEQA==",
          "dtype": "f8"
         }
        },
        {
         "color": "blue",
         "i": {
          "bdata": "AQICBAQGBgEDAAQE",
          "dtype": "i1"
         },
         "j": {
          "bdata": "AAEDAgUEBwYABwEG",
          "dtype": "i1"
         },
         "k": {
          "bdata": "AwMFBQcHAAAFBQIB",
          "dtype": "i1"
         },
         "name": "IfcBeam",
         "opacity": 0.5,
         "showscale": false,
         "type": "mesh3d",
         "x": {
          "bdata": "tT0f+n6K+7+1PR/6for7v8I9H/p+iv+/wj0f+n6K/7/EPR/6for/v8Q9H/p+iv+/tD0f+n6K+7+0PR/6for7vw==",
          "dtype": "f8"
         },
         "y": {
          "bdata": "ocLQzLsrDkAc9byi3R3ovxz1vKLdHei/ocLQzLsrDkAc9byi3R3ov6HC0My7Kw5AHPW8ot0d6L+hwtDMuysOQA==",
          "dtype": "f8"
         },
         "z": {
          "bdata": "zszMzMzMBEDOzMzMzMwEQM7MzMzMzARAzszMzMzMBEBkZmZmZmYCQGRmZmZmZgJAZGZmZmZmAkBkZmZmZmYCQA==",
          "dtype": "f8"
         }
        },
        {
         "color": "blue",
         "i": {
          "bdata": "AQICBAQGBgEDAAQE",
          "dtype": "i1"
         },
         "j": {
          "bdata": "AAEDAgUEBwYABwEG",
          "dtype": "i1"
         },
         "k": {
          "bdata": "AwMFBQcHAAAFBQIB",
          "dtype": "i1"
         },
         "name": "IfcBeam",
         "opacity": 0.5,
         "showscale": false,
         "type": "mesh3d",
         "x": {
          "bdata": "0D0f+n6K+7/QPR/6for7v909H/p+iv+/3T0f+n6K/7/fPR/6for/v989H/p+iv+/zz0f+n6K+7/PPR/6for7vw==",
          "dtype": "f8"
         },
         "y": {
          "bdata": "7+DEN1V18r8q4Z9wTqsKwCrhn3BOqwrA7+DEN1V18r8q4Z9wTqsKwO/gxDdVdfK/KuGfcE6rCsDv4MQ3VXXyvw==",
          "dtype": "f8"
         },
         "z": {
          "bdata": "zszMzMzMBEDOzMzMzMwEQM7MzMzMzARAzszMzMzMBEBkZmZmZmYCQGRmZmZmZgJAZGZmZmZmAkBkZmZmZmYCQA==",
          "dtype": "f8"
         }
        },
        {
         "color": "blue",
         "i": {
          "bdata": "AQICBAQGBgEDAAQE",
          "dtype": "i1"
         },
         "j": {
          "bdata": "AAEDAgUEBwYABwEG",
          "dtype": "i1"
         },
         "k": {
          "bdata": "AwMFBQcHAAAFBQIB",
          "dtype": "i1"
         },
         "name": "IfcBeam",
         "opacity": 0.5,
         "showscale": false,
         "type": "mesh3d",
         "x": {
          "bdata": "xvqJHFrUDUDG+okcWtQNQLz6iRxa1AtAvPqJHFrUC0C8+okcWtQLQLz6iRxa1AtAxPqJHFrUDUDE+okcWtQNQA==",
          "dtype": "f8"
         },
         "y": {
          "bdata": "d8LQzLsrDkC09byi3R3ov7T1vKLdHei/d8LQzLsrDkC09byi3R3ov3fC0My7Kw5AtPW8ot0d6L93wtDMuysOQA==",
          "dtype": "f8"
         },
         "z": {
          "bdata": "zszMzMzMBEDOzMzMzMwEQM7MzMzMzARAzszMzMzMBEBkZmZmZmYCQGRmZmZmZgJAZGZmZmZmAkBkZmZmZmYCQA==",
          "dtype": "f8"
         }
        },
        {
         "color": "blue",
         "i": {
          "bdata": "AQICBAQGBgEDAAQE",
          "dtype": "i1"
         },
         "j": {
          "bdata": "AAEDAgUEBwYABwEG",
          "dtype": "i1"
         },
         "k": {
          "bdata": "AwMFBQcHAAAFBQIB",
          "dtype": "i1"
         },
         "name": "IfcBeam",
         "opacity": 0.5,
         "showscale": false,
         "type": "mesh3d",
         "x": {
          "bdata": "tPqJHFrUDUC0+okcWtQNQKr6iRxa1AtAqvqJHFrUC0Cq+okcWtQLQKr6iRxa1AtAs/qJHFrUDUCz+okcWtQNQA==",
          "dtype": "f8"
         },
         "y": {
          "bdata": "PuHEN1V18r+DFNOjgd4KwIMU06OB3grAPuHEN1V18r+DFNOjgd4KwD7hxDdVdfK/gxTTo4HeCsA+4cQ3VXXyvw==",
          "dtype": "f8"
         },
         "z": {
          "bdata": "zszMzMzMBEDOzMzMzMwEQM7MzMzMzARAzszMzMzMBEBkZmZmZmYCQGRmZmZmZgJAZGZmZmZmAkBkZmZmZmYCQA==",
          "dtype": "f8"
         }
        },
        {
         "color": "blue",
         "i": {
          "bdata": "AQICBAQGBgEDAAQE",
          "dtype": "i1"
         },
         "j": {
          "bdata": "AAEDAgUEBwYABwEG",
          "dtype": "i1"
         },
         "k": {
          "bdata": "AwMFBQcHAAAFBQIB",
          "dtype": "i1"
         },
         "name": "IfcBeam",
         "opacity": 0.5,
         "showscale": false,
         "type": "mesh3d",
         "x": {
          "bdata": "xvqJHFrUDUAa5YjtfNshQBrliO182yFAxvqJHFrUDUAa5YjtfNshQMb6iRxa1A1AGuWI7XzbIUDG+okcWtQNQA==",
          "dtype": "f8"
         },
         "y": {
          "bdata": "NI+dmYj4DkA0j52ZiPgOQP2OnZmI+A5A/Y6dmYj4DkCDx85MRHwQQIPHzkxEfBBAnsfOTER8EECex85MRHwQQA==",
          "dtype": "f8"
         },
         "z": {
          "bdata": "Is/MzMzMBEAiz8zMzMwEQC9kZmZmZgJAL2RmZmZmAkARZGZmZmYCQBFkZmZmZgJABM/MzMzMBEAEz8zMzMwEQA==",
          "dtype": "f8"
         }
        },
        {
         "color": "blue",
         "i": {
          "bdata": "AQICBAQGBgEDAAQE",
          "dtype": "i1"
         },
         "j": {
          "bdata": "AAEDAgUEBwYABwEG",
          "dtype": "i1"
         },
         "k": {
          "bdata": "AwMFBQcHAAAFBQIB",
          "dtype": "i1"
         },
         "name": "IfcBeam",
         "opacity": 0.5,
         "showscale": false,
         "type": "mesh3d",
         "x": {
          "bdata": "q/qJHFrUDUAT5YjtfNshQBPliO182yFAq/qJHFrUDUAT5YjtfNshQKv6iRxa1A1AE+WI7XzbIUCr+okcWtQNQA==",
          "dtype": "f8"
         },
         "y": {
          "bdata": "La5sPRt4DcAtrmw9G3gNwGiubD0beA3AaK5sPRt4DcBfrmw9G3gLwF+ubD0beAvAHa5sPRt4C8Adrmw9G3gLwA==",
          "dtype": "f8"
         },
         "z": {
          "bdata": "JM/MzMzMBEAkz8zMzMwEQDFkZmZmZgJAMWRmZmZmAkAPZGZmZmYCQA9kZmZmZgJAAs/MzMzMBEACz8zMzMwEQA==",
          "dtype": "f8"
         }
        },
        {
         "color": "blue",
         "i": {
          "bdata": "AQICBAQGBgEDAAQE",
          "dtype": "i1"
         },
         "j": {
          "bdata": "AAEDAgUEBwYABwEG",
          "dtype": "i1"
         },
         "k": {
          "bdata": "AwMFBQcHAAAFBQIB",
          "dtype": "i1"
         },
         "name": "IfcBeam",
         "opacity": 0.5,
         "showscale": false,
         "type": "mesh3d",
         "x": {
          "bdata": "6i29T40HDkBIGLwgsM4hQEgYvCCwziFA6i29T40HDkBIGLwgsM4hQOotvU+NBw5ASBi8ILDOIUDqLb1PjQcOQA==",
          "dtype": "f8"
         },
         "y": {
          "bdata": "LK6RBCJC8b8srpEEIkLxv5iukQQiQvG/mK6RBCJC8b8RXSMJRITqvxFdIwlEhOq/LFwjCUSE6r8sXCMJRITqvw==",
          "dtype": "f8"
         },
         "z": {
          "bdata": "3szMzMzMBEDezMzMzMwEQHRmZmZmZgJAdGZmZmZmAkBVZmZmZmYCQFVmZmZmZgJAv8zMzMzMBEC/zMzMzMwEQA==",
          "dtype": "f8"
         }
        },
        {
         "color": "blue",
         "i": {
          "bdata": "AQICBAQGBgEDAAQE",
          "dtype": "i1"
         },
         "j": {
          "bdata": "AAEDAgUEBwYABwEG",
          "dtype": "i1"
         },
         "k": {
          "bdata": "AwMFBQcHAAAFBQIB",
          "dtype": "i1"
         },
         "name": "IfcBeam",
         "opacity": 0.5,
         "showscale": false,
         "type": "mesh3d",
         "x": {
          "bdata": "GeWI7XxbIkAZ5YjtfFsiQBjliO182yFAGOWI7XzbIUAY5YjtfNshQBjliO182yFAGeWI7XxbIkAZ5YjtfFsiQA==",
          "dtype": "f8"
         },
         "y": {
          "bdata": "UMLQzLsrDkBY9ryi3R3ov1j2vKLdHei/UMLQzLsrDkBY9ryi3R3ov1DC0My7Kw5AWPa8ot0d6L9QwtDMuysOQA==",
          "dtype": "f8"
         },
         "z": {
          "bdata": "zszMzMzMBEDOzMzMzMwEQM7MzMzMzARAzszMzMzMBEBkZmZmZmYCQGRmZmZmZgJAZGZmZmZmAkBkZmZmZmYCQA==",
          "dtype": "f8"
         }
        },
        {
         "color": "blue",
         "i": {
          "bdata": "AQICBAQGBgEDAAQE",
          "dtype": "i1"
         },
         "j": {
          "bdata": "AAEDAgUEBwYABwEG",
          "dtype": "i1"
         },
         "k": {
          "bdata": "AwMFBQcHAAAFBQIB",
          "dtype": "i1"
         },
         "name": "IfcBeam",
         "opacity": 0.5,
         "showscale": false,
         "type": "mesh3d",
         "x": {
          "bdata": "E+WI7XxbIkAT5YjtfFsiQBPliO182yFAE+WI7XzbIUAS5YjtfNshQBLliO182yFAFOWI7XxbIkAU5YjtfFsiQA==",
          "dtype": "f8"
         },
         "y": {
          "bdata": "juHEN1V18r+rFNOjgd4KwKsU06OB3grAjuHEN1V18r+rFNOjgd4KwI7hxDdVdfK/qxTTo4HeCsCO4cQ3VXXyvw==",
          "dtype": "f8"
         },
         "z": {
          "bdata": "zszMzMzMBEDOzMzMzMwEQM7MzMzMzARAzszMzMzMBEBkZmZmZmYCQGRmZmZmZgJAZGZmZmZmAkBkZmZmZmYCQA==",
          "dtype": "f8"
         }
        },
        {
         "color": "blue",
         "i": {
          "bdata": "AgIIBQUFCQkODg4KCgcHBQUQDQgHCwsPAgMQEAEB",
          "dtype": "i1"
         },
         "j": {
          "bdata": "AAMGCAYKCgwNAgkOCQYKDAQMDBAPDg8QDQIPAAAP",
          "dtype": "i1"
         },
         "k": {
          "bdata": "AQAHBAgGBQ0CAQ0LDgoLCQwEEAQIDwcIEBAAAw8O",
          "dtype": "i1"
         },
         "name": "IfcBeam",
         "opacity": 0.5,
         "showscale": false,
         "type": "mesh3d",
         "x": {
          "bdata": "XpJ3PzX6JkBeknc/NfomQHegA+BaayJAd6AD4FprIkAa5YjtfFsiQBrliO18WyJAgkvvU+PBLECCS+9T48EsQCWjuYansyRAGuWI7XxbIkCCS+9T48EsQIJL71PjwSxAGuWI7XxbIkB3oAPgWmsiQF6Sdz81+iZAXpJ3PzX6JkB3oAPgWmsiQA==",
          "dtype": "f8"
         },
         "y": {
          "bdata": "7wRt7EFjEECCx85MRHwQQIvHzkxEfBBA9wRt7EFjEEAMj52ZiPgOQAyPnZmI+A5A5o6dmYj4DkDmjp2ZiPgOQASPnZmI+A5Ai8fOTER8EEB3x85MRHwQQHfHzkxEfBBAi8fOTER8EECLx85MRHwQQILHzkxEfBBA7wRt7EFjEED3BG3sQWMQQA==",
          "dtype": "f8"
         },
         "z": {
          "bdata": "6mdmZmZmBkBmZmZmZmYGQGZmZmZmZgZA6mdmZmZmBkBZ0czMzMwEQGZmZmZmZgJAZmZmZmZmAkBZ0czMzMwEQFnRzMzMzARAZmZmZmZmAkBmZmZmZmYCQFnRzMzMzARAWdHMzMzMBEBZ0czMzMwEQFnRzMzMzARAWdHMzMzMBEBZ0czMzMwEQA==",
          "dtype": "f8"
         }
        },
        {
         "color": "blue",
         "i": {
          "bdata": "AQICBAQGBgEDAAQE",
          "dtype": "i1"
         },
         "j": {
          "bdata": "AAEDAgUEBwYABwEG",
          "dtype": "i1"
         },
         "k": {
          "bdata": "AwMFBQcHAAAFBQIB",
          "dtype": "i1"
         },
         "name": "IfcBeam",
         "opacity": 0.5,
         "showscale": false,
         "type": "mesh3d",
         "x": {
          "bdata": "E+WI7XxbIkB7S+9T48EsQHtL71PjwSxAE+WI7XxbIkB7S+9T48EsQBPliO18WyJAe0vvU+PBLEAT5YjtfFsiQA==",
          "dtype": "f8"
         },
         "y": {
          "bdata": "VK5sPRt4DcBUrmw9G3gNwJGubD0beA3Aka5sPRt4DcCHrmw9G3gLwIeubD0beAvAR65sPRt4C8BHrmw9G3gLwA==",
          "dtype": "f8"
         },
         "z": {
          "bdata": "JM/MzMzMBEAkz8zMzMwEQDFkZmZmZgJAMWRmZmZmAkAPZGZmZmYCQA9kZmZmZgJAAs/MzMzMBEACz8zMzMwEQA==",
          "dtype": "f8"
         }
        },
        {
         "color": "blue",
         "i": {
          "bdata": "AQICBAQGBgEDAAQECQoKDAwODgkLCAwM",
          "dtype": "i1"
         },
         "j": {
          "bdata": "AAEDAgUEBwYABwEGCAkLCg0MDw4IDwkO",
          "dtype": "i1"
         },
         "k": {
          "bdata": "AwMFBQcHAAAFBQIBCwsNDQ8PCAgNDQoJ",
          "dtype": "i1"
         },
         "name": "IfcBeam",
         "opacity": 0.5,
         "showscale": false,
         "type": "mesh3d",
         "x": {
          "bdata": "vFXG91M/LUB9S+9T40EtQH1L71PjQS1AvFXG91M/LUB9S+9T40EtQLxVxvdTPy1AfUvvU+NBLUC8Vcb3Uz8tQOCxVbpJaCJAILwsXrqlLEAgvCxeuqUsQOCxVbpJaCJAILwsXrqlLEDgsVW6SWgiQCC8LF66pSxA4LFVukloIkA=",
          "dtype": "f8"
         },
         "y": {
          "bdata": "FK+RBCJC8b8Ur5EEIkLxvxWvkQQiQvG/Fa+RBCJC8b8NXiMJRITqvw1eIwlEhOq/DF4jCUSE6r8MXiMJRITqv3qukQQiQvG/eq6RBCJC8b/nrpEEIkLxv+eukQQiQvG/r10jCUSE6r+vXSMJRITqv8hcIwlEhOq/yFwjCUSE6r8=",
          "dtype": "f8"
         },
         "z": {
          "bdata": "Z2ZmZmZmBkBnZmZmZmYGQGdmZmZmZgJAZ2ZmZmZmAkBnZmZmZmYCQGdmZmZmZgJAZ2ZmZmZmBkBnZmZmZmYGQN7MzMzMzARA3szMzMzMBEB0ZmZmZmYCQHRmZmZmZgJAVWZmZmZmAkBVZmZmZmYCQL/MzMzMzARAv8zMzMzMBEA=",
          "dtype": "f8"
         }
        },
        {
         "color": "blue",
         "i": {
          "bdata": "AwIHBwsFBQgCAgwMAgIKCgYGDQ0AAAQM",
          "dtype": "i1"
         },
         "j": {
          "bdata": "AAMEBQkLCAkJAQgFDAgJAQsNAwsNAwcE",
          "dtype": "i1"
         },
         "k": {
          "bdata": "AQEFBgoGCwsICQUEAwwBAA0HDAoKDQ0N",
          "dtype": "i1"
         },
         "name": "IfcBeam",
         "opacity": 0.5,
         "showscale": false,
         "type": "mesh3d",
         "x": {
          "bdata": "u1XG91M/LUB8S+9T40EtQIBL71PjQS1Ahl3K91M/LUB+S+9T48EsQH5L71PjwSxAekvvU+PBLEB6S+9T48EsQIBL71PjQS1AfEvvU+NBLUC7Vcb3Uz8tQLtVxvdTPy1Ahl3K91M/LUC7Vcb3Uz8tQA==",
          "dtype": "f8"
         },
         "y": {
          "bdata": "aV0jCUSE6r9rXSMJRITqvyXC0My7Kw5AJcLQzLsrDkAlwtDMuysOQCXC0My7Kw5A8/a8ot0d6L/z9ryi3R3ovyXC0My7Kw5AaV0jCUSE6r9pXSMJRITqv/L2vKLdHei/JcLQzLsrDkDy9ryi3R3ovw==",
          "dtype": "f8"
         },
         "z": {
          "bdata": "Z2ZmZmZmBkBnZmZmZmYGQGdmZmZmZgZAZ2ZmZmZmBkDQzMzMzMwEQGZmZmZmZgJAZmZmZmZmAkDQzMzMzMwEQGZmZmZmZgJAZmZmZmZmAkBmZmZmZmYCQGZmZmZmZgJA0MzMzMzMBEDQzMzMzMwEQA==",
          "dtype": "f8"
         }
        },
        {
         "color": "blue",
         "i": {
          "bdata": "AgIHBwoLBQgCAgwGCQkCAg0NDQMAAA0N",
          "dtype": "i1"
         },
         "j": {
          "bdata": "AAMEBQkICgkBCQEMDAEICwoFCwsNAwcE",
          "dtype": "i1"
         },
         "k": {
          "bdata": "AQAFBgYKBgoJCAAHBgwLAwUECg0MDQwH",
          "dtype": "i1"
         },
         "name": "IfcBeam",
         "opacity": 0.5,
         "showscale": false,
         "type": "mesh3d",
         "x": {
          "bdata": "f13K91M/LUB6S+9T40EtQHxL71PjQS1Au1XG91M/LUB6S+9T48EsQHpL71PjwSxAeEvvU+PBLEB4S+9T48EsQHxL71PjQS1AekvvU+NBLUC7Vcb3Uz8tQLtVxvdTPy1Af13K91M/LUC7Vcb3Uz8tQA==",
          "dtype": "f8"
         },
         "y": {
          "bdata": "0hTTo4HeCsDSFNOjgd4KwMSukQQiQvG/xK6RBCJC8b/g4cQ3VXXyv+DhxDdVdfK/0hTTo4HeCsDSFNOjgd4KwMSukQQiQvG/0hTTo4HeCsDg4cQ3VXXyv8SukQQiQvG/0hTTo4HeCsDg4cQ3VXXyvw==",
          "dtype": "f8"
         },
         "z": {
          "bdata": "Z2ZmZmZmBkBnZmZmZmYGQGdmZmZmZgZAZ2ZmZmZmBkDQzMzMzMwEQGZmZmZmZgJAZmZmZmZmAkDQzMzMzMwEQGZmZmZmZgJAZmZmZmZmAkBmZmZmZmYCQGZmZmZmZgJA0MzMzMzMBEDQzMzMzMwEQA==",
          "dtype": "f8"
         }
        },
        {
         "color": "blue",
         "i": {
          "bdata": "AQICBAQGBgEDAAQE",
          "dtype": "i1"
         },
         "j": {
          "bdata": "AAEDAgUEBwYABwEG",
          "dtype": "i1"
         },
         "k": {
          "bdata": "AwMFBQcHAAAFBQIB",
          "dtype": "i1"
         },
         "name": "IfcBeam",
         "opacity": 0.5,
         "showscale": false,
         "type": "mesh3d",
         "x": {
          "bdata": "rD0f+n6K+7/K+okcWtQLQMr6iRxa1AtArD0f+n6K+7/K+okcWtQLQKw9H/p+ivu/yvqJHFrUC0CsPR/6for7vw==",
          "dtype": "f8"
         },
         "y": {
          "bdata": "oMLQzLsrD0CgwtDMuysPQFfC0My7Kw9AV8LQzLsrD0D9LTWzqmIQQP0tNbOqYhBADy41s6piEEAPLjWzqmIQQA==",
          "dtype": "f8"
         },
         "z": {
          "bdata": "AAAAAABAAj0AAAAAAEACPXSYmZmZmcm/dJiZmZmZyb++mpmZmZnJv76amZmZmcm/AAAAAABQAr0AAAAAAFACvQ==",
          "dtype": "f8"
         }
        },
        {
         "color": "blue",
         "i": {
          "bdata": "AQICBAQGBgEDAAQE",
          "dtype": "i1"
         },
         "j": {
          "bdata": "AAEDAgUEBwYABwEG",
          "dtype": "i1"
         },
         "k": {
          "bdata": "AwMFBQcHAAAFBQIB",
          "dtype": "i1"
         },
         "name": "IfcBeam",
         "opacity": 0.5,
         "showscale": false,
         "type": "mesh3d",
         "x": {
          "bdata": "3T0f+n6K+7+s+okcWtQLQKz6iRxa1AtA3T0f+n6K+7+s+okcWtQLQN09H/p+ivu/rPqJHFrUC0DdPR/6for7vw==",
          "dtype": "f8"
         },
         "y": {
          "bdata": "uXo5CuhEDcC5ejkK6EQNwAx7OQroRA3ADHs5CuhEDcBq4Z9wTqsLwGrhn3BOqwvAQeGfcE6rC8BB4Z9wTqsLwA==",
          "dtype": "f8"
         },
         "z": {
          "bdata": "AAAAAACwBD0AAAAAALAEPU2YmZmZmcm/TZiZmZmZyb/kmpmZmZnJv+SamZmZmcm/AAAAAADABL0AAAAAAMAEvQ==",
          "dtype": "f8"
         }
        },
        {
         "color": "blue",
         "i": {
          "bdata": "AQICBAQGBgEDAAQE",
          "dtype": "i1"
         },
         "j": {
          "bdata": "AAEDAgUEBwYABwEG",
          "dtype": "i1"
         },
         "k": {
          "bdata": "AwMFBQcHAAAFBQIB",
          "dtype": "i1"
         },
         "name": "IfcBeam",
         "opacity": 0.5,
         "showscale": false,
         "type": "mesh3d",
         "x": {
          "bdata": "33BSLbK9+r+Cx1bpJqELQILHVukmoQtA33BSLbK9+r+Cx1bpJqELQN9wUi2yvfq/gsdW6SahC0DfcFItsr36vw==",
          "dtype": "f8"
         },
         "y": {
          "bdata": "S0crnrvb8L9LRyueu9vwv+BHK5672/C/4Ecrnrvb8L87KfDVEFHrvzsp8NUQUeu/pijw1RBR67+mKPDVEFHrvw==",
          "dtype": "f8"
         },
         "z": {
          "bdata": "AAAAAACQAj0AAAAAAJACPXCYmZmZmcm/cJiZmZmZyb/CmpmZmZnJv8KamZmZmcm/AAAAAACgAr0AAAAAAKACvQ==",
          "dtype": "f8"
         }
        },
        {
         "color": "blue",
         "i": {
          "bdata": "AQICBAQGBgEDAAQE",
          "dtype": "i1"
         },
         "j": {
          "bdata": "AAEDAgUEBwYABwEG",
          "dtype": "i1"
         },
         "k": {
          "bdata": "AwMFBQcHAAAFBQIB",
          "dtype": "i1"
         },
         "name": "IfcBeam",
         "opacity": 0.5,
         "showscale": false,
         "type": "mesh3d",
         "x": {
          "bdata": "G6SFYOXw+78bpIVg5fD7v1zXuJMYJP+/XNe4kxgk/79d17iTGCT/v13XuJMYJP+/GqSFYOXw+78apIVg5fD7vw==",
          "dtype": "f8"
         },
         "y": {
          "bdata": "ocLQzLsrDkAc9byi3R3ovxz1vKLdHei/ocLQzLsrDkAc9byi3R3ov6HC0My7Kw5AHPW8ot0d6L+hwtDMuysOQA==",
          "dtype": "f8"
         },
         "z": {
          "bdata": "AAAAAAAAAAAAAAAAAAAAAAAAAAAAAHC8AAAAAAAAcLyZmZmZmZnJv5mZmZmZmcm/mZmZmZmZyb+ZmZmZmZnJvw==",
          "dtype": "f8"
         }
        },
        {
         "color": "blue",
         "i": {
          "bdata": "AQICBAQGBgEDAAQE",
          "dtype": "i1"
         },
         "j": {
          "bdata": "AAEDAgUEBwYABwEG",
          "dtype": "i1"
         },
         "k": {
          "bdata": "AwMFBQcHAAAFBQIB",
          "dtype": "i1"
         },
         "name": "IfcBeam",
         "opacity": 0.5,
         "showscale": false,
         "type": "mesh3d",
         "x": {
          "bdata": "NqSFYOXw+782pIVg5fD7v3fXuJMYJP+/d9e4kxgk/79417iTGCT/v3jXuJMYJP+/NaSFYOXw+781pIVg5fD7vw==",
          "dtype": "f8"
         },
         "y": {
          "bdata": "8eDEN1V18r8o4Z9wTqsKwCjhn3BOqwrA8eDEN1V18r8o4Z9wTqsKwPHgxDdVdfK/KOGfcE6rCsDx4MQ3VXXyvw==",
          "dtype": "f8"
         },
         "z": {
          "bdata": "AAAAAAAAAAAAAAAAAAAAAAAAAAAAAHC8AAAAAAAAcLyZmZmZmZnJv5mZmZmZmcm/mZmZmZmZyb+ZmZmZmZnJvw==",
          "dtype": "f8"
         }
        },
        {
         "color": "blue",
         "i": {
          "bdata": "AQICBAQGBgEDAAQE",
          "dtype": "i1"
         },
         "j": {
          "bdata": "AAEDAgUEBwYABwEG",
          "dtype": "i1"
         },
         "k": {
          "bdata": "AwMFBQcHAAAFBQIB",
          "dtype": "i1"
         },
         "name": "IfcBeam",
         "opacity": 0.5,
         "showscale": false,
         "type": "mesh3d",
         "x": {
          "bdata": "ksdW6SahDUCSx1bpJqENQPAtvU+NBwxA8C29T40HDEDwLb1PjQcMQPAtvU+NBwxAkcdW6SahDUCRx1bpJqENQA==",
          "dtype": "f8"
         },
         "y": {
          "bdata": "d8LQzLsrDkC09byi3R3ov7T1vKLdHei/d8LQzLsrDkC09byi3R3ov3fC0My7Kw5AtPW8ot0d6L93wtDMuysOQA==",
          "dtype": "f8"
         },
         "z": {
          "bdata": "AAAAAAAAAAAAAAAAAAAAAAAAAAAAAHC8AAAAAAAAcLyZmZmZmZnJv5mZmZmZmcm/mZmZmZmZyb+ZmZmZmZnJvw==",
          "dtype": "f8"
         }
        },
        {
         "color": "blue",
         "i": {
          "bdata": "AQICBAQGBgEDAAQE",
          "dtype": "i1"
         },
         "j": {
          "bdata": "AAEDAgUEBwYABwEG",
          "dtype": "i1"
         },
         "k": {
          "bdata": "AwMFBQcHAAAFBQIB",
          "dtype": "i1"
         },
         "name": "IfcBeam",
         "opacity": 0.5,
         "showscale": false,
         "type": "mesh3d",
         "x": {
          "bdata": "gMdW6SahDUCAx1bpJqENQN4tvU+NBwxA3i29T40HDEDeLb1PjQcMQN4tvU+NBwxAf8dW6SahDUB/x1bpJqENQA==",
          "dtype": "f8"
         },
         "y": {
          "bdata": "P+HEN1V18r+CFNOjgd4KwIIU06OB3grAP+HEN1V18r+CFNOjgd4KwD/hxDdVdfK/ghTTo4HeCsA/4cQ3VXXyvw==",
          "dtype": "f8"
         },
         "z": {
          "bdata": "AAAAAAAAAAAAAAAAAAAAAAAAAAAAAHC8AAAAAAAAcLyZmZmZmZnJv5mZmZmZmcm/mZmZmZmZyb+ZmZmZmZnJvw==",
          "dtype": "f8"
         }
        },
        {
         "color": "blue",
         "i": {
          "bdata": "AQICBAQGBgEDAAQE",
          "dtype": "i1"
         },
         "j": {
          "bdata": "AAEDAgUEBwYABwEG",
          "dtype": "i1"
         },
         "k": {
          "bdata": "AwMFBQcHAAAFBQIB",
          "dtype": "i1"
         },
         "name": "IfcBeam",
         "opacity": 0.5,
         "showscale": false,
         "type": "mesh3d",
         "x": {
          "bdata": "yPqJHFrUDUAa5YjtfNshQBrliO182yFAyPqJHFrUDUAa5YjtfNshQMj6iRxa1A1AGuWI7XzbIUDI+okcWtQNQA==",
          "dtype": "f8"
         },
         "y": {
          "bdata": "eMLQzLsrD0B4wtDMuysPQC/C0My7Kw9AL8LQzLsrD0DpLTWzqmIQQOktNbOqYhBA+y01s6piEED7LTWzqmIQQA==",
          "dtype": "f8"
         },
         "z": {
          "bdata": "AAAAAABAAj0AAAAAAEACPXSYmZmZmcm/dJiZmZmZyb++mpmZmZnJv76amZmZmcm/AAAAAABQAr0AAAAAAFACvQ==",
          "dtype": "f8"
         }
        },
        {
         "color": "blue",
         "i": {
          "bdata": "AQICBAQGBgEDAAQE",
          "dtype": "i1"
         },
         "j": {
          "bdata": "AAEDAgUEBwYABwEG",
          "dtype": "i1"
         },
         "k": {
          "bdata": "AwMFBQcHAAAFBQIB",
          "dtype": "i1"
         },
         "name": "IfcBeam",
         "opacity": 0.5,
         "showscale": false,
         "type": "mesh3d",
         "x": {
          "bdata": "rPqJHFrUDUAT5YjtfNshQBPliO182yFArPqJHFrUDUAT5YjtfNshQKz6iRxa1A1AE+WI7XzbIUCs+okcWtQNQA==",
          "dtype": "f8"
         },
         "y": {
          "bdata": "4no5CuhEDcDiejkK6EQNwDR7OQroRA3ANHs5CuhEDcCS4Z9wTqsLwJLhn3BOqwvAaeGfcE6rC8Bp4Z9wTqsLwA==",
          "dtype": "f8"
         },
         "z": {
          "bdata": "AAAAAACwBD0AAAAAALAEPU2YmZmZmcm/TZiZmZmZyb/kmpmZmZnJv+SamZmZmcm/AAAAAADABL0AAAAAAMAEvQ==",
          "dtype": "f8"
         }
        },
        {
         "color": "blue",
         "i": {
          "bdata": "AQICBAQGBgEDAAQE",
          "dtype": "i1"
         },
         "j": {
          "bdata": "AAEDAgUEBwYABwEG",
          "dtype": "i1"
         },
         "k": {
          "bdata": "AwMFBQcHAAAFBQIB",
          "dtype": "i1"
         },
         "name": "IfcBeam",
         "opacity": 0.5,
         "showscale": false,
         "type": "mesh3d",
         "x": {
          "bdata": "6i29T40HDkBIGLwgsM4hQEgYvCCwziFA6i29T40HDkBIGLwgsM4hQOotvU+NBw5ASBi8ILDOIUDqLb1PjQcOQA==",
          "dtype": "f8"
         },
         "y": {
          "bdata": "m0crnrvb8L+bRyueu9vwvzFIK5672/C/MUgrnrvb8L/dKfDVEFHrv90p8NUQUeu/SCnw1RBR679IKfDVEFHrvw==",
          "dtype": "f8"
         },
         "z": {
          "bdata": "AAAAAAC4Aj0AAAAAALgCPW2YmZmZmcm/bZiZmZmZyb/FmpmZmZnJv8WamZmZmcm/AAAAAADIAr0AAAAAAMgCvQ==",
          "dtype": "f8"
         }
        },
        {
         "color": "blue",
         "i": {
          "bdata": "AQICBAQGBgEDAAQE",
          "dtype": "i1"
         },
         "j": {
          "bdata": "AAEDAgUEBwYABwEG",
          "dtype": "i1"
         },
         "k": {
          "bdata": "AwMFBQcHAAAFBQIB",
          "dtype": "i1"
         },
         "name": "IfcBeam",
         "opacity": 0.5,
         "showscale": false,
         "type": "mesh3d",
         "x": {
          "bdata": "TRi8ILBOIkBNGLwgsE4iQOWxVbpJ6CFA5bFVuknoIUDlsVW6SeghQOWxVbpJ6CFATRi8ILBOIkBNGLwgsE4iQA==",
          "dtype": "f8"
         },
         "y": {
          "bdata": "TsLQzLsrDkBY9ryi3R3ov1j2vKLdHei/TsLQzLsrDkBY9ryi3R3ov07C0My7Kw5AWPa8ot0d6L9OwtDMuysOQA==",
          "dtype": "f8"
         },
         "z": {
          "bdata": "AAAAAAAAAAAAAAAAAAAAAAAAAAAAAHC8AAAAAAAAcLyZmZmZmZnJv5mZmZmZmcm/mZmZmZmZyb+ZmZmZmZnJvw==",
          "dtype": "f8"
         }
        },
        {
         "color": "blue",
         "i": {
          "bdata": "AQICBAQGBgEDAAQE",
          "dtype": "i1"
         },
         "j": {
          "bdata": "AAEDAgUEBwYABwEG",
          "dtype": "i1"
         },
         "k": {
          "bdata": "AwMFBQcHAAAFBQIB",
          "dtype": "i1"
         },
         "name": "IfcBeam",
         "opacity": 0.5,
         "showscale": false,
         "type": "mesh3d",
         "x": {
          "bdata": "Rxi8ILBOIkBHGLwgsE4iQOCxVbpJ6CFA4LFVuknoIUDfsVW6SeghQN+xVbpJ6CFASBi8ILBOIkBIGLwgsE4iQA==",
          "dtype": "f8"
         },
         "y": {
          "bdata": "juHEN1V18r+qFNOjgd4KwKoU06OB3grAjuHEN1V18r+qFNOjgd4KwI7hxDdVdfK/qhTTo4HeCsCO4cQ3VXXyvw==",
          "dtype": "f8"
         },
         "z": {
          "bdata": "AAAAAAAAAAAAAAAAAAAAAAAAAAAAAHC8AAAAAAAAcLyZmZmZmZnJv5mZmZmZmcm/mZmZmZmZyb+ZmZmZmZnJvw==",
          "dtype": "f8"
         }
        },
        {
         "color": "blue",
         "i": {
          "bdata": "AQICBAQGBgEDAAQE",
          "dtype": "i1"
         },
         "j": {
          "bdata": "AAEDAgUEBwYABwEG",
          "dtype": "i1"
         },
         "k": {
          "bdata": "AwMFBQcHAAAFBQIB",
          "dtype": "i1"
         },
         "name": "IfcBeam",
         "opacity": 0.5,
         "showscale": false,
         "type": "mesh3d",
         "x": {
          "bdata": "GuWI7XxbIkCCS+9T48EsQIJL71PjwSxAGuWI7XxbIkCCS+9T48EsQBrliO18WyJAgkvvU+PBLEAa5YjtfFsiQA==",
          "dtype": "f8"
         },
         "y": {
          "bdata": "UcLQzLsrD0BRwtDMuysPQAfC0My7Kw9AB8LQzLsrD0DULTWzqmIQQNQtNbOqYhBA5i01s6piEEDmLTWzqmIQQA==",
          "dtype": "f8"
         },
         "z": {
          "bdata": "AAAAAABAAj0AAAAAAEACPXSYmZmZmcm/dJiZmZmZyb++mpmZmZnJv76amZmZmcm/AAAAAABQAr0AAAAAAFACvQ==",
          "dtype": "f8"
         }
        },
        {
         "color": "blue",
         "i": {
          "bdata": "AQICBAQGBgEDAAQE",
          "dtype": "i1"
         },
         "j": {
          "bdata": "AAEDAgUEBwYABwEG",
          "dtype": "i1"
         },
         "k": {
          "bdata": "AwMFBQcHAAAFBQIB",
          "dtype": "i1"
         },
         "name": "IfcBeam",
         "opacity": 0.5,
         "showscale": false,
         "type": "mesh3d",
         "x": {
          "bdata": "E+WI7XxbIkB7S+9T48EsQHtL71PjwSxAE+WI7XxbIkB7S+9T48EsQBPliO18WyJAe0vvU+PBLEAT5YjtfFsiQA==",
          "dtype": "f8"
         },
         "y": {
          "bdata": "C3s5CuhEDcALezkK6EQNwF17OQroRA3AXXs5CuhEDcC74Z9wTqsLwLvhn3BOqwvAkuGfcE6rC8CS4Z9wTqsLwA==",
          "dtype": "f8"
         },
         "z": {
          "bdata": "AAAAAACwBD0AAAAAALAEPU2YmZmZmcm/TZiZmZmZyb/kmpmZmZnJv+SamZmZmcm/AAAAAADABL0AAAAAAMAEvQ==",
          "dtype": "f8"
         }
        },
        {
         "color": "blue",
         "i": {
          "bdata": "AQICBAQGBgEDAAQE",
          "dtype": "i1"
         },
         "j": {
          "bdata": "AAEDAgUEBwYABwEG",
          "dtype": "i1"
         },
         "k": {
          "bdata": "AwMFBQcHAAAFBQIB",
          "dtype": "i1"
         },
         "name": "IfcBeam",
         "opacity": 0.5,
         "showscale": false,
         "type": "mesh3d",
         "x": {
          "bdata": "4bFVukloIkAhvCxeuqUsQCG8LF66pSxA4bFVukloIkAhvCxeuqUsQOGxVbpJaCJAIbwsXrqlLEDhsVW6SWgiQA==",
          "dtype": "f8"
         },
         "y": {
          "bdata": "60crnrvb8L/rRyueu9vwv4BIK5672/C/gEgrnrvb8L98KvDVEFHrv3wq8NUQUeu/6Cnw1RBR67/oKfDVEFHrvw==",
          "dtype": "f8"
         },
         "z": {
          "bdata": "AAAAAACQAj0AAAAAAJACPXCYmZmZmcm/cJiZmZmZyb/CmpmZmZnJv8KamZmZmcm/AAAAAACgAr0AAAAAAKACvQ==",
          "dtype": "f8"
         }
        },
        {
         "color": "blue",
         "i": {
          "bdata": "AQICBAQGBgEDAAQE",
          "dtype": "i1"
         },
         "j": {
          "bdata": "AAEDAgUEBwYABwEG",
          "dtype": "i1"
         },
         "k": {
          "bdata": "AwMFBQcHAAAFBQIB",
          "dtype": "i1"
         },
         "name": "IfcBeam",
         "opacity": 0.5,
         "showscale": false,
         "type": "mesh3d",
         "x": {
          "bdata": "s34ihxY1LUCzfiKHFjUtQEsYvCCwzixASxi8ILDOLEBKGLwgsM4sQEoYvCCwzixAtH4ihxY1LUC0fiKHFjUtQA==",
          "dtype": "f8"
         },
         "y": {
          "bdata": "JcLQzLsrDkD09ryi3R3ov/T2vKLdHei/JcLQzLsrDkD09ryi3R3ovyXC0My7Kw5A9Pa8ot0d6L8lwtDMuysOQA==",
          "dtype": "f8"
         },
         "z": {
          "bdata": "AAAAAAAAAAAAAAAAAAAAAAAAAAAAAHC8AAAAAAAAcLyZmZmZmZnJv5mZmZmZmcm/mZmZmZmZyb+ZmZmZmZnJvw==",
          "dtype": "f8"
         }
        },
        {
         "color": "blue",
         "i": {
          "bdata": "AQICBAQGBgEDAAQE",
          "dtype": "i1"
         },
         "j": {
          "bdata": "AAEDAgUEBwYABwEG",
          "dtype": "i1"
         },
         "k": {
          "bdata": "AwMFBQcHAAAFBQIB",
          "dtype": "i1"
         },
         "name": "IfcBeam",
         "opacity": 0.5,
         "showscale": false,
         "type": "mesh3d",
         "x": {
          "bdata": "r34ihxY1LUCvfiKHFjUtQEYYvCCwzixARhi8ILDOLEBGGLwgsM4sQEYYvCCwzixAr34ihxY1LUCvfiKHFjUtQA==",
          "dtype": "f8"
         },
         "y": {
          "bdata": "3uHEN1V18r/TFNOjgd4KwNMU06OB3grA3uHEN1V18r/TFNOjgd4KwN7hxDdVdfK/0xTTo4HeCsDe4cQ3VXXyvw==",
          "dtype": "f8"
         },
         "z": {
          "bdata": "AAAAAAAAAAAAAAAAAAAAAAAAAAAAAHC8AAAAAAAAcLyZmZmZmZnJv5mZmZmZmcm/mZmZmZmZyb+ZmZmZmZnJvw==",
          "dtype": "f8"
         }
        },
        {
         "color": "blue",
         "i": {
          "bdata": "AQICBAQGBgEDAAQE",
          "dtype": "i1"
         },
         "j": {
          "bdata": "AAEDAgUEBwYABwEG",
          "dtype": "i1"
         },
         "k": {
          "bdata": "AwMFBQcHAAAFBQIB",
          "dtype": "i1"
         },
         "name": "IfcBeam",
         "opacity": 0.5,
         "showscale": false,
         "type": "mesh3d",
         "x": {
          "bdata": "sT0f+n6K+7/K+okcWtQLQMr6iRxa1AtAsT0f+n6K+7/K+okcWtQLQLE9H/p+ivu/yvqJHFrUC0CxPR/6for7vw==",
          "dtype": "f8"
         },
         "y": {
          "bdata": "XI+dmYj4DkBcj52ZiPgOQCSPnZmI+A5AJI+dmYj4DkCXx85MRHwQQJfHzkxEfBBAssfOTER8EECyx85MRHwQQA==",
          "dtype": "f8"
         },
         "z": {
          "bdata": "xJqZmZmZFUDEmpmZmZkVQEplZmZmZhRASmVmZmZmFEA7ZWZmZmYUQDtlZmZmZhRAtZqZmZmZFUC1mpmZmZkVQA==",
          "dtype": "f8"
         }
        },
        {
         "color": "blue",
         "i": {
          "bdata": "AQICBAQGBgEDAAQE",
          "dtype": "i1"
         },
         "j": {
          "bdata": "AAEDAgUEBwYABwEG",
          "dtype": "i1"
         },
         "k": {
          "bdata": "AwMFBQcHAAAFBQIB",
          "dtype": "i1"
         },
         "name": "IfcBeam",
         "opacity": 0.5,
         "showscale": false,
         "type": "mesh3d",
         "x": {
          "bdata": "3T0f+n6K+7+s+okcWtQLQKz6iRxa1AtA3T0f+n6K+7+s+okcWtQLQN09H/p+ivu/rPqJHFrUC0DdPR/6for7vw==",
          "dtype": "f8"
         },
         "y": {
          "bdata": "Bq5sPRt4DcAGrmw9G3gNwECubD0beA3AQK5sPRt4DcA3rmw9G3gLwDeubD0beAvA9q1sPRt4C8D2rWw9G3gLwA==",
          "dtype": "f8"
         },
         "z": {
          "bdata": "xZqZmZmZFUDFmpmZmZkVQEtlZmZmZhRAS2VmZmZmFEA6ZWZmZmYUQDplZmZmZhRAtJqZmZmZFUC0mpmZmZkVQA==",
          "dtype": "f8"
         }
        },
        {
         "color": "blue",
         "i": {
          "bdata": "AQICBAQGBgEDAAQE",
          "dtype": "i1"
         },
         "j": {
          "bdata": "AAEDAgUEBwYABwEG",
          "dtype": "i1"
         },
         "k": {
          "bdata": "AwMFBQcHAAAFBQIB",
          "dtype": "i1"
         },
         "name": "IfcBeam",
         "opacity": 0.5,
         "showscale": false,
         "type": "mesh3d",
         "x": {
          "bdata": "33BSLbK9+r+Gx1bpJqELQIbHVukmoQtA33BSLbK9+r+Gx1bpJqELQN9wUi2yvfq/hsdW6SahC0DfcFItsr36vw==",
          "dtype": "f8"
         },
         "y": {
          "bdata": "2a2RBCJC8b/ZrZEEIkLxv0eukQQiQvG/R66RBCJC8b9vXCMJRITqv29cIwlEhOq/hlsjCUSE6r+GWyMJRITqvw==",
          "dtype": "f8"
         },
         "z": {
          "bdata": "opmZmZmZFUCimZmZmZkVQGxmZmZmZhRAbGZmZmZmFEBdZmZmZmYUQF1mZmZmZhRAkpmZmZmZFUCSmZmZmZkVQA==",
          "dtype": "f8"
         }
        },
        {
         "color": "blue",
         "i": {
          "bdata": "AQICBAQGBgEDAAQE",
          "dtype": "i1"
         },
         "j": {
          "bdata": "AAEDAgUEBwYABwEG",
          "dtype": "i1"
         },
         "k": {
          "bdata": "AwMFBQcHAAAFBQIB",
          "dtype": "i1"
         },
         "name": "IfcBeam",
         "opacity": 0.5,
         "showscale": false,
         "type": "mesh3d",
         "x": {
          "bdata": "tT0f+n6K+7+1PR/6for7v8I9H/p+iv+/wj0f+n6K/7/EPR/6for/v8Q9H/p+iv+/tD0f+n6K+7+0PR/6for7vw==",
          "dtype": "f8"
         },
         "y": {
          "bdata": "ocLQzLsrDkAc9byi3R3ovxz1vKLdHei/ocLQzLsrDkAc9byi3R3ov6HC0My7Kw5AHPW8ot0d6L+hwtDMuysOQA==",
          "dtype": "f8"
         },
         "z": {
          "bdata": "m5mZmZmZFUCbmZmZmZkVQJuZmZmZmRVAm5mZmZmZFUBmZmZmZmYUQGZmZmZmZhRAZmZmZmZmFEBmZmZmZmYUQA==",
          "dtype": "f8"
         }
        },
        {
         "color": "blue",
         "i": {
          "bdata": "AQICBAQGBgEDAwYE",
          "dtype": "i1"
         },
         "j": {
          "bdata": "AAEDAgUEBwYABwEG",
          "dtype": "i1"
         },
         "k": {
          "bdata": "AwMFBQcHAAAHBQIC",
          "dtype": "i1"
         },
         "name": "IfcBeam",
         "opacity": 0.5,
         "showscale": false,
         "type": "mesh3d",
         "x": {
          "bdata": "0D0f+n6K+7/QPR/6for7v909H/p+iv+/3T0f+n6K/7/fPR/6for/v989H/p+iv+/zz0f+n6K+7/PPR/6for7vw==",
          "dtype": "f8"
         },
         "y": {
          "bdata": "7+DEN1V18r8q4Z9wTqsKwCrhn3BOqwrA7+DEN1V18r8q4Z9wTqsKwO/gxDdVdfK/KuGfcE6rCsDv4MQ3VXXyvw==",
          "dtype": "f8"
         },
         "z": {
          "bdata": "mpmZmZmZFUCamZmZmZkVQJqZmZmZmRVAmpmZmZmZFUBlZmZmZmYUQGVmZmZmZhRAZmZmZmZmFEBmZmZmZmYUQA==",
          "dtype": "f8"
         }
        },
        {
         "color": "blue",
         "i": {
          "bdata": "AQICBAQGBgEDAAQE",
          "dtype": "i1"
         },
         "j": {
          "bdata": "AAEDAgUEBwYABwEG",
          "dtype": "i1"
         },
         "k": {
          "bdata": "AwMFBQcHAAAFBQIB",
          "dtype": "i1"
         },
         "name": "IfcBeam",
         "opacity": 0.5,
         "showscale": false,
         "type": "mesh3d",
         "x": {
          "bdata": "xvqJHFrUDUDG+okcWtQNQLz6iRxa1AtAvPqJHFrUC0C8+okcWtQLQLz6iRxa1AtAxPqJHFrUDUDE+okcWtQNQA==",
          "dtype": "f8"
         },
         "y": {
          "bdata": "d8LQzLsrDkC09byi3R3ov7T1vKLdHei/d8LQzLsrDkC09byi3R3ov3fC0My7Kw5AtPW8ot0d6L93wtDMuysOQA==",
          "dtype": "f8"
         },
         "z": {
          "bdata": "m5mZmZmZFUCbmZmZmZkVQJuZmZmZmRVAm5mZmZmZFUBmZmZmZmYUQGZmZmZmZhRAZmZmZmZmFEBmZmZmZmYUQA==",
          "dtype": "f8"
         }
        },
        {
         "color": "blue",
         "i": {
          "bdata": "AQICBAQGBgEDAAQE",
          "dtype": "i1"
         },
         "j": {
          "bdata": "AAEDAgUEBwYABwEG",
          "dtype": "i1"
         },
         "k": {
          "bdata": "AwMFBQcHAAAFBQIB",
          "dtype": "i1"
         },
         "name": "IfcBeam",
         "opacity": 0.5,
         "showscale": false,
         "type": "mesh3d",
         "x": {
          "bdata": "tPqJHFrUDUC0+okcWtQNQKr6iRxa1AtAqvqJHFrUC0Cq+okcWtQLQKr6iRxa1AtAs/qJHFrUDUCz+okcWtQNQA==",
          "dtype": "f8"
         },
         "y": {
          "bdata": "PuHEN1V18r+DFNOjgd4KwIMU06OB3grAPuHEN1V18r+DFNOjgd4KwD7hxDdVdfK/gxTTo4HeCsA+4cQ3VXXyvw==",
          "dtype": "f8"
         },
         "z": {
          "bdata": "m5mZmZmZFUCbmZmZmZkVQJuZmZmZmRVAm5mZmZmZFUBmZmZmZmYUQGZmZmZmZhRAZmZmZmZmFEBmZmZmZmYUQA==",
          "dtype": "f8"
         }
        },
        {
         "color": "blue",
         "i": {
          "bdata": "AQICBAQGBgEDAAQE",
          "dtype": "i1"
         },
         "j": {
          "bdata": "AAEDAgUEBwYABwEG",
          "dtype": "i1"
         },
         "k": {
          "bdata": "AwMFBQcHAAAFBQIB",
          "dtype": "i1"
         },
         "name": "IfcBeam",
         "opacity": 0.5,
         "showscale": false,
         "type": "mesh3d",
         "x": {
          "bdata": "xvqJHFrUDUAa5YjtfNshQBrliO182yFAxvqJHFrUDUAa5YjtfNshQMb6iRxa1A1AGuWI7XzbIUDG+okcWtQNQA==",
          "dtype": "f8"
         },
         "y": {
          "bdata": "NI+dmYj4DkA0j52ZiPgOQP2OnZmI+A5A/Y6dmYj4DkCDx85MRHwQQIPHzkxEfBBAnsfOTER8EECex85MRHwQQA==",
          "dtype": "f8"
         },
         "z": {
          "bdata": "xJqZmZmZFUDEmpmZmZkVQEplZmZmZhRASmVmZmZmFEA7ZWZmZmYUQDtlZmZmZhRAtZqZmZmZFUC1mpmZmZkVQA==",
          "dtype": "f8"
         }
        },
        {
         "color": "blue",
         "i": {
          "bdata": "AQICBAQGBgEDAAQE",
          "dtype": "i1"
         },
         "j": {
          "bdata": "AAEDAgUEBwYABwEG",
          "dtype": "i1"
         },
         "k": {
          "bdata": "AwMFBQcHAAAFBQIB",
          "dtype": "i1"
         },
         "name": "IfcBeam",
         "opacity": 0.5,
         "showscale": false,
         "type": "mesh3d",
         "x": {
          "bdata": "q/qJHFrUDUAT5YjtfNshQBPliO182yFAq/qJHFrUDUAT5YjtfNshQKv6iRxa1A1AE+WI7XzbIUCr+okcWtQNQA==",
          "dtype": "f8"
         },
         "y": {
          "bdata": "La5sPRt4DcAtrmw9G3gNwGiubD0beA3AaK5sPRt4DcBfrmw9G3gLwF+ubD0beAvAHa5sPRt4C8Adrmw9G3gLwA==",
          "dtype": "f8"
         },
         "z": {
          "bdata": "xZqZmZmZFUDFmpmZmZkVQEtlZmZmZhRAS2VmZmZmFEA6ZWZmZmYUQDplZmZmZhRAtJqZmZmZFUC0mpmZmZkVQA==",
          "dtype": "f8"
         }
        },
        {
         "color": "blue",
         "i": {
          "bdata": "AQICBAQGBgEDAAQE",
          "dtype": "i1"
         },
         "j": {
          "bdata": "AAEDAgUEBwYABwEG",
          "dtype": "i1"
         },
         "k": {
          "bdata": "AwMFBQcHAAAFBQIB",
          "dtype": "i1"
         },
         "name": "IfcBeam",
         "opacity": 0.5,
         "showscale": false,
         "type": "mesh3d",
         "x": {
          "bdata": "6i29T40HDkBIGLwgsM4hQEgYvCCwziFA6i29T40HDkBIGLwgsM4hQOotvU+NBw5ASBi8ILDOIUDqLb1PjQcOQA==",
          "dtype": "f8"
         },
         "y": {
          "bdata": "LK6RBCJC8b8srpEEIkLxv5iukQQiQvG/mK6RBCJC8b8RXSMJRITqvxFdIwlEhOq/LFwjCUSE6r8sXCMJRITqvw==",
          "dtype": "f8"
         },
         "z": {
          "bdata": "opmZmZmZFUCimZmZmZkVQGxmZmZmZhRAbGZmZmZmFEBdZmZmZmYUQF1mZmZmZhRAkpmZmZmZFUCSmZmZmZkVQA==",
          "dtype": "f8"
         }
        },
        {
         "color": "blue",
         "i": {
          "bdata": "AQICBAQGBgEDAAQE",
          "dtype": "i1"
         },
         "j": {
          "bdata": "AAEDAgUEBwYABwEG",
          "dtype": "i1"
         },
         "k": {
          "bdata": "AwMFBQcHAAAFBQIB",
          "dtype": "i1"
         },
         "name": "IfcBeam",
         "opacity": 0.5,
         "showscale": false,
         "type": "mesh3d",
         "x": {
          "bdata": "GeWI7XxbIkAZ5YjtfFsiQBjliO182yFAGOWI7XzbIUAY5YjtfNshQBjliO182yFAGeWI7XxbIkAZ5YjtfFsiQA==",
          "dtype": "f8"
         },
         "y": {
          "bdata": "UMLQzLsrDkBY9ryi3R3ov1j2vKLdHei/UMLQzLsrDkBY9ryi3R3ov1DC0My7Kw5AWPa8ot0d6L9QwtDMuysOQA==",
          "dtype": "f8"
         },
         "z": {
          "bdata": "m5mZmZmZFUCbmZmZmZkVQJuZmZmZmRVAm5mZmZmZFUBmZmZmZmYUQGZmZmZmZhRAZmZmZmZmFEBmZmZmZmYUQA==",
          "dtype": "f8"
         }
        },
        {
         "color": "blue",
         "i": {
          "bdata": "AQICBAQGBgEDAAQE",
          "dtype": "i1"
         },
         "j": {
          "bdata": "AAEDAgUEBwYABwEG",
          "dtype": "i1"
         },
         "k": {
          "bdata": "AwMFBQcHAAAFBQIB",
          "dtype": "i1"
         },
         "name": "IfcBeam",
         "opacity": 0.5,
         "showscale": false,
         "type": "mesh3d",
         "x": {
          "bdata": "E+WI7XxbIkAT5YjtfFsiQBPliO182yFAE+WI7XzbIUAS5YjtfNshQBLliO182yFAFOWI7XxbIkAU5YjtfFsiQA==",
          "dtype": "f8"
         },
         "y": {
          "bdata": "juHEN1V18r+rFNOjgd4KwKsU06OB3grAjuHEN1V18r+rFNOjgd4KwI7hxDdVdfK/qxTTo4HeCsCO4cQ3VXXyvw==",
          "dtype": "f8"
         },
         "z": {
          "bdata": "m5mZmZmZFUCbmZmZmZkVQJuZmZmZmRVAm5mZmZmZFUBmZmZmZmYUQGZmZmZmZhRAZmZmZmZmFEBmZmZmZmYUQA==",
          "dtype": "f8"
         }
        },
        {
         "color": "blue",
         "i": {
          "bdata": "AgIFBQUICA0NDQkJBwcFBQ8MDgcKCg8PDw8BAA==",
          "dtype": "i1"
         },
         "j": {
          "bdata": "AAMGBwkJCwwCCA0IBgkLBAsLDw4NDgMCDgAODg==",
          "dtype": "i1"
         },
         "k": {
          "bdata": "AQAHBAYFDAIBDAoNCQoICwQPBAQOBwIMAAMNAQ==",
          "dtype": "i1"
         },
         "name": "IfcBeam",
         "opacity": 0.5,
         "showscale": false,
         "type": "mesh3d",
         "x": {
          "bdata": "XpJ3PzX6JkBeknc/NfomQHegA+BaayJAd6AD4FprIkAa5YjtfFsiQBrliO18WyJAgkvvU+PBLECCS+9T48EsQBrliO18WyJAgkvvU+PBLECCS+9T48EsQBrliO18WyJAd6AD4FprIkBeknc/NfomQF6Sdz81+iZAd6AD4FprIkA=",
          "dtype": "f8"
         },
         "y": {
          "bdata": "7wRt7EFjEECCx85MRHwQQIvHzkxEfBBA9wRt7EFjEEAMj52ZiPgOQAyPnZmI+A5A5o6dmYj4DkDmjp2ZiPgOQIvHzkxEfBBAd8fOTER8EEB3x85MRHwQQIvHzkxEfBBAi8fOTER8EECCx85MRHwQQO8EbexBYxBA9wRt7EFjEEA=",
          "dtype": "f8"
         },
         "z": {
          "bdata": "K2dmZmZmFkBoZmZmZmYWQGhmZmZmZhZAK2dmZmZmFkDim5mZmZkVQGhmZmZmZhRAaGZmZmZmFEDim5mZmZkVQGhmZmZmZhRAaGZmZmZmFEDim5mZmZkVQOKbmZmZmRVA4puZmZmZFUDim5mZmZkVQOKbmZmZmRVA4puZmZmZFUA=",
          "dtype": "f8"
         }
        },
        {
         "color": "blue",
         "i": {
          "bdata": "AQICBAQGBgEDAAQE",
          "dtype": "i1"
         },
         "j": {
          "bdata": "AAEDAgUEBwYABwEG",
          "dtype": "i1"
         },
         "k": {
          "bdata": "AwMFBQcHAAAFBQIB",
          "dtype": "i1"
         },
         "name": "IfcBeam",
         "opacity": 0.5,
         "showscale": false,
         "type": "mesh3d",
         "x": {
          "bdata": "E+WI7XxbIkB7S+9T48EsQHtL71PjwSxAE+WI7XxbIkB7S+9T48EsQBPliO18WyJAe0vvU+PBLEAT5YjtfFsiQA==",
          "dtype": "f8"
         },
         "y": {
          "bdata": "VK5sPRt4DcBUrmw9G3gNwJGubD0beA3Aka5sPRt4DcCHrmw9G3gLwIeubD0beAvAR65sPRt4C8BHrmw9G3gLwA==",
          "dtype": "f8"
         },
         "z": {
          "bdata": "xZqZmZmZFUDFmpmZmZkVQEtlZmZmZhRAS2VmZmZmFEA6ZWZmZmYUQDplZmZmZhRAtJqZmZmZFUC0mpmZmZkVQA==",
          "dtype": "f8"
         }
        },
        {
         "color": "blue",
         "i": {
          "bdata": "AQICBAQGBgEDAAQECQoKDAwODgkLCAwM",
          "dtype": "i1"
         },
         "j": {
          "bdata": "AAEDAgUEBwYABwEGCAkLCg0MDw4IDwkO",
          "dtype": "i1"
         },
         "k": {
          "bdata": "AwMFBQcHAAAFBQIBCwsNDQ8PCAgNDQoJ",
          "dtype": "i1"
         },
         "name": "IfcBeam",
         "opacity": 0.5,
         "showscale": false,
         "type": "mesh3d",
         "x": {
          "bdata": "vFXG91M/LUB9S+9T40EtQH1L71PjQS1AvFXG91M/LUB9S+9T40EtQLxVxvdTPy1AfUvvU+NBLUC8Vcb3Uz8tQOCxVbpJaCJAILwsXrqlLEAgvCxeuqUsQOCxVbpJaCJAILwsXrqlLEDgsVW6SWgiQCC8LF66pSxA4LFVukloIkA=",
          "dtype": "f8"
         },
         "y": {
          "bdata": "FK+RBCJC8b8Ur5EEIkLxvxWvkQQiQvG/Fa+RBCJC8b8NXiMJRITqvw1eIwlEhOq/DF4jCUSE6r8MXiMJRITqv3qukQQiQvG/eq6RBCJC8b/nrpEEIkLxv+eukQQiQvG/r10jCUSE6r+vXSMJRITqv8hcIwlEhOq/yFwjCUSE6r8=",
          "dtype": "f8"
         },
         "z": {
          "bdata": "ZmZmZmZmFkBmZmZmZmYWQGZmZmZmZhRAZmZmZmZmFEBmZmZmZmYUQGZmZmZmZhRAZmZmZmZmFkBmZmZmZmYWQKKZmZmZmRVAopmZmZmZFUBsZmZmZmYUQGxmZmZmZhRAXWZmZmZmFEBdZmZmZmYUQJKZmZmZmRVAkpmZmZmZFUA=",
          "dtype": "f8"
         }
        },
        {
         "color": "blue",
         "i": {
          "bdata": "AwIHBwsFBQgCAgwMAgIKCgYGDQ0AAAQM",
          "dtype": "i1"
         },
         "j": {
          "bdata": "AAMEBQkLCAkJAQgFDAgJAQsNAwsNAwcE",
          "dtype": "i1"
         },
         "k": {
          "bdata": "AQEFBgoGCwsICQUEAwwBAA0HDAoKDQ0N",
          "dtype": "i1"
         },
         "name": "IfcBeam",
         "opacity": 0.5,
         "showscale": false,
         "type": "mesh3d",
         "x": {
          "bdata": "u1XG91M/LUB8S+9T40EtQIBL71PjQS1Ahl3K91M/LUB+S+9T48EsQH5L71PjwSxAekvvU+PBLEB6S+9T48EsQIBL71PjQS1AfEvvU+NBLUC7Vcb3Uz8tQLtVxvdTPy1Ahl3K91M/LUC7Vcb3Uz8tQA==",
          "dtype": "f8"
         },
         "y": {
          "bdata": "aV0jCUSE6r9rXSMJRITqvyXC0My7Kw5AJcLQzLsrDkAlwtDMuysOQCXC0My7Kw5A8/a8ot0d6L/z9ryi3R3ovyXC0My7Kw5AaV0jCUSE6r9pXSMJRITqv/L2vKLdHei/JcLQzLsrDkDy9ryi3R3ovw==",
          "dtype": "f8"
         },
         "z": {
          "bdata": "ZmZmZmZmFkBmZmZmZmYWQGZmZmZmZhZAZmZmZmZmFkCbmZmZmZkVQGZmZmZmZhRAZmZmZmZmFECbmZmZmZkVQGZmZmZmZhRAZmZmZmZmFEBmZmZmZmYUQGZmZmZmZhRAm5mZmZmZFUCbmZmZmZkVQA==",
          "dtype": "f8"
         }
        },
        {
         "color": "blue",
         "i": {
          "bdata": "AgIHBwoLBQgCAgwGCQkCAg0NDQMAAA0N",
          "dtype": "i1"
         },
         "j": {
          "bdata": "AAMEBQkICgkBCQEMDAEICwoFCwsNAwcE",
          "dtype": "i1"
         },
         "k": {
          "bdata": "AQAFBgYKBgoJCAAHBgwLAwUECg0MDQwH",
          "dtype": "i1"
         },
         "name": "IfcBeam",
         "opacity": 0.5,
         "showscale": false,
         "type": "mesh3d",
         "x": {
          "bdata": "f13K91M/LUB6S+9T40EtQHxL71PjQS1Au1XG91M/LUB6S+9T48EsQHpL71PjwSxAeEvvU+PBLEB4S+9T48EsQHxL71PjQS1AekvvU+NBLUC7Vcb3Uz8tQLtVxvdTPy1Af13K91M/LUC7Vcb3Uz8tQA==",
          "dtype": "f8"
         },
         "y": {
          "bdata": "0hTTo4HeCsDSFNOjgd4KwMSukQQiQvG/xK6RBCJC8b/g4cQ3VXXyv+DhxDdVdfK/0hTTo4HeCsDSFNOjgd4KwMSukQQiQvG/0hTTo4HeCsDg4cQ3VXXyv8SukQQiQvG/0hTTo4HeCsDg4cQ3VXXyvw==",
          "dtype": "f8"
         },
         "z": {
          "bdata": "ZmZmZmZmFkBmZmZmZmYWQGZmZmZmZhZAZmZmZmZmFkCbmZmZmZkVQGZmZmZmZhRAZmZmZmZmFECbmZmZmZkVQGZmZmZmZhRAZmZmZmZmFEBmZmZmZmYUQGZmZmZmZhRAm5mZmZmZFUCbmZmZmZkVQA==",
          "dtype": "f8"
         }
        },
        {
         "color": "red",
         "i": {
          "bdata": "AQICBAQGBgEDAAQE",
          "dtype": "i1"
         },
         "j": {
          "bdata": "AAEDAgUEBwYABwEG",
          "dtype": "i1"
         },
         "k": {
          "bdata": "AwMFBQcHAAAFBQIB",
          "dtype": "i1"
         },
         "name": "IfcColumn",
         "opacity": 0.5,
         "showscale": false,
         "type": "mesh3d",
         "x": {
          "bdata": "qz0f+n6K/7+sPR/6for7v6w9H/p+ivu/qz0f+n6K/7+sPR/6for7v6s9H/p+iv+/rD0f+n6K+7+rPR/6for/vw==",
          "dtype": "f8"
         },
         "y": {
          "bdata": "HS41s6riEEAdLjWzquIQQB0uNbOq4hBAHS41s6riEEChwtDMuysOQKHC0My7Kw5AoMLQzLsrDkCgwtDMuysOQA==",
          "dtype": "f8"
         },
         "z": {
          "bdata": "mpmZmZmZ+b+amZmZmZn5v83MzMzMzARAzczMzMzMBEDNzMzMzMwEQM3MzMzMzARAmpmZmZmZ+b+amZmZmZn5vw==",
          "dtype": "f8"
         }
        },
        {
         "color": "red",
         "i": {
          "bdata": "AQICBAQGBggIAQMABQQEBg==",
          "dtype": "i1"
         },
         "j": {
          "bdata": "AAEDAgUEBwYJCAAJCQEICA==",
          "dtype": "i1"
         },
         "k": {
          "bdata": "AwMFBQcHCQkAAAUFBwIBBA==",
          "dtype": "i1"
         },
         "name": "IfcColumn",
         "opacity": 0.5,
         "showscale": false,
         "type": "mesh3d",
         "x": {
          "bdata": "yfqJHFrUC0DJ+okcWtQNQMn6iRxa1A1AyfqJHFrUC0DJ+okcWtQNQMn6iRxa1AtAyfqJHFrUDUDJ+okcWtQLQMn6iRxa1A1AyfqJHFrUC0A=",
          "dtype": "f8"
         },
         "y": {
          "bdata": "CC41s6riEEAILjWzquIQQAguNbOq4hBACC41s6riEEA4j52ZiPgOQDiPnZmI+A5AeMLQzLsrDkB4wtDMuysOQHfC0My7Kw5Ad8LQzLsrDkA=",
          "dtype": "f8"
         },
         "z": {
          "bdata": "mpmZmZmZ+b+amZmZmZn5v83MzMzMzARAzczMzMzMBEDNzMzMzMwEQM3MzMzMzARAzczMzMzMBEDNzMzMzMwEQJqZmZmZmfm/mpmZmZmZ+b8=",
          "dtype": "f8"
         }
        },
        {
         "color": "red",
         "i": {
          "bdata": "AQICBAQGBgEDAAQE",
          "dtype": "i1"
         },
         "j": {
          "bdata": "AAEDAgUEBwYABwEG",
          "dtype": "i1"
         },
         "k": {
          "bdata": "AwMFBQcHAAAFBQIB",
          "dtype": "i1"
         },
         "name": "IfcColumn",
         "opacity": 0.5,
         "showscale": false,
         "type": "mesh3d",
         "x": {
          "bdata": "rPqJHFrUC0Cs+okcWtQNQKz6iRxa1A1ArPqJHFrUC0Cs+okcWtQNQKz6iRxa1AtArPqJHFrUDUCs+okcWtQLQA==",
          "dtype": "f8"
         },
         "y": {
          "bdata": "gxTTo4HeCsCDFNOjgd4KwIMU06OB3grAgxTTo4HeCsC3RwbXtBEOwLdHBte0EQ7At0cG17QRDsC3RwbXtBEOwA==",
          "dtype": "f8"
         },
         "z": {
          "bdata": "mpmZmZmZ+b+amZmZmZn5v83MzMzMzARAzczMzMzMBEDNzMzMzMwEQM3MzMzMzARAmpmZmZmZ+b+amZmZmZn5vw==",
          "dtype": "f8"
         }
        },
        {
         "color": "red",
         "i": {
          "bdata": "AQICBAQGBgEDAAQE",
          "dtype": "i1"
         },
         "j": {
          "bdata": "AAEDAgUEBwYABwEG",
          "dtype": "i1"
         },
         "k": {
          "bdata": "AwMFBQcHAAAFBQIB",
          "dtype": "i1"
         },
         "name": "IfcColumn",
         "opacity": 0.5,
         "showscale": false,
         "type": "mesh3d",
         "x": {
          "bdata": "2z0f+n6K/7/cPR/6for7v9w9H/p+ivu/2z0f+n6K/7/cPR/6for7v9s9H/p+iv+/3D0f+n6K+7/bPR/6for/vw==",
          "dtype": "f8"
         },
         "y": {
          "bdata": "KeGfcE6rCsAp4Z9wTqsKwCnhn3BOqwrAKeGfcE6rCsDBejkK6EQOwMF6OQroRA7Awno5CuhEDsDCejkK6EQOwA==",
          "dtype": "f8"
         },
         "z": {
          "bdata": "mpmZmZmZ+b+amZmZmZn5v83MzMzMzARAzczMzMzMBEDNzMzMzMwEQM3MzMzMzARAmpmZmZmZ+b+amZmZmZn5vw==",
          "dtype": "f8"
         }
        },
        {
         "color": "red",
         "i": {
          "bdata": "AQICBAQGBgEDAAQE",
          "dtype": "i1"
         },
         "j": {
          "bdata": "AAEDAgUEBwYABwEG",
          "dtype": "i1"
         },
         "k": {
          "bdata": "AwMFBQcHAAAFBQIB",
          "dtype": "i1"
         },
         "name": "IfcColumn",
         "opacity": 0.5,
         "showscale": false,
         "type": "mesh3d",
         "x": {
          "bdata": "qj0f+n6K/7/dcFItsr36v91wUi2yvfq/qj0f+n6K/7/dcFItsr36v6o9H/p+iv+/3XBSLbK9+r+qPR/6for/vw==",
          "dtype": "f8"
         },
         "y": {
          "bdata": "FvW8ot0d6L8W9byi3R3ovxb1vKLdHei/FvW8ot0d6L/x4MQ3VXXyv/HgxDdVdfK/8eDEN1V18r/x4MQ3VXXyvw==",
          "dtype": "f8"
         },
         "z": {
          "bdata": "mpmZmZmZ+b+amZmZmZn5v83MzMzMzARAzczMzMzMBEDNzMzMzMwEQM3MzMzMzARAmpmZmZmZ+b+amZmZmZn5vw==",
          "dtype": "f8"
         }
        },
        {
         "color": "red",
         "i": {
          "bdata": "AQICBAQGBgEDAAQE",
          "dtype": "i1"
         },
         "j": {
          "bdata": "AAEDAgUEBwYABwEG",
          "dtype": "i1"
         },
         "k": {
          "bdata": "AwMFBQcHAAAFBQIB",
          "dtype": "i1"
         },
         "name": "IfcColumn",
         "opacity": 0.5,
         "showscale": false,
         "type": "mesh3d",
         "x": {
          "bdata": "g8dW6SahC0DpLb1PjQcOQOktvU+NBw5Ag8dW6SahC0DpLb1PjQcOQIPHVukmoQtA6S29T40HDkCDx1bpJqELQA==",
          "dtype": "f8"
         },
         "y": {
          "bdata": "svW8ot0d6L+y9byi3R3ov7L1vKLdHei/svW8ot0d6L8/4cQ3VXXyvz/hxDdVdfK/P+HEN1V18r8/4cQ3VXXyvw==",
          "dtype": "f8"
         },
         "z": {
          "bdata": "mpmZmZmZ+b+amZmZmZn5v83MzMzMzARAzczMzMzMBEDNzMzMzMwEQM3MzMzMzARAmpmZmZmZ+b+amZmZmZn5vw==",
          "dtype": "f8"
         }
        },
        {
         "color": "red",
         "i": {
          "bdata": "AQICBAQGBgEDAAQE",
          "dtype": "i1"
         },
         "j": {
          "bdata": "AAEDAgUEBwYABwEG",
          "dtype": "i1"
         },
         "k": {
          "bdata": "AwMFBQcHAAAFBQIB",
          "dtype": "i1"
         },
         "name": "IfcColumn",
         "opacity": 0.5,
         "showscale": false,
         "type": "mesh3d",
         "x": {
          "bdata": "GuWI7XzbIUAa5YjtfFsiQBrliO18WyJAGuWI7XzbIUAa5YjtfFsiQBrliO182yFAGuWI7XxbIkAa5YjtfNshQA==",
          "dtype": "f8"
         },
         "y": {
          "bdata": "9C01s6riEED0LTWzquIQQPQtNbOq4hBA9C01s6riEEBPwtDMuysOQE/C0My7Kw5AT8LQzLsrDkBPwtDMuysOQA==",
          "dtype": "f8"
         },
         "z": {
          "bdata": "mpmZmZmZ+b+amZmZmZn5v83MzMzMzARAzczMzMzMBEDNzMzMzMwEQM3MzMzMzARAmpmZmZmZ+b+amZmZmZn5vw==",
          "dtype": "f8"
         }
        },
        {
         "color": "red",
         "i": {
          "bdata": "AQICBAQGBgEDAAQE",
          "dtype": "i1"
         },
         "j": {
          "bdata": "AAEDAgUEBwYABwEG",
          "dtype": "i1"
         },
         "k": {
          "bdata": "AwMFBQcHAAAFBQIB",
          "dtype": "i1"
         },
         "name": "IfcColumn",
         "opacity": 0.5,
         "showscale": false,
         "type": "mesh3d",
         "x": {
          "bdata": "E+WI7XzbIUAT5YjtfFsiQBPliO18WyJAE+WI7XzbIUAT5YjtfFsiQBPliO182yFAE+WI7XxbIkAT5YjtfNshQA==",
          "dtype": "f8"
         },
         "y": {
          "bdata": "qxTTo4HeCsCrFNOjgd4KwKsU06OB3grAqxTTo4HeCsDfRwbXtBEOwN9HBte0EQ7A30cG17QRDsDfRwbXtBEOwA==",
          "dtype": "f8"
         },
         "z": {
          "bdata": "mpmZmZmZ+b+amZmZmZn5v83MzMzMzARAzczMzMzMBEDNzMzMzMwEQM3MzMzMzARAmpmZmZmZ+b+amZmZmZn5vw==",
          "dtype": "f8"
         }
        },
        {
         "color": "red",
         "i": {
          "bdata": "AQICBAQGBgEDAAQE",
          "dtype": "i1"
         },
         "j": {
          "bdata": "AAEDAgUEBwYABwEG",
          "dtype": "i1"
         },
         "k": {
          "bdata": "AwMFBQcHAAAFBQIB",
          "dtype": "i1"
         },
         "name": "IfcColumn",
         "opacity": 0.5,
         "showscale": false,
         "type": "mesh3d",
         "x": {
          "bdata": "SBi8ILDOIUDisVW6SWgiQOKxVbpJaCJASBi8ILDOIUDisVW6SWgiQEgYvCCwziFA4rFVukloIkBIGLwgsM4hQA==",
          "dtype": "f8"
         },
         "y": {
          "bdata": "Uva8ot0d6L9S9ryi3R3ov1L2vKLdHei/Uva8ot0d6L+P4cQ3VXXyv4/hxDdVdfK/j+HEN1V18r+P4cQ3VXXyvw==",
          "dtype": "f8"
         },
         "z": {
          "bdata": "mpmZmZmZ+b+amZmZmZn5v83MzMzMzARAzczMzMzMBEDNzMzMzMwEQM3MzMzMzARAmpmZmZmZ+b+amZmZmZn5vw==",
          "dtype": "f8"
         }
        },
        {
         "color": "red",
         "i": {
          "bdata": "AQICBAQGBggICgoBAwAHBQQECAg=",
          "dtype": "i1"
         },
         "j": {
          "bdata": "AAEDAgUEBwYJCAsKAAsFCwEKBAo=",
          "dtype": "i1"
         },
         "k": {
          "bdata": "AwMFBQcHCQkLCwAABQUJCQIBBgQ=",
          "dtype": "i1"
         },
         "name": "IfcColumn",
         "opacity": 0.5,
         "showscale": false,
         "type": "mesh3d",
         "x": {
          "bdata": "gUvvU+PBLECBS+9T48EsQIFL71PjwSxAgUvvU+PBLECGXcr3Uz8tQIZdyvdTPy1Ahl3K91M/LUCGXcr3Uz8tQIFL71PjQS1AgUvvU+NBLUCBS+9T40EtQIFL71PjQS1A",
          "dtype": "f8"
         },
         "y": {
          "bdata": "JcLQzLsrDkDfLTWzquIQQN8tNbOq4hBAJcLQzLsrDkDfLTWzquIQQCXC0My7Kw5A3y01s6riEEAlwtDMuysOQN8tNbOq4hBAJcLQzLsrDkDfLTWzquIQQCXC0My7Kw5A",
          "dtype": "f8"
         },
         "z": {
          "bdata": "m5mZmZmZ+b+bmZmZmZn5v87MzMzMzARAzszMzMzMBEDOzMzMzMwEQM7MzMzMzARAZ2ZmZmZmBkBnZmZmZmYGQGdmZmZmZgZAZ2ZmZmZmBkCbmZmZmZn5v5uZmZmZmfm/",
          "dtype": "f8"
         }
        },
        {
         "color": "red",
         "i": {
          "bdata": "AQICBAQGBggICgoBAwAHBQQECAg=",
          "dtype": "i1"
         },
         "j": {
          "bdata": "AAEDAgUEBwYJCAsKAAsFCwEKBAo=",
          "dtype": "i1"
         },
         "k": {
          "bdata": "AwMFBQcHCQkLCwAABQUJCQIBBgQ=",
          "dtype": "i1"
         },
         "name": "IfcColumn",
         "opacity": 0.5,
         "showscale": false,
         "type": "mesh3d",
         "x": {
          "bdata": "ekvvU+PBLEB6S+9T48EsQHpL71PjwSxAekvvU+PBLEB/Xcr3Uz8tQH9dyvdTPy1Af13K91M/LUB/Xcr3Uz8tQHpL71PjQS1AekvvU+NBLUB6S+9T40EtQHpL71PjQS1A",
          "dtype": "f8"
         },
         "y": {
          "bdata": "BkgG17QRDsDTFNOjgd4KwNMU06OB3grABkgG17QRDsDTFNOjgd4KwAZIBte0EQ7A0xTTo4HeCsAGSAbXtBEOwNMU06OB3grABkgG17QRDsDTFNOjgd4KwAZIBte0EQ7A",
          "dtype": "f8"
         },
         "z": {
          "bdata": "m5mZmZmZ+b+bmZmZmZn5v87MzMzMzARAzszMzMzMBEDOzMzMzMwEQM7MzMzMzARAZ2ZmZmZmBkBnZmZmZmYGQGdmZmZmZgZAZ2ZmZmZmBkCbmZmZmZn5v5uZmZmZmfm/",
          "dtype": "f8"
         }
        },
        {
         "color": "red",
         "i": {
          "bdata": "AQICBAQGBgEDAAQE",
          "dtype": "i1"
         },
         "j": {
          "bdata": "AAEDAgUEBwYABwEG",
          "dtype": "i1"
         },
         "k": {
          "bdata": "AwMFBQcHAAAFBQIB",
          "dtype": "i1"
         },
         "name": "IfcColumn",
         "opacity": 0.5,
         "showscale": false,
         "type": "mesh3d",
         "x": {
          "bdata": "IbwsXrqlLEC7Vcb3Uz8tQLtVxvdTPy1AIbwsXrqlLEC7Vcb3Uz8tQCG8LF66pSxAu1XG91M/LUAhvCxeuqUsQA==",
          "dtype": "f8"
         },
         "y": {
          "bdata": "8va8ot0d6L/y9ryi3R3ov/L2vKLdHei/8va8ot0d6L/f4cQ3VXXyv9/hxDdVdfK/3+HEN1V18r/f4cQ3VXXyvw==",
          "dtype": "f8"
         },
         "z": {
          "bdata": "mpmZmZmZ+b+amZmZmZn5v83MzMzMzARAzczMzMzMBEDNzMzMzMwEQM3MzMzMzARAmpmZmZmZ+b+amZmZmZn5vw==",
          "dtype": "f8"
         }
        },
        {
         "color": "red",
         "i": {
          "bdata": "AQICBAQGBgEDAAQE",
          "dtype": "i1"
         },
         "j": {
          "bdata": "AAEDAgUEBwYABwEG",
          "dtype": "i1"
         },
         "k": {
          "bdata": "AwMFBQcHAAAFBQIB",
          "dtype": "i1"
         },
         "name": "IfcColumn",
         "opacity": 0.5,
         "showscale": false,
         "type": "mesh3d",
         "x": {
          "bdata": "qz0f+n6K/7+sPR/6for7v6w9H/p+ivu/qz0f+n6K/7+sPR/6for7v6s9H/p+iv+/rD0f+n6K+7+rPR/6for/vw==",
          "dtype": "f8"
         },
         "y": {
          "bdata": "HS41s6riEEAdLjWzquIQQB0uNbOq4hBAHS41s6riEEChwtDMuysOQKHC0My7Kw5AoMLQzLsrDkCgwtDMuysOQA==",
          "dtype": "f8"
         },
         "z": {
          "bdata": "ZmZmZmZmBkBmZmZmZmYGQJmZmZmZmRVAmZmZmZmZFUCZmZmZmZkVQJmZmZmZmRVAZmZmZmZmBkBmZmZmZmYGQA==",
          "dtype": "f8"
         }
        },
        {
         "color": "red",
         "i": {
          "bdata": "AQICBAQGBggIAQAJAwIEBA==",
          "dtype": "i1"
         },
         "j": {
          "bdata": "AAEDAgUEBwYJCAkHCQgGCA==",
          "dtype": "i1"
         },
         "k": {
          "bdata": "AwMFBQcHCQkAAAMFBQEIAg==",
          "dtype": "i1"
         },
         "name": "IfcColumn",
         "opacity": 0.5,
         "showscale": false,
         "type": "mesh3d",
         "x": {
          "bdata": "yfqJHFrUC0DJ+okcWtQNQMn6iRxa1A1AyfqJHFrUC0DJ+okcWtQNQMn6iRxa1AtAyfqJHFrUDUDJ+okcWtQLQMn6iRxa1A1AyfqJHFrUC0A=",
          "dtype": "f8"
         },
         "y": {
          "bdata": "CC41s6riEEAILjWzquIQQAguNbOq4hBACC41s6riEEB4wtDMuysOQHjC0My7Kw5Ad8LQzLsrDkB3wtDMuysOQDiPnZmI+A5AOI+dmYj4DkA=",
          "dtype": "f8"
         },
         "z": {
          "bdata": "ZmZmZmZmBkBmZmZmZmYGQJqZmZmZmRVAmpmZmZmZFUCamZmZmZkVQJqZmZmZmRVAZmZmZmZmBkBmZmZmZmYGQGZmZmZmZgZAZmZmZmZmBkA=",
          "dtype": "f8"
         }
        },
        {
         "color": "red",
         "i": {
          "bdata": "AQICBAQGBgEDAAQE",
          "dtype": "i1"
         },
         "j": {
          "bdata": "AAEDAgUEBwYABwEG",
          "dtype": "i1"
         },
         "k": {
          "bdata": "AwMFBQcHAAAFBQIB",
          "dtype": "i1"
         },
         "name": "IfcColumn",
         "opacity": 0.5,
         "showscale": false,
         "type": "mesh3d",
         "x": {
          "bdata": "rPqJHFrUC0Cs+okcWtQNQKz6iRxa1A1ArPqJHFrUC0Cs+okcWtQNQKz6iRxa1AtArPqJHFrUDUCs+okcWtQLQA==",
          "dtype": "f8"
         },
         "y": {
          "bdata": "gxTTo4HeCsCDFNOjgd4KwIMU06OB3grAgxTTo4HeCsC3RwbXtBEOwLdHBte0EQ7At0cG17QRDsC3RwbXtBEOwA==",
          "dtype": "f8"
         },
         "z": {
          "bdata": "ZmZmZmZmBkBmZmZmZmYGQJmZmZmZmRVAmZmZmZmZFUCZmZmZmZkVQJmZmZmZmRVAZmZmZmZmBkBmZmZmZmYGQA==",
          "dtype": "f8"
         }
        },
        {
         "color": "red",
         "i": {
          "bdata": "AQICBAQGBgEDAAQE",
          "dtype": "i1"
         },
         "j": {
          "bdata": "AAEDAgUEBwYABwEG",
          "dtype": "i1"
         },
         "k": {
          "bdata": "AwMFBQcHAAAFBQIB",
          "dtype": "i1"
         },
         "name": "IfcColumn",
         "opacity": 0.5,
         "showscale": false,
         "type": "mesh3d",
         "x": {
          "bdata": "2z0f+n6K/7/cPR/6for7v9w9H/p+ivu/2z0f+n6K/7/cPR/6for7v9s9H/p+iv+/3D0f+n6K+7/bPR/6for/vw==",
          "dtype": "f8"
         },
         "y": {
          "bdata": "KeGfcE6rCsAp4Z9wTqsKwCnhn3BOqwrAKeGfcE6rCsDBejkK6EQOwMF6OQroRA7Awno5CuhEDsDCejkK6EQOwA==",
          "dtype": "f8"
         },
         "z": {
          "bdata": "ZmZmZmZmBkBmZmZmZmYGQJmZmZmZmRVAmZmZmZmZFUCZmZmZmZkVQJmZmZmZmRVAZmZmZmZmBkBmZmZmZmYGQA==",
          "dtype": "f8"
         }
        },
        {
         "color": "red",
         "i": {
          "bdata": "AQICBAQGBgEDAAQE",
          "dtype": "i1"
         },
         "j": {
          "bdata": "AAEDAgUEBwYABwEG",
          "dtype": "i1"
         },
         "k": {
          "bdata": "AwMFBQcHAAAFBQIB",
          "dtype": "i1"
         },
         "name": "IfcColumn",
         "opacity": 0.5,
         "showscale": false,
         "type": "mesh3d",
         "x": {
          "bdata": "qj0f+n6K/7/dcFItsr36v91wUi2yvfq/qj0f+n6K/7/dcFItsr36v6o9H/p+iv+/3XBSLbK9+r+qPR/6for/vw==",
          "dtype": "f8"
         },
         "y": {
          "bdata": "FvW8ot0d6L8W9byi3R3ovxb1vKLdHei/FvW8ot0d6L/x4MQ3VXXyv/HgxDdVdfK/8eDEN1V18r/x4MQ3VXXyvw==",
          "dtype": "f8"
         },
         "z": {
          "bdata": "ZmZmZmZmBkBmZmZmZmYGQJmZmZmZmRVAmZmZmZmZFUCZmZmZmZkVQJmZmZmZmRVAZmZmZmZmBkBmZmZmZmYGQA==",
          "dtype": "f8"
         }
        },
        {
         "color": "red",
         "i": {
          "bdata": "AQICBAQGBgEDAAQE",
          "dtype": "i1"
         },
         "j": {
          "bdata": "AAEDAgUEBwYABwEG",
          "dtype": "i1"
         },
         "k": {
          "bdata": "AwMFBQcHAAAFBQIB",
          "dtype": "i1"
         },
         "name": "IfcColumn",
         "opacity": 0.5,
         "showscale": false,
         "type": "mesh3d",
         "x": {
          "bdata": "g8dW6SahC0DpLb1PjQcOQOktvU+NBw5Ag8dW6SahC0DpLb1PjQcOQIPHVukmoQtA6S29T40HDkCDx1bpJqELQA==",
          "dtype": "f8"
         },
         "y": {
          "bdata": "svW8ot0d6L+y9byi3R3ov7L1vKLdHei/svW8ot0d6L8/4cQ3VXXyvz/hxDdVdfK/P+HEN1V18r8/4cQ3VXXyvw==",
          "dtype": "f8"
         },
         "z": {
          "bdata": "ZmZmZmZmBkBmZmZmZmYGQJmZmZmZmRVAmZmZmZmZFUCZmZmZmZkVQJmZmZmZmRVAZmZmZmZmBkBmZmZmZmYGQA==",
          "dtype": "f8"
         }
        },
        {
         "color": "red",
         "i": {
          "bdata": "AQICBAQGBgEDAAQE",
          "dtype": "i1"
         },
         "j": {
          "bdata": "AAEDAgUEBwYABwEG",
          "dtype": "i1"
         },
         "k": {
          "bdata": "AwMFBQcHAAAFBQIB",
          "dtype": "i1"
         },
         "name": "IfcColumn",
         "opacity": 0.5,
         "showscale": false,
         "type": "mesh3d",
         "x": {
          "bdata": "GuWI7XzbIUAa5YjtfFsiQBrliO18WyJAGuWI7XzbIUAa5YjtfFsiQBrliO182yFAGuWI7XxbIkAa5YjtfNshQA==",
          "dtype": "f8"
         },
         "y": {
          "bdata": "9C01s6riEED0LTWzquIQQPQtNbOq4hBA9C01s6riEEBPwtDMuysOQE/C0My7Kw5AT8LQzLsrDkBPwtDMuysOQA==",
          "dtype": "f8"
         },
         "z": {
          "bdata": "ZmZmZmZmBkBmZmZmZmYGQJmZmZmZmRVAmZmZmZmZFUCZmZmZmZkVQJmZmZmZmRVAZmZmZmZmBkBmZmZmZmYGQA==",
          "dtype": "f8"
         }
        },
        {
         "color": "red",
         "i": {
          "bdata": "AQICBAQGBgEDAAQE",
          "dtype": "i1"
         },
         "j": {
          "bdata": "AAEDAgUEBwYABwEG",
          "dtype": "i1"
         },
         "k": {
          "bdata": "AwMFBQcHAAAFBQIB",
          "dtype": "i1"
         },
         "name": "IfcColumn",
         "opacity": 0.5,
         "showscale": false,
         "type": "mesh3d",
         "x": {
          "bdata": "E+WI7XzbIUAT5YjtfFsiQBPliO18WyJAE+WI7XzbIUAT5YjtfFsiQBPliO182yFAE+WI7XxbIkAT5YjtfNshQA==",
          "dtype": "f8"
         },
         "y": {
          "bdata": "qxTTo4HeCsCrFNOjgd4KwKsU06OB3grAqxTTo4HeCsDfRwbXtBEOwN9HBte0EQ7A30cG17QRDsDfRwbXtBEOwA==",
          "dtype": "f8"
         },
         "z": {
          "bdata": "ZmZmZmZmBkBmZmZmZmYGQJmZmZmZmRVAmZmZmZmZFUCZmZmZmZkVQJmZmZmZmRVAZmZmZmZmBkBmZmZmZmYGQA==",
          "dtype": "f8"
         }
        },
        {
         "color": "red",
         "i": {
          "bdata": "AQICBAQGBgEDAAQE",
          "dtype": "i1"
         },
         "j": {
          "bdata": "AAEDAgUEBwYABwEG",
          "dtype": "i1"
         },
         "k": {
          "bdata": "AwMFBQcHAAAFBQIB",
          "dtype": "i1"
         },
         "name": "IfcColumn",
         "opacity": 0.5,
         "showscale": false,
         "type": "mesh3d",
         "x": {
          "bdata": "SBi8ILDOIUDisVW6SWgiQOKxVbpJaCJASBi8ILDOIUDisVW6SWgiQEgYvCCwziFA4rFVukloIkBIGLwgsM4hQA==",
          "dtype": "f8"
         },
         "y": {
          "bdata": "Uva8ot0d6L9S9ryi3R3ov1L2vKLdHei/Uva8ot0d6L+P4cQ3VXXyv4/hxDdVdfK/j+HEN1V18r+P4cQ3VXXyvw==",
          "dtype": "f8"
         },
         "z": {
          "bdata": "ZmZmZmZmBkBmZmZmZmYGQJmZmZmZmRVAmZmZmZmZFUCZmZmZmZkVQJmZmZmZmRVAZmZmZmZmBkBmZmZmZmYGQA==",
          "dtype": "f8"
         }
        },
        {
         "color": "red",
         "i": {
          "bdata": "AQICBAQGBggICgoBAwAHBQQECAg=",
          "dtype": "i1"
         },
         "j": {
          "bdata": "AAEDAgUEBwYJCAsKAAsFCwEKBAo=",
          "dtype": "i1"
         },
         "k": {
          "bdata": "AwMFBQcHCQkLCwAABQUJCQIBBgQ=",
          "dtype": "i1"
         },
         "name": "IfcColumn",
         "opacity": 0.5,
         "showscale": false,
         "type": "mesh3d",
         "x": {
          "bdata": "gUvvU+PBLECBS+9T48EsQIFL71PjwSxAgUvvU+PBLECGXcr3Uz8tQIZdyvdTPy1Ahl3K91M/LUCGXcr3Uz8tQIFL71PjQS1AgUvvU+NBLUCBS+9T40EtQIFL71PjQS1A",
          "dtype": "f8"
         },
         "y": {
          "bdata": "JcLQzLsrDkDfLTWzquIQQN8tNbOq4hBAJcLQzLsrDkDfLTWzquIQQCXC0My7Kw5A3y01s6riEEAlwtDMuysOQN8tNbOq4hBAJcLQzLsrDkDfLTWzquIQQCXC0My7Kw5A",
          "dtype": "f8"
         },
         "z": {
          "bdata": "Z2ZmZmZmBkBnZmZmZmYGQJqZmZmZmRVAmpmZmZmZFUCamZmZmZkVQJqZmZmZmRVAZ2ZmZmZmFkBnZmZmZmYWQGdmZmZmZhZAZ2ZmZmZmFkBnZmZmZmYGQGdmZmZmZgZA",
          "dtype": "f8"
         }
        },
        {
         "color": "red",
         "i": {
          "bdata": "AQICBAQGBggICgoBAwAHBQQECAg=",
          "dtype": "i1"
         },
         "j": {
          "bdata": "AAEDAgUEBwYJCAsKAAsFCwEKBAo=",
          "dtype": "i1"
         },
         "k": {
          "bdata": "AwMFBQcHCQkLCwAABQUJCQIBBgQ=",
          "dtype": "i1"
         },
         "name": "IfcColumn",
         "opacity": 0.5,
         "showscale": false,
         "type": "mesh3d",
         "x": {
          "bdata": "ekvvU+PBLEB6S+9T48EsQHpL71PjwSxAekvvU+PBLEB/Xcr3Uz8tQH9dyvdTPy1Af13K91M/LUB/Xcr3Uz8tQHpL71PjQS1AekvvU+NBLUB6S+9T40EtQHpL71PjQS1A",
          "dtype": "f8"
         },
         "y": {
          "bdata": "BkgG17QRDsDTFNOjgd4KwNMU06OB3grABkgG17QRDsDTFNOjgd4KwAZIBte0EQ7A0xTTo4HeCsAGSAbXtBEOwNMU06OB3grABkgG17QRDsDTFNOjgd4KwAZIBte0EQ7A",
          "dtype": "f8"
         },
         "z": {
          "bdata": "Z2ZmZmZmBkBnZmZmZmYGQJqZmZmZmRVAmpmZmZmZFUCamZmZmZkVQJqZmZmZmRVAZ2ZmZmZmFkBnZmZmZmYWQGdmZmZmZhZAZ2ZmZmZmFkBnZmZmZmYGQGdmZmZmZgZA",
          "dtype": "f8"
         }
        },
        {
         "color": "red",
         "i": {
          "bdata": "AQICBAQGBgEDAAQE",
          "dtype": "i1"
         },
         "j": {
          "bdata": "AAEDAgUEBwYABwEG",
          "dtype": "i1"
         },
         "k": {
          "bdata": "AwMFBQcHAAAFBQIB",
          "dtype": "i1"
         },
         "name": "IfcColumn",
         "opacity": 0.5,
         "showscale": false,
         "type": "mesh3d",
         "x": {
          "bdata": "IbwsXrqlLEC7Vcb3Uz8tQLtVxvdTPy1AIbwsXrqlLEC7Vcb3Uz8tQCG8LF66pSxAu1XG91M/LUAhvCxeuqUsQA==",
          "dtype": "f8"
         },
         "y": {
          "bdata": "8va8ot0d6L/y9ryi3R3ov/L2vKLdHei/8va8ot0d6L/f4cQ3VXXyv9/hxDdVdfK/3+HEN1V18r/f4cQ3VXXyvw==",
          "dtype": "f8"
         },
         "z": {
          "bdata": "ZmZmZmZmBkBmZmZmZmYGQJmZmZmZmRVAmZmZmZmZFUCZmZmZmZkVQJmZmZmZmRVAZmZmZmZmBkBmZmZmZmYGQA==",
          "dtype": "f8"
         }
        },
        {
         "color": "green",
         "i": {
          "bdata": "AQICBAQGBggICgoMDA4OEBASEhQUFhYYGBoaHBweHiAgIiIkJCYmARsfISMfGR0xJTIzMi0lFQ8sKQAvMy4qJwMNKyoHAysxLSwpKDQ1NTY2Nzc0ODk5Ojo7Ozg8PT0+Pj8/PBw8JCQkPj4+PxQODjo6EBA2NgIMDAwMNzcGBgYIBAQcJDUkJA==",
          "dtype": "i1"
         },
         "j": {
          "bdata": "AAEDAgUEBwYJCAsKDQwPDhEQExIVFBcWGRgbGh0cHx4hICMiJSQnJhkxHyEwFxkdMBcyFSUzExUvLCcuDzMvKCcLKg0LKwcfJycnJyg0KTUqNis3LDgtOS46LzswPDE9Mj4zPxg9HiA8FhgcPBY+FCQ/EhQ7OCY6Dj87NCYKNgwKBjceJiY1OA==",
          "dtype": "i1"
         },
         "k": {
          "bdata": "AwMFBQcHCQkLCw0NDw8RERMTFRUXFxkZGxsdHR8fISEjIyUlJycAAB0wJSUlMjIyMxUPDy4uEREqKgMNDQ0NKysHBwcJBQUdJS0sKSkpKiorKygoLS0uLi8vLCwxMTIyMzMwMBoeICIeGBw9JD4/PjkkFA44NQE7Pzo2JgIMNzYGNwI9NTQ4OQ==",
          "dtype": "i1"
         },
         "name": "IfcSlab",
         "opacity": 0.5,
         "showscale": false,
         "type": "mesh3d",
         "x": {
          "bdata": "NLHCmGzH8D80scKYbMfwP+A9H/p+iv+/4D0f+n6K/7+gPR/6for/v6A9H/p+iv+/kD7//KVb7j+QPv/8pVvuP5g+//ylW+4/mD7//KVb7j8bqWAaBA4YQBupYBoEDhhAGqlgGgQOGEAaqWAaBA4YQG7PRLtJ6CFAbs9Eu0noIUBvz0S7SeghQG/PRLtJ6CFAcq+CFtkqJ0Byr4IW2SonQHKvghbZKidAcq+CFtkqJ0CGXcr3Uz8tQIZdyvdTPy1Afl3K91M/LUB+Xcr3Uz8tQFaSdz81+iZAVpJ3PzX6JkBXknc/NfomQFeSdz81+iZAcaAD4FprIkBxoAPgWmsiQHCgA+BaayJAcKAD4FprIkAiyhHb+bYXQCLKEdv5thdAJMoR2/m2F0AkyhHb+bYXQDyxwphsx/A/PLHCmGzH8D9/Ase3r3MCQKv6iRxa1AtAuPqJHFrUC0CCAse3r3MCQLX6iRxa1A1AcHmmQIKaE0B3eaZAgpoTQLj6iRxa1A1AFeWI7XxbIkAho7mGp7MkQCSjuYansyRAFeWI7XxbIkB/Ase3r3MCQKv6iRxa1AtAuPqJHFrUC0CCAse3r3MCQLX6iRxa1A1AcHmmQIKaE0B3eaZAgpoTQLj6iRxa1A1AFeWI7XxbIkAho7mGp7MkQCSjuYansyRAFeWI7XxbIkA=",
          "dtype": "f8"
         },
         "y": {
          "bdata": "YiQQ+EFjFEBiJBD4QWMUQGIkEPhBYxRAYiQQ+EFjFEDMa9cSfDkPwMxr1xJ8OQ/AzGvXEnw5D8DMa9cSfDkPwGeY09SKaRLAZ5jT1IppEsBnmNPUimkSwGeY09SKaRLAshvKqy4xD8CyG8qrLjEPwLIbyqsuMQ/AshvKqy4xD8Drre79D1USwOut7v0PVRLA663u/Q9VEsDrre79D1USwGge0yR8OQ/AaB7TJHw5D8BmHtMkfDkPwGYe0yR8OQ/AvqvG7UFjFEC+q8btQWMUQL2rxu1BYxRAvavG7UFjFEAABW3sQWMQQAAFbexBYxBAAAVt7EFjEEAABW3sQWMQQJbHzkxEfBRAlsfOTER8FECXx85MRHwUQJfHzkxEfBRA/S01s6riEED9LTWzquIQQP0tNbOq4hBA/S01s6riEEAtj52ZiPgOQC2PnZmI+A5AlJzpW5/Tz7+MnOlbn9PPvyiPnZmI+A5AK4+dmYj4DkDdnOlbn9PPv9Wc6Vuf08+/FY+dmYj4DkAVj52ZiPgOQCSe6Vuf08+/HJ7pW5/Tz78tj52ZiPgOQC2PnZmI+A5AlJzpW5/Tz7+MnOlbn9PPvyiPnZmI+A5AK4+dmYj4DkDdnOlbn9PPv9Wc6Vuf08+/FY+dmYj4DkAVj52ZiPgOQCSe6Vuf08+/HJ7pW5/Tz78=",
          "dtype": "f8"
         },
         "z": {
          "bdata": "zczMzMzMBEBnZmZmZmYGQGdmZmZmZgZAzczMzMzMBEBnZmZmZmYGQM3MzMzMzARAZ2ZmZmZmBkDNzMzMzMwEQGdmZmZmZgZAzczMzMzMBEBnZmZmZmYGQM3MzMzMzARAZ2ZmZmZmBkDNzMzMzMwEQGdmZmZmZgZAzczMzMzMBEBnZmZmZmYGQM3MzMzMzARAZ2ZmZmZmBkDNzMzMzMwEQGdmZmZmZgZAzczMzMzMBEBnZmZmZmYGQM3MzMzMzARAZ2ZmZmZmBkDNzMzMzMwEQGdmZmZmZgZAzczMzMzMBEBnZmZmZmYGQM3MzMzMzARAZ2ZmZmZmBkDNzMzMzMwEQGdmZmZmZgZAzczMzMzMBEBnZmZmZmYGQM3MzMzMzARAZ2ZmZmZmBkDNzMzMzMwEQGdmZmZmZgZAzczMzMzMBEDNzMzMzMwEQM3MzMzMzARAzczMzMzMBEDNzMzMzMwEQM3MzMzMzARAzczMzMzMBEDNzMzMzMwEQM3MzMzMzARAzczMzMzMBEDNzMzMzMwEQM3MzMzMzARAzczMzMzMBEBnZmZmZmYGQGdmZmZmZgZAZ2ZmZmZmBkBnZmZmZmYGQGdmZmZmZgZAZ2ZmZmZmBkBnZmZmZmYGQGdmZmZmZgZAZ2ZmZmZmBkBnZmZmZmYGQGdmZmZmZgZAZ2ZmZmZmBkA=",
          "dtype": "f8"
         }
        },
        {
         "color": "green",
         "i": {
          "bdata": "AQICBAQGBggICgoMDA4OEBASEhQUFhYYGBoaHBweHiAgIiIkJCYmAQMFCQULEQcFDSUfDQ8dDRcTDwQmCiQMEh4eHiAgHBYWFhgUFA==",
          "dtype": "i1"
         },
         "j": {
          "bdata": "AAEDAgUEBwYJCAsKDQwPDhEQExIVFBcWGRgbGh0cHx4hICMiJSQnJgAABycHDwUlByMlHw0bHRsPFwEBBiYGDgQkBiIkHgwaHBoOFg==",
          "dtype": "i1"
         },
         "k": {
          "bdata": "AwMFBQcHCQkLCw0NDw8RERMTFRUXFxkZGxsdHR8fISEjIyUlJycAAAUnCyUNEx8fHyEhHRcXFxkVFQIECAQKEAYEDCQeDA4cDBYSDg==",
          "dtype": "i1"
         },
         "name": "IfcSlab",
         "opacity": 0.5,
         "showscale": false,
         "type": "mesh3d",
         "x": {
          "bdata": "7D0f+n6K/7/sPR/6for/vzSxwphsx/A/NLHCmGzH8D84scKYbMfwPzixwphsx/A/I8oR2/m2F0AjyhHb+bYXQCHKEdv5thdAIcoR2/m2F0BwoAPgWmsiQHCgA+BaayJAcaAD4FprIkBxoAPgWmsiQFeSdz81+iZAV5J3PzX6JkBWknc/NfomQFaSdz81+iZAf13K91M/LUB/Xcr3Uz8tQIZdyvdTPy1Ahl3K91M/LUByr4IW2SonQHKvghbZKidAcq+CFtkqJ0Byr4IW2SonQG7PRLtJ6CFAbs9Eu0noIUBuz0S7SeghQG7PRLtJ6CFAGalgGgQOGEAZqWAaBA4YQBupYBoEDhhAG6lgGgQOGECYPv/8pVvuP5g+//ylW+4/gD7//KVb7j+APv/8pVvuP6w9H/p+iv+/rD0f+n6K/78=",
          "dtype": "f8"
         },
         "y": {
          "bdata": "YSQQ+EFjFEBhJBD4QWMUQGEkEPhBYxRAYSQQ+EFjFED9LTWzquIQQP0tNbOq4hBA/C01s6riEED8LTWzquIQQJbHzkxEfBRAlsfOTER8FECVx85MRHwUQJXHzkxEfBRA/wRt7EFjEED/BG3sQWMQQP8EbexBYxBA/wRt7EFjEEC9q8btQWMUQL2rxu1BYxRAvavG7UFjFEC9q8btQWMUQGce0yR8OQ/AZx7TJHw5D8BnHtMkfDkPwGce0yR8OQ/A7K3u/Q9VEsDsre79D1USwOyt7v0PVRLA7K3u/Q9VEsCzG8qrLjEPwLMbyqsuMQ/AsxvKqy4xD8CzG8qrLjEPwGiY09SKaRLAaJjT1IppEsBomNPUimkSwGiY09SKaRLAzWvXEnw5D8DNa9cSfDkPwMtr1xJ8OQ/Ay2vXEnw5D8A=",
          "dtype": "f8"
         },
         "z": {
          "bdata": "Z2ZmZmZmFkCamZmZmZkVQJqZmZmZmRVAZ2ZmZmZmFkCamZmZmZkVQGdmZmZmZhZAmpmZmZmZFUBnZmZmZmYWQJqZmZmZmRVAZ2ZmZmZmFkCamZmZmZkVQGdmZmZmZhZAmpmZmZmZFUBnZmZmZmYWQJqZmZmZmRVAZ2ZmZmZmFkCamZmZmZkVQGdmZmZmZhZAmpmZmZmZFUBnZmZmZmYWQJqZmZmZmRVAZ2ZmZmZmFkCamZmZmZkVQGdmZmZmZhZAmpmZmZmZFUBnZmZmZmYWQJqZmZmZmRVAZ2ZmZmZmFkCamZmZmZkVQGdmZmZmZhZAmpmZmZmZFUBnZmZmZmYWQJqZmZmZmRVAZ2ZmZmZmFkCamZmZmZkVQGdmZmZmZhZAmpmZmZmZFUBnZmZmZmYWQJqZmZmZmRVAZ2ZmZmZmFkA=",
          "dtype": "f8"
         }
        },
        {
         "color": "gray",
         "i": {
          "bdata": "AQICBAQGBgEDAAQE",
          "dtype": "i1"
         },
         "j": {
          "bdata": "AAEDAgUEBwYABwEG",
          "dtype": "i1"
         },
         "k": {
          "bdata": "AwMFBQcHAAAFBQIB",
          "dtype": "i1"
         },
         "name": "IfcFooting",
         "opacity": 0.5,
         "showscale": false,
         "type": "mesh3d",
         "x": {
          "bdata": "oj0f+n6K8b+iPR/6forxv9CeD30/xQTA0J4PfT/FBMDQng99P8UEwNCeD30/xQTAoj0f+n6K8b+iPR/6forxvw==",
          "dtype": "f8"
         },
         "y": {
          "bdata": "oMfOTET8EkCgx85MRPwSQKDHzkxE/BJAoMfOTET8EkBBj52ZiPgJQEGPnZmI+AlAQY+dmYj4CUBBj52ZiPgJQA==",
          "dtype": "f8"
         },
         "z": {
          "bdata": "Z2ZmZmZmAMCbmZmZmZn5v5uZmZmZmfm/Z2ZmZmZmAMCbmZmZmZn5v2dmZmZmZgDAm5mZmZmZ+b9nZmZmZmYAwA==",
          "dtype": "f8"
         }
        },
        {
         "color": "gray",
         "i": {
          "bdata": "AQICBAQGBgEDAAQE",
          "dtype": "i1"
         },
         "j": {
          "bdata": "AAEDAgUEBwYABwEG",
          "dtype": "i1"
         },
         "k": {
          "bdata": "AwMFBQcHAAAFBQIB",
          "dtype": "i1"
         },
         "name": "IfcFooting",
         "opacity": 0.5,
         "showscale": false,
         "type": "mesh3d",
         "x": {
          "bdata": "aP1EDi1qEUBo/UQOLWoRQND6iRxa1AZA0PqJHFrUBkDQ+okcWtQGQND6iRxa1AZAaP1EDi1qEUBo/UQOLWoRQA==",
          "dtype": "f8"
         },
         "y": {
          "bdata": "oMfOTET8EkCgx85MRPwSQKDHzkxE/BJAoMfOTET8EkBBj52ZiPgJQEGPnZmI+AlAQY+dmYj4CUBBj52ZiPgJQA==",
          "dtype": "f8"
         },
         "z": {
          "bdata": "Z2ZmZmZmAMCbmZmZmZn5v5uZmZmZmfm/Z2ZmZmZmAMCbmZmZmZn5v2dmZmZmZgDAm5mZmZmZ+b9nZmZmZmYAwA==",
          "dtype": "f8"
         }
        },
        {
         "color": "gray",
         "i": {
          "bdata": "AQICBAQGBgEDAAQE",
          "dtype": "i1"
         },
         "j": {
          "bdata": "AAEDAgUEBwYABwEG",
          "dtype": "i1"
         },
         "k": {
          "bdata": "AwMFBQcHAAAFBQIB",
          "dtype": "i1"
         },
         "name": "IfcFooting",
         "opacity": 0.5,
         "showscale": false,
         "type": "mesh3d",
         "x": {
          "bdata": "G+WI7XybI0Ab5YjtfJsjQBvliO18myBAG+WI7XybIEAb5YjtfJsgQBvliO18myBAG+WI7XybI0Ab5YjtfJsjQA==",
          "dtype": "f8"
         },
         "y": {
          "bdata": "oMfOTET8EkCgx85MRPwSQKDHzkxE/BJAoMfOTET8EkBBj52ZiPgJQEGPnZmI+AlAQY+dmYj4CUBBj52ZiPgJQA==",
          "dtype": "f8"
         },
         "z": {
          "bdata": "Z2ZmZmZmAMCbmZmZmZn5v5uZmZmZmfm/Z2ZmZmZmAMCbmZmZmZn5v2dmZmZmZgDAm5mZmZmZ+b9nZmZmZmYAwA==",
          "dtype": "f8"
         }
        },
        {
         "color": "gray",
         "i": {
          "bdata": "AQICBAQGBgEDAAQE",
          "dtype": "i1"
         },
         "j": {
          "bdata": "AAEDAgUEBwYABwEG",
          "dtype": "i1"
         },
         "k": {
          "bdata": "AwMFBQcHAAAFBQIB",
          "dtype": "i1"
         },
         "name": "IfcFooting",
         "opacity": 0.5,
         "showscale": false,
         "type": "mesh3d",
         "x": {
          "bdata": "gkvvU+OBLkCCS+9T44EuQIJL71PjgStAgkvvU+OBK0CCS+9T44ErQIJL71PjgStAgkvvU+OBLkCCS+9T44EuQA==",
          "dtype": "f8"
         },
         "y": {
          "bdata": "oMfOTET8EkCgx85MRPwSQKDHzkxE/BJAoMfOTET8EkBBj52ZiPgJQEGPnZmI+AlAQY+dmYj4CUBBj52ZiPgJQA==",
          "dtype": "f8"
         },
         "z": {
          "bdata": "Z2ZmZmZmAMCbmZmZmZn5v5uZmZmZmfm/Z2ZmZmZmAMCbmZmZmZn5v2dmZmZmZgDAm5mZmZmZ+b9nZmZmZmYAwA==",
          "dtype": "f8"
         }
        },
        {
         "color": "gray",
         "i": {
          "bdata": "AQICBAQGBgEDAAQE",
          "dtype": "i1"
         },
         "j": {
          "bdata": "AAEDAgUEBwYABwEG",
          "dtype": "i1"
         },
         "k": {
          "bdata": "AwMFBQcHAAAFBQIB",
          "dtype": "i1"
         },
         "name": "IfcFooting",
         "opacity": 0.5,
         "showscale": false,
         "type": "mesh3d",
         "x": {
          "bdata": "ONe4kxgk8b8417iTGCTxv5tr3EkMkgTAm2vcSQySBMCba9xJDJIEwJtr3EkMkgTAONe4kxgk8b8417iTGCTxvw==",
          "dtype": "f8"
         },
         "y": {
          "bdata": "vHCNJBARyr+8cI0kEBHKv7xwjSQQEcq/vHCNJBARyr8WrpEEIkL7vxaukQQiQvu/Fq6RBCJC+78WrpEEIkL7vw==",
          "dtype": "f8"
         },
         "z": {
          "bdata": "Z2ZmZmZmAMCbmZmZmZn5v5uZmZmZmfm/Z2ZmZmZmAMCbmZmZmZn5v2dmZmZmZgDAm5mZmZmZ+b9nZmZmZmYAwA==",
          "dtype": "f8"
         }
        },
        {
         "color": "gray",
         "i": {
          "bdata": "AQICBAQGBgEDAAQE",
          "dtype": "i1"
         },
         "j": {
          "bdata": "AAEDAgUEBwYABwEG",
          "dtype": "i1"
         },
         "k": {
          "bdata": "AwMFBQcHAAAFBQIB",
          "dtype": "i1"
         },
         "name": "IfcFooting",
         "opacity": 0.5,
         "showscale": false,
         "type": "mesh3d",
         "x": {
          "bdata": "Xv1EDi1qEUBe/UQOLWoRQLz6iRxa1AZAvPqJHFrUBkC8+okcWtQGQLz6iRxa1AZAXv1EDi1qEUBe/UQOLWoRQA==",
          "dtype": "f8"
         },
         "y": {
          "bdata": "vHCNJBARyr+8cI0kEBHKv7xwjSQQEcq/vHCNJBARyr8WrpEEIkL7vxaukQQiQvu/Fq6RBCJC+78WrpEEIkL7vw==",
          "dtype": "f8"
         },
         "z": {
          "bdata": "Z2ZmZmZmAMCbmZmZmZn5v5uZmZmZmfm/Z2ZmZmZmAMCbmZmZmZn5v2dmZmZmZgDAm5mZmZmZ+b9nZmZmZmYAwA==",
          "dtype": "f8"
         }
        },
        {
         "color": "gray",
         "i": {
          "bdata": "AQICBAQGBgEDAAQE",
          "dtype": "i1"
         },
         "j": {
          "bdata": "AAEDAgUEBwYABwEG",
          "dtype": "i1"
         },
         "k": {
          "bdata": "AwMFBQcHAAAFBQIB",
          "dtype": "i1"
         },
         "name": "IfcFooting",
         "opacity": 0.5,
         "showscale": false,
         "type": "mesh3d",
         "x": {
          "bdata": "FuWI7XybI0AW5YjtfJsjQBbliO18myBAFuWI7XybIEAW5YjtfJsgQBbliO18myBAFuWI7XybI0AW5YjtfJsjQA==",
          "dtype": "f8"
         },
         "y": {
          "bdata": "vHCNJBARyr+8cI0kEBHKv7xwjSQQEcq/vHCNJBARyr8WrpEEIkL7vxaukQQiQvu/Fq6RBCJC+78WrpEEIkL7vw==",
          "dtype": "f8"
         },
         "z": {
          "bdata": "Z2ZmZmZmAMCbmZmZmZn5v5uZmZmZmfm/Z2ZmZmZmAMCbmZmZmZn5v2dmZmZmZgDAm5mZmZmZ+b9nZmZmZmYAwA==",
          "dtype": "f8"
         }
        },
        {
         "color": "gray",
         "i": {
          "bdata": "AQICBAQGBgEDAAQE",
          "dtype": "i1"
         },
         "j": {
          "bdata": "AAEDAgUEBwYABwEG",
          "dtype": "i1"
         },
         "k": {
          "bdata": "AwMFBQcHAAAFBQIB",
          "dtype": "i1"
         },
         "name": "IfcFooting",
         "opacity": 0.5,
         "showscale": false,
         "type": "mesh3d",
         "x": {
          "bdata": "8Ij5KodyLkDwiPkqh3IuQPCI+SqHcitA8Ij5KodyK0DwiPkqh3IrQPCI+SqHcitA8Ij5KodyLkDwiPkqh3IuQA==",
          "dtype": "f8"
         },
         "y": {
          "bdata": "vHCNJBARyr+8cI0kEBHKv7xwjSQQEcq/vHCNJBARyr8WrpEEIkL7vxaukQQiQvu/Fq6RBCJC+78WrpEEIkL7vw==",
          "dtype": "f8"
         },
         "z": {
          "bdata": "Z2ZmZmZmAMCbmZmZmZn5v5uZmZmZmfm/Z2ZmZmZmAMCbmZmZmZn5v2dmZmZmZgDAm5mZmZmZ+b9nZmZmZmYAwA==",
          "dtype": "f8"
         }
        },
        {
         "color": "gray",
         "i": {
          "bdata": "AQICBAQGBgEDAAQE",
          "dtype": "i1"
         },
         "j": {
          "bdata": "AAEDAgUEBwYABwEG",
          "dtype": "i1"
         },
         "k": {
          "bdata": "AwMFBQcHAAAFBQIB",
          "dtype": "i1"
         },
         "name": "IfcFooting",
         "opacity": 0.5,
         "showscale": false,
         "type": "mesh3d",
         "x": {
          "bdata": "0D0f+n6K8b/QPR/6forxv+ieD30/xQTA6J4PfT/FBMDong99P8UEwOieD30/xQTA0D0f+n6K8b/QPR/6forxvw==",
          "dtype": "f8"
         },
         "y": {
          "bdata": "Ia5sPRt4BsAhrmw9G3gGwCGubD0beAbAIa5sPRt4BsAQV7aeDTwRwBBXtp4NPBHAEFe2ng08EcAQV7aeDTwRwA==",
          "dtype": "f8"
         },
         "z": {
          "bdata": "Z2ZmZmZmAMCbmZmZmZn5v5uZmZmZmfm/Z2ZmZmZmAMCbmZmZmZn5v2dmZmZmZgDAm5mZmZmZ+b9nZmZmZmYAwA==",
          "dtype": "f8"
         }
        },
        {
         "color": "gray",
         "i": {
          "bdata": "AQICBAQGBgEDAAQE",
          "dtype": "i1"
         },
         "j": {
          "bdata": "AAEDAgUEBwYABwEG",
          "dtype": "i1"
         },
         "k": {
          "bdata": "AwMFBQcHAAAFBQIB",
          "dtype": "i1"
         },
         "name": "IfcFooting",
         "opacity": 0.5,
         "showscale": false,
         "type": "mesh3d",
         "x": {
          "bdata": "Wf1EDi1qEUBZ/UQOLWoRQLL6iRxa1AZAsvqJHFrUBkCy+okcWtQGQLL6iRxa1AZAWf1EDi1qEUBZ/UQOLWoRQA==",
          "dtype": "f8"
         },
         "y": {
          "bdata": "SK5sPRt4BsBIrmw9G3gGwEiubD0beAbASK5sPRt4BsAkV7aeDTwRwCRXtp4NPBHAJFe2ng08EcAkV7aeDTwRwA==",
          "dtype": "f8"
         },
         "z": {
          "bdata": "Z2ZmZmZmAMCbmZmZmZn5v5uZmZmZmfm/Z2ZmZmZmAMCbmZmZmZn5v2dmZmZmZgDAm5mZmZmZ+b9nZmZmZmYAwA==",
          "dtype": "f8"
         }
        },
        {
         "color": "gray",
         "i": {
          "bdata": "AQICBAQGBgEDAAQE",
          "dtype": "i1"
         },
         "j": {
          "bdata": "AAEDAgUEBwYABwEG",
          "dtype": "i1"
         },
         "k": {
          "bdata": "AwMFBQcHAAAFBQIB",
          "dtype": "i1"
         },
         "name": "IfcFooting",
         "opacity": 0.5,
         "showscale": false,
         "type": "mesh3d",
         "x": {
          "bdata": "FuWI7XybI0AW5YjtfJsjQBbliO18myBAFuWI7XybIEAW5YjtfJsgQBbliO18myBAFuWI7XybI0AW5YjtfJsjQA==",
          "dtype": "f8"
         },
         "y": {
          "bdata": "SK5sPRt4BsBIrmw9G3gGwEiubD0beAbASK5sPRt4BsAkV7aeDTwRwCRXtp4NPBHAJFe2ng08EcAkV7aeDTwRwA==",
          "dtype": "f8"
         },
         "z": {
          "bdata": "Z2ZmZmZmAMCbmZmZmZn5v5uZmZmZmfm/Z2ZmZmZmAMCbmZmZmZn5v2dmZmZmZgDAm5mZmZmZ+b9nZmZmZmYAwA==",
          "dtype": "f8"
         }
        },
        {
         "color": "gray",
         "i": {
          "bdata": "AQICBAQGBgEDAAQE",
          "dtype": "i1"
         },
         "j": {
          "bdata": "AAEDAgUEBwYABwEG",
          "dtype": "i1"
         },
         "k": {
          "bdata": "AwMFBQcHAAAFBQIB",
          "dtype": "i1"
         },
         "name": "IfcFooting",
         "opacity": 0.5,
         "showscale": false,
         "type": "mesh3d",
         "x": {
          "bdata": "e0vvU+OBLkB7S+9T44EuQHtL71PjgStAe0vvU+OBK0B7S+9T44ErQHtL71PjgStAe0vvU+OBLkB7S+9T44EuQA==",
          "dtype": "f8"
         },
         "y": {
          "bdata": "ma5sPRt4BsCZrmw9G3gGwJmubD0beAbAma5sPRt4BsBMV7aeDTwRwExXtp4NPBHATFe2ng08EcBMV7aeDTwRwA==",
          "dtype": "f8"
         },
         "z": {
          "bdata": "Z2ZmZmZmAMCbmZmZmZn5v5uZmZmZmfm/Z2ZmZmZmAMCbmZmZmZn5v2dmZmZmZgDAm5mZmZmZ+b9nZmZmZmYAwA==",
          "dtype": "f8"
         }
        }
       ],
       "layout": {
        "legend": {
         "font": {
          "size": 10
         },
         "itemsizing": "constant",
         "title": {
          "text": "Element Types"
         }
        },
        "margin": {
         "b": 10,
         "l": 10,
         "r": 10,
         "t": 30
        },
        "scene": {
         "aspectmode": "data",
         "bgcolor": "white",
         "xaxis": {
          "title": {
           "text": "X"
          }
         },
         "yaxis": {
          "title": {
           "text": "Y"
          }
         },
         "zaxis": {
          "title": {
           "text": "Z"
          }
         }
        },
        "template": {
         "data": {
          "bar": [
           {
            "error_x": {
             "color": "#2a3f5f"
            },
            "error_y": {
             "color": "#2a3f5f"
            },
            "marker": {
             "line": {
              "color": "#E5ECF6",
              "width": 0.5
             },
             "pattern": {
              "fillmode": "overlay",
              "size": 10,
              "solidity": 0.2
             }
            },
            "type": "bar"
           }
          ],
          "barpolar": [
           {
            "marker": {
             "line": {
              "color": "#E5ECF6",
              "width": 0.5
             },
             "pattern": {
              "fillmode": "overlay",
              "size": 10,
              "solidity": 0.2
             }
            },
            "type": "barpolar"
           }
          ],
          "carpet": [
           {
            "aaxis": {
             "endlinecolor": "#2a3f5f",
             "gridcolor": "white",
             "linecolor": "white",
             "minorgridcolor": "white",
             "startlinecolor": "#2a3f5f"
            },
            "baxis": {
             "endlinecolor": "#2a3f5f",
             "gridcolor": "white",
             "linecolor": "white",
             "minorgridcolor": "white",
             "startlinecolor": "#2a3f5f"
            },
            "type": "carpet"
           }
          ],
          "choropleth": [
           {
            "colorbar": {
             "outlinewidth": 0,
             "ticks": ""
            },
            "type": "choropleth"
           }
          ],
          "contour": [
           {
            "colorbar": {
             "outlinewidth": 0,
             "ticks": ""
            },
            "colorscale": [
             [
              0,
              "#0d0887"
             ],
             [
              0.1111111111111111,
              "#46039f"
             ],
             [
              0.2222222222222222,
              "#7201a8"
             ],
             [
              0.3333333333333333,
              "#9c179e"
             ],
             [
              0.4444444444444444,
              "#bd3786"
             ],
             [
              0.5555555555555556,
              "#d8576b"
             ],
             [
              0.6666666666666666,
              "#ed7953"
             ],
             [
              0.7777777777777778,
              "#fb9f3a"
             ],
             [
              0.8888888888888888,
              "#fdca26"
             ],
             [
              1,
              "#f0f921"
             ]
            ],
            "type": "contour"
           }
          ],
          "contourcarpet": [
           {
            "colorbar": {
             "outlinewidth": 0,
             "ticks": ""
            },
            "type": "contourcarpet"
           }
          ],
          "heatmap": [
           {
            "colorbar": {
             "outlinewidth": 0,
             "ticks": ""
            },
            "colorscale": [
             [
              0,
              "#0d0887"
             ],
             [
              0.1111111111111111,
              "#46039f"
             ],
             [
              0.2222222222222222,
              "#7201a8"
             ],
             [
              0.3333333333333333,
              "#9c179e"
             ],
             [
              0.4444444444444444,
              "#bd3786"
             ],
             [
              0.5555555555555556,
              "#d8576b"
             ],
             [
              0.6666666666666666,
              "#ed7953"
             ],
             [
              0.7777777777777778,
              "#fb9f3a"
             ],
             [
              0.8888888888888888,
              "#fdca26"
             ],
             [
              1,
              "#f0f921"
             ]
            ],
            "type": "heatmap"
           }
          ],
          "histogram": [
           {
            "marker": {
             "pattern": {
              "fillmode": "overlay",
              "size": 10,
              "solidity": 0.2
             }
            },
            "type": "histogram"
           }
          ],
          "histogram2d": [
           {
            "colorbar": {
             "outlinewidth": 0,
             "ticks": ""
            },
            "colorscale": [
             [
              0,
              "#0d0887"
             ],
             [
              0.1111111111111111,
              "#46039f"
             ],
             [
              0.2222222222222222,
              "#7201a8"
             ],
             [
              0.3333333333333333,
              "#9c179e"
             ],
             [
              0.4444444444444444,
              "#bd3786"
             ],
             [
              0.5555555555555556,
              "#d8576b"
             ],
             [
              0.6666666666666666,
              "#ed7953"
             ],
             [
              0.7777777777777778,
              "#fb9f3a"
             ],
             [
              0.8888888888888888,
              "#fdca26"
             ],
             [
              1,
              "#f0f921"
             ]
            ],
            "type": "histogram2d"
           }
          ],
          "histogram2dcontour": [
           {
            "colorbar": {
             "outlinewidth": 0,
             "ticks": ""
            },
            "colorscale": [
             [
              0,
              "#0d0887"
             ],
             [
              0.1111111111111111,
              "#46039f"
             ],
             [
              0.2222222222222222,
              "#7201a8"
             ],
             [
              0.3333333333333333,
              "#9c179e"
             ],
             [
              0.4444444444444444,
              "#bd3786"
             ],
             [
              0.5555555555555556,
              "#d8576b"
             ],
             [
              0.6666666666666666,
              "#ed7953"
             ],
             [
              0.7777777777777778,
              "#fb9f3a"
             ],
             [
              0.8888888888888888,
              "#fdca26"
             ],
             [
              1,
              "#f0f921"
             ]
            ],
            "type": "histogram2dcontour"
           }
          ],
          "mesh3d": [
           {
            "colorbar": {
             "outlinewidth": 0,
             "ticks": ""
            },
            "type": "mesh3d"
           }
          ],
          "parcoords": [
           {
            "line": {
             "colorbar": {
              "outlinewidth": 0,
              "ticks": ""
             }
            },
            "type": "parcoords"
           }
          ],
          "pie": [
           {
            "automargin": true,
            "type": "pie"
           }
          ],
          "scatter": [
           {
            "fillpattern": {
             "fillmode": "overlay",
             "size": 10,
             "solidity": 0.2
            },
            "type": "scatter"
           }
          ],
          "scatter3d": [
           {
            "line": {
             "colorbar": {
              "outlinewidth": 0,
              "ticks": ""
             }
            },
            "marker": {
             "colorbar": {
              "outlinewidth": 0,
              "ticks": ""
             }
            },
            "type": "scatter3d"
           }
          ],
          "scattercarpet": [
           {
            "marker": {
             "colorbar": {
              "outlinewidth": 0,
              "ticks": ""
             }
            },
            "type": "scattercarpet"
           }
          ],
          "scattergeo": [
           {
            "marker": {
             "colorbar": {
              "outlinewidth": 0,
              "ticks": ""
             }
            },
            "type": "scattergeo"
           }
          ],
          "scattergl": [
           {
            "marker": {
             "colorbar": {
              "outlinewidth": 0,
              "ticks": ""
             }
            },
            "type": "scattergl"
           }
          ],
          "scattermap": [
           {
            "marker": {
             "colorbar": {
              "outlinewidth": 0,
              "ticks": ""
             }
            },
            "type": "scattermap"
           }
          ],
          "scattermapbox": [
           {
            "marker": {
             "colorbar": {
              "outlinewidth": 0,
              "ticks": ""
             }
            },
            "type": "scattermapbox"
           }
          ],
          "scatterpolar": [
           {
            "marker": {
             "colorbar": {
              "outlinewidth": 0,
              "ticks": ""
             }
            },
            "type": "scatterpolar"
           }
          ],
          "scatterpolargl": [
           {
            "marker": {
             "colorbar": {
              "outlinewidth": 0,
              "ticks": ""
             }
            },
            "type": "scatterpolargl"
           }
          ],
          "scatterternary": [
           {
            "marker": {
             "colorbar": {
              "outlinewidth": 0,
              "ticks": ""
             }
            },
            "type": "scatterternary"
           }
          ],
          "surface": [
           {
            "colorbar": {
             "outlinewidth": 0,
             "ticks": ""
            },
            "colorscale": [
             [
              0,
              "#0d0887"
             ],
             [
              0.1111111111111111,
              "#46039f"
             ],
             [
              0.2222222222222222,
              "#7201a8"
             ],
             [
              0.3333333333333333,
              "#9c179e"
             ],
             [
              0.4444444444444444,
              "#bd3786"
             ],
             [
              0.5555555555555556,
              "#d8576b"
             ],
             [
              0.6666666666666666,
              "#ed7953"
             ],
             [
              0.7777777777777778,
              "#fb9f3a"
             ],
             [
              0.8888888888888888,
              "#fdca26"
             ],
             [
              1,
              "#f0f921"
             ]
            ],
            "type": "surface"
           }
          ],
          "table": [
           {
            "cells": {
             "fill": {
              "color": "#EBF0F8"
             },
             "line": {
              "color": "white"
             }
            },
            "header": {
             "fill": {
              "color": "#C8D4E3"
             },
             "line": {
              "color": "white"
             }
            },
            "type": "table"
           }
          ]
         },
         "layout": {
          "annotationdefaults": {
           "arrowcolor": "#2a3f5f",
           "arrowhead": 0,
           "arrowwidth": 1
          },
          "autotypenumbers": "strict",
          "coloraxis": {
           "colorbar": {
            "outlinewidth": 0,
            "ticks": ""
           }
          },
          "colorscale": {
           "diverging": [
            [
             0,
             "#8e0152"
            ],
            [
             0.1,
             "#c51b7d"
            ],
            [
             0.2,
             "#de77ae"
            ],
            [
             0.3,
             "#f1b6da"
            ],
            [
             0.4,
             "#fde0ef"
            ],
            [
             0.5,
             "#f7f7f7"
            ],
            [
             0.6,
             "#e6f5d0"
            ],
            [
             0.7,
             "#b8e186"
            ],
            [
             0.8,
             "#7fbc41"
            ],
            [
             0.9,
             "#4d9221"
            ],
            [
             1,
             "#276419"
            ]
           ],
           "sequential": [
            [
             0,
             "#0d0887"
            ],
            [
             0.1111111111111111,
             "#46039f"
            ],
            [
             0.2222222222222222,
             "#7201a8"
            ],
            [
             0.3333333333333333,
             "#9c179e"
            ],
            [
             0.4444444444444444,
             "#bd3786"
            ],
            [
             0.5555555555555556,
             "#d8576b"
            ],
            [
             0.6666666666666666,
             "#ed7953"
            ],
            [
             0.7777777777777778,
             "#fb9f3a"
            ],
            [
             0.8888888888888888,
             "#fdca26"
            ],
            [
             1,
             "#f0f921"
            ]
           ],
           "sequentialminus": [
            [
             0,
             "#0d0887"
            ],
            [
             0.1111111111111111,
             "#46039f"
            ],
            [
             0.2222222222222222,
             "#7201a8"
            ],
            [
             0.3333333333333333,
             "#9c179e"
            ],
            [
             0.4444444444444444,
             "#bd3786"
            ],
            [
             0.5555555555555556,
             "#d8576b"
            ],
            [
             0.6666666666666666,
             "#ed7953"
            ],
            [
             0.7777777777777778,
             "#fb9f3a"
            ],
            [
             0.8888888888888888,
             "#fdca26"
            ],
            [
             1,
             "#f0f921"
            ]
           ]
          },
          "colorway": [
           "#636efa",
           "#EF553B",
           "#00cc96",
           "#ab63fa",
           "#FFA15A",
           "#19d3f3",
           "#FF6692",
           "#B6E880",
           "#FF97FF",
           "#FECB52"
          ],
          "font": {
           "color": "#2a3f5f"
          },
          "geo": {
           "bgcolor": "white",
           "lakecolor": "white",
           "landcolor": "#E5ECF6",
           "showlakes": true,
           "showland": true,
           "subunitcolor": "white"
          },
          "hoverlabel": {
           "align": "left"
          },
          "hovermode": "closest",
          "mapbox": {
           "style": "light"
          },
          "paper_bgcolor": "white",
          "plot_bgcolor": "#E5ECF6",
          "polar": {
           "angularaxis": {
            "gridcolor": "white",
            "linecolor": "white",
            "ticks": ""
           },
           "bgcolor": "#E5ECF6",
           "radialaxis": {
            "gridcolor": "white",
            "linecolor": "white",
            "ticks": ""
           }
          },
          "scene": {
           "xaxis": {
            "backgroundcolor": "#E5ECF6",
            "gridcolor": "white",
            "gridwidth": 2,
            "linecolor": "white",
            "showbackground": true,
            "ticks": "",
            "zerolinecolor": "white"
           },
           "yaxis": {
            "backgroundcolor": "#E5ECF6",
            "gridcolor": "white",
            "gridwidth": 2,
            "linecolor": "white",
            "showbackground": true,
            "ticks": "",
            "zerolinecolor": "white"
           },
           "zaxis": {
            "backgroundcolor": "#E5ECF6",
            "gridcolor": "white",
            "gridwidth": 2,
            "linecolor": "white",
            "showbackground": true,
            "ticks": "",
            "zerolinecolor": "white"
           }
          },
          "shapedefaults": {
           "line": {
            "color": "#2a3f5f"
           }
          },
          "ternary": {
           "aaxis": {
            "gridcolor": "white",
            "linecolor": "white",
            "ticks": ""
           },
           "baxis": {
            "gridcolor": "white",
            "linecolor": "white",
            "ticks": ""
           },
           "bgcolor": "#E5ECF6",
           "caxis": {
            "gridcolor": "white",
            "linecolor": "white",
            "ticks": ""
           }
          },
          "title": {
           "x": 0.05
          },
          "xaxis": {
           "automargin": true,
           "gridcolor": "white",
           "linecolor": "white",
           "ticks": "",
           "title": {
            "standoff": 15
           },
           "zerolinecolor": "white",
           "zerolinewidth": 2
          },
          "yaxis": {
           "automargin": true,
           "gridcolor": "white",
           "linecolor": "white",
           "ticks": "",
           "title": {
            "standoff": 15
           },
           "zerolinecolor": "white",
           "zerolinewidth": 2
          }
         }
        },
        "title": {
         "text": "IFC Structural Model"
        }
       }
      }
     },
     "metadata": {},
     "output_type": "display_data"
    }
   ],
   "source": [
    "converter = IFCManager()\n",
    "converter.load_ifc('sample_models/CASA TIPO 11111.ifc')\n",
    "structural_elements = converter.extract_structural_elements()\n",
    "print(f\"Extracted elements: {len(structural_elements)}\")\n",
    "print(\"Element types:\", {elem['type'] for elem in structural_elements.values()})\n",
    "converter.visualize_model()"
   ]
  },
  {
   "cell_type": "code",
   "execution_count": 3,
   "id": "f374fea5",
   "metadata": {},
   "outputs": [
    {
     "name": "stdout",
     "output_type": "stream",
     "text": [
      "--- Element ID: 1YMpECnoXAAgd3TsblgkRb ---\n",
      "  Name: M_Concrete-Rectangular Beam:250 x 500mm:416913\n",
      "  Type: IfcBeam\n",
      "  Materials:\n",
      "    - Concrete, Cast-in-Place gray (Type: material)\n",
      "  Other Properties:\n",
      "    - Pset_BeamCommon.IsExternal: False\n",
      "    - Pset_BeamCommon.LoadBearing: True\n",
      "    - Pset_BeamCommon.id: 313\n",
      "    - Pset_BeamCommon.Slope: 0.0\n",
      "    - Pset_BeamCommon.Reference: 250 x 500mm\n",
      "    - Pset_BeamCommon.Span: 5570.000000000003\n",
      "    - Pset_BeamCommon.Roll: 0.0\n",
      "    - Pset_EnvironmentalImpactIndicators.Reference: 250 x 500mm\n",
      "    - Pset_EnvironmentalImpactIndicators.id: 314\n",
      "    - Pset_ReinforcementBarPitchOfBeam.Reference: 250 x 500mm\n",
      "    - Pset_ReinforcementBarPitchOfBeam.id: 316\n",
      "    - Qto_BeamBaseQuantities.Length: 5570.000000000003\n",
      "    - Qto_BeamBaseQuantities.CrossSectionArea: 0.07500000000012796\n",
      "    - Qto_BeamBaseQuantities.OuterSurfaceArea: 5.720000000005508\n",
      "    - Qto_BeamBaseQuantities.GrossSurfaceArea: 5.870000000005764\n",
      "    - Qto_BeamBaseQuantities.NetSurfaceArea: 5.87000000000568\n",
      "    - Qto_BeamBaseQuantities.GrossVolume: 0.39000000000066565\n",
      "    - Qto_BeamBaseQuantities.NetVolume: 0.3900000000006783\n",
      "    - Qto_BeamBaseQuantities.id: 327\n",
      "\n",
      "\n",
      "--- Element ID: 1YMpECnoXAAgd3TsblgkRl ---\n",
      "  Name: M_Concrete-Rectangular Beam:250 x 500mm:416923\n",
      "  Type: IfcBeam\n",
      "  Materials:\n",
      "    - Concrete, Cast-in-Place gray (Type: material)\n",
      "  Other Properties:\n",
      "    - Pset_BeamCommon.IsExternal: False\n",
      "    - Pset_BeamCommon.LoadBearing: True\n",
      "    - Pset_BeamCommon.id: 359\n",
      "    - Pset_BeamCommon.Slope: 0.0\n",
      "    - Pset_BeamCommon.Reference: 250 x 500mm\n",
      "    - Pset_BeamCommon.Roll: 0.0\n",
      "    - Pset_BeamCommon.Span: 5570.000000000001\n",
      "    - Pset_EnvironmentalImpactIndicators.Reference: 250 x 500mm\n",
      "    - Pset_EnvironmentalImpactIndicators.id: 360\n",
      "    - Pset_ReinforcementBarPitchOfBeam.Reference: 250 x 500mm\n",
      "    - Pset_ReinforcementBarPitchOfBeam.id: 362\n",
      "    - Qto_BeamBaseQuantities.Length: 5570.000000000001\n",
      "    - Qto_BeamBaseQuantities.CrossSectionArea: 0.07500000000012813\n",
      "    - Qto_BeamBaseQuantities.OuterSurfaceArea: 5.720000000005532\n",
      "    - Qto_BeamBaseQuantities.GrossSurfaceArea: 5.870000000005788\n",
      "    - Qto_BeamBaseQuantities.NetSurfaceArea: 5.870000000005677\n",
      "    - Qto_BeamBaseQuantities.GrossVolume: 0.39000000000066637\n",
      "    - Qto_BeamBaseQuantities.NetVolume: 0.3900000000006782\n",
      "    - Qto_BeamBaseQuantities.id: 373\n",
      "\n",
      "\n",
      "--- Element ID: 2e3KIcTBT93wdBtSLDrMFt ---\n",
      "  Name: M_Concrete-Rectangular Beam:250 x 500mm:418561\n",
      "  Type: IfcBeam\n",
      "  Materials:\n",
      "    - Concrete, Cast-in-Place gray (Type: material)\n",
      "  Other Properties:\n",
      "    - Pset_BeamCommon.IsExternal: False\n",
      "    - Pset_BeamCommon.LoadBearing: True\n",
      "    - Pset_BeamCommon.id: 476\n",
      "    - Pset_BeamCommon.Slope: 0.0\n",
      "    - Pset_BeamCommon.Reference: 250 x 500mm\n",
      "    - Pset_BeamCommon.Roll: 0.0\n",
      "    - Pset_BeamCommon.Span: 5570.000000000001\n",
      "    - Pset_EnvironmentalImpactIndicators.Reference: 250 x 500mm\n",
      "    - Pset_EnvironmentalImpactIndicators.id: 477\n",
      "    - Pset_ReinforcementBarPitchOfBeam.Reference: 250 x 500mm\n",
      "    - Pset_ReinforcementBarPitchOfBeam.id: 479\n",
      "    - Qto_BeamBaseQuantities.Length: 5570.000000000001\n",
      "    - Qto_BeamBaseQuantities.CrossSectionArea: 0.07499999999999916\n",
      "    - Qto_BeamBaseQuantities.OuterSurfaceArea: 5.63750000000014\n",
      "    - Qto_BeamBaseQuantities.GrossSurfaceArea: 5.787500000000138\n",
      "    - Qto_BeamBaseQuantities.NetSurfaceArea: 5.787500000000044\n",
      "    - Qto_BeamBaseQuantities.GrossVolume: 0.3843749999999954\n",
      "    - Qto_BeamBaseQuantities.NetVolume: 0.3843750000000067\n",
      "    - Qto_BeamBaseQuantities.id: 490\n",
      "\n",
      "\n",
      "--- Element ID: 2e3KIcTBT93wdBtSLDrMFR ---\n",
      "  Name: M_Concrete-Rectangular Beam:250 x 500mm:418605\n",
      "  Type: IfcBeam\n",
      "  Materials:\n",
      "    - Concrete, Cast-in-Place gray (Type: material)\n",
      "  Other Properties:\n",
      "    - Pset_BeamCommon.IsExternal: False\n",
      "    - Pset_BeamCommon.LoadBearing: True\n",
      "    - Pset_BeamCommon.id: 522\n",
      "    - Pset_BeamCommon.Slope: 0.0\n",
      "    - Pset_BeamCommon.Reference: 250 x 500mm\n",
      "    - Pset_BeamCommon.Roll: 0.0\n",
      "    - Pset_BeamCommon.Span: 4950.000017136324\n",
      "    - Pset_EnvironmentalImpactIndicators.Reference: 250 x 500mm\n",
      "    - Pset_EnvironmentalImpactIndicators.id: 523\n",
      "    - Pset_ReinforcementBarPitchOfBeam.Reference: 250 x 500mm\n",
      "    - Pset_ReinforcementBarPitchOfBeam.id: 525\n",
      "    - Qto_BeamBaseQuantities.Length: 4950.000017136324\n",
      "    - Qto_BeamBaseQuantities.CrossSectionArea: 0.07500000000000143\n",
      "    - Qto_BeamBaseQuantities.OuterSurfaceArea: 4.9775000188500025\n",
      "    - Qto_BeamBaseQuantities.GrossSurfaceArea: 5.1275000188500055\n",
      "    - Qto_BeamBaseQuantities.NetSurfaceArea: 5.127500018850002\n",
      "    - Qto_BeamBaseQuantities.GrossVolume: 0.33937500128523085\n",
      "    - Qto_BeamBaseQuantities.NetVolume: 0.33937500128523057\n",
      "    - Qto_BeamBaseQuantities.id: 536\n",
      "\n",
      "\n",
      "--- Element ID: 2e3KIcTBT93wdBtSLDrMEd ---\n",
      "  Name: M_Concrete-Rectangular Beam:250 x 500mm:418641\n",
      "  Type: IfcBeam\n",
      "  Materials:\n",
      "    - Concrete, Cast-in-Place gray (Type: material)\n",
      "  Other Properties:\n",
      "    - Pset_BeamCommon.IsExternal: False\n",
      "    - Pset_BeamCommon.LoadBearing: True\n",
      "    - Pset_BeamCommon.id: 568\n",
      "    - Pset_BeamCommon.Slope: 0.0\n",
      "    - Pset_BeamCommon.Reference: 250 x 500mm\n",
      "    - Pset_BeamCommon.Roll: 0.0\n",
      "    - Pset_BeamCommon.Span: 2604.99998286367\n",
      "    - Pset_EnvironmentalImpactIndicators.Reference: 250 x 500mm\n",
      "    - Pset_EnvironmentalImpactIndicators.id: 569\n",
      "    - Pset_ReinforcementBarPitchOfBeam.Reference: 250 x 500mm\n",
      "    - Pset_ReinforcementBarPitchOfBeam.id: 571\n",
      "    - Qto_BeamBaseQuantities.Length: 2604.99998286367\n",
      "    - Qto_BeamBaseQuantities.CrossSectionArea: 0.07500000000000163\n",
      "    - Qto_BeamBaseQuantities.OuterSurfaceArea: 2.3979999811500625\n",
      "    - Qto_BeamBaseQuantities.GrossSurfaceArea: 2.547999981150066\n",
      "    - Qto_BeamBaseQuantities.NetSurfaceArea: 2.5479999811500638\n",
      "    - Qto_BeamBaseQuantities.GrossVolume: 0.1634999987147789\n",
      "    - Qto_BeamBaseQuantities.NetVolume: 0.16349999871477836\n",
      "    - Qto_BeamBaseQuantities.id: 582\n",
      "\n",
      "\n",
      "--- Element ID: 2e3KIcTBT93wdBtSLDrMHi ---\n",
      "  Name: M_Concrete-Rectangular Beam:250 x 500mm:418970\n",
      "  Type: IfcBeam\n",
      "  Materials:\n",
      "    - Concrete, Cast-in-Place gray (Type: material)\n",
      "  Other Properties:\n",
      "    - Pset_BeamCommon.IsExternal: False\n",
      "    - Pset_BeamCommon.LoadBearing: True\n",
      "    - Pset_BeamCommon.id: 614\n",
      "    - Pset_BeamCommon.Slope: 0.0\n",
      "    - Pset_BeamCommon.Reference: 250 x 500mm\n",
      "    - Pset_BeamCommon.Roll: 0.0\n",
      "    - Pset_BeamCommon.Span: 4950.000017136321\n",
      "    - Pset_EnvironmentalImpactIndicators.Reference: 250 x 500mm\n",
      "    - Pset_EnvironmentalImpactIndicators.id: 615\n",
      "    - Pset_ReinforcementBarPitchOfBeam.Reference: 250 x 500mm\n",
      "    - Pset_ReinforcementBarPitchOfBeam.id: 617\n",
      "    - Qto_BeamBaseQuantities.Length: 4950.000017136321\n",
      "    - Qto_BeamBaseQuantities.CrossSectionArea: 0.07500000000000147\n",
      "    - Qto_BeamBaseQuantities.OuterSurfaceArea: 4.977500018850006\n",
      "    - Qto_BeamBaseQuantities.GrossSurfaceArea: 5.127500018850009\n",
      "    - Qto_BeamBaseQuantities.NetSurfaceArea: 5.127500018850008\n",
      "    - Qto_BeamBaseQuantities.GrossVolume: 0.33937500128523085\n",
      "    - Qto_BeamBaseQuantities.NetVolume: 0.3393750012852311\n",
      "    - Qto_BeamBaseQuantities.id: 628\n",
      "\n",
      "\n",
      "--- Element ID: 2e3KIcTBT93wdBtSLDrMH9 ---\n",
      "  Name: M_Concrete-Rectangular Beam:250 x 500mm:419007\n",
      "  Type: IfcBeam\n",
      "  Materials:\n",
      "    - Concrete, Cast-in-Place gray (Type: material)\n",
      "  Other Properties:\n",
      "    - Pset_BeamCommon.IsExternal: False\n",
      "    - Pset_BeamCommon.LoadBearing: True\n",
      "    - Pset_BeamCommon.id: 660\n",
      "    - Pset_BeamCommon.Slope: 0.0\n",
      "    - Pset_BeamCommon.Reference: 250 x 500mm\n",
      "    - Pset_BeamCommon.Roll: 0.0\n",
      "    - Pset_BeamCommon.Span: 2604.99998286367\n",
      "    - Pset_EnvironmentalImpactIndicators.Reference: 250 x 500mm\n",
      "    - Pset_EnvironmentalImpactIndicators.id: 661\n",
      "    - Pset_ReinforcementBarPitchOfBeam.Reference: 250 x 500mm\n",
      "    - Pset_ReinforcementBarPitchOfBeam.id: 663\n",
      "    - Qto_BeamBaseQuantities.Length: 2604.99998286367\n",
      "    - Qto_BeamBaseQuantities.CrossSectionArea: 0.07500000000000155\n",
      "    - Qto_BeamBaseQuantities.OuterSurfaceArea: 2.425499981150064\n",
      "    - Qto_BeamBaseQuantities.GrossSurfaceArea: 2.575499981150067\n",
      "    - Qto_BeamBaseQuantities.NetSurfaceArea: 2.5754999811500636\n",
      "    - Qto_BeamBaseQuantities.GrossVolume: 0.1653749987147787\n",
      "    - Qto_BeamBaseQuantities.NetVolume: 0.1653749987147787\n",
      "    - Qto_BeamBaseQuantities.id: 674\n",
      "\n",
      "\n",
      "--- Element ID: 2e3KIcTBT93wdBtSLDrMNR ---\n",
      "  Name: M_Concrete-Rectangular Beam:250 x 500mm:419117\n",
      "  Type: IfcBeam\n",
      "  Materials:\n",
      "    - Concrete, Cast-in-Place gray (Type: material)\n",
      "  Other Properties:\n",
      "    - Pset_BeamCommon.IsExternal: False\n",
      "    - Pset_BeamCommon.LoadBearing: True\n",
      "    - Pset_BeamCommon.id: 776\n",
      "    - Pset_BeamCommon.Slope: 0.0\n",
      "    - Pset_BeamCommon.Reference: 250 x 500mm\n",
      "    - Pset_BeamCommon.Roll: 0.0\n",
      "    - Pset_BeamCommon.Span: 5570.000000000003\n",
      "    - Pset_EnvironmentalImpactIndicators.Reference: 250 x 500mm\n",
      "    - Pset_EnvironmentalImpactIndicators.id: 777\n",
      "    - Pset_ReinforcementBarPitchOfBeam.Reference: 250 x 500mm\n",
      "    - Pset_ReinforcementBarPitchOfBeam.id: 779\n",
      "    - Qto_BeamBaseQuantities.Length: 5570.000000000003\n",
      "    - Qto_BeamBaseQuantities.CrossSectionArea: 0.07500000000012796\n",
      "    - Qto_BeamBaseQuantities.OuterSurfaceArea: 5.720000000005506\n",
      "    - Qto_BeamBaseQuantities.GrossSurfaceArea: 5.870000000005762\n",
      "    - Qto_BeamBaseQuantities.NetSurfaceArea: 5.870000000005681\n",
      "    - Qto_BeamBaseQuantities.GrossVolume: 0.3900000000006657\n",
      "    - Qto_BeamBaseQuantities.NetVolume: 0.39000000000067836\n",
      "    - Qto_BeamBaseQuantities.id: 790\n",
      "\n",
      "\n",
      "--- Element ID: 2e3KIcTBT93wdBtSLDrMNP ---\n",
      "  Name: M_Concrete-Rectangular Beam:250 x 500mm:419119\n",
      "  Type: IfcBeam\n",
      "  Materials:\n",
      "    - Concrete, Cast-in-Place gray (Type: material)\n",
      "  Other Properties:\n",
      "    - Pset_BeamCommon.IsExternal: False\n",
      "    - Pset_BeamCommon.LoadBearing: True\n",
      "    - Pset_BeamCommon.id: 822\n",
      "    - Pset_BeamCommon.Slope: 0.0\n",
      "    - Pset_BeamCommon.Reference: 250 x 500mm\n",
      "    - Pset_BeamCommon.Roll: 0.0\n",
      "    - Pset_BeamCommon.Span: 5570.000000000001\n",
      "    - Pset_EnvironmentalImpactIndicators.Reference: 250 x 500mm\n",
      "    - Pset_EnvironmentalImpactIndicators.id: 823\n",
      "    - Pset_ReinforcementBarPitchOfBeam.Reference: 250 x 500mm\n",
      "    - Pset_ReinforcementBarPitchOfBeam.id: 825\n",
      "    - Qto_BeamBaseQuantities.Length: 5570.000000000001\n",
      "    - Qto_BeamBaseQuantities.CrossSectionArea: 0.07500000000012813\n",
      "    - Qto_BeamBaseQuantities.OuterSurfaceArea: 5.720000000005535\n",
      "    - Qto_BeamBaseQuantities.GrossSurfaceArea: 5.870000000005791\n",
      "    - Qto_BeamBaseQuantities.NetSurfaceArea: 5.870000000005682\n",
      "    - Qto_BeamBaseQuantities.GrossVolume: 0.3900000000006665\n",
      "    - Qto_BeamBaseQuantities.NetVolume: 0.3900000000006783\n",
      "    - Qto_BeamBaseQuantities.id: 836\n",
      "\n",
      "\n",
      "--- Element ID: 2e3KIcTBT93wdBtSLDrMNE ---\n",
      "  Name: M_Concrete-Rectangular Beam:250 x 500mm:419128\n",
      "  Type: IfcBeam\n",
      "  Materials:\n",
      "    - Concrete, Cast-in-Place gray (Type: material)\n",
      "  Other Properties:\n",
      "    - Pset_BeamCommon.IsExternal: False\n",
      "    - Pset_BeamCommon.LoadBearing: True\n",
      "    - Pset_BeamCommon.id: 903\n",
      "    - Pset_BeamCommon.Slope: 0.0\n",
      "    - Pset_BeamCommon.Reference: 250 x 500mm\n",
      "    - Pset_BeamCommon.Roll: 0.0\n",
      "    - Pset_BeamCommon.Span: 5570.000000000001\n",
      "    - Pset_EnvironmentalImpactIndicators.Reference: 250 x 500mm\n",
      "    - Pset_EnvironmentalImpactIndicators.id: 904\n",
      "    - Pset_ReinforcementBarPitchOfBeam.Reference: 250 x 500mm\n",
      "    - Pset_ReinforcementBarPitchOfBeam.id: 906\n",
      "    - Qto_BeamBaseQuantities.Length: 5570.000000000001\n",
      "    - Qto_BeamBaseQuantities.CrossSectionArea: 0.07499999999999914\n",
      "    - Qto_BeamBaseQuantities.OuterSurfaceArea: 5.665000000000147\n",
      "    - Qto_BeamBaseQuantities.GrossSurfaceArea: 5.815000000000145\n",
      "    - Qto_BeamBaseQuantities.NetSurfaceArea: 5.815000000000055\n",
      "    - Qto_BeamBaseQuantities.GrossVolume: 0.38624999999999565\n",
      "    - Qto_BeamBaseQuantities.NetVolume: 0.38625000000000714\n",
      "    - Qto_BeamBaseQuantities.id: 917\n",
      "\n",
      "\n",
      "--- Element ID: 2e3KIcTBT93wdBtSLDrMMs ---\n",
      "  Name: M_Concrete-Rectangular Beam:250 x 500mm:419136\n",
      "  Type: IfcBeam\n",
      "  Materials:\n",
      "    - Concrete, Cast-in-Place gray (Type: material)\n",
      "  Other Properties:\n",
      "    - Pset_BeamCommon.IsExternal: False\n",
      "    - Pset_BeamCommon.LoadBearing: True\n",
      "    - Pset_BeamCommon.id: 949\n",
      "    - Pset_BeamCommon.Slope: 0.0\n",
      "    - Pset_BeamCommon.Reference: 250 x 500mm\n",
      "    - Pset_BeamCommon.Roll: 0.0\n",
      "    - Pset_BeamCommon.Span: 4950.000017136321\n",
      "    - Pset_EnvironmentalImpactIndicators.Reference: 250 x 500mm\n",
      "    - Pset_EnvironmentalImpactIndicators.id: 950\n",
      "    - Pset_ReinforcementBarPitchOfBeam.Reference: 250 x 500mm\n",
      "    - Pset_ReinforcementBarPitchOfBeam.id: 952\n",
      "    - Qto_BeamBaseQuantities.Length: 4950.000017136321\n",
      "    - Qto_BeamBaseQuantities.CrossSectionArea: 0.07500000000000122\n",
      "    - Qto_BeamBaseQuantities.OuterSurfaceArea: 4.977500018849995\n",
      "    - Qto_BeamBaseQuantities.GrossSurfaceArea: 5.1275000188499975\n",
      "    - Qto_BeamBaseQuantities.NetSurfaceArea: 5.127500018849992\n",
      "    - Qto_BeamBaseQuantities.GrossVolume: 0.33937500128522985\n",
      "    - Qto_BeamBaseQuantities.NetVolume: 0.33937500128522946\n",
      "    - Qto_BeamBaseQuantities.id: 963\n",
      "\n",
      "\n",
      "--- Element ID: 2e3KIcTBT93wdBtSLDrMMq ---\n",
      "  Name: M_Concrete-Rectangular Beam:250 x 500mm:419138\n",
      "  Type: IfcBeam\n",
      "  Materials:\n",
      "    - Concrete, Cast-in-Place gray (Type: material)\n",
      "  Other Properties:\n",
      "    - Pset_BeamCommon.IsExternal: False\n",
      "    - Pset_BeamCommon.LoadBearing: True\n",
      "    - Pset_BeamCommon.id: 995\n",
      "    - Pset_BeamCommon.Slope: 0.0\n",
      "    - Pset_BeamCommon.Reference: 250 x 500mm\n",
      "    - Pset_BeamCommon.Roll: 0.0\n",
      "    - Pset_BeamCommon.Span: 2604.99998286367\n",
      "    - Pset_EnvironmentalImpactIndicators.Reference: 250 x 500mm\n",
      "    - Pset_EnvironmentalImpactIndicators.id: 996\n",
      "    - Pset_ReinforcementBarPitchOfBeam.Reference: 250 x 500mm\n",
      "    - Pset_ReinforcementBarPitchOfBeam.id: 998\n",
      "    - Qto_BeamBaseQuantities.Length: 2604.99998286367\n",
      "    - Qto_BeamBaseQuantities.CrossSectionArea: 0.07500000000000122\n",
      "    - Qto_BeamBaseQuantities.OuterSurfaceArea: 2.4254999811500566\n",
      "    - Qto_BeamBaseQuantities.GrossSurfaceArea: 2.575499981150059\n",
      "    - Qto_BeamBaseQuantities.NetSurfaceArea: 2.5754999811500583\n",
      "    - Qto_BeamBaseQuantities.GrossVolume: 0.16537499871477798\n",
      "    - Qto_BeamBaseQuantities.NetVolume: 0.16537499871477793\n",
      "    - Qto_BeamBaseQuantities.id: 1009\n",
      "\n",
      "\n",
      "--- Element ID: 2e3KIcTBT93wdBtSLDrMMR ---\n",
      "  Name: M_Concrete-Rectangular Beam:250 x 500mm:419181\n",
      "  Type: IfcBeam\n",
      "  Materials:\n",
      "    - Concrete, Cast-in-Place gray (Type: material)\n",
      "  Other Properties:\n",
      "    - Pset_BeamCommon.IsExternal: False\n",
      "    - Pset_BeamCommon.LoadBearing: True\n",
      "    - Pset_BeamCommon.id: 1125\n",
      "    - Pset_BeamCommon.Slope: 0.0\n",
      "    - Pset_BeamCommon.Reference: 250 x 500mm\n",
      "    - Pset_BeamCommon.Roll: 0.0\n",
      "    - Pset_BeamCommon.Span: 5570.000000000003\n",
      "    - Pset_EnvironmentalImpactIndicators.Reference: 250 x 500mm\n",
      "    - Pset_EnvironmentalImpactIndicators.id: 1126\n",
      "    - Pset_ReinforcementBarPitchOfBeam.Reference: 250 x 500mm\n",
      "    - Pset_ReinforcementBarPitchOfBeam.id: 1128\n",
      "    - Qto_BeamBaseQuantities.Length: 5570.000000000003\n",
      "    - Qto_BeamBaseQuantities.CrossSectionArea: 3.3956865861665952\n",
      "    - Qto_BeamBaseQuantities.NetSurfaceArea: 6.7913731723331905\n",
      "    - Qto_BeamBaseQuantities.NetVolume: 0.40113210966983825\n",
      "    - Qto_BeamBaseQuantities.id: 1136\n",
      "\n",
      "\n",
      "--- Element ID: 2e3KIcTBT93wdBtSLDrMMP ---\n",
      "  Name: M_Concrete-Rectangular Beam:250 x 500mm:419183\n",
      "  Type: IfcBeam\n",
      "  Materials:\n",
      "    - Concrete, Cast-in-Place gray (Type: material)\n",
      "  Other Properties:\n",
      "    - Pset_BeamCommon.IsExternal: False\n",
      "    - Pset_BeamCommon.LoadBearing: True\n",
      "    - Pset_BeamCommon.id: 1168\n",
      "    - Pset_BeamCommon.Slope: 0.0\n",
      "    - Pset_BeamCommon.Reference: 250 x 500mm\n",
      "    - Pset_BeamCommon.Roll: 0.0\n",
      "    - Pset_BeamCommon.Span: 5570.000000000001\n",
      "    - Pset_EnvironmentalImpactIndicators.Reference: 250 x 500mm\n",
      "    - Pset_EnvironmentalImpactIndicators.id: 1169\n",
      "    - Pset_ReinforcementBarPitchOfBeam.Reference: 250 x 500mm\n",
      "    - Pset_ReinforcementBarPitchOfBeam.id: 1171\n",
      "    - Qto_BeamBaseQuantities.Length: 5570.000000000001\n",
      "    - Qto_BeamBaseQuantities.CrossSectionArea: 0.07500000000012796\n",
      "    - Qto_BeamBaseQuantities.OuterSurfaceArea: 5.7200000000055296\n",
      "    - Qto_BeamBaseQuantities.GrossSurfaceArea: 5.870000000005786\n",
      "    - Qto_BeamBaseQuantities.NetSurfaceArea: 5.870000000005682\n",
      "    - Qto_BeamBaseQuantities.GrossVolume: 0.39000000000066565\n",
      "    - Qto_BeamBaseQuantities.NetVolume: 0.3900000000006783\n",
      "    - Qto_BeamBaseQuantities.id: 1182\n",
      "\n",
      "\n",
      "--- Element ID: 2e3KIcTBT93wdBtSLDrMM0 ---\n",
      "  Name: M_Concrete-Rectangular Beam:250 x 500mm:419190\n",
      "  Type: IfcBeam\n",
      "  Materials:\n",
      "    - Concrete, Cast-in-Place gray (Type: material)\n",
      "  Other Properties:\n",
      "    - Pset_BeamCommon.IsExternal: False\n",
      "    - Pset_BeamCommon.LoadBearing: True\n",
      "    - Pset_BeamCommon.id: 1256\n",
      "    - Pset_BeamCommon.Slope: 0.0\n",
      "    - Pset_BeamCommon.Reference: 250 x 500mm\n",
      "    - Pset_BeamCommon.Roll: 0.0\n",
      "    - Pset_BeamCommon.Span: 5570.000000000001\n",
      "    - Pset_EnvironmentalImpactIndicators.Reference: 250 x 500mm\n",
      "    - Pset_EnvironmentalImpactIndicators.id: 1257\n",
      "    - Pset_ReinforcementBarPitchOfBeam.Reference: 250 x 500mm\n",
      "    - Pset_ReinforcementBarPitchOfBeam.id: 1259\n",
      "    - Qto_BeamBaseQuantities.Length: 5570.000000000001\n",
      "    - Qto_BeamBaseQuantities.CrossSectionArea: 0.07499999999999916\n",
      "    - Qto_BeamBaseQuantities.OuterSurfaceArea: 5.632000000000151\n",
      "    - Qto_BeamBaseQuantities.GrossSurfaceArea: 5.782000000000149\n",
      "    - Qto_BeamBaseQuantities.NetSurfaceArea: 6.0395000000000545\n",
      "    - Qto_BeamBaseQuantities.GrossVolume: 0.3839999999999961\n",
      "    - Qto_BeamBaseQuantities.NetVolume: 0.3846250000000071\n",
      "    - Qto_BeamBaseQuantities.id: 1270\n",
      "\n",
      "\n",
      "--- Element ID: 2e3KIcTBT93wdBtSLDrMM8 ---\n",
      "  Name: M_Concrete-Rectangular Beam:250 x 500mm:419198\n",
      "  Type: IfcBeam\n",
      "  Materials:\n",
      "    - Concrete, Cast-in-Place gray (Type: material)\n",
      "  Other Properties:\n",
      "    - Pset_BeamCommon.IsExternal: False\n",
      "    - Pset_BeamCommon.LoadBearing: True\n",
      "    - Pset_BeamCommon.id: 1327\n",
      "    - Pset_BeamCommon.Slope: 0.0\n",
      "    - Pset_BeamCommon.Reference: 250 x 500mm\n",
      "    - Pset_BeamCommon.Roll: 0.0\n",
      "    - Pset_BeamCommon.Span: 4950.000017136321\n",
      "    - Pset_EnvironmentalImpactIndicators.Reference: 250 x 500mm\n",
      "    - Pset_EnvironmentalImpactIndicators.id: 1328\n",
      "    - Pset_ReinforcementBarPitchOfBeam.Reference: 250 x 500mm\n",
      "    - Pset_ReinforcementBarPitchOfBeam.id: 1330\n",
      "    - Qto_BeamBaseQuantities.Length: 4950.000017136321\n",
      "    - Qto_BeamBaseQuantities.CrossSectionArea: 3.507625012796542\n",
      "    - Qto_BeamBaseQuantities.NetSurfaceArea: 7.015250025593084\n",
      "    - Qto_BeamBaseQuantities.NetVolume: 0.34408750115965125\n",
      "    - Qto_BeamBaseQuantities.id: 1338\n",
      "\n",
      "\n",
      "--- Element ID: 2e3KIcTBT93wdBtSLDrMLs ---\n",
      "  Name: M_Concrete-Rectangular Beam:250 x 500mm:419200\n",
      "  Type: IfcBeam\n",
      "  Materials:\n",
      "    - Concrete, Cast-in-Place gray (Type: material)\n",
      "  Other Properties:\n",
      "    - Pset_BeamCommon.IsExternal: False\n",
      "    - Pset_BeamCommon.LoadBearing: True\n",
      "    - Pset_BeamCommon.id: 1395\n",
      "    - Pset_BeamCommon.Slope: 0.0\n",
      "    - Pset_BeamCommon.Reference: 250 x 500mm\n",
      "    - Pset_BeamCommon.Roll: 0.0\n",
      "    - Pset_BeamCommon.Span: 2604.99998286367\n",
      "    - Pset_EnvironmentalImpactIndicators.Reference: 250 x 500mm\n",
      "    - Pset_EnvironmentalImpactIndicators.id: 1396\n",
      "    - Pset_ReinforcementBarPitchOfBeam.Reference: 250 x 500mm\n",
      "    - Pset_ReinforcementBarPitchOfBeam.id: 1398\n",
      "    - Qto_BeamBaseQuantities.Length: 2604.99998286367\n",
      "    - Qto_BeamBaseQuantities.CrossSectionArea: 1.7676249870920406\n",
      "    - Qto_BeamBaseQuantities.NetSurfaceArea: 3.5352499741840813\n",
      "    - Qto_BeamBaseQuantities.NetVolume: 0.16776749862749551\n",
      "    - Qto_BeamBaseQuantities.id: 1406\n",
      "\n",
      "\n",
      "--- Element ID: 0Bl0khqE5CRu4G24Ko5Z4Q ---\n",
      "  Name: M_Concrete-Rectangular Beam:200x200:419918\n",
      "  Type: IfcBeam\n",
      "  Materials:\n",
      "    - Concrete, Cast-in-Place gray (Type: material)\n",
      "  Other Properties:\n",
      "    - Pset_BeamCommon.IsExternal: False\n",
      "    - Pset_BeamCommon.LoadBearing: True\n",
      "    - Pset_BeamCommon.id: 1776\n",
      "    - Pset_BeamCommon.Slope: 0.0\n",
      "    - Pset_BeamCommon.Roll: 0.0\n",
      "    - Pset_BeamCommon.Reference: 200x200\n",
      "    - Pset_BeamCommon.Span: 5570.000000000003\n",
      "    - Pset_EnvironmentalImpactIndicators.Reference: 200x200\n",
      "    - Pset_EnvironmentalImpactIndicators.id: 1777\n",
      "    - Pset_ReinforcementBarPitchOfBeam.Reference: 200x200\n",
      "    - Pset_ReinforcementBarPitchOfBeam.id: 1779\n",
      "    - Qto_BeamBaseQuantities.Length: 5570.000000000003\n",
      "    - Qto_BeamBaseQuantities.CrossSectionArea: 0.04000000000000395\n",
      "    - Qto_BeamBaseQuantities.OuterSurfaceArea: 4.160000000000041\n",
      "    - Qto_BeamBaseQuantities.GrossSurfaceArea: 4.240000000000049\n",
      "    - Qto_BeamBaseQuantities.NetSurfaceArea: 4.240000000000036\n",
      "    - Qto_BeamBaseQuantities.GrossVolume: 0.20800000000002064\n",
      "    - Qto_BeamBaseQuantities.NetVolume: 0.20800000000000346\n",
      "    - Qto_BeamBaseQuantities.id: 1790\n",
      "\n",
      "\n",
      "--- Element ID: 0Bl0khqE5CRu4G24Ko5Z44 ---\n",
      "  Name: M_Concrete-Rectangular Beam:200x200:419920\n",
      "  Type: IfcBeam\n",
      "  Materials:\n",
      "    - Concrete, Cast-in-Place gray (Type: material)\n",
      "  Other Properties:\n",
      "    - Pset_BeamCommon.IsExternal: False\n",
      "    - Pset_BeamCommon.LoadBearing: True\n",
      "    - Pset_BeamCommon.id: 1821\n",
      "    - Pset_BeamCommon.Slope: 0.0\n",
      "    - Pset_BeamCommon.Roll: 0.0\n",
      "    - Pset_BeamCommon.Reference: 200x200\n",
      "    - Pset_BeamCommon.Span: 5570.000000000001\n",
      "    - Pset_EnvironmentalImpactIndicators.Reference: 200x200\n",
      "    - Pset_EnvironmentalImpactIndicators.id: 1822\n",
      "    - Pset_ReinforcementBarPitchOfBeam.Reference: 200x200\n",
      "    - Pset_ReinforcementBarPitchOfBeam.id: 1824\n",
      "    - Qto_BeamBaseQuantities.Length: 5570.000000000001\n",
      "    - Qto_BeamBaseQuantities.CrossSectionArea: 0.04000000000000438\n",
      "    - Qto_BeamBaseQuantities.OuterSurfaceArea: 4.160000000000039\n",
      "    - Qto_BeamBaseQuantities.GrossSurfaceArea: 4.240000000000048\n",
      "    - Qto_BeamBaseQuantities.NetSurfaceArea: 4.240000000000035\n",
      "    - Qto_BeamBaseQuantities.GrossVolume: 0.2080000000000228\n",
      "    - Qto_BeamBaseQuantities.NetVolume: 0.2080000000000034\n",
      "    - Qto_BeamBaseQuantities.id: 1835\n",
      "\n",
      "\n",
      "--- Element ID: 0Bl0khqE5CRu4G24Ko5Z43 ---\n",
      "  Name: M_Concrete-Rectangular Beam:200x200:419927\n",
      "  Type: IfcBeam\n",
      "  Materials:\n",
      "    - Concrete, Cast-in-Place gray (Type: material)\n",
      "  Other Properties:\n",
      "    - Pset_BeamCommon.IsExternal: False\n",
      "    - Pset_BeamCommon.LoadBearing: True\n",
      "    - Pset_BeamCommon.id: 1866\n",
      "    - Pset_BeamCommon.Slope: 0.0\n",
      "    - Pset_BeamCommon.Roll: 0.0\n",
      "    - Pset_BeamCommon.Reference: 200x200\n",
      "    - Pset_BeamCommon.Span: 5570.000000000001\n",
      "    - Pset_EnvironmentalImpactIndicators.Reference: 200x200\n",
      "    - Pset_EnvironmentalImpactIndicators.id: 1867\n",
      "    - Pset_ReinforcementBarPitchOfBeam.Reference: 200x200\n",
      "    - Pset_ReinforcementBarPitchOfBeam.id: 1869\n",
      "    - Qto_BeamBaseQuantities.Length: 5570.000000000001\n",
      "    - Qto_BeamBaseQuantities.CrossSectionArea: 0.040000000000003956\n",
      "    - Qto_BeamBaseQuantities.OuterSurfaceArea: 4.100000000000029\n",
      "    - Qto_BeamBaseQuantities.GrossSurfaceArea: 4.180000000000037\n",
      "    - Qto_BeamBaseQuantities.NetSurfaceArea: 4.180000000000028\n",
      "    - Qto_BeamBaseQuantities.GrossVolume: 0.20500000000002003\n",
      "    - Qto_BeamBaseQuantities.NetVolume: 0.20500000000000307\n",
      "    - Qto_BeamBaseQuantities.id: 1880\n",
      "\n",
      "\n",
      "--- Element ID: 0Bl0khqE5CRu4G24Ko5Z4D ---\n",
      "  Name: M_Concrete-Rectangular Beam:200x200:419929\n",
      "  Type: IfcBeam\n",
      "  Materials:\n",
      "    - Concrete, Cast-in-Place gray (Type: material)\n",
      "  Other Properties:\n",
      "    - Pset_BeamCommon.IsExternal: False\n",
      "    - Pset_BeamCommon.LoadBearing: True\n",
      "    - Pset_BeamCommon.id: 1911\n",
      "    - Pset_BeamCommon.Slope: 0.0\n",
      "    - Pset_BeamCommon.Roll: 0.0\n",
      "    - Pset_BeamCommon.Reference: 200x200\n",
      "    - Pset_BeamCommon.Span: 4950.000017136324\n",
      "    - Pset_EnvironmentalImpactIndicators.Reference: 200x200\n",
      "    - Pset_EnvironmentalImpactIndicators.id: 1912\n",
      "    - Pset_ReinforcementBarPitchOfBeam.Reference: 200x200\n",
      "    - Pset_ReinforcementBarPitchOfBeam.id: 1914\n",
      "    - Qto_BeamBaseQuantities.Length: 4950.000017136324\n",
      "    - Qto_BeamBaseQuantities.CrossSectionArea: 0.04000000000000064\n",
      "    - Qto_BeamBaseQuantities.OuterSurfaceArea: 3.6200000137090913\n",
      "    - Qto_BeamBaseQuantities.GrossSurfaceArea: 3.7000000137090927\n",
      "    - Qto_BeamBaseQuantities.NetSurfaceArea: 3.7000000137090887\n",
      "    - Qto_BeamBaseQuantities.GrossVolume: 0.18100000068545588\n",
      "    - Qto_BeamBaseQuantities.NetVolume: 0.18100000068545585\n",
      "    - Qto_BeamBaseQuantities.id: 1925\n",
      "\n",
      "\n",
      "--- Element ID: 0Bl0khqE5CRu4G24Ko5Z4F ---\n",
      "  Name: M_Concrete-Rectangular Beam:200x200:419931\n",
      "  Type: IfcBeam\n",
      "  Materials:\n",
      "    - Concrete, Cast-in-Place gray (Type: material)\n",
      "  Other Properties:\n",
      "    - Pset_BeamCommon.IsExternal: False\n",
      "    - Pset_BeamCommon.LoadBearing: True\n",
      "    - Pset_BeamCommon.id: 1956\n",
      "    - Pset_BeamCommon.Slope: 0.0\n",
      "    - Pset_BeamCommon.Roll: 0.0\n",
      "    - Pset_BeamCommon.Reference: 200x200\n",
      "    - Pset_BeamCommon.Span: 2604.99998286367\n",
      "    - Pset_EnvironmentalImpactIndicators.Reference: 200x200\n",
      "    - Pset_EnvironmentalImpactIndicators.id: 1957\n",
      "    - Pset_ReinforcementBarPitchOfBeam.Reference: 200x200\n",
      "    - Pset_ReinforcementBarPitchOfBeam.id: 1959\n",
      "    - Qto_BeamBaseQuantities.Length: 2604.99998286367\n",
      "    - Qto_BeamBaseQuantities.CrossSectionArea: 0.04000000000000064\n",
      "    - Qto_BeamBaseQuantities.OuterSurfaceArea: 1.743999986290951\n",
      "    - Qto_BeamBaseQuantities.GrossSurfaceArea: 1.8239999862909522\n",
      "    - Qto_BeamBaseQuantities.NetSurfaceArea: 1.8239999862909513\n",
      "    - Qto_BeamBaseQuantities.GrossVolume: 0.0871999993145482\n",
      "    - Qto_BeamBaseQuantities.NetVolume: 0.08719999931454823\n",
      "    - Qto_BeamBaseQuantities.id: 1970\n",
      "\n",
      "\n",
      "--- Element ID: 0Bl0khqE5CRu4G24Ko5Z49 ---\n",
      "  Name: M_Concrete-Rectangular Beam:200x200:419933\n",
      "  Type: IfcBeam\n",
      "  Materials:\n",
      "    - Concrete, Cast-in-Place gray (Type: material)\n",
      "  Other Properties:\n",
      "    - Pset_BeamCommon.IsExternal: False\n",
      "    - Pset_BeamCommon.LoadBearing: True\n",
      "    - Pset_BeamCommon.id: 2001\n",
      "    - Pset_BeamCommon.Slope: 0.0\n",
      "    - Pset_BeamCommon.Roll: 0.0\n",
      "    - Pset_BeamCommon.Reference: 200x200\n",
      "    - Pset_BeamCommon.Span: 4950.000017136321\n",
      "    - Pset_EnvironmentalImpactIndicators.Reference: 200x200\n",
      "    - Pset_EnvironmentalImpactIndicators.id: 2002\n",
      "    - Pset_ReinforcementBarPitchOfBeam.Reference: 200x200\n",
      "    - Pset_ReinforcementBarPitchOfBeam.id: 2004\n",
      "    - Qto_BeamBaseQuantities.Length: 4950.000017136321\n",
      "    - Qto_BeamBaseQuantities.CrossSectionArea: 0.04000000000000075\n",
      "    - Qto_BeamBaseQuantities.OuterSurfaceArea: 3.620000013709092\n",
      "    - Qto_BeamBaseQuantities.GrossSurfaceArea: 3.7000000137090936\n",
      "    - Qto_BeamBaseQuantities.NetSurfaceArea: 3.7000000137090887\n",
      "    - Qto_BeamBaseQuantities.GrossVolume: 0.18100000068545632\n",
      "    - Qto_BeamBaseQuantities.NetVolume: 0.1810000006854558\n",
      "    - Qto_BeamBaseQuantities.id: 2015\n",
      "\n",
      "\n",
      "--- Element ID: 0Bl0khqE5CRu4G24Ko5Z4B ---\n",
      "  Name: M_Concrete-Rectangular Beam:200x200:419935\n",
      "  Type: IfcBeam\n",
      "  Materials:\n",
      "    - Concrete, Cast-in-Place gray (Type: material)\n",
      "  Other Properties:\n",
      "    - Pset_BeamCommon.IsExternal: False\n",
      "    - Pset_BeamCommon.LoadBearing: True\n",
      "    - Pset_BeamCommon.id: 2046\n",
      "    - Pset_BeamCommon.Slope: 0.0\n",
      "    - Pset_BeamCommon.Roll: 0.0\n",
      "    - Pset_BeamCommon.Reference: 200x200\n",
      "    - Pset_BeamCommon.Span: 2604.99998286367\n",
      "    - Pset_EnvironmentalImpactIndicators.Reference: 200x200\n",
      "    - Pset_EnvironmentalImpactIndicators.id: 2047\n",
      "    - Pset_ReinforcementBarPitchOfBeam.Reference: 200x200\n",
      "    - Pset_ReinforcementBarPitchOfBeam.id: 2049\n",
      "    - Qto_BeamBaseQuantities.Length: 2604.99998286367\n",
      "    - Qto_BeamBaseQuantities.CrossSectionArea: 0.04000000000000075\n",
      "    - Qto_BeamBaseQuantities.OuterSurfaceArea: 1.7639999862909526\n",
      "    - Qto_BeamBaseQuantities.GrossSurfaceArea: 1.843999986290954\n",
      "    - Qto_BeamBaseQuantities.NetSurfaceArea: 1.843999986290951\n",
      "    - Qto_BeamBaseQuantities.GrossVolume: 0.08819999931454846\n",
      "    - Qto_BeamBaseQuantities.NetVolume: 0.08819999931454821\n",
      "    - Qto_BeamBaseQuantities.id: 2060\n",
      "\n",
      "\n",
      "--- Element ID: 0Bl0khqE5CRu4G24Ko5Z4n ---\n",
      "  Name: M_Concrete-Rectangular Beam:200x200:419941\n",
      "  Type: IfcBeam\n",
      "  Materials:\n",
      "    - Concrete, Cast-in-Place gray (Type: material)\n",
      "  Other Properties:\n",
      "    - Pset_BeamCommon.IsExternal: False\n",
      "    - Pset_BeamCommon.LoadBearing: True\n",
      "    - Pset_BeamCommon.id: 2091\n",
      "    - Pset_BeamCommon.Slope: 0.0\n",
      "    - Pset_BeamCommon.Roll: 0.0\n",
      "    - Pset_BeamCommon.Reference: 200x200\n",
      "    - Pset_BeamCommon.Span: 5570.000000000003\n",
      "    - Pset_EnvironmentalImpactIndicators.Reference: 200x200\n",
      "    - Pset_EnvironmentalImpactIndicators.id: 2092\n",
      "    - Pset_ReinforcementBarPitchOfBeam.Reference: 200x200\n",
      "    - Pset_ReinforcementBarPitchOfBeam.id: 2094\n",
      "    - Qto_BeamBaseQuantities.Length: 5570.000000000003\n",
      "    - Qto_BeamBaseQuantities.CrossSectionArea: 0.04000000000000395\n",
      "    - Qto_BeamBaseQuantities.OuterSurfaceArea: 4.160000000000041\n",
      "    - Qto_BeamBaseQuantities.GrossSurfaceArea: 4.240000000000049\n",
      "    - Qto_BeamBaseQuantities.NetSurfaceArea: 4.240000000000038\n",
      "    - Qto_BeamBaseQuantities.GrossVolume: 0.20800000000002064\n",
      "    - Qto_BeamBaseQuantities.NetVolume: 0.20800000000000346\n",
      "    - Qto_BeamBaseQuantities.id: 2105\n",
      "\n",
      "\n",
      "--- Element ID: 0Bl0khqE5CRu4G24Ko5Z4p ---\n",
      "  Name: M_Concrete-Rectangular Beam:200x200:419943\n",
      "  Type: IfcBeam\n",
      "  Materials:\n",
      "    - Concrete, Cast-in-Place gray (Type: material)\n",
      "  Other Properties:\n",
      "    - Pset_BeamCommon.IsExternal: False\n",
      "    - Pset_BeamCommon.LoadBearing: True\n",
      "    - Pset_BeamCommon.id: 2136\n",
      "    - Pset_BeamCommon.Slope: 0.0\n",
      "    - Pset_BeamCommon.Roll: 0.0\n",
      "    - Pset_BeamCommon.Reference: 200x200\n",
      "    - Pset_BeamCommon.Span: 5570.000000000001\n",
      "    - Pset_EnvironmentalImpactIndicators.Reference: 200x200\n",
      "    - Pset_EnvironmentalImpactIndicators.id: 2137\n",
      "    - Pset_ReinforcementBarPitchOfBeam.Reference: 200x200\n",
      "    - Pset_ReinforcementBarPitchOfBeam.id: 2139\n",
      "    - Qto_BeamBaseQuantities.Length: 5570.000000000001\n",
      "    - Qto_BeamBaseQuantities.CrossSectionArea: 0.04000000000000438\n",
      "    - Qto_BeamBaseQuantities.OuterSurfaceArea: 4.160000000000041\n",
      "    - Qto_BeamBaseQuantities.GrossSurfaceArea: 4.24000000000005\n",
      "    - Qto_BeamBaseQuantities.NetSurfaceArea: 4.240000000000037\n",
      "    - Qto_BeamBaseQuantities.GrossVolume: 0.2080000000000229\n",
      "    - Qto_BeamBaseQuantities.NetVolume: 0.2080000000000034\n",
      "    - Qto_BeamBaseQuantities.id: 2150\n",
      "\n",
      "\n",
      "--- Element ID: 0Bl0khqE5CRu4G24Ko5Z4$ ---\n",
      "  Name: M_Concrete-Rectangular Beam:200x200:419947\n",
      "  Type: IfcBeam\n",
      "  Materials:\n",
      "    - Concrete, Cast-in-Place gray (Type: material)\n",
      "  Other Properties:\n",
      "    - Pset_BeamCommon.IsExternal: False\n",
      "    - Pset_BeamCommon.LoadBearing: True\n",
      "    - Pset_BeamCommon.id: 2181\n",
      "    - Pset_BeamCommon.Slope: 0.0\n",
      "    - Pset_BeamCommon.Roll: 0.0\n",
      "    - Pset_BeamCommon.Reference: 200x200\n",
      "    - Pset_BeamCommon.Span: 5570.000000000001\n",
      "    - Pset_EnvironmentalImpactIndicators.Reference: 200x200\n",
      "    - Pset_EnvironmentalImpactIndicators.id: 2182\n",
      "    - Pset_ReinforcementBarPitchOfBeam.Reference: 200x200\n",
      "    - Pset_ReinforcementBarPitchOfBeam.id: 2184\n",
      "    - Qto_BeamBaseQuantities.Length: 5570.000000000001\n",
      "    - Qto_BeamBaseQuantities.CrossSectionArea: 0.040000000000003984\n",
      "    - Qto_BeamBaseQuantities.OuterSurfaceArea: 4.120000000000034\n",
      "    - Qto_BeamBaseQuantities.GrossSurfaceArea: 4.200000000000042\n",
      "    - Qto_BeamBaseQuantities.NetSurfaceArea: 4.200000000000035\n",
      "    - Qto_BeamBaseQuantities.GrossVolume: 0.20600000000002056\n",
      "    - Qto_BeamBaseQuantities.NetVolume: 0.20600000000000337\n",
      "    - Qto_BeamBaseQuantities.id: 2195\n",
      "\n",
      "\n",
      "--- Element ID: 0Bl0khqE5CRu4G24Ko5Z4v ---\n",
      "  Name: M_Concrete-Rectangular Beam:200x200:419949\n",
      "  Type: IfcBeam\n",
      "  Materials:\n",
      "    - Concrete, Cast-in-Place gray (Type: material)\n",
      "  Other Properties:\n",
      "    - Pset_BeamCommon.IsExternal: False\n",
      "    - Pset_BeamCommon.LoadBearing: True\n",
      "    - Pset_BeamCommon.id: 2226\n",
      "    - Pset_BeamCommon.Slope: 0.0\n",
      "    - Pset_BeamCommon.Roll: 0.0\n",
      "    - Pset_BeamCommon.Reference: 200x200\n",
      "    - Pset_BeamCommon.Span: 4950.000017136321\n",
      "    - Pset_EnvironmentalImpactIndicators.Reference: 200x200\n",
      "    - Pset_EnvironmentalImpactIndicators.id: 2227\n",
      "    - Pset_ReinforcementBarPitchOfBeam.Reference: 200x200\n",
      "    - Pset_ReinforcementBarPitchOfBeam.id: 2229\n",
      "    - Qto_BeamBaseQuantities.Length: 4950.000017136321\n",
      "    - Qto_BeamBaseQuantities.CrossSectionArea: 0.040000000000000646\n",
      "    - Qto_BeamBaseQuantities.OuterSurfaceArea: 3.620000013709087\n",
      "    - Qto_BeamBaseQuantities.GrossSurfaceArea: 3.7000000137090883\n",
      "    - Qto_BeamBaseQuantities.NetSurfaceArea: 3.700000013709088\n",
      "    - Qto_BeamBaseQuantities.GrossVolume: 0.18100000068545583\n",
      "    - Qto_BeamBaseQuantities.NetVolume: 0.1810000006854558\n",
      "    - Qto_BeamBaseQuantities.id: 2240\n",
      "\n",
      "\n",
      "--- Element ID: 0Bl0khqE5CRu4G24Ko5Z4x ---\n",
      "  Name: M_Concrete-Rectangular Beam:200x200:419951\n",
      "  Type: IfcBeam\n",
      "  Materials:\n",
      "    - Concrete, Cast-in-Place gray (Type: material)\n",
      "  Other Properties:\n",
      "    - Pset_BeamCommon.IsExternal: False\n",
      "    - Pset_BeamCommon.LoadBearing: True\n",
      "    - Pset_BeamCommon.id: 2271\n",
      "    - Pset_BeamCommon.Slope: 0.0\n",
      "    - Pset_BeamCommon.Roll: 0.0\n",
      "    - Pset_BeamCommon.Reference: 200x200\n",
      "    - Pset_BeamCommon.Span: 2604.99998286367\n",
      "    - Pset_EnvironmentalImpactIndicators.Reference: 200x200\n",
      "    - Pset_EnvironmentalImpactIndicators.id: 2272\n",
      "    - Pset_ReinforcementBarPitchOfBeam.Reference: 200x200\n",
      "    - Pset_ReinforcementBarPitchOfBeam.id: 2274\n",
      "    - Qto_BeamBaseQuantities.Length: 2604.99998286367\n",
      "    - Qto_BeamBaseQuantities.CrossSectionArea: 0.04000000000000064\n",
      "    - Qto_BeamBaseQuantities.OuterSurfaceArea: 1.763999986290955\n",
      "    - Qto_BeamBaseQuantities.GrossSurfaceArea: 1.8439999862909562\n",
      "    - Qto_BeamBaseQuantities.NetSurfaceArea: 1.8439999862909515\n",
      "    - Qto_BeamBaseQuantities.GrossVolume: 0.08819999931454821\n",
      "    - Qto_BeamBaseQuantities.NetVolume: 0.08819999931454821\n",
      "    - Qto_BeamBaseQuantities.id: 2285\n",
      "\n",
      "\n",
      "--- Element ID: 0Bl0khqE5CRu4G24Ko5Z4X ---\n",
      "  Name: M_Concrete-Rectangular Beam:200x200:419957\n",
      "  Type: IfcBeam\n",
      "  Materials:\n",
      "    - Concrete, Cast-in-Place gray (Type: material)\n",
      "  Other Properties:\n",
      "    - Pset_BeamCommon.IsExternal: False\n",
      "    - Pset_BeamCommon.LoadBearing: True\n",
      "    - Pset_BeamCommon.id: 2316\n",
      "    - Pset_BeamCommon.Slope: 0.0\n",
      "    - Pset_BeamCommon.Roll: 0.0\n",
      "    - Pset_BeamCommon.Reference: 200x200\n",
      "    - Pset_BeamCommon.Span: 5570.000000000003\n",
      "    - Pset_EnvironmentalImpactIndicators.Reference: 200x200\n",
      "    - Pset_EnvironmentalImpactIndicators.id: 2317\n",
      "    - Pset_ReinforcementBarPitchOfBeam.Reference: 200x200\n",
      "    - Pset_ReinforcementBarPitchOfBeam.id: 2319\n",
      "    - Qto_BeamBaseQuantities.Length: 5570.000000000003\n",
      "    - Qto_BeamBaseQuantities.CrossSectionArea: 0.040000000000003894\n",
      "    - Qto_BeamBaseQuantities.OuterSurfaceArea: 4.160000000000036\n",
      "    - Qto_BeamBaseQuantities.GrossSurfaceArea: 4.240000000000044\n",
      "    - Qto_BeamBaseQuantities.NetSurfaceArea: 4.2400000000000375\n",
      "    - Qto_BeamBaseQuantities.GrossVolume: 0.20800000000002036\n",
      "    - Qto_BeamBaseQuantities.NetVolume: 0.20800000000000346\n",
      "    - Qto_BeamBaseQuantities.id: 2330\n",
      "\n",
      "\n",
      "--- Element ID: 0Bl0khqE5CRu4G24Ko5Z4Z ---\n",
      "  Name: M_Concrete-Rectangular Beam:200x200:419959\n",
      "  Type: IfcBeam\n",
      "  Materials:\n",
      "    - Concrete, Cast-in-Place gray (Type: material)\n",
      "  Other Properties:\n",
      "    - Pset_BeamCommon.IsExternal: False\n",
      "    - Pset_BeamCommon.LoadBearing: True\n",
      "    - Pset_BeamCommon.id: 2361\n",
      "    - Pset_BeamCommon.Slope: 0.0\n",
      "    - Pset_BeamCommon.Roll: 0.0\n",
      "    - Pset_BeamCommon.Reference: 200x200\n",
      "    - Pset_BeamCommon.Span: 5570.000000000001\n",
      "    - Pset_EnvironmentalImpactIndicators.Reference: 200x200\n",
      "    - Pset_EnvironmentalImpactIndicators.id: 2362\n",
      "    - Pset_ReinforcementBarPitchOfBeam.Reference: 200x200\n",
      "    - Pset_ReinforcementBarPitchOfBeam.id: 2364\n",
      "    - Qto_BeamBaseQuantities.Length: 5570.000000000001\n",
      "    - Qto_BeamBaseQuantities.CrossSectionArea: 0.04000000000000438\n",
      "    - Qto_BeamBaseQuantities.OuterSurfaceArea: 4.160000000000041\n",
      "    - Qto_BeamBaseQuantities.GrossSurfaceArea: 4.24000000000005\n",
      "    - Qto_BeamBaseQuantities.NetSurfaceArea: 4.2400000000000375\n",
      "    - Qto_BeamBaseQuantities.GrossVolume: 0.2080000000000229\n",
      "    - Qto_BeamBaseQuantities.NetVolume: 0.2080000000000035\n",
      "    - Qto_BeamBaseQuantities.id: 2375\n",
      "\n",
      "\n",
      "--- Element ID: 0Bl0khqE5CRu4G24Ko5Z4l ---\n",
      "  Name: M_Concrete-Rectangular Beam:200x200:419963\n",
      "  Type: IfcBeam\n",
      "  Materials:\n",
      "    - Concrete, Cast-in-Place gray (Type: material)\n",
      "  Other Properties:\n",
      "    - Pset_BeamCommon.IsExternal: False\n",
      "    - Pset_BeamCommon.LoadBearing: True\n",
      "    - Pset_BeamCommon.id: 2406\n",
      "    - Pset_BeamCommon.Slope: 0.0\n",
      "    - Pset_BeamCommon.Roll: 0.0\n",
      "    - Pset_BeamCommon.Reference: 200x200\n",
      "    - Pset_BeamCommon.Span: 5570.000000000001\n",
      "    - Pset_EnvironmentalImpactIndicators.Reference: 200x200\n",
      "    - Pset_EnvironmentalImpactIndicators.id: 2407\n",
      "    - Pset_ReinforcementBarPitchOfBeam.Reference: 200x200\n",
      "    - Pset_ReinforcementBarPitchOfBeam.id: 2409\n",
      "    - Qto_BeamBaseQuantities.Length: 5570.000000000001\n",
      "    - Qto_BeamBaseQuantities.CrossSectionArea: 0.04000000000000395\n",
      "    - Qto_BeamBaseQuantities.OuterSurfaceArea: 4.0960000000000365\n",
      "    - Qto_BeamBaseQuantities.GrossSurfaceArea: 4.176000000000045\n",
      "    - Qto_BeamBaseQuantities.NetSurfaceArea: 4.176000000000037\n",
      "    - Qto_BeamBaseQuantities.GrossVolume: 0.2048000000000204\n",
      "    - Qto_BeamBaseQuantities.NetVolume: 0.20480000000000348\n",
      "    - Qto_BeamBaseQuantities.id: 2420\n",
      "\n",
      "\n",
      "--- Element ID: 0Bl0khqE5CRu4G24Ko5Z4f ---\n",
      "  Name: M_Concrete-Rectangular Beam:200x200:419965\n",
      "  Type: IfcBeam\n",
      "  Materials:\n",
      "    - Concrete, Cast-in-Place gray (Type: material)\n",
      "  Other Properties:\n",
      "    - Pset_BeamCommon.IsExternal: False\n",
      "    - Pset_BeamCommon.LoadBearing: True\n",
      "    - Pset_BeamCommon.id: 2451\n",
      "    - Pset_BeamCommon.Slope: 0.0\n",
      "    - Pset_BeamCommon.Roll: 0.0\n",
      "    - Pset_BeamCommon.Reference: 200x200\n",
      "    - Pset_BeamCommon.Span: 4950.000017136321\n",
      "    - Pset_EnvironmentalImpactIndicators.Reference: 200x200\n",
      "    - Pset_EnvironmentalImpactIndicators.id: 2452\n",
      "    - Pset_ReinforcementBarPitchOfBeam.Reference: 200x200\n",
      "    - Pset_ReinforcementBarPitchOfBeam.id: 2454\n",
      "    - Qto_BeamBaseQuantities.Length: 4950.000017136321\n",
      "    - Qto_BeamBaseQuantities.CrossSectionArea: 0.040000000000000854\n",
      "    - Qto_BeamBaseQuantities.OuterSurfaceArea: 3.6200000137091157\n",
      "    - Qto_BeamBaseQuantities.GrossSurfaceArea: 3.7000000137091176\n",
      "    - Qto_BeamBaseQuantities.NetSurfaceArea: 3.700000013709098\n",
      "    - Qto_BeamBaseQuantities.GrossVolume: 0.18100000068545677\n",
      "    - Qto_BeamBaseQuantities.NetVolume: 0.1810000006854568\n",
      "    - Qto_BeamBaseQuantities.id: 2465\n",
      "\n",
      "\n",
      "--- Element ID: 0Bl0khqE5CRu4G24Ko5Z4h ---\n",
      "  Name: M_Concrete-Rectangular Beam:200x200:419967\n",
      "  Type: IfcBeam\n",
      "  Materials:\n",
      "    - Concrete, Cast-in-Place gray (Type: material)\n",
      "  Other Properties:\n",
      "    - Pset_BeamCommon.IsExternal: False\n",
      "    - Pset_BeamCommon.LoadBearing: True\n",
      "    - Pset_BeamCommon.id: 2496\n",
      "    - Pset_BeamCommon.Slope: 0.0\n",
      "    - Pset_BeamCommon.Roll: 0.0\n",
      "    - Pset_BeamCommon.Reference: 200x200\n",
      "    - Pset_BeamCommon.Span: 2604.99998286367\n",
      "    - Pset_EnvironmentalImpactIndicators.Reference: 200x200\n",
      "    - Pset_EnvironmentalImpactIndicators.id: 2497\n",
      "    - Pset_ReinforcementBarPitchOfBeam.Reference: 200x200\n",
      "    - Pset_ReinforcementBarPitchOfBeam.id: 2499\n",
      "    - Qto_BeamBaseQuantities.Length: 2604.99998286367\n",
      "    - Qto_BeamBaseQuantities.CrossSectionArea: 0.04000000000000086\n",
      "    - Qto_BeamBaseQuantities.OuterSurfaceArea: 1.7639999862909552\n",
      "    - Qto_BeamBaseQuantities.GrossSurfaceArea: 1.8439999862909568\n",
      "    - Qto_BeamBaseQuantities.NetSurfaceArea: 1.843999986290957\n",
      "    - Qto_BeamBaseQuantities.GrossVolume: 0.08819999931454872\n",
      "    - Qto_BeamBaseQuantities.NetVolume: 0.08819999931454871\n",
      "    - Qto_BeamBaseQuantities.id: 2510\n",
      "\n",
      "\n",
      "--- Element ID: 0Bl0khqE5CRu4G24Ko5Z1D ---\n",
      "  Name: M_Concrete-Rectangular Beam:250 x 500mm:420121\n",
      "  Type: IfcBeam\n",
      "  Materials:\n",
      "    - Concrete, Cast-in-Place gray (Type: material)\n",
      "  Other Properties:\n",
      "    - Pset_BeamCommon.IsExternal: False\n",
      "    - Pset_BeamCommon.LoadBearing: True\n",
      "    - Pset_BeamCommon.id: 2682\n",
      "    - Pset_BeamCommon.Slope: 0.0\n",
      "    - Pset_BeamCommon.Reference: 250 x 500mm\n",
      "    - Pset_BeamCommon.Roll: 0.0\n",
      "    - Pset_BeamCommon.Span: 5570.000000000003\n",
      "    - Pset_EnvironmentalImpactIndicators.Reference: 250 x 500mm\n",
      "    - Pset_EnvironmentalImpactIndicators.id: 2683\n",
      "    - Pset_ReinforcementBarPitchOfBeam.Reference: 250 x 500mm\n",
      "    - Pset_ReinforcementBarPitchOfBeam.id: 2685\n",
      "    - Qto_BeamBaseQuantities.Length: 5570.000000000003\n",
      "    - Qto_BeamBaseQuantities.CrossSectionArea: 0.07500000000012812\n",
      "    - Qto_BeamBaseQuantities.OuterSurfaceArea: 5.720000000005514\n",
      "    - Qto_BeamBaseQuantities.GrossSurfaceArea: 5.87000000000577\n",
      "    - Qto_BeamBaseQuantities.NetSurfaceArea: 5.870000000005687\n",
      "    - Qto_BeamBaseQuantities.GrossVolume: 0.3900000000006665\n",
      "    - Qto_BeamBaseQuantities.NetVolume: 0.39000000000067897\n",
      "    - Qto_BeamBaseQuantities.id: 2696\n",
      "\n",
      "\n",
      "--- Element ID: 0Bl0khqE5CRu4G24Ko5Z1F ---\n",
      "  Name: M_Concrete-Rectangular Beam:250 x 500mm:420123\n",
      "  Type: IfcBeam\n",
      "  Materials:\n",
      "    - Concrete, Cast-in-Place gray (Type: material)\n",
      "  Other Properties:\n",
      "    - Pset_BeamCommon.IsExternal: False\n",
      "    - Pset_BeamCommon.LoadBearing: True\n",
      "    - Pset_BeamCommon.id: 2728\n",
      "    - Pset_BeamCommon.Slope: 0.0\n",
      "    - Pset_BeamCommon.Reference: 250 x 500mm\n",
      "    - Pset_BeamCommon.Roll: 0.0\n",
      "    - Pset_BeamCommon.Span: 5570.000000000001\n",
      "    - Pset_EnvironmentalImpactIndicators.Reference: 250 x 500mm\n",
      "    - Pset_EnvironmentalImpactIndicators.id: 2729\n",
      "    - Pset_ReinforcementBarPitchOfBeam.Reference: 250 x 500mm\n",
      "    - Pset_ReinforcementBarPitchOfBeam.id: 2731\n",
      "    - Qto_BeamBaseQuantities.Length: 5570.000000000001\n",
      "    - Qto_BeamBaseQuantities.CrossSectionArea: 0.07500000000012827\n",
      "    - Qto_BeamBaseQuantities.OuterSurfaceArea: 5.720000000005538\n",
      "    - Qto_BeamBaseQuantities.GrossSurfaceArea: 5.870000000005795\n",
      "    - Qto_BeamBaseQuantities.NetSurfaceArea: 5.8700000000056844\n",
      "    - Qto_BeamBaseQuantities.GrossVolume: 0.390000000000667\n",
      "    - Qto_BeamBaseQuantities.NetVolume: 0.3900000000006789\n",
      "    - Qto_BeamBaseQuantities.id: 2742\n",
      "\n",
      "\n",
      "--- Element ID: 0Bl0khqE5CRu4G24Ko5Z1s ---\n",
      "  Name: M_Concrete-Rectangular Beam:250 x 500mm:420130\n",
      "  Type: IfcBeam\n",
      "  Materials:\n",
      "    - Concrete, Cast-in-Place gray (Type: material)\n",
      "  Other Properties:\n",
      "    - Pset_BeamCommon.IsExternal: False\n",
      "    - Pset_BeamCommon.LoadBearing: True\n",
      "    - Pset_BeamCommon.id: 2844\n",
      "    - Pset_BeamCommon.Slope: 0.0\n",
      "    - Pset_BeamCommon.Reference: 250 x 500mm\n",
      "    - Pset_BeamCommon.Roll: 0.0\n",
      "    - Pset_BeamCommon.Span: 5570.000000000001\n",
      "    - Pset_EnvironmentalImpactIndicators.Reference: 250 x 500mm\n",
      "    - Pset_EnvironmentalImpactIndicators.id: 2845\n",
      "    - Pset_ReinforcementBarPitchOfBeam.Reference: 250 x 500mm\n",
      "    - Pset_ReinforcementBarPitchOfBeam.id: 2847\n",
      "    - Qto_BeamBaseQuantities.Length: 5570.000000000001\n",
      "    - Qto_BeamBaseQuantities.CrossSectionArea: 0.07499999999999929\n",
      "    - Qto_BeamBaseQuantities.OuterSurfaceArea: 5.637500000000144\n",
      "    - Qto_BeamBaseQuantities.GrossSurfaceArea: 5.787500000000143\n",
      "    - Qto_BeamBaseQuantities.NetSurfaceArea: 5.787500000000051\n",
      "    - Qto_BeamBaseQuantities.GrossVolume: 0.384374999999996\n",
      "    - Qto_BeamBaseQuantities.NetVolume: 0.38437500000000735\n",
      "    - Qto_BeamBaseQuantities.id: 2858\n",
      "\n",
      "\n",
      "--- Element ID: 0Bl0khqE5CRu4G24Ko5Z1m ---\n",
      "  Name: M_Concrete-Rectangular Beam:250 x 500mm:420132\n",
      "  Type: IfcBeam\n",
      "  Materials:\n",
      "    - Concrete, Cast-in-Place gray (Type: material)\n",
      "  Other Properties:\n",
      "    - Pset_BeamCommon.IsExternal: False\n",
      "    - Pset_BeamCommon.LoadBearing: True\n",
      "    - Pset_BeamCommon.id: 2890\n",
      "    - Pset_BeamCommon.Slope: 0.0\n",
      "    - Pset_BeamCommon.Reference: 250 x 500mm\n",
      "    - Pset_BeamCommon.Roll: 0.0\n",
      "    - Pset_BeamCommon.Span: 4950.000017136324\n",
      "    - Pset_EnvironmentalImpactIndicators.Reference: 250 x 500mm\n",
      "    - Pset_EnvironmentalImpactIndicators.id: 2891\n",
      "    - Pset_ReinforcementBarPitchOfBeam.Reference: 250 x 500mm\n",
      "    - Pset_ReinforcementBarPitchOfBeam.id: 2893\n",
      "    - Qto_BeamBaseQuantities.Length: 4950.000017136324\n",
      "    - Qto_BeamBaseQuantities.CrossSectionArea: 0.07500000000000155\n",
      "    - Qto_BeamBaseQuantities.OuterSurfaceArea: 4.977500018850008\n",
      "    - Qto_BeamBaseQuantities.GrossSurfaceArea: 5.127500018850011\n",
      "    - Qto_BeamBaseQuantities.NetSurfaceArea: 5.127500018850007\n",
      "    - Qto_BeamBaseQuantities.GrossVolume: 0.3393750012852314\n",
      "    - Qto_BeamBaseQuantities.NetVolume: 0.3393750012852312\n",
      "    - Qto_BeamBaseQuantities.id: 2904\n",
      "\n",
      "\n",
      "--- Element ID: 0Bl0khqE5CRu4G24Ko5Z1o ---\n",
      "  Name: M_Concrete-Rectangular Beam:250 x 500mm:420134\n",
      "  Type: IfcBeam\n",
      "  Materials:\n",
      "    - Concrete, Cast-in-Place gray (Type: material)\n",
      "  Other Properties:\n",
      "    - Pset_BeamCommon.IsExternal: False\n",
      "    - Pset_BeamCommon.LoadBearing: True\n",
      "    - Pset_BeamCommon.id: 2936\n",
      "    - Pset_BeamCommon.Slope: 0.0\n",
      "    - Pset_BeamCommon.Reference: 250 x 500mm\n",
      "    - Pset_BeamCommon.Roll: 0.0\n",
      "    - Pset_BeamCommon.Span: 2604.99998286367\n",
      "    - Pset_EnvironmentalImpactIndicators.Reference: 250 x 500mm\n",
      "    - Pset_EnvironmentalImpactIndicators.id: 2937\n",
      "    - Pset_ReinforcementBarPitchOfBeam.Reference: 250 x 500mm\n",
      "    - Pset_ReinforcementBarPitchOfBeam.id: 2939\n",
      "    - Qto_BeamBaseQuantities.Length: 2604.99998286367\n",
      "    - Qto_BeamBaseQuantities.CrossSectionArea: 0.07500000000000162\n",
      "    - Qto_BeamBaseQuantities.OuterSurfaceArea: 2.3979999811500625\n",
      "    - Qto_BeamBaseQuantities.GrossSurfaceArea: 2.547999981150066\n",
      "    - Qto_BeamBaseQuantities.NetSurfaceArea: 2.5479999811500638\n",
      "    - Qto_BeamBaseQuantities.GrossVolume: 0.16349999871477888\n",
      "    - Qto_BeamBaseQuantities.NetVolume: 0.16349999871477838\n",
      "    - Qto_BeamBaseQuantities.id: 2950\n",
      "\n",
      "\n",
      "--- Element ID: 0Bl0khqE5CRu4G24Ko5Z1y ---\n",
      "  Name: M_Concrete-Rectangular Beam:250 x 500mm:420136\n",
      "  Type: IfcBeam\n",
      "  Materials:\n",
      "    - Concrete, Cast-in-Place gray (Type: material)\n",
      "  Other Properties:\n",
      "    - Pset_BeamCommon.IsExternal: False\n",
      "    - Pset_BeamCommon.LoadBearing: True\n",
      "    - Pset_BeamCommon.id: 2982\n",
      "    - Pset_BeamCommon.Slope: 0.0\n",
      "    - Pset_BeamCommon.Reference: 250 x 500mm\n",
      "    - Pset_BeamCommon.Roll: 0.0\n",
      "    - Pset_BeamCommon.Span: 4950.000017136321\n",
      "    - Pset_EnvironmentalImpactIndicators.Reference: 250 x 500mm\n",
      "    - Pset_EnvironmentalImpactIndicators.id: 2983\n",
      "    - Pset_ReinforcementBarPitchOfBeam.Reference: 250 x 500mm\n",
      "    - Pset_ReinforcementBarPitchOfBeam.id: 2985\n",
      "    - Qto_BeamBaseQuantities.Length: 4950.000017136321\n",
      "    - Qto_BeamBaseQuantities.CrossSectionArea: 0.0750000000000016\n",
      "    - Qto_BeamBaseQuantities.OuterSurfaceArea: 4.977500018850011\n",
      "    - Qto_BeamBaseQuantities.GrossSurfaceArea: 5.127500018850014\n",
      "    - Qto_BeamBaseQuantities.NetSurfaceArea: 5.127500018850013\n",
      "    - Qto_BeamBaseQuantities.GrossVolume: 0.3393750012852314\n",
      "    - Qto_BeamBaseQuantities.NetVolume: 0.3393750012852317\n",
      "    - Qto_BeamBaseQuantities.id: 2996\n",
      "\n",
      "\n",
      "--- Element ID: 0Bl0khqE5CRu4G24Ko5Z1_ ---\n",
      "  Name: M_Concrete-Rectangular Beam:250 x 500mm:420138\n",
      "  Type: IfcBeam\n",
      "  Materials:\n",
      "    - Concrete, Cast-in-Place gray (Type: material)\n",
      "  Other Properties:\n",
      "    - Pset_BeamCommon.IsExternal: False\n",
      "    - Pset_BeamCommon.LoadBearing: True\n",
      "    - Pset_BeamCommon.id: 3028\n",
      "    - Pset_BeamCommon.Slope: 0.0\n",
      "    - Pset_BeamCommon.Reference: 250 x 500mm\n",
      "    - Pset_BeamCommon.Roll: 0.0\n",
      "    - Pset_BeamCommon.Span: 2604.99998286367\n",
      "    - Pset_EnvironmentalImpactIndicators.Reference: 250 x 500mm\n",
      "    - Pset_EnvironmentalImpactIndicators.id: 3029\n",
      "    - Pset_ReinforcementBarPitchOfBeam.Reference: 250 x 500mm\n",
      "    - Pset_ReinforcementBarPitchOfBeam.id: 3031\n",
      "    - Qto_BeamBaseQuantities.Length: 2604.99998286367\n",
      "    - Qto_BeamBaseQuantities.CrossSectionArea: 0.07500000000000168\n",
      "    - Qto_BeamBaseQuantities.OuterSurfaceArea: 2.425499981150066\n",
      "    - Qto_BeamBaseQuantities.GrossSurfaceArea: 2.5754999811500694\n",
      "    - Qto_BeamBaseQuantities.NetSurfaceArea: 2.575499981150067\n",
      "    - Qto_BeamBaseQuantities.GrossVolume: 0.16537499871477898\n",
      "    - Qto_BeamBaseQuantities.NetVolume: 0.165374998714779\n",
      "    - Qto_BeamBaseQuantities.id: 3042\n",
      "\n",
      "\n",
      "--- Element ID: 0Bl0khqE5CRu4G24Ko5Z1a ---\n",
      "  Name: M_Concrete-Rectangular Beam:250 x 500mm:420144\n",
      "  Type: IfcBeam\n",
      "  Materials:\n",
      "    - Concrete, Cast-in-Place gray (Type: material)\n",
      "  Other Properties:\n",
      "    - Pset_BeamCommon.IsExternal: False\n",
      "    - Pset_BeamCommon.LoadBearing: True\n",
      "    - Pset_BeamCommon.id: 3144\n",
      "    - Pset_BeamCommon.Slope: 0.0\n",
      "    - Pset_BeamCommon.Reference: 250 x 500mm\n",
      "    - Pset_BeamCommon.Roll: 0.0\n",
      "    - Pset_BeamCommon.Span: 5570.000000000003\n",
      "    - Pset_EnvironmentalImpactIndicators.Reference: 250 x 500mm\n",
      "    - Pset_EnvironmentalImpactIndicators.id: 3145\n",
      "    - Pset_ReinforcementBarPitchOfBeam.Reference: 250 x 500mm\n",
      "    - Pset_ReinforcementBarPitchOfBeam.id: 3147\n",
      "    - Qto_BeamBaseQuantities.Length: 5570.000000000003\n",
      "    - Qto_BeamBaseQuantities.CrossSectionArea: 0.07500000000012812\n",
      "    - Qto_BeamBaseQuantities.OuterSurfaceArea: 5.720000000005511\n",
      "    - Qto_BeamBaseQuantities.GrossSurfaceArea: 5.870000000005767\n",
      "    - Qto_BeamBaseQuantities.NetSurfaceArea: 5.870000000005688\n",
      "    - Qto_BeamBaseQuantities.GrossVolume: 0.3900000000006665\n",
      "    - Qto_BeamBaseQuantities.NetVolume: 0.39000000000067914\n",
      "    - Qto_BeamBaseQuantities.id: 3158\n",
      "\n",
      "\n",
      "--- Element ID: 0Bl0khqE5CRu4G24Ko5Z1c ---\n",
      "  Name: M_Concrete-Rectangular Beam:250 x 500mm:420146\n",
      "  Type: IfcBeam\n",
      "  Materials:\n",
      "    - Concrete, Cast-in-Place gray (Type: material)\n",
      "  Other Properties:\n",
      "    - Pset_BeamCommon.IsExternal: False\n",
      "    - Pset_BeamCommon.LoadBearing: True\n",
      "    - Pset_BeamCommon.id: 3190\n",
      "    - Pset_BeamCommon.Slope: 0.0\n",
      "    - Pset_BeamCommon.Reference: 250 x 500mm\n",
      "    - Pset_BeamCommon.Roll: 0.0\n",
      "    - Pset_BeamCommon.Span: 5570.000000000001\n",
      "    - Pset_EnvironmentalImpactIndicators.Reference: 250 x 500mm\n",
      "    - Pset_EnvironmentalImpactIndicators.id: 3191\n",
      "    - Pset_ReinforcementBarPitchOfBeam.Reference: 250 x 500mm\n",
      "    - Pset_ReinforcementBarPitchOfBeam.id: 3193\n",
      "    - Qto_BeamBaseQuantities.Length: 5570.000000000001\n",
      "    - Qto_BeamBaseQuantities.CrossSectionArea: 0.07500000000012827\n",
      "    - Qto_BeamBaseQuantities.OuterSurfaceArea: 5.720000000005541\n",
      "    - Qto_BeamBaseQuantities.GrossSurfaceArea: 5.870000000005797\n",
      "    - Qto_BeamBaseQuantities.NetSurfaceArea: 5.87000000000569\n",
      "    - Qto_BeamBaseQuantities.GrossVolume: 0.3900000000006672\n",
      "    - Qto_BeamBaseQuantities.NetVolume: 0.390000000000679\n",
      "    - Qto_BeamBaseQuantities.id: 3204\n",
      "\n",
      "\n",
      "--- Element ID: 0Bl0khqE5CRu4G24Ko5Z1Y ---\n",
      "  Name: M_Concrete-Rectangular Beam:250 x 500mm:420150\n",
      "  Type: IfcBeam\n",
      "  Materials:\n",
      "    - Concrete, Cast-in-Place gray (Type: material)\n",
      "  Other Properties:\n",
      "    - Pset_BeamCommon.IsExternal: False\n",
      "    - Pset_BeamCommon.LoadBearing: True\n",
      "    - Pset_BeamCommon.id: 3271\n",
      "    - Pset_BeamCommon.Slope: 0.0\n",
      "    - Pset_BeamCommon.Reference: 250 x 500mm\n",
      "    - Pset_BeamCommon.Roll: 0.0\n",
      "    - Pset_BeamCommon.Span: 5570.000000000001\n",
      "    - Pset_EnvironmentalImpactIndicators.Reference: 250 x 500mm\n",
      "    - Pset_EnvironmentalImpactIndicators.id: 3272\n",
      "    - Pset_ReinforcementBarPitchOfBeam.Reference: 250 x 500mm\n",
      "    - Pset_ReinforcementBarPitchOfBeam.id: 3274\n",
      "    - Qto_BeamBaseQuantities.Length: 5570.000000000001\n",
      "    - Qto_BeamBaseQuantities.CrossSectionArea: 0.07499999999999928\n",
      "    - Qto_BeamBaseQuantities.OuterSurfaceArea: 5.665000000000152\n",
      "    - Qto_BeamBaseQuantities.GrossSurfaceArea: 5.8150000000001505\n",
      "    - Qto_BeamBaseQuantities.NetSurfaceArea: 5.81500000000006\n",
      "    - Qto_BeamBaseQuantities.GrossVolume: 0.3862499999999963\n",
      "    - Qto_BeamBaseQuantities.NetVolume: 0.3862500000000079\n",
      "    - Qto_BeamBaseQuantities.id: 3285\n",
      "\n",
      "\n",
      "--- Element ID: 0Bl0khqE5CRu4G24Ko5Z1i ---\n",
      "  Name: M_Concrete-Rectangular Beam:250 x 500mm:420152\n",
      "  Type: IfcBeam\n",
      "  Materials:\n",
      "    - Concrete, Cast-in-Place gray (Type: material)\n",
      "  Other Properties:\n",
      "    - Pset_BeamCommon.IsExternal: False\n",
      "    - Pset_BeamCommon.LoadBearing: True\n",
      "    - Pset_BeamCommon.id: 3317\n",
      "    - Pset_BeamCommon.Slope: 0.0\n",
      "    - Pset_BeamCommon.Reference: 250 x 500mm\n",
      "    - Pset_BeamCommon.Roll: 0.0\n",
      "    - Pset_BeamCommon.Span: 4950.000017136321\n",
      "    - Pset_EnvironmentalImpactIndicators.Reference: 250 x 500mm\n",
      "    - Pset_EnvironmentalImpactIndicators.id: 3318\n",
      "    - Pset_ReinforcementBarPitchOfBeam.Reference: 250 x 500mm\n",
      "    - Pset_ReinforcementBarPitchOfBeam.id: 3320\n",
      "    - Qto_BeamBaseQuantities.Length: 4950.000017136321\n",
      "    - Qto_BeamBaseQuantities.CrossSectionArea: 0.07500000000000139\n",
      "    - Qto_BeamBaseQuantities.OuterSurfaceArea: 4.977500018850001\n",
      "    - Qto_BeamBaseQuantities.GrossSurfaceArea: 5.127500018850004\n",
      "    - Qto_BeamBaseQuantities.NetSurfaceArea: 5.12750001885\n",
      "    - Qto_BeamBaseQuantities.GrossVolume: 0.33937500128523057\n",
      "    - Qto_BeamBaseQuantities.NetVolume: 0.3393750012852295\n",
      "    - Qto_BeamBaseQuantities.id: 3331\n",
      "\n",
      "\n",
      "--- Element ID: 0Bl0khqE5CRu4G24Ko5Z1k ---\n",
      "  Name: M_Concrete-Rectangular Beam:250 x 500mm:420154\n",
      "  Type: IfcBeam\n",
      "  Materials:\n",
      "    - Concrete, Cast-in-Place gray (Type: material)\n",
      "  Other Properties:\n",
      "    - Pset_BeamCommon.IsExternal: False\n",
      "    - Pset_BeamCommon.LoadBearing: True\n",
      "    - Pset_BeamCommon.id: 3363\n",
      "    - Pset_BeamCommon.Slope: 0.0\n",
      "    - Pset_BeamCommon.Reference: 250 x 500mm\n",
      "    - Pset_BeamCommon.Roll: 0.0\n",
      "    - Pset_BeamCommon.Span: 2604.99998286367\n",
      "    - Pset_EnvironmentalImpactIndicators.Reference: 250 x 500mm\n",
      "    - Pset_EnvironmentalImpactIndicators.id: 3364\n",
      "    - Pset_ReinforcementBarPitchOfBeam.Reference: 250 x 500mm\n",
      "    - Pset_ReinforcementBarPitchOfBeam.id: 3366\n",
      "    - Qto_BeamBaseQuantities.Length: 2604.99998286367\n",
      "    - Qto_BeamBaseQuantities.CrossSectionArea: 0.07500000000000137\n",
      "    - Qto_BeamBaseQuantities.OuterSurfaceArea: 2.4254999811500593\n",
      "    - Qto_BeamBaseQuantities.GrossSurfaceArea: 2.575499981150062\n",
      "    - Qto_BeamBaseQuantities.NetSurfaceArea: 2.5754999811500614\n",
      "    - Qto_BeamBaseQuantities.GrossVolume: 0.16537499871477832\n",
      "    - Qto_BeamBaseQuantities.NetVolume: 0.16537499871477826\n",
      "    - Qto_BeamBaseQuantities.id: 3377\n",
      "\n",
      "\n",
      "--- Element ID: 0Bl0khqE5CRu4G24Ko5Z0K ---\n",
      "  Name: M_Concrete-Rectangular Beam:250 x 500mm:420160\n",
      "  Type: IfcBeam\n",
      "  Materials:\n",
      "    - Concrete, Cast-in-Place gray (Type: material)\n",
      "  Other Properties:\n",
      "    - Pset_BeamCommon.IsExternal: False\n",
      "    - Pset_BeamCommon.LoadBearing: True\n",
      "    - Pset_BeamCommon.id: 3493\n",
      "    - Pset_BeamCommon.Slope: 0.0\n",
      "    - Pset_BeamCommon.Reference: 250 x 500mm\n",
      "    - Pset_BeamCommon.Roll: 0.0\n",
      "    - Pset_BeamCommon.Span: 5570.000000000003\n",
      "    - Pset_EnvironmentalImpactIndicators.Reference: 250 x 500mm\n",
      "    - Pset_EnvironmentalImpactIndicators.id: 3494\n",
      "    - Pset_ReinforcementBarPitchOfBeam.Reference: 250 x 500mm\n",
      "    - Pset_ReinforcementBarPitchOfBeam.id: 3496\n",
      "    - Qto_BeamBaseQuantities.Length: 5570.000000000003\n",
      "    - Qto_BeamBaseQuantities.CrossSectionArea: 3.3956865861665992\n",
      "    - Qto_BeamBaseQuantities.NetSurfaceArea: 6.7913731723331985\n",
      "    - Qto_BeamBaseQuantities.NetVolume: 0.40113210966983925\n",
      "    - Qto_BeamBaseQuantities.id: 3504\n",
      "\n",
      "\n",
      "--- Element ID: 0Bl0khqE5CRu4G24Ko5Z0M ---\n",
      "  Name: M_Concrete-Rectangular Beam:250 x 500mm:420162\n",
      "  Type: IfcBeam\n",
      "  Materials:\n",
      "    - Concrete, Cast-in-Place gray (Type: material)\n",
      "  Other Properties:\n",
      "    - Pset_BeamCommon.IsExternal: False\n",
      "    - Pset_BeamCommon.LoadBearing: True\n",
      "    - Pset_BeamCommon.id: 3536\n",
      "    - Pset_BeamCommon.Slope: 0.0\n",
      "    - Pset_BeamCommon.Reference: 250 x 500mm\n",
      "    - Pset_BeamCommon.Roll: 0.0\n",
      "    - Pset_BeamCommon.Span: 5570.000000000001\n",
      "    - Pset_EnvironmentalImpactIndicators.Reference: 250 x 500mm\n",
      "    - Pset_EnvironmentalImpactIndicators.id: 3537\n",
      "    - Pset_ReinforcementBarPitchOfBeam.Reference: 250 x 500mm\n",
      "    - Pset_ReinforcementBarPitchOfBeam.id: 3539\n",
      "    - Qto_BeamBaseQuantities.Length: 5570.000000000001\n",
      "    - Qto_BeamBaseQuantities.CrossSectionArea: 0.07500000000012812\n",
      "    - Qto_BeamBaseQuantities.OuterSurfaceArea: 5.720000000005535\n",
      "    - Qto_BeamBaseQuantities.GrossSurfaceArea: 5.870000000005791\n",
      "    - Qto_BeamBaseQuantities.NetSurfaceArea: 5.870000000005688\n",
      "    - Qto_BeamBaseQuantities.GrossVolume: 0.3900000000006664\n",
      "    - Qto_BeamBaseQuantities.NetVolume: 0.390000000000679\n",
      "    - Qto_BeamBaseQuantities.id: 3550\n",
      "\n",
      "\n",
      "--- Element ID: 0Bl0khqE5CRu4G24Ko5Z0I ---\n",
      "  Name: M_Concrete-Rectangular Beam:250 x 500mm:420166\n",
      "  Type: IfcBeam\n",
      "  Materials:\n",
      "    - Concrete, Cast-in-Place gray (Type: material)\n",
      "  Other Properties:\n",
      "    - Pset_BeamCommon.IsExternal: False\n",
      "    - Pset_BeamCommon.LoadBearing: True\n",
      "    - Pset_BeamCommon.id: 3624\n",
      "    - Pset_BeamCommon.Slope: 0.0\n",
      "    - Pset_BeamCommon.Reference: 250 x 500mm\n",
      "    - Pset_BeamCommon.Roll: 0.0\n",
      "    - Pset_BeamCommon.Span: 5570.000000000001\n",
      "    - Pset_EnvironmentalImpactIndicators.Reference: 250 x 500mm\n",
      "    - Pset_EnvironmentalImpactIndicators.id: 3625\n",
      "    - Pset_ReinforcementBarPitchOfBeam.Reference: 250 x 500mm\n",
      "    - Pset_ReinforcementBarPitchOfBeam.id: 3627\n",
      "    - Qto_BeamBaseQuantities.Length: 5570.000000000001\n",
      "    - Qto_BeamBaseQuantities.CrossSectionArea: 0.07499999999999929\n",
      "    - Qto_BeamBaseQuantities.OuterSurfaceArea: 5.632000000000155\n",
      "    - Qto_BeamBaseQuantities.GrossSurfaceArea: 5.782000000000154\n",
      "    - Qto_BeamBaseQuantities.NetSurfaceArea: 6.039500000000061\n",
      "    - Qto_BeamBaseQuantities.GrossVolume: 0.3839999999999968\n",
      "    - Qto_BeamBaseQuantities.NetVolume: 0.38462500000000777\n",
      "    - Qto_BeamBaseQuantities.id: 3638\n",
      "\n",
      "\n",
      "--- Element ID: 0Bl0khqE5CRu4G24Ko5Z0S ---\n",
      "  Name: M_Concrete-Rectangular Beam:250 x 500mm:420168\n",
      "  Type: IfcBeam\n",
      "  Materials:\n",
      "    - Concrete, Cast-in-Place gray (Type: material)\n",
      "  Other Properties:\n",
      "    - Pset_BeamCommon.IsExternal: False\n",
      "    - Pset_BeamCommon.LoadBearing: True\n",
      "    - Pset_BeamCommon.id: 3695\n",
      "    - Pset_BeamCommon.Slope: 0.0\n",
      "    - Pset_BeamCommon.Reference: 250 x 500mm\n",
      "    - Pset_BeamCommon.Roll: 0.0\n",
      "    - Pset_BeamCommon.Span: 4950.000017136321\n",
      "    - Pset_EnvironmentalImpactIndicators.Reference: 250 x 500mm\n",
      "    - Pset_EnvironmentalImpactIndicators.id: 3696\n",
      "    - Pset_ReinforcementBarPitchOfBeam.Reference: 250 x 500mm\n",
      "    - Pset_ReinforcementBarPitchOfBeam.id: 3698\n",
      "    - Qto_BeamBaseQuantities.Length: 4950.000017136321\n",
      "    - Qto_BeamBaseQuantities.CrossSectionArea: 3.507625012796543\n",
      "    - Qto_BeamBaseQuantities.NetSurfaceArea: 7.015250025593086\n",
      "    - Qto_BeamBaseQuantities.NetVolume: 0.3440875011596517\n",
      "    - Qto_BeamBaseQuantities.id: 3706\n",
      "\n",
      "\n",
      "--- Element ID: 0Bl0khqE5CRu4G24Ko5Z0U ---\n",
      "  Name: M_Concrete-Rectangular Beam:250 x 500mm:420170\n",
      "  Type: IfcBeam\n",
      "  Materials:\n",
      "    - Concrete, Cast-in-Place gray (Type: material)\n",
      "  Other Properties:\n",
      "    - Pset_BeamCommon.IsExternal: False\n",
      "    - Pset_BeamCommon.LoadBearing: True\n",
      "    - Pset_BeamCommon.id: 3763\n",
      "    - Pset_BeamCommon.Slope: 0.0\n",
      "    - Pset_BeamCommon.Reference: 250 x 500mm\n",
      "    - Pset_BeamCommon.Roll: 0.0\n",
      "    - Pset_BeamCommon.Span: 2604.99998286367\n",
      "    - Pset_EnvironmentalImpactIndicators.Reference: 250 x 500mm\n",
      "    - Pset_EnvironmentalImpactIndicators.id: 3764\n",
      "    - Pset_ReinforcementBarPitchOfBeam.Reference: 250 x 500mm\n",
      "    - Pset_ReinforcementBarPitchOfBeam.id: 3766\n",
      "    - Qto_BeamBaseQuantities.Length: 2604.99998286367\n",
      "    - Qto_BeamBaseQuantities.CrossSectionArea: 1.7676249870920409\n",
      "    - Qto_BeamBaseQuantities.NetSurfaceArea: 3.5352499741840817\n",
      "    - Qto_BeamBaseQuantities.NetVolume: 0.1677674986274957\n",
      "    - Qto_BeamBaseQuantities.id: 3774\n",
      "\n",
      "\n",
      "--- Element ID: 1YMpECnoXAAgd3TsblgkPk ---\n",
      "  Name: M_Concrete-Rectangular-Column:250 x 450 mm2:416794\n",
      "  Type: IfcColumn\n",
      "  Materials:\n",
      "    - Concrete, Cast-in-Place gray (Type: material)\n",
      "  Other Properties:\n",
      "    - Pset_ColumnCommon.IsExternal: False\n",
      "    - Pset_ColumnCommon.LoadBearing: True\n",
      "    - Pset_ColumnCommon.id: 168\n",
      "    - Pset_ColumnCommon.Reference: 250 x 450 mm2\n",
      "    - Pset_ColumnCommon.Slope: 0.0\n",
      "    - Qto_ColumnBaseQuantities.Length: 249.99999999999974\n",
      "    - Qto_ColumnBaseQuantities.CrossSectionArea: 1.8899999999999988\n",
      "    - Qto_ColumnBaseQuantities.OuterSurfaceArea: 2.3249999999999975\n",
      "    - Qto_ColumnBaseQuantities.GrossVolume: 0.47249999999999925\n",
      "    - Qto_ColumnBaseQuantities.NetVolume: 0.47249999999999914\n",
      "    - Qto_ColumnBaseQuantities.id: 162\n",
      "    - Pset_EnvironmentalImpactIndicators.Reference: 250 x 450 mm2\n",
      "    - Pset_EnvironmentalImpactIndicators.id: 169\n",
      "    - Pset_ReinforcementBarPitchOfColumn.Reference: 250 x 450 mm2\n",
      "    - Pset_ReinforcementBarPitchOfColumn.id: 171\n",
      "\n",
      "\n",
      "--- Element ID: 1YMpECnoXAAgd3TsblgkPe ---\n",
      "  Name: M_Concrete-Rectangular-Column:250 x 450 mm2:416796\n",
      "  Type: IfcColumn\n",
      "  Materials:\n",
      "    - Concrete, Cast-in-Place gray (Type: material)\n",
      "  Other Properties:\n",
      "    - Pset_ColumnCommon.IsExternal: False\n",
      "    - Pset_ColumnCommon.LoadBearing: True\n",
      "    - Pset_ColumnCommon.id: 203\n",
      "    - Pset_ColumnCommon.Reference: 250 x 450 mm2\n",
      "    - Pset_ColumnCommon.Slope: 0.0\n",
      "    - Qto_ColumnBaseQuantities.Length: 250.00000000000003\n",
      "    - Qto_ColumnBaseQuantities.CrossSectionArea: 1.8899999999999988\n",
      "    - Qto_ColumnBaseQuantities.OuterSurfaceArea: 2.325\n",
      "    - Qto_ColumnBaseQuantities.GrossVolume: 0.47249999999999975\n",
      "    - Qto_ColumnBaseQuantities.NetVolume: 0.47250000000000003\n",
      "    - Qto_ColumnBaseQuantities.id: 201\n",
      "    - Pset_EnvironmentalImpactIndicators.Reference: 250 x 450 mm2\n",
      "    - Pset_EnvironmentalImpactIndicators.id: 204\n",
      "    - Pset_ReinforcementBarPitchOfColumn.Reference: 250 x 450 mm2\n",
      "    - Pset_ReinforcementBarPitchOfColumn.id: 206\n",
      "\n",
      "\n",
      "--- Element ID: 1YMpECnoXAAgd3TsblgkPM ---\n",
      "  Name: M_Concrete-Rectangular-Column:250 x 400 mm:416802\n",
      "  Type: IfcColumn\n",
      "  Materials:\n",
      "    - Concrete, Cast-in-Place gray (Type: material)\n",
      "  Other Properties:\n",
      "    - Pset_ColumnCommon.IsExternal: False\n",
      "    - Pset_ColumnCommon.LoadBearing: True\n",
      "    - Pset_ColumnCommon.id: 239\n",
      "    - Pset_ColumnCommon.Slope: 0.0\n",
      "    - Pset_ColumnCommon.Reference: 250 x 400 mm\n",
      "    - Qto_ColumnBaseQuantities.Length: 250.00000000000003\n",
      "    - Qto_ColumnBaseQuantities.CrossSectionArea: 1.6800000000000002\n",
      "    - Qto_ColumnBaseQuantities.OuterSurfaceArea: 2.3000000000000003\n",
      "    - Qto_ColumnBaseQuantities.GrossVolume: 0.4200000000000001\n",
      "    - Qto_ColumnBaseQuantities.NetVolume: 0.4200000000000006\n",
      "    - Qto_ColumnBaseQuantities.id: 236\n",
      "    - Pset_EnvironmentalImpactIndicators.Reference: 250 x 400 mm\n",
      "    - Pset_EnvironmentalImpactIndicators.id: 240\n",
      "    - Pset_ReinforcementBarPitchOfColumn.Reference: 250 x 400 mm\n",
      "    - Pset_ReinforcementBarPitchOfColumn.id: 242\n",
      "\n",
      "\n",
      "--- Element ID: 1YMpECnoXAAgd3TsblgkPG ---\n",
      "  Name: M_Concrete-Rectangular-Column:250 x 450 mm2:416804\n",
      "  Type: IfcColumn\n",
      "  Materials:\n",
      "    - Concrete, Cast-in-Place gray (Type: material)\n",
      "  Other Properties:\n",
      "    - Pset_ColumnCommon.IsExternal: False\n",
      "    - Pset_ColumnCommon.LoadBearing: True\n",
      "    - Pset_ColumnCommon.id: 274\n",
      "    - Pset_ColumnCommon.Reference: 250 x 450 mm2\n",
      "    - Pset_ColumnCommon.Slope: 0.0\n",
      "    - Qto_ColumnBaseQuantities.Length: 249.99999999999974\n",
      "    - Qto_ColumnBaseQuantities.CrossSectionArea: 1.8899999999999988\n",
      "    - Qto_ColumnBaseQuantities.OuterSurfaceArea: 2.3249999999999975\n",
      "    - Qto_ColumnBaseQuantities.GrossVolume: 0.47249999999999925\n",
      "    - Qto_ColumnBaseQuantities.NetVolume: 0.47249999999999914\n",
      "    - Qto_ColumnBaseQuantities.id: 272\n",
      "    - Pset_EnvironmentalImpactIndicators.Reference: 250 x 450 mm2\n",
      "    - Pset_EnvironmentalImpactIndicators.id: 275\n",
      "    - Pset_ReinforcementBarPitchOfColumn.Reference: 250 x 450 mm2\n",
      "    - Pset_ReinforcementBarPitchOfColumn.id: 277\n",
      "\n",
      "\n",
      "--- Element ID: 2e3KIcTBT93wdBtSLDrM6B ---\n",
      "  Name: M_Concrete-Rectangular-Column:300 x 400 mm2:418173\n",
      "  Type: IfcColumn\n",
      "  Materials:\n",
      "    - Concrete, Cast-in-Place gray (Type: material)\n",
      "  Other Properties:\n",
      "    - Pset_ColumnCommon.IsExternal: False\n",
      "    - Pset_ColumnCommon.LoadBearing: True\n",
      "    - Pset_ColumnCommon.id: 404\n",
      "    - Pset_ColumnCommon.Slope: 0.0\n",
      "    - Pset_ColumnCommon.Reference: 300 x 400 mm2\n",
      "    - Qto_ColumnBaseQuantities.Length: 300.0\n",
      "    - Qto_ColumnBaseQuantities.CrossSectionArea: 1.6799999999999997\n",
      "    - Qto_ColumnBaseQuantities.OuterSurfaceArea: 2.76\n",
      "    - Qto_ColumnBaseQuantities.GrossVolume: 0.504\n",
      "    - Qto_ColumnBaseQuantities.NetVolume: 0.5039999999999999\n",
      "    - Qto_ColumnBaseQuantities.id: 401\n",
      "    - Pset_EnvironmentalImpactIndicators.Reference: 300 x 400 mm2\n",
      "    - Pset_EnvironmentalImpactIndicators.id: 405\n",
      "    - Pset_ReinforcementBarPitchOfColumn.Reference: 300 x 400 mm2\n",
      "    - Pset_ReinforcementBarPitchOfColumn.id: 407\n",
      "\n",
      "\n",
      "--- Element ID: 2e3KIcTBT93wdBtSLDrM4N ---\n",
      "  Name: M_Concrete-Rectangular-Column:300 x 400 mm2:418273\n",
      "  Type: IfcColumn\n",
      "  Materials:\n",
      "    - Concrete, Cast-in-Place gray (Type: material)\n",
      "  Other Properties:\n",
      "    - Pset_ColumnCommon.IsExternal: False\n",
      "    - Pset_ColumnCommon.LoadBearing: True\n",
      "    - Pset_ColumnCommon.id: 439\n",
      "    - Pset_ColumnCommon.Slope: 0.0\n",
      "    - Pset_ColumnCommon.Reference: 300 x 400 mm2\n",
      "    - Qto_ColumnBaseQuantities.Length: 300.0\n",
      "    - Qto_ColumnBaseQuantities.CrossSectionArea: 1.6800000000000002\n",
      "    - Qto_ColumnBaseQuantities.OuterSurfaceArea: 2.76\n",
      "    - Qto_ColumnBaseQuantities.GrossVolume: 0.5040000000000001\n",
      "    - Qto_ColumnBaseQuantities.NetVolume: 0.5040000000000001\n",
      "    - Qto_ColumnBaseQuantities.id: 437\n",
      "    - Pset_EnvironmentalImpactIndicators.Reference: 300 x 400 mm2\n",
      "    - Pset_EnvironmentalImpactIndicators.id: 440\n",
      "    - Pset_ReinforcementBarPitchOfColumn.Reference: 300 x 400 mm2\n",
      "    - Pset_ReinforcementBarPitchOfColumn.id: 442\n",
      "\n",
      "\n",
      "--- Element ID: 2e3KIcTBT93wdBtSLDrMNH ---\n",
      "  Name: M_Concrete-Rectangular-Column:250 x 450 mm2:419111\n",
      "  Type: IfcColumn\n",
      "  Materials:\n",
      "    - Concrete, Cast-in-Place gray (Type: material)\n",
      "  Other Properties:\n",
      "    - Pset_ColumnCommon.IsExternal: False\n",
      "    - Pset_ColumnCommon.LoadBearing: True\n",
      "    - Pset_ColumnCommon.id: 704\n",
      "    - Pset_ColumnCommon.Reference: 250 x 450 mm2\n",
      "    - Pset_ColumnCommon.Slope: 0.0\n",
      "    - Qto_ColumnBaseQuantities.Length: 249.9999999999995\n",
      "    - Qto_ColumnBaseQuantities.CrossSectionArea: 1.8900000000000001\n",
      "    - Qto_ColumnBaseQuantities.OuterSurfaceArea: 2.324999999999995\n",
      "    - Qto_ColumnBaseQuantities.GrossVolume: 0.47249999999999903\n",
      "    - Qto_ColumnBaseQuantities.NetVolume: 0.4725000000000004\n",
      "    - Qto_ColumnBaseQuantities.id: 702\n",
      "    - Pset_EnvironmentalImpactIndicators.Reference: 250 x 450 mm2\n",
      "    - Pset_EnvironmentalImpactIndicators.id: 705\n",
      "    - Pset_ReinforcementBarPitchOfColumn.Reference: 250 x 450 mm2\n",
      "    - Pset_ReinforcementBarPitchOfColumn.id: 707\n",
      "\n",
      "\n",
      "--- Element ID: 2e3KIcTBT93wdBtSLDrMNV ---\n",
      "  Name: M_Concrete-Rectangular-Column:250 x 400 mm:419113\n",
      "  Type: IfcColumn\n",
      "  Materials:\n",
      "    - Concrete, Cast-in-Place gray (Type: material)\n",
      "  Other Properties:\n",
      "    - Pset_ColumnCommon.IsExternal: False\n",
      "    - Pset_ColumnCommon.LoadBearing: True\n",
      "    - Pset_ColumnCommon.id: 739\n",
      "    - Pset_ColumnCommon.Slope: 0.0\n",
      "    - Pset_ColumnCommon.Reference: 250 x 400 mm\n",
      "    - Qto_ColumnBaseQuantities.Length: 249.9999999999995\n",
      "    - Qto_ColumnBaseQuantities.CrossSectionArea: 1.6800000000000002\n",
      "    - Qto_ColumnBaseQuantities.OuterSurfaceArea: 2.299999999999995\n",
      "    - Qto_ColumnBaseQuantities.GrossVolume: 0.41999999999999915\n",
      "    - Qto_ColumnBaseQuantities.NetVolume: 0.4199999999999993\n",
      "    - Qto_ColumnBaseQuantities.id: 737\n",
      "    - Pset_EnvironmentalImpactIndicators.Reference: 250 x 400 mm\n",
      "    - Pset_EnvironmentalImpactIndicators.id: 740\n",
      "    - Pset_ReinforcementBarPitchOfColumn.Reference: 250 x 400 mm\n",
      "    - Pset_ReinforcementBarPitchOfColumn.id: 742\n",
      "\n",
      "\n",
      "--- Element ID: 2e3KIcTBT93wdBtSLDrMN3 ---\n",
      "  Name: M_Concrete-Rectangular-Column:300 x 400 mm2:419125\n",
      "  Type: IfcColumn\n",
      "  Materials:\n",
      "    - Concrete, Cast-in-Place gray (Type: material)\n",
      "  Other Properties:\n",
      "    - Pset_ColumnCommon.IsExternal: False\n",
      "    - Pset_ColumnCommon.LoadBearing: True\n",
      "    - Pset_ColumnCommon.id: 866\n",
      "    - Pset_ColumnCommon.Slope: 0.0\n",
      "    - Pset_ColumnCommon.Reference: 300 x 400 mm2\n",
      "    - Qto_ColumnBaseQuantities.Length: 300.0\n",
      "    - Qto_ColumnBaseQuantities.CrossSectionArea: 1.6800000000000002\n",
      "    - Qto_ColumnBaseQuantities.OuterSurfaceArea: 2.76\n",
      "    - Qto_ColumnBaseQuantities.GrossVolume: 0.5040000000000001\n",
      "    - Qto_ColumnBaseQuantities.NetVolume: 0.5040000000000009\n",
      "    - Qto_ColumnBaseQuantities.id: 864\n",
      "    - Pset_EnvironmentalImpactIndicators.Reference: 300 x 400 mm2\n",
      "    - Pset_EnvironmentalImpactIndicators.id: 867\n",
      "    - Pset_ReinforcementBarPitchOfColumn.Reference: 300 x 400 mm2\n",
      "    - Pset_ReinforcementBarPitchOfColumn.id: 869\n",
      "\n",
      "\n",
      "--- Element ID: 2e3KIcTBT93wdBtSLDrMMH ---\n",
      "  Name: M_Concrete-Rectangular-Column:250 x 450 mm2:419175\n",
      "  Type: IfcColumn\n",
      "  Materials:\n",
      "    - Concrete, Cast-in-Place gray (Type: material)\n",
      "  Other Properties:\n",
      "    - Pset_ColumnCommon.IsExternal: False\n",
      "    - Pset_ColumnCommon.LoadBearing: True\n",
      "    - Pset_ColumnCommon.id: 1039\n",
      "    - Pset_ColumnCommon.Reference: 250 x 450 mm2\n",
      "    - Pset_ColumnCommon.Slope: 0.0\n",
      "    - Qto_ColumnBaseQuantities.Length: 449.9999999999995\n",
      "    - Qto_ColumnBaseQuantities.CrossSectionArea: 1.050999999906158\n",
      "    - Qto_ColumnBaseQuantities.OuterSurfaceArea: 4.184999999999995\n",
      "    - Qto_ColumnBaseQuantities.GrossVolume: 0.4729499999577705\n",
      "    - Qto_ColumnBaseQuantities.NetVolume: 0.4729499999577592\n",
      "    - Qto_ColumnBaseQuantities.id: 1037\n",
      "    - Pset_EnvironmentalImpactIndicators.Reference: 250 x 450 mm2\n",
      "    - Pset_EnvironmentalImpactIndicators.id: 1040\n",
      "    - Pset_ReinforcementBarPitchOfColumn.Reference: 250 x 450 mm2\n",
      "    - Pset_ReinforcementBarPitchOfColumn.id: 1042\n",
      "\n",
      "\n",
      "--- Element ID: 2e3KIcTBT93wdBtSLDrMMV ---\n",
      "  Name: M_Concrete-Rectangular-Column:250 x 400 mm:419177\n",
      "  Type: IfcColumn\n",
      "  Materials:\n",
      "    - Concrete, Cast-in-Place gray (Type: material)\n",
      "  Other Properties:\n",
      "    - Pset_ColumnCommon.IsExternal: False\n",
      "    - Pset_ColumnCommon.LoadBearing: True\n",
      "    - Pset_ColumnCommon.id: 1074\n",
      "    - Pset_ColumnCommon.Slope: 0.0\n",
      "    - Pset_ColumnCommon.Reference: 250 x 400 mm\n",
      "    - Qto_ColumnBaseQuantities.Length: 400.0\n",
      "    - Qto_ColumnBaseQuantities.CrossSectionArea: 1.0509999999061594\n",
      "    - Qto_ColumnBaseQuantities.OuterSurfaceArea: 3.7200000000000006\n",
      "    - Qto_ColumnBaseQuantities.GrossVolume: 0.42039999996246374\n",
      "    - Qto_ColumnBaseQuantities.NetVolume: 0.4203999999624619\n",
      "    - Qto_ColumnBaseQuantities.id: 1072\n",
      "    - Pset_EnvironmentalImpactIndicators.Reference: 250 x 400 mm\n",
      "    - Pset_EnvironmentalImpactIndicators.id: 1075\n",
      "    - Pset_ReinforcementBarPitchOfColumn.Reference: 250 x 400 mm\n",
      "    - Pset_ReinforcementBarPitchOfColumn.id: 1077\n",
      "\n",
      "\n",
      "--- Element ID: 2e3KIcTBT93wdBtSLDrMM5 ---\n",
      "  Name: M_Concrete-Rectangular-Column:300 x 400 mm2:419187\n",
      "  Type: IfcColumn\n",
      "  Materials:\n",
      "    - Concrete, Cast-in-Place gray (Type: material)\n",
      "  Other Properties:\n",
      "    - Pset_ColumnCommon.IsExternal: False\n",
      "    - Pset_ColumnCommon.LoadBearing: True\n",
      "    - Pset_ColumnCommon.id: 1212\n",
      "    - Pset_ColumnCommon.Slope: 0.0\n",
      "    - Pset_ColumnCommon.Reference: 300 x 400 mm2\n",
      "    - Qto_ColumnBaseQuantities.Length: 300.0000000000011\n",
      "    - Qto_ColumnBaseQuantities.CrossSectionArea: 1.6799999999999997\n",
      "    - Qto_ColumnBaseQuantities.OuterSurfaceArea: 2.7600000000000096\n",
      "    - Qto_ColumnBaseQuantities.GrossVolume: 0.5040000000000018\n",
      "    - Qto_ColumnBaseQuantities.NetVolume: 0.5040000000000012\n",
      "    - Qto_ColumnBaseQuantities.id: 1210\n",
      "    - Pset_EnvironmentalImpactIndicators.Reference: 300 x 400 mm2\n",
      "    - Pset_EnvironmentalImpactIndicators.id: 1213\n",
      "    - Pset_ReinforcementBarPitchOfColumn.Reference: 300 x 400 mm2\n",
      "    - Pset_ReinforcementBarPitchOfColumn.id: 1215\n",
      "\n",
      "\n",
      "--- Element ID: 0Bl0khqE5CRu4G24Ko5Z15 ---\n",
      "  Name: M_Concrete-Rectangular-Column:250 x 450 mm2:420113\n",
      "  Type: IfcColumn\n",
      "  Materials:\n",
      "    - Concrete, Cast-in-Place gray (Type: material)\n",
      "  Other Properties:\n",
      "    - Pset_ColumnCommon.IsExternal: False\n",
      "    - Pset_ColumnCommon.LoadBearing: True\n",
      "    - Pset_ColumnCommon.id: 2540\n",
      "    - Pset_ColumnCommon.Reference: 250 x 450 mm2\n",
      "    - Pset_ColumnCommon.Slope: 0.0\n",
      "    - Qto_ColumnBaseQuantities.Length: 249.99999999999974\n",
      "    - Qto_ColumnBaseQuantities.CrossSectionArea: 1.1699999999999993\n",
      "    - Qto_ColumnBaseQuantities.OuterSurfaceArea: 1.5249999999999981\n",
      "    - Qto_ColumnBaseQuantities.GrossVolume: 0.29249999999999954\n",
      "    - Qto_ColumnBaseQuantities.NetVolume: 0.2924999999999995\n",
      "    - Qto_ColumnBaseQuantities.id: 2538\n",
      "    - Pset_EnvironmentalImpactIndicators.Reference: 250 x 450 mm2\n",
      "    - Pset_EnvironmentalImpactIndicators.id: 2541\n",
      "    - Pset_ReinforcementBarPitchOfColumn.Reference: 250 x 450 mm2\n",
      "    - Pset_ReinforcementBarPitchOfColumn.id: 2543\n",
      "\n",
      "\n",
      "--- Element ID: 0Bl0khqE5CRu4G24Ko5Z17 ---\n",
      "  Name: M_Concrete-Rectangular-Column:250 x 450 mm2:420115\n",
      "  Type: IfcColumn\n",
      "  Materials:\n",
      "    - Concrete, Cast-in-Place gray (Type: material)\n",
      "  Other Properties:\n",
      "    - Pset_ColumnCommon.IsExternal: False\n",
      "    - Pset_ColumnCommon.LoadBearing: True\n",
      "    - Pset_ColumnCommon.id: 2575\n",
      "    - Pset_ColumnCommon.Reference: 250 x 450 mm2\n",
      "    - Pset_ColumnCommon.Slope: 0.0\n",
      "    - Qto_ColumnBaseQuantities.Length: 250.00000000000003\n",
      "    - Qto_ColumnBaseQuantities.CrossSectionArea: 1.1699999999999995\n",
      "    - Qto_ColumnBaseQuantities.OuterSurfaceArea: 1.525\n",
      "    - Qto_ColumnBaseQuantities.GrossVolume: 0.29249999999999987\n",
      "    - Qto_ColumnBaseQuantities.NetVolume: 0.2924999999999999\n",
      "    - Qto_ColumnBaseQuantities.id: 2573\n",
      "    - Pset_EnvironmentalImpactIndicators.Reference: 250 x 450 mm2\n",
      "    - Pset_EnvironmentalImpactIndicators.id: 2576\n",
      "    - Pset_ReinforcementBarPitchOfColumn.Reference: 250 x 450 mm2\n",
      "    - Pset_ReinforcementBarPitchOfColumn.id: 2578\n",
      "\n",
      "\n",
      "--- Element ID: 0Bl0khqE5CRu4G24Ko5Z11 ---\n",
      "  Name: M_Concrete-Rectangular-Column:250 x 400 mm:420117\n",
      "  Type: IfcColumn\n",
      "  Materials:\n",
      "    - Concrete, Cast-in-Place gray (Type: material)\n",
      "  Other Properties:\n",
      "    - Pset_ColumnCommon.IsExternal: False\n",
      "    - Pset_ColumnCommon.LoadBearing: True\n",
      "    - Pset_ColumnCommon.id: 2610\n",
      "    - Pset_ColumnCommon.Slope: 0.0\n",
      "    - Pset_ColumnCommon.Reference: 250 x 400 mm\n",
      "    - Qto_ColumnBaseQuantities.Length: 250.00000000000003\n",
      "    - Qto_ColumnBaseQuantities.CrossSectionArea: 1.04\n",
      "    - Qto_ColumnBaseQuantities.OuterSurfaceArea: 1.5000000000000002\n",
      "    - Qto_ColumnBaseQuantities.GrossVolume: 0.26000000000000006\n",
      "    - Qto_ColumnBaseQuantities.NetVolume: 0.2600000000000002\n",
      "    - Qto_ColumnBaseQuantities.id: 2608\n",
      "    - Pset_EnvironmentalImpactIndicators.Reference: 250 x 400 mm\n",
      "    - Pset_EnvironmentalImpactIndicators.id: 2611\n",
      "    - Pset_ReinforcementBarPitchOfColumn.Reference: 250 x 400 mm\n",
      "    - Pset_ReinforcementBarPitchOfColumn.id: 2613\n",
      "\n",
      "\n",
      "--- Element ID: 0Bl0khqE5CRu4G24Ko5Z13 ---\n",
      "  Name: M_Concrete-Rectangular-Column:250 x 450 mm2:420119\n",
      "  Type: IfcColumn\n",
      "  Materials:\n",
      "    - Concrete, Cast-in-Place gray (Type: material)\n",
      "  Other Properties:\n",
      "    - Pset_ColumnCommon.IsExternal: False\n",
      "    - Pset_ColumnCommon.LoadBearing: True\n",
      "    - Pset_ColumnCommon.id: 2645\n",
      "    - Pset_ColumnCommon.Reference: 250 x 450 mm2\n",
      "    - Pset_ColumnCommon.Slope: 0.0\n",
      "    - Qto_ColumnBaseQuantities.Length: 249.99999999999974\n",
      "    - Qto_ColumnBaseQuantities.CrossSectionArea: 1.1699999999999993\n",
      "    - Qto_ColumnBaseQuantities.OuterSurfaceArea: 1.5249999999999981\n",
      "    - Qto_ColumnBaseQuantities.GrossVolume: 0.29249999999999954\n",
      "    - Qto_ColumnBaseQuantities.NetVolume: 0.2924999999999997\n",
      "    - Qto_ColumnBaseQuantities.id: 2643\n",
      "    - Pset_EnvironmentalImpactIndicators.Reference: 250 x 450 mm2\n",
      "    - Pset_EnvironmentalImpactIndicators.id: 2646\n",
      "    - Pset_ReinforcementBarPitchOfColumn.Reference: 250 x 450 mm2\n",
      "    - Pset_ReinforcementBarPitchOfColumn.id: 2648\n",
      "\n",
      "\n",
      "--- Element ID: 0Bl0khqE5CRu4G24Ko5Z1A ---\n",
      "  Name: M_Concrete-Rectangular-Column:300 x 400 mm2:420126\n",
      "  Type: IfcColumn\n",
      "  Materials:\n",
      "    - Concrete, Cast-in-Place gray (Type: material)\n",
      "  Other Properties:\n",
      "    - Pset_ColumnCommon.IsExternal: False\n",
      "    - Pset_ColumnCommon.LoadBearing: True\n",
      "    - Pset_ColumnCommon.id: 2772\n",
      "    - Pset_ColumnCommon.Slope: 0.0\n",
      "    - Pset_ColumnCommon.Reference: 300 x 400 mm2\n",
      "    - Qto_ColumnBaseQuantities.Length: 300.0\n",
      "    - Qto_ColumnBaseQuantities.CrossSectionArea: 1.0399999999999998\n",
      "    - Qto_ColumnBaseQuantities.OuterSurfaceArea: 1.8\n",
      "    - Qto_ColumnBaseQuantities.GrossVolume: 0.31199999999999994\n",
      "    - Qto_ColumnBaseQuantities.NetVolume: 0.31199999999999994\n",
      "    - Qto_ColumnBaseQuantities.id: 2770\n",
      "    - Pset_EnvironmentalImpactIndicators.Reference: 300 x 400 mm2\n",
      "    - Pset_EnvironmentalImpactIndicators.id: 2773\n",
      "    - Pset_ReinforcementBarPitchOfColumn.Reference: 300 x 400 mm2\n",
      "    - Pset_ReinforcementBarPitchOfColumn.id: 2775\n",
      "\n",
      "\n",
      "--- Element ID: 0Bl0khqE5CRu4G24Ko5Z1q ---\n",
      "  Name: M_Concrete-Rectangular-Column:300 x 400 mm2:420128\n",
      "  Type: IfcColumn\n",
      "  Materials:\n",
      "    - Concrete, Cast-in-Place gray (Type: material)\n",
      "  Other Properties:\n",
      "    - Pset_ColumnCommon.IsExternal: False\n",
      "    - Pset_ColumnCommon.LoadBearing: True\n",
      "    - Pset_ColumnCommon.id: 2807\n",
      "    - Pset_ColumnCommon.Slope: 0.0\n",
      "    - Pset_ColumnCommon.Reference: 300 x 400 mm2\n",
      "    - Qto_ColumnBaseQuantities.Length: 300.0\n",
      "    - Qto_ColumnBaseQuantities.CrossSectionArea: 1.04\n",
      "    - Qto_ColumnBaseQuantities.OuterSurfaceArea: 1.8\n",
      "    - Qto_ColumnBaseQuantities.GrossVolume: 0.312\n",
      "    - Qto_ColumnBaseQuantities.NetVolume: 0.3119999999999999\n",
      "    - Qto_ColumnBaseQuantities.id: 2805\n",
      "    - Pset_EnvironmentalImpactIndicators.Reference: 300 x 400 mm2\n",
      "    - Pset_EnvironmentalImpactIndicators.id: 2808\n",
      "    - Pset_ReinforcementBarPitchOfColumn.Reference: 300 x 400 mm2\n",
      "    - Pset_ReinforcementBarPitchOfColumn.id: 2810\n",
      "\n",
      "\n",
      "--- Element ID: 0Bl0khqE5CRu4G24Ko5Z1u ---\n",
      "  Name: M_Concrete-Rectangular-Column:250 x 450 mm2:420140\n",
      "  Type: IfcColumn\n",
      "  Materials:\n",
      "    - Concrete, Cast-in-Place gray (Type: material)\n",
      "  Other Properties:\n",
      "    - Pset_ColumnCommon.IsExternal: False\n",
      "    - Pset_ColumnCommon.LoadBearing: True\n",
      "    - Pset_ColumnCommon.id: 3072\n",
      "    - Pset_ColumnCommon.Reference: 250 x 450 mm2\n",
      "    - Pset_ColumnCommon.Slope: 0.0\n",
      "    - Qto_ColumnBaseQuantities.Length: 249.9999999999995\n",
      "    - Qto_ColumnBaseQuantities.CrossSectionArea: 1.1700000000000002\n",
      "    - Qto_ColumnBaseQuantities.OuterSurfaceArea: 1.5249999999999966\n",
      "    - Qto_ColumnBaseQuantities.GrossVolume: 0.2924999999999994\n",
      "    - Qto_ColumnBaseQuantities.NetVolume: 0.2925000000000003\n",
      "    - Qto_ColumnBaseQuantities.id: 3070\n",
      "    - Pset_EnvironmentalImpactIndicators.Reference: 250 x 450 mm2\n",
      "    - Pset_EnvironmentalImpactIndicators.id: 3073\n",
      "    - Pset_ReinforcementBarPitchOfColumn.Reference: 250 x 450 mm2\n",
      "    - Pset_ReinforcementBarPitchOfColumn.id: 3075\n",
      "\n",
      "\n",
      "--- Element ID: 0Bl0khqE5CRu4G24Ko5Z1w ---\n",
      "  Name: M_Concrete-Rectangular-Column:250 x 400 mm:420142\n",
      "  Type: IfcColumn\n",
      "  Materials:\n",
      "    - Concrete, Cast-in-Place gray (Type: material)\n",
      "  Other Properties:\n",
      "    - Pset_ColumnCommon.IsExternal: False\n",
      "    - Pset_ColumnCommon.LoadBearing: True\n",
      "    - Pset_ColumnCommon.id: 3107\n",
      "    - Pset_ColumnCommon.Slope: 0.0\n",
      "    - Pset_ColumnCommon.Reference: 250 x 400 mm\n",
      "    - Qto_ColumnBaseQuantities.Length: 249.9999999999995\n",
      "    - Qto_ColumnBaseQuantities.CrossSectionArea: 1.04\n",
      "    - Qto_ColumnBaseQuantities.OuterSurfaceArea: 1.499999999999997\n",
      "    - Qto_ColumnBaseQuantities.GrossVolume: 0.25999999999999945\n",
      "    - Qto_ColumnBaseQuantities.NetVolume: 0.25999999999999934\n",
      "    - Qto_ColumnBaseQuantities.id: 3105\n",
      "    - Pset_EnvironmentalImpactIndicators.Reference: 250 x 400 mm\n",
      "    - Pset_EnvironmentalImpactIndicators.id: 3108\n",
      "    - Pset_ReinforcementBarPitchOfColumn.Reference: 250 x 400 mm\n",
      "    - Pset_ReinforcementBarPitchOfColumn.id: 3110\n",
      "\n",
      "\n",
      "--- Element ID: 0Bl0khqE5CRu4G24Ko5Z1W ---\n",
      "  Name: M_Concrete-Rectangular-Column:300 x 400 mm2:420148\n",
      "  Type: IfcColumn\n",
      "  Materials:\n",
      "    - Concrete, Cast-in-Place gray (Type: material)\n",
      "  Other Properties:\n",
      "    - Pset_ColumnCommon.IsExternal: False\n",
      "    - Pset_ColumnCommon.LoadBearing: True\n",
      "    - Pset_ColumnCommon.id: 3234\n",
      "    - Pset_ColumnCommon.Slope: 0.0\n",
      "    - Pset_ColumnCommon.Reference: 300 x 400 mm2\n",
      "    - Qto_ColumnBaseQuantities.Length: 300.0\n",
      "    - Qto_ColumnBaseQuantities.CrossSectionArea: 1.04\n",
      "    - Qto_ColumnBaseQuantities.OuterSurfaceArea: 1.8\n",
      "    - Qto_ColumnBaseQuantities.GrossVolume: 0.312\n",
      "    - Qto_ColumnBaseQuantities.NetVolume: 0.3119999999999994\n",
      "    - Qto_ColumnBaseQuantities.id: 3232\n",
      "    - Pset_EnvironmentalImpactIndicators.Reference: 300 x 400 mm2\n",
      "    - Pset_EnvironmentalImpactIndicators.id: 3235\n",
      "    - Pset_ReinforcementBarPitchOfColumn.Reference: 300 x 400 mm2\n",
      "    - Pset_ReinforcementBarPitchOfColumn.id: 3237\n",
      "\n",
      "\n",
      "--- Element ID: 0Bl0khqE5CRu4G24Ko5Z1e ---\n",
      "  Name: M_Concrete-Rectangular-Column:250 x 450 mm2:420156\n",
      "  Type: IfcColumn\n",
      "  Materials:\n",
      "    - Concrete, Cast-in-Place gray (Type: material)\n",
      "  Other Properties:\n",
      "    - Pset_ColumnCommon.IsExternal: False\n",
      "    - Pset_ColumnCommon.LoadBearing: True\n",
      "    - Pset_ColumnCommon.id: 3407\n",
      "    - Pset_ColumnCommon.Reference: 250 x 450 mm2\n",
      "    - Pset_ColumnCommon.Slope: 0.0\n",
      "    - Qto_ColumnBaseQuantities.Length: 449.9999999999995\n",
      "    - Qto_ColumnBaseQuantities.CrossSectionArea: 0.650999999906159\n",
      "    - Qto_ColumnBaseQuantities.OuterSurfaceArea: 2.7449999999999966\n",
      "    - Qto_ColumnBaseQuantities.GrossVolume: 0.2929499999577712\n",
      "    - Qto_ColumnBaseQuantities.NetVolume: 0.29294999995776483\n",
      "    - Qto_ColumnBaseQuantities.id: 3405\n",
      "    - Pset_EnvironmentalImpactIndicators.Reference: 250 x 450 mm2\n",
      "    - Pset_EnvironmentalImpactIndicators.id: 3408\n",
      "    - Pset_ReinforcementBarPitchOfColumn.Reference: 250 x 450 mm2\n",
      "    - Pset_ReinforcementBarPitchOfColumn.id: 3410\n",
      "\n",
      "\n",
      "--- Element ID: 0Bl0khqE5CRu4G24Ko5Z1g ---\n",
      "  Name: M_Concrete-Rectangular-Column:250 x 400 mm:420158\n",
      "  Type: IfcColumn\n",
      "  Materials:\n",
      "    - Concrete, Cast-in-Place gray (Type: material)\n",
      "  Other Properties:\n",
      "    - Pset_ColumnCommon.IsExternal: False\n",
      "    - Pset_ColumnCommon.LoadBearing: True\n",
      "    - Pset_ColumnCommon.id: 3442\n",
      "    - Pset_ColumnCommon.Slope: 0.0\n",
      "    - Pset_ColumnCommon.Reference: 250 x 400 mm\n",
      "    - Qto_ColumnBaseQuantities.Length: 400.0\n",
      "    - Qto_ColumnBaseQuantities.CrossSectionArea: 0.6509999999061598\n",
      "    - Qto_ColumnBaseQuantities.OuterSurfaceArea: 2.440000000000001\n",
      "    - Qto_ColumnBaseQuantities.GrossVolume: 0.26039999996246393\n",
      "    - Qto_ColumnBaseQuantities.NetVolume: 0.26039999996246443\n",
      "    - Qto_ColumnBaseQuantities.id: 3440\n",
      "    - Pset_EnvironmentalImpactIndicators.Reference: 250 x 400 mm\n",
      "    - Pset_EnvironmentalImpactIndicators.id: 3443\n",
      "    - Pset_ReinforcementBarPitchOfColumn.Reference: 250 x 400 mm\n",
      "    - Pset_ReinforcementBarPitchOfColumn.id: 3445\n",
      "\n",
      "\n",
      "--- Element ID: 0Bl0khqE5CRu4G24Ko5Z0G ---\n",
      "  Name: M_Concrete-Rectangular-Column:300 x 400 mm2:420164\n",
      "  Type: IfcColumn\n",
      "  Materials:\n",
      "    - Concrete, Cast-in-Place gray (Type: material)\n",
      "  Other Properties:\n",
      "    - Pset_ColumnCommon.IsExternal: False\n",
      "    - Pset_ColumnCommon.LoadBearing: True\n",
      "    - Pset_ColumnCommon.id: 3580\n",
      "    - Pset_ColumnCommon.Slope: 0.0\n",
      "    - Pset_ColumnCommon.Reference: 300 x 400 mm2\n",
      "    - Qto_ColumnBaseQuantities.Length: 300.0000000000011\n",
      "    - Qto_ColumnBaseQuantities.CrossSectionArea: 1.0399999999999998\n",
      "    - Qto_ColumnBaseQuantities.OuterSurfaceArea: 1.8000000000000065\n",
      "    - Qto_ColumnBaseQuantities.GrossVolume: 0.31200000000000105\n",
      "    - Qto_ColumnBaseQuantities.NetVolume: 0.31199999999999994\n",
      "    - Qto_ColumnBaseQuantities.id: 3578\n",
      "    - Pset_EnvironmentalImpactIndicators.Reference: 300 x 400 mm2\n",
      "    - Pset_EnvironmentalImpactIndicators.id: 3581\n",
      "    - Pset_ReinforcementBarPitchOfColumn.Reference: 300 x 400 mm2\n",
      "    - Pset_ReinforcementBarPitchOfColumn.id: 3583\n",
      "\n",
      "\n",
      "--- Element ID: 3aTnDTRUf3aPpeHNVYb1bz ---\n",
      "  Name: Floor:Generic 200mm:422017\n",
      "  Type: IfcSlab\n",
      "  Materials:\n",
      "    - Default Floor (Type: material)\n",
      "  Other Properties:\n",
      "    - Pset_SlabCommon.IsExternal: False\n",
      "    - Pset_SlabCommon.id: 3859\n",
      "    - Pset_SlabCommon.LoadBearing: True\n",
      "    - Pset_SlabCommon.Reference: Generic 200mm\n",
      "    - Pset_SlabCommon.PitchAngle: 0.0\n",
      "    - Pset_EnvironmentalImpactIndicators.Reference: Generic 200mm\n",
      "    - Pset_EnvironmentalImpactIndicators.id: 3855\n",
      "    - Pset_ReinforcementBarPitchOfSlab.Reference: Generic 200mm\n",
      "    - Pset_ReinforcementBarPitchOfSlab.id: 3857\n",
      "    - Qto_SlabBaseQuantities.Depth: 200.0\n",
      "    - Qto_SlabBaseQuantities.Perimeter: 89511.30807910221\n",
      "    - Qto_SlabBaseQuantities.GrossArea: 148.20528743463882\n",
      "    - Qto_SlabBaseQuantities.NetArea: 133.7168954346389\n",
      "    - Qto_SlabBaseQuantities.GrossVolume: 29.641057486927767\n",
      "    - Qto_SlabBaseQuantities.NetVolume: 26.743379086927778\n",
      "    - Qto_SlabBaseQuantities.id: 3881\n",
      "\n",
      "\n",
      "--- Element ID: 3aTnDTRUf3aPpeHNVYb11x ---\n",
      "  Name: Floor:Generic 200mm:424327\n",
      "  Type: IfcSlab\n",
      "  Materials:\n",
      "    - Default Floor (Type: material)\n",
      "  Other Properties:\n",
      "    - Pset_SlabCommon.IsExternal: False\n",
      "    - Pset_SlabCommon.id: 3902\n",
      "    - Pset_SlabCommon.LoadBearing: True\n",
      "    - Pset_SlabCommon.Reference: Generic 200mm\n",
      "    - Pset_SlabCommon.PitchAngle: 0.0\n",
      "    - Pset_EnvironmentalImpactIndicators.Reference: Generic 200mm\n",
      "    - Pset_EnvironmentalImpactIndicators.id: 3899\n",
      "    - Pset_ReinforcementBarPitchOfSlab.Reference: Generic 200mm\n",
      "    - Pset_ReinforcementBarPitchOfSlab.id: 3901\n",
      "    - Qto_SlabBaseQuantities.Depth: 200.0\n",
      "    - Qto_SlabBaseQuantities.Perimeter: 57758.10807910223\n",
      "    - Qto_SlabBaseQuantities.GrossArea: 148.20528743463882\n",
      "    - Qto_SlabBaseQuantities.NetArea: 148.20528743463888\n",
      "    - Qto_SlabBaseQuantities.GrossVolume: 29.641057486927767\n",
      "    - Qto_SlabBaseQuantities.NetVolume: 29.641057486927767\n",
      "    - Qto_SlabBaseQuantities.id: 3912\n",
      "\n",
      "\n",
      "--- Element ID: 0Gix$5zP91PObkzryQgbec ---\n",
      "  Name: M_Footing-Rectangular:1500x1500:419712\n",
      "  Type: IfcFooting\n",
      "  Materials:\n",
      "    - Concrete, Cast-in-Place gray (Type: material)\n",
      "  Other Properties:\n",
      "    - Pset_EnvironmentalImpactIndicators.Reference: 1500x1500\n",
      "    - Pset_EnvironmentalImpactIndicators.id: 1430\n",
      "    - Pset_FootingCommon.Reference: 1500x1500\n",
      "    - Pset_FootingCommon.id: 1431\n",
      "    - Pset_ReinforcementBarCountOfIndependentFooting.Reference: 1500x1500\n",
      "    - Pset_ReinforcementBarCountOfIndependentFooting.id: 1433\n",
      "    - Pset_ReinforcementBarPitchOfContinuousFooting.Reference: 1500x1500\n",
      "    - Pset_ReinforcementBarPitchOfContinuousFooting.id: 1435\n",
      "    - Qto_FootingBaseQuantities.Length: 1500.0\n",
      "    - Qto_FootingBaseQuantities.Width: 1500.0\n",
      "    - Qto_FootingBaseQuantities.Height: 1499.9999999999998\n",
      "    - Qto_FootingBaseQuantities.CrossSectionArea: 2.2499999999999996\n",
      "    - Qto_FootingBaseQuantities.OuterSurfaceArea: 2.6999999999999997\n",
      "    - Qto_FootingBaseQuantities.GrossSurfaceArea: 7.199999999999999\n",
      "    - Qto_FootingBaseQuantities.GrossVolume: 1.0124999999999997\n",
      "    - Qto_FootingBaseQuantities.NetVolume: 1.0124999999999997\n",
      "    - Qto_FootingBaseQuantities.id: 1448\n",
      "\n",
      "\n",
      "--- Element ID: 0Gix$5zP91PObkzryQgbeZ ---\n",
      "  Name: M_Footing-Rectangular:1500x1500:419717\n",
      "  Type: IfcFooting\n",
      "  Materials:\n",
      "    - Concrete, Cast-in-Place gray (Type: material)\n",
      "  Other Properties:\n",
      "    - Pset_EnvironmentalImpactIndicators.Reference: 1500x1500\n",
      "    - Pset_EnvironmentalImpactIndicators.id: 1457\n",
      "    - Pset_FootingCommon.Reference: 1500x1500\n",
      "    - Pset_FootingCommon.id: 1458\n",
      "    - Pset_ReinforcementBarCountOfIndependentFooting.Reference: 1500x1500\n",
      "    - Pset_ReinforcementBarCountOfIndependentFooting.id: 1460\n",
      "    - Pset_ReinforcementBarPitchOfContinuousFooting.Reference: 1500x1500\n",
      "    - Pset_ReinforcementBarPitchOfContinuousFooting.id: 1462\n",
      "    - Qto_FootingBaseQuantities.Length: 1500.0\n",
      "    - Qto_FootingBaseQuantities.Width: 1500.0\n",
      "    - Qto_FootingBaseQuantities.Height: 1499.9999999999998\n",
      "    - Qto_FootingBaseQuantities.CrossSectionArea: 2.2499999999999996\n",
      "    - Qto_FootingBaseQuantities.OuterSurfaceArea: 2.6999999999999997\n",
      "    - Qto_FootingBaseQuantities.GrossSurfaceArea: 7.199999999999999\n",
      "    - Qto_FootingBaseQuantities.GrossVolume: 1.0124999999999997\n",
      "    - Qto_FootingBaseQuantities.NetVolume: 1.0124999999999997\n",
      "    - Qto_FootingBaseQuantities.id: 1475\n",
      "\n",
      "\n",
      "--- Element ID: 0Gix$5zP91PObkzryQgbei ---\n",
      "  Name: M_Footing-Rectangular:1500x1500:419722\n",
      "  Type: IfcFooting\n",
      "  Materials:\n",
      "    - Concrete, Cast-in-Place gray (Type: material)\n",
      "  Other Properties:\n",
      "    - Pset_EnvironmentalImpactIndicators.Reference: 1500x1500\n",
      "    - Pset_EnvironmentalImpactIndicators.id: 1484\n",
      "    - Pset_FootingCommon.Reference: 1500x1500\n",
      "    - Pset_FootingCommon.id: 1485\n",
      "    - Pset_ReinforcementBarCountOfIndependentFooting.Reference: 1500x1500\n",
      "    - Pset_ReinforcementBarCountOfIndependentFooting.id: 1487\n",
      "    - Pset_ReinforcementBarPitchOfContinuousFooting.Reference: 1500x1500\n",
      "    - Pset_ReinforcementBarPitchOfContinuousFooting.id: 1489\n",
      "    - Qto_FootingBaseQuantities.Length: 1500.0\n",
      "    - Qto_FootingBaseQuantities.Width: 1500.0\n",
      "    - Qto_FootingBaseQuantities.Height: 1499.9999999999998\n",
      "    - Qto_FootingBaseQuantities.CrossSectionArea: 2.2499999999999996\n",
      "    - Qto_FootingBaseQuantities.OuterSurfaceArea: 2.6999999999999997\n",
      "    - Qto_FootingBaseQuantities.GrossSurfaceArea: 7.199999999999999\n",
      "    - Qto_FootingBaseQuantities.GrossVolume: 1.0124999999999997\n",
      "    - Qto_FootingBaseQuantities.NetVolume: 1.0124999999999997\n",
      "    - Qto_FootingBaseQuantities.id: 1502\n",
      "\n",
      "\n",
      "--- Element ID: 0Gix$5zP91PObkzryQgbef ---\n",
      "  Name: M_Footing-Rectangular:1500x1500:419727\n",
      "  Type: IfcFooting\n",
      "  Materials:\n",
      "    - Concrete, Cast-in-Place gray (Type: material)\n",
      "  Other Properties:\n",
      "    - Pset_EnvironmentalImpactIndicators.Reference: 1500x1500\n",
      "    - Pset_EnvironmentalImpactIndicators.id: 1511\n",
      "    - Pset_FootingCommon.Reference: 1500x1500\n",
      "    - Pset_FootingCommon.id: 1512\n",
      "    - Pset_ReinforcementBarCountOfIndependentFooting.Reference: 1500x1500\n",
      "    - Pset_ReinforcementBarCountOfIndependentFooting.id: 1514\n",
      "    - Pset_ReinforcementBarPitchOfContinuousFooting.Reference: 1500x1500\n",
      "    - Pset_ReinforcementBarPitchOfContinuousFooting.id: 1516\n",
      "    - Qto_FootingBaseQuantities.Length: 1500.0\n",
      "    - Qto_FootingBaseQuantities.Width: 1500.0\n",
      "    - Qto_FootingBaseQuantities.Height: 1499.9999999999998\n",
      "    - Qto_FootingBaseQuantities.CrossSectionArea: 2.2499999999999996\n",
      "    - Qto_FootingBaseQuantities.OuterSurfaceArea: 2.6999999999999997\n",
      "    - Qto_FootingBaseQuantities.GrossSurfaceArea: 7.199999999999999\n",
      "    - Qto_FootingBaseQuantities.GrossVolume: 1.0124999999999997\n",
      "    - Qto_FootingBaseQuantities.NetVolume: 1.0124999999999997\n",
      "    - Qto_FootingBaseQuantities.id: 1529\n",
      "\n",
      "\n",
      "--- Element ID: 0Gix$5zP91PObkzryQgbeo ---\n",
      "  Name: M_Footing-Rectangular:1500x1500:419732\n",
      "  Type: IfcFooting\n",
      "  Materials:\n",
      "    - Concrete, Cast-in-Place gray (Type: material)\n",
      "  Other Properties:\n",
      "    - Pset_EnvironmentalImpactIndicators.Reference: 1500x1500\n",
      "    - Pset_EnvironmentalImpactIndicators.id: 1538\n",
      "    - Pset_FootingCommon.Reference: 1500x1500\n",
      "    - Pset_FootingCommon.id: 1539\n",
      "    - Pset_ReinforcementBarCountOfIndependentFooting.Reference: 1500x1500\n",
      "    - Pset_ReinforcementBarCountOfIndependentFooting.id: 1541\n",
      "    - Pset_ReinforcementBarPitchOfContinuousFooting.Reference: 1500x1500\n",
      "    - Pset_ReinforcementBarPitchOfContinuousFooting.id: 1543\n",
      "    - Qto_FootingBaseQuantities.Length: 1500.0\n",
      "    - Qto_FootingBaseQuantities.Width: 1500.0\n",
      "    - Qto_FootingBaseQuantities.Height: 1499.9999999999998\n",
      "    - Qto_FootingBaseQuantities.CrossSectionArea: 2.2499999999999996\n",
      "    - Qto_FootingBaseQuantities.OuterSurfaceArea: 2.6999999999999997\n",
      "    - Qto_FootingBaseQuantities.GrossSurfaceArea: 7.199999999999999\n",
      "    - Qto_FootingBaseQuantities.GrossVolume: 1.0124999999999997\n",
      "    - Qto_FootingBaseQuantities.NetVolume: 1.0124999999999997\n",
      "    - Qto_FootingBaseQuantities.id: 1556\n",
      "\n",
      "\n",
      "--- Element ID: 0Gix$5zP91PObkzryQgbe$ ---\n",
      "  Name: M_Footing-Rectangular:1500x1500:419737\n",
      "  Type: IfcFooting\n",
      "  Materials:\n",
      "    - Concrete, Cast-in-Place gray (Type: material)\n",
      "  Other Properties:\n",
      "    - Pset_EnvironmentalImpactIndicators.Reference: 1500x1500\n",
      "    - Pset_EnvironmentalImpactIndicators.id: 1565\n",
      "    - Pset_FootingCommon.Reference: 1500x1500\n",
      "    - Pset_FootingCommon.id: 1566\n",
      "    - Pset_ReinforcementBarCountOfIndependentFooting.Reference: 1500x1500\n",
      "    - Pset_ReinforcementBarCountOfIndependentFooting.id: 1568\n",
      "    - Pset_ReinforcementBarPitchOfContinuousFooting.Reference: 1500x1500\n",
      "    - Pset_ReinforcementBarPitchOfContinuousFooting.id: 1570\n",
      "    - Qto_FootingBaseQuantities.Length: 1500.0\n",
      "    - Qto_FootingBaseQuantities.Width: 1500.0\n",
      "    - Qto_FootingBaseQuantities.Height: 1499.9999999999998\n",
      "    - Qto_FootingBaseQuantities.CrossSectionArea: 2.2499999999999996\n",
      "    - Qto_FootingBaseQuantities.OuterSurfaceArea: 2.6999999999999997\n",
      "    - Qto_FootingBaseQuantities.GrossSurfaceArea: 7.199999999999999\n",
      "    - Qto_FootingBaseQuantities.GrossVolume: 1.0124999999999997\n",
      "    - Qto_FootingBaseQuantities.NetVolume: 1.0124999999999997\n",
      "    - Qto_FootingBaseQuantities.id: 1583\n",
      "\n",
      "\n",
      "--- Element ID: 0Gix$5zP91PObkzryQgbeu ---\n",
      "  Name: M_Footing-Rectangular:1500x1500:419742\n",
      "  Type: IfcFooting\n",
      "  Materials:\n",
      "    - Concrete, Cast-in-Place gray (Type: material)\n",
      "  Other Properties:\n",
      "    - Pset_EnvironmentalImpactIndicators.Reference: 1500x1500\n",
      "    - Pset_EnvironmentalImpactIndicators.id: 1592\n",
      "    - Pset_FootingCommon.Reference: 1500x1500\n",
      "    - Pset_FootingCommon.id: 1593\n",
      "    - Pset_ReinforcementBarCountOfIndependentFooting.Reference: 1500x1500\n",
      "    - Pset_ReinforcementBarCountOfIndependentFooting.id: 1595\n",
      "    - Pset_ReinforcementBarPitchOfContinuousFooting.Reference: 1500x1500\n",
      "    - Pset_ReinforcementBarPitchOfContinuousFooting.id: 1597\n",
      "    - Qto_FootingBaseQuantities.Length: 1500.0\n",
      "    - Qto_FootingBaseQuantities.Width: 1500.0\n",
      "    - Qto_FootingBaseQuantities.Height: 1499.9999999999998\n",
      "    - Qto_FootingBaseQuantities.CrossSectionArea: 2.2499999999999996\n",
      "    - Qto_FootingBaseQuantities.OuterSurfaceArea: 2.6999999999999997\n",
      "    - Qto_FootingBaseQuantities.GrossSurfaceArea: 7.199999999999999\n",
      "    - Qto_FootingBaseQuantities.GrossVolume: 1.0124999999999997\n",
      "    - Qto_FootingBaseQuantities.NetVolume: 1.0124999999999995\n",
      "    - Qto_FootingBaseQuantities.id: 1610\n",
      "\n",
      "\n",
      "--- Element ID: 0Gix$5zP91PObkzryQgbe5 ---\n",
      "  Name: M_Footing-Rectangular:1500x1500:419747\n",
      "  Type: IfcFooting\n",
      "  Materials:\n",
      "    - Concrete, Cast-in-Place gray (Type: material)\n",
      "  Other Properties:\n",
      "    - Pset_EnvironmentalImpactIndicators.Reference: 1500x1500\n",
      "    - Pset_EnvironmentalImpactIndicators.id: 1619\n",
      "    - Pset_FootingCommon.Reference: 1500x1500\n",
      "    - Pset_FootingCommon.id: 1620\n",
      "    - Pset_ReinforcementBarCountOfIndependentFooting.Reference: 1500x1500\n",
      "    - Pset_ReinforcementBarCountOfIndependentFooting.id: 1622\n",
      "    - Pset_ReinforcementBarPitchOfContinuousFooting.Reference: 1500x1500\n",
      "    - Pset_ReinforcementBarPitchOfContinuousFooting.id: 1624\n",
      "    - Qto_FootingBaseQuantities.Length: 1500.0\n",
      "    - Qto_FootingBaseQuantities.Width: 1500.0\n",
      "    - Qto_FootingBaseQuantities.Height: 1499.9999999999998\n",
      "    - Qto_FootingBaseQuantities.CrossSectionArea: 2.2499999999999996\n",
      "    - Qto_FootingBaseQuantities.OuterSurfaceArea: 2.6999999999999997\n",
      "    - Qto_FootingBaseQuantities.GrossSurfaceArea: 7.199999999999999\n",
      "    - Qto_FootingBaseQuantities.GrossVolume: 1.0124999999999997\n",
      "    - Qto_FootingBaseQuantities.NetVolume: 1.0124999999999995\n",
      "    - Qto_FootingBaseQuantities.id: 1637\n",
      "\n",
      "\n",
      "--- Element ID: 0Gix$5zP91PObkzryQgbeE ---\n",
      "  Name: M_Footing-Rectangular:1500x1500:419752\n",
      "  Type: IfcFooting\n",
      "  Materials:\n",
      "    - Concrete, Cast-in-Place gray (Type: material)\n",
      "  Other Properties:\n",
      "    - Pset_EnvironmentalImpactIndicators.Reference: 1500x1500\n",
      "    - Pset_EnvironmentalImpactIndicators.id: 1646\n",
      "    - Pset_FootingCommon.Reference: 1500x1500\n",
      "    - Pset_FootingCommon.id: 1647\n",
      "    - Pset_ReinforcementBarCountOfIndependentFooting.Reference: 1500x1500\n",
      "    - Pset_ReinforcementBarCountOfIndependentFooting.id: 1649\n",
      "    - Pset_ReinforcementBarPitchOfContinuousFooting.Reference: 1500x1500\n",
      "    - Pset_ReinforcementBarPitchOfContinuousFooting.id: 1651\n",
      "    - Qto_FootingBaseQuantities.Length: 1500.0\n",
      "    - Qto_FootingBaseQuantities.Width: 1500.0\n",
      "    - Qto_FootingBaseQuantities.Height: 1499.9999999999998\n",
      "    - Qto_FootingBaseQuantities.CrossSectionArea: 2.2499999999999996\n",
      "    - Qto_FootingBaseQuantities.OuterSurfaceArea: 2.6999999999999997\n",
      "    - Qto_FootingBaseQuantities.GrossSurfaceArea: 7.199999999999999\n",
      "    - Qto_FootingBaseQuantities.GrossVolume: 1.0124999999999997\n",
      "    - Qto_FootingBaseQuantities.NetVolume: 1.0124999999999997\n",
      "    - Qto_FootingBaseQuantities.id: 1664\n",
      "\n",
      "\n",
      "--- Element ID: 0Gix$5zP91PObkzryQgbeB ---\n",
      "  Name: M_Footing-Rectangular:1500x1500:419757\n",
      "  Type: IfcFooting\n",
      "  Materials:\n",
      "    - Concrete, Cast-in-Place gray (Type: material)\n",
      "  Other Properties:\n",
      "    - Pset_EnvironmentalImpactIndicators.Reference: 1500x1500\n",
      "    - Pset_EnvironmentalImpactIndicators.id: 1673\n",
      "    - Pset_FootingCommon.Reference: 1500x1500\n",
      "    - Pset_FootingCommon.id: 1674\n",
      "    - Pset_ReinforcementBarCountOfIndependentFooting.Reference: 1500x1500\n",
      "    - Pset_ReinforcementBarCountOfIndependentFooting.id: 1676\n",
      "    - Pset_ReinforcementBarPitchOfContinuousFooting.Reference: 1500x1500\n",
      "    - Pset_ReinforcementBarPitchOfContinuousFooting.id: 1678\n",
      "    - Qto_FootingBaseQuantities.Length: 1500.0\n",
      "    - Qto_FootingBaseQuantities.Width: 1500.0\n",
      "    - Qto_FootingBaseQuantities.Height: 1499.9999999999998\n",
      "    - Qto_FootingBaseQuantities.CrossSectionArea: 2.2499999999999996\n",
      "    - Qto_FootingBaseQuantities.OuterSurfaceArea: 2.6999999999999997\n",
      "    - Qto_FootingBaseQuantities.GrossSurfaceArea: 7.199999999999999\n",
      "    - Qto_FootingBaseQuantities.GrossVolume: 1.0124999999999997\n",
      "    - Qto_FootingBaseQuantities.NetVolume: 1.0124999999999997\n",
      "    - Qto_FootingBaseQuantities.id: 1691\n",
      "\n",
      "\n",
      "--- Element ID: 0Gix$5zP91PObkzryQgbeK ---\n",
      "  Name: M_Footing-Rectangular:1500x1500:419762\n",
      "  Type: IfcFooting\n",
      "  Materials:\n",
      "    - Concrete, Cast-in-Place gray (Type: material)\n",
      "  Other Properties:\n",
      "    - Pset_EnvironmentalImpactIndicators.Reference: 1500x1500\n",
      "    - Pset_EnvironmentalImpactIndicators.id: 1700\n",
      "    - Pset_FootingCommon.Reference: 1500x1500\n",
      "    - Pset_FootingCommon.id: 1701\n",
      "    - Pset_ReinforcementBarCountOfIndependentFooting.Reference: 1500x1500\n",
      "    - Pset_ReinforcementBarCountOfIndependentFooting.id: 1703\n",
      "    - Pset_ReinforcementBarPitchOfContinuousFooting.Reference: 1500x1500\n",
      "    - Pset_ReinforcementBarPitchOfContinuousFooting.id: 1705\n",
      "    - Qto_FootingBaseQuantities.Length: 1500.0\n",
      "    - Qto_FootingBaseQuantities.Width: 1500.0\n",
      "    - Qto_FootingBaseQuantities.Height: 1499.9999999999998\n",
      "    - Qto_FootingBaseQuantities.CrossSectionArea: 2.2499999999999996\n",
      "    - Qto_FootingBaseQuantities.OuterSurfaceArea: 2.6999999999999997\n",
      "    - Qto_FootingBaseQuantities.GrossSurfaceArea: 7.199999999999999\n",
      "    - Qto_FootingBaseQuantities.GrossVolume: 1.0124999999999997\n",
      "    - Qto_FootingBaseQuantities.NetVolume: 1.0124999999999997\n",
      "    - Qto_FootingBaseQuantities.id: 1718\n",
      "\n",
      "\n",
      "--- Element ID: 0Gix$5zP91PObkzryQgbeH ---\n",
      "  Name: M_Footing-Rectangular:1500x1500:419767\n",
      "  Type: IfcFooting\n",
      "  Materials:\n",
      "    - Concrete, Cast-in-Place gray (Type: material)\n",
      "  Other Properties:\n",
      "    - Pset_EnvironmentalImpactIndicators.Reference: 1500x1500\n",
      "    - Pset_EnvironmentalImpactIndicators.id: 1727\n",
      "    - Pset_FootingCommon.Reference: 1500x1500\n",
      "    - Pset_FootingCommon.id: 1728\n",
      "    - Pset_ReinforcementBarCountOfIndependentFooting.Reference: 1500x1500\n",
      "    - Pset_ReinforcementBarCountOfIndependentFooting.id: 1730\n",
      "    - Pset_ReinforcementBarPitchOfContinuousFooting.Reference: 1500x1500\n",
      "    - Pset_ReinforcementBarPitchOfContinuousFooting.id: 1732\n",
      "    - Qto_FootingBaseQuantities.Length: 1500.0\n",
      "    - Qto_FootingBaseQuantities.Width: 1500.0\n",
      "    - Qto_FootingBaseQuantities.Height: 1499.9999999999998\n",
      "    - Qto_FootingBaseQuantities.CrossSectionArea: 2.2499999999999996\n",
      "    - Qto_FootingBaseQuantities.OuterSurfaceArea: 2.6999999999999997\n",
      "    - Qto_FootingBaseQuantities.GrossSurfaceArea: 7.199999999999999\n",
      "    - Qto_FootingBaseQuantities.GrossVolume: 1.0124999999999997\n",
      "    - Qto_FootingBaseQuantities.NetVolume: 1.0124999999999997\n",
      "    - Qto_FootingBaseQuantities.id: 1745\n",
      "\n",
      "\n"
     ]
    }
   ],
   "source": [
    "# Extract structural elements (this populates converter.structural_elements)\n",
    "converter.extract_structural_elements()\n",
    "\n",
    "# Now you can access the extracted data\n",
    "structural_elements_data = converter.structural_elements\n",
    "\n",
    "for element_id, data in structural_elements_data.items():\n",
    "    print(f\"--- Element ID: {element_id} ---\")\n",
    "    print(f\"  Name: {data.get('name', 'N/A')}\")\n",
    "    print(f\"  Type: {data.get('type', 'N/A')}\")\n",
    "    \n",
    "    # Access and print material information\n",
    "    if data.get('material'):\n",
    "        print(\"  Materials:\")\n",
    "        for mat_name, mat_data in data['material'].items():\n",
    "            print(f\"    - {mat_name} (Type: {mat_data.get('type', 'N/A')})\")\n",
    "            if mat_data.get('thickness') is not None:\n",
    "                print(f\"      Thickness: {mat_data['thickness']}\")\n",
    "            if mat_data.get('profile'):\n",
    "                print(f\"      Profile: {mat_data['profile']}\")\n",
    "            if mat_data.get('properties'):\n",
    "                print(f\"      Material Properties: {mat_data['properties']}\")\n",
    "\n",
    "    # Access and print profile information for linear elements\n",
    "    if data.get('profile'):\n",
    "        print(f\"  Profile Information: {data['profile']}\")\n",
    "    \n",
    "    # Access and print general properties (Psets)\n",
    "    if data.get('properties'):\n",
    "        print(\"  Other Properties:\")\n",
    "        for prop_name, prop_value in data['properties'].items():\n",
    "            print(f\"    - {prop_name}: {prop_value}\")\n",
    "        \n",
    "        print('\\n')"
   ]
  },
  {
   "cell_type": "code",
   "execution_count": 4,
   "id": "ca1bead5",
   "metadata": {},
   "outputs": [],
   "source": [
    "# Extract structural elements (this populates converter.structural_elements)\n",
    "converter.extract_structural_elements()\n",
    "\n",
    "# Now you can access the extracted data\n",
    "structural_elements_data = converter.structural_elements\n",
    "\n",
    "# Crear una lista para almacenar los datos\n",
    "datos = []\n",
    "\n",
    "for element_id, data in structural_elements_data.items():\n",
    "    # Crear un diccionario para almacenar los datos de cada elemento\n",
    "    elemento = {\n",
    "        'Element ID': element_id,\n",
    "        'Name': data.get('name', 'N/A'),\n",
    "        'Type': data.get('type', 'N/A')\n",
    "    }\n",
    "\n",
    "    # Agregar material information\n",
    "    if data.get('material'):\n",
    "        for mat_name, mat_data in data['material'].items():\n",
    "            elemento[f'Material {mat_name}'] = mat_data.get('type', 'N/A')\n",
    "            if mat_data.get('thickness') is not None:\n",
    "                elemento[f'Material {mat_name} Thickness'] = mat_data['thickness']\n",
    "            if mat_data.get('profile'):\n",
    "                elemento[f'Material {mat_name} Profile'] = mat_data['profile']\n",
    "            if mat_data.get('properties'):\n",
    "                elemento[f'Material {mat_name} Properties'] = mat_data['properties']\n",
    "\n",
    "    # Agregar profile information para linear elements\n",
    "    if data.get('profile'):\n",
    "        elemento['Profile Information'] = data['profile']\n",
    "\n",
    "    # Agregar general properties (Psets)\n",
    "    if data.get('properties'):\n",
    "        for prop_name, prop_value in data['properties'].items():\n",
    "            elemento[f'Property {prop_name}'] = prop_value\n",
    "\n",
    "    # Agregar el diccionario a la lista\n",
    "    datos.append(elemento)\n",
    "\n",
    "# Crear un DataFrame con los datos\n",
    "df = pd.DataFrame(datos)\n",
    "\n",
    "# Guardar el DataFrame en un archivo Excel\n",
    "df.to_excel('structural_elements_data.xlsx', index=False)"
   ]
  },
  {
   "cell_type": "code",
   "execution_count": 5,
   "id": "814b95f1",
   "metadata": {},
   "outputs": [
    {
     "data": {
      "image/png": "[encoded data removed]",
      "text/plain": [
       "<Figure size 640x480 with 1 Axes>"
      ]
     },
     "metadata": {},
     "output_type": "display_data"
    }
   ],
   "source": [
    "# Crea un diccionario para almacenar la cantidad de elementos por material\n",
    "materiales = {}\n",
    "for elemento in datos:\n",
    "    material = elemento.get('Material Concrete, Cast-in-Place gray', 'Otro')\n",
    "    if material not in materiales:\n",
    "        materiales[material] = 0\n",
    "    materiales[material] += 1\n",
    "\n",
    "# Crea un gráfico de pastel para mostrar la cantidad de elementos por material\n",
    "plt.pie(materiales.values(), labels=materiales.keys(), autopct='%1.1f%%')\n",
    "plt.title('Distribución de materiales')\n",
    "plt.show()"
   ]
  },
  {
   "cell_type": "code",
   "execution_count": 6,
   "id": "32aa3293",
   "metadata": {},
   "outputs": [
    {
     "data": {
      "image/png": "[encoded data removed]",
      "text/plain": [
       "<Figure size 640x480 with 1 Axes>"
      ]
     },
     "metadata": {},
     "output_type": "display_data"
    }
   ],
   "source": [
    "# Crea un diccionario para almacenar las cantidades de elementos por tipo y material\n",
    "tipos_materiales = {}\n",
    "for elemento in datos:\n",
    "    tipo = elemento['Type']\n",
    "    material = elemento.get('Material Concrete, Cast-in-Place gray', 'Otro')\n",
    "    if tipo not in tipos_materiales:\n",
    "        tipos_materiales[tipo] = {}\n",
    "    if material not in tipos_materiales[tipo]:\n",
    "        tipos_materiales[tipo][material] = 0\n",
    "    if 'Property Qto_BeamBaseQuantities.NetVolume' in elemento:\n",
    "        tipos_materiales[tipo][material] += elemento['Property Qto_BeamBaseQuantities.NetVolume']\n",
    "    if 'Property Qto_ColumnBaseQuantities.NetVolume' in elemento:\n",
    "        tipos_materiales[tipo][material] += elemento['Property Qto_ColumnBaseQuantities.NetVolume']\n",
    "    if 'Property Qto_SlabBaseQuantities.NetVolume' in elemento:\n",
    "        tipos_materiales[tipo][material] += elemento['Property Qto_SlabBaseQuantities.NetVolume']\n",
    "    if 'Property Qto_FootingBaseQuantities.NetVolume' in elemento:\n",
    "        tipos_materiales[tipo][material] += elemento['Property Qto_FootingBaseQuantities.NetVolume']\n",
    "    if 'Property Qto_WallBaseQuantities.NetVolume' in elemento:\n",
    "        tipos_materiales[tipo][material] += elemento['Property Qto_WallBaseQuantities.NetVolume']\n",
    "\n",
    "# Crea un gráfico de barras apiladas para mostrar las cantidades de elementos por tipo y material\n",
    "tipos = list(tipos_materiales.keys())\n",
    "materiales = list(set([material for tipo in tipos_materiales.values() for material in tipo.keys()]))\n",
    "x = np.arange(len(tipos))\n",
    "ancho = 0.8 / len(materiales)\n",
    "for i, material in enumerate(materiales):\n",
    "    cantidades = [tipos_materiales[tipo].get(material, 0) for tipo in tipos]\n",
    "    plt.bar(x + i * ancho, cantidades, width=ancho, label=material)\n",
    "plt.xlabel('Tipo de elemento')\n",
    "plt.ylabel('Cantidades de elementos')\n",
    "plt.title('Distribución de cantidades de elementos por tipo y material')\n",
    "plt.xticks(x + ancho * (len(materiales) - 1) / 2, tipos)\n",
    "plt.legend()\n",
    "plt.show()"
   ]
  }
 ],
 "metadata": {
  "kernelspec": {
   "display_name": "Python 3",
   "language": "python",
   "name": "python3"
  },
  "language_info": {
   "codemirror_mode": {
    "name": "ipython",
    "version": 3
   },
   "file_extension": ".py",
   "mimetype": "text/x-python",
   "name": "python",
   "nbconvert_exporter": "python",
   "pygments_lexer": "ipython3",
   "version": "3.12.4"
  }
 },
 "nbformat": 4,
 "nbformat_minor": 5
}
