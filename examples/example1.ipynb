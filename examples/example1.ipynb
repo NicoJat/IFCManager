{
 "cells": [
  {
   "cell_type": "code",
   "execution_count": 3,
   "id": "3de9ccb3",
   "metadata": {},
   "outputs": [
    {
     "name": "stdout",
     "output_type": "stream",
     "text": [
      "Extracted elements: 89\n",
      "Element types: {'IfcColumn', 'IfcFooting', 'IfcBeam', 'IfcSlab'}\n"
     ]
    },
    {
     "data": {
      "application/vnd.plotly.v1+json": {
       "config": {
        "plotlyServerURL": "https://plot.ly"
       },
       "data": [
        {
         "color": "blue",
         "i": {
          "bdata": "AQICBAQGBgEDAAQE",
          "dtype": "i1"
         },
         "j": {
          "bdata": "AAEDAgUEBwYABwEG",
          "dtype": "i1"
         },
         "k": {
          "bdata": "AwMFBQcHAAAFBQIB",
          "dtype": "i1"
         },
         "name": "IfcBeam",
         "opacity": 0.6,
         "type": "mesh3d",
         "x": {
          "bdata": "rD0f+n6K+7/K+okcWtQLQMr6iRxa1AtArD0f+n6K+7/K+okcWtQLQKw9H/p+ivu/yvqJHFrUC0CsPR/6for7vw==",
          "dtype": "f8"
         },
         "y": {
          "bdata": "XI+dmYj4DkBcj52ZiPgOQCSPnZmI+A5AJI+dmYj4DkCXx85MRHwQQJfHzkxEfBBAssfOTER8EECyx85MRHwQQA==",
          "dtype": "f8"
         },
         "z": {
          "bdata": "Is/MzMzMBEAiz8zMzMwEQC9kZmZmZgJAL2RmZmZmAkARZGZmZmYCQBFkZmZmZgJABM/MzMzMBEAEz8zMzMwEQA==",
          "dtype": "f8"
         }
        },
        {
         "color": "blue",
         "i": {
          "bdata": "AQICBAQGBgEDAAQE",
          "dtype": "i1"
         },
         "j": {
          "bdata": "AAEDAgUEBwYABwEG",
          "dtype": "i1"
         },
         "k": {
          "bdata": "AwMFBQcHAAAFBQIB",
          "dtype": "i1"
         },
         "name": "IfcBeam",
         "opacity": 0.6,
         "type": "mesh3d",
         "x": {
          "bdata": "3T0f+n6K+7+s+okcWtQLQKz6iRxa1AtA3T0f+n6K+7+s+okcWtQLQN09H/p+ivu/rPqJHFrUC0DdPR/6for7vw==",
          "dtype": "f8"
         },
         "y": {
          "bdata": "Bq5sPRt4DcAGrmw9G3gNwECubD0beA3AQK5sPRt4DcA3rmw9G3gLwDeubD0beAvA9q1sPRt4C8D2rWw9G3gLwA==",
          "dtype": "f8"
         },
         "z": {
          "bdata": "JM/MzMzMBEAkz8zMzMwEQDFkZmZmZgJAMWRmZmZmAkAPZGZmZmYCQA9kZmZmZgJAAs/MzMzMBEACz8zMzMwEQA==",
          "dtype": "f8"
         }
        },
        {
         "color": "blue",
         "i": {
          "bdata": "AQICBAQGBgEDAAQE",
          "dtype": "i1"
         },
         "j": {
          "bdata": "AAEDAgUEBwYABwEG",
          "dtype": "i1"
         },
         "k": {
          "bdata": "AwMFBQcHAAAFBQIB",
          "dtype": "i1"
         },
         "name": "IfcBeam",
         "opacity": 0.6,
         "type": "mesh3d",
         "x": {
          "bdata": "33BSLbK9+r+Gx1bpJqELQIbHVukmoQtA33BSLbK9+r+Gx1bpJqELQN9wUi2yvfq/hsdW6SahC0DfcFItsr36vw==",
          "dtype": "f8"
         },
         "y": {
          "bdata": "2a2RBCJC8b/ZrZEEIkLxv0eukQQiQvG/R66RBCJC8b9vXCMJRITqv29cIwlEhOq/hlsjCUSE6r+GWyMJRITqvw==",
          "dtype": "f8"
         },
         "z": {
          "bdata": "3szMzMzMBEDezMzMzMwEQHRmZmZmZgJAdGZmZmZmAkBVZmZmZmYCQFVmZmZmZgJAv8zMzMzMBEC/zMzMzMwEQA==",
          "dtype": "f8"
         }
        },
        {
         "color": "blue",
         "i": {
          "bdata": "AQICBAQGBgEDAAQE",
          "dtype": "i1"
         },
         "j": {
          "bdata": "AAEDAgUEBwYABwEG",
          "dtype": "i1"
         },
         "k": {
          "bdata": "AwMFBQcHAAAFBQIB",
          "dtype": "i1"
         },
         "name": "IfcBeam",
         "opacity": 0.6,
         "type": "mesh3d",
         "x": {
          "bdata": "tT0f+n6K+7+1PR/6for7v8I9H/p+iv+/wj0f+n6K/7/EPR/6for/v8Q9H/p+iv+/tD0f+n6K+7+0PR/6for7vw==",
          "dtype": "f8"
         },
         "y": {
          "bdata": "ocLQzLsrDkAc9byi3R3ovxz1vKLdHei/ocLQzLsrDkAc9byi3R3ov6HC0My7Kw5AHPW8ot0d6L+hwtDMuysOQA==",
          "dtype": "f8"
         },
         "z": {
          "bdata": "zszMzMzMBEDOzMzMzMwEQM7MzMzMzARAzszMzMzMBEBkZmZmZmYCQGRmZmZmZgJAZGZmZmZmAkBkZmZmZmYCQA==",
          "dtype": "f8"
         }
        },
        {
         "color": "blue",
         "i": {
          "bdata": "AQICBAQGBgEDAAQE",
          "dtype": "i1"
         },
         "j": {
          "bdata": "AAEDAgUEBwYABwEG",
          "dtype": "i1"
         },
         "k": {
          "bdata": "AwMFBQcHAAAFBQIB",
          "dtype": "i1"
         },
         "name": "IfcBeam",
         "opacity": 0.6,
         "type": "mesh3d",
         "x": {
          "bdata": "0D0f+n6K+7/QPR/6for7v909H/p+iv+/3T0f+n6K/7/fPR/6for/v989H/p+iv+/zz0f+n6K+7/PPR/6for7vw==",
          "dtype": "f8"
         },
         "y": {
          "bdata": "7+DEN1V18r8q4Z9wTqsKwCrhn3BOqwrA7+DEN1V18r8q4Z9wTqsKwO/gxDdVdfK/KuGfcE6rCsDv4MQ3VXXyvw==",
          "dtype": "f8"
         },
         "z": {
          "bdata": "zszMzMzMBEDOzMzMzMwEQM7MzMzMzARAzszMzMzMBEBkZmZmZmYCQGRmZmZmZgJAZGZmZmZmAkBkZmZmZmYCQA==",
          "dtype": "f8"
         }
        },
        {
         "color": "blue",
         "i": {
          "bdata": "AQICBAQGBgEDAAQE",
          "dtype": "i1"
         },
         "j": {
          "bdata": "AAEDAgUEBwYABwEG",
          "dtype": "i1"
         },
         "k": {
          "bdata": "AwMFBQcHAAAFBQIB",
          "dtype": "i1"
         },
         "name": "IfcBeam",
         "opacity": 0.6,
         "type": "mesh3d",
         "x": {
          "bdata": "xvqJHFrUDUDG+okcWtQNQLz6iRxa1AtAvPqJHFrUC0C8+okcWtQLQLz6iRxa1AtAxPqJHFrUDUDE+okcWtQNQA==",
          "dtype": "f8"
         },
         "y": {
          "bdata": "d8LQzLsrDkC09byi3R3ov7T1vKLdHei/d8LQzLsrDkC09byi3R3ov3fC0My7Kw5AtPW8ot0d6L93wtDMuysOQA==",
          "dtype": "f8"
         },
         "z": {
          "bdata": "zszMzMzMBEDOzMzMzMwEQM7MzMzMzARAzszMzMzMBEBkZmZmZmYCQGRmZmZmZgJAZGZmZmZmAkBkZmZmZmYCQA==",
          "dtype": "f8"
         }
        },
        {
         "color": "blue",
         "i": {
          "bdata": "AQICBAQGBgEDAAQE",
          "dtype": "i1"
         },
         "j": {
          "bdata": "AAEDAgUEBwYABwEG",
          "dtype": "i1"
         },
         "k": {
          "bdata": "AwMFBQcHAAAFBQIB",
          "dtype": "i1"
         },
         "name": "IfcBeam",
         "opacity": 0.6,
         "type": "mesh3d",
         "x": {
          "bdata": "tPqJHFrUDUC0+okcWtQNQKr6iRxa1AtAqvqJHFrUC0Cq+okcWtQLQKr6iRxa1AtAs/qJHFrUDUCz+okcWtQNQA==",
          "dtype": "f8"
         },
         "y": {
          "bdata": "PuHEN1V18r+DFNOjgd4KwIMU06OB3grAPuHEN1V18r+DFNOjgd4KwD7hxDdVdfK/gxTTo4HeCsA+4cQ3VXXyvw==",
          "dtype": "f8"
         },
         "z": {
          "bdata": "zszMzMzMBEDOzMzMzMwEQM7MzMzMzARAzszMzMzMBEBkZmZmZmYCQGRmZmZmZgJAZGZmZmZmAkBkZmZmZmYCQA==",
          "dtype": "f8"
         }
        },
        {
         "color": "blue",
         "i": {
          "bdata": "AQICBAQGBgEDAAQE",
          "dtype": "i1"
         },
         "j": {
          "bdata": "AAEDAgUEBwYABwEG",
          "dtype": "i1"
         },
         "k": {
          "bdata": "AwMFBQcHAAAFBQIB",
          "dtype": "i1"
         },
         "name": "IfcBeam",
         "opacity": 0.6,
         "type": "mesh3d",
         "x": {
          "bdata": "xvqJHFrUDUAa5YjtfNshQBrliO182yFAxvqJHFrUDUAa5YjtfNshQMb6iRxa1A1AGuWI7XzbIUDG+okcWtQNQA==",
          "dtype": "f8"
         },
         "y": {
          "bdata": "NI+dmYj4DkA0j52ZiPgOQP2OnZmI+A5A/Y6dmYj4DkCDx85MRHwQQIPHzkxEfBBAnsfOTER8EECex85MRHwQQA==",
          "dtype": "f8"
         },
         "z": {
          "bdata": "Is/MzMzMBEAiz8zMzMwEQC9kZmZmZgJAL2RmZmZmAkARZGZmZmYCQBFkZmZmZgJABM/MzMzMBEAEz8zMzMwEQA==",
          "dtype": "f8"
         }
        },
        {
         "color": "blue",
         "i": {
          "bdata": "AQICBAQGBgEDAAQE",
          "dtype": "i1"
         },
         "j": {
          "bdata": "AAEDAgUEBwYABwEG",
          "dtype": "i1"
         },
         "k": {
          "bdata": "AwMFBQcHAAAFBQIB",
          "dtype": "i1"
         },
         "name": "IfcBeam",
         "opacity": 0.6,
         "type": "mesh3d",
         "x": {
          "bdata": "q/qJHFrUDUAT5YjtfNshQBPliO182yFAq/qJHFrUDUAT5YjtfNshQKv6iRxa1A1AE+WI7XzbIUCr+okcWtQNQA==",
          "dtype": "f8"
         },
         "y": {
          "bdata": "La5sPRt4DcAtrmw9G3gNwGiubD0beA3AaK5sPRt4DcBfrmw9G3gLwF+ubD0beAvAHa5sPRt4C8Adrmw9G3gLwA==",
          "dtype": "f8"
         },
         "z": {
          "bdata": "JM/MzMzMBEAkz8zMzMwEQDFkZmZmZgJAMWRmZmZmAkAPZGZmZmYCQA9kZmZmZgJAAs/MzMzMBEACz8zMzMwEQA==",
          "dtype": "f8"
         }
        },
        {
         "color": "blue",
         "i": {
          "bdata": "AQICBAQGBgEDAAQE",
          "dtype": "i1"
         },
         "j": {
          "bdata": "AAEDAgUEBwYABwEG",
          "dtype": "i1"
         },
         "k": {
          "bdata": "AwMFBQcHAAAFBQIB",
          "dtype": "i1"
         },
         "name": "IfcBeam",
         "opacity": 0.6,
         "type": "mesh3d",
         "x": {
          "bdata": "6i29T40HDkBIGLwgsM4hQEgYvCCwziFA6i29T40HDkBIGLwgsM4hQOotvU+NBw5ASBi8ILDOIUDqLb1PjQcOQA==",
          "dtype": "f8"
         },
         "y": {
          "bdata": "LK6RBCJC8b8srpEEIkLxv5iukQQiQvG/mK6RBCJC8b8RXSMJRITqvxFdIwlEhOq/LFwjCUSE6r8sXCMJRITqvw==",
          "dtype": "f8"
         },
         "z": {
          "bdata": "3szMzMzMBEDezMzMzMwEQHRmZmZmZgJAdGZmZmZmAkBVZmZmZmYCQFVmZmZmZgJAv8zMzMzMBEC/zMzMzMwEQA==",
          "dtype": "f8"
         }
        },
        {
         "color": "blue",
         "i": {
          "bdata": "AQICBAQGBgEDAAQE",
          "dtype": "i1"
         },
         "j": {
          "bdata": "AAEDAgUEBwYABwEG",
          "dtype": "i1"
         },
         "k": {
          "bdata": "AwMFBQcHAAAFBQIB",
          "dtype": "i1"
         },
         "name": "IfcBeam",
         "opacity": 0.6,
         "type": "mesh3d",
         "x": {
          "bdata": "GeWI7XxbIkAZ5YjtfFsiQBjliO182yFAGOWI7XzbIUAY5YjtfNshQBjliO182yFAGeWI7XxbIkAZ5YjtfFsiQA==",
          "dtype": "f8"
         },
         "y": {
          "bdata": "UMLQzLsrDkBY9ryi3R3ov1j2vKLdHei/UMLQzLsrDkBY9ryi3R3ov1DC0My7Kw5AWPa8ot0d6L9QwtDMuysOQA==",
          "dtype": "f8"
         },
         "z": {
          "bdata": "zszMzMzMBEDOzMzMzMwEQM7MzMzMzARAzszMzMzMBEBkZmZmZmYCQGRmZmZmZgJAZGZmZmZmAkBkZmZmZmYCQA==",
          "dtype": "f8"
         }
        },
        {
         "color": "blue",
         "i": {
          "bdata": "AQICBAQGBgEDAAQE",
          "dtype": "i1"
         },
         "j": {
          "bdata": "AAEDAgUEBwYABwEG",
          "dtype": "i1"
         },
         "k": {
          "bdata": "AwMFBQcHAAAFBQIB",
          "dtype": "i1"
         },
         "name": "IfcBeam",
         "opacity": 0.6,
         "type": "mesh3d",
         "x": {
          "bdata": "E+WI7XxbIkAT5YjtfFsiQBPliO182yFAE+WI7XzbIUAS5YjtfNshQBLliO182yFAFOWI7XxbIkAU5YjtfFsiQA==",
          "dtype": "f8"
         },
         "y": {
          "bdata": "juHEN1V18r+rFNOjgd4KwKsU06OB3grAjuHEN1V18r+rFNOjgd4KwI7hxDdVdfK/qxTTo4HeCsCO4cQ3VXXyvw==",
          "dtype": "f8"
         },
         "z": {
          "bdata": "zszMzMzMBEDOzMzMzMwEQM7MzMzMzARAzszMzMzMBEBkZmZmZmYCQGRmZmZmZgJAZGZmZmZmAkBkZmZmZmYCQA==",
          "dtype": "f8"
         }
        },
        {
         "color": "blue",
         "i": {
          "bdata": "AgIIBQUFCQkODg4KCgcHBQUQDQgHCwsPAgMQEAEB",
          "dtype": "i1"
         },
         "j": {
          "bdata": "AAMGCAYKCgwNAgkOCQYKDAQMDBAPDg8QDQIPAAAP",
          "dtype": "i1"
         },
         "k": {
          "bdata": "AQAHBAgGBQ0CAQ0LDgoLCQwEEAQIDwcIEBAAAw8O",
          "dtype": "i1"
         },
         "name": "IfcBeam",
         "opacity": 0.6,
         "type": "mesh3d",
         "x": {
          "bdata": "XpJ3PzX6JkBeknc/NfomQHegA+BaayJAd6AD4FprIkAa5YjtfFsiQBrliO18WyJAgkvvU+PBLECCS+9T48EsQCWjuYansyRAGuWI7XxbIkCCS+9T48EsQIJL71PjwSxAGuWI7XxbIkB3oAPgWmsiQF6Sdz81+iZAXpJ3PzX6JkB3oAPgWmsiQA==",
          "dtype": "f8"
         },
         "y": {
          "bdata": "7wRt7EFjEECCx85MRHwQQIvHzkxEfBBA9wRt7EFjEEAMj52ZiPgOQAyPnZmI+A5A5o6dmYj4DkDmjp2ZiPgOQASPnZmI+A5Ai8fOTER8EEB3x85MRHwQQHfHzkxEfBBAi8fOTER8EECLx85MRHwQQILHzkxEfBBA7wRt7EFjEED3BG3sQWMQQA==",
          "dtype": "f8"
         },
         "z": {
          "bdata": "6mdmZmZmBkBmZmZmZmYGQGZmZmZmZgZA6mdmZmZmBkBZ0czMzMwEQGZmZmZmZgJAZmZmZmZmAkBZ0czMzMwEQFnRzMzMzARAZmZmZmZmAkBmZmZmZmYCQFnRzMzMzARAWdHMzMzMBEBZ0czMzMwEQFnRzMzMzARAWdHMzMzMBEBZ0czMzMwEQA==",
          "dtype": "f8"
         }
        },
        {
         "color": "blue",
         "i": {
          "bdata": "AQICBAQGBgEDAAQE",
          "dtype": "i1"
         },
         "j": {
          "bdata": "AAEDAgUEBwYABwEG",
          "dtype": "i1"
         },
         "k": {
          "bdata": "AwMFBQcHAAAFBQIB",
          "dtype": "i1"
         },
         "name": "IfcBeam",
         "opacity": 0.6,
         "type": "mesh3d",
         "x": {
          "bdata": "E+WI7XxbIkB7S+9T48EsQHtL71PjwSxAE+WI7XxbIkB7S+9T48EsQBPliO18WyJAe0vvU+PBLEAT5YjtfFsiQA==",
          "dtype": "f8"
         },
         "y": {
          "bdata": "VK5sPRt4DcBUrmw9G3gNwJGubD0beA3Aka5sPRt4DcCHrmw9G3gLwIeubD0beAvAR65sPRt4C8BHrmw9G3gLwA==",
          "dtype": "f8"
         },
         "z": {
          "bdata": "JM/MzMzMBEAkz8zMzMwEQDFkZmZmZgJAMWRmZmZmAkAPZGZmZmYCQA9kZmZmZgJAAs/MzMzMBEACz8zMzMwEQA==",
          "dtype": "f8"
         }
        },
        {
         "color": "blue",
         "i": {
          "bdata": "AQICBAQGBgEDAAQECQoKDAwODgkLCAwM",
          "dtype": "i1"
         },
         "j": {
          "bdata": "AAEDAgUEBwYABwEGCAkLCg0MDw4IDwkO",
          "dtype": "i1"
         },
         "k": {
          "bdata": "AwMFBQcHAAAFBQIBCwsNDQ8PCAgNDQoJ",
          "dtype": "i1"
         },
         "name": "IfcBeam",
         "opacity": 0.6,
         "type": "mesh3d",
         "x": {
          "bdata": "vFXG91M/LUB9S+9T40EtQH1L71PjQS1AvFXG91M/LUB9S+9T40EtQLxVxvdTPy1AfUvvU+NBLUC8Vcb3Uz8tQOCxVbpJaCJAILwsXrqlLEAgvCxeuqUsQOCxVbpJaCJAILwsXrqlLEDgsVW6SWgiQCC8LF66pSxA4LFVukloIkA=",
          "dtype": "f8"
         },
         "y": {
          "bdata": "FK+RBCJC8b8Ur5EEIkLxvxWvkQQiQvG/Fa+RBCJC8b8NXiMJRITqvw1eIwlEhOq/DF4jCUSE6r8MXiMJRITqv3qukQQiQvG/eq6RBCJC8b/nrpEEIkLxv+eukQQiQvG/r10jCUSE6r+vXSMJRITqv8hcIwlEhOq/yFwjCUSE6r8=",
          "dtype": "f8"
         },
         "z": {
          "bdata": "Z2ZmZmZmBkBnZmZmZmYGQGdmZmZmZgJAZ2ZmZmZmAkBnZmZmZmYCQGdmZmZmZgJAZ2ZmZmZmBkBnZmZmZmYGQN7MzMzMzARA3szMzMzMBEB0ZmZmZmYCQHRmZmZmZgJAVWZmZmZmAkBVZmZmZmYCQL/MzMzMzARAv8zMzMzMBEA=",
          "dtype": "f8"
         }
        },
        {
         "color": "blue",
         "i": {
          "bdata": "AwIHBwsFBQgCAgwMAgIKCgYGDQ0AAAQM",
          "dtype": "i1"
         },
         "j": {
          "bdata": "AAMEBQkLCAkJAQgFDAgJAQsNAwsNAwcE",
          "dtype": "i1"
         },
         "k": {
          "bdata": "AQEFBgoGCwsICQUEAwwBAA0HDAoKDQ0N",
          "dtype": "i1"
         },
         "name": "IfcBeam",
         "opacity": 0.6,
         "type": "mesh3d",
         "x": {
          "bdata": "u1XG91M/LUB8S+9T40EtQIBL71PjQS1Ahl3K91M/LUB+S+9T48EsQH5L71PjwSxAekvvU+PBLEB6S+9T48EsQIBL71PjQS1AfEvvU+NBLUC7Vcb3Uz8tQLtVxvdTPy1Ahl3K91M/LUC7Vcb3Uz8tQA==",
          "dtype": "f8"
         },
         "y": {
          "bdata": "aV0jCUSE6r9rXSMJRITqvyXC0My7Kw5AJcLQzLsrDkAlwtDMuysOQCXC0My7Kw5A8/a8ot0d6L/z9ryi3R3ovyXC0My7Kw5AaV0jCUSE6r9pXSMJRITqv/L2vKLdHei/JcLQzLsrDkDy9ryi3R3ovw==",
          "dtype": "f8"
         },
         "z": {
          "bdata": "Z2ZmZmZmBkBnZmZmZmYGQGdmZmZmZgZAZ2ZmZmZmBkDQzMzMzMwEQGZmZmZmZgJAZmZmZmZmAkDQzMzMzMwEQGZmZmZmZgJAZmZmZmZmAkBmZmZmZmYCQGZmZmZmZgJA0MzMzMzMBEDQzMzMzMwEQA==",
          "dtype": "f8"
         }
        },
        {
         "color": "blue",
         "i": {
          "bdata": "AgIHBwoLBQgCAgwGCQkCAg0NDQMAAA0N",
          "dtype": "i1"
         },
         "j": {
          "bdata": "AAMEBQkICgkBCQEMDAEICwoFCwsNAwcE",
          "dtype": "i1"
         },
         "k": {
          "bdata": "AQAFBgYKBgoJCAAHBgwLAwUECg0MDQwH",
          "dtype": "i1"
         },
         "name": "IfcBeam",
         "opacity": 0.6,
         "type": "mesh3d",
         "x": {
          "bdata": "f13K91M/LUB6S+9T40EtQHxL71PjQS1Au1XG91M/LUB6S+9T48EsQHpL71PjwSxAeEvvU+PBLEB4S+9T48EsQHxL71PjQS1AekvvU+NBLUC7Vcb3Uz8tQLtVxvdTPy1Af13K91M/LUC7Vcb3Uz8tQA==",
          "dtype": "f8"
         },
         "y": {
          "bdata": "0hTTo4HeCsDSFNOjgd4KwMSukQQiQvG/xK6RBCJC8b/g4cQ3VXXyv+DhxDdVdfK/0hTTo4HeCsDSFNOjgd4KwMSukQQiQvG/0hTTo4HeCsDg4cQ3VXXyv8SukQQiQvG/0hTTo4HeCsDg4cQ3VXXyvw==",
          "dtype": "f8"
         },
         "z": {
          "bdata": "Z2ZmZmZmBkBnZmZmZmYGQGdmZmZmZgZAZ2ZmZmZmBkDQzMzMzMwEQGZmZmZmZgJAZmZmZmZmAkDQzMzMzMwEQGZmZmZmZgJAZmZmZmZmAkBmZmZmZmYCQGZmZmZmZgJA0MzMzMzMBEDQzMzMzMwEQA==",
          "dtype": "f8"
         }
        },
        {
         "color": "blue",
         "i": {
          "bdata": "AQICBAQGBgEDAAQE",
          "dtype": "i1"
         },
         "j": {
          "bdata": "AAEDAgUEBwYABwEG",
          "dtype": "i1"
         },
         "k": {
          "bdata": "AwMFBQcHAAAFBQIB",
          "dtype": "i1"
         },
         "name": "IfcBeam",
         "opacity": 0.6,
         "type": "mesh3d",
         "x": {
          "bdata": "rD0f+n6K+7/K+okcWtQLQMr6iRxa1AtArD0f+n6K+7/K+okcWtQLQKw9H/p+ivu/yvqJHFrUC0CsPR/6for7vw==",
          "dtype": "f8"
         },
         "y": {
          "bdata": "oMLQzLsrD0CgwtDMuysPQFfC0My7Kw9AV8LQzLsrD0D9LTWzqmIQQP0tNbOqYhBADy41s6piEEAPLjWzqmIQQA==",
          "dtype": "f8"
         },
         "z": {
          "bdata": "AAAAAABAAj0AAAAAAEACPXSYmZmZmcm/dJiZmZmZyb++mpmZmZnJv76amZmZmcm/AAAAAABQAr0AAAAAAFACvQ==",
          "dtype": "f8"
         }
        },
        {
         "color": "blue",
         "i": {
          "bdata": "AQICBAQGBgEDAAQE",
          "dtype": "i1"
         },
         "j": {
          "bdata": "AAEDAgUEBwYABwEG",
          "dtype": "i1"
         },
         "k": {
          "bdata": "AwMFBQcHAAAFBQIB",
          "dtype": "i1"
         },
         "name": "IfcBeam",
         "opacity": 0.6,
         "type": "mesh3d",
         "x": {
          "bdata": "3T0f+n6K+7+s+okcWtQLQKz6iRxa1AtA3T0f+n6K+7+s+okcWtQLQN09H/p+ivu/rPqJHFrUC0DdPR/6for7vw==",
          "dtype": "f8"
         },
         "y": {
          "bdata": "uXo5CuhEDcC5ejkK6EQNwAx7OQroRA3ADHs5CuhEDcBq4Z9wTqsLwGrhn3BOqwvAQeGfcE6rC8BB4Z9wTqsLwA==",
          "dtype": "f8"
         },
         "z": {
          "bdata": "AAAAAACwBD0AAAAAALAEPU2YmZmZmcm/TZiZmZmZyb/kmpmZmZnJv+SamZmZmcm/AAAAAADABL0AAAAAAMAEvQ==",
          "dtype": "f8"
         }
        },
        {
         "color": "blue",
         "i": {
          "bdata": "AQICBAQGBgEDAAQE",
          "dtype": "i1"
         },
         "j": {
          "bdata": "AAEDAgUEBwYABwEG",
          "dtype": "i1"
         },
         "k": {
          "bdata": "AwMFBQcHAAAFBQIB",
          "dtype": "i1"
         },
         "name": "IfcBeam",
         "opacity": 0.6,
         "type": "mesh3d",
         "x": {
          "bdata": "33BSLbK9+r+Cx1bpJqELQILHVukmoQtA33BSLbK9+r+Cx1bpJqELQN9wUi2yvfq/gsdW6SahC0DfcFItsr36vw==",
          "dtype": "f8"
         },
         "y": {
          "bdata": "S0crnrvb8L9LRyueu9vwv+BHK5672/C/4Ecrnrvb8L87KfDVEFHrvzsp8NUQUeu/pijw1RBR67+mKPDVEFHrvw==",
          "dtype": "f8"
         },
         "z": {
          "bdata": "AAAAAACQAj0AAAAAAJACPXCYmZmZmcm/cJiZmZmZyb/CmpmZmZnJv8KamZmZmcm/AAAAAACgAr0AAAAAAKACvQ==",
          "dtype": "f8"
         }
        },
        {
         "color": "blue",
         "i": {
          "bdata": "AQICBAQGBgEDAAQE",
          "dtype": "i1"
         },
         "j": {
          "bdata": "AAEDAgUEBwYABwEG",
          "dtype": "i1"
         },
         "k": {
          "bdata": "AwMFBQcHAAAFBQIB",
          "dtype": "i1"
         },
         "name": "IfcBeam",
         "opacity": 0.6,
         "type": "mesh3d",
         "x": {
          "bdata": "G6SFYOXw+78bpIVg5fD7v1zXuJMYJP+/XNe4kxgk/79d17iTGCT/v13XuJMYJP+/GqSFYOXw+78apIVg5fD7vw==",
          "dtype": "f8"
         },
         "y": {
          "bdata": "ocLQzLsrDkAc9byi3R3ovxz1vKLdHei/ocLQzLsrDkAc9byi3R3ov6HC0My7Kw5AHPW8ot0d6L+hwtDMuysOQA==",
          "dtype": "f8"
         },
         "z": {
          "bdata": "AAAAAAAAAAAAAAAAAAAAAAAAAAAAAHC8AAAAAAAAcLyZmZmZmZnJv5mZmZmZmcm/mZmZmZmZyb+ZmZmZmZnJvw==",
          "dtype": "f8"
         }
        },
        {
         "color": "blue",
         "i": {
          "bdata": "AQICBAQGBgEDAAQE",
          "dtype": "i1"
         },
         "j": {
          "bdata": "AAEDAgUEBwYABwEG",
          "dtype": "i1"
         },
         "k": {
          "bdata": "AwMFBQcHAAAFBQIB",
          "dtype": "i1"
         },
         "name": "IfcBeam",
         "opacity": 0.6,
         "type": "mesh3d",
         "x": {
          "bdata": "NqSFYOXw+782pIVg5fD7v3fXuJMYJP+/d9e4kxgk/79417iTGCT/v3jXuJMYJP+/NaSFYOXw+781pIVg5fD7vw==",
          "dtype": "f8"
         },
         "y": {
          "bdata": "8eDEN1V18r8o4Z9wTqsKwCjhn3BOqwrA8eDEN1V18r8o4Z9wTqsKwPHgxDdVdfK/KOGfcE6rCsDx4MQ3VXXyvw==",
          "dtype": "f8"
         },
         "z": {
          "bdata": "AAAAAAAAAAAAAAAAAAAAAAAAAAAAAHC8AAAAAAAAcLyZmZmZmZnJv5mZmZmZmcm/mZmZmZmZyb+ZmZmZmZnJvw==",
          "dtype": "f8"
         }
        },
        {
         "color": "blue",
         "i": {
          "bdata": "AQICBAQGBgEDAAQE",
          "dtype": "i1"
         },
         "j": {
          "bdata": "AAEDAgUEBwYABwEG",
          "dtype": "i1"
         },
         "k": {
          "bdata": "AwMFBQcHAAAFBQIB",
          "dtype": "i1"
         },
         "name": "IfcBeam",
         "opacity": 0.6,
         "type": "mesh3d",
         "x": {
          "bdata": "ksdW6SahDUCSx1bpJqENQPAtvU+NBwxA8C29T40HDEDwLb1PjQcMQPAtvU+NBwxAkcdW6SahDUCRx1bpJqENQA==",
          "dtype": "f8"
         },
         "y": {
          "bdata": "d8LQzLsrDkC09byi3R3ov7T1vKLdHei/d8LQzLsrDkC09byi3R3ov3fC0My7Kw5AtPW8ot0d6L93wtDMuysOQA==",
          "dtype": "f8"
         },
         "z": {
          "bdata": "AAAAAAAAAAAAAAAAAAAAAAAAAAAAAHC8AAAAAAAAcLyZmZmZmZnJv5mZmZmZmcm/mZmZmZmZyb+ZmZmZmZnJvw==",
          "dtype": "f8"
         }
        },
        {
         "color": "blue",
         "i": {
          "bdata": "AQICBAQGBgEDAAQE",
          "dtype": "i1"
         },
         "j": {
          "bdata": "AAEDAgUEBwYABwEG",
          "dtype": "i1"
         },
         "k": {
          "bdata": "AwMFBQcHAAAFBQIB",
          "dtype": "i1"
         },
         "name": "IfcBeam",
         "opacity": 0.6,
         "type": "mesh3d",
         "x": {
          "bdata": "gMdW6SahDUCAx1bpJqENQN4tvU+NBwxA3i29T40HDEDeLb1PjQcMQN4tvU+NBwxAf8dW6SahDUB/x1bpJqENQA==",
          "dtype": "f8"
         },
         "y": {
          "bdata": "P+HEN1V18r+CFNOjgd4KwIIU06OB3grAP+HEN1V18r+CFNOjgd4KwD/hxDdVdfK/ghTTo4HeCsA/4cQ3VXXyvw==",
          "dtype": "f8"
         },
         "z": {
          "bdata": "AAAAAAAAAAAAAAAAAAAAAAAAAAAAAHC8AAAAAAAAcLyZmZmZmZnJv5mZmZmZmcm/mZmZmZmZyb+ZmZmZmZnJvw==",
          "dtype": "f8"
         }
        },
        {
         "color": "blue",
         "i": {
          "bdata": "AQICBAQGBgEDAAQE",
          "dtype": "i1"
         },
         "j": {
          "bdata": "AAEDAgUEBwYABwEG",
          "dtype": "i1"
         },
         "k": {
          "bdata": "AwMFBQcHAAAFBQIB",
          "dtype": "i1"
         },
         "name": "IfcBeam",
         "opacity": 0.6,
         "type": "mesh3d",
         "x": {
          "bdata": "yPqJHFrUDUAa5YjtfNshQBrliO182yFAyPqJHFrUDUAa5YjtfNshQMj6iRxa1A1AGuWI7XzbIUDI+okcWtQNQA==",
          "dtype": "f8"
         },
         "y": {
          "bdata": "eMLQzLsrD0B4wtDMuysPQC/C0My7Kw9AL8LQzLsrD0DpLTWzqmIQQOktNbOqYhBA+y01s6piEED7LTWzqmIQQA==",
          "dtype": "f8"
         },
         "z": {
          "bdata": "AAAAAABAAj0AAAAAAEACPXSYmZmZmcm/dJiZmZmZyb++mpmZmZnJv76amZmZmcm/AAAAAABQAr0AAAAAAFACvQ==",
          "dtype": "f8"
         }
        },
        {
         "color": "blue",
         "i": {
          "bdata": "AQICBAQGBgEDAAQE",
          "dtype": "i1"
         },
         "j": {
          "bdata": "AAEDAgUEBwYABwEG",
          "dtype": "i1"
         },
         "k": {
          "bdata": "AwMFBQcHAAAFBQIB",
          "dtype": "i1"
         },
         "name": "IfcBeam",
         "opacity": 0.6,
         "type": "mesh3d",
         "x": {
          "bdata": "rPqJHFrUDUAT5YjtfNshQBPliO182yFArPqJHFrUDUAT5YjtfNshQKz6iRxa1A1AE+WI7XzbIUCs+okcWtQNQA==",
          "dtype": "f8"
         },
         "y": {
          "bdata": "4no5CuhEDcDiejkK6EQNwDR7OQroRA3ANHs5CuhEDcCS4Z9wTqsLwJLhn3BOqwvAaeGfcE6rC8Bp4Z9wTqsLwA==",
          "dtype": "f8"
         },
         "z": {
          "bdata": "AAAAAACwBD0AAAAAALAEPU2YmZmZmcm/TZiZmZmZyb/kmpmZmZnJv+SamZmZmcm/AAAAAADABL0AAAAAAMAEvQ==",
          "dtype": "f8"
         }
        },
        {
         "color": "blue",
         "i": {
          "bdata": "AQICBAQGBgEDAAQE",
          "dtype": "i1"
         },
         "j": {
          "bdata": "AAEDAgUEBwYABwEG",
          "dtype": "i1"
         },
         "k": {
          "bdata": "AwMFBQcHAAAFBQIB",
          "dtype": "i1"
         },
         "name": "IfcBeam",
         "opacity": 0.6,
         "type": "mesh3d",
         "x": {
          "bdata": "6i29T40HDkBIGLwgsM4hQEgYvCCwziFA6i29T40HDkBIGLwgsM4hQOotvU+NBw5ASBi8ILDOIUDqLb1PjQcOQA==",
          "dtype": "f8"
         },
         "y": {
          "bdata": "m0crnrvb8L+bRyueu9vwvzFIK5672/C/MUgrnrvb8L/dKfDVEFHrv90p8NUQUeu/SCnw1RBR679IKfDVEFHrvw==",
          "dtype": "f8"
         },
         "z": {
          "bdata": "AAAAAAC4Aj0AAAAAALgCPW2YmZmZmcm/bZiZmZmZyb/FmpmZmZnJv8WamZmZmcm/AAAAAADIAr0AAAAAAMgCvQ==",
          "dtype": "f8"
         }
        },
        {
         "color": "blue",
         "i": {
          "bdata": "AQICBAQGBgEDAAQE",
          "dtype": "i1"
         },
         "j": {
          "bdata": "AAEDAgUEBwYABwEG",
          "dtype": "i1"
         },
         "k": {
          "bdata": "AwMFBQcHAAAFBQIB",
          "dtype": "i1"
         },
         "name": "IfcBeam",
         "opacity": 0.6,
         "type": "mesh3d",
         "x": {
          "bdata": "TRi8ILBOIkBNGLwgsE4iQOWxVbpJ6CFA5bFVuknoIUDlsVW6SeghQOWxVbpJ6CFATRi8ILBOIkBNGLwgsE4iQA==",
          "dtype": "f8"
         },
         "y": {
          "bdata": "TsLQzLsrDkBY9ryi3R3ov1j2vKLdHei/TsLQzLsrDkBY9ryi3R3ov07C0My7Kw5AWPa8ot0d6L9OwtDMuysOQA==",
          "dtype": "f8"
         },
         "z": {
          "bdata": "AAAAAAAAAAAAAAAAAAAAAAAAAAAAAHC8AAAAAAAAcLyZmZmZmZnJv5mZmZmZmcm/mZmZmZmZyb+ZmZmZmZnJvw==",
          "dtype": "f8"
         }
        },
        {
         "color": "blue",
         "i": {
          "bdata": "AQICBAQGBgEDAAQE",
          "dtype": "i1"
         },
         "j": {
          "bdata": "AAEDAgUEBwYABwEG",
          "dtype": "i1"
         },
         "k": {
          "bdata": "AwMFBQcHAAAFBQIB",
          "dtype": "i1"
         },
         "name": "IfcBeam",
         "opacity": 0.6,
         "type": "mesh3d",
         "x": {
          "bdata": "Rxi8ILBOIkBHGLwgsE4iQOCxVbpJ6CFA4LFVuknoIUDfsVW6SeghQN+xVbpJ6CFASBi8ILBOIkBIGLwgsE4iQA==",
          "dtype": "f8"
         },
         "y": {
          "bdata": "juHEN1V18r+qFNOjgd4KwKoU06OB3grAjuHEN1V18r+qFNOjgd4KwI7hxDdVdfK/qhTTo4HeCsCO4cQ3VXXyvw==",
          "dtype": "f8"
         },
         "z": {
          "bdata": "AAAAAAAAAAAAAAAAAAAAAAAAAAAAAHC8AAAAAAAAcLyZmZmZmZnJv5mZmZmZmcm/mZmZmZmZyb+ZmZmZmZnJvw==",
          "dtype": "f8"
         }
        },
        {
         "color": "blue",
         "i": {
          "bdata": "AQICBAQGBgEDAAQE",
          "dtype": "i1"
         },
         "j": {
          "bdata": "AAEDAgUEBwYABwEG",
          "dtype": "i1"
         },
         "k": {
          "bdata": "AwMFBQcHAAAFBQIB",
          "dtype": "i1"
         },
         "name": "IfcBeam",
         "opacity": 0.6,
         "type": "mesh3d",
         "x": {
          "bdata": "GuWI7XxbIkCCS+9T48EsQIJL71PjwSxAGuWI7XxbIkCCS+9T48EsQBrliO18WyJAgkvvU+PBLEAa5YjtfFsiQA==",
          "dtype": "f8"
         },
         "y": {
          "bdata": "UcLQzLsrD0BRwtDMuysPQAfC0My7Kw9AB8LQzLsrD0DULTWzqmIQQNQtNbOqYhBA5i01s6piEEDmLTWzqmIQQA==",
          "dtype": "f8"
         },
         "z": {
          "bdata": "AAAAAABAAj0AAAAAAEACPXSYmZmZmcm/dJiZmZmZyb++mpmZmZnJv76amZmZmcm/AAAAAABQAr0AAAAAAFACvQ==",
          "dtype": "f8"
         }
        },
        {
         "color": "blue",
         "i": {
          "bdata": "AQICBAQGBgEDAAQE",
          "dtype": "i1"
         },
         "j": {
          "bdata": "AAEDAgUEBwYABwEG",
          "dtype": "i1"
         },
         "k": {
          "bdata": "AwMFBQcHAAAFBQIB",
          "dtype": "i1"
         },
         "name": "IfcBeam",
         "opacity": 0.6,
         "type": "mesh3d",
         "x": {
          "bdata": "E+WI7XxbIkB7S+9T48EsQHtL71PjwSxAE+WI7XxbIkB7S+9T48EsQBPliO18WyJAe0vvU+PBLEAT5YjtfFsiQA==",
          "dtype": "f8"
         },
         "y": {
          "bdata": "C3s5CuhEDcALezkK6EQNwF17OQroRA3AXXs5CuhEDcC74Z9wTqsLwLvhn3BOqwvAkuGfcE6rC8CS4Z9wTqsLwA==",
          "dtype": "f8"
         },
         "z": {
          "bdata": "AAAAAACwBD0AAAAAALAEPU2YmZmZmcm/TZiZmZmZyb/kmpmZmZnJv+SamZmZmcm/AAAAAADABL0AAAAAAMAEvQ==",
          "dtype": "f8"
         }
        },
        {
         "color": "blue",
         "i": {
          "bdata": "AQICBAQGBgEDAAQE",
          "dtype": "i1"
         },
         "j": {
          "bdata": "AAEDAgUEBwYABwEG",
          "dtype": "i1"
         },
         "k": {
          "bdata": "AwMFBQcHAAAFBQIB",
          "dtype": "i1"
         },
         "name": "IfcBeam",
         "opacity": 0.6,
         "type": "mesh3d",
         "x": {
          "bdata": "4bFVukloIkAhvCxeuqUsQCG8LF66pSxA4bFVukloIkAhvCxeuqUsQOGxVbpJaCJAIbwsXrqlLEDhsVW6SWgiQA==",
          "dtype": "f8"
         },
         "y": {
          "bdata": "60crnrvb8L/rRyueu9vwv4BIK5672/C/gEgrnrvb8L98KvDVEFHrv3wq8NUQUeu/6Cnw1RBR67/oKfDVEFHrvw==",
          "dtype": "f8"
         },
         "z": {
          "bdata": "AAAAAACQAj0AAAAAAJACPXCYmZmZmcm/cJiZmZmZyb/CmpmZmZnJv8KamZmZmcm/AAAAAACgAr0AAAAAAKACvQ==",
          "dtype": "f8"
         }
        },
        {
         "color": "blue",
         "i": {
          "bdata": "AQICBAQGBgEDAAQE",
          "dtype": "i1"
         },
         "j": {
          "bdata": "AAEDAgUEBwYABwEG",
          "dtype": "i1"
         },
         "k": {
          "bdata": "AwMFBQcHAAAFBQIB",
          "dtype": "i1"
         },
         "name": "IfcBeam",
         "opacity": 0.6,
         "type": "mesh3d",
         "x": {
          "bdata": "s34ihxY1LUCzfiKHFjUtQEsYvCCwzixASxi8ILDOLEBKGLwgsM4sQEoYvCCwzixAtH4ihxY1LUC0fiKHFjUtQA==",
          "dtype": "f8"
         },
         "y": {
          "bdata": "JcLQzLsrDkD09ryi3R3ov/T2vKLdHei/JcLQzLsrDkD09ryi3R3ovyXC0My7Kw5A9Pa8ot0d6L8lwtDMuysOQA==",
          "dtype": "f8"
         },
         "z": {
          "bdata": "AAAAAAAAAAAAAAAAAAAAAAAAAAAAAHC8AAAAAAAAcLyZmZmZmZnJv5mZmZmZmcm/mZmZmZmZyb+ZmZmZmZnJvw==",
          "dtype": "f8"
         }
        },
        {
         "color": "blue",
         "i": {
          "bdata": "AQICBAQGBgEDAAQE",
          "dtype": "i1"
         },
         "j": {
          "bdata": "AAEDAgUEBwYABwEG",
          "dtype": "i1"
         },
         "k": {
          "bdata": "AwMFBQcHAAAFBQIB",
          "dtype": "i1"
         },
         "name": "IfcBeam",
         "opacity": 0.6,
         "type": "mesh3d",
         "x": {
          "bdata": "r34ihxY1LUCvfiKHFjUtQEYYvCCwzixARhi8ILDOLEBGGLwgsM4sQEYYvCCwzixAr34ihxY1LUCvfiKHFjUtQA==",
          "dtype": "f8"
         },
         "y": {
          "bdata": "3uHEN1V18r/TFNOjgd4KwNMU06OB3grA3uHEN1V18r/TFNOjgd4KwN7hxDdVdfK/0xTTo4HeCsDe4cQ3VXXyvw==",
          "dtype": "f8"
         },
         "z": {
          "bdata": "AAAAAAAAAAAAAAAAAAAAAAAAAAAAAHC8AAAAAAAAcLyZmZmZmZnJv5mZmZmZmcm/mZmZmZmZyb+ZmZmZmZnJvw==",
          "dtype": "f8"
         }
        },
        {
         "color": "blue",
         "i": {
          "bdata": "AQICBAQGBgEDAAQE",
          "dtype": "i1"
         },
         "j": {
          "bdata": "AAEDAgUEBwYABwEG",
          "dtype": "i1"
         },
         "k": {
          "bdata": "AwMFBQcHAAAFBQIB",
          "dtype": "i1"
         },
         "name": "IfcBeam",
         "opacity": 0.6,
         "type": "mesh3d",
         "x": {
          "bdata": "sT0f+n6K+7/K+okcWtQLQMr6iRxa1AtAsT0f+n6K+7/K+okcWtQLQLE9H/p+ivu/yvqJHFrUC0CxPR/6for7vw==",
          "dtype": "f8"
         },
         "y": {
          "bdata": "XI+dmYj4DkBcj52ZiPgOQCSPnZmI+A5AJI+dmYj4DkCXx85MRHwQQJfHzkxEfBBAssfOTER8EECyx85MRHwQQA==",
          "dtype": "f8"
         },
         "z": {
          "bdata": "xJqZmZmZFUDEmpmZmZkVQEplZmZmZhRASmVmZmZmFEA7ZWZmZmYUQDtlZmZmZhRAtZqZmZmZFUC1mpmZmZkVQA==",
          "dtype": "f8"
         }
        },
        {
         "color": "blue",
         "i": {
          "bdata": "AQICBAQGBgEDAAQE",
          "dtype": "i1"
         },
         "j": {
          "bdata": "AAEDAgUEBwYABwEG",
          "dtype": "i1"
         },
         "k": {
          "bdata": "AwMFBQcHAAAFBQIB",
          "dtype": "i1"
         },
         "name": "IfcBeam",
         "opacity": 0.6,
         "type": "mesh3d",
         "x": {
          "bdata": "3T0f+n6K+7+s+okcWtQLQKz6iRxa1AtA3T0f+n6K+7+s+okcWtQLQN09H/p+ivu/rPqJHFrUC0DdPR/6for7vw==",
          "dtype": "f8"
         },
         "y": {
          "bdata": "Bq5sPRt4DcAGrmw9G3gNwECubD0beA3AQK5sPRt4DcA3rmw9G3gLwDeubD0beAvA9q1sPRt4C8D2rWw9G3gLwA==",
          "dtype": "f8"
         },
         "z": {
          "bdata": "xZqZmZmZFUDFmpmZmZkVQEtlZmZmZhRAS2VmZmZmFEA6ZWZmZmYUQDplZmZmZhRAtJqZmZmZFUC0mpmZmZkVQA==",
          "dtype": "f8"
         }
        },
        {
         "color": "blue",
         "i": {
          "bdata": "AQICBAQGBgEDAAQE",
          "dtype": "i1"
         },
         "j": {
          "bdata": "AAEDAgUEBwYABwEG",
          "dtype": "i1"
         },
         "k": {
          "bdata": "AwMFBQcHAAAFBQIB",
          "dtype": "i1"
         },
         "name": "IfcBeam",
         "opacity": 0.6,
         "type": "mesh3d",
         "x": {
          "bdata": "33BSLbK9+r+Gx1bpJqELQIbHVukmoQtA33BSLbK9+r+Gx1bpJqELQN9wUi2yvfq/hsdW6SahC0DfcFItsr36vw==",
          "dtype": "f8"
         },
         "y": {
          "bdata": "2a2RBCJC8b/ZrZEEIkLxv0eukQQiQvG/R66RBCJC8b9vXCMJRITqv29cIwlEhOq/hlsjCUSE6r+GWyMJRITqvw==",
          "dtype": "f8"
         },
         "z": {
          "bdata": "opmZmZmZFUCimZmZmZkVQGxmZmZmZhRAbGZmZmZmFEBdZmZmZmYUQF1mZmZmZhRAkpmZmZmZFUCSmZmZmZkVQA==",
          "dtype": "f8"
         }
        },
        {
         "color": "blue",
         "i": {
          "bdata": "AQICBAQGBgEDAAQE",
          "dtype": "i1"
         },
         "j": {
          "bdata": "AAEDAgUEBwYABwEG",
          "dtype": "i1"
         },
         "k": {
          "bdata": "AwMFBQcHAAAFBQIB",
          "dtype": "i1"
         },
         "name": "IfcBeam",
         "opacity": 0.6,
         "type": "mesh3d",
         "x": {
          "bdata": "tT0f+n6K+7+1PR/6for7v8I9H/p+iv+/wj0f+n6K/7/EPR/6for/v8Q9H/p+iv+/tD0f+n6K+7+0PR/6for7vw==",
          "dtype": "f8"
         },
         "y": {
          "bdata": "ocLQzLsrDkAc9byi3R3ovxz1vKLdHei/ocLQzLsrDkAc9byi3R3ov6HC0My7Kw5AHPW8ot0d6L+hwtDMuysOQA==",
          "dtype": "f8"
         },
         "z": {
          "bdata": "m5mZmZmZFUCbmZmZmZkVQJuZmZmZmRVAm5mZmZmZFUBmZmZmZmYUQGZmZmZmZhRAZmZmZmZmFEBmZmZmZmYUQA==",
          "dtype": "f8"
         }
        },
        {
         "color": "blue",
         "i": {
          "bdata": "AQICBAQGBgEDAwYE",
          "dtype": "i1"
         },
         "j": {
          "bdata": "AAEDAgUEBwYABwEG",
          "dtype": "i1"
         },
         "k": {
          "bdata": "AwMFBQcHAAAHBQIC",
          "dtype": "i1"
         },
         "name": "IfcBeam",
         "opacity": 0.6,
         "type": "mesh3d",
         "x": {
          "bdata": "0D0f+n6K+7/QPR/6for7v909H/p+iv+/3T0f+n6K/7/fPR/6for/v989H/p+iv+/zz0f+n6K+7/PPR/6for7vw==",
          "dtype": "f8"
         },
         "y": {
          "bdata": "7+DEN1V18r8q4Z9wTqsKwCrhn3BOqwrA7+DEN1V18r8q4Z9wTqsKwO/gxDdVdfK/KuGfcE6rCsDv4MQ3VXXyvw==",
          "dtype": "f8"
         },
         "z": {
          "bdata": "mpmZmZmZFUCamZmZmZkVQJqZmZmZmRVAmpmZmZmZFUBlZmZmZmYUQGVmZmZmZhRAZmZmZmZmFEBmZmZmZmYUQA==",
          "dtype": "f8"
         }
        },
        {
         "color": "blue",
         "i": {
          "bdata": "AQICBAQGBgEDAAQE",
          "dtype": "i1"
         },
         "j": {
          "bdata": "AAEDAgUEBwYABwEG",
          "dtype": "i1"
         },
         "k": {
          "bdata": "AwMFBQcHAAAFBQIB",
          "dtype": "i1"
         },
         "name": "IfcBeam",
         "opacity": 0.6,
         "type": "mesh3d",
         "x": {
          "bdata": "xvqJHFrUDUDG+okcWtQNQLz6iRxa1AtAvPqJHFrUC0C8+okcWtQLQLz6iRxa1AtAxPqJHFrUDUDE+okcWtQNQA==",
          "dtype": "f8"
         },
         "y": {
          "bdata": "d8LQzLsrDkC09byi3R3ov7T1vKLdHei/d8LQzLsrDkC09byi3R3ov3fC0My7Kw5AtPW8ot0d6L93wtDMuysOQA==",
          "dtype": "f8"
         },
         "z": {
          "bdata": "m5mZmZmZFUCbmZmZmZkVQJuZmZmZmRVAm5mZmZmZFUBmZmZmZmYUQGZmZmZmZhRAZmZmZmZmFEBmZmZmZmYUQA==",
          "dtype": "f8"
         }
        },
        {
         "color": "blue",
         "i": {
          "bdata": "AQICBAQGBgEDAAQE",
          "dtype": "i1"
         },
         "j": {
          "bdata": "AAEDAgUEBwYABwEG",
          "dtype": "i1"
         },
         "k": {
          "bdata": "AwMFBQcHAAAFBQIB",
          "dtype": "i1"
         },
         "name": "IfcBeam",
         "opacity": 0.6,
         "type": "mesh3d",
         "x": {
          "bdata": "tPqJHFrUDUC0+okcWtQNQKr6iRxa1AtAqvqJHFrUC0Cq+okcWtQLQKr6iRxa1AtAs/qJHFrUDUCz+okcWtQNQA==",
          "dtype": "f8"
         },
         "y": {
          "bdata": "PuHEN1V18r+DFNOjgd4KwIMU06OB3grAPuHEN1V18r+DFNOjgd4KwD7hxDdVdfK/gxTTo4HeCsA+4cQ3VXXyvw==",
          "dtype": "f8"
         },
         "z": {
          "bdata": "m5mZmZmZFUCbmZmZmZkVQJuZmZmZmRVAm5mZmZmZFUBmZmZmZmYUQGZmZmZmZhRAZmZmZmZmFEBmZmZmZmYUQA==",
          "dtype": "f8"
         }
        },
        {
         "color": "blue",
         "i": {
          "bdata": "AQICBAQGBgEDAAQE",
          "dtype": "i1"
         },
         "j": {
          "bdata": "AAEDAgUEBwYABwEG",
          "dtype": "i1"
         },
         "k": {
          "bdata": "AwMFBQcHAAAFBQIB",
          "dtype": "i1"
         },
         "name": "IfcBeam",
         "opacity": 0.6,
         "type": "mesh3d",
         "x": {
          "bdata": "xvqJHFrUDUAa5YjtfNshQBrliO182yFAxvqJHFrUDUAa5YjtfNshQMb6iRxa1A1AGuWI7XzbIUDG+okcWtQNQA==",
          "dtype": "f8"
         },
         "y": {
          "bdata": "NI+dmYj4DkA0j52ZiPgOQP2OnZmI+A5A/Y6dmYj4DkCDx85MRHwQQIPHzkxEfBBAnsfOTER8EECex85MRHwQQA==",
          "dtype": "f8"
         },
         "z": {
          "bdata": "xJqZmZmZFUDEmpmZmZkVQEplZmZmZhRASmVmZmZmFEA7ZWZmZmYUQDtlZmZmZhRAtZqZmZmZFUC1mpmZmZkVQA==",
          "dtype": "f8"
         }
        },
        {
         "color": "blue",
         "i": {
          "bdata": "AQICBAQGBgEDAAQE",
          "dtype": "i1"
         },
         "j": {
          "bdata": "AAEDAgUEBwYABwEG",
          "dtype": "i1"
         },
         "k": {
          "bdata": "AwMFBQcHAAAFBQIB",
          "dtype": "i1"
         },
         "name": "IfcBeam",
         "opacity": 0.6,
         "type": "mesh3d",
         "x": {
          "bdata": "q/qJHFrUDUAT5YjtfNshQBPliO182yFAq/qJHFrUDUAT5YjtfNshQKv6iRxa1A1AE+WI7XzbIUCr+okcWtQNQA==",
          "dtype": "f8"
         },
         "y": {
          "bdata": "La5sPRt4DcAtrmw9G3gNwGiubD0beA3AaK5sPRt4DcBfrmw9G3gLwF+ubD0beAvAHa5sPRt4C8Adrmw9G3gLwA==",
          "dtype": "f8"
         },
         "z": {
          "bdata": "xZqZmZmZFUDFmpmZmZkVQEtlZmZmZhRAS2VmZmZmFEA6ZWZmZmYUQDplZmZmZhRAtJqZmZmZFUC0mpmZmZkVQA==",
          "dtype": "f8"
         }
        },
        {
         "color": "blue",
         "i": {
          "bdata": "AQICBAQGBgEDAAQE",
          "dtype": "i1"
         },
         "j": {
          "bdata": "AAEDAgUEBwYABwEG",
          "dtype": "i1"
         },
         "k": {
          "bdata": "AwMFBQcHAAAFBQIB",
          "dtype": "i1"
         },
         "name": "IfcBeam",
         "opacity": 0.6,
         "type": "mesh3d",
         "x": {
          "bdata": "6i29T40HDkBIGLwgsM4hQEgYvCCwziFA6i29T40HDkBIGLwgsM4hQOotvU+NBw5ASBi8ILDOIUDqLb1PjQcOQA==",
          "dtype": "f8"
         },
         "y": {
          "bdata": "LK6RBCJC8b8srpEEIkLxv5iukQQiQvG/mK6RBCJC8b8RXSMJRITqvxFdIwlEhOq/LFwjCUSE6r8sXCMJRITqvw==",
          "dtype": "f8"
         },
         "z": {
          "bdata": "opmZmZmZFUCimZmZmZkVQGxmZmZmZhRAbGZmZmZmFEBdZmZmZmYUQF1mZmZmZhRAkpmZmZmZFUCSmZmZmZkVQA==",
          "dtype": "f8"
         }
        },
        {
         "color": "blue",
         "i": {
          "bdata": "AQICBAQGBgEDAAQE",
          "dtype": "i1"
         },
         "j": {
          "bdata": "AAEDAgUEBwYABwEG",
          "dtype": "i1"
         },
         "k": {
          "bdata": "AwMFBQcHAAAFBQIB",
          "dtype": "i1"
         },
         "name": "IfcBeam",
         "opacity": 0.6,
         "type": "mesh3d",
         "x": {
          "bdata": "GeWI7XxbIkAZ5YjtfFsiQBjliO182yFAGOWI7XzbIUAY5YjtfNshQBjliO182yFAGeWI7XxbIkAZ5YjtfFsiQA==",
          "dtype": "f8"
         },
         "y": {
          "bdata": "UMLQzLsrDkBY9ryi3R3ov1j2vKLdHei/UMLQzLsrDkBY9ryi3R3ov1DC0My7Kw5AWPa8ot0d6L9QwtDMuysOQA==",
          "dtype": "f8"
         },
         "z": {
          "bdata": "m5mZmZmZFUCbmZmZmZkVQJuZmZmZmRVAm5mZmZmZFUBmZmZmZmYUQGZmZmZmZhRAZmZmZmZmFEBmZmZmZmYUQA==",
          "dtype": "f8"
         }
        },
        {
         "color": "blue",
         "i": {
          "bdata": "AQICBAQGBgEDAAQE",
          "dtype": "i1"
         },
         "j": {
          "bdata": "AAEDAgUEBwYABwEG",
          "dtype": "i1"
         },
         "k": {
          "bdata": "AwMFBQcHAAAFBQIB",
          "dtype": "i1"
         },
         "name": "IfcBeam",
         "opacity": 0.6,
         "type": "mesh3d",
         "x": {
          "bdata": "E+WI7XxbIkAT5YjtfFsiQBPliO182yFAE+WI7XzbIUAS5YjtfNshQBLliO182yFAFOWI7XxbIkAU5YjtfFsiQA==",
          "dtype": "f8"
         },
         "y": {
          "bdata": "juHEN1V18r+rFNOjgd4KwKsU06OB3grAjuHEN1V18r+rFNOjgd4KwI7hxDdVdfK/qxTTo4HeCsCO4cQ3VXXyvw==",
          "dtype": "f8"
         },
         "z": {
          "bdata": "m5mZmZmZFUCbmZmZmZkVQJuZmZmZmRVAm5mZmZmZFUBmZmZmZmYUQGZmZmZmZhRAZmZmZmZmFEBmZmZmZmYUQA==",
          "dtype": "f8"
         }
        },
        {
         "color": "blue",
         "i": {
          "bdata": "AgIFBQUICA0NDQkJBwcFBQ8MDgcKCg8PDw8BAA==",
          "dtype": "i1"
         },
         "j": {
          "bdata": "AAMGBwkJCwwCCA0IBgkLBAsLDw4NDgMCDgAODg==",
          "dtype": "i1"
         },
         "k": {
          "bdata": "AQAHBAYFDAIBDAoNCQoICwQPBAQOBwIMAAMNAQ==",
          "dtype": "i1"
         },
         "name": "IfcBeam",
         "opacity": 0.6,
         "type": "mesh3d",
         "x": {
          "bdata": "XpJ3PzX6JkBeknc/NfomQHegA+BaayJAd6AD4FprIkAa5YjtfFsiQBrliO18WyJAgkvvU+PBLECCS+9T48EsQBrliO18WyJAgkvvU+PBLECCS+9T48EsQBrliO18WyJAd6AD4FprIkBeknc/NfomQF6Sdz81+iZAd6AD4FprIkA=",
          "dtype": "f8"
         },
         "y": {
          "bdata": "7wRt7EFjEECCx85MRHwQQIvHzkxEfBBA9wRt7EFjEEAMj52ZiPgOQAyPnZmI+A5A5o6dmYj4DkDmjp2ZiPgOQIvHzkxEfBBAd8fOTER8EEB3x85MRHwQQIvHzkxEfBBAi8fOTER8EECCx85MRHwQQO8EbexBYxBA9wRt7EFjEEA=",
          "dtype": "f8"
         },
         "z": {
          "bdata": "K2dmZmZmFkBoZmZmZmYWQGhmZmZmZhZAK2dmZmZmFkDim5mZmZkVQGhmZmZmZhRAaGZmZmZmFEDim5mZmZkVQGhmZmZmZhRAaGZmZmZmFEDim5mZmZkVQOKbmZmZmRVA4puZmZmZFUDim5mZmZkVQOKbmZmZmRVA4puZmZmZFUA=",
          "dtype": "f8"
         }
        },
        {
         "color": "blue",
         "i": {
          "bdata": "AQICBAQGBgEDAAQE",
          "dtype": "i1"
         },
         "j": {
          "bdata": "AAEDAgUEBwYABwEG",
          "dtype": "i1"
         },
         "k": {
          "bdata": "AwMFBQcHAAAFBQIB",
          "dtype": "i1"
         },
         "name": "IfcBeam",
         "opacity": 0.6,
         "type": "mesh3d",
         "x": {
          "bdata": "E+WI7XxbIkB7S+9T48EsQHtL71PjwSxAE+WI7XxbIkB7S+9T48EsQBPliO18WyJAe0vvU+PBLEAT5YjtfFsiQA==",
          "dtype": "f8"
         },
         "y": {
          "bdata": "VK5sPRt4DcBUrmw9G3gNwJGubD0beA3Aka5sPRt4DcCHrmw9G3gLwIeubD0beAvAR65sPRt4C8BHrmw9G3gLwA==",
          "dtype": "f8"
         },
         "z": {
          "bdata": "xZqZmZmZFUDFmpmZmZkVQEtlZmZmZhRAS2VmZmZmFEA6ZWZmZmYUQDplZmZmZhRAtJqZmZmZFUC0mpmZmZkVQA==",
          "dtype": "f8"
         }
        },
        {
         "color": "blue",
         "i": {
          "bdata": "AQICBAQGBgEDAAQECQoKDAwODgkLCAwM",
          "dtype": "i1"
         },
         "j": {
          "bdata": "AAEDAgUEBwYABwEGCAkLCg0MDw4IDwkO",
          "dtype": "i1"
         },
         "k": {
          "bdata": "AwMFBQcHAAAFBQIBCwsNDQ8PCAgNDQoJ",
          "dtype": "i1"
         },
         "name": "IfcBeam",
         "opacity": 0.6,
         "type": "mesh3d",
         "x": {
          "bdata": "vFXG91M/LUB9S+9T40EtQH1L71PjQS1AvFXG91M/LUB9S+9T40EtQLxVxvdTPy1AfUvvU+NBLUC8Vcb3Uz8tQOCxVbpJaCJAILwsXrqlLEAgvCxeuqUsQOCxVbpJaCJAILwsXrqlLEDgsVW6SWgiQCC8LF66pSxA4LFVukloIkA=",
          "dtype": "f8"
         },
         "y": {
          "bdata": "FK+RBCJC8b8Ur5EEIkLxvxWvkQQiQvG/Fa+RBCJC8b8NXiMJRITqvw1eIwlEhOq/DF4jCUSE6r8MXiMJRITqv3qukQQiQvG/eq6RBCJC8b/nrpEEIkLxv+eukQQiQvG/r10jCUSE6r+vXSMJRITqv8hcIwlEhOq/yFwjCUSE6r8=",
          "dtype": "f8"
         },
         "z": {
          "bdata": "ZmZmZmZmFkBmZmZmZmYWQGZmZmZmZhRAZmZmZmZmFEBmZmZmZmYUQGZmZmZmZhRAZmZmZmZmFkBmZmZmZmYWQKKZmZmZmRVAopmZmZmZFUBsZmZmZmYUQGxmZmZmZhRAXWZmZmZmFEBdZmZmZmYUQJKZmZmZmRVAkpmZmZmZFUA=",
          "dtype": "f8"
         }
        },
        {
         "color": "blue",
         "i": {
          "bdata": "AwIHBwsFBQgCAgwMAgIKCgYGDQ0AAAQM",
          "dtype": "i1"
         },
         "j": {
          "bdata": "AAMEBQkLCAkJAQgFDAgJAQsNAwsNAwcE",
          "dtype": "i1"
         },
         "k": {
          "bdata": "AQEFBgoGCwsICQUEAwwBAA0HDAoKDQ0N",
          "dtype": "i1"
         },
         "name": "IfcBeam",
         "opacity": 0.6,
         "type": "mesh3d",
         "x": {
          "bdata": "u1XG91M/LUB8S+9T40EtQIBL71PjQS1Ahl3K91M/LUB+S+9T48EsQH5L71PjwSxAekvvU+PBLEB6S+9T48EsQIBL71PjQS1AfEvvU+NBLUC7Vcb3Uz8tQLtVxvdTPy1Ahl3K91M/LUC7Vcb3Uz8tQA==",
          "dtype": "f8"
         },
         "y": {
          "bdata": "aV0jCUSE6r9rXSMJRITqvyXC0My7Kw5AJcLQzLsrDkAlwtDMuysOQCXC0My7Kw5A8/a8ot0d6L/z9ryi3R3ovyXC0My7Kw5AaV0jCUSE6r9pXSMJRITqv/L2vKLdHei/JcLQzLsrDkDy9ryi3R3ovw==",
          "dtype": "f8"
         },
         "z": {
          "bdata": "ZmZmZmZmFkBmZmZmZmYWQGZmZmZmZhZAZmZmZmZmFkCbmZmZmZkVQGZmZmZmZhRAZmZmZmZmFECbmZmZmZkVQGZmZmZmZhRAZmZmZmZmFEBmZmZmZmYUQGZmZmZmZhRAm5mZmZmZFUCbmZmZmZkVQA==",
          "dtype": "f8"
         }
        },
        {
         "color": "blue",
         "i": {
          "bdata": "AgIHBwoLBQgCAgwGCQkCAg0NDQMAAA0N",
          "dtype": "i1"
         },
         "j": {
          "bdata": "AAMEBQkICgkBCQEMDAEICwoFCwsNAwcE",
          "dtype": "i1"
         },
         "k": {
          "bdata": "AQAFBgYKBgoJCAAHBgwLAwUECg0MDQwH",
          "dtype": "i1"
         },
         "name": "IfcBeam",
         "opacity": 0.6,
         "type": "mesh3d",
         "x": {
          "bdata": "f13K91M/LUB6S+9T40EtQHxL71PjQS1Au1XG91M/LUB6S+9T48EsQHpL71PjwSxAeEvvU+PBLEB4S+9T48EsQHxL71PjQS1AekvvU+NBLUC7Vcb3Uz8tQLtVxvdTPy1Af13K91M/LUC7Vcb3Uz8tQA==",
          "dtype": "f8"
         },
         "y": {
          "bdata": "0hTTo4HeCsDSFNOjgd4KwMSukQQiQvG/xK6RBCJC8b/g4cQ3VXXyv+DhxDdVdfK/0hTTo4HeCsDSFNOjgd4KwMSukQQiQvG/0hTTo4HeCsDg4cQ3VXXyv8SukQQiQvG/0hTTo4HeCsDg4cQ3VXXyvw==",
          "dtype": "f8"
         },
         "z": {
          "bdata": "ZmZmZmZmFkBmZmZmZmYWQGZmZmZmZhZAZmZmZmZmFkCbmZmZmZkVQGZmZmZmZhRAZmZmZmZmFECbmZmZmZkVQGZmZmZmZhRAZmZmZmZmFEBmZmZmZmYUQGZmZmZmZhRAm5mZmZmZFUCbmZmZmZkVQA==",
          "dtype": "f8"
         }
        },
        {
         "color": "red",
         "i": {
          "bdata": "AQICBAQGBgEDAAQE",
          "dtype": "i1"
         },
         "j": {
          "bdata": "AAEDAgUEBwYABwEG",
          "dtype": "i1"
         },
         "k": {
          "bdata": "AwMFBQcHAAAFBQIB",
          "dtype": "i1"
         },
         "name": "IfcColumn",
         "opacity": 0.6,
         "type": "mesh3d",
         "x": {
          "bdata": "qz0f+n6K/7+sPR/6for7v6w9H/p+ivu/qz0f+n6K/7+sPR/6for7v6s9H/p+iv+/rD0f+n6K+7+rPR/6for/vw==",
          "dtype": "f8"
         },
         "y": {
          "bdata": "HS41s6riEEAdLjWzquIQQB0uNbOq4hBAHS41s6riEEChwtDMuysOQKHC0My7Kw5AoMLQzLsrDkCgwtDMuysOQA==",
          "dtype": "f8"
         },
         "z": {
          "bdata": "mpmZmZmZ+b+amZmZmZn5v83MzMzMzARAzczMzMzMBEDNzMzMzMwEQM3MzMzMzARAmpmZmZmZ+b+amZmZmZn5vw==",
          "dtype": "f8"
         }
        },
        {
         "color": "red",
         "i": {
          "bdata": "AQICBAQGBggIAQMABQQEBg==",
          "dtype": "i1"
         },
         "j": {
          "bdata": "AAEDAgUEBwYJCAAJCQEICA==",
          "dtype": "i1"
         },
         "k": {
          "bdata": "AwMFBQcHCQkAAAUFBwIBBA==",
          "dtype": "i1"
         },
         "name": "IfcColumn",
         "opacity": 0.6,
         "type": "mesh3d",
         "x": {
          "bdata": "yfqJHFrUC0DJ+okcWtQNQMn6iRxa1A1AyfqJHFrUC0DJ+okcWtQNQMn6iRxa1AtAyfqJHFrUDUDJ+okcWtQLQMn6iRxa1A1AyfqJHFrUC0A=",
          "dtype": "f8"
         },
         "y": {
          "bdata": "CC41s6riEEAILjWzquIQQAguNbOq4hBACC41s6riEEA4j52ZiPgOQDiPnZmI+A5AeMLQzLsrDkB4wtDMuysOQHfC0My7Kw5Ad8LQzLsrDkA=",
          "dtype": "f8"
         },
         "z": {
          "bdata": "mpmZmZmZ+b+amZmZmZn5v83MzMzMzARAzczMzMzMBEDNzMzMzMwEQM3MzMzMzARAzczMzMzMBEDNzMzMzMwEQJqZmZmZmfm/mpmZmZmZ+b8=",
          "dtype": "f8"
         }
        },
        {
         "color": "red",
         "i": {
          "bdata": "AQICBAQGBgEDAAQE",
          "dtype": "i1"
         },
         "j": {
          "bdata": "AAEDAgUEBwYABwEG",
          "dtype": "i1"
         },
         "k": {
          "bdata": "AwMFBQcHAAAFBQIB",
          "dtype": "i1"
         },
         "name": "IfcColumn",
         "opacity": 0.6,
         "type": "mesh3d",
         "x": {
          "bdata": "rPqJHFrUC0Cs+okcWtQNQKz6iRxa1A1ArPqJHFrUC0Cs+okcWtQNQKz6iRxa1AtArPqJHFrUDUCs+okcWtQLQA==",
          "dtype": "f8"
         },
         "y": {
          "bdata": "gxTTo4HeCsCDFNOjgd4KwIMU06OB3grAgxTTo4HeCsC3RwbXtBEOwLdHBte0EQ7At0cG17QRDsC3RwbXtBEOwA==",
          "dtype": "f8"
         },
         "z": {
          "bdata": "mpmZmZmZ+b+amZmZmZn5v83MzMzMzARAzczMzMzMBEDNzMzMzMwEQM3MzMzMzARAmpmZmZmZ+b+amZmZmZn5vw==",
          "dtype": "f8"
         }
        },
        {
         "color": "red",
         "i": {
          "bdata": "AQICBAQGBgEDAAQE",
          "dtype": "i1"
         },
         "j": {
          "bdata": "AAEDAgUEBwYABwEG",
          "dtype": "i1"
         },
         "k": {
          "bdata": "AwMFBQcHAAAFBQIB",
          "dtype": "i1"
         },
         "name": "IfcColumn",
         "opacity": 0.6,
         "type": "mesh3d",
         "x": {
          "bdata": "2z0f+n6K/7/cPR/6for7v9w9H/p+ivu/2z0f+n6K/7/cPR/6for7v9s9H/p+iv+/3D0f+n6K+7/bPR/6for/vw==",
          "dtype": "f8"
         },
         "y": {
          "bdata": "KeGfcE6rCsAp4Z9wTqsKwCnhn3BOqwrAKeGfcE6rCsDBejkK6EQOwMF6OQroRA7Awno5CuhEDsDCejkK6EQOwA==",
          "dtype": "f8"
         },
         "z": {
          "bdata": "mpmZmZmZ+b+amZmZmZn5v83MzMzMzARAzczMzMzMBEDNzMzMzMwEQM3MzMzMzARAmpmZmZmZ+b+amZmZmZn5vw==",
          "dtype": "f8"
         }
        },
        {
         "color": "red",
         "i": {
          "bdata": "AQICBAQGBgEDAAQE",
          "dtype": "i1"
         },
         "j": {
          "bdata": "AAEDAgUEBwYABwEG",
          "dtype": "i1"
         },
         "k": {
          "bdata": "AwMFBQcHAAAFBQIB",
          "dtype": "i1"
         },
         "name": "IfcColumn",
         "opacity": 0.6,
         "type": "mesh3d",
         "x": {
          "bdata": "qj0f+n6K/7/dcFItsr36v91wUi2yvfq/qj0f+n6K/7/dcFItsr36v6o9H/p+iv+/3XBSLbK9+r+qPR/6for/vw==",
          "dtype": "f8"
         },
         "y": {
          "bdata": "FvW8ot0d6L8W9byi3R3ovxb1vKLdHei/FvW8ot0d6L/x4MQ3VXXyv/HgxDdVdfK/8eDEN1V18r/x4MQ3VXXyvw==",
          "dtype": "f8"
         },
         "z": {
          "bdata": "mpmZmZmZ+b+amZmZmZn5v83MzMzMzARAzczMzMzMBEDNzMzMzMwEQM3MzMzMzARAmpmZmZmZ+b+amZmZmZn5vw==",
          "dtype": "f8"
         }
        },
        {
         "color": "red",
         "i": {
          "bdata": "AQICBAQGBgEDAAQE",
          "dtype": "i1"
         },
         "j": {
          "bdata": "AAEDAgUEBwYABwEG",
          "dtype": "i1"
         },
         "k": {
          "bdata": "AwMFBQcHAAAFBQIB",
          "dtype": "i1"
         },
         "name": "IfcColumn",
         "opacity": 0.6,
         "type": "mesh3d",
         "x": {
          "bdata": "g8dW6SahC0DpLb1PjQcOQOktvU+NBw5Ag8dW6SahC0DpLb1PjQcOQIPHVukmoQtA6S29T40HDkCDx1bpJqELQA==",
          "dtype": "f8"
         },
         "y": {
          "bdata": "svW8ot0d6L+y9byi3R3ov7L1vKLdHei/svW8ot0d6L8/4cQ3VXXyvz/hxDdVdfK/P+HEN1V18r8/4cQ3VXXyvw==",
          "dtype": "f8"
         },
         "z": {
          "bdata": "mpmZmZmZ+b+amZmZmZn5v83MzMzMzARAzczMzMzMBEDNzMzMzMwEQM3MzMzMzARAmpmZmZmZ+b+amZmZmZn5vw==",
          "dtype": "f8"
         }
        },
        {
         "color": "red",
         "i": {
          "bdata": "AQICBAQGBgEDAAQE",
          "dtype": "i1"
         },
         "j": {
          "bdata": "AAEDAgUEBwYABwEG",
          "dtype": "i1"
         },
         "k": {
          "bdata": "AwMFBQcHAAAFBQIB",
          "dtype": "i1"
         },
         "name": "IfcColumn",
         "opacity": 0.6,
         "type": "mesh3d",
         "x": {
          "bdata": "GuWI7XzbIUAa5YjtfFsiQBrliO18WyJAGuWI7XzbIUAa5YjtfFsiQBrliO182yFAGuWI7XxbIkAa5YjtfNshQA==",
          "dtype": "f8"
         },
         "y": {
          "bdata": "9C01s6riEED0LTWzquIQQPQtNbOq4hBA9C01s6riEEBPwtDMuysOQE/C0My7Kw5AT8LQzLsrDkBPwtDMuysOQA==",
          "dtype": "f8"
         },
         "z": {
          "bdata": "mpmZmZmZ+b+amZmZmZn5v83MzMzMzARAzczMzMzMBEDNzMzMzMwEQM3MzMzMzARAmpmZmZmZ+b+amZmZmZn5vw==",
          "dtype": "f8"
         }
        },
        {
         "color": "red",
         "i": {
          "bdata": "AQICBAQGBgEDAAQE",
          "dtype": "i1"
         },
         "j": {
          "bdata": "AAEDAgUEBwYABwEG",
          "dtype": "i1"
         },
         "k": {
          "bdata": "AwMFBQcHAAAFBQIB",
          "dtype": "i1"
         },
         "name": "IfcColumn",
         "opacity": 0.6,
         "type": "mesh3d",
         "x": {
          "bdata": "E+WI7XzbIUAT5YjtfFsiQBPliO18WyJAE+WI7XzbIUAT5YjtfFsiQBPliO182yFAE+WI7XxbIkAT5YjtfNshQA==",
          "dtype": "f8"
         },
         "y": {
          "bdata": "qxTTo4HeCsCrFNOjgd4KwKsU06OB3grAqxTTo4HeCsDfRwbXtBEOwN9HBte0EQ7A30cG17QRDsDfRwbXtBEOwA==",
          "dtype": "f8"
         },
         "z": {
          "bdata": "mpmZmZmZ+b+amZmZmZn5v83MzMzMzARAzczMzMzMBEDNzMzMzMwEQM3MzMzMzARAmpmZmZmZ+b+amZmZmZn5vw==",
          "dtype": "f8"
         }
        },
        {
         "color": "red",
         "i": {
          "bdata": "AQICBAQGBgEDAAQE",
          "dtype": "i1"
         },
         "j": {
          "bdata": "AAEDAgUEBwYABwEG",
          "dtype": "i1"
         },
         "k": {
          "bdata": "AwMFBQcHAAAFBQIB",
          "dtype": "i1"
         },
         "name": "IfcColumn",
         "opacity": 0.6,
         "type": "mesh3d",
         "x": {
          "bdata": "SBi8ILDOIUDisVW6SWgiQOKxVbpJaCJASBi8ILDOIUDisVW6SWgiQEgYvCCwziFA4rFVukloIkBIGLwgsM4hQA==",
          "dtype": "f8"
         },
         "y": {
          "bdata": "Uva8ot0d6L9S9ryi3R3ov1L2vKLdHei/Uva8ot0d6L+P4cQ3VXXyv4/hxDdVdfK/j+HEN1V18r+P4cQ3VXXyvw==",
          "dtype": "f8"
         },
         "z": {
          "bdata": "mpmZmZmZ+b+amZmZmZn5v83MzMzMzARAzczMzMzMBEDNzMzMzMwEQM3MzMzMzARAmpmZmZmZ+b+amZmZmZn5vw==",
          "dtype": "f8"
         }
        },
        {
         "color": "red",
         "i": {
          "bdata": "AQICBAQGBggICgoBAwAHBQQECAg=",
          "dtype": "i1"
         },
         "j": {
          "bdata": "AAEDAgUEBwYJCAsKAAsFCwEKBAo=",
          "dtype": "i1"
         },
         "k": {
          "bdata": "AwMFBQcHCQkLCwAABQUJCQIBBgQ=",
          "dtype": "i1"
         },
         "name": "IfcColumn",
         "opacity": 0.6,
         "type": "mesh3d",
         "x": {
          "bdata": "gUvvU+PBLECBS+9T48EsQIFL71PjwSxAgUvvU+PBLECGXcr3Uz8tQIZdyvdTPy1Ahl3K91M/LUCGXcr3Uz8tQIFL71PjQS1AgUvvU+NBLUCBS+9T40EtQIFL71PjQS1A",
          "dtype": "f8"
         },
         "y": {
          "bdata": "JcLQzLsrDkDfLTWzquIQQN8tNbOq4hBAJcLQzLsrDkDfLTWzquIQQCXC0My7Kw5A3y01s6riEEAlwtDMuysOQN8tNbOq4hBAJcLQzLsrDkDfLTWzquIQQCXC0My7Kw5A",
          "dtype": "f8"
         },
         "z": {
          "bdata": "m5mZmZmZ+b+bmZmZmZn5v87MzMzMzARAzszMzMzMBEDOzMzMzMwEQM7MzMzMzARAZ2ZmZmZmBkBnZmZmZmYGQGdmZmZmZgZAZ2ZmZmZmBkCbmZmZmZn5v5uZmZmZmfm/",
          "dtype": "f8"
         }
        },
        {
         "color": "red",
         "i": {
          "bdata": "AQICBAQGBggICgoBAwAHBQQECAg=",
          "dtype": "i1"
         },
         "j": {
          "bdata": "AAEDAgUEBwYJCAsKAAsFCwEKBAo=",
          "dtype": "i1"
         },
         "k": {
          "bdata": "AwMFBQcHCQkLCwAABQUJCQIBBgQ=",
          "dtype": "i1"
         },
         "name": "IfcColumn",
         "opacity": 0.6,
         "type": "mesh3d",
         "x": {
          "bdata": "ekvvU+PBLEB6S+9T48EsQHpL71PjwSxAekvvU+PBLEB/Xcr3Uz8tQH9dyvdTPy1Af13K91M/LUB/Xcr3Uz8tQHpL71PjQS1AekvvU+NBLUB6S+9T40EtQHpL71PjQS1A",
          "dtype": "f8"
         },
         "y": {
          "bdata": "BkgG17QRDsDTFNOjgd4KwNMU06OB3grABkgG17QRDsDTFNOjgd4KwAZIBte0EQ7A0xTTo4HeCsAGSAbXtBEOwNMU06OB3grABkgG17QRDsDTFNOjgd4KwAZIBte0EQ7A",
          "dtype": "f8"
         },
         "z": {
          "bdata": "m5mZmZmZ+b+bmZmZmZn5v87MzMzMzARAzszMzMzMBEDOzMzMzMwEQM7MzMzMzARAZ2ZmZmZmBkBnZmZmZmYGQGdmZmZmZgZAZ2ZmZmZmBkCbmZmZmZn5v5uZmZmZmfm/",
          "dtype": "f8"
         }
        },
        {
         "color": "red",
         "i": {
          "bdata": "AQICBAQGBgEDAAQE",
          "dtype": "i1"
         },
         "j": {
          "bdata": "AAEDAgUEBwYABwEG",
          "dtype": "i1"
         },
         "k": {
          "bdata": "AwMFBQcHAAAFBQIB",
          "dtype": "i1"
         },
         "name": "IfcColumn",
         "opacity": 0.6,
         "type": "mesh3d",
         "x": {
          "bdata": "IbwsXrqlLEC7Vcb3Uz8tQLtVxvdTPy1AIbwsXrqlLEC7Vcb3Uz8tQCG8LF66pSxAu1XG91M/LUAhvCxeuqUsQA==",
          "dtype": "f8"
         },
         "y": {
          "bdata": "8va8ot0d6L/y9ryi3R3ov/L2vKLdHei/8va8ot0d6L/f4cQ3VXXyv9/hxDdVdfK/3+HEN1V18r/f4cQ3VXXyvw==",
          "dtype": "f8"
         },
         "z": {
          "bdata": "mpmZmZmZ+b+amZmZmZn5v83MzMzMzARAzczMzMzMBEDNzMzMzMwEQM3MzMzMzARAmpmZmZmZ+b+amZmZmZn5vw==",
          "dtype": "f8"
         }
        },
        {
         "color": "red",
         "i": {
          "bdata": "AQICBAQGBgEDAAQE",
          "dtype": "i1"
         },
         "j": {
          "bdata": "AAEDAgUEBwYABwEG",
          "dtype": "i1"
         },
         "k": {
          "bdata": "AwMFBQcHAAAFBQIB",
          "dtype": "i1"
         },
         "name": "IfcColumn",
         "opacity": 0.6,
         "type": "mesh3d",
         "x": {
          "bdata": "qz0f+n6K/7+sPR/6for7v6w9H/p+ivu/qz0f+n6K/7+sPR/6for7v6s9H/p+iv+/rD0f+n6K+7+rPR/6for/vw==",
          "dtype": "f8"
         },
         "y": {
          "bdata": "HS41s6riEEAdLjWzquIQQB0uNbOq4hBAHS41s6riEEChwtDMuysOQKHC0My7Kw5AoMLQzLsrDkCgwtDMuysOQA==",
          "dtype": "f8"
         },
         "z": {
          "bdata": "ZmZmZmZmBkBmZmZmZmYGQJmZmZmZmRVAmZmZmZmZFUCZmZmZmZkVQJmZmZmZmRVAZmZmZmZmBkBmZmZmZmYGQA==",
          "dtype": "f8"
         }
        },
        {
         "color": "red",
         "i": {
          "bdata": "AQICBAQGBggIAQAJAwIEBA==",
          "dtype": "i1"
         },
         "j": {
          "bdata": "AAEDAgUEBwYJCAkHCQgGCA==",
          "dtype": "i1"
         },
         "k": {
          "bdata": "AwMFBQcHCQkAAAMFBQEIAg==",
          "dtype": "i1"
         },
         "name": "IfcColumn",
         "opacity": 0.6,
         "type": "mesh3d",
         "x": {
          "bdata": "yfqJHFrUC0DJ+okcWtQNQMn6iRxa1A1AyfqJHFrUC0DJ+okcWtQNQMn6iRxa1AtAyfqJHFrUDUDJ+okcWtQLQMn6iRxa1A1AyfqJHFrUC0A=",
          "dtype": "f8"
         },
         "y": {
          "bdata": "CC41s6riEEAILjWzquIQQAguNbOq4hBACC41s6riEEB4wtDMuysOQHjC0My7Kw5Ad8LQzLsrDkB3wtDMuysOQDiPnZmI+A5AOI+dmYj4DkA=",
          "dtype": "f8"
         },
         "z": {
          "bdata": "ZmZmZmZmBkBmZmZmZmYGQJqZmZmZmRVAmpmZmZmZFUCamZmZmZkVQJqZmZmZmRVAZmZmZmZmBkBmZmZmZmYGQGZmZmZmZgZAZmZmZmZmBkA=",
          "dtype": "f8"
         }
        },
        {
         "color": "red",
         "i": {
          "bdata": "AQICBAQGBgEDAAQE",
          "dtype": "i1"
         },
         "j": {
          "bdata": "AAEDAgUEBwYABwEG",
          "dtype": "i1"
         },
         "k": {
          "bdata": "AwMFBQcHAAAFBQIB",
          "dtype": "i1"
         },
         "name": "IfcColumn",
         "opacity": 0.6,
         "type": "mesh3d",
         "x": {
          "bdata": "rPqJHFrUC0Cs+okcWtQNQKz6iRxa1A1ArPqJHFrUC0Cs+okcWtQNQKz6iRxa1AtArPqJHFrUDUCs+okcWtQLQA==",
          "dtype": "f8"
         },
         "y": {
          "bdata": "gxTTo4HeCsCDFNOjgd4KwIMU06OB3grAgxTTo4HeCsC3RwbXtBEOwLdHBte0EQ7At0cG17QRDsC3RwbXtBEOwA==",
          "dtype": "f8"
         },
         "z": {
          "bdata": "ZmZmZmZmBkBmZmZmZmYGQJmZmZmZmRVAmZmZmZmZFUCZmZmZmZkVQJmZmZmZmRVAZmZmZmZmBkBmZmZmZmYGQA==",
          "dtype": "f8"
         }
        },
        {
         "color": "red",
         "i": {
          "bdata": "AQICBAQGBgEDAAQE",
          "dtype": "i1"
         },
         "j": {
          "bdata": "AAEDAgUEBwYABwEG",
          "dtype": "i1"
         },
         "k": {
          "bdata": "AwMFBQcHAAAFBQIB",
          "dtype": "i1"
         },
         "name": "IfcColumn",
         "opacity": 0.6,
         "type": "mesh3d",
         "x": {
          "bdata": "2z0f+n6K/7/cPR/6for7v9w9H/p+ivu/2z0f+n6K/7/cPR/6for7v9s9H/p+iv+/3D0f+n6K+7/bPR/6for/vw==",
          "dtype": "f8"
         },
         "y": {
          "bdata": "KeGfcE6rCsAp4Z9wTqsKwCnhn3BOqwrAKeGfcE6rCsDBejkK6EQOwMF6OQroRA7Awno5CuhEDsDCejkK6EQOwA==",
          "dtype": "f8"
         },
         "z": {
          "bdata": "ZmZmZmZmBkBmZmZmZmYGQJmZmZmZmRVAmZmZmZmZFUCZmZmZmZkVQJmZmZmZmRVAZmZmZmZmBkBmZmZmZmYGQA==",
          "dtype": "f8"
         }
        },
        {
         "color": "red",
         "i": {
          "bdata": "AQICBAQGBgEDAAQE",
          "dtype": "i1"
         },
         "j": {
          "bdata": "AAEDAgUEBwYABwEG",
          "dtype": "i1"
         },
         "k": {
          "bdata": "AwMFBQcHAAAFBQIB",
          "dtype": "i1"
         },
         "name": "IfcColumn",
         "opacity": 0.6,
         "type": "mesh3d",
         "x": {
          "bdata": "qj0f+n6K/7/dcFItsr36v91wUi2yvfq/qj0f+n6K/7/dcFItsr36v6o9H/p+iv+/3XBSLbK9+r+qPR/6for/vw==",
          "dtype": "f8"
         },
         "y": {
          "bdata": "FvW8ot0d6L8W9byi3R3ovxb1vKLdHei/FvW8ot0d6L/x4MQ3VXXyv/HgxDdVdfK/8eDEN1V18r/x4MQ3VXXyvw==",
          "dtype": "f8"
         },
         "z": {
          "bdata": "ZmZmZmZmBkBmZmZmZmYGQJmZmZmZmRVAmZmZmZmZFUCZmZmZmZkVQJmZmZmZmRVAZmZmZmZmBkBmZmZmZmYGQA==",
          "dtype": "f8"
         }
        },
        {
         "color": "red",
         "i": {
          "bdata": "AQICBAQGBgEDAAQE",
          "dtype": "i1"
         },
         "j": {
          "bdata": "AAEDAgUEBwYABwEG",
          "dtype": "i1"
         },
         "k": {
          "bdata": "AwMFBQcHAAAFBQIB",
          "dtype": "i1"
         },
         "name": "IfcColumn",
         "opacity": 0.6,
         "type": "mesh3d",
         "x": {
          "bdata": "g8dW6SahC0DpLb1PjQcOQOktvU+NBw5Ag8dW6SahC0DpLb1PjQcOQIPHVukmoQtA6S29T40HDkCDx1bpJqELQA==",
          "dtype": "f8"
         },
         "y": {
          "bdata": "svW8ot0d6L+y9byi3R3ov7L1vKLdHei/svW8ot0d6L8/4cQ3VXXyvz/hxDdVdfK/P+HEN1V18r8/4cQ3VXXyvw==",
          "dtype": "f8"
         },
         "z": {
          "bdata": "ZmZmZmZmBkBmZmZmZmYGQJmZmZmZmRVAmZmZmZmZFUCZmZmZmZkVQJmZmZmZmRVAZmZmZmZmBkBmZmZmZmYGQA==",
          "dtype": "f8"
         }
        },
        {
         "color": "red",
         "i": {
          "bdata": "AQICBAQGBgEDAAQE",
          "dtype": "i1"
         },
         "j": {
          "bdata": "AAEDAgUEBwYABwEG",
          "dtype": "i1"
         },
         "k": {
          "bdata": "AwMFBQcHAAAFBQIB",
          "dtype": "i1"
         },
         "name": "IfcColumn",
         "opacity": 0.6,
         "type": "mesh3d",
         "x": {
          "bdata": "GuWI7XzbIUAa5YjtfFsiQBrliO18WyJAGuWI7XzbIUAa5YjtfFsiQBrliO182yFAGuWI7XxbIkAa5YjtfNshQA==",
          "dtype": "f8"
         },
         "y": {
          "bdata": "9C01s6riEED0LTWzquIQQPQtNbOq4hBA9C01s6riEEBPwtDMuysOQE/C0My7Kw5AT8LQzLsrDkBPwtDMuysOQA==",
          "dtype": "f8"
         },
         "z": {
          "bdata": "ZmZmZmZmBkBmZmZmZmYGQJmZmZmZmRVAmZmZmZmZFUCZmZmZmZkVQJmZmZmZmRVAZmZmZmZmBkBmZmZmZmYGQA==",
          "dtype": "f8"
         }
        },
        {
         "color": "red",
         "i": {
          "bdata": "AQICBAQGBgEDAAQE",
          "dtype": "i1"
         },
         "j": {
          "bdata": "AAEDAgUEBwYABwEG",
          "dtype": "i1"
         },
         "k": {
          "bdata": "AwMFBQcHAAAFBQIB",
          "dtype": "i1"
         },
         "name": "IfcColumn",
         "opacity": 0.6,
         "type": "mesh3d",
         "x": {
          "bdata": "E+WI7XzbIUAT5YjtfFsiQBPliO18WyJAE+WI7XzbIUAT5YjtfFsiQBPliO182yFAE+WI7XxbIkAT5YjtfNshQA==",
          "dtype": "f8"
         },
         "y": {
          "bdata": "qxTTo4HeCsCrFNOjgd4KwKsU06OB3grAqxTTo4HeCsDfRwbXtBEOwN9HBte0EQ7A30cG17QRDsDfRwbXtBEOwA==",
          "dtype": "f8"
         },
         "z": {
          "bdata": "ZmZmZmZmBkBmZmZmZmYGQJmZmZmZmRVAmZmZmZmZFUCZmZmZmZkVQJmZmZmZmRVAZmZmZmZmBkBmZmZmZmYGQA==",
          "dtype": "f8"
         }
        },
        {
         "color": "red",
         "i": {
          "bdata": "AQICBAQGBgEDAAQE",
          "dtype": "i1"
         },
         "j": {
          "bdata": "AAEDAgUEBwYABwEG",
          "dtype": "i1"
         },
         "k": {
          "bdata": "AwMFBQcHAAAFBQIB",
          "dtype": "i1"
         },
         "name": "IfcColumn",
         "opacity": 0.6,
         "type": "mesh3d",
         "x": {
          "bdata": "SBi8ILDOIUDisVW6SWgiQOKxVbpJaCJASBi8ILDOIUDisVW6SWgiQEgYvCCwziFA4rFVukloIkBIGLwgsM4hQA==",
          "dtype": "f8"
         },
         "y": {
          "bdata": "Uva8ot0d6L9S9ryi3R3ov1L2vKLdHei/Uva8ot0d6L+P4cQ3VXXyv4/hxDdVdfK/j+HEN1V18r+P4cQ3VXXyvw==",
          "dtype": "f8"
         },
         "z": {
          "bdata": "ZmZmZmZmBkBmZmZmZmYGQJmZmZmZmRVAmZmZmZmZFUCZmZmZmZkVQJmZmZmZmRVAZmZmZmZmBkBmZmZmZmYGQA==",
          "dtype": "f8"
         }
        },
        {
         "color": "red",
         "i": {
          "bdata": "AQICBAQGBggICgoBAwAHBQQECAg=",
          "dtype": "i1"
         },
         "j": {
          "bdata": "AAEDAgUEBwYJCAsKAAsFCwEKBAo=",
          "dtype": "i1"
         },
         "k": {
          "bdata": "AwMFBQcHCQkLCwAABQUJCQIBBgQ=",
          "dtype": "i1"
         },
         "name": "IfcColumn",
         "opacity": 0.6,
         "type": "mesh3d",
         "x": {
          "bdata": "gUvvU+PBLECBS+9T48EsQIFL71PjwSxAgUvvU+PBLECGXcr3Uz8tQIZdyvdTPy1Ahl3K91M/LUCGXcr3Uz8tQIFL71PjQS1AgUvvU+NBLUCBS+9T40EtQIFL71PjQS1A",
          "dtype": "f8"
         },
         "y": {
          "bdata": "JcLQzLsrDkDfLTWzquIQQN8tNbOq4hBAJcLQzLsrDkDfLTWzquIQQCXC0My7Kw5A3y01s6riEEAlwtDMuysOQN8tNbOq4hBAJcLQzLsrDkDfLTWzquIQQCXC0My7Kw5A",
          "dtype": "f8"
         },
         "z": {
          "bdata": "Z2ZmZmZmBkBnZmZmZmYGQJqZmZmZmRVAmpmZmZmZFUCamZmZmZkVQJqZmZmZmRVAZ2ZmZmZmFkBnZmZmZmYWQGdmZmZmZhZAZ2ZmZmZmFkBnZmZmZmYGQGdmZmZmZgZA",
          "dtype": "f8"
         }
        },
        {
         "color": "red",
         "i": {
          "bdata": "AQICBAQGBggICgoBAwAHBQQECAg=",
          "dtype": "i1"
         },
         "j": {
          "bdata": "AAEDAgUEBwYJCAsKAAsFCwEKBAo=",
          "dtype": "i1"
         },
         "k": {
          "bdata": "AwMFBQcHCQkLCwAABQUJCQIBBgQ=",
          "dtype": "i1"
         },
         "name": "IfcColumn",
         "opacity": 0.6,
         "type": "mesh3d",
         "x": {
          "bdata": "ekvvU+PBLEB6S+9T48EsQHpL71PjwSxAekvvU+PBLEB/Xcr3Uz8tQH9dyvdTPy1Af13K91M/LUB/Xcr3Uz8tQHpL71PjQS1AekvvU+NBLUB6S+9T40EtQHpL71PjQS1A",
          "dtype": "f8"
         },
         "y": {
          "bdata": "BkgG17QRDsDTFNOjgd4KwNMU06OB3grABkgG17QRDsDTFNOjgd4KwAZIBte0EQ7A0xTTo4HeCsAGSAbXtBEOwNMU06OB3grABkgG17QRDsDTFNOjgd4KwAZIBte0EQ7A",
          "dtype": "f8"
         },
         "z": {
          "bdata": "Z2ZmZmZmBkBnZmZmZmYGQJqZmZmZmRVAmpmZmZmZFUCamZmZmZkVQJqZmZmZmRVAZ2ZmZmZmFkBnZmZmZmYWQGdmZmZmZhZAZ2ZmZmZmFkBnZmZmZmYGQGdmZmZmZgZA",
          "dtype": "f8"
         }
        },
        {
         "color": "red",
         "i": {
          "bdata": "AQICBAQGBgEDAAQE",
          "dtype": "i1"
         },
         "j": {
          "bdata": "AAEDAgUEBwYABwEG",
          "dtype": "i1"
         },
         "k": {
          "bdata": "AwMFBQcHAAAFBQIB",
          "dtype": "i1"
         },
         "name": "IfcColumn",
         "opacity": 0.6,
         "type": "mesh3d",
         "x": {
          "bdata": "IbwsXrqlLEC7Vcb3Uz8tQLtVxvdTPy1AIbwsXrqlLEC7Vcb3Uz8tQCG8LF66pSxAu1XG91M/LUAhvCxeuqUsQA==",
          "dtype": "f8"
         },
         "y": {
          "bdata": "8va8ot0d6L/y9ryi3R3ov/L2vKLdHei/8va8ot0d6L/f4cQ3VXXyv9/hxDdVdfK/3+HEN1V18r/f4cQ3VXXyvw==",
          "dtype": "f8"
         },
         "z": {
          "bdata": "ZmZmZmZmBkBmZmZmZmYGQJmZmZmZmRVAmZmZmZmZFUCZmZmZmZkVQJmZmZmZmRVAZmZmZmZmBkBmZmZmZmYGQA==",
          "dtype": "f8"
         }
        },
        {
         "color": "green",
         "i": {
          "bdata": "AQICBAQGBggICgoMDA4OEBASEhQUFhYYGBoaHBweHiAgIiIkJCYmARsfISMfGR0xJTIzMi0lFQ8sKQAvMy4qJwMNKyoHAysxLSwpKDQ1NTY2Nzc0ODk5Ojo7Ozg8PT0+Pj8/PBw8JCQkPj4+PxQODjo6EBA2NgIMDAwMNzcGBgYIBAQcJDUkJA==",
          "dtype": "i1"
         },
         "j": {
          "bdata": "AAEDAgUEBwYJCAsKDQwPDhEQExIVFBcWGRgbGh0cHx4hICMiJSQnJhkxHyEwFxkdMBcyFSUzExUvLCcuDzMvKCcLKg0LKwcfJycnJyg0KTUqNis3LDgtOS46LzswPDE9Mj4zPxg9HiA8FhgcPBY+FCQ/EhQ7OCY6Dj87NCYKNgwKBjceJiY1OA==",
          "dtype": "i1"
         },
         "k": {
          "bdata": "AwMFBQcHCQkLCw0NDw8RERMTFRUXFxkZGxsdHR8fISEjIyUlJycAAB0wJSUlMjIyMxUPDy4uEREqKgMNDQ0NKysHBwcJBQUdJS0sKSkpKiorKygoLS0uLi8vLCwxMTIyMzMwMBoeICIeGBw9JD4/PjkkFA44NQE7Pzo2JgIMNzYGNwI9NTQ4OQ==",
          "dtype": "i1"
         },
         "name": "IfcSlab",
         "opacity": 0.6,
         "type": "mesh3d",
         "x": {
          "bdata": "NLHCmGzH8D80scKYbMfwP+A9H/p+iv+/4D0f+n6K/7+gPR/6for/v6A9H/p+iv+/kD7//KVb7j+QPv/8pVvuP5g+//ylW+4/mD7//KVb7j8bqWAaBA4YQBupYBoEDhhAGqlgGgQOGEAaqWAaBA4YQG7PRLtJ6CFAbs9Eu0noIUBvz0S7SeghQG/PRLtJ6CFAcq+CFtkqJ0Byr4IW2SonQHKvghbZKidAcq+CFtkqJ0CGXcr3Uz8tQIZdyvdTPy1Afl3K91M/LUB+Xcr3Uz8tQFaSdz81+iZAVpJ3PzX6JkBXknc/NfomQFeSdz81+iZAcaAD4FprIkBxoAPgWmsiQHCgA+BaayJAcKAD4FprIkAiyhHb+bYXQCLKEdv5thdAJMoR2/m2F0AkyhHb+bYXQDyxwphsx/A/PLHCmGzH8D9/Ase3r3MCQKv6iRxa1AtAuPqJHFrUC0CCAse3r3MCQLX6iRxa1A1AcHmmQIKaE0B3eaZAgpoTQLj6iRxa1A1AFeWI7XxbIkAho7mGp7MkQCSjuYansyRAFeWI7XxbIkB/Ase3r3MCQKv6iRxa1AtAuPqJHFrUC0CCAse3r3MCQLX6iRxa1A1AcHmmQIKaE0B3eaZAgpoTQLj6iRxa1A1AFeWI7XxbIkAho7mGp7MkQCSjuYansyRAFeWI7XxbIkA=",
          "dtype": "f8"
         },
         "y": {
          "bdata": "YiQQ+EFjFEBiJBD4QWMUQGIkEPhBYxRAYiQQ+EFjFEDMa9cSfDkPwMxr1xJ8OQ/AzGvXEnw5D8DMa9cSfDkPwGeY09SKaRLAZ5jT1IppEsBnmNPUimkSwGeY09SKaRLAshvKqy4xD8CyG8qrLjEPwLIbyqsuMQ/AshvKqy4xD8Drre79D1USwOut7v0PVRLA663u/Q9VEsDrre79D1USwGge0yR8OQ/AaB7TJHw5D8BmHtMkfDkPwGYe0yR8OQ/AvqvG7UFjFEC+q8btQWMUQL2rxu1BYxRAvavG7UFjFEAABW3sQWMQQAAFbexBYxBAAAVt7EFjEEAABW3sQWMQQJbHzkxEfBRAlsfOTER8FECXx85MRHwUQJfHzkxEfBRA/S01s6riEED9LTWzquIQQP0tNbOq4hBA/S01s6riEEAtj52ZiPgOQC2PnZmI+A5AlJzpW5/Tz7+MnOlbn9PPvyiPnZmI+A5AK4+dmYj4DkDdnOlbn9PPv9Wc6Vuf08+/FY+dmYj4DkAVj52ZiPgOQCSe6Vuf08+/HJ7pW5/Tz78tj52ZiPgOQC2PnZmI+A5AlJzpW5/Tz7+MnOlbn9PPvyiPnZmI+A5AK4+dmYj4DkDdnOlbn9PPv9Wc6Vuf08+/FY+dmYj4DkAVj52ZiPgOQCSe6Vuf08+/HJ7pW5/Tz78=",
          "dtype": "f8"
         },
         "z": {
          "bdata": "zczMzMzMBEBnZmZmZmYGQGdmZmZmZgZAzczMzMzMBEBnZmZmZmYGQM3MzMzMzARAZ2ZmZmZmBkDNzMzMzMwEQGdmZmZmZgZAzczMzMzMBEBnZmZmZmYGQM3MzMzMzARAZ2ZmZmZmBkDNzMzMzMwEQGdmZmZmZgZAzczMzMzMBEBnZmZmZmYGQM3MzMzMzARAZ2ZmZmZmBkDNzMzMzMwEQGdmZmZmZgZAzczMzMzMBEBnZmZmZmYGQM3MzMzMzARAZ2ZmZmZmBkDNzMzMzMwEQGdmZmZmZgZAzczMzMzMBEBnZmZmZmYGQM3MzMzMzARAZ2ZmZmZmBkDNzMzMzMwEQGdmZmZmZgZAzczMzMzMBEBnZmZmZmYGQM3MzMzMzARAZ2ZmZmZmBkDNzMzMzMwEQGdmZmZmZgZAzczMzMzMBEDNzMzMzMwEQM3MzMzMzARAzczMzMzMBEDNzMzMzMwEQM3MzMzMzARAzczMzMzMBEDNzMzMzMwEQM3MzMzMzARAzczMzMzMBEDNzMzMzMwEQM3MzMzMzARAzczMzMzMBEBnZmZmZmYGQGdmZmZmZgZAZ2ZmZmZmBkBnZmZmZmYGQGdmZmZmZgZAZ2ZmZmZmBkBnZmZmZmYGQGdmZmZmZgZAZ2ZmZmZmBkBnZmZmZmYGQGdmZmZmZgZAZ2ZmZmZmBkA=",
          "dtype": "f8"
         }
        },
        {
         "color": "green",
         "i": {
          "bdata": "AQICBAQGBggICgoMDA4OEBASEhQUFhYYGBoaHBweHiAgIiIkJCYmAQMFCQULEQcFDSUfDQ8dDRcTDwQmCiQMEh4eHiAgHBYWFhgUFA==",
          "dtype": "i1"
         },
         "j": {
          "bdata": "AAEDAgUEBwYJCAsKDQwPDhEQExIVFBcWGRgbGh0cHx4hICMiJSQnJgAABycHDwUlByMlHw0bHRsPFwEBBiYGDgQkBiIkHgwaHBoOFg==",
          "dtype": "i1"
         },
         "k": {
          "bdata": "AwMFBQcHCQkLCw0NDw8RERMTFRUXFxkZGxsdHR8fISEjIyUlJycAAAUnCyUNEx8fHyEhHRcXFxkVFQIECAQKEAYEDCQeDA4cDBYSDg==",
          "dtype": "i1"
         },
         "name": "IfcSlab",
         "opacity": 0.6,
         "type": "mesh3d",
         "x": {
          "bdata": "7D0f+n6K/7/sPR/6for/vzSxwphsx/A/NLHCmGzH8D84scKYbMfwPzixwphsx/A/I8oR2/m2F0AjyhHb+bYXQCHKEdv5thdAIcoR2/m2F0BwoAPgWmsiQHCgA+BaayJAcaAD4FprIkBxoAPgWmsiQFeSdz81+iZAV5J3PzX6JkBWknc/NfomQFaSdz81+iZAf13K91M/LUB/Xcr3Uz8tQIZdyvdTPy1Ahl3K91M/LUByr4IW2SonQHKvghbZKidAcq+CFtkqJ0Byr4IW2SonQG7PRLtJ6CFAbs9Eu0noIUBuz0S7SeghQG7PRLtJ6CFAGalgGgQOGEAZqWAaBA4YQBupYBoEDhhAG6lgGgQOGECYPv/8pVvuP5g+//ylW+4/gD7//KVb7j+APv/8pVvuP6w9H/p+iv+/rD0f+n6K/78=",
          "dtype": "f8"
         },
         "y": {
          "bdata": "YSQQ+EFjFEBhJBD4QWMUQGEkEPhBYxRAYSQQ+EFjFED9LTWzquIQQP0tNbOq4hBA/C01s6riEED8LTWzquIQQJbHzkxEfBRAlsfOTER8FECVx85MRHwUQJXHzkxEfBRA/wRt7EFjEED/BG3sQWMQQP8EbexBYxBA/wRt7EFjEEC9q8btQWMUQL2rxu1BYxRAvavG7UFjFEC9q8btQWMUQGce0yR8OQ/AZx7TJHw5D8BnHtMkfDkPwGce0yR8OQ/A7K3u/Q9VEsDsre79D1USwOyt7v0PVRLA7K3u/Q9VEsCzG8qrLjEPwLMbyqsuMQ/AsxvKqy4xD8CzG8qrLjEPwGiY09SKaRLAaJjT1IppEsBomNPUimkSwGiY09SKaRLAzWvXEnw5D8DNa9cSfDkPwMtr1xJ8OQ/Ay2vXEnw5D8A=",
          "dtype": "f8"
         },
         "z": {
          "bdata": "Z2ZmZmZmFkCamZmZmZkVQJqZmZmZmRVAZ2ZmZmZmFkCamZmZmZkVQGdmZmZmZhZAmpmZmZmZFUBnZmZmZmYWQJqZmZmZmRVAZ2ZmZmZmFkCamZmZmZkVQGdmZmZmZhZAmpmZmZmZFUBnZmZmZmYWQJqZmZmZmRVAZ2ZmZmZmFkCamZmZmZkVQGdmZmZmZhZAmpmZmZmZFUBnZmZmZmYWQJqZmZmZmRVAZ2ZmZmZmFkCamZmZmZkVQGdmZmZmZhZAmpmZmZmZFUBnZmZmZmYWQJqZmZmZmRVAZ2ZmZmZmFkCamZmZmZkVQGdmZmZmZhZAmpmZmZmZFUBnZmZmZmYWQJqZmZmZmRVAZ2ZmZmZmFkCamZmZmZkVQGdmZmZmZhZAmpmZmZmZFUBnZmZmZmYWQJqZmZmZmRVAZ2ZmZmZmFkA=",
          "dtype": "f8"
         }
        },
        {
         "color": "gray",
         "i": {
          "bdata": "AQICBAQGBgEDAAQE",
          "dtype": "i1"
         },
         "j": {
          "bdata": "AAEDAgUEBwYABwEG",
          "dtype": "i1"
         },
         "k": {
          "bdata": "AwMFBQcHAAAFBQIB",
          "dtype": "i1"
         },
         "name": "IfcFooting",
         "opacity": 0.6,
         "type": "mesh3d",
         "x": {
          "bdata": "oj0f+n6K8b+iPR/6forxv9CeD30/xQTA0J4PfT/FBMDQng99P8UEwNCeD30/xQTAoj0f+n6K8b+iPR/6forxvw==",
          "dtype": "f8"
         },
         "y": {
          "bdata": "oMfOTET8EkCgx85MRPwSQKDHzkxE/BJAoMfOTET8EkBBj52ZiPgJQEGPnZmI+AlAQY+dmYj4CUBBj52ZiPgJQA==",
          "dtype": "f8"
         },
         "z": {
          "bdata": "Z2ZmZmZmAMCbmZmZmZn5v5uZmZmZmfm/Z2ZmZmZmAMCbmZmZmZn5v2dmZmZmZgDAm5mZmZmZ+b9nZmZmZmYAwA==",
          "dtype": "f8"
         }
        },
        {
         "color": "gray",
         "i": {
          "bdata": "AQICBAQGBgEDAAQE",
          "dtype": "i1"
         },
         "j": {
          "bdata": "AAEDAgUEBwYABwEG",
          "dtype": "i1"
         },
         "k": {
          "bdata": "AwMFBQcHAAAFBQIB",
          "dtype": "i1"
         },
         "name": "IfcFooting",
         "opacity": 0.6,
         "type": "mesh3d",
         "x": {
          "bdata": "aP1EDi1qEUBo/UQOLWoRQND6iRxa1AZA0PqJHFrUBkDQ+okcWtQGQND6iRxa1AZAaP1EDi1qEUBo/UQOLWoRQA==",
          "dtype": "f8"
         },
         "y": {
          "bdata": "oMfOTET8EkCgx85MRPwSQKDHzkxE/BJAoMfOTET8EkBBj52ZiPgJQEGPnZmI+AlAQY+dmYj4CUBBj52ZiPgJQA==",
          "dtype": "f8"
         },
         "z": {
          "bdata": "Z2ZmZmZmAMCbmZmZmZn5v5uZmZmZmfm/Z2ZmZmZmAMCbmZmZmZn5v2dmZmZmZgDAm5mZmZmZ+b9nZmZmZmYAwA==",
          "dtype": "f8"
         }
        },
        {
         "color": "gray",
         "i": {
          "bdata": "AQICBAQGBgEDAAQE",
          "dtype": "i1"
         },
         "j": {
          "bdata": "AAEDAgUEBwYABwEG",
          "dtype": "i1"
         },
         "k": {
          "bdata": "AwMFBQcHAAAFBQIB",
          "dtype": "i1"
         },
         "name": "IfcFooting",
         "opacity": 0.6,
         "type": "mesh3d",
         "x": {
          "bdata": "G+WI7XybI0Ab5YjtfJsjQBvliO18myBAG+WI7XybIEAb5YjtfJsgQBvliO18myBAG+WI7XybI0Ab5YjtfJsjQA==",
          "dtype": "f8"
         },
         "y": {
          "bdata": "oMfOTET8EkCgx85MRPwSQKDHzkxE/BJAoMfOTET8EkBBj52ZiPgJQEGPnZmI+AlAQY+dmYj4CUBBj52ZiPgJQA==",
          "dtype": "f8"
         },
         "z": {
          "bdata": "Z2ZmZmZmAMCbmZmZmZn5v5uZmZmZmfm/Z2ZmZmZmAMCbmZmZmZn5v2dmZmZmZgDAm5mZmZmZ+b9nZmZmZmYAwA==",
          "dtype": "f8"
         }
        },
        {
         "color": "gray",
         "i": {
          "bdata": "AQICBAQGBgEDAAQE",
          "dtype": "i1"
         },
         "j": {
          "bdata": "AAEDAgUEBwYABwEG",
          "dtype": "i1"
         },
         "k": {
          "bdata": "AwMFBQcHAAAFBQIB",
          "dtype": "i1"
         },
         "name": "IfcFooting",
         "opacity": 0.6,
         "type": "mesh3d",
         "x": {
          "bdata": "gkvvU+OBLkCCS+9T44EuQIJL71PjgStAgkvvU+OBK0CCS+9T44ErQIJL71PjgStAgkvvU+OBLkCCS+9T44EuQA==",
          "dtype": "f8"
         },
         "y": {
          "bdata": "oMfOTET8EkCgx85MRPwSQKDHzkxE/BJAoMfOTET8EkBBj52ZiPgJQEGPnZmI+AlAQY+dmYj4CUBBj52ZiPgJQA==",
          "dtype": "f8"
         },
         "z": {
          "bdata": "Z2ZmZmZmAMCbmZmZmZn5v5uZmZmZmfm/Z2ZmZmZmAMCbmZmZmZn5v2dmZmZmZgDAm5mZmZmZ+b9nZmZmZmYAwA==",
          "dtype": "f8"
         }
        },
        {
         "color": "gray",
         "i": {
          "bdata": "AQICBAQGBgEDAAQE",
          "dtype": "i1"
         },
         "j": {
          "bdata": "AAEDAgUEBwYABwEG",
          "dtype": "i1"
         },
         "k": {
          "bdata": "AwMFBQcHAAAFBQIB",
          "dtype": "i1"
         },
         "name": "IfcFooting",
         "opacity": 0.6,
         "type": "mesh3d",
         "x": {
          "bdata": "ONe4kxgk8b8417iTGCTxv5tr3EkMkgTAm2vcSQySBMCba9xJDJIEwJtr3EkMkgTAONe4kxgk8b8417iTGCTxvw==",
          "dtype": "f8"
         },
         "y": {
          "bdata": "vHCNJBARyr+8cI0kEBHKv7xwjSQQEcq/vHCNJBARyr8WrpEEIkL7vxaukQQiQvu/Fq6RBCJC+78WrpEEIkL7vw==",
          "dtype": "f8"
         },
         "z": {
          "bdata": "Z2ZmZmZmAMCbmZmZmZn5v5uZmZmZmfm/Z2ZmZmZmAMCbmZmZmZn5v2dmZmZmZgDAm5mZmZmZ+b9nZmZmZmYAwA==",
          "dtype": "f8"
         }
        },
        {
         "color": "gray",
         "i": {
          "bdata": "AQICBAQGBgEDAAQE",
          "dtype": "i1"
         },
         "j": {
          "bdata": "AAEDAgUEBwYABwEG",
          "dtype": "i1"
         },
         "k": {
          "bdata": "AwMFBQcHAAAFBQIB",
          "dtype": "i1"
         },
         "name": "IfcFooting",
         "opacity": 0.6,
         "type": "mesh3d",
         "x": {
          "bdata": "Xv1EDi1qEUBe/UQOLWoRQLz6iRxa1AZAvPqJHFrUBkC8+okcWtQGQLz6iRxa1AZAXv1EDi1qEUBe/UQOLWoRQA==",
          "dtype": "f8"
         },
         "y": {
          "bdata": "vHCNJBARyr+8cI0kEBHKv7xwjSQQEcq/vHCNJBARyr8WrpEEIkL7vxaukQQiQvu/Fq6RBCJC+78WrpEEIkL7vw==",
          "dtype": "f8"
         },
         "z": {
          "bdata": "Z2ZmZmZmAMCbmZmZmZn5v5uZmZmZmfm/Z2ZmZmZmAMCbmZmZmZn5v2dmZmZmZgDAm5mZmZmZ+b9nZmZmZmYAwA==",
          "dtype": "f8"
         }
        },
        {
         "color": "gray",
         "i": {
          "bdata": "AQICBAQGBgEDAAQE",
          "dtype": "i1"
         },
         "j": {
          "bdata": "AAEDAgUEBwYABwEG",
          "dtype": "i1"
         },
         "k": {
          "bdata": "AwMFBQcHAAAFBQIB",
          "dtype": "i1"
         },
         "name": "IfcFooting",
         "opacity": 0.6,
         "type": "mesh3d",
         "x": {
          "bdata": "FuWI7XybI0AW5YjtfJsjQBbliO18myBAFuWI7XybIEAW5YjtfJsgQBbliO18myBAFuWI7XybI0AW5YjtfJsjQA==",
          "dtype": "f8"
         },
         "y": {
          "bdata": "vHCNJBARyr+8cI0kEBHKv7xwjSQQEcq/vHCNJBARyr8WrpEEIkL7vxaukQQiQvu/Fq6RBCJC+78WrpEEIkL7vw==",
          "dtype": "f8"
         },
         "z": {
          "bdata": "Z2ZmZmZmAMCbmZmZmZn5v5uZmZmZmfm/Z2ZmZmZmAMCbmZmZmZn5v2dmZmZmZgDAm5mZmZmZ+b9nZmZmZmYAwA==",
          "dtype": "f8"
         }
        },
        {
         "color": "gray",
         "i": {
          "bdata": "AQICBAQGBgEDAAQE",
          "dtype": "i1"
         },
         "j": {
          "bdata": "AAEDAgUEBwYABwEG",
          "dtype": "i1"
         },
         "k": {
          "bdata": "AwMFBQcHAAAFBQIB",
          "dtype": "i1"
         },
         "name": "IfcFooting",
         "opacity": 0.6,
         "type": "mesh3d",
         "x": {
          "bdata": "8Ij5KodyLkDwiPkqh3IuQPCI+SqHcitA8Ij5KodyK0DwiPkqh3IrQPCI+SqHcitA8Ij5KodyLkDwiPkqh3IuQA==",
          "dtype": "f8"
         },
         "y": {
          "bdata": "vHCNJBARyr+8cI0kEBHKv7xwjSQQEcq/vHCNJBARyr8WrpEEIkL7vxaukQQiQvu/Fq6RBCJC+78WrpEEIkL7vw==",
          "dtype": "f8"
         },
         "z": {
          "bdata": "Z2ZmZmZmAMCbmZmZmZn5v5uZmZmZmfm/Z2ZmZmZmAMCbmZmZmZn5v2dmZmZmZgDAm5mZmZmZ+b9nZmZmZmYAwA==",
          "dtype": "f8"
         }
        },
        {
         "color": "gray",
         "i": {
          "bdata": "AQICBAQGBgEDAAQE",
          "dtype": "i1"
         },
         "j": {
          "bdata": "AAEDAgUEBwYABwEG",
          "dtype": "i1"
         },
         "k": {
          "bdata": "AwMFBQcHAAAFBQIB",
          "dtype": "i1"
         },
         "name": "IfcFooting",
         "opacity": 0.6,
         "type": "mesh3d",
         "x": {
          "bdata": "0D0f+n6K8b/QPR/6forxv+ieD30/xQTA6J4PfT/FBMDong99P8UEwOieD30/xQTA0D0f+n6K8b/QPR/6forxvw==",
          "dtype": "f8"
         },
         "y": {
          "bdata": "Ia5sPRt4BsAhrmw9G3gGwCGubD0beAbAIa5sPRt4BsAQV7aeDTwRwBBXtp4NPBHAEFe2ng08EcAQV7aeDTwRwA==",
          "dtype": "f8"
         },
         "z": {
          "bdata": "Z2ZmZmZmAMCbmZmZmZn5v5uZmZmZmfm/Z2ZmZmZmAMCbmZmZmZn5v2dmZmZmZgDAm5mZmZmZ+b9nZmZmZmYAwA==",
          "dtype": "f8"
         }
        },
        {
         "color": "gray",
         "i": {
          "bdata": "AQICBAQGBgEDAAQE",
          "dtype": "i1"
         },
         "j": {
          "bdata": "AAEDAgUEBwYABwEG",
          "dtype": "i1"
         },
         "k": {
          "bdata": "AwMFBQcHAAAFBQIB",
          "dtype": "i1"
         },
         "name": "IfcFooting",
         "opacity": 0.6,
         "type": "mesh3d",
         "x": {
          "bdata": "Wf1EDi1qEUBZ/UQOLWoRQLL6iRxa1AZAsvqJHFrUBkCy+okcWtQGQLL6iRxa1AZAWf1EDi1qEUBZ/UQOLWoRQA==",
          "dtype": "f8"
         },
         "y": {
          "bdata": "SK5sPRt4BsBIrmw9G3gGwEiubD0beAbASK5sPRt4BsAkV7aeDTwRwCRXtp4NPBHAJFe2ng08EcAkV7aeDTwRwA==",
          "dtype": "f8"
         },
         "z": {
          "bdata": "Z2ZmZmZmAMCbmZmZmZn5v5uZmZmZmfm/Z2ZmZmZmAMCbmZmZmZn5v2dmZmZmZgDAm5mZmZmZ+b9nZmZmZmYAwA==",
          "dtype": "f8"
         }
        },
        {
         "color": "gray",
         "i": {
          "bdata": "AQICBAQGBgEDAAQE",
          "dtype": "i1"
         },
         "j": {
          "bdata": "AAEDAgUEBwYABwEG",
          "dtype": "i1"
         },
         "k": {
          "bdata": "AwMFBQcHAAAFBQIB",
          "dtype": "i1"
         },
         "name": "IfcFooting",
         "opacity": 0.6,
         "type": "mesh3d",
         "x": {
          "bdata": "FuWI7XybI0AW5YjtfJsjQBbliO18myBAFuWI7XybIEAW5YjtfJsgQBbliO18myBAFuWI7XybI0AW5YjtfJsjQA==",
          "dtype": "f8"
         },
         "y": {
          "bdata": "SK5sPRt4BsBIrmw9G3gGwEiubD0beAbASK5sPRt4BsAkV7aeDTwRwCRXtp4NPBHAJFe2ng08EcAkV7aeDTwRwA==",
          "dtype": "f8"
         },
         "z": {
          "bdata": "Z2ZmZmZmAMCbmZmZmZn5v5uZmZmZmfm/Z2ZmZmZmAMCbmZmZmZn5v2dmZmZmZgDAm5mZmZmZ+b9nZmZmZmYAwA==",
          "dtype": "f8"
         }
        },
        {
         "color": "gray",
         "i": {
          "bdata": "AQICBAQGBgEDAAQE",
          "dtype": "i1"
         },
         "j": {
          "bdata": "AAEDAgUEBwYABwEG",
          "dtype": "i1"
         },
         "k": {
          "bdata": "AwMFBQcHAAAFBQIB",
          "dtype": "i1"
         },
         "name": "IfcFooting",
         "opacity": 0.6,
         "type": "mesh3d",
         "x": {
          "bdata": "e0vvU+OBLkB7S+9T44EuQHtL71PjgStAe0vvU+OBK0B7S+9T44ErQHtL71PjgStAe0vvU+OBLkB7S+9T44EuQA==",
          "dtype": "f8"
         },
         "y": {
          "bdata": "ma5sPRt4BsCZrmw9G3gGwJmubD0beAbAma5sPRt4BsBMV7aeDTwRwExXtp4NPBHATFe2ng08EcBMV7aeDTwRwA==",
          "dtype": "f8"
         },
         "z": {
          "bdata": "Z2ZmZmZmAMCbmZmZmZn5v5uZmZmZmfm/Z2ZmZmZmAMCbmZmZmZn5v2dmZmZmZgDAm5mZmZmZ+b9nZmZmZmYAwA==",
          "dtype": "f8"
         }
        }
       ],
       "layout": {
        "scene": {
         "xaxis": {
          "title": {
           "text": "X"
          }
         },
         "yaxis": {
          "title": {
           "text": "Y"
          }
         },
         "zaxis": {
          "title": {
           "text": "Z"
          }
         }
        },
        "template": {
         "data": {
          "bar": [
           {
            "error_x": {
             "color": "#2a3f5f"
            },
            "error_y": {
             "color": "#2a3f5f"
            },
            "marker": {
             "line": {
              "color": "#E5ECF6",
              "width": 0.5
             },
             "pattern": {
              "fillmode": "overlay",
              "size": 10,
              "solidity": 0.2
             }
            },
            "type": "bar"
           }
          ],
          "barpolar": [
           {
            "marker": {
             "line": {
              "color": "#E5ECF6",
              "width": 0.5
             },
             "pattern": {
              "fillmode": "overlay",
              "size": 10,
              "solidity": 0.2
             }
            },
            "type": "barpolar"
           }
          ],
          "carpet": [
           {
            "aaxis": {
             "endlinecolor": "#2a3f5f",
             "gridcolor": "white",
             "linecolor": "white",
             "minorgridcolor": "white",
             "startlinecolor": "#2a3f5f"
            },
            "baxis": {
             "endlinecolor": "#2a3f5f",
             "gridcolor": "white",
             "linecolor": "white",
             "minorgridcolor": "white",
             "startlinecolor": "#2a3f5f"
            },
            "type": "carpet"
           }
          ],
          "choropleth": [
           {
            "colorbar": {
             "outlinewidth": 0,
             "ticks": ""
            },
            "type": "choropleth"
           }
          ],
          "contour": [
           {
            "colorbar": {
             "outlinewidth": 0,
             "ticks": ""
            },
            "colorscale": [
             [
              0,
              "#0d0887"
             ],
             [
              0.1111111111111111,
              "#46039f"
             ],
             [
              0.2222222222222222,
              "#7201a8"
             ],
             [
              0.3333333333333333,
              "#9c179e"
             ],
             [
              0.4444444444444444,
              "#bd3786"
             ],
             [
              0.5555555555555556,
              "#d8576b"
             ],
             [
              0.6666666666666666,
              "#ed7953"
             ],
             [
              0.7777777777777778,
              "#fb9f3a"
             ],
             [
              0.8888888888888888,
              "#fdca26"
             ],
             [
              1,
              "#f0f921"
             ]
            ],
            "type": "contour"
           }
          ],
          "contourcarpet": [
           {
            "colorbar": {
             "outlinewidth": 0,
             "ticks": ""
            },
            "type": "contourcarpet"
           }
          ],
          "heatmap": [
           {
            "colorbar": {
             "outlinewidth": 0,
             "ticks": ""
            },
            "colorscale": [
             [
              0,
              "#0d0887"
             ],
             [
              0.1111111111111111,
              "#46039f"
             ],
             [
              0.2222222222222222,
              "#7201a8"
             ],
             [
              0.3333333333333333,
              "#9c179e"
             ],
             [
              0.4444444444444444,
              "#bd3786"
             ],
             [
              0.5555555555555556,
              "#d8576b"
             ],
             [
              0.6666666666666666,
              "#ed7953"
             ],
             [
              0.7777777777777778,
              "#fb9f3a"
             ],
             [
              0.8888888888888888,
              "#fdca26"
             ],
             [
              1,
              "#f0f921"
             ]
            ],
            "type": "heatmap"
           }
          ],
          "histogram": [
           {
            "marker": {
             "pattern": {
              "fillmode": "overlay",
              "size": 10,
              "solidity": 0.2
             }
            },
            "type": "histogram"
           }
          ],
          "histogram2d": [
           {
            "colorbar": {
             "outlinewidth": 0,
             "ticks": ""
            },
            "colorscale": [
             [
              0,
              "#0d0887"
             ],
             [
              0.1111111111111111,
              "#46039f"
             ],
             [
              0.2222222222222222,
              "#7201a8"
             ],
             [
              0.3333333333333333,
              "#9c179e"
             ],
             [
              0.4444444444444444,
              "#bd3786"
             ],
             [
              0.5555555555555556,
              "#d8576b"
             ],
             [
              0.6666666666666666,
              "#ed7953"
             ],
             [
              0.7777777777777778,
              "#fb9f3a"
             ],
             [
              0.8888888888888888,
              "#fdca26"
             ],
             [
              1,
              "#f0f921"
             ]
            ],
            "type": "histogram2d"
           }
          ],
          "histogram2dcontour": [
           {
            "colorbar": {
             "outlinewidth": 0,
             "ticks": ""
            },
            "colorscale": [
             [
              0,
              "#0d0887"
             ],
             [
              0.1111111111111111,
              "#46039f"
             ],
             [
              0.2222222222222222,
              "#7201a8"
             ],
             [
              0.3333333333333333,
              "#9c179e"
             ],
             [
              0.4444444444444444,
              "#bd3786"
             ],
             [
              0.5555555555555556,
              "#d8576b"
             ],
             [
              0.6666666666666666,
              "#ed7953"
             ],
             [
              0.7777777777777778,
              "#fb9f3a"
             ],
             [
              0.8888888888888888,
              "#fdca26"
             ],
             [
              1,
              "#f0f921"
             ]
            ],
            "type": "histogram2dcontour"
           }
          ],
          "mesh3d": [
           {
            "colorbar": {
             "outlinewidth": 0,
             "ticks": ""
            },
            "type": "mesh3d"
           }
          ],
          "parcoords": [
           {
            "line": {
             "colorbar": {
              "outlinewidth": 0,
              "ticks": ""
             }
            },
            "type": "parcoords"
           }
          ],
          "pie": [
           {
            "automargin": true,
            "type": "pie"
           }
          ],
          "scatter": [
           {
            "fillpattern": {
             "fillmode": "overlay",
             "size": 10,
             "solidity": 0.2
            },
            "type": "scatter"
           }
          ],
          "scatter3d": [
           {
            "line": {
             "colorbar": {
              "outlinewidth": 0,
              "ticks": ""
             }
            },
            "marker": {
             "colorbar": {
              "outlinewidth": 0,
              "ticks": ""
             }
            },
            "type": "scatter3d"
           }
          ],
          "scattercarpet": [
           {
            "marker": {
             "colorbar": {
              "outlinewidth": 0,
              "ticks": ""
             }
            },
            "type": "scattercarpet"
           }
          ],
          "scattergeo": [
           {
            "marker": {
             "colorbar": {
              "outlinewidth": 0,
              "ticks": ""
             }
            },
            "type": "scattergeo"
           }
          ],
          "scattergl": [
           {
            "marker": {
             "colorbar": {
              "outlinewidth": 0,
              "ticks": ""
             }
            },
            "type": "scattergl"
           }
          ],
          "scattermap": [
           {
            "marker": {
             "colorbar": {
              "outlinewidth": 0,
              "ticks": ""
             }
            },
            "type": "scattermap"
           }
          ],
          "scattermapbox": [
           {
            "marker": {
             "colorbar": {
              "outlinewidth": 0,
              "ticks": ""
             }
            },
            "type": "scattermapbox"
           }
          ],
          "scatterpolar": [
           {
            "marker": {
             "colorbar": {
              "outlinewidth": 0,
              "ticks": ""
             }
            },
            "type": "scatterpolar"
           }
          ],
          "scatterpolargl": [
           {
            "marker": {
             "colorbar": {
              "outlinewidth": 0,
              "ticks": ""
             }
            },
            "type": "scatterpolargl"
           }
          ],
          "scatterternary": [
           {
            "marker": {
             "colorbar": {
              "outlinewidth": 0,
              "ticks": ""
             }
            },
            "type": "scatterternary"
           }
          ],
          "surface": [
           {
            "colorbar": {
             "outlinewidth": 0,
             "ticks": ""
            },
            "colorscale": [
             [
              0,
              "#0d0887"
             ],
             [
              0.1111111111111111,
              "#46039f"
             ],
             [
              0.2222222222222222,
              "#7201a8"
             ],
             [
              0.3333333333333333,
              "#9c179e"
             ],
             [
              0.4444444444444444,
              "#bd3786"
             ],
             [
              0.5555555555555556,
              "#d8576b"
             ],
             [
              0.6666666666666666,
              "#ed7953"
             ],
             [
              0.7777777777777778,
              "#fb9f3a"
             ],
             [
              0.8888888888888888,
              "#fdca26"
             ],
             [
              1,
              "#f0f921"
             ]
            ],
            "type": "surface"
           }
          ],
          "table": [
           {
            "cells": {
             "fill": {
              "color": "#EBF0F8"
             },
             "line": {
              "color": "white"
             }
            },
            "header": {
             "fill": {
              "color": "#C8D4E3"
             },
             "line": {
              "color": "white"
             }
            },
            "type": "table"
           }
          ]
         },
         "layout": {
          "annotationdefaults": {
           "arrowcolor": "#2a3f5f",
           "arrowhead": 0,
           "arrowwidth": 1
          },
          "autotypenumbers": "strict",
          "coloraxis": {
           "colorbar": {
            "outlinewidth": 0,
            "ticks": ""
           }
          },
          "colorscale": {
           "diverging": [
            [
             0,
             "#8e0152"
            ],
            [
             0.1,
             "#c51b7d"
            ],
            [
             0.2,
             "#de77ae"
            ],
            [
             0.3,
             "#f1b6da"
            ],
            [
             0.4,
             "#fde0ef"
            ],
            [
             0.5,
             "#f7f7f7"
            ],
            [
             0.6,
             "#e6f5d0"
            ],
            [
             0.7,
             "#b8e186"
            ],
            [
             0.8,
             "#7fbc41"
            ],
            [
             0.9,
             "#4d9221"
            ],
            [
             1,
             "#276419"
            ]
           ],
           "sequential": [
            [
             0,
             "#0d0887"
            ],
            [
             0.1111111111111111,
             "#46039f"
            ],
            [
             0.2222222222222222,
             "#7201a8"
            ],
            [
             0.3333333333333333,
             "#9c179e"
            ],
            [
             0.4444444444444444,
             "#bd3786"
            ],
            [
             0.5555555555555556,
             "#d8576b"
            ],
            [
             0.6666666666666666,
             "#ed7953"
            ],
            [
             0.7777777777777778,
             "#fb9f3a"
            ],
            [
             0.8888888888888888,
             "#fdca26"
            ],
            [
             1,
             "#f0f921"
            ]
           ],
           "sequentialminus": [
            [
             0,
             "#0d0887"
            ],
            [
             0.1111111111111111,
             "#46039f"
            ],
            [
             0.2222222222222222,
             "#7201a8"
            ],
            [
             0.3333333333333333,
             "#9c179e"
            ],
            [
             0.4444444444444444,
             "#bd3786"
            ],
            [
             0.5555555555555556,
             "#d8576b"
            ],
            [
             0.6666666666666666,
             "#ed7953"
            ],
            [
             0.7777777777777778,
             "#fb9f3a"
            ],
            [
             0.8888888888888888,
             "#fdca26"
            ],
            [
             1,
             "#f0f921"
            ]
           ]
          },
          "colorway": [
           "#636efa",
           "#EF553B",
           "#00cc96",
           "#ab63fa",
           "#FFA15A",
           "#19d3f3",
           "#FF6692",
           "#B6E880",
           "#FF97FF",
           "#FECB52"
          ],
          "font": {
           "color": "#2a3f5f"
          },
          "geo": {
           "bgcolor": "white",
           "lakecolor": "white",
           "landcolor": "#E5ECF6",
           "showlakes": true,
           "showland": true,
           "subunitcolor": "white"
          },
          "hoverlabel": {
           "align": "left"
          },
          "hovermode": "closest",
          "mapbox": {
           "style": "light"
          },
          "paper_bgcolor": "white",
          "plot_bgcolor": "#E5ECF6",
          "polar": {
           "angularaxis": {
            "gridcolor": "white",
            "linecolor": "white",
            "ticks": ""
           },
           "bgcolor": "#E5ECF6",
           "radialaxis": {
            "gridcolor": "white",
            "linecolor": "white",
            "ticks": ""
           }
          },
          "scene": {
           "xaxis": {
            "backgroundcolor": "#E5ECF6",
            "gridcolor": "white",
            "gridwidth": 2,
            "linecolor": "white",
            "showbackground": true,
            "ticks": "",
            "zerolinecolor": "white"
           },
           "yaxis": {
            "backgroundcolor": "#E5ECF6",
            "gridcolor": "white",
            "gridwidth": 2,
            "linecolor": "white",
            "showbackground": true,
            "ticks": "",
            "zerolinecolor": "white"
           },
           "zaxis": {
            "backgroundcolor": "#E5ECF6",
            "gridcolor": "white",
            "gridwidth": 2,
            "linecolor": "white",
            "showbackground": true,
            "ticks": "",
            "zerolinecolor": "white"
           }
          },
          "shapedefaults": {
           "line": {
            "color": "#2a3f5f"
           }
          },
          "ternary": {
           "aaxis": {
            "gridcolor": "white",
            "linecolor": "white",
            "ticks": ""
           },
           "baxis": {
            "gridcolor": "white",
            "linecolor": "white",
            "ticks": ""
           },
           "bgcolor": "#E5ECF6",
           "caxis": {
            "gridcolor": "white",
            "linecolor": "white",
            "ticks": ""
           }
          },
          "title": {
           "x": 0.05
          },
          "xaxis": {
           "automargin": true,
           "gridcolor": "white",
           "linecolor": "white",
           "ticks": "",
           "title": {
            "standoff": 15
           },
           "zerolinecolor": "white",
           "zerolinewidth": 2
          },
          "yaxis": {
           "automargin": true,
           "gridcolor": "white",
           "linecolor": "white",
           "ticks": "",
           "title": {
            "standoff": 15
           },
           "zerolinecolor": "white",
           "zerolinewidth": 2
          }
         }
        },
        "title": {
         "text": "IFC Structural Model"
        }
       }
      }
     },
     "metadata": {},
     "output_type": "display_data"
    }
   ],
   "source": [
    "from ifc_openseespy_linker.core import IFCtoOpenSeesConverter\n",
    "\n",
    "converter = IFCtoOpenSeesConverter()\n",
    "converter.load_ifc('sample_models/CASA TIPO 11111.ifc')\n",
    "structural_elements = converter.extract_structural_elements()\n",
    "print(f\"Extracted elements: {len(structural_elements)}\")\n",
    "print(\"Element types:\", {elem['type'] for elem in structural_elements.values()})\n",
    "converter.visualize_model()"
   ]
  }
 ],
 "metadata": {
  "kernelspec": {
   "display_name": "Python 3",
   "language": "python",
   "name": "python3"
  },
  "language_info": {
   "codemirror_mode": {
    "name": "ipython",
    "version": 3
   },
   "file_extension": ".py",
   "mimetype": "text/x-python",
   "name": "python",
   "nbconvert_exporter": "python",
   "pygments_lexer": "ipython3",
   "version": "3.12.4"
  }
 },
 "nbformat": 4,
 "nbformat_minor": 5
}
